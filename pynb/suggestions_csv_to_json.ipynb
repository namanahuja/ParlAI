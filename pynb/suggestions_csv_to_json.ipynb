{
 "cells": [
  {
   "cell_type": "code",
   "execution_count": 9,
   "metadata": {},
   "outputs": [],
   "source": [
    "import csv\n",
    "import json\n"
   ]
  },
  {
   "cell_type": "code",
   "execution_count": 10,
   "metadata": {},
   "outputs": [],
   "source": [
    "with open('Batch_3929459_batch_results.csv') as f:\n",
    "    reader = csv.DictReader(f)\n",
    "    rows = list(reader)\n",
    "\n"
   ]
  },
  {
   "cell_type": "code",
   "execution_count": 11,
   "metadata": {},
   "outputs": [],
   "source": [
    "with open('Batch_3930148_batch_results.csv') as f:\n",
    "    reader = csv.DictReader(f)\n",
    "    newRows = list(reader)\n",
    "\n"
   ]
  },
  {
   "cell_type": "code",
   "execution_count": 12,
   "metadata": {},
   "outputs": [
    {
     "name": "stdout",
     "output_type": "stream",
     "text": [
      "1137\n",
      "135\n",
      "1272\n"
     ]
    }
   ],
   "source": [
    "print(len(rows))\n",
    "print(len(newRows))\n",
    "\n",
    "rows.extend(newRows)\n",
    "\n",
    "print(len(rows))\n"
   ]
  },
  {
   "cell_type": "code",
   "execution_count": 13,
   "metadata": {},
   "outputs": [
    {
     "name": "stdout",
     "output_type": "stream",
     "text": [
      "1272\n"
     ]
    }
   ],
   "source": [
    "allData = []\n",
    "\n",
    "for row in rows:\n",
    "    dataObj = {}\n",
    "    \n",
    "    for key in row:\n",
    "        \n",
    "        if key in ['WorkTimeInSeconds', 'Input.suggIndex', 'Input.contextLen', 'Input.fileIndex', \n",
    "                   'Answer.Fluency.Slightly Natural', 'Answer.Fluency.Slightly Unnatural', \n",
    "                   'Answer.Fluency.Very Natural', 'Answer.Fluency.Very Unnatural', \n",
    "                   'Answer.Humanness.Definitely a bot', 'Answer.Humanness.Definitely a human', \n",
    "                   'Answer.Humanness.More likely a bot', 'Answer.Humanness.More likely a human', \n",
    "                   'Answer.Informativeness.Slightly Insufficient', 'Answer.Informativeness.Slightly Sufficient', \n",
    "                   'Answer.Informativeness.Very Insufficient', 'Answer.Informativeness.Very Sufficient', \n",
    "                   'Answer.Interestingness.Slightly Boring', 'Answer.Interestingness.Slightly Interesting', \n",
    "                   'Answer.Interestingness.Very Boring', 'Answer.Interestingness.Very Interesting']:\n",
    "            \n",
    "            dataObj[key] = row[key]\n",
    "    allData.append(dataObj)\n",
    "\n",
    "print(len(allData))\n",
    "with open('suggestionsJudgement.json', 'w') as f:\n",
    "    json.dump(allData, f, indent=4)"
   ]
  },
  {
   "cell_type": "code",
   "execution_count": null,
   "metadata": {},
   "outputs": [],
   "source": []
  },
  {
   "cell_type": "code",
   "execution_count": null,
   "metadata": {},
   "outputs": [],
   "source": []
  }
 ],
 "metadata": {
  "kernelspec": {
   "display_name": "Python 3",
   "language": "python",
   "name": "python3"
  },
  "language_info": {
   "codemirror_mode": {
    "name": "ipython",
    "version": 3
   },
   "file_extension": ".py",
   "mimetype": "text/x-python",
   "name": "python",
   "nbconvert_exporter": "python",
   "pygments_lexer": "ipython3",
   "version": "3.7.4"
  }
 },
 "nbformat": 4,
 "nbformat_minor": 2
}
