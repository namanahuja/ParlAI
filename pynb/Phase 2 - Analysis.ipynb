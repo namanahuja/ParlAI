{
 "cells": [
  {
   "cell_type": "code",
   "execution_count": 43,
   "metadata": {},
   "outputs": [],
   "source": [
    "import os\n",
    "from pathlib import Path\n",
    "import sys\n",
    "import os\n",
    "import _pickle as pickle\n",
    "import json\n",
    "import copy \n",
    "import pandas\n",
    "import numpy as np\n",
    "import matplotlib.pyplot as plt \n",
    "from matplotlib.backends.backend_pdf import PdfPages\n",
    "import csv\n",
    "import json\n",
    "from collections import Counter"
   ]
  },
  {
   "cell_type": "code",
   "execution_count": 44,
   "metadata": {},
   "outputs": [],
   "source": [
    "with open('responseJudgement.json') as json_file:\n",
    "    data = json.load(json_file)\n"
   ]
  },
  {
   "cell_type": "code",
   "execution_count": 45,
   "metadata": {},
   "outputs": [],
   "source": [
    "nonverificationTasks = [x for x in data if x['Input.contextLen'] != '-1']"
   ]
  },
  {
   "cell_type": "code",
   "execution_count": 46,
   "metadata": {},
   "outputs": [],
   "source": [
    "verificationTasks = [x for x in data if x['Input.contextLen'] == '-1']"
   ]
  },
  {
   "cell_type": "code",
   "execution_count": 47,
   "metadata": {},
   "outputs": [
    {
     "data": {
      "text/plain": [
       "0"
      ]
     },
     "execution_count": 47,
     "metadata": {},
     "output_type": "execute_result"
    }
   ],
   "source": [
    "len(verificationTasks)"
   ]
  },
  {
   "cell_type": "code",
   "execution_count": 5,
   "metadata": {
    "scrolled": true
   },
   "outputs": [
    {
     "data": {
      "text/plain": [
       "{'HITId': '367O8HRHKIEQRLKL1GF6UGQ0U1AS4P',\n",
       " 'HITTypeId': '3EAC8D5G64G8Y75P7FXTSOT4QKK6OX',\n",
       " 'AssignmentId': '3RRCEFRB7PITXJ1DHWYDTABMFL9B4A',\n",
       " 'WorkerId': 'A8XVXWYFFCRIW',\n",
       " 'WorkTimeInSeconds': '391',\n",
       " 'Input.fileName': 'badFile',\n",
       " 'Input.localIndex': '-1',\n",
       " 'Input.contextLen': '-1',\n",
       " 'Input.fileIndex': '-1',\n",
       " 'Answer.Correctness.Agree': 'false',\n",
       " 'Answer.Correctness.Disagree': 'true',\n",
       " 'Answer.Correctness.Neutral': 'false',\n",
       " 'Answer.Correctness.Strongly Agree': 'false',\n",
       " 'Answer.Correctness.Strongly Disagree': 'false',\n",
       " 'Answer.Fluent.Agree': 'false',\n",
       " 'Answer.Fluent.Disagree': 'true',\n",
       " 'Answer.Fluent.Neutral': 'false',\n",
       " 'Answer.Fluent.Strongly Agree': 'false',\n",
       " 'Answer.Fluent.Strongly Disagree': 'false',\n",
       " 'Answer.Interestingness.Agree': 'false',\n",
       " 'Answer.Interestingness.Disagree': 'true',\n",
       " 'Answer.Interestingness.Neutral': 'false',\n",
       " 'Answer.Interestingness.Strongly Agree': 'false',\n",
       " 'Answer.Interestingness.Strongly Disagree': 'false',\n",
       " 'Answer.Logical.Agree': 'false',\n",
       " 'Answer.Logical.Disagree': 'true',\n",
       " 'Answer.Logical.Neutral': 'false',\n",
       " 'Answer.Logical.Strongly Agree': 'false',\n",
       " 'Answer.Logical.Strongly Disagree': 'false',\n",
       " 'Answer.Quality.1 (Very Poor)': 'false',\n",
       " 'Answer.Quality.2 (Poor)': 'true',\n",
       " 'Answer.Quality.3 (Okay)': 'false',\n",
       " 'Answer.Quality.4 (Good)': 'false',\n",
       " 'Answer.Quality.5 (Very Good)': 'false',\n",
       " 'Answer.Realness.Agree': 'true',\n",
       " 'Answer.Realness.Disagree': 'false',\n",
       " 'Answer.Realness.Neutral': 'false',\n",
       " 'Answer.Realness.Strongly Agree': 'false',\n",
       " 'Answer.Realness.Strongly Disagree': 'false',\n",
       " 'Answer.Usefulness.Agree': 'false',\n",
       " 'Answer.Usefulness.Disagree': 'false',\n",
       " 'Answer.Usefulness.Neutral': 'false',\n",
       " 'Answer.Usefulness.Strongly Agree': 'false',\n",
       " 'Answer.Usefulness.Strongly Disagree': 'true'}"
      ]
     },
     "execution_count": 5,
     "metadata": {},
     "output_type": "execute_result"
    }
   ],
   "source": [
    "verificationTasks[1]"
   ]
  },
  {
   "cell_type": "code",
   "execution_count": null,
   "metadata": {},
   "outputs": [],
   "source": []
  },
  {
   "cell_type": "code",
   "execution_count": null,
   "metadata": {},
   "outputs": [],
   "source": []
  },
  {
   "cell_type": "code",
   "execution_count": null,
   "metadata": {},
   "outputs": [],
   "source": []
  },
  {
   "cell_type": "code",
   "execution_count": 6,
   "metadata": {},
   "outputs": [],
   "source": [
    "correctness = []\n",
    "fluent = []\n",
    "interestingness = []\n",
    "logical = []\n",
    "quality = []\n",
    "realness = []\n",
    "usefulness = []\n",
    "\n",
    "for task in verificationTasks:\n",
    "    for key in task:\n",
    "        if('Answer.Correctness' in key and task[key] == 'true'):\n",
    "            correctness.append(key.split(\".\")[-1])\n",
    "            \n",
    "        if('Answer.Fluent' in key and task[key] == 'true'):\n",
    "            fluent.append(key.split(\".\")[-1])\n",
    "            \n",
    "        if('Answer.Interestingness' in key and task[key] == 'true'):\n",
    "            interestingness.append(key.split(\".\")[-1])\n",
    "            \n",
    "        if('Answer.Logical' in key and task[key] == 'true'):\n",
    "            logical.append(key.split(\".\")[-1])\n",
    "            \n",
    "        if('Answer.Quality' in key and task[key] == 'true'):\n",
    "            quality.append(key.split(\".\")[-1])\n",
    "            \n",
    "        if('Answer.Realness' in key and task[key] == 'true'):\n",
    "            realness.append(key.split(\".\")[-1])\n",
    "            \n",
    "        if('Answer.Usefulness' in key and task[key] == 'true'):\n",
    "            usefulness.append(key.split(\".\")[-1])\n",
    "            \n",
    "\n",
    "\n",
    "types = {\n",
    "    'Correctness': correctness,\n",
    "    'Fluent': fluent,\n",
    "    'Interestingness': interestingness,\n",
    "    'Logical': logical,\n",
    "    'Quality': quality,\n",
    "    'Realness': realness,\n",
    "    'Usefulness': usefulness\n",
    "         }"
   ]
  },
  {
   "cell_type": "code",
   "execution_count": null,
   "metadata": {},
   "outputs": [],
   "source": []
  },
  {
   "cell_type": "code",
   "execution_count": null,
   "metadata": {},
   "outputs": [],
   "source": []
  },
  {
   "cell_type": "code",
   "execution_count": null,
   "metadata": {},
   "outputs": [],
   "source": []
  },
  {
   "cell_type": "code",
   "execution_count": 7,
   "metadata": {},
   "outputs": [
    {
     "name": "stdout",
     "output_type": "stream",
     "text": [
      "Populating the interactive namespace from numpy and matplotlib\n"
     ]
    },
    {
     "name": "stderr",
     "output_type": "stream",
     "text": [
      "/home/naman/anaconda3/lib/python3.7/site-packages/IPython/core/magics/pylab.py:160: UserWarning: pylab import has clobbered these variables: ['copy']\n",
      "`%matplotlib` prevents importing * from pylab and numpy\n",
      "  \"\\n`%matplotlib` prevents importing * from pylab and numpy\"\n"
     ]
    }
   ],
   "source": [
    "%pylab inline\n",
    "pylab.rcParams['figure.figsize'] = (10, 6)"
   ]
  },
  {
   "cell_type": "code",
   "execution_count": 8,
   "metadata": {},
   "outputs": [],
   "source": [
    "labels = []\n",
    "values = []\n",
    "name = []\n",
    "for k in types:\n",
    "    vals = types[k]\n",
    "    keys, counts = np.unique(vals, return_counts=True)\n",
    "    labels.append(keys)\n",
    "    values.append(counts)\n",
    "    name.append(k)\n"
   ]
  },
  {
   "cell_type": "code",
   "execution_count": 9,
   "metadata": {},
   "outputs": [
    {
     "name": "stdout",
     "output_type": "stream",
     "text": [
      "Correctness\n",
      "['Agree' 'Disagree' 'Neutral' 'Strongly Agree' 'Strongly Disagree']\n",
      "[ 267  357  348   36 2166]\n",
      "Fluent\n",
      "['Agree' 'Disagree' 'Neutral' 'Strongly Agree' 'Strongly Disagree']\n",
      "[ 570  345  695  329 1235]\n",
      "Interestingness\n",
      "['Agree' 'Disagree' 'Neutral' 'Strongly Agree' 'Strongly Disagree']\n",
      "[  95  399  374   29 2277]\n",
      "Logical\n",
      "['Agree' 'Disagree' 'Neutral' 'Strongly Agree' 'Strongly Disagree']\n",
      "[  57  425  250   14 2428]\n",
      "Quality\n",
      "['1 (Very Poor)' '2 (Poor)' '3 (Okay)' '4 (Good)' '5 (Very Good)']\n",
      "[2363  394  303   97   17]\n",
      "Realness\n",
      "['Agree' 'Disagree' 'Neutral' 'Strongly Agree' 'Strongly Disagree']\n",
      "[  83  472  530   67 2022]\n",
      "Usefulness\n",
      "['Agree' 'Disagree' 'Neutral' 'Strongly Agree' 'Strongly Disagree']\n",
      "[  78  393  212    4 2487]\n"
     ]
    }
   ],
   "source": [
    "for i in range(len(name)):\n",
    "    print(name[i])\n",
    "    print(labels[i])\n",
    "    print(values[i])"
   ]
  },
  {
   "cell_type": "code",
   "execution_count": null,
   "metadata": {},
   "outputs": [],
   "source": []
  },
  {
   "cell_type": "code",
   "execution_count": null,
   "metadata": {},
   "outputs": [],
   "source": []
  },
  {
   "cell_type": "code",
   "execution_count": null,
   "metadata": {},
   "outputs": [],
   "source": []
  },
  {
   "cell_type": "code",
   "execution_count": 10,
   "metadata": {},
   "outputs": [
    {
     "data": {
      "image/png": "[encoded data removed]",
      "text/plain": [
       "<Figure size 720x432 with 1 Axes>"
      ]
     },
     "metadata": {
      "needs_background": "light"
     },
     "output_type": "display_data"
    },
    {
     "data": {
      "image/png": "[encoded data removed]",
      "text/plain": [
       "<Figure size 720x432 with 1 Axes>"
      ]
     },
     "metadata": {
      "needs_background": "light"
     },
     "output_type": "display_data"
    },
    {
     "data": {
      "image/png": "[encoded data removed]",
      "text/plain": [
       "<Figure size 720x432 with 1 Axes>"
      ]
     },
     "metadata": {
      "needs_background": "light"
     },
     "output_type": "display_data"
    },
    {
     "data": {
      "image/png": "[encoded data removed]",
      "text/plain": [
       "<Figure size 720x432 with 1 Axes>"
      ]
     },
     "metadata": {
      "needs_background": "light"
     },
     "output_type": "display_data"
    },
    {
     "data": {
      "image/png": "[encoded data removed]",
      "text/plain": [
       "<Figure size 720x432 with 1 Axes>"
      ]
     },
     "metadata": {
      "needs_background": "light"
     },
     "output_type": "display_data"
    },
    {
     "data": {
      "image/png": "[encoded data removed]",
      "text/plain": [
       "<Figure size 720x432 with 1 Axes>"
      ]
     },
     "metadata": {
      "needs_background": "light"
     },
     "output_type": "display_data"
    },
    {
     "data": {
      "image/png": "[encoded data removed]",
      "text/plain": [
       "<Figure size 720x432 with 1 Axes>"
      ]
     },
     "metadata": {
      "needs_background": "light"
     },
     "output_type": "display_data"
    }
   ],
   "source": [
    "for i in range(len(name)):\n",
    "    plt.bar(labels[i], values[i])\n",
    "    plt.title(name[i])\n",
    "    figName = name[i] + '.png'\n",
    "    plt.savefig(figName)\n",
    "    plt.show()"
   ]
  },
  {
   "cell_type": "code",
   "execution_count": null,
   "metadata": {},
   "outputs": [],
   "source": []
  },
  {
   "cell_type": "code",
   "execution_count": null,
   "metadata": {},
   "outputs": [],
   "source": []
  },
  {
   "cell_type": "code",
   "execution_count": null,
   "metadata": {},
   "outputs": [],
   "source": []
  },
  {
   "cell_type": "code",
   "execution_count": 11,
   "metadata": {},
   "outputs": [
    {
     "data": {
      "text/plain": [
       "3174"
      ]
     },
     "execution_count": 11,
     "metadata": {},
     "output_type": "execute_result"
    }
   ],
   "source": [
    "len(verificationTasks)"
   ]
  },
  {
   "cell_type": "code",
   "execution_count": 12,
   "metadata": {},
   "outputs": [
    {
     "data": {
      "text/plain": [
       "2710"
      ]
     },
     "execution_count": 12,
     "metadata": {},
     "output_type": "execute_result"
    }
   ],
   "source": [
    "filtered = [x for x in verificationTasks if (x['Answer.Usefulness.Strongly Disagree'] == 'true' or x['Answer.Usefulness.Disagree'] == 'true') and (x['Answer.Logical.Strongly Disagree'] == 'true'or x['Answer.Logical.Disagree'] == 'true') and (x['Answer.Quality.1 (Very Poor)'] == 'true' or x['Answer.Quality.2 (Poor)'] == 'true')]\n",
    "len(filtered)"
   ]
  },
  {
   "cell_type": "code",
   "execution_count": 13,
   "metadata": {},
   "outputs": [
    {
     "data": {
      "text/plain": [
       "2710"
      ]
     },
     "execution_count": 13,
     "metadata": {},
     "output_type": "execute_result"
    }
   ],
   "source": [
    "len(filtered)\n"
   ]
  },
  {
   "cell_type": "code",
   "execution_count": 14,
   "metadata": {},
   "outputs": [],
   "source": [
    "goodHITs = []"
   ]
  },
  {
   "cell_type": "code",
   "execution_count": 15,
   "metadata": {},
   "outputs": [],
   "source": [
    "for task in filtered:\n",
    "    goodHITs.append(task['AssignmentId'])"
   ]
  },
  {
   "cell_type": "code",
   "execution_count": 16,
   "metadata": {},
   "outputs": [
    {
     "data": {
      "text/plain": [
       "2710"
      ]
     },
     "execution_count": 16,
     "metadata": {},
     "output_type": "execute_result"
    }
   ],
   "source": [
    "len(set(goodHITs))"
   ]
  },
  {
   "cell_type": "code",
   "execution_count": 132,
   "metadata": {},
   "outputs": [],
   "source": [
    "resultFile = 'Batch_3980783_batch_results.csv'\n",
    "\n",
    "with open(resultFile) as f:\n",
    "    reader = csv.DictReader(f)\n",
    "    rows = list(reader)"
   ]
  },
  {
   "cell_type": "code",
   "execution_count": 133,
   "metadata": {},
   "outputs": [],
   "source": [
    "for row in rows:\n",
    "    \n",
    "    if row['AssignmentId'] not in goodHITs:\n",
    "        row['Reject'] = 'x'"
   ]
  },
  {
   "cell_type": "code",
   "execution_count": null,
   "metadata": {},
   "outputs": [],
   "source": []
  },
  {
   "cell_type": "code",
   "execution_count": 134,
   "metadata": {},
   "outputs": [],
   "source": [
    "writeFile = 'Edit_' + resultFile\n",
    "\n",
    "CSVFile = open(writeFile, 'w') \n",
    "csv_writer = csv.writer(CSVFile) \n",
    "\n",
    "header = rows[0].keys() \n",
    "csv_writer.writerow(header) \n",
    "\n",
    "for data in rows:\n",
    "    csv_writer.writerow(data.values()) \n",
    "  \n",
    "CSVFile.close() "
   ]
  },
  {
   "cell_type": "code",
   "execution_count": null,
   "metadata": {},
   "outputs": [],
   "source": []
  },
  {
   "cell_type": "code",
   "execution_count": 38,
   "metadata": {},
   "outputs": [
    {
     "data": {
      "text/plain": [
       "15867"
      ]
     },
     "execution_count": 38,
     "metadata": {},
     "output_type": "execute_result"
    }
   ],
   "source": []
  },
  {
   "cell_type": "code",
   "execution_count": null,
   "metadata": {},
   "outputs": [],
   "source": []
  },
  {
   "cell_type": "code",
   "execution_count": null,
   "metadata": {},
   "outputs": [],
   "source": []
  },
  {
   "cell_type": "code",
   "execution_count": null,
   "metadata": {},
   "outputs": [],
   "source": []
  },
  {
   "cell_type": "code",
   "execution_count": null,
   "metadata": {},
   "outputs": [],
   "source": []
  },
  {
   "cell_type": "code",
   "execution_count": null,
   "metadata": {},
   "outputs": [],
   "source": []
  },
  {
   "cell_type": "code",
   "execution_count": null,
   "metadata": {},
   "outputs": [],
   "source": []
  },
  {
   "cell_type": "code",
   "execution_count": null,
   "metadata": {},
   "outputs": [],
   "source": []
  }
 ],
 "metadata": {
  "kernelspec": {
   "display_name": "Python 3",
   "language": "python",
   "name": "python3"
  },
  "language_info": {
   "codemirror_mode": {
    "name": "ipython",
    "version": 3
   },
   "file_extension": ".py",
   "mimetype": "text/x-python",
   "name": "python",
   "nbconvert_exporter": "python",
   "pygments_lexer": "ipython3",
   "version": "3.7.1"
  }
 },
 "nbformat": 4,
 "nbformat_minor": 2
}
