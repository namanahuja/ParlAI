{
 "cells": [
  {
   "cell_type": "code",
   "execution_count": 20,
   "metadata": {},
   "outputs": [],
   "source": [
    "import csv\n",
    "import json\n"
   ]
  },
  {
   "cell_type": "code",
   "execution_count": 21,
   "metadata": {},
   "outputs": [],
   "source": [
    "with open('Batch_3929255_batch_results.csv') as f:\n",
    "    reader = csv.DictReader(f)\n",
    "    rows = list(reader)\n",
    "\n"
   ]
  },
  {
   "cell_type": "code",
   "execution_count": null,
   "metadata": {},
   "outputs": [],
   "source": []
  },
  {
   "cell_type": "code",
   "execution_count": 23,
   "metadata": {},
   "outputs": [
    {
     "name": "stdout",
     "output_type": "stream",
     "text": [
      "3156\n"
     ]
    }
   ],
   "source": [
    "allData = []\n",
    "\n",
    "for row in rows:\n",
    "    dataObj = {}\n",
    "    \n",
    "    for key in row:\n",
    "        \n",
    "        if key in ['WorkTimeInSeconds', 'Input.fileName', 'Input.localIndex', 'Input.contextLen', \n",
    "                   'Input.fileIndex', 'Answer.Fluency.Slightly Natural', 'Answer.Fluency.Slightly Unnatural', \n",
    "                   'Answer.Fluency.Very Natural', 'Answer.Fluency.Very Unnatural', \n",
    "                   'Answer.Humanness.Definitely a bot', 'Answer.Humanness.Definitely a human', \n",
    "                   'Answer.Humanness.More likely a bot', 'Answer.Humanness.More likely a human', \n",
    "                   'Answer.Informativeness.Slightly Insufficient', 'Answer.Informativeness.Slightly Sufficient', \n",
    "                   'Answer.Informativeness.Very Insufficient', 'Answer.Informativeness.Very Sufficient', \n",
    "                   'Answer.Interestingness.Slightly Boring', 'Answer.Interestingness.Slightly Interesting', \n",
    "                   'Answer.Interestingness.Very Boring', 'Answer.Interestingness.Very Interesting']:\n",
    "            \n",
    "            dataObj[key] = row[key]\n",
    "    allData.append(dataObj)\n",
    "\n",
    "print(len(allData))\n",
    "with open('responseJudgement.json', 'w') as f:\n",
    "    json.dump(allData, f, indent=4)"
   ]
  },
  {
   "cell_type": "code",
   "execution_count": null,
   "metadata": {},
   "outputs": [],
   "source": [
    "Batch_3929459_batch_results.csv"
   ]
  }
 ],
 "metadata": {
  "kernelspec": {
   "display_name": "Python 3",
   "language": "python",
   "name": "python3"
  },
  "language_info": {
   "codemirror_mode": {
    "name": "ipython",
    "version": 3
   },
   "file_extension": ".py",
   "mimetype": "text/x-python",
   "name": "python",
   "nbconvert_exporter": "python",
   "pygments_lexer": "ipython3",
   "version": "3.7.4"
  }
 },
 "nbformat": 4,
 "nbformat_minor": 2
}
