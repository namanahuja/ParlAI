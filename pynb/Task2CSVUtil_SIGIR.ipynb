{
 "cells": [
  {
   "cell_type": "code",
   "execution_count": 38,
   "metadata": {},
   "outputs": [],
   "source": [
    "import os\n",
    "from pathlib import Path\n",
    "import sys\n",
    "import _pickle as pickle\n",
    "import json\n",
    "import copy \n",
    "import pandas,csv\n",
    "import random"
   ]
  },
  {
   "cell_type": "code",
   "execution_count": null,
   "metadata": {},
   "outputs": [],
   "source": []
  },
  {
   "cell_type": "code",
   "execution_count": 39,
   "metadata": {},
   "outputs": [
    {
     "name": "stdout",
     "output_type": "stream",
     "text": [
      "655\n"
     ]
    }
   ],
   "source": [
    "allData = []\n",
    "personOne = \"<b>Person 1: </b>\"\n",
    "personTwo = \"<b>Person 2: </b>\"\n",
    "\n",
    "\n",
    "for root, dirs, files in os.walk(\"./complete/SIGIR\"):\n",
    "    for file in files:\n",
    "        if file.endswith(\".json\"):\n",
    "            fileName = os.path.join(root, file)\n",
    "            \n",
    "            with open(fileName) as json_file:\n",
    "                \n",
    "                try:\n",
    "                    data = json.load(json_file)\n",
    "                    \n",
    "                    for conv in data:\n",
    "                    \n",
    "                    \n",
    "                        currentFileName = conv['currentFileName']\n",
    "\n",
    "                       \n",
    "                        dialogs = conv['dialogs']\n",
    "                        \n",
    "                        for dialog in dialogs:\n",
    "                        \n",
    "                            convObject = {}\n",
    "                            currStr = \"\"\n",
    "                        \n",
    "                            if(dialog['sampleTask']):\n",
    "                                continue\n",
    "                        \n",
    "                            providedConv = dialog['context']['providedConversation']\n",
    "                            userResponse = dialog['context']['userResponse']\n",
    "                            localIndex = dialog['context']['localIndex']\n",
    "\n",
    "                            leftFloat = True\n",
    "\n",
    "                            for j in range(0, len(providedConv)):\n",
    "                                if (leftFloat is True):\n",
    "                                    currStr += \"<div class='conv leftConv'>\" + personOne + providedConv[j] + \"</div>\"\n",
    "                                else:\n",
    "                                    currStr += \"<div class='conv rightConv'>\" + personTwo + providedConv[j] + \"</div>\"\n",
    "\n",
    "                                leftFloat = not leftFloat\n",
    "\n",
    "\n",
    "                            if (leftFloat is True):\n",
    "                                respStr = \"<div class='response leftConv'>\" + personOne + userResponse + \"</div>\"\n",
    "                            else:\n",
    "                                respStr = \"<div class='response rightConv'>\" + personTwo + userResponse + \"</div>\"\n",
    "\n",
    "\n",
    "                            convObject['conversation'] = currStr + \"<br />\" +respStr\n",
    "                            convObject['fileName'] = currentFileName\n",
    "                            convObject['localIndex'] = localIndex\n",
    "                            convObject['contextLen'] = dialog['context']['contextLen']\n",
    "                            convObject['fileIndex'] = dialog['context']['fileIndex']\n",
    "\n",
    "                            allData.append(convObject)\n",
    "                    \n",
    "                    \n",
    "                    \n",
    "                except Exception as e: print(e)\n",
    "                    \n",
    "                    \n",
    "random.shuffle(allData)"
   ]
  },
  {
   "cell_type": "code",
   "execution_count": null,
   "metadata": {},
   "outputs": [],
   "source": []
  },
  {
   "cell_type": "code",
   "execution_count": 40,
   "metadata": {},
   "outputs": [],
   "source": [
    "CSVFile = open('./data_file_SIGIR.csv', 'w') \n",
    "csv_writer = csv.writer(CSVFile) \n",
    "\n",
    "header = allData[0].keys() \n",
    "csv_writer.writerow(header) \n",
    "\n",
    "for data in allData:\n",
    "    csv_writer.writerow(data.values()) \n",
    "  \n",
    "CSVFile.close() "
   ]
  },
  {
   "cell_type": "code",
   "execution_count": null,
   "metadata": {},
   "outputs": [],
   "source": []
  },
  {
   "cell_type": "code",
   "execution_count": null,
   "metadata": {},
   "outputs": [],
   "source": []
  }
 ],
 "metadata": {
  "kernelspec": {
   "display_name": "Python 3",
   "language": "python",
   "name": "python3"
  },
  "language_info": {
   "codemirror_mode": {
    "name": "ipython",
    "version": 3
   },
   "file_extension": ".py",
   "mimetype": "text/x-python",
   "name": "python",
   "nbconvert_exporter": "python",
   "pygments_lexer": "ipython3",
   "version": "3.7.1"
  }
 },
 "nbformat": 4,
 "nbformat_minor": 2
}
