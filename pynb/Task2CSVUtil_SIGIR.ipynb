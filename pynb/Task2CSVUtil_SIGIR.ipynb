{
 "cells": [
  {
   "cell_type": "code",
   "execution_count": 120,
   "metadata": {},
   "outputs": [],
   "source": [
    "import os\n",
    "from pathlib import Path\n",
    "import sys\n",
    "import _pickle as pickle\n",
    "import json\n",
    "import copy \n",
    "import pandas,csv\n",
    "import random"
   ]
  },
  {
   "cell_type": "code",
   "execution_count": null,
   "metadata": {},
   "outputs": [],
   "source": []
  },
  {
   "cell_type": "code",
   "execution_count": 121,
   "metadata": {},
   "outputs": [],
   "source": [
    "allData = []\n",
    "uniqueSet = set()\n",
    "\n",
    "personOne = \"<b>Person 1: </b>\"\n",
    "personTwo = \"<b>Person 2: </b>\"\n",
    "\n",
    "\n",
    "for root, dirs, files in os.walk(\"./complete/SIGIR\"):\n",
    "    for file in files:\n",
    "        if file.endswith(\".json\"):\n",
    "            fileName = os.path.join(root, file)\n",
    "            \n",
    "            with open(fileName) as json_file:\n",
    "                \n",
    "                try:\n",
    "                    data = json.load(json_file)\n",
    "                    \n",
    "                    for conv in data:\n",
    "                    \n",
    "                    \n",
    "                        currentFileName = conv['currentFileName']\n",
    "\n",
    "                       \n",
    "                        dialogs = conv['dialogs']\n",
    "                        \n",
    "                        for dialog in dialogs:\n",
    "                        \n",
    "                            convObject = {}\n",
    "                            currStr = \"\"\n",
    "                        \n",
    "                            if(dialog['sampleTask']):\n",
    "                                continue\n",
    "                        \n",
    "                            providedConv = dialog['context']['providedConversation']\n",
    "                            userResponse = dialog['context']['userResponse']\n",
    "                            localIndex = dialog['context']['localIndex']\n",
    "                            \n",
    "                            uniqueStr = 'context=' + str(dialog['context']['contextLen']) + 'index=' + str(dialog['context']['fileIndex']) + 'res=' + userResponse.strip()\n",
    "                            \n",
    "                            \n",
    "                            if(uniqueStr in uniqueSet):\n",
    "                                \n",
    "                                continue\n",
    "                            \n",
    "                            uniqueSet.add(uniqueStr)\n",
    "\n",
    "                            leftFloat = True\n",
    "\n",
    "                            for j in range(0, len(providedConv)):\n",
    "                                if (leftFloat is True):\n",
    "                                    currStr += \"<div class='conv leftConv'>\" + personOne + providedConv[j] + \"</div>\"\n",
    "                                else:\n",
    "                                    currStr += \"<div class='conv rightConv'>\" + personTwo + providedConv[j] + \"</div>\"\n",
    "\n",
    "                                leftFloat = not leftFloat\n",
    "\n",
    "\n",
    "                            if (leftFloat is True):\n",
    "                                respStr = \"<div class='response leftConv'>\" + personOne + userResponse + \"</div>\"\n",
    "                            else:\n",
    "                                respStr = \"<div class='response rightConv'>\" + personTwo + userResponse + \"</div>\"\n",
    "\n",
    "\n",
    "                            convObject['conversation'] = currStr + \"<br />\" +respStr\n",
    "                            convObject['fileName'] = currentFileName\n",
    "                            convObject['localIndex'] = localIndex\n",
    "                            convObject['contextLen'] = dialog['context']['contextLen']\n",
    "                            convObject['fileIndex'] = dialog['context']['fileIndex']\n",
    "\n",
    "                            allData.append(convObject)\n",
    "                    \n",
    "                    \n",
    "                    \n",
    "                except Exception as e: print(e)\n",
    "                    \n",
    "                    \n",
    "#random.shuffle(allData)"
   ]
  },
  {
   "cell_type": "code",
   "execution_count": 122,
   "metadata": {},
   "outputs": [
    {
     "data": {
      "text/plain": [
       "918"
      ]
     },
     "execution_count": 122,
     "metadata": {},
     "output_type": "execute_result"
    }
   ],
   "source": [
    "len(allData)\n"
   ]
  },
  {
   "cell_type": "code",
   "execution_count": 123,
   "metadata": {},
   "outputs": [],
   "source": [
    "CSVFile = open('./data_file_SIGIR.csv', 'w') \n",
    "csv_writer = csv.writer(CSVFile) \n",
    "\n",
    "header = allData[0].keys() \n",
    "csv_writer.writerow(header) \n",
    "\n",
    "for data in allData:\n",
    "    csv_writer.writerow(data.values()) \n",
    "  \n",
    "CSVFile.close() "
   ]
  },
  {
   "cell_type": "code",
   "execution_count": 124,
   "metadata": {},
   "outputs": [],
   "source": [
    "#[x for x in allData if x['fileName'] == '20200212-010150_674_live.pkl.json']"
   ]
  },
  {
   "cell_type": "code",
   "execution_count": 125,
   "metadata": {},
   "outputs": [],
   "source": [
    "with open('o_data_file_SIGIR.csv') as f:\n",
    "    oreader = csv.DictReader(f)\n",
    "    orows = list(oreader)"
   ]
  },
  {
   "cell_type": "code",
   "execution_count": 126,
   "metadata": {},
   "outputs": [],
   "source": [
    "with open('data_file_SIGIR.csv') as f:\n",
    "    reader = csv.DictReader(f)\n",
    "    rows = list(reader) "
   ]
  },
  {
   "cell_type": "code",
   "execution_count": 127,
   "metadata": {},
   "outputs": [
    {
     "data": {
      "text/plain": [
       "1052"
      ]
     },
     "execution_count": 127,
     "metadata": {},
     "output_type": "execute_result"
    }
   ],
   "source": [
    "len(orows)"
   ]
  },
  {
   "cell_type": "code",
   "execution_count": 128,
   "metadata": {},
   "outputs": [
    {
     "data": {
      "text/plain": [
       "918"
      ]
     },
     "execution_count": 128,
     "metadata": {},
     "output_type": "execute_result"
    }
   ],
   "source": [
    "len(rows)"
   ]
  },
  {
   "cell_type": "code",
   "execution_count": 129,
   "metadata": {},
   "outputs": [],
   "source": [
    "#[x for x in orows if x['fileName'] == '20200212-010150_674_live.pkl.json']"
   ]
  },
  {
   "cell_type": "code",
   "execution_count": 130,
   "metadata": {},
   "outputs": [],
   "source": [
    "#orows[0]"
   ]
  },
  {
   "cell_type": "code",
   "execution_count": 131,
   "metadata": {},
   "outputs": [],
   "source": [
    "def Diff(li1, li2): \n",
    "    li_dif = [i for i in li1 if i not in li2] \n",
    "    return li_dif "
   ]
  },
  {
   "cell_type": "code",
   "execution_count": 132,
   "metadata": {
    "scrolled": false
   },
   "outputs": [],
   "source": [
    "diff = Diff(rows, orows)"
   ]
  },
  {
   "cell_type": "code",
   "execution_count": 133,
   "metadata": {},
   "outputs": [
    {
     "data": {
      "text/plain": [
       "107"
      ]
     },
     "execution_count": 133,
     "metadata": {},
     "output_type": "execute_result"
    }
   ],
   "source": [
    "len(diff)"
   ]
  },
  {
   "cell_type": "code",
   "execution_count": 134,
   "metadata": {},
   "outputs": [
    {
     "data": {
      "text/plain": [
       "odict_values([\"<div class='conv leftConv'><b>Person 1: </b>My favorite type of movie is a horror movie!  Are you familiar with any horror movies?</div><div class='conv rightConv'><b>Person 2: </b>I like Stephen King movies. Some horror I like </div><div class='conv leftConv'><b>Person 1: </b>I've always liked Dracula - I think those movies have been around for a long time!  Do you know of any of the early Dracula actors?</div><div class='conv rightConv'><b>Person 2: </b>I remember the books mostly , like Edgar Allen Poe, Bram Stoker and Mary Shelley</div><div class='conv leftConv'><b>Person 1: </b>How about zombie movies?  I think that the Walking Dead is based on a zombie movie - do you know which one?</div><br /><div class='response rightConv'><b>Person 2: </b>The Walking Dead is an ongoing black-and-white comic book series created by writer Robert Kirkman and artist Tony Moore.</div>\", '20200220-193811_96_live.pkl.json', '3', '3', '10'])"
      ]
     },
     "execution_count": 134,
     "metadata": {},
     "output_type": "execute_result"
    }
   ],
   "source": [
    "diff[0].values()"
   ]
  },
  {
   "cell_type": "code",
   "execution_count": 135,
   "metadata": {},
   "outputs": [],
   "source": [
    "CSVFile = open('./batch2_data_file_SIGIR.csv', 'w') \n",
    "csv_writer = csv.writer(CSVFile) \n",
    "\n",
    "header = diff[0].keys() \n",
    "csv_writer.writerow(header) \n",
    "\n",
    "for data in diff:\n",
    "    csv_writer.writerow(data.values()) \n",
    "  \n",
    "CSVFile.close() "
   ]
  },
  {
   "cell_type": "code",
   "execution_count": null,
   "metadata": {},
   "outputs": [],
   "source": []
  },
  {
   "cell_type": "code",
   "execution_count": null,
   "metadata": {},
   "outputs": [],
   "source": []
  },
  {
   "cell_type": "code",
   "execution_count": null,
   "metadata": {},
   "outputs": [],
   "source": []
  }
 ],
 "metadata": {
  "kernelspec": {
   "display_name": "Python 3",
   "language": "python",
   "name": "python3"
  },
  "language_info": {
   "codemirror_mode": {
    "name": "ipython",
    "version": 3
   },
   "file_extension": ".py",
   "mimetype": "text/x-python",
   "name": "python",
   "nbconvert_exporter": "python",
   "pygments_lexer": "ipython3",
   "version": "3.7.1"
  }
 },
 "nbformat": 4,
 "nbformat_minor": 2
}
