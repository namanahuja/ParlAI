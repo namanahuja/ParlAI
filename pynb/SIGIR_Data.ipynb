{
 "cells": [
  {
   "cell_type": "code",
   "execution_count": 1,
   "metadata": {},
   "outputs": [],
   "source": [
    "import os\n",
    "from pathlib import Path\n",
    "import sys\n",
    "import os\n",
    "import _pickle as pickle\n",
    "import json\n",
    "import copy \n",
    "import random"
   ]
  },
  {
   "cell_type": "code",
   "execution_count": 2,
   "metadata": {},
   "outputs": [],
   "source": [
    "Path(\"./complete/SIGIR\").mkdir(parents=True, exist_ok=True)"
   ]
  },
  {
   "cell_type": "code",
   "execution_count": 4,
   "metadata": {},
   "outputs": [
    {
     "name": "stdout",
     "output_type": "stream",
     "text": [
      "20\n"
     ]
    }
   ],
   "source": [
    "allData = []\n",
    "for root, dirs, files in os.walk(\"./complete/clean\"):\n",
    "    for file in files:\n",
    "        if file.endswith(\".json\"):\n",
    "            fileName = os.path.join(root, file)\n",
    "            with open(fileName) as json_file:\n",
    "                cleanObj = {}\n",
    "                dialogs = []\n",
    "                \n",
    "                try:\n",
    "                    data = json.load(json_file)\n",
    "                    if(data['suggestionsConfig'] == 'no'):\n",
    "                        allData.append(data)\n",
    "                    \n",
    "                except Exception as e: print(e)\n",
    "\n",
    "print(len(allData))\n",
    "#randomData = random.sample(allData, k=9)\n",
    "filePath = './complete/SIGIR/' + 'noSugestions.json'\n",
    "with open(filePath, 'w') as outfile:\n",
    "    json.dump(allData, outfile)"
   ]
  },
  {
   "cell_type": "code",
   "execution_count": 5,
   "metadata": {},
   "outputs": [
    {
     "name": "stdout",
     "output_type": "stream",
     "text": [
      "20\n"
     ]
    }
   ],
   "source": [
    "allData1 = []\n",
    "allData3 = []\n",
    "allData5 = []\n",
    "\n",
    "for root, dirs, files in os.walk(\"./complete/clean\"):\n",
    "    for file in files:\n",
    "        if file.endswith(\".json\"):\n",
    "            fileName = os.path.join(root, file)\n",
    "            with open(fileName) as json_file:\n",
    "                cleanObj = {}\n",
    "                dialogs = []\n",
    "                \n",
    "                try:\n",
    "                    data = json.load(json_file)\n",
    "                    if(data['autoFilledSuggestion'] == 1):\n",
    "                       \n",
    "                            \n",
    "                        if(data['suggestionsNumber'] == 1):\n",
    "                            allData1.append(data)\n",
    "                        if(data['suggestionsNumber'] == 3):\n",
    "                            allData3.append(data) \n",
    "                        if(data['suggestionsNumber'] == 5):\n",
    "                            allData5.append(data)\n",
    "\n",
    "                    \n",
    "                except Exception as e: print(e)\n",
    "print(len(allData3))\n",
    "#randomData1 = random.sample(allData1, k=9)\n",
    "#randomData3 = random.sample(allData3, k=9)\n",
    "#randomData5 = random.sample(allData5, k=9)\n",
    "\n",
    "filePath = './complete/SIGIR/' + 'autoFilled_1.json'\n",
    "with open(filePath, 'w') as outfile:\n",
    "    json.dump(allData1, outfile)\n",
    "    \n",
    "filePath = './complete/SIGIR/' + 'autoFilled_3.json'\n",
    "with open(filePath, 'w') as outfile:\n",
    "    json.dump(allData3, outfile)\n",
    "    \n",
    "filePath = './complete/SIGIR/' + 'autoFilled_5.json'\n",
    "with open(filePath, 'w') as outfile:\n",
    "    json.dump(allData5, outfile)"
   ]
  },
  {
   "cell_type": "code",
   "execution_count": 6,
   "metadata": {},
   "outputs": [],
   "source": [
    "allData1 = []\n",
    "allData3 = []\n",
    "allData5 = []\n",
    "\n",
    "for root, dirs, files in os.walk(\"./complete/clean\"):\n",
    "    for file in files:\n",
    "        if file.endswith(\".json\"):\n",
    "            fileName = os.path.join(root, file)\n",
    "            with open(fileName) as json_file:\n",
    "                cleanObj = {}\n",
    "                dialogs = []\n",
    "                \n",
    "                try:\n",
    "                    data = json.load(json_file)\n",
    "                    if(data['autoFilledSuggestion'] == 0):\n",
    "                       \n",
    "                        \n",
    "                        if(data['suggestionsNumber'] == 1):\n",
    "                            allData1.append(data)\n",
    "                        if(data['suggestionsNumber'] == 3):\n",
    "                            allData3.append(data) \n",
    "                        if(data['suggestionsNumber'] == 5):\n",
    "                            allData5.append(data)\n",
    "                            \n",
    "                    \n",
    "                except Exception as e: print(e)\n",
    "\n",
    "#randomData1 = random.sample(allData1, k=9)\n",
    "#randomData3 = random.sample(allData3, k=9)\n",
    "#randomData5 = random.sample(allData5, k=9)\n",
    "\n",
    "filePath = './complete/SIGIR/' + 'suggestionsOnly_1.json'\n",
    "with open(filePath, 'w') as outfile:\n",
    "    json.dump(allData1, outfile)\n",
    "    \n",
    "filePath = './complete/SIGIR/' + 'suggestionsOnly_3.json'\n",
    "with open(filePath, 'w') as outfile:\n",
    "    json.dump(allData3, outfile)\n",
    "    \n",
    "filePath = './complete/SIGIR/' + 'suggestionsOnly_5.json'\n",
    "with open(filePath, 'w') as outfile:\n",
    "    json.dump(allData5, outfile)"
   ]
  },
  {
   "cell_type": "code",
   "execution_count": null,
   "metadata": {},
   "outputs": [],
   "source": []
  },
  {
   "cell_type": "code",
   "execution_count": null,
   "metadata": {},
   "outputs": [],
   "source": []
  },
  {
   "cell_type": "code",
   "execution_count": null,
   "metadata": {},
   "outputs": [],
   "source": []
  }
 ],
 "metadata": {
  "kernelspec": {
   "display_name": "Python 3",
   "language": "python",
   "name": "python3"
  },
  "language_info": {
   "codemirror_mode": {
    "name": "ipython",
    "version": 3
   },
   "file_extension": ".py",
   "mimetype": "text/x-python",
   "name": "python",
   "nbconvert_exporter": "python",
   "pygments_lexer": "ipython3",
   "version": "3.7.4"
  }
 },
 "nbformat": 4,
 "nbformat_minor": 2
}
