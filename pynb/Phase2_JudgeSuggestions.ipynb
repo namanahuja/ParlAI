{
 "cells": [
  {
   "cell_type": "code",
   "execution_count": 41,
   "metadata": {},
   "outputs": [],
   "source": [
    "import os\n",
    "from pathlib import Path\n",
    "import sys\n",
    "import _pickle as pickle\n",
    "import json\n",
    "import copy \n",
    "import pandas,csv\n",
    "import random"
   ]
  },
  {
   "cell_type": "code",
   "execution_count": null,
   "metadata": {},
   "outputs": [],
   "source": []
  },
  {
   "cell_type": "code",
   "execution_count": 42,
   "metadata": {},
   "outputs": [],
   "source": [
    "oneData = []\n",
    "twoData = []\n",
    "threeData = []\n",
    "\n",
    "for root, dirs, files in os.walk(\"./final/gen\"):\n",
    "    for file in files:\n",
    "        if file.endswith(\".json\"):\n",
    "            fileName = os.path.join(root, file)\n",
    "            \n",
    "            with open(fileName) as json_file:\n",
    "                \n",
    "                try:\n",
    "                    data = json.load(json_file)\n",
    "                    \n",
    "                    if 'oneContext' in fileName:\n",
    "                        oneData.extend(data)\n",
    "                    \n",
    "                    elif 'twoContext' in fileName:\n",
    "                        twoData.extend(data)\n",
    "                        \n",
    "                    else:\n",
    "                        threeData.extend(data)\n",
    "                        \n",
    "                    \n",
    "                        \n",
    "                    \n",
    "                    \n",
    "                    \n",
    "                except Exception as e: print(e)\n",
    "                    "
   ]
  },
  {
   "cell_type": "code",
   "execution_count": null,
   "metadata": {},
   "outputs": [],
   "source": []
  },
  {
   "cell_type": "code",
   "execution_count": 43,
   "metadata": {},
   "outputs": [],
   "source": [
    "bucketSize = 4\n",
    "\n",
    "def chunks(lst, n):\n",
    "    \"\"\"Yield successive n-sized chunks from lst.\"\"\"\n",
    "    for i in range(0, len(lst), n):\n",
    "        yield lst[i:i + n]   "
   ]
  },
  {
   "cell_type": "code",
   "execution_count": 44,
   "metadata": {},
   "outputs": [],
   "source": [
    "allData = []\n",
    "uniqueSet = set()\n",
    "\n",
    "personOne = \"<b>Person 1: </b>\"\n",
    "personTwo = \"<b>Person 2: </b>\"\n",
    "\n",
    "\n",
    "for root, dirs, files in os.walk(\"./complete/clean/gen\"):\n",
    "    for file in files:\n",
    "        if file.endswith(\".json\"):\n",
    "            fileName = os.path.join(root, file)\n",
    "            \n",
    "            with open(fileName) as json_file:\n",
    "                \n",
    "                try:\n",
    "                    data = json.load(json_file)\n",
    "                                    \n",
    "                    currentFileName = data['currentFileName']\n",
    "\n",
    "\n",
    "                    dialogs = data['dialogs']\n",
    "                    \n",
    "                    \n",
    "\n",
    "                    for dialog in dialogs:\n",
    "\n",
    "                        convObject = {}\n",
    "                        currStr = \"\"\n",
    "\n",
    "                        providedConv = dialog['context']['providedConversation']\n",
    "                        userResponse = dialog['context']['userResponse']\n",
    "                        localIndex = dialog['context']['localIndex']\n",
    "                        contextLen = dialog['context']['contextLen']\n",
    "                        fileIndex = dialog['context']['fileIndex']\n",
    "\n",
    "                        uniqueStr = 'context=' + str(contextLen) + 'index=' + str(fileIndex)\n",
    "\n",
    "                        if(uniqueStr in uniqueSet):\n",
    "                            #print(uniqueStr)\n",
    "                            continue\n",
    "\n",
    "                        uniqueSet.add(uniqueStr)\n",
    "                        \n",
    "                        \n",
    "                        if(contextLen == 1):\n",
    "                            dataSource = oneData\n",
    "                        elif(contextLen == 2):\n",
    "                            dataSource = twoData\n",
    "                        else:\n",
    "                            dataSource = threeData\n",
    "                            \n",
    "                        foundObj = [x for x in dataSource if x['index'] == fileIndex][0]\n",
    "                        conversation = foundObj['conversation'] \n",
    "                        suggestions = foundObj['suggestions']\n",
    "\n",
    "                        for i,sugg in enumerate(suggestions):\n",
    "                            if(userResponse.strip() == sugg.strip()):\n",
    "                                continue\n",
    "\n",
    "                            suggObj = {}\n",
    "\n",
    "                            suggObj['suggIndex'] = i\n",
    "                            currStr = \"\"\n",
    "\n",
    "                            leftFloat = True\n",
    "\n",
    "                            for j in range(0, len(providedConv)):\n",
    "                                if (leftFloat is True):\n",
    "                                    currStr += \"<div class='conv leftConv'>\" + personOne + providedConv[j] + \"</div>\"\n",
    "                                else:\n",
    "                                    currStr += \"<div class='conv rightConv'>\" + personTwo + providedConv[j] + \"</div>\"\n",
    "\n",
    "                                leftFloat = not leftFloat\n",
    "\n",
    "\n",
    "                            if (leftFloat is True):\n",
    "                                respStr = \"<div class='response leftConv'>\" + personOne + sugg + \"</div>\"\n",
    "                            else:\n",
    "                                respStr = \"<div class='response rightConv'>\" + personTwo + sugg + \"</div>\"\n",
    "\n",
    "\n",
    "                            suggObj['conversation'] = currStr + \"<br />\" +respStr\n",
    "                            suggObj['contextLen'] = dialog['context']['contextLen']\n",
    "                            suggObj['fileIndex'] = dialog['context']['fileIndex']\n",
    "\n",
    "                            allData.append(suggObj)\n",
    "                                \n",
    "                    \n",
    "                    \n",
    "                    \n",
    "                    \n",
    "                except Exception as e: print(e)\n",
    "                    \n",
    "                    \n",
    "#random.shuffle(allData)"
   ]
  },
  {
   "cell_type": "code",
   "execution_count": 45,
   "metadata": {},
   "outputs": [
    {
     "data": {
      "text/plain": [
       "80"
      ]
     },
     "execution_count": 45,
     "metadata": {},
     "output_type": "execute_result"
    }
   ],
   "source": [
    "len(allData)\n"
   ]
  },
  {
   "cell_type": "code",
   "execution_count": 46,
   "metadata": {},
   "outputs": [
    {
     "data": {
      "text/plain": [
       "{'suggIndex': 0,\n",
       " 'conversation': \"<div class='conv leftConv'><b>Person 1: </b>I grew up with 8 older siblings, pretty crazy right? I think it has something to do with a fertility factor, but I have no idea what that is really, can you explain it?</div><div class='conv rightConv'><b>Person 2: </b>Whoa 8!!! Fertility factor has to do with how likely a person is to have children. </div><div class='conv leftConv'><b>Person 1: </b>Oh I see, I guess my mother had quite a high fertility factor then.</div><div class='conv rightConv'><b>Person 2: </b>Yes she did.  Fertility factors  is based on a lot of things. </div><div class='conv leftConv'><b>Person 1: </b>Alright, can you elaborate on what some of those things are?</div><br /><div class='response rightConv'><b>Person 2: </b>I have 2. She was a child and she was a child. She was a child and she was a child.</div>\",\n",
       " 'contextLen': 3,\n",
       " 'fileIndex': 27}"
      ]
     },
     "execution_count": 46,
     "metadata": {},
     "output_type": "execute_result"
    }
   ],
   "source": [
    "allData[0]"
   ]
  },
  {
   "cell_type": "code",
   "execution_count": null,
   "metadata": {},
   "outputs": [],
   "source": []
  },
  {
   "cell_type": "code",
   "execution_count": null,
   "metadata": {},
   "outputs": [],
   "source": []
  },
  {
   "cell_type": "code",
   "execution_count": 47,
   "metadata": {},
   "outputs": [],
   "source": [
    "divided = list(chunks(allData, bucketSize))"
   ]
  },
  {
   "cell_type": "code",
   "execution_count": 48,
   "metadata": {},
   "outputs": [
    {
     "data": {
      "text/plain": [
       "20"
      ]
     },
     "execution_count": 48,
     "metadata": {},
     "output_type": "execute_result"
    }
   ],
   "source": [
    "len(divided)"
   ]
  },
  {
   "cell_type": "code",
   "execution_count": null,
   "metadata": {},
   "outputs": [],
   "source": []
  },
  {
   "cell_type": "code",
   "execution_count": 49,
   "metadata": {},
   "outputs": [],
   "source": [
    "padConv = {\n",
    "            'conversation': '<div class=\"conv leftConv\"><b>Person 1: </b>Hi, can you tell me about iPhone?</div><br /><div class=\"response rightConv\"><b>Person 2: </b>Exercise is useful.</div>',\n",
    "             'contextLen': -2,\n",
    "             'fileIndex': -1\n",
    "          }"
   ]
  },
  {
   "cell_type": "code",
   "execution_count": null,
   "metadata": {},
   "outputs": [],
   "source": []
  },
  {
   "cell_type": "code",
   "execution_count": null,
   "metadata": {
    "scrolled": true
   },
   "outputs": [],
   "source": []
  },
  {
   "cell_type": "code",
   "execution_count": 50,
   "metadata": {},
   "outputs": [],
   "source": [
    "badConv = {\n",
    "            'conversation': '<div class=\"conv leftConv\"><b>Person 1: </b>Hi, can you tell me about iPhone?</div><br /><div class=\"response rightConv\"><b>Person 2: </b>Exercise is useful.</div>',\n",
    "             'contextLen': -1,\n",
    "             'fileIndex': -1\n",
    "          }"
   ]
  },
  {
   "cell_type": "code",
   "execution_count": null,
   "metadata": {},
   "outputs": [],
   "source": []
  },
  {
   "cell_type": "code",
   "execution_count": 51,
   "metadata": {},
   "outputs": [],
   "source": [
    "nLast = len(divided[-1])\n",
    "\n",
    "while nLast < bucketSize:\n",
    "    divided[-1].append(padConv)\n",
    "    \n",
    "    nLast += 1"
   ]
  },
  {
   "cell_type": "code",
   "execution_count": null,
   "metadata": {},
   "outputs": [],
   "source": []
  },
  {
   "cell_type": "code",
   "execution_count": null,
   "metadata": {},
   "outputs": [],
   "source": []
  },
  {
   "cell_type": "code",
   "execution_count": null,
   "metadata": {},
   "outputs": [],
   "source": []
  },
  {
   "cell_type": "code",
   "execution_count": 52,
   "metadata": {},
   "outputs": [],
   "source": [
    "finalData = []"
   ]
  },
  {
   "cell_type": "code",
   "execution_count": 53,
   "metadata": {},
   "outputs": [],
   "source": [
    "for sample in divided:\n",
    "    \n",
    "    sample.append(badConv)\n",
    "    random.shuffle(sample)\n",
    "    \n",
    "    finalObj = {}\n",
    "    \n",
    "    for i in range(len(sample)):\n",
    "    \n",
    "        conversationKey = 'conversation-vt-' + str(i+1)\n",
    "        finalObj[conversationKey] = sample[i]['conversation']\n",
    "        \n",
    "        contextLenKey = 'contextLen-vt-' + str(i+1)\n",
    "        finalObj[contextLenKey] = sample[i]['contextLen']\n",
    "        \n",
    "        fileIndexKey = 'fileIndex-vt-' + str(i+1)\n",
    "        finalObj[fileIndexKey] = sample[i]['fileIndex']\n",
    "        \n",
    "    \n",
    "    \n",
    "    finalData.append(finalObj)\n",
    "        \n"
   ]
  },
  {
   "cell_type": "code",
   "execution_count": 57,
   "metadata": {},
   "outputs": [
    {
     "data": {
      "text/plain": [
       "{'conversation-vt-1': \"<div class='conv leftConv'><b>Person 1: </b>I grew up in a big family with 6 other siblings.  What about you?</div><div class='conv rightConv'><b>Person 2: </b>a full siblings is a first degree relative</div><div class='conv leftConv'><b>Person 1: </b>It is indeed. I have 4 sisters and 3 brothers.  It was definitely a busy household growing up.</div><div class='conv rightConv'><b>Person 2: </b>i have grown up with 3 sisters and 1 brothers and my family is  also a busy household growing up</div><div class='conv leftConv'><b>Person 1: </b>Its lovely to have so many close relations though.  I wouldnt change it for the world.  I think these days though, families are getting smaller with much less children.  Would you agree?</div><br /><div class='response rightConv'><b>Person 2: </b>I have 2 brothers, so i have had a couple of kids, but i have never had one.</div>\",\n",
       " 'contextLen-vt-1': 3,\n",
       " 'fileIndex-vt-1': 10,\n",
       " 'conversation-vt-2': \"<div class='conv leftConv'><b>Person 1: </b>My house is only 300 square feet.  I love having a tiny house!</div><div class='conv rightConv'><b>Person 2: </b>That is awesome! You must support the tiny house movement which advocates for living in tiny homes! :)</div><div class='conv leftConv'><b>Person 1: </b>Yes I do, do you know a lot about it?</div><div class='conv rightConv'><b>Person 2: </b>Yes I do, Sarah Susanka actually started the movement after she published her novel in 1997</div><div class='conv leftConv'><b>Person 1: </b>Its not that old of a movement then.  What is the average size of a tiny home?</div><br /><div class='response rightConv'><b>Person 2: </b>I'm not sure but I do know that the tiny house movement is a small movement that advocates living in new York city.</div>\",\n",
       " 'contextLen-vt-2': 3,\n",
       " 'fileIndex-vt-2': 8,\n",
       " 'conversation-vt-3': '<div class=\"conv leftConv\"><b>Person 1: </b>Hi, can you tell me about iPhone?</div><br /><div class=\"response rightConv\"><b>Person 2: </b>Exercise is useful.</div>',\n",
       " 'contextLen-vt-3': -1,\n",
       " 'fileIndex-vt-3': -1,\n",
       " 'conversation-vt-4': \"<div class='conv leftConv'><b>Person 1: </b>New York City has always fascinated me.  Have you ever been there?</div><div class='conv rightConv'><b>Person 2: </b>I haven't, but I don't know if I do want to go or not lol. It's the most populated city in America so I don't know if I'm up to so many people!</div><div class='conv leftConv'><b>Person 1: </b>What is the city population?</div><br /><div class='response rightConv'><b>Person 2: </b>It is the most densely populated city in the us.</div>\",\n",
       " 'contextLen-vt-4': 2,\n",
       " 'fileIndex-vt-4': 2,\n",
       " 'conversation-vt-5': \"<div class='conv leftConv'><b>Person 1: </b>Hi. I've heard there are two parts to OCD, thoughts and actions, is this true?</div><br /><div class='response rightConv'><b>Person 2: </b>I have not heard of it but I know it is a mental disorder where people feel the need to check things repeatedly.</div>\",\n",
       " 'contextLen-vt-5': 1,\n",
       " 'fileIndex-vt-5': 20}"
      ]
     },
     "execution_count": 57,
     "metadata": {},
     "output_type": "execute_result"
    }
   ],
   "source": [
    "finalData[15]"
   ]
  },
  {
   "cell_type": "code",
   "execution_count": null,
   "metadata": {},
   "outputs": [],
   "source": []
  },
  {
   "cell_type": "code",
   "execution_count": 14,
   "metadata": {},
   "outputs": [],
   "source": [
    "CSVFile = open('./suggestions_file_Phase2.csv', 'w') \n",
    "csv_writer = csv.writer(CSVFile) \n",
    "\n",
    "header = finalData[0].keys() \n",
    "csv_writer.writerow(header) \n",
    "\n",
    "for data in finalData:\n",
    "    csv_writer.writerow(data.values()) \n",
    "  \n",
    "CSVFile.close() "
   ]
  },
  {
   "cell_type": "code",
   "execution_count": null,
   "metadata": {},
   "outputs": [],
   "source": []
  },
  {
   "cell_type": "code",
   "execution_count": null,
   "metadata": {},
   "outputs": [],
   "source": []
  },
  {
   "cell_type": "code",
   "execution_count": null,
   "metadata": {},
   "outputs": [],
   "source": []
  },
  {
   "cell_type": "code",
   "execution_count": null,
   "metadata": {},
   "outputs": [],
   "source": []
  },
  {
   "cell_type": "code",
   "execution_count": null,
   "metadata": {},
   "outputs": [],
   "source": []
  },
  {
   "cell_type": "code",
   "execution_count": null,
   "metadata": {},
   "outputs": [],
   "source": []
  },
  {
   "cell_type": "code",
   "execution_count": null,
   "metadata": {},
   "outputs": [],
   "source": []
  },
  {
   "cell_type": "code",
   "execution_count": null,
   "metadata": {},
   "outputs": [],
   "source": []
  },
  {
   "cell_type": "code",
   "execution_count": 124,
   "metadata": {},
   "outputs": [],
   "source": [
    "#[x for x in allData if x['fileName'] == '20200212-010150_674_live.pkl.json']"
   ]
  },
  {
   "cell_type": "code",
   "execution_count": 125,
   "metadata": {},
   "outputs": [],
   "source": [
    "with open('o_data_file_SIGIR.csv') as f:\n",
    "    oreader = csv.DictReader(f)\n",
    "    orows = list(oreader)"
   ]
  },
  {
   "cell_type": "code",
   "execution_count": 126,
   "metadata": {},
   "outputs": [],
   "source": [
    "with open('data_file_SIGIR.csv') as f:\n",
    "    reader = csv.DictReader(f)\n",
    "    rows = list(reader) "
   ]
  },
  {
   "cell_type": "code",
   "execution_count": 127,
   "metadata": {},
   "outputs": [
    {
     "data": {
      "text/plain": [
       "1052"
      ]
     },
     "execution_count": 127,
     "metadata": {},
     "output_type": "execute_result"
    }
   ],
   "source": [
    "len(orows)"
   ]
  },
  {
   "cell_type": "code",
   "execution_count": 128,
   "metadata": {},
   "outputs": [
    {
     "data": {
      "text/plain": [
       "918"
      ]
     },
     "execution_count": 128,
     "metadata": {},
     "output_type": "execute_result"
    }
   ],
   "source": [
    "len(rows)"
   ]
  },
  {
   "cell_type": "code",
   "execution_count": 129,
   "metadata": {},
   "outputs": [],
   "source": [
    "#[x for x in orows if x['fileName'] == '20200212-010150_674_live.pkl.json']"
   ]
  },
  {
   "cell_type": "code",
   "execution_count": 130,
   "metadata": {},
   "outputs": [],
   "source": [
    "#orows[0]"
   ]
  },
  {
   "cell_type": "code",
   "execution_count": 131,
   "metadata": {},
   "outputs": [],
   "source": [
    "def Diff(li1, li2): \n",
    "    li_dif = [i for i in li1 if i not in li2] \n",
    "    return li_dif "
   ]
  },
  {
   "cell_type": "code",
   "execution_count": 132,
   "metadata": {
    "scrolled": false
   },
   "outputs": [],
   "source": [
    "diff = Diff(rows, orows)"
   ]
  },
  {
   "cell_type": "code",
   "execution_count": 133,
   "metadata": {},
   "outputs": [
    {
     "data": {
      "text/plain": [
       "107"
      ]
     },
     "execution_count": 133,
     "metadata": {},
     "output_type": "execute_result"
    }
   ],
   "source": [
    "len(diff)"
   ]
  },
  {
   "cell_type": "code",
   "execution_count": 134,
   "metadata": {},
   "outputs": [
    {
     "data": {
      "text/plain": [
       "odict_values([\"<div class='conv leftConv'><b>Person 1: </b>My favorite type of movie is a horror movie!  Are you familiar with any horror movies?</div><div class='conv rightConv'><b>Person 2: </b>I like Stephen King movies. Some horror I like </div><div class='conv leftConv'><b>Person 1: </b>I've always liked Dracula - I think those movies have been around for a long time!  Do you know of any of the early Dracula actors?</div><div class='conv rightConv'><b>Person 2: </b>I remember the books mostly , like Edgar Allen Poe, Bram Stoker and Mary Shelley</div><div class='conv leftConv'><b>Person 1: </b>How about zombie movies?  I think that the Walking Dead is based on a zombie movie - do you know which one?</div><br /><div class='response rightConv'><b>Person 2: </b>The Walking Dead is an ongoing black-and-white comic book series created by writer Robert Kirkman and artist Tony Moore.</div>\", '20200220-193811_96_live.pkl.json', '3', '3', '10'])"
      ]
     },
     "execution_count": 134,
     "metadata": {},
     "output_type": "execute_result"
    }
   ],
   "source": [
    "diff[0].values()"
   ]
  },
  {
   "cell_type": "code",
   "execution_count": 135,
   "metadata": {},
   "outputs": [],
   "source": [
    "CSVFile = open('./batch2_data_file_SIGIR.csv', 'w') \n",
    "csv_writer = csv.writer(CSVFile) \n",
    "\n",
    "header = diff[0].keys() \n",
    "csv_writer.writerow(header) \n",
    "\n",
    "for data in diff:\n",
    "    csv_writer.writerow(data.values()) \n",
    "  \n",
    "CSVFile.close() "
   ]
  },
  {
   "cell_type": "code",
   "execution_count": null,
   "metadata": {},
   "outputs": [],
   "source": []
  },
  {
   "cell_type": "code",
   "execution_count": null,
   "metadata": {},
   "outputs": [],
   "source": []
  },
  {
   "cell_type": "code",
   "execution_count": null,
   "metadata": {},
   "outputs": [],
   "source": []
  }
 ],
 "metadata": {
  "kernelspec": {
   "display_name": "Python 3",
   "language": "python",
   "name": "python3"
  },
  "language_info": {
   "codemirror_mode": {
    "name": "ipython",
    "version": 3
   },
   "file_extension": ".py",
   "mimetype": "text/x-python",
   "name": "python",
   "nbconvert_exporter": "python",
   "pygments_lexer": "ipython3",
   "version": "3.7.1"
  }
 },
 "nbformat": 4,
 "nbformat_minor": 2
}
