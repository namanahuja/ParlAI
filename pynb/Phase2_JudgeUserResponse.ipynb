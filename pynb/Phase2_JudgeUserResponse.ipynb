{
 "cells": [
  {
   "cell_type": "code",
   "execution_count": 27,
   "metadata": {},
   "outputs": [],
   "source": [
    "import os\n",
    "from pathlib import Path\n",
    "import sys\n",
    "import _pickle as pickle\n",
    "import json\n",
    "import copy \n",
    "import pandas,csv\n",
    "import random"
   ]
  },
  {
   "cell_type": "code",
   "execution_count": 28,
   "metadata": {},
   "outputs": [],
   "source": [
    "bucketSize = 5\n",
    "\n",
    "def chunks(lst, n):\n",
    "    \"\"\"Yield successive n-sized chunks from lst.\"\"\"\n",
    "    for i in range(0, len(lst), n):\n",
    "        yield lst[i:i + n]   "
   ]
  },
  {
   "cell_type": "code",
   "execution_count": 29,
   "metadata": {},
   "outputs": [],
   "source": [
    "allData = []\n",
    "uniqueSet = set()\n",
    "\n",
    "personOne = \"<b>Person 1: </b>\"\n",
    "personTwo = \"<b>Person 2: </b>\"\n",
    "\n",
    "\n",
    "for root, dirs, files in os.walk(\"./clean\"):\n",
    "    \n",
    "    #uniqueSet = set()\n",
    "    for file in files:\n",
    "        if file.endswith(\".json\"):\n",
    "            fileName = os.path.join(root, file)\n",
    "            \n",
    "            with open(fileName) as json_file:\n",
    "                \n",
    "                try:\n",
    "                    data = json.load(json_file)\n",
    "                                    \n",
    "                    currentFileName = data['currentFileName']\n",
    "\n",
    "\n",
    "                    dialogs = data['dialogs']\n",
    "                    \n",
    "                    \n",
    "\n",
    "                    for dialog in dialogs:\n",
    "\n",
    "                        convObject = {}\n",
    "                        currStr = \"\"\n",
    "\n",
    "                        if(dialog['sampleTask']):\n",
    "                            continue\n",
    "\n",
    "                        providedConv = dialog['context']['providedConversation']\n",
    "                        userResponse = dialog['context']['userResponse']\n",
    "                        localIndex = dialog['context']['localIndex']\n",
    "\n",
    "                        uniqueStr = 'context=' + str(dialog['context']['contextLen']) + 'index=' + str(dialog['context']['fileIndex']) + 'res=' + userResponse.strip()\n",
    "\n",
    "\n",
    "                        if(uniqueStr in uniqueSet):\n",
    "                            #print(uniqueStr)\n",
    "                            continue\n",
    "\n",
    "                        uniqueSet.add(uniqueStr)\n",
    "\n",
    "                        leftFloat = True\n",
    "\n",
    "                        for j in range(0, len(providedConv)):\n",
    "                            if (leftFloat is True):\n",
    "                                currStr += \"<div class='conv leftConv'>\" + personOne + providedConv[j] + \"</div>\"\n",
    "                            else:\n",
    "                                currStr += \"<div class='conv rightConv'>\" + personTwo + providedConv[j] + \"</div>\"\n",
    "\n",
    "                            leftFloat = not leftFloat\n",
    "\n",
    "\n",
    "                        if (leftFloat is True):\n",
    "                            respStr = \"<div class='response leftConv'>\" + personOne + userResponse + \"</div>\"\n",
    "                        else:\n",
    "                            respStr = \"<div class='response rightConv'>\" + personTwo + userResponse + \"</div>\"\n",
    "\n",
    "\n",
    "                        convObject['conversation'] = currStr + \"<br />\" +respStr\n",
    "                        convObject['fileName'] = currentFileName\n",
    "                        convObject['localIndex'] = localIndex\n",
    "                        convObject['contextLen'] = dialog['context']['contextLen']\n",
    "                        convObject['fileIndex'] = dialog['context']['fileIndex']\n",
    "\n",
    "                        allData.append(convObject)\n",
    "                    \n",
    "                    \n",
    "                    \n",
    "                except Exception as e: print(e)\n",
    "                    \n",
    "                    \n",
    "random.shuffle(allData)"
   ]
  },
  {
   "cell_type": "code",
   "execution_count": 30,
   "metadata": {},
   "outputs": [
    {
     "data": {
      "text/plain": [
       "5139"
      ]
     },
     "execution_count": 30,
     "metadata": {},
     "output_type": "execute_result"
    }
   ],
   "source": [
    "len(allData)\n"
   ]
  },
  {
   "cell_type": "code",
   "execution_count": 31,
   "metadata": {},
   "outputs": [
    {
     "data": {
      "text/plain": [
       "{'conversation': \"<div class='conv leftConv'><b>Person 1: </b>I love going for hikes in nature for exercise.</div><div class='conv rightConv'><b>Person 2: </b>It is one of my favorite hobbies as well, Hiking is the preferred term, in Canada and the United States</div><div class='conv leftConv'><b>Person 1: </b>What do they call it elsewhere?</div><br /><div class='response rightConv'><b>Person 2: </b>In other countries, it's called going on a trek. Have you heard of that before?</div>\",\n",
       " 'fileName': '20200328-234657_586_live.pkl.json',\n",
       " 'localIndex': 15,\n",
       " 'contextLen': 2,\n",
       " 'fileIndex': 23}"
      ]
     },
     "execution_count": 31,
     "metadata": {},
     "output_type": "execute_result"
    }
   ],
   "source": [
    "allData[0]"
   ]
  },
  {
   "cell_type": "code",
   "execution_count": null,
   "metadata": {},
   "outputs": [],
   "source": []
  },
  {
   "cell_type": "code",
   "execution_count": null,
   "metadata": {},
   "outputs": [],
   "source": []
  },
  {
   "cell_type": "code",
   "execution_count": 32,
   "metadata": {},
   "outputs": [],
   "source": [
    "divided = list(chunks(allData, bucketSize))"
   ]
  },
  {
   "cell_type": "code",
   "execution_count": 33,
   "metadata": {},
   "outputs": [
    {
     "data": {
      "text/plain": [
       "1028"
      ]
     },
     "execution_count": 33,
     "metadata": {},
     "output_type": "execute_result"
    }
   ],
   "source": [
    "len(divided)"
   ]
  },
  {
   "cell_type": "code",
   "execution_count": null,
   "metadata": {},
   "outputs": [],
   "source": []
  },
  {
   "cell_type": "code",
   "execution_count": 34,
   "metadata": {},
   "outputs": [],
   "source": [
    "padConv = {\n",
    "            'conversation': '<div class=\"conv leftConv\"><b>Person 1: </b>Hi, can you tell me about iPhone?</div><br /><div class=\"response rightConv\"><b>Person 2: </b>Exercise is useful.</div>',\n",
    "            'fileName': 'padFile',\n",
    "             'localIndex': -1,\n",
    "             'contextLen': -2,\n",
    "             'fileIndex': -1\n",
    "          }"
   ]
  },
  {
   "cell_type": "code",
   "execution_count": null,
   "metadata": {},
   "outputs": [],
   "source": []
  },
  {
   "cell_type": "code",
   "execution_count": null,
   "metadata": {
    "scrolled": true
   },
   "outputs": [],
   "source": []
  },
  {
   "cell_type": "code",
   "execution_count": 35,
   "metadata": {},
   "outputs": [],
   "source": [
    "badConv = {\n",
    "            'conversation': '<div class=\"conv leftConv\"><b>Person 1: </b>Hi, can you tell me about iPhone?</div><br /><div class=\"response rightConv\"><b>Person 2: </b>Exercise is useful.</div>',\n",
    "            'fileName': 'badFile',\n",
    "             'localIndex': -1,\n",
    "             'contextLen': -1,\n",
    "             'fileIndex': -1\n",
    "          }"
   ]
  },
  {
   "cell_type": "code",
   "execution_count": null,
   "metadata": {},
   "outputs": [],
   "source": []
  },
  {
   "cell_type": "code",
   "execution_count": 36,
   "metadata": {},
   "outputs": [],
   "source": [
    "nLast = len(divided[-1])\n",
    "\n",
    "while nLast < bucketSize:\n",
    "    divided[-1].append(padConv)\n",
    "    \n",
    "    nLast += 1"
   ]
  },
  {
   "cell_type": "code",
   "execution_count": null,
   "metadata": {},
   "outputs": [],
   "source": []
  },
  {
   "cell_type": "code",
   "execution_count": null,
   "metadata": {},
   "outputs": [],
   "source": []
  },
  {
   "cell_type": "code",
   "execution_count": null,
   "metadata": {},
   "outputs": [],
   "source": []
  },
  {
   "cell_type": "code",
   "execution_count": 37,
   "metadata": {},
   "outputs": [],
   "source": [
    "finalData = []"
   ]
  },
  {
   "cell_type": "code",
   "execution_count": 38,
   "metadata": {},
   "outputs": [],
   "source": [
    "for sample in divided:\n",
    "    \n",
    "    sample.append(badConv)\n",
    "    random.shuffle(sample)\n",
    "    \n",
    "    finalObj = {}\n",
    "    \n",
    "    for i in range(len(sample)):\n",
    "    \n",
    "        conversationKey = 'conversation-vt-' + str(i+1)\n",
    "        finalObj[conversationKey] = sample[i]['conversation']\n",
    "        \n",
    "        fileNameKey = 'fileName-vt-' + str(i+1)\n",
    "        finalObj[fileNameKey] = sample[i]['fileName']\n",
    "        \n",
    "        localIndexKey = 'localIndex-vt-' + str(i+1)\n",
    "        finalObj[localIndexKey] = sample[i]['localIndex']\n",
    "        \n",
    "        contextLenKey = 'contextLen-vt-' + str(i+1)\n",
    "        finalObj[contextLenKey] = sample[i]['contextLen']\n",
    "        \n",
    "        fileIndexKey = 'fileIndex-vt-' + str(i+1)\n",
    "        finalObj[fileIndexKey] = sample[i]['fileIndex']\n",
    "        \n",
    "    \n",
    "    \n",
    "    finalData.append(finalObj)\n",
    "        \n"
   ]
  },
  {
   "cell_type": "code",
   "execution_count": 39,
   "metadata": {},
   "outputs": [
    {
     "data": {
      "text/plain": [
       "{'conversation-vt-1': \"<div class='conv leftConv'><b>Person 1: </b>I love classic movies. Have you seen Gone with the wind?</div><br /><div class='response rightConv'><b>Person 2: </b>OH YES VIVIAN LEE IS GREAT</div>\",\n",
       " 'fileName-vt-1': '20200328-123929_263_live.pkl.json',\n",
       " 'localIndex-vt-1': 9,\n",
       " 'contextLen-vt-1': 1,\n",
       " 'fileIndex-vt-1': 10,\n",
       " 'conversation-vt-2': '<div class=\"conv leftConv\"><b>Person 1: </b>Hi, can you tell me about iPhone?</div><br /><div class=\"response rightConv\"><b>Person 2: </b>Exercise is useful.</div>',\n",
       " 'fileName-vt-2': 'badFile',\n",
       " 'localIndex-vt-2': -1,\n",
       " 'contextLen-vt-2': -1,\n",
       " 'fileIndex-vt-2': -1,\n",
       " 'conversation-vt-3': \"<div class='conv leftConv'><b>Person 1: </b>I love classic movies. Have you seen Gone with the wind?</div><br /><div class='response rightConv'><b>Person 2: </b>I have not seen Gone with the Wind. I will have to watch it because I like classic movies, too.</div>\",\n",
       " 'fileName-vt-3': '20200326-153325_39_live.pkl.json',\n",
       " 'localIndex-vt-3': 3,\n",
       " 'contextLen-vt-3': 1,\n",
       " 'fileIndex-vt-3': 10,\n",
       " 'conversation-vt-4': \"<div class='conv leftConv'><b>Person 1: </b>I love watching shows on Netflix, do you know what it is?</div><br /><div class='response rightConv'><b>Person 2: </b>Yes, I watch Netflix a lot!</div>\",\n",
       " 'fileName-vt-4': '20200328-103923_828_live.pkl.json',\n",
       " 'localIndex-vt-4': 3,\n",
       " 'contextLen-vt-4': 1,\n",
       " 'fileIndex-vt-4': 2,\n",
       " 'conversation-vt-5': '<div class=\"conv leftConv\"><b>Person 1: </b>Hi, can you tell me about iPhone?</div><br /><div class=\"response rightConv\"><b>Person 2: </b>Exercise is useful.</div>',\n",
       " 'fileName-vt-5': 'padFile',\n",
       " 'localIndex-vt-5': -1,\n",
       " 'contextLen-vt-5': -2,\n",
       " 'fileIndex-vt-5': -1,\n",
       " 'conversation-vt-6': \"<div class='conv leftConv'><b>Person 1: </b>I'm very interested in science and math.</div><div class='conv rightConv'><b>Person 2: </b>STEM is science, technology, engineering and mathematics </div><div class='conv leftConv'><b>Person 1: </b>Oh, I never knew that acronym. Is there more you can tell me about these fields of study?</div><br /><div class='response rightConv'><b>Person 2: </b>Well, it is the science, technology, science, engineering, engineering, and engineering.</div>\",\n",
       " 'fileName-vt-6': '20200329-184700_164_live.pkl.json',\n",
       " 'localIndex-vt-6': 5,\n",
       " 'contextLen-vt-6': 2,\n",
       " 'fileIndex-vt-6': 18}"
      ]
     },
     "execution_count": 39,
     "metadata": {},
     "output_type": "execute_result"
    }
   ],
   "source": [
    "finalData[-1]"
   ]
  },
  {
   "cell_type": "code",
   "execution_count": null,
   "metadata": {},
   "outputs": [],
   "source": []
  },
  {
   "cell_type": "code",
   "execution_count": 40,
   "metadata": {},
   "outputs": [],
   "source": [
    "CSVFile = open('./data_file_Phase2.csv', 'w') \n",
    "csv_writer = csv.writer(CSVFile) \n",
    "\n",
    "header = finalData[0].keys() \n",
    "csv_writer.writerow(header) \n",
    "\n",
    "for data in finalData:\n",
    "    csv_writer.writerow(data.values()) \n",
    "  \n",
    "CSVFile.close() "
   ]
  },
  {
   "cell_type": "code",
   "execution_count": null,
   "metadata": {},
   "outputs": [],
   "source": []
  },
  {
   "cell_type": "code",
   "execution_count": null,
   "metadata": {},
   "outputs": [],
   "source": []
  },
  {
   "cell_type": "code",
   "execution_count": null,
   "metadata": {},
   "outputs": [],
   "source": []
  },
  {
   "cell_type": "code",
   "execution_count": null,
   "metadata": {},
   "outputs": [],
   "source": []
  },
  {
   "cell_type": "code",
   "execution_count": null,
   "metadata": {},
   "outputs": [],
   "source": []
  },
  {
   "cell_type": "code",
   "execution_count": null,
   "metadata": {},
   "outputs": [],
   "source": []
  },
  {
   "cell_type": "code",
   "execution_count": null,
   "metadata": {},
   "outputs": [],
   "source": []
  },
  {
   "cell_type": "code",
   "execution_count": null,
   "metadata": {},
   "outputs": [],
   "source": []
  },
  {
   "cell_type": "code",
   "execution_count": 124,
   "metadata": {},
   "outputs": [],
   "source": [
    "#[x for x in allData if x['fileName'] == '20200212-010150_674_live.pkl.json']"
   ]
  },
  {
   "cell_type": "code",
   "execution_count": 125,
   "metadata": {},
   "outputs": [],
   "source": [
    "with open('o_data_file_SIGIR.csv') as f:\n",
    "    oreader = csv.DictReader(f)\n",
    "    orows = list(oreader)"
   ]
  },
  {
   "cell_type": "code",
   "execution_count": 126,
   "metadata": {},
   "outputs": [],
   "source": [
    "with open('data_file_SIGIR.csv') as f:\n",
    "    reader = csv.DictReader(f)\n",
    "    rows = list(reader) "
   ]
  },
  {
   "cell_type": "code",
   "execution_count": 127,
   "metadata": {},
   "outputs": [
    {
     "data": {
      "text/plain": [
       "1052"
      ]
     },
     "execution_count": 127,
     "metadata": {},
     "output_type": "execute_result"
    }
   ],
   "source": [
    "len(orows)"
   ]
  },
  {
   "cell_type": "code",
   "execution_count": 128,
   "metadata": {},
   "outputs": [
    {
     "data": {
      "text/plain": [
       "918"
      ]
     },
     "execution_count": 128,
     "metadata": {},
     "output_type": "execute_result"
    }
   ],
   "source": [
    "len(rows)"
   ]
  },
  {
   "cell_type": "code",
   "execution_count": 129,
   "metadata": {},
   "outputs": [],
   "source": [
    "#[x for x in orows if x['fileName'] == '20200212-010150_674_live.pkl.json']"
   ]
  },
  {
   "cell_type": "code",
   "execution_count": 130,
   "metadata": {},
   "outputs": [],
   "source": [
    "#orows[0]"
   ]
  },
  {
   "cell_type": "code",
   "execution_count": 131,
   "metadata": {},
   "outputs": [],
   "source": [
    "def Diff(li1, li2): \n",
    "    li_dif = [i for i in li1 if i not in li2] \n",
    "    return li_dif "
   ]
  },
  {
   "cell_type": "code",
   "execution_count": 132,
   "metadata": {
    "scrolled": false
   },
   "outputs": [],
   "source": [
    "diff = Diff(rows, orows)"
   ]
  },
  {
   "cell_type": "code",
   "execution_count": 133,
   "metadata": {},
   "outputs": [
    {
     "data": {
      "text/plain": [
       "107"
      ]
     },
     "execution_count": 133,
     "metadata": {},
     "output_type": "execute_result"
    }
   ],
   "source": [
    "len(diff)"
   ]
  },
  {
   "cell_type": "code",
   "execution_count": 134,
   "metadata": {},
   "outputs": [
    {
     "data": {
      "text/plain": [
       "odict_values([\"<div class='conv leftConv'><b>Person 1: </b>My favorite type of movie is a horror movie!  Are you familiar with any horror movies?</div><div class='conv rightConv'><b>Person 2: </b>I like Stephen King movies. Some horror I like </div><div class='conv leftConv'><b>Person 1: </b>I've always liked Dracula - I think those movies have been around for a long time!  Do you know of any of the early Dracula actors?</div><div class='conv rightConv'><b>Person 2: </b>I remember the books mostly , like Edgar Allen Poe, Bram Stoker and Mary Shelley</div><div class='conv leftConv'><b>Person 1: </b>How about zombie movies?  I think that the Walking Dead is based on a zombie movie - do you know which one?</div><br /><div class='response rightConv'><b>Person 2: </b>The Walking Dead is an ongoing black-and-white comic book series created by writer Robert Kirkman and artist Tony Moore.</div>\", '20200220-193811_96_live.pkl.json', '3', '3', '10'])"
      ]
     },
     "execution_count": 134,
     "metadata": {},
     "output_type": "execute_result"
    }
   ],
   "source": [
    "diff[0].values()"
   ]
  },
  {
   "cell_type": "code",
   "execution_count": 135,
   "metadata": {},
   "outputs": [],
   "source": [
    "CSVFile = open('./batch2_data_file_SIGIR.csv', 'w') \n",
    "csv_writer = csv.writer(CSVFile) \n",
    "\n",
    "header = diff[0].keys() \n",
    "csv_writer.writerow(header) \n",
    "\n",
    "for data in diff:\n",
    "    csv_writer.writerow(data.values()) \n",
    "  \n",
    "CSVFile.close() "
   ]
  },
  {
   "cell_type": "code",
   "execution_count": null,
   "metadata": {},
   "outputs": [],
   "source": []
  },
  {
   "cell_type": "code",
   "execution_count": null,
   "metadata": {},
   "outputs": [],
   "source": []
  },
  {
   "cell_type": "code",
   "execution_count": null,
   "metadata": {},
   "outputs": [],
   "source": []
  }
 ],
 "metadata": {
  "kernelspec": {
   "display_name": "Python 3",
   "language": "python",
   "name": "python3"
  },
  "language_info": {
   "codemirror_mode": {
    "name": "ipython",
    "version": 3
   },
   "file_extension": ".py",
   "mimetype": "text/x-python",
   "name": "python",
   "nbconvert_exporter": "python",
   "pygments_lexer": "ipython3",
   "version": "3.7.1"
  }
 },
 "nbformat": 4,
 "nbformat_minor": 2
}
