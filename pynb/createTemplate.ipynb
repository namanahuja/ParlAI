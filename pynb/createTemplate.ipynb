{
 "cells": [
  {
   "cell_type": "code",
   "execution_count": 43,
   "metadata": {},
   "outputs": [],
   "source": [
    "import random\n",
    "\n",
    "groupSize = 4\n",
    "bucketSize = groupSize + 1"
   ]
  },
  {
   "cell_type": "raw",
   "metadata": {},
   "source": [
    "\n"
   ]
  },
  {
   "cell_type": "code",
   "execution_count": 44,
   "metadata": {},
   "outputs": [],
   "source": [
    "js = '<!-- You must include this JavaScript file --> <script src=\"https://assets.crowd.aws/crowd-html-elements.js\"></script>'"
   ]
  },
  {
   "cell_type": "code",
   "execution_count": 45,
   "metadata": {},
   "outputs": [],
   "source": [
    "css = \"<style> .conv { clear: both; max-width: 90%; color: #8a6d3b; width: fit-content; border-radius: 10px; border: 1px solid; padding: 15px; margin-bottom: 15px; } .response { margin-top: 3%; clear: both; max-width: 90%; width: fit-content; border-radius: 10px; border: 1px solid; padding: 15px; font-weight: bold; color: firebrick; } .rightConv { float: right; background-color: #d9edf7; border-color: #bce8f1; } .leftConv { float: left; background-color: #ffefd5; border-color: #debb83; } /* The container */ .container { /*display: block;*/ position: relative; padding-left: 30px; margin-bottom: 12px; cursor: pointer; font-size: 18px; -webkit-user-select: none; -moz-user-select: none; -ms-user-select: none; user-select: none; margin: 2%; } /* Hide the browser's default radio button */ .container input { position: absolute; opacity: 0; cursor: pointer; } /* Create a custom radio button */ .checkmark { position: absolute; top: 0; left: 0; height: 20px; width: 20px; background-color: #eee; border-radius: 50%; } /* On mouse-over, add a grey background color */ .container:hover input ~ .checkmark { background-color: #ccc; } /* When the radio button is checked, add a blue background */ .container input:checked ~ .checkmark { background-color: #2196F3; } /* Create the indicator (the dot/circle - hidden when not checked) */ .checkmark:after { content: \"\"; position: absolute; display: none; } /* Show the indicator (dot/circle) when checked */ .container input:checked ~ .checkmark:after { display: block; } /* Style the indicator (dot/circle) */ .container .checkmark:after { border-radius: 50%; background: white; } .question { margin-bottom: 4%; } .questionType { color: darkgray; } .hrule {border: 2px solid #6192e8; border-radius: 5px;} </style>\""
   ]
  },
  {
   "cell_type": "code",
   "execution_count": 46,
   "metadata": {},
   "outputs": [],
   "source": [
    "fullCollection = \"\""
   ]
  },
  {
   "cell_type": "code",
   "execution_count": 47,
   "metadata": {},
   "outputs": [],
   "source": [
    "for i in range(bucketSize):\n",
    "    \n",
    "    conversationKey = 'conversation-' + str(i+1)\n",
    "    conversation = '<hr class=\"hRule\">' + '<b>Conversation ' + str(i+1) + '</b><div style=\"margin-bottom: 5%; margin-top: 2%;\"> <crowd-card style=\"padding: 2%; width:100%;\"> ${' + conversationKey + '} </crowd-card> </div>'\n",
    "    \n",
    "    InformativenessKey = 'Informativeness-' + str(i+1)\n",
    "    InformativenessQues = '<div class=\"question\"> <div><h3>Does the highlighted response contain sufficient information relevant to the conversation?</h3></div> <label class=\"container\">Very Insufficient<input type=\"radio\" name=\"' + InformativenessKey + '\" value=\"Very Insufficient\" required><span class=\"checkmark\"></span></label> <label class=\"container\">Slightly Insufficient<input type=\"radio\" name=\"'+ InformativenessKey +'\" value=\"Slightly Insufficient\" required><span class=\"checkmark\"></span></label> <label class=\"container\">Slightly Sufficient<input type=\"radio\" name=\"' + InformativenessKey + '\" value=\"Slightly Sufficient\" required><span class=\"checkmark\"></span></label> <label class=\"container\">Very Sufficient<input type=\"radio\" name=\"' + InformativenessKey +'\" value=\"Very Sufficient\" required><span class=\"checkmark\"></span></label> </div>'\n",
    "    \n",
    "    InterestingnessKey = 'Interestingness-' + str(i+1)\n",
    "    InterestingnessQues = '<div class=\"question\"> <div><h3>How interesting or boring did you find the highlighted response?</h3></div> <label class=\"container\">Very Boring<input type=\"radio\" name=\"' + InterestingnessKey + '\" value=\"Very Boring\" required><span class=\"checkmark\"></span></label> <label class=\"container\">Slightly Boring<input type=\"radio\" name=\"' + InterestingnessKey + '\" value=\"Slightly Boring\" required><span class=\"checkmark\"></span></label> <label class=\"container\">Slightly Interesting<input type=\"radio\" name=\"' + InterestingnessKey +'\" value=\"Slightly Interesting\" required><span class=\"checkmark\"></span></label> <label class=\"container\">Very Interesting<input type=\"radio\" name=\"' + InterestingnessKey + '\" value=\"Very Interesting\" required><span class=\"checkmark\"></span></label> </div>'\n",
    "    \n",
    "    FluencyKey = 'Fluency-' + str(i+1)\n",
    "    FluencyQues = '<div class=\"question\"> <div><h3>How natural is the highlighted response in English?</h3></div> <label class=\"container\">Very Unnatural<input type=\"radio\" name=\"' + FluencyKey + '\" value=\"Very Unnatural\" required><span class=\"checkmark\"></span></label> <label class=\"container\">Slightly Unnatural<input type=\"radio\" name=\"' + FluencyKey + '\" value=\"Slightly Unnatural\" required><span class=\"checkmark\"></span></label> <label class=\"container\">Slightly Natural<input type=\"radio\" name=\"' + FluencyKey + '\" value=\"Slightly Natural\" required><span class=\"checkmark\"></span></label> <label class=\"container\">Very Natural<input type=\"radio\" name=\"' + FluencyKey + '\" value=\"Very Natural\" required><span class=\"checkmark\"></span></label> </div>'\n",
    "    \n",
    "    HumannessKey = 'Humanness-' + str(i+1)\n",
    "    HumannessQues = '<div class=\"question\"> <div><h3>Do you think the highlighted response is provided by a bot or a human?</h3></div> <label class=\"container\">Definitely a bot<input type=\"radio\" name=\"' + HumannessKey + '\" value=\"Definitely a bot\" required><span class=\"checkmark\"></span></label> <label class=\"container\">More likely a bot<input type=\"radio\" name=\"' + HumannessKey + '\" value=\"More likely a bot\" required><span class=\"checkmark\"></span></label> <label class=\"container\">More likely a human<input type=\"radio\" name=\"' + HumannessKey + '\" value=\"More likely a human\" required><span class=\"checkmark\"></span></label> <label class=\"container\">Definitely a human<input type=\"radio\" name=\"' + HumannessKey + '\" value=\"Definitely a human\" required><span class=\"checkmark\"></span></label> </div>'\n",
    "    \n",
    "    \n",
    "    questionCollection = \"<div>\" + InformativenessQues + InterestingnessQues + FluencyQues + HumannessQues + \"</div>\"\n",
    "    \n",
    "    fileNameKey = 'fileName-' + str(i+1)\n",
    "    localIndexKey = 'localIndex-' + str(i+1)\n",
    "    contextLenKey = 'contextLen-' + str(i+1)\n",
    "    fileIndexKey = 'fileIndex-' + str(i+1)\n",
    "    \n",
    "    meta = '<p hidden>${' + fileNameKey + '}${' + localIndexKey + '}${' + contextLenKey + '}${' + fileIndexKey + '}</p>'\n",
    "    \n",
    "    fullCollection += \"<div>\" + conversation + questionCollection + meta + \"</div>\""
   ]
  },
  {
   "cell_type": "code",
   "execution_count": null,
   "metadata": {},
   "outputs": [],
   "source": []
  },
  {
   "cell_type": "code",
   "execution_count": null,
   "metadata": {},
   "outputs": [],
   "source": []
  },
  {
   "cell_type": "code",
   "execution_count": null,
   "metadata": {},
   "outputs": [],
   "source": []
  },
  {
   "cell_type": "code",
   "execution_count": null,
   "metadata": {},
   "outputs": [],
   "source": []
  },
  {
   "cell_type": "code",
   "execution_count": 48,
   "metadata": {},
   "outputs": [],
   "source": [
    "instructions = '<div> <h2>Rate the responses in the context of the given conversations</h2> <div>Read the conversations between <b>Person 1</b> and <b>Person 2</b> carefully. Rate the next responses <b>(highlighted)</b> according to the criteria mentioned below and click <b>Submit</b> to complete the task.</div> <br/> </div>'"
   ]
  },
  {
   "cell_type": "code",
   "execution_count": 49,
   "metadata": {},
   "outputs": [],
   "source": [
    "container = '<div style=\"width: 85%; margin: 0 10%; margin-bottom: 5%;\">' + instructions + fullCollection + '</div>'"
   ]
  },
  {
   "cell_type": "code",
   "execution_count": 50,
   "metadata": {},
   "outputs": [],
   "source": [
    "root = js + css + '<crowd-form answer-format=\"flatten-objects\"> <div>' + container + '</div> </crowd-form> '"
   ]
  },
  {
   "cell_type": "code",
   "execution_count": 51,
   "metadata": {},
   "outputs": [
    {
     "data": {
      "text/plain": [
       "'<!-- You must include this JavaScript file --> <script src=\"https://assets.crowd.aws/crowd-html-elements.js\"></script><style> .conv { clear: both; max-width: 90%; color: #8a6d3b; width: fit-content; border-radius: 10px; border: 1px solid; padding: 15px; margin-bottom: 15px; } .response { margin-top: 3%; clear: both; max-width: 90%; width: fit-content; border-radius: 10px; border: 1px solid; padding: 15px; font-weight: bold; color: firebrick; } .rightConv { float: right; background-color: #d9edf7; border-color: #bce8f1; } .leftConv { float: left; background-color: #ffefd5; border-color: #debb83; } /* The container */ .container { /*display: block;*/ position: relative; padding-left: 30px; margin-bottom: 12px; cursor: pointer; font-size: 18px; -webkit-user-select: none; -moz-user-select: none; -ms-user-select: none; user-select: none; margin: 2%; } /* Hide the browser\\'s default radio button */ .container input { position: absolute; opacity: 0; cursor: pointer; } /* Create a custom radio button */ .checkmark { position: absolute; top: 0; left: 0; height: 20px; width: 20px; background-color: #eee; border-radius: 50%; } /* On mouse-over, add a grey background color */ .container:hover input ~ .checkmark { background-color: #ccc; } /* When the radio button is checked, add a blue background */ .container input:checked ~ .checkmark { background-color: #2196F3; } /* Create the indicator (the dot/circle - hidden when not checked) */ .checkmark:after { content: ; position: absolute; display: none; } /* Show the indicator (dot/circle) when checked */ .container input:checked ~ .checkmark:after { display: block; } /* Style the indicator (dot/circle) */ .container .checkmark:after { border-radius: 50%; background: white; } .question { margin-bottom: 4%; } .questionType { color: darkgray; } .hrule {border: 2px solid #6192e8; border-radius: 5px;} </style><crowd-form answer-format=\"flatten-objects\"> <div><div style=\"width: 85%; margin: 0 10%; margin-bottom: 5%;\"><div> <h2>Rate the responses in the context of the given conversations</h2> <div>Read the conversations between <b>Person 1</b> and <b>Person 2</b> carefully. Rate the next responses <b>(highlighted)</b> according to the criteria mentioned below and click <b>Submit</b> to complete the task.</div> <br/> </div><div><hr class=\"hRule\"><b>Conversation 1</b><div style=\"margin-bottom: 5%; margin-top: 2%;\"> <crowd-card style=\"padding: 2%; width:100%;\"> ${conversation-1} </crowd-card> </div><div><div class=\"question\"> <div><h3>Does the highlighted response contain sufficient information relevant to the conversation?</h3></div> <label class=\"container\">Very Insufficient<input type=\"radio\" name=\"Informativeness-1\" value=\"Very Insufficient\" required><span class=\"checkmark\"></span></label> <label class=\"container\">Slightly Insufficient<input type=\"radio\" name=\"Informativeness-1\" value=\"Slightly Insufficient\" required><span class=\"checkmark\"></span></label> <label class=\"container\">Slightly Sufficient<input type=\"radio\" name=\"Informativeness-1\" value=\"Slightly Sufficient\" required><span class=\"checkmark\"></span></label> <label class=\"container\">Very Sufficient<input type=\"radio\" name=\"Informativeness-1\" value=\"Very Sufficient\" required><span class=\"checkmark\"></span></label> </div><div class=\"question\"> <div><h3>How interesting or boring did you find the highlighted response?</h3></div> <label class=\"container\">Very Boring<input type=\"radio\" name=\"Interestingness-1\" value=\"Very Boring\" required><span class=\"checkmark\"></span></label> <label class=\"container\">Slightly Boring<input type=\"radio\" name=\"Interestingness-1\" value=\"Slightly Boring\" required><span class=\"checkmark\"></span></label> <label class=\"container\">Slightly Interesting<input type=\"radio\" name=\"Interestingness-1\" value=\"Slightly Interesting\" required><span class=\"checkmark\"></span></label> <label class=\"container\">Very Interesting<input type=\"radio\" name=\"Interestingness-1\" value=\"Very Interesting\" required><span class=\"checkmark\"></span></label> </div><div class=\"question\"> <div><h3>How natural is the highlighted response in English?</h3></div> <label class=\"container\">Very Unnatural<input type=\"radio\" name=\"Fluency-1\" value=\"Very Unnatural\" required><span class=\"checkmark\"></span></label> <label class=\"container\">Slightly Unnatural<input type=\"radio\" name=\"Fluency-1\" value=\"Slightly Unnatural\" required><span class=\"checkmark\"></span></label> <label class=\"container\">Slightly Natural<input type=\"radio\" name=\"Fluency-1\" value=\"Slightly Natural\" required><span class=\"checkmark\"></span></label> <label class=\"container\">Very Natural<input type=\"radio\" name=\"Fluency-1\" value=\"Very Natural\" required><span class=\"checkmark\"></span></label> </div><div class=\"question\"> <div><h3>Do you think the highlighted response is provided by a bot or a human?</h3></div> <label class=\"container\">Definitely a bot<input type=\"radio\" name=\"Humanness-1\" value=\"Definitely a bot\" required><span class=\"checkmark\"></span></label> <label class=\"container\">More likely a bot<input type=\"radio\" name=\"Humanness-1\" value=\"More likely a bot\" required><span class=\"checkmark\"></span></label> <label class=\"container\">More likely a human<input type=\"radio\" name=\"Humanness-1\" value=\"More likely a human\" required><span class=\"checkmark\"></span></label> <label class=\"container\">Definitely a human<input type=\"radio\" name=\"Humanness-1\" value=\"Definitely a human\" required><span class=\"checkmark\"></span></label> </div></div><p hidden>${fileName-1}${localIndex-1}${contextLen-1}${fileIndex-1}</p></div><div><hr class=\"hRule\"><b>Conversation 2</b><div style=\"margin-bottom: 5%; margin-top: 2%;\"> <crowd-card style=\"padding: 2%; width:100%;\"> ${conversation-2} </crowd-card> </div><div><div class=\"question\"> <div><h3>Does the highlighted response contain sufficient information relevant to the conversation?</h3></div> <label class=\"container\">Very Insufficient<input type=\"radio\" name=\"Informativeness-2\" value=\"Very Insufficient\" required><span class=\"checkmark\"></span></label> <label class=\"container\">Slightly Insufficient<input type=\"radio\" name=\"Informativeness-2\" value=\"Slightly Insufficient\" required><span class=\"checkmark\"></span></label> <label class=\"container\">Slightly Sufficient<input type=\"radio\" name=\"Informativeness-2\" value=\"Slightly Sufficient\" required><span class=\"checkmark\"></span></label> <label class=\"container\">Very Sufficient<input type=\"radio\" name=\"Informativeness-2\" value=\"Very Sufficient\" required><span class=\"checkmark\"></span></label> </div><div class=\"question\"> <div><h3>How interesting or boring did you find the highlighted response?</h3></div> <label class=\"container\">Very Boring<input type=\"radio\" name=\"Interestingness-2\" value=\"Very Boring\" required><span class=\"checkmark\"></span></label> <label class=\"container\">Slightly Boring<input type=\"radio\" name=\"Interestingness-2\" value=\"Slightly Boring\" required><span class=\"checkmark\"></span></label> <label class=\"container\">Slightly Interesting<input type=\"radio\" name=\"Interestingness-2\" value=\"Slightly Interesting\" required><span class=\"checkmark\"></span></label> <label class=\"container\">Very Interesting<input type=\"radio\" name=\"Interestingness-2\" value=\"Very Interesting\" required><span class=\"checkmark\"></span></label> </div><div class=\"question\"> <div><h3>How natural is the highlighted response in English?</h3></div> <label class=\"container\">Very Unnatural<input type=\"radio\" name=\"Fluency-2\" value=\"Very Unnatural\" required><span class=\"checkmark\"></span></label> <label class=\"container\">Slightly Unnatural<input type=\"radio\" name=\"Fluency-2\" value=\"Slightly Unnatural\" required><span class=\"checkmark\"></span></label> <label class=\"container\">Slightly Natural<input type=\"radio\" name=\"Fluency-2\" value=\"Slightly Natural\" required><span class=\"checkmark\"></span></label> <label class=\"container\">Very Natural<input type=\"radio\" name=\"Fluency-2\" value=\"Very Natural\" required><span class=\"checkmark\"></span></label> </div><div class=\"question\"> <div><h3>Do you think the highlighted response is provided by a bot or a human?</h3></div> <label class=\"container\">Definitely a bot<input type=\"radio\" name=\"Humanness-2\" value=\"Definitely a bot\" required><span class=\"checkmark\"></span></label> <label class=\"container\">More likely a bot<input type=\"radio\" name=\"Humanness-2\" value=\"More likely a bot\" required><span class=\"checkmark\"></span></label> <label class=\"container\">More likely a human<input type=\"radio\" name=\"Humanness-2\" value=\"More likely a human\" required><span class=\"checkmark\"></span></label> <label class=\"container\">Definitely a human<input type=\"radio\" name=\"Humanness-2\" value=\"Definitely a human\" required><span class=\"checkmark\"></span></label> </div></div><p hidden>${fileName-2}${localIndex-2}${contextLen-2}${fileIndex-2}</p></div><div><hr class=\"hRule\"><b>Conversation 3</b><div style=\"margin-bottom: 5%; margin-top: 2%;\"> <crowd-card style=\"padding: 2%; width:100%;\"> ${conversation-3} </crowd-card> </div><div><div class=\"question\"> <div><h3>Does the highlighted response contain sufficient information relevant to the conversation?</h3></div> <label class=\"container\">Very Insufficient<input type=\"radio\" name=\"Informativeness-3\" value=\"Very Insufficient\" required><span class=\"checkmark\"></span></label> <label class=\"container\">Slightly Insufficient<input type=\"radio\" name=\"Informativeness-3\" value=\"Slightly Insufficient\" required><span class=\"checkmark\"></span></label> <label class=\"container\">Slightly Sufficient<input type=\"radio\" name=\"Informativeness-3\" value=\"Slightly Sufficient\" required><span class=\"checkmark\"></span></label> <label class=\"container\">Very Sufficient<input type=\"radio\" name=\"Informativeness-3\" value=\"Very Sufficient\" required><span class=\"checkmark\"></span></label> </div><div class=\"question\"> <div><h3>How interesting or boring did you find the highlighted response?</h3></div> <label class=\"container\">Very Boring<input type=\"radio\" name=\"Interestingness-3\" value=\"Very Boring\" required><span class=\"checkmark\"></span></label> <label class=\"container\">Slightly Boring<input type=\"radio\" name=\"Interestingness-3\" value=\"Slightly Boring\" required><span class=\"checkmark\"></span></label> <label class=\"container\">Slightly Interesting<input type=\"radio\" name=\"Interestingness-3\" value=\"Slightly Interesting\" required><span class=\"checkmark\"></span></label> <label class=\"container\">Very Interesting<input type=\"radio\" name=\"Interestingness-3\" value=\"Very Interesting\" required><span class=\"checkmark\"></span></label> </div><div class=\"question\"> <div><h3>How natural is the highlighted response in English?</h3></div> <label class=\"container\">Very Unnatural<input type=\"radio\" name=\"Fluency-3\" value=\"Very Unnatural\" required><span class=\"checkmark\"></span></label> <label class=\"container\">Slightly Unnatural<input type=\"radio\" name=\"Fluency-3\" value=\"Slightly Unnatural\" required><span class=\"checkmark\"></span></label> <label class=\"container\">Slightly Natural<input type=\"radio\" name=\"Fluency-3\" value=\"Slightly Natural\" required><span class=\"checkmark\"></span></label> <label class=\"container\">Very Natural<input type=\"radio\" name=\"Fluency-3\" value=\"Very Natural\" required><span class=\"checkmark\"></span></label> </div><div class=\"question\"> <div><h3>Do you think the highlighted response is provided by a bot or a human?</h3></div> <label class=\"container\">Definitely a bot<input type=\"radio\" name=\"Humanness-3\" value=\"Definitely a bot\" required><span class=\"checkmark\"></span></label> <label class=\"container\">More likely a bot<input type=\"radio\" name=\"Humanness-3\" value=\"More likely a bot\" required><span class=\"checkmark\"></span></label> <label class=\"container\">More likely a human<input type=\"radio\" name=\"Humanness-3\" value=\"More likely a human\" required><span class=\"checkmark\"></span></label> <label class=\"container\">Definitely a human<input type=\"radio\" name=\"Humanness-3\" value=\"Definitely a human\" required><span class=\"checkmark\"></span></label> </div></div><p hidden>${fileName-3}${localIndex-3}${contextLen-3}${fileIndex-3}</p></div><div><hr class=\"hRule\"><b>Conversation 4</b><div style=\"margin-bottom: 5%; margin-top: 2%;\"> <crowd-card style=\"padding: 2%; width:100%;\"> ${conversation-4} </crowd-card> </div><div><div class=\"question\"> <div><h3>Does the highlighted response contain sufficient information relevant to the conversation?</h3></div> <label class=\"container\">Very Insufficient<input type=\"radio\" name=\"Informativeness-4\" value=\"Very Insufficient\" required><span class=\"checkmark\"></span></label> <label class=\"container\">Slightly Insufficient<input type=\"radio\" name=\"Informativeness-4\" value=\"Slightly Insufficient\" required><span class=\"checkmark\"></span></label> <label class=\"container\">Slightly Sufficient<input type=\"radio\" name=\"Informativeness-4\" value=\"Slightly Sufficient\" required><span class=\"checkmark\"></span></label> <label class=\"container\">Very Sufficient<input type=\"radio\" name=\"Informativeness-4\" value=\"Very Sufficient\" required><span class=\"checkmark\"></span></label> </div><div class=\"question\"> <div><h3>How interesting or boring did you find the highlighted response?</h3></div> <label class=\"container\">Very Boring<input type=\"radio\" name=\"Interestingness-4\" value=\"Very Boring\" required><span class=\"checkmark\"></span></label> <label class=\"container\">Slightly Boring<input type=\"radio\" name=\"Interestingness-4\" value=\"Slightly Boring\" required><span class=\"checkmark\"></span></label> <label class=\"container\">Slightly Interesting<input type=\"radio\" name=\"Interestingness-4\" value=\"Slightly Interesting\" required><span class=\"checkmark\"></span></label> <label class=\"container\">Very Interesting<input type=\"radio\" name=\"Interestingness-4\" value=\"Very Interesting\" required><span class=\"checkmark\"></span></label> </div><div class=\"question\"> <div><h3>How natural is the highlighted response in English?</h3></div> <label class=\"container\">Very Unnatural<input type=\"radio\" name=\"Fluency-4\" value=\"Very Unnatural\" required><span class=\"checkmark\"></span></label> <label class=\"container\">Slightly Unnatural<input type=\"radio\" name=\"Fluency-4\" value=\"Slightly Unnatural\" required><span class=\"checkmark\"></span></label> <label class=\"container\">Slightly Natural<input type=\"radio\" name=\"Fluency-4\" value=\"Slightly Natural\" required><span class=\"checkmark\"></span></label> <label class=\"container\">Very Natural<input type=\"radio\" name=\"Fluency-4\" value=\"Very Natural\" required><span class=\"checkmark\"></span></label> </div><div class=\"question\"> <div><h3>Do you think the highlighted response is provided by a bot or a human?</h3></div> <label class=\"container\">Definitely a bot<input type=\"radio\" name=\"Humanness-4\" value=\"Definitely a bot\" required><span class=\"checkmark\"></span></label> <label class=\"container\">More likely a bot<input type=\"radio\" name=\"Humanness-4\" value=\"More likely a bot\" required><span class=\"checkmark\"></span></label> <label class=\"container\">More likely a human<input type=\"radio\" name=\"Humanness-4\" value=\"More likely a human\" required><span class=\"checkmark\"></span></label> <label class=\"container\">Definitely a human<input type=\"radio\" name=\"Humanness-4\" value=\"Definitely a human\" required><span class=\"checkmark\"></span></label> </div></div><p hidden>${fileName-4}${localIndex-4}${contextLen-4}${fileIndex-4}</p></div><div><hr class=\"hRule\"><b>Conversation 5</b><div style=\"margin-bottom: 5%; margin-top: 2%;\"> <crowd-card style=\"padding: 2%; width:100%;\"> ${conversation-5} </crowd-card> </div><div><div class=\"question\"> <div><h3>Does the highlighted response contain sufficient information relevant to the conversation?</h3></div> <label class=\"container\">Very Insufficient<input type=\"radio\" name=\"Informativeness-5\" value=\"Very Insufficient\" required><span class=\"checkmark\"></span></label> <label class=\"container\">Slightly Insufficient<input type=\"radio\" name=\"Informativeness-5\" value=\"Slightly Insufficient\" required><span class=\"checkmark\"></span></label> <label class=\"container\">Slightly Sufficient<input type=\"radio\" name=\"Informativeness-5\" value=\"Slightly Sufficient\" required><span class=\"checkmark\"></span></label> <label class=\"container\">Very Sufficient<input type=\"radio\" name=\"Informativeness-5\" value=\"Very Sufficient\" required><span class=\"checkmark\"></span></label> </div><div class=\"question\"> <div><h3>How interesting or boring did you find the highlighted response?</h3></div> <label class=\"container\">Very Boring<input type=\"radio\" name=\"Interestingness-5\" value=\"Very Boring\" required><span class=\"checkmark\"></span></label> <label class=\"container\">Slightly Boring<input type=\"radio\" name=\"Interestingness-5\" value=\"Slightly Boring\" required><span class=\"checkmark\"></span></label> <label class=\"container\">Slightly Interesting<input type=\"radio\" name=\"Interestingness-5\" value=\"Slightly Interesting\" required><span class=\"checkmark\"></span></label> <label class=\"container\">Very Interesting<input type=\"radio\" name=\"Interestingness-5\" value=\"Very Interesting\" required><span class=\"checkmark\"></span></label> </div><div class=\"question\"> <div><h3>How natural is the highlighted response in English?</h3></div> <label class=\"container\">Very Unnatural<input type=\"radio\" name=\"Fluency-5\" value=\"Very Unnatural\" required><span class=\"checkmark\"></span></label> <label class=\"container\">Slightly Unnatural<input type=\"radio\" name=\"Fluency-5\" value=\"Slightly Unnatural\" required><span class=\"checkmark\"></span></label> <label class=\"container\">Slightly Natural<input type=\"radio\" name=\"Fluency-5\" value=\"Slightly Natural\" required><span class=\"checkmark\"></span></label> <label class=\"container\">Very Natural<input type=\"radio\" name=\"Fluency-5\" value=\"Very Natural\" required><span class=\"checkmark\"></span></label> </div><div class=\"question\"> <div><h3>Do you think the highlighted response is provided by a bot or a human?</h3></div> <label class=\"container\">Definitely a bot<input type=\"radio\" name=\"Humanness-5\" value=\"Definitely a bot\" required><span class=\"checkmark\"></span></label> <label class=\"container\">More likely a bot<input type=\"radio\" name=\"Humanness-5\" value=\"More likely a bot\" required><span class=\"checkmark\"></span></label> <label class=\"container\">More likely a human<input type=\"radio\" name=\"Humanness-5\" value=\"More likely a human\" required><span class=\"checkmark\"></span></label> <label class=\"container\">Definitely a human<input type=\"radio\" name=\"Humanness-5\" value=\"Definitely a human\" required><span class=\"checkmark\"></span></label> </div></div><p hidden>${fileName-5}${localIndex-5}${contextLen-5}${fileIndex-5}</p></div></div></div> </crowd-form> '"
      ]
     },
     "execution_count": 51,
     "metadata": {},
     "output_type": "execute_result"
    }
   ],
   "source": [
    "root"
   ]
  },
  {
   "cell_type": "code",
   "execution_count": null,
   "metadata": {},
   "outputs": [],
   "source": []
  },
  {
   "cell_type": "code",
   "execution_count": null,
   "metadata": {},
   "outputs": [],
   "source": []
  },
  {
   "cell_type": "code",
   "execution_count": null,
   "metadata": {},
   "outputs": [],
   "source": []
  },
  {
   "cell_type": "code",
   "execution_count": null,
   "metadata": {},
   "outputs": [],
   "source": []
  },
  {
   "cell_type": "code",
   "execution_count": null,
   "metadata": {},
   "outputs": [],
   "source": []
  }
 ],
 "metadata": {
  "kernelspec": {
   "display_name": "Python 3",
   "language": "python",
   "name": "python3"
  },
  "language_info": {
   "codemirror_mode": {
    "name": "ipython",
    "version": 3
   },
   "file_extension": ".py",
   "mimetype": "text/x-python",
   "name": "python",
   "nbconvert_exporter": "python",
   "pygments_lexer": "ipython3",
   "version": "3.7.1"
  }
 },
 "nbformat": 4,
 "nbformat_minor": 2
}
