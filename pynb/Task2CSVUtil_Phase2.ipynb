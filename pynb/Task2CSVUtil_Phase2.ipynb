{
 "cells": [
  {
   "cell_type": "code",
   "execution_count": 151,
   "metadata": {},
   "outputs": [],
   "source": [
    "import os\n",
    "from pathlib import Path\n",
    "import sys\n",
    "import _pickle as pickle\n",
    "import json\n",
    "import copy \n",
    "import pandas,csv\n",
    "import random"
   ]
  },
  {
   "cell_type": "code",
   "execution_count": 152,
   "metadata": {},
   "outputs": [],
   "source": [
    "bucketSize = 4\n",
    "\n",
    "def chunks(lst, n):\n",
    "    \"\"\"Yield successive n-sized chunks from lst.\"\"\"\n",
    "    for i in range(0, len(lst), n):\n",
    "        yield lst[i:i + n]   "
   ]
  },
  {
   "cell_type": "code",
   "execution_count": 153,
   "metadata": {},
   "outputs": [],
   "source": [
    "allData = []\n",
    "uniqueSet = set()\n",
    "\n",
    "personOne = \"<b>Person 1: </b>\"\n",
    "personTwo = \"<b>Person 2: </b>\"\n",
    "\n",
    "\n",
    "for root, dirs, files in os.walk(\"./complete/clean\"):\n",
    "    for file in files:\n",
    "        if file.endswith(\".json\"):\n",
    "            fileName = os.path.join(root, file)\n",
    "            \n",
    "            with open(fileName) as json_file:\n",
    "                \n",
    "                try:\n",
    "                    data = json.load(json_file)\n",
    "                                    \n",
    "                    currentFileName = data['currentFileName']\n",
    "\n",
    "\n",
    "                    dialogs = data['dialogs']\n",
    "                    \n",
    "                    \n",
    "\n",
    "                    for dialog in dialogs:\n",
    "\n",
    "                        convObject = {}\n",
    "                        currStr = \"\"\n",
    "\n",
    "                        if(dialog['sampleTask']):\n",
    "                            continue\n",
    "\n",
    "                        providedConv = dialog['context']['providedConversation']\n",
    "                        userResponse = dialog['context']['userResponse']\n",
    "                        localIndex = dialog['context']['localIndex']\n",
    "\n",
    "                        uniqueStr = 'context=' + str(dialog['context']['contextLen']) + 'index=' + str(dialog['context']['fileIndex']) + 'res=' + userResponse.strip()\n",
    "\n",
    "\n",
    "                        if(uniqueStr in uniqueSet):\n",
    "                            #print(uniqueStr)\n",
    "                            continue\n",
    "\n",
    "                        uniqueSet.add(uniqueStr)\n",
    "\n",
    "                        leftFloat = True\n",
    "\n",
    "                        for j in range(0, len(providedConv)):\n",
    "                            if (leftFloat is True):\n",
    "                                currStr += \"<div class='conv leftConv'>\" + personOne + providedConv[j] + \"</div>\"\n",
    "                            else:\n",
    "                                currStr += \"<div class='conv rightConv'>\" + personTwo + providedConv[j] + \"</div>\"\n",
    "\n",
    "                            leftFloat = not leftFloat\n",
    "\n",
    "\n",
    "                        if (leftFloat is True):\n",
    "                            respStr = \"<div class='response leftConv'>\" + personOne + userResponse + \"</div>\"\n",
    "                        else:\n",
    "                            respStr = \"<div class='response rightConv'>\" + personTwo + userResponse + \"</div>\"\n",
    "\n",
    "\n",
    "                        convObject['conversation'] = currStr + \"<br />\" +respStr\n",
    "                        convObject['fileName'] = currentFileName\n",
    "                        convObject['localIndex'] = localIndex\n",
    "                        convObject['contextLen'] = dialog['context']['contextLen']\n",
    "                        convObject['fileIndex'] = dialog['context']['fileIndex']\n",
    "\n",
    "                        allData.append(convObject)\n",
    "                    \n",
    "                    \n",
    "                    \n",
    "                except Exception as e: print(e)\n",
    "                    \n",
    "                    \n",
    "#random.shuffle(allData)"
   ]
  },
  {
   "cell_type": "code",
   "execution_count": 154,
   "metadata": {},
   "outputs": [
    {
     "data": {
      "text/plain": [
       "414"
      ]
     },
     "execution_count": 154,
     "metadata": {},
     "output_type": "execute_result"
    }
   ],
   "source": [
    "len(allData)\n"
   ]
  },
  {
   "cell_type": "code",
   "execution_count": 155,
   "metadata": {},
   "outputs": [
    {
     "data": {
      "text/plain": [
       "{'conversation': \"<div class='conv leftConv'><b>Person 1: </b>Hi, have you ever seen the movie mortal combat?</div><br /><div class='response rightConv'><b>Person 2: </b>I haven't, is that the one based on an old video game?</div>\",\n",
       " 'fileName': '20200323-160400_296_live.pkl.json',\n",
       " 'localIndex': 3,\n",
       " 'contextLen': 1,\n",
       " 'fileIndex': 29}"
      ]
     },
     "execution_count": 155,
     "metadata": {},
     "output_type": "execute_result"
    }
   ],
   "source": [
    "allData[0]"
   ]
  },
  {
   "cell_type": "code",
   "execution_count": null,
   "metadata": {},
   "outputs": [],
   "source": []
  },
  {
   "cell_type": "code",
   "execution_count": null,
   "metadata": {},
   "outputs": [],
   "source": []
  },
  {
   "cell_type": "code",
   "execution_count": 156,
   "metadata": {},
   "outputs": [],
   "source": [
    "divided = list(chunks(allData, bucketSize))"
   ]
  },
  {
   "cell_type": "code",
   "execution_count": 157,
   "metadata": {},
   "outputs": [
    {
     "data": {
      "text/plain": [
       "104"
      ]
     },
     "execution_count": 157,
     "metadata": {},
     "output_type": "execute_result"
    }
   ],
   "source": [
    "len(divided)"
   ]
  },
  {
   "cell_type": "code",
   "execution_count": null,
   "metadata": {},
   "outputs": [],
   "source": []
  },
  {
   "cell_type": "code",
   "execution_count": 158,
   "metadata": {},
   "outputs": [],
   "source": [
    "padConv = {\n",
    "            'conversation': '<div class=\"conv leftConv\"><b>Person 1: </b>Hi, can you tell me about iPhone?</div><br /><div class=\"response rightConv\"><b>Person 2: </b>Exercise is useful.</div>',\n",
    "            'fileName': 'padFile',\n",
    "             'localIndex': -1,\n",
    "             'contextLen': -1,\n",
    "             'fileIndex': -1\n",
    "          }"
   ]
  },
  {
   "cell_type": "code",
   "execution_count": null,
   "metadata": {},
   "outputs": [],
   "source": []
  },
  {
   "cell_type": "code",
   "execution_count": null,
   "metadata": {
    "scrolled": true
   },
   "outputs": [],
   "source": []
  },
  {
   "cell_type": "code",
   "execution_count": 159,
   "metadata": {},
   "outputs": [],
   "source": [
    "badConv = {\n",
    "            'conversation': '<div class=\"conv leftConv\"><b>Person 1: </b>Hi, can you tell me about iPhone?</div><br /><div class=\"response rightConv\"><b>Person 2: </b>Exercise is useful.</div>',\n",
    "            'fileName': 'badFile',\n",
    "             'localIndex': -1,\n",
    "             'contextLen': -1,\n",
    "             'fileIndex': -1\n",
    "          }"
   ]
  },
  {
   "cell_type": "code",
   "execution_count": null,
   "metadata": {},
   "outputs": [],
   "source": []
  },
  {
   "cell_type": "code",
   "execution_count": 160,
   "metadata": {},
   "outputs": [],
   "source": [
    "nLast = len(divided[-1])\n",
    "\n",
    "while nLast < bucketSize:\n",
    "    divided[-1].append(padConv)\n",
    "    \n",
    "    nLast += 1"
   ]
  },
  {
   "cell_type": "code",
   "execution_count": null,
   "metadata": {},
   "outputs": [],
   "source": []
  },
  {
   "cell_type": "code",
   "execution_count": null,
   "metadata": {},
   "outputs": [],
   "source": []
  },
  {
   "cell_type": "code",
   "execution_count": null,
   "metadata": {},
   "outputs": [],
   "source": []
  },
  {
   "cell_type": "code",
   "execution_count": 161,
   "metadata": {},
   "outputs": [],
   "source": [
    "finalData = []"
   ]
  },
  {
   "cell_type": "code",
   "execution_count": 162,
   "metadata": {},
   "outputs": [],
   "source": [
    "for sample in divided:\n",
    "    \n",
    "    sample.append(badConv)\n",
    "    random.shuffle(sample)\n",
    "    \n",
    "    finalObj = {}\n",
    "    \n",
    "    for i in range(len(sample)):\n",
    "    \n",
    "        conversationKey = 'conversation-' + str(i+1)\n",
    "        finalObj[conversationKey] = sample[i]['conversation']\n",
    "        \n",
    "        fileNameKey = 'fileName-' + str(i+1)\n",
    "        finalObj[fileNameKey] = sample[i]['fileName']\n",
    "        \n",
    "        localIndexKey = 'localIndex-' + str(i+1)\n",
    "        finalObj[localIndexKey] = sample[i]['localIndex']\n",
    "        \n",
    "        contextLenKey = 'contextLen-' + str(i+1)\n",
    "        finalObj[contextLenKey] = sample[i]['contextLen']\n",
    "        \n",
    "        fileIndexKey = 'fileIndex-' + str(i+1)\n",
    "        finalObj[fileIndexKey] = sample[i]['fileIndex']\n",
    "        \n",
    "    \n",
    "    \n",
    "    finalData.append(finalObj)\n",
    "        \n"
   ]
  },
  {
   "cell_type": "code",
   "execution_count": 164,
   "metadata": {},
   "outputs": [
    {
     "data": {
      "text/plain": [
       "{'conversation-1': '<div class=\"conv leftConv\"><b>Person 1: </b>Hi, can you tell me about iPhone?</div><br /><div class=\"response rightConv\"><b>Person 2: </b>Exercise is useful.</div>',\n",
       " 'fileName-1': 'padFile',\n",
       " 'localIndex-1': -1,\n",
       " 'contextLen-1': -1,\n",
       " 'fileIndex-1': -1,\n",
       " 'conversation-2': \"<div class='conv leftConv'><b>Person 1: </b>I grew up with 8 older siblings, pretty crazy right? I think it has something to do with a fertility factor, but I have no idea what that is really, can you explain it?</div><div class='conv rightConv'><b>Person 2: </b>Whoa 8!!! Fertility factor has to do with how likely a person is to have children. </div><div class='conv leftConv'><b>Person 1: </b>Oh I see, I guess my mother had quite a high fertility factor then.</div><div class='conv rightConv'><b>Person 2: </b>Yes she did.  Fertility factors  is based on a lot of things. </div><div class='conv leftConv'><b>Person 1: </b>Alright, can you elaborate on what some of those things are?</div><br /><div class='response rightConv'><b>Person 2: </b>Fertility can be based on genetics, diet and contraceptives among others!</div>\",\n",
       " 'fileName-2': '20200323-152443_95_live.pkl.json',\n",
       " 'localIndex-2': 15,\n",
       " 'contextLen-2': 3,\n",
       " 'fileIndex-2': 27,\n",
       " 'conversation-3': '<div class=\"conv leftConv\"><b>Person 1: </b>Hi, can you tell me about iPhone?</div><br /><div class=\"response rightConv\"><b>Person 2: </b>Exercise is useful.</div>',\n",
       " 'fileName-3': 'padFile',\n",
       " 'localIndex-3': -1,\n",
       " 'contextLen-3': -1,\n",
       " 'fileIndex-3': -1,\n",
       " 'conversation-4': \"<div class='conv leftConv'><b>Person 1: </b>I just moved to LA from Tokyo. Both are big cities, but LA is really pretty!</div><div class='conv rightConv'><b>Person 2: </b>It is, Tokyo though is the best, Ive lived here for all my life and im also a local guide, Is there anything you'd like to know about it?</div><div class='conv leftConv'><b>Person 1: </b>Woah neat! I only lived there for a year or so, so I didn't get to see many tourist sites. Do you have any recommendations if I ever go back?</div><div class='conv rightConv'><b>Person 2: </b>I recommend visiting the greater Tokyo Area as is the most populated metropolitan area and there is plenty of sights to see and things to do. </div><div class='conv leftConv'><b>Person 1: </b>Awesome! Any specific sites I should check out? My friend told me I should check out Asakusa. </div><br /><div class='response rightConv'><b>Person 2: </b>I would recommend that you consult with their tourist office. I am sure they will have great recommendations for you!</div>\",\n",
       " 'fileName-4': '20200323-152443_95_live.pkl.json',\n",
       " 'localIndex-4': 13,\n",
       " 'contextLen-4': 3,\n",
       " 'fileIndex-4': 24,\n",
       " 'conversation-5': '<div class=\"conv leftConv\"><b>Person 1: </b>Hi, can you tell me about iPhone?</div><br /><div class=\"response rightConv\"><b>Person 2: </b>Exercise is useful.</div>',\n",
       " 'fileName-5': 'badFile',\n",
       " 'localIndex-5': -1,\n",
       " 'contextLen-5': -1,\n",
       " 'fileIndex-5': -1}"
      ]
     },
     "execution_count": 164,
     "metadata": {},
     "output_type": "execute_result"
    }
   ],
   "source": [
    "finalData[-1]"
   ]
  },
  {
   "cell_type": "code",
   "execution_count": null,
   "metadata": {},
   "outputs": [],
   "source": []
  },
  {
   "cell_type": "code",
   "execution_count": 163,
   "metadata": {},
   "outputs": [],
   "source": [
    "CSVFile = open('./data_file_Phase2.csv', 'w') \n",
    "csv_writer = csv.writer(CSVFile) \n",
    "\n",
    "header = finalData[0].keys() \n",
    "csv_writer.writerow(header) \n",
    "\n",
    "for data in finalData:\n",
    "    csv_writer.writerow(data.values()) \n",
    "  \n",
    "CSVFile.close() "
   ]
  },
  {
   "cell_type": "code",
   "execution_count": null,
   "metadata": {},
   "outputs": [],
   "source": []
  },
  {
   "cell_type": "code",
   "execution_count": null,
   "metadata": {},
   "outputs": [],
   "source": []
  },
  {
   "cell_type": "code",
   "execution_count": null,
   "metadata": {},
   "outputs": [],
   "source": []
  },
  {
   "cell_type": "code",
   "execution_count": null,
   "metadata": {},
   "outputs": [],
   "source": []
  },
  {
   "cell_type": "code",
   "execution_count": null,
   "metadata": {},
   "outputs": [],
   "source": []
  },
  {
   "cell_type": "code",
   "execution_count": null,
   "metadata": {},
   "outputs": [],
   "source": []
  },
  {
   "cell_type": "code",
   "execution_count": null,
   "metadata": {},
   "outputs": [],
   "source": []
  },
  {
   "cell_type": "code",
   "execution_count": null,
   "metadata": {},
   "outputs": [],
   "source": []
  },
  {
   "cell_type": "code",
   "execution_count": 124,
   "metadata": {},
   "outputs": [],
   "source": [
    "#[x for x in allData if x['fileName'] == '20200212-010150_674_live.pkl.json']"
   ]
  },
  {
   "cell_type": "code",
   "execution_count": 125,
   "metadata": {},
   "outputs": [],
   "source": [
    "with open('o_data_file_SIGIR.csv') as f:\n",
    "    oreader = csv.DictReader(f)\n",
    "    orows = list(oreader)"
   ]
  },
  {
   "cell_type": "code",
   "execution_count": 126,
   "metadata": {},
   "outputs": [],
   "source": [
    "with open('data_file_SIGIR.csv') as f:\n",
    "    reader = csv.DictReader(f)\n",
    "    rows = list(reader) "
   ]
  },
  {
   "cell_type": "code",
   "execution_count": 127,
   "metadata": {},
   "outputs": [
    {
     "data": {
      "text/plain": [
       "1052"
      ]
     },
     "execution_count": 127,
     "metadata": {},
     "output_type": "execute_result"
    }
   ],
   "source": [
    "len(orows)"
   ]
  },
  {
   "cell_type": "code",
   "execution_count": 128,
   "metadata": {},
   "outputs": [
    {
     "data": {
      "text/plain": [
       "918"
      ]
     },
     "execution_count": 128,
     "metadata": {},
     "output_type": "execute_result"
    }
   ],
   "source": [
    "len(rows)"
   ]
  },
  {
   "cell_type": "code",
   "execution_count": 129,
   "metadata": {},
   "outputs": [],
   "source": [
    "#[x for x in orows if x['fileName'] == '20200212-010150_674_live.pkl.json']"
   ]
  },
  {
   "cell_type": "code",
   "execution_count": 130,
   "metadata": {},
   "outputs": [],
   "source": [
    "#orows[0]"
   ]
  },
  {
   "cell_type": "code",
   "execution_count": 131,
   "metadata": {},
   "outputs": [],
   "source": [
    "def Diff(li1, li2): \n",
    "    li_dif = [i for i in li1 if i not in li2] \n",
    "    return li_dif "
   ]
  },
  {
   "cell_type": "code",
   "execution_count": 132,
   "metadata": {
    "scrolled": false
   },
   "outputs": [],
   "source": [
    "diff = Diff(rows, orows)"
   ]
  },
  {
   "cell_type": "code",
   "execution_count": 133,
   "metadata": {},
   "outputs": [
    {
     "data": {
      "text/plain": [
       "107"
      ]
     },
     "execution_count": 133,
     "metadata": {},
     "output_type": "execute_result"
    }
   ],
   "source": [
    "len(diff)"
   ]
  },
  {
   "cell_type": "code",
   "execution_count": 134,
   "metadata": {},
   "outputs": [
    {
     "data": {
      "text/plain": [
       "odict_values([\"<div class='conv leftConv'><b>Person 1: </b>My favorite type of movie is a horror movie!  Are you familiar with any horror movies?</div><div class='conv rightConv'><b>Person 2: </b>I like Stephen King movies. Some horror I like </div><div class='conv leftConv'><b>Person 1: </b>I've always liked Dracula - I think those movies have been around for a long time!  Do you know of any of the early Dracula actors?</div><div class='conv rightConv'><b>Person 2: </b>I remember the books mostly , like Edgar Allen Poe, Bram Stoker and Mary Shelley</div><div class='conv leftConv'><b>Person 1: </b>How about zombie movies?  I think that the Walking Dead is based on a zombie movie - do you know which one?</div><br /><div class='response rightConv'><b>Person 2: </b>The Walking Dead is an ongoing black-and-white comic book series created by writer Robert Kirkman and artist Tony Moore.</div>\", '20200220-193811_96_live.pkl.json', '3', '3', '10'])"
      ]
     },
     "execution_count": 134,
     "metadata": {},
     "output_type": "execute_result"
    }
   ],
   "source": [
    "diff[0].values()"
   ]
  },
  {
   "cell_type": "code",
   "execution_count": 135,
   "metadata": {},
   "outputs": [],
   "source": [
    "CSVFile = open('./batch2_data_file_SIGIR.csv', 'w') \n",
    "csv_writer = csv.writer(CSVFile) \n",
    "\n",
    "header = diff[0].keys() \n",
    "csv_writer.writerow(header) \n",
    "\n",
    "for data in diff:\n",
    "    csv_writer.writerow(data.values()) \n",
    "  \n",
    "CSVFile.close() "
   ]
  },
  {
   "cell_type": "code",
   "execution_count": null,
   "metadata": {},
   "outputs": [],
   "source": []
  },
  {
   "cell_type": "code",
   "execution_count": null,
   "metadata": {},
   "outputs": [],
   "source": []
  },
  {
   "cell_type": "code",
   "execution_count": null,
   "metadata": {},
   "outputs": [],
   "source": []
  }
 ],
 "metadata": {
  "kernelspec": {
   "display_name": "Python 3",
   "language": "python",
   "name": "python3"
  },
  "language_info": {
   "codemirror_mode": {
    "name": "ipython",
    "version": 3
   },
   "file_extension": ".py",
   "mimetype": "text/x-python",
   "name": "python",
   "nbconvert_exporter": "python",
   "pygments_lexer": "ipython3",
   "version": "3.7.1"
  }
 },
 "nbformat": 4,
 "nbformat_minor": 2
}
