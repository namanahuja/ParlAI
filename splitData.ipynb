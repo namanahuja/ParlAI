{
 "cells": [
  {
   "cell_type": "code",
   "execution_count": 28,
   "metadata": {},
   "outputs": [],
   "source": [
    "import os\n",
    "from pathlib import Path\n",
    "import sys\n",
    "import os\n",
    "import _pickle as pickle\n",
    "import json"
   ]
  },
  {
   "cell_type": "code",
   "execution_count": 29,
   "metadata": {},
   "outputs": [],
   "source": [
    "Path(\"./complete/full\").mkdir(parents=True, exist_ok=True)\n",
    "Path(\"./incomplete/full\").mkdir(parents=True, exist_ok=True)\n",
    "def convert_dict_to_json(file_path):\n",
    "    baseName = os.path.basename(file_path)\n",
    "    if('sandbox' in file_path):\n",
    "        return\n",
    "    \n",
    "    if ('incomplete' in file_path):\n",
    "        savePath = './incomplete/full/' + baseName \n",
    "    else:\n",
    "        savePath = './complete/full/' + baseName \n",
    "        \n",
    "    with open(file_path, 'rb') as fpkl, open('%s.json' % savePath, 'w') as fjson:\n",
    "        data = pickle.load(fpkl)\n",
    "        json.dump(data, fjson, ensure_ascii=False, sort_keys=True, indent=4)"
   ]
  },
  {
   "cell_type": "code",
   "execution_count": 30,
   "metadata": {},
   "outputs": [],
   "source": [
    "for root, dirs, files in os.walk(\"./raw\"):\n",
    "    for file in files:\n",
    "        if file.endswith(\".pkl\"):\n",
    "             convert_dict_to_json(os.path.join(root, file))"
   ]
  },
  {
   "cell_type": "code",
   "execution_count": 31,
   "metadata": {},
   "outputs": [],
   "source": [
    "Path(\"./complete/clean\").mkdir(parents=True, exist_ok=True)\n",
    "Path(\"./incomplete/clean\").mkdir(parents=True, exist_ok=True)"
   ]
  },
  {
   "cell_type": "code",
   "execution_count": 39,
   "metadata": {},
   "outputs": [
    {
     "name": "stdout",
     "output_type": "stream",
     "text": [
      "['3E13VNJ1NQ1MSSI00O7SHZ8WONYI1A']\n"
     ]
    }
   ],
   "source": [
    "for root, dirs, files in os.walk(\"./complete/full\"):\n",
    "    for file in files:\n",
    "        if file.endswith(\".json\"):\n",
    "            fileName = os.path.join(root, file)\n",
    "            with open(fileName) as json_file:\n",
    "                data = json.load(json_file)\n",
    "                print(data['assignment_ids'])\n",
    "                "
   ]
  },
  {
   "cell_type": "code",
   "execution_count": null,
   "metadata": {},
   "outputs": [],
   "source": []
  }
 ],
 "metadata": {
  "kernelspec": {
   "display_name": "Python 3",
   "language": "python",
   "name": "python3"
  },
  "language_info": {
   "codemirror_mode": {
    "name": "ipython",
    "version": 3
   },
   "file_extension": ".py",
   "mimetype": "text/x-python",
   "name": "python",
   "nbconvert_exporter": "python",
   "pygments_lexer": "ipython3",
   "version": "3.7.1"
  }
 },
 "nbformat": 4,
 "nbformat_minor": 2
}
