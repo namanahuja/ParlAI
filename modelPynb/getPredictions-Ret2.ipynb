{
 "cells": [
  {
   "cell_type": "code",
   "execution_count": 13,
   "metadata": {},
   "outputs": [],
   "source": [
    "import json"
   ]
  },
  {
   "cell_type": "code",
   "execution_count": 14,
   "metadata": {},
   "outputs": [],
   "source": [
    "with open('predictionsRetEdit.json') as json_file:\n",
    "    sessions = json.load(json_file)"
   ]
  },
  {
   "cell_type": "code",
   "execution_count": 15,
   "metadata": {},
   "outputs": [],
   "source": [
    "with open('testData.json') as json_file:\n",
    "    testData = json.load(json_file)"
   ]
  },
  {
   "cell_type": "code",
   "execution_count": 16,
   "metadata": {},
   "outputs": [],
   "source": [
    "testData = testData['data']"
   ]
  },
  {
   "cell_type": "code",
   "execution_count": 17,
   "metadata": {},
   "outputs": [],
   "source": [
    "allPredicitons = []\n",
    "\n",
    "\n",
    "contextLen = 2"
   ]
  },
  {
   "cell_type": "code",
   "execution_count": 18,
   "metadata": {},
   "outputs": [
    {
     "data": {
      "text/plain": [
       "'Exactly, do you know any thing about Island north Atlantic?'"
      ]
     },
     "execution_count": 18,
     "metadata": {},
     "output_type": "execute_result"
    }
   ],
   "source": [
    "sessions[0]['conversation'][1]['wizard_of_wikipedia']"
   ]
  },
  {
   "cell_type": "code",
   "execution_count": 19,
   "metadata": {},
   "outputs": [
    {
     "data": {
      "text/plain": [
       "512"
      ]
     },
     "execution_count": 19,
     "metadata": {},
     "output_type": "execute_result"
    }
   ],
   "source": [
    "len(sessions)"
   ]
  },
  {
   "cell_type": "code",
   "execution_count": 20,
   "metadata": {},
   "outputs": [],
   "source": [
    "for i in range(len(sessions)):\n",
    "    session = sessions[i]\n",
    "    try:\n",
    "        \n",
    "        #firstConv = session['conversation'][0]\n",
    "        #firstConvSplit = firstConv['wizard_of_wikipedia'].split(\"\\n\")\n",
    "        #firstConv['wizard_of_wikipedia'] = firstConvSplit[1]\n",
    "        \n",
    "        firstMess = testData[i][2]\n",
    "        \n",
    "        if('?' in firstMess):\n",
    "            \n",
    "            conversation = []\n",
    "            currObj = {}\n",
    "            currObj['contextLen'] = contextLen\n",
    "            \n",
    "            for k in range(contextLen + 1):\n",
    "                mess = testData[i][k]\n",
    "                conversation.append(mess)\n",
    "                \n",
    "            currObj['conversation'] = conversation\n",
    "            currObj['suggestions'] = session['conversation'][contextLen - 1]['WizardTransformerRanker']['text_candidates']\n",
    "            currObj['actualResponse'] = testData[i][contextLen + 1]\n",
    "            currObj['origIndex'] = session['index']\n",
    "            \n",
    "            allPredicitons.append(currObj)\n",
    "        \n",
    "    except Exception as e: print(e)    "
   ]
  },
  {
   "cell_type": "code",
   "execution_count": null,
   "metadata": {},
   "outputs": [],
   "source": []
  },
  {
   "cell_type": "code",
   "execution_count": 21,
   "metadata": {},
   "outputs": [],
   "source": [
    "### see below "
   ]
  },
  {
   "cell_type": "code",
   "execution_count": 22,
   "metadata": {},
   "outputs": [],
   "source": [
    "with open('./clean/cleanPredictionsRet2.json', 'w') as outfile:\n",
    "    json.dump(allPredicitons, outfile)"
   ]
  },
  {
   "cell_type": "code",
   "execution_count": null,
   "metadata": {},
   "outputs": [],
   "source": []
  },
  {
   "cell_type": "code",
   "execution_count": 9,
   "metadata": {},
   "outputs": [
    {
     "data": {
      "text/plain": [
       "512"
      ]
     },
     "execution_count": 9,
     "metadata": {},
     "output_type": "execute_result"
    }
   ],
   "source": [
    "len(sessions)"
   ]
  },
  {
   "cell_type": "code",
   "execution_count": 10,
   "metadata": {},
   "outputs": [
    {
     "data": {
      "text/plain": [
       "229"
      ]
     },
     "execution_count": 10,
     "metadata": {},
     "output_type": "execute_result"
    }
   ],
   "source": [
    "len(allPredicitons)"
   ]
  },
  {
   "cell_type": "code",
   "execution_count": null,
   "metadata": {},
   "outputs": [],
   "source": []
  },
  {
   "cell_type": "code",
   "execution_count": 40,
   "metadata": {},
   "outputs": [
    {
     "name": "stdout",
     "output_type": "stream",
     "text": [
      "30\n"
     ]
    }
   ],
   "source": [
    "with open('./selected/ret/oneContext.json') as json_file:\n",
    "    ret = json.load(json_file)\n",
    "\n",
    "ind = set()\n",
    "for r in ret:\n",
    "    ind.add(r['origIndex'])\n",
    "print(len(ind))"
   ]
  },
  {
   "cell_type": "code",
   "execution_count": 41,
   "metadata": {},
   "outputs": [],
   "source": [
    "finalPred = []\n",
    "\n",
    "for pred in allPredicitons:\n",
    "    if(pred['origIndex'] not in ind):\n",
    "        finalPred.append(pred)\n"
   ]
  },
  {
   "cell_type": "code",
   "execution_count": 42,
   "metadata": {},
   "outputs": [
    {
     "data": {
      "text/plain": [
       "191"
      ]
     },
     "execution_count": 42,
     "metadata": {},
     "output_type": "execute_result"
    }
   ],
   "source": [
    "len(finalPred)"
   ]
  },
  {
   "cell_type": "code",
   "execution_count": 43,
   "metadata": {},
   "outputs": [],
   "source": [
    "with open('./clean/cleanPredictionsRet2.json', 'w') as outfile:\n",
    "    json.dump(finalPred, outfile)"
   ]
  },
  {
   "cell_type": "code",
   "execution_count": null,
   "metadata": {},
   "outputs": [],
   "source": []
  },
  {
   "cell_type": "code",
   "execution_count": null,
   "metadata": {},
   "outputs": [],
   "source": []
  },
  {
   "cell_type": "code",
   "execution_count": null,
   "metadata": {},
   "outputs": [],
   "source": []
  },
  {
   "cell_type": "code",
   "execution_count": null,
   "metadata": {},
   "outputs": [],
   "source": []
  }
 ],
 "metadata": {
  "kernelspec": {
   "display_name": "Python 3",
   "language": "python",
   "name": "python3"
  },
  "language_info": {
   "codemirror_mode": {
    "name": "ipython",
    "version": 3
   },
   "file_extension": ".py",
   "mimetype": "text/x-python",
   "name": "python",
   "nbconvert_exporter": "python",
   "pygments_lexer": "ipython3",
   "version": "3.7.6"
  }
 },
 "nbformat": 4,
 "nbformat_minor": 2
}
