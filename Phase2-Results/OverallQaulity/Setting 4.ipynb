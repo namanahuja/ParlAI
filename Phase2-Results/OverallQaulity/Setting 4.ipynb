{
 "cells": [
  {
   "cell_type": "code",
   "execution_count": 17,
   "metadata": {},
   "outputs": [],
   "source": [
    "import os\n",
    "from pathlib import Path\n",
    "import sys\n",
    "import os\n",
    "import _pickle as pickle\n",
    "import json\n",
    "import copy \n",
    "import pandas\n",
    "import numpy as np\n",
    "import matplotlib.pyplot as plt \n",
    "from matplotlib.backends.backend_pdf import PdfPages\n",
    "import csv\n",
    "import json\n",
    "from collections import Counter\n",
    "import statistics \n",
    "import plotly.graph_objects as go\n",
    "import math"
   ]
  },
  {
   "cell_type": "code",
   "execution_count": 18,
   "metadata": {},
   "outputs": [],
   "source": [
    "from itertools import combinations\n",
    "from scipy.stats import ttest_ind\n",
    "import decimal\n",
    "\n",
    "# create a new context for this task\n",
    "ctx = decimal.Context()\n",
    "\n",
    "# 20 digits should be enough for everyone :D\n",
    "ctx.prec = 20\n",
    "\n",
    "def float_to_str(f):\n",
    "    \"\"\"\n",
    "    Convert the given float to a string,\n",
    "    without resorting to scientific notation\n",
    "    \"\"\"\n",
    "    d1 = ctx.create_decimal(repr(f))\n",
    "    return format(d1, 'f')"
   ]
  },
  {
   "cell_type": "code",
   "execution_count": 19,
   "metadata": {},
   "outputs": [],
   "source": [
    "with open('../../responseJudgement.json') as json_file:\n",
    "    judgements = json.load(json_file)\n",
    "    \n",
    "with open('../../responseJudgement_sugg.json') as json_file:\n",
    "    suggJudgements = json.load(json_file)"
   ]
  },
  {
   "cell_type": "code",
   "execution_count": 20,
   "metadata": {},
   "outputs": [
    {
     "data": {
      "text/plain": [
       "15417"
      ]
     },
     "execution_count": 20,
     "metadata": {},
     "output_type": "execute_result"
    }
   ],
   "source": [
    "len(judgements)"
   ]
  },
  {
   "cell_type": "code",
   "execution_count": 21,
   "metadata": {},
   "outputs": [
    {
     "data": {
      "text/plain": [
       "1014"
      ]
     },
     "execution_count": 21,
     "metadata": {},
     "output_type": "execute_result"
    }
   ],
   "source": [
    "len(suggJudgements)"
   ]
  },
  {
   "cell_type": "code",
   "execution_count": 22,
   "metadata": {},
   "outputs": [],
   "source": [
    "cleanPath = '../../clean/'\n",
    "settingName = 'Setting 4'"
   ]
  },
  {
   "cell_type": "code",
   "execution_count": 23,
   "metadata": {},
   "outputs": [],
   "source": [
    "responseSet = {}\n",
    "\n",
    "for root, dirs, files in os.walk(cleanPath):\n",
    "    for file in files:\n",
    "        if file.endswith(\".json\"):\n",
    "            fileName = os.path.join(root, file)\n",
    "            with open(fileName) as json_file:\n",
    "                try:\n",
    "                    data = json.load(json_file)\n",
    "                    currFileName = data['currentFileName']\n",
    "                    dialogs = data['dialogs']\n",
    "                    \n",
    "                    for i in range(1, len(dialogs)):\n",
    "                        context = dialogs[i]['context']\n",
    "                        uniqueStr = 'fileIndex=' + str(context['fileIndex']) + '&&contextLen=' + str(context['contextLen']) + '&&userResponse=' + context['userResponse'].strip()\n",
    "                        \n",
    "                        if(uniqueStr in responseSet):\n",
    "                            continue\n",
    "                        \n",
    "                        else:\n",
    "                            \n",
    "                            foundMatches = [x for x in judgements if x['Input.contextLen'] == str(context['contextLen']) and x['Input.fileIndex'] == str(context['fileIndex'])]\n",
    "                            foundJudgement = [x for x in foundMatches if x['Input.fileName'] == currFileName and x['Input.localIndex'] == str(context['localIndex'])]\n",
    "                            \n",
    "                            if(len(foundJudgement) > 0):\n",
    "                                responseSet[uniqueStr] = foundJudgement\n",
    "                        \n",
    "                except Exception as e: print(e)"
   ]
  },
  {
   "cell_type": "code",
   "execution_count": 24,
   "metadata": {},
   "outputs": [
    {
     "data": {
      "text/plain": [
       "5139"
      ]
     },
     "execution_count": 24,
     "metadata": {},
     "output_type": "execute_result"
    }
   ],
   "source": [
    "len(responseSet)"
   ]
  },
  {
   "cell_type": "code",
   "execution_count": 25,
   "metadata": {},
   "outputs": [],
   "source": [
    "suggSet = {}\n",
    "\n",
    "for root, dirs, files in os.walk(cleanPath):\n",
    "    for file in files:\n",
    "        if file.endswith(\".json\"):\n",
    "            fileName = os.path.join(root, file)\n",
    "            with open(fileName) as json_file:\n",
    "                try:\n",
    "                    data = json.load(json_file)\n",
    "                    currFileName = data['currentFileName']\n",
    "                    dialogs = data['dialogs']\n",
    "                    \n",
    "                    for i in range(1, len(dialogs)):\n",
    "                        context = dialogs[i]['context']\n",
    "                        suggestions = context['suggestions']\n",
    "                        \n",
    "                        for sugg in suggestions:\n",
    "                            uniqueStr = 'fileIndex=' + str(context['fileIndex']) + '&&contextLen=' + str(context['contextLen']) + '&&userResponse=' + sugg.strip()\n",
    "\n",
    "                            if(uniqueStr in responseSet or uniqueStr in suggSet):\n",
    "                                continue\n",
    "\n",
    "                            else:\n",
    "\n",
    "                                foundMatches = [x for x in suggJudgements if x['Input.contextLen'] == str(context['contextLen']) and x['Input.fileIndex'] == str(context['fileIndex'])]\n",
    "                                foundJudgement = [x for x in foundMatches if x['Input.fileName'] == currFileName and x['Input.localIndex'] == str(context['localIndex'])]\n",
    "\n",
    "                                if(len(foundJudgement) > 0):\n",
    "                                    suggSet[uniqueStr] = foundJudgement\n",
    "                        \n",
    "                except Exception as e: print(e)"
   ]
  },
  {
   "cell_type": "code",
   "execution_count": 26,
   "metadata": {},
   "outputs": [
    {
     "data": {
      "text/plain": [
       "458"
      ]
     },
     "execution_count": 26,
     "metadata": {},
     "output_type": "execute_result"
    }
   ],
   "source": [
    "len(suggSet)"
   ]
  },
  {
   "cell_type": "code",
   "execution_count": 27,
   "metadata": {},
   "outputs": [],
   "source": [
    "Qualtype = 'Quality'\n",
    "metric = {\n",
    "    'Answer.' + Qualtype +'.1 (Very Poor)': 1,\n",
    "    'Answer.' + Qualtype +'.2 (Poor)': 2,\n",
    "    'Answer.' + Qualtype +'.3 (Okay)': 3,\n",
    "    'Answer.' + Qualtype +'.4 (Good)': 4,\n",
    "    'Answer.' + Qualtype +'.5 (Very Good)': 5\n",
    "}"
   ]
  },
  {
   "cell_type": "code",
   "execution_count": 28,
   "metadata": {},
   "outputs": [],
   "source": [
    "scoresHuman = []\n",
    "\n",
    "for root, dirs, files in os.walk(cleanPath + 'Setting 1'):\n",
    "    for file in files:\n",
    "        if file.endswith(\".json\"):\n",
    "            fileName = os.path.join(root, file)\n",
    "            with open(fileName) as json_file:\n",
    "                try:\n",
    "                    data = json.load(json_file)\n",
    "                    dialogs = data['dialogs']\n",
    "                    \n",
    "                    for i in range(1, len(dialogs)):\n",
    "                        context = dialogs[i]['context']\n",
    "                        \n",
    "                        userResponse = context['userResponse']\n",
    "                        fileIndex = context['fileIndex']\n",
    "                        contextLen = context['contextLen']\n",
    "                        \n",
    "                        identifierStr = 'fileIndex=' + str(fileIndex) + '&&contextLen=' + str(contextLen) + '&&userResponse=' + userResponse.strip()\n",
    "                        \n",
    "                        responseJudgements =  responseSet[identifierStr]\n",
    "                        \n",
    "                        currFeedback = []\n",
    "                        for feedback in responseJudgements:\n",
    "                            for key in feedback:\n",
    "                                \n",
    "                                if('Answer.' + Qualtype in key and feedback[key] == 'true'):\n",
    "                                    currFeedback.append(metric[key])\n",
    "                        \n",
    "                        scoresHuman.append(statistics.mean(currFeedback))\n",
    "                            \n",
    "                        \n",
    "                    \n",
    "                except Exception as e: print(e)                 "
   ]
  },
  {
   "cell_type": "code",
   "execution_count": 29,
   "metadata": {},
   "outputs": [],
   "source": [
    "scoresBot = []\n",
    "\n",
    "for root, dirs, files in os.walk(cleanPath + settingName):\n",
    "    for file in files:\n",
    "        if file.endswith(\".json\"):\n",
    "            fileName = os.path.join(root, file)\n",
    "            with open(fileName) as json_file:\n",
    "                try:\n",
    "                    data = json.load(json_file)\n",
    "                    dialogs = data['dialogs']\n",
    "                    \n",
    "                    for i in range(1, len(dialogs)):\n",
    "                        context = dialogs[i]['context']\n",
    "                        \n",
    "                        userResponse = context['userResponse']\n",
    "                        fileIndex = context['fileIndex']\n",
    "                        contextLen = context['contextLen']\n",
    "                        suggestions = context['suggestions']\n",
    "                        \n",
    "                        identifierStr = 'fileIndex=' + str(fileIndex) + '&&contextLen=' + str(contextLen) + '&&userResponse=' + suggestions[0].strip()\n",
    "                        \n",
    "                        if(identifierStr in responseSet):\n",
    "                            responseJudgements =  responseSet[identifierStr]\n",
    "                        else:\n",
    "                            responseJudgements =  suggSet[identifierStr]\n",
    "                        \n",
    "                        currFeedback = []\n",
    "                        for feedback in responseJudgements:\n",
    "                            for key in feedback:\n",
    "                                \n",
    "                                if('Answer.' + Qualtype in key and feedback[key] == 'true'):\n",
    "                                    currFeedback.append(metric[key])\n",
    "                        \n",
    "                        scoresBot.append(statistics.mean(currFeedback))\n",
    "                            \n",
    "                        \n",
    "                    \n",
    "                except Exception as e: print(e)                 "
   ]
  },
  {
   "cell_type": "code",
   "execution_count": null,
   "metadata": {},
   "outputs": [],
   "source": []
  },
  {
   "cell_type": "code",
   "execution_count": 30,
   "metadata": {},
   "outputs": [],
   "source": [
    "sugg1 = []\n",
    "sugg3 = []\n",
    "sugg5 = []\n",
    "\n",
    "autoSugg1 = []\n",
    "autoSugg3 = []\n",
    "autoSugg5 = []\n",
    "\n",
    "\n",
    "for root, dirs, files in os.walk(cleanPath + settingName):\n",
    "    for file in files:\n",
    "        if file.endswith(\".json\"):\n",
    "            fileName = os.path.join(root, file)\n",
    "            with open(fileName) as json_file:\n",
    "                try:\n",
    "                    data = json.load(json_file)\n",
    "                    dialogs = data['dialogs']\n",
    "                    \n",
    "                    for i in range(1, len(dialogs)):\n",
    "                        context = dialogs[i]['context']\n",
    "                        \n",
    "                        userResponse = context['userResponse']\n",
    "                        fileIndex = context['fileIndex']\n",
    "                        contextLen = context['contextLen']\n",
    "                        \n",
    "                        identifierStr = 'fileIndex=' + str(fileIndex) + '&&contextLen=' + str(contextLen) + '&&userResponse=' + userResponse.strip()\n",
    "                        \n",
    "                        responseJudgements =  responseSet[identifierStr]\n",
    "                        \n",
    "                        currFeedback = []\n",
    "                        \n",
    "                        for feedback in responseJudgements:\n",
    "                            for key in feedback:\n",
    "                                \n",
    "                                if('Answer.' + Qualtype in key and feedback[key] == 'true'):\n",
    "                                    currFeedback.append(metric[key])\n",
    "                        \n",
    "                        \n",
    "                        if(data['autoFilledSuggestion'] == 0):\n",
    "                            \n",
    "                            if(data['suggestionsNumber'] == 1):\n",
    "                                sugg1.append(statistics.mean(currFeedback))\n",
    "\n",
    "                            elif(data['suggestionsNumber'] == 3):\n",
    "                                sugg3.append(statistics.mean(currFeedback))\n",
    "\n",
    "                            elif(data['suggestionsNumber'] == 5):\n",
    "                                sugg5.append(statistics.mean(currFeedback))\n",
    "                        \n",
    "                        else:\n",
    "\n",
    "                            if(data['suggestionsNumber'] == 1):\n",
    "                                autoSugg1.append(statistics.mean(currFeedback))\n",
    "\n",
    "                            elif(data['suggestionsNumber'] == 3):\n",
    "                                autoSugg3.append(statistics.mean(currFeedback))\n",
    "                            \n",
    "                            elif(data['suggestionsNumber'] == 5):\n",
    "                                autoSugg5.append(statistics.mean(currFeedback))\n",
    "                    \n",
    "                    \n",
    "                except Exception as e: print(e)"
   ]
  },
  {
   "cell_type": "code",
   "execution_count": 31,
   "metadata": {},
   "outputs": [
    {
     "name": "stdout",
     "output_type": "stream",
     "text": [
      "H Bot 0.000000000000000000000000000000000000000000000000000000000000000000000000000000001562706153390876\n",
      "H sugg1 0.0000000013702804187797762\n",
      "H sugg3 0.00000006905857217821717\n",
      "H sugg5 0.000003069354830893725\n",
      "H autoSugg1 0.0000000000000000006000539129074675\n",
      "H autoSugg3 0.00000009426608630277048\n",
      "H autoSugg5 0.000000000000000000033274973388900405\n",
      "Bot sugg1 0.00000000000000000000000000058654001919049065\n",
      "Bot sugg3 0.000000000000000000000000000000022221349216631009\n",
      "Bot sugg5 0.000000000000000000000000000000003382095237838613\n",
      "Bot autoSugg1 0.00000000000000000000006838814506791629\n",
      "Bot autoSugg3 0.000000000000000000000000000000025779702516661343\n",
      "Bot autoSugg5 0.000000000000000009390531362191313\n",
      "sugg1 sugg3 0.48789052671880195\n",
      "sugg1 sugg5 0.21480396775330696\n",
      "sugg1 autoSugg1 0.031116246721309374\n",
      "sugg1 autoSugg3 0.46487902655017754\n",
      "sugg1 autoSugg5 0.007254698750589148\n",
      "sugg3 sugg5 0.5707262312322692\n",
      "sugg3 autoSugg1 0.0034607452193998207\n",
      "sugg3 autoSugg3 0.9687629824038271\n",
      "sugg3 autoSugg5 0.0005927519364940518\n",
      "sugg5 autoSugg1 0.0005565244060890828\n",
      "sugg5 autoSugg3 0.5979261857337731\n",
      "sugg5 autoSugg5 0.00008212627140687434\n",
      "autoSugg1 autoSugg3 0.003103972333839535\n",
      "autoSugg1 autoSugg5 0.5236118587345449\n",
      "autoSugg3 autoSugg5 0.0005272685861459518\n"
     ]
    }
   ],
   "source": [
    "settings = {\n",
    "    'H': scoresHuman,\n",
    "    'Bot': scoresBot,\n",
    "    'sugg1': sugg1,\n",
    "    'sugg3': sugg3,\n",
    "    'sugg5': sugg5,\n",
    "    'autoSugg1': autoSugg1,\n",
    "    'autoSugg3': autoSugg3,\n",
    "    'autoSugg5': autoSugg5\n",
    "}\n",
    "\n",
    "for list1, list2 in combinations(settings.keys(), 2):\n",
    "    t, p = ttest_ind(settings[list1], settings[list2], equal_var = False)\n",
    "    print (list1, list2, float_to_str(p))"
   ]
  },
  {
   "cell_type": "code",
   "execution_count": 32,
   "metadata": {},
   "outputs": [
    {
     "data": {
      "application/vnd.plotly.v1+json": {
       "config": {
        "plotlyServerURL": "https://plot.ly"
       },
       "data": [
        {
         "error_y": {
          "array": [
           0.03631648596406015
          ],
          "type": "data"
         },
         "insidetextanchor": "middle",
         "marker": {
          "color": "#B0C4DE",
          "line": {
           "color": "rgb(8,48,107)",
           "width": 1.5
          }
         },
         "name": "Human Only",
         "opacity": 0.8,
         "text": [
          "3.74"
         ],
         "textposition": "inside",
         "type": "bar",
         "x": [
          ""
         ],
         "y": [
          3.74
         ]
        },
        {
         "error_y": {
          "array": [
           0.01691355989895462
          ],
          "type": "data"
         },
         "insidetextanchor": "middle",
         "marker": {
          "color": "#A9A9A9",
          "line": {
           "color": "rgb(8,48,107)",
           "width": 1.5
          }
         },
         "name": "Chatbot Only",
         "opacity": 0.8,
         "text": [
          "2.84"
         ],
         "textposition": "inside",
         "type": "bar",
         "x": [
          ""
         ],
         "y": [
          2.84
         ]
        },
        {
         "error_y": {
          "array": [
           0.04451725563095133,
           0.04354955935020345,
           0.045328014074751864
          ],
          "type": "data"
         },
         "insidetextanchor": "middle",
         "marker": {
          "color": "lightsalmon",
          "line": {
           "color": "rgb(8,48,107)",
           "width": 1.5
          }
         },
         "name": "C1",
         "opacity": 0.8,
         "text": [
          "3.39",
          "3.43",
          "3.47"
         ],
         "textposition": "inside",
         "type": "bar",
         "x": [
          "1 Suggestion",
          "3 Suggestions",
          "5 Suggestions"
         ],
         "y": [
          3.39,
          3.43,
          3.47
         ]
        },
        {
         "error_y": {
          "array": [
           0.03824973967940872,
           0.04374705779156317,
           0.04071268785734663
          ],
          "type": "data"
         },
         "insidetextanchor": "middle",
         "marker": {
          "color": "#AFEEEE",
          "line": {
           "color": "rgb(8,48,107)",
           "width": 1.5
          }
         },
         "name": "C2",
         "opacity": 0.8,
         "text": [
          "3.26",
          "3.43",
          "3.23"
         ],
         "textposition": "inside",
         "type": "bar",
         "x": [
          "1 Suggestion",
          "3 Suggestions",
          "5 Suggestions"
         ],
         "y": [
          3.26,
          3.43,
          3.23
         ]
        }
       ],
       "layout": {
        "template": {
         "data": {
          "bar": [
           {
            "error_x": {
             "color": "#2a3f5f"
            },
            "error_y": {
             "color": "#2a3f5f"
            },
            "marker": {
             "line": {
              "color": "#E5ECF6",
              "width": 0.5
             }
            },
            "type": "bar"
           }
          ],
          "barpolar": [
           {
            "marker": {
             "line": {
              "color": "#E5ECF6",
              "width": 0.5
             }
            },
            "type": "barpolar"
           }
          ],
          "carpet": [
           {
            "aaxis": {
             "endlinecolor": "#2a3f5f",
             "gridcolor": "white",
             "linecolor": "white",
             "minorgridcolor": "white",
             "startlinecolor": "#2a3f5f"
            },
            "baxis": {
             "endlinecolor": "#2a3f5f",
             "gridcolor": "white",
             "linecolor": "white",
             "minorgridcolor": "white",
             "startlinecolor": "#2a3f5f"
            },
            "type": "carpet"
           }
          ],
          "choropleth": [
           {
            "colorbar": {
             "outlinewidth": 0,
             "ticks": ""
            },
            "type": "choropleth"
           }
          ],
          "contour": [
           {
            "colorbar": {
             "outlinewidth": 0,
             "ticks": ""
            },
            "colorscale": [
             [
              0,
              "#0d0887"
             ],
             [
              0.1111111111111111,
              "#46039f"
             ],
             [
              0.2222222222222222,
              "#7201a8"
             ],
             [
              0.3333333333333333,
              "#9c179e"
             ],
             [
              0.4444444444444444,
              "#bd3786"
             ],
             [
              0.5555555555555556,
              "#d8576b"
             ],
             [
              0.6666666666666666,
              "#ed7953"
             ],
             [
              0.7777777777777778,
              "#fb9f3a"
             ],
             [
              0.8888888888888888,
              "#fdca26"
             ],
             [
              1,
              "#f0f921"
             ]
            ],
            "type": "contour"
           }
          ],
          "contourcarpet": [
           {
            "colorbar": {
             "outlinewidth": 0,
             "ticks": ""
            },
            "type": "contourcarpet"
           }
          ],
          "heatmap": [
           {
            "colorbar": {
             "outlinewidth": 0,
             "ticks": ""
            },
            "colorscale": [
             [
              0,
              "#0d0887"
             ],
             [
              0.1111111111111111,
              "#46039f"
             ],
             [
              0.2222222222222222,
              "#7201a8"
             ],
             [
              0.3333333333333333,
              "#9c179e"
             ],
             [
              0.4444444444444444,
              "#bd3786"
             ],
             [
              0.5555555555555556,
              "#d8576b"
             ],
             [
              0.6666666666666666,
              "#ed7953"
             ],
             [
              0.7777777777777778,
              "#fb9f3a"
             ],
             [
              0.8888888888888888,
              "#fdca26"
             ],
             [
              1,
              "#f0f921"
             ]
            ],
            "type": "heatmap"
           }
          ],
          "heatmapgl": [
           {
            "colorbar": {
             "outlinewidth": 0,
             "ticks": ""
            },
            "colorscale": [
             [
              0,
              "#0d0887"
             ],
             [
              0.1111111111111111,
              "#46039f"
             ],
             [
              0.2222222222222222,
              "#7201a8"
             ],
             [
              0.3333333333333333,
              "#9c179e"
             ],
             [
              0.4444444444444444,
              "#bd3786"
             ],
             [
              0.5555555555555556,
              "#d8576b"
             ],
             [
              0.6666666666666666,
              "#ed7953"
             ],
             [
              0.7777777777777778,
              "#fb9f3a"
             ],
             [
              0.8888888888888888,
              "#fdca26"
             ],
             [
              1,
              "#f0f921"
             ]
            ],
            "type": "heatmapgl"
           }
          ],
          "histogram": [
           {
            "marker": {
             "colorbar": {
              "outlinewidth": 0,
              "ticks": ""
             }
            },
            "type": "histogram"
           }
          ],
          "histogram2d": [
           {
            "colorbar": {
             "outlinewidth": 0,
             "ticks": ""
            },
            "colorscale": [
             [
              0,
              "#0d0887"
             ],
             [
              0.1111111111111111,
              "#46039f"
             ],
             [
              0.2222222222222222,
              "#7201a8"
             ],
             [
              0.3333333333333333,
              "#9c179e"
             ],
             [
              0.4444444444444444,
              "#bd3786"
             ],
             [
              0.5555555555555556,
              "#d8576b"
             ],
             [
              0.6666666666666666,
              "#ed7953"
             ],
             [
              0.7777777777777778,
              "#fb9f3a"
             ],
             [
              0.8888888888888888,
              "#fdca26"
             ],
             [
              1,
              "#f0f921"
             ]
            ],
            "type": "histogram2d"
           }
          ],
          "histogram2dcontour": [
           {
            "colorbar": {
             "outlinewidth": 0,
             "ticks": ""
            },
            "colorscale": [
             [
              0,
              "#0d0887"
             ],
             [
              0.1111111111111111,
              "#46039f"
             ],
             [
              0.2222222222222222,
              "#7201a8"
             ],
             [
              0.3333333333333333,
              "#9c179e"
             ],
             [
              0.4444444444444444,
              "#bd3786"
             ],
             [
              0.5555555555555556,
              "#d8576b"
             ],
             [
              0.6666666666666666,
              "#ed7953"
             ],
             [
              0.7777777777777778,
              "#fb9f3a"
             ],
             [
              0.8888888888888888,
              "#fdca26"
             ],
             [
              1,
              "#f0f921"
             ]
            ],
            "type": "histogram2dcontour"
           }
          ],
          "mesh3d": [
           {
            "colorbar": {
             "outlinewidth": 0,
             "ticks": ""
            },
            "type": "mesh3d"
           }
          ],
          "parcoords": [
           {
            "line": {
             "colorbar": {
              "outlinewidth": 0,
              "ticks": ""
             }
            },
            "type": "parcoords"
           }
          ],
          "pie": [
           {
            "automargin": true,
            "type": "pie"
           }
          ],
          "scatter": [
           {
            "marker": {
             "colorbar": {
              "outlinewidth": 0,
              "ticks": ""
             }
            },
            "type": "scatter"
           }
          ],
          "scatter3d": [
           {
            "line": {
             "colorbar": {
              "outlinewidth": 0,
              "ticks": ""
             }
            },
            "marker": {
             "colorbar": {
              "outlinewidth": 0,
              "ticks": ""
             }
            },
            "type": "scatter3d"
           }
          ],
          "scattercarpet": [
           {
            "marker": {
             "colorbar": {
              "outlinewidth": 0,
              "ticks": ""
             }
            },
            "type": "scattercarpet"
           }
          ],
          "scattergeo": [
           {
            "marker": {
             "colorbar": {
              "outlinewidth": 0,
              "ticks": ""
             }
            },
            "type": "scattergeo"
           }
          ],
          "scattergl": [
           {
            "marker": {
             "colorbar": {
              "outlinewidth": 0,
              "ticks": ""
             }
            },
            "type": "scattergl"
           }
          ],
          "scattermapbox": [
           {
            "marker": {
             "colorbar": {
              "outlinewidth": 0,
              "ticks": ""
             }
            },
            "type": "scattermapbox"
           }
          ],
          "scatterpolar": [
           {
            "marker": {
             "colorbar": {
              "outlinewidth": 0,
              "ticks": ""
             }
            },
            "type": "scatterpolar"
           }
          ],
          "scatterpolargl": [
           {
            "marker": {
             "colorbar": {
              "outlinewidth": 0,
              "ticks": ""
             }
            },
            "type": "scatterpolargl"
           }
          ],
          "scatterternary": [
           {
            "marker": {
             "colorbar": {
              "outlinewidth": 0,
              "ticks": ""
             }
            },
            "type": "scatterternary"
           }
          ],
          "surface": [
           {
            "colorbar": {
             "outlinewidth": 0,
             "ticks": ""
            },
            "colorscale": [
             [
              0,
              "#0d0887"
             ],
             [
              0.1111111111111111,
              "#46039f"
             ],
             [
              0.2222222222222222,
              "#7201a8"
             ],
             [
              0.3333333333333333,
              "#9c179e"
             ],
             [
              0.4444444444444444,
              "#bd3786"
             ],
             [
              0.5555555555555556,
              "#d8576b"
             ],
             [
              0.6666666666666666,
              "#ed7953"
             ],
             [
              0.7777777777777778,
              "#fb9f3a"
             ],
             [
              0.8888888888888888,
              "#fdca26"
             ],
             [
              1,
              "#f0f921"
             ]
            ],
            "type": "surface"
           }
          ],
          "table": [
           {
            "cells": {
             "fill": {
              "color": "#EBF0F8"
             },
             "line": {
              "color": "white"
             }
            },
            "header": {
             "fill": {
              "color": "#C8D4E3"
             },
             "line": {
              "color": "white"
             }
            },
            "type": "table"
           }
          ]
         },
         "layout": {
          "annotationdefaults": {
           "arrowcolor": "#2a3f5f",
           "arrowhead": 0,
           "arrowwidth": 1
          },
          "coloraxis": {
           "colorbar": {
            "outlinewidth": 0,
            "ticks": ""
           }
          },
          "colorscale": {
           "diverging": [
            [
             0,
             "#8e0152"
            ],
            [
             0.1,
             "#c51b7d"
            ],
            [
             0.2,
             "#de77ae"
            ],
            [
             0.3,
             "#f1b6da"
            ],
            [
             0.4,
             "#fde0ef"
            ],
            [
             0.5,
             "#f7f7f7"
            ],
            [
             0.6,
             "#e6f5d0"
            ],
            [
             0.7,
             "#b8e186"
            ],
            [
             0.8,
             "#7fbc41"
            ],
            [
             0.9,
             "#4d9221"
            ],
            [
             1,
             "#276419"
            ]
           ],
           "sequential": [
            [
             0,
             "#0d0887"
            ],
            [
             0.1111111111111111,
             "#46039f"
            ],
            [
             0.2222222222222222,
             "#7201a8"
            ],
            [
             0.3333333333333333,
             "#9c179e"
            ],
            [
             0.4444444444444444,
             "#bd3786"
            ],
            [
             0.5555555555555556,
             "#d8576b"
            ],
            [
             0.6666666666666666,
             "#ed7953"
            ],
            [
             0.7777777777777778,
             "#fb9f3a"
            ],
            [
             0.8888888888888888,
             "#fdca26"
            ],
            [
             1,
             "#f0f921"
            ]
           ],
           "sequentialminus": [
            [
             0,
             "#0d0887"
            ],
            [
             0.1111111111111111,
             "#46039f"
            ],
            [
             0.2222222222222222,
             "#7201a8"
            ],
            [
             0.3333333333333333,
             "#9c179e"
            ],
            [
             0.4444444444444444,
             "#bd3786"
            ],
            [
             0.5555555555555556,
             "#d8576b"
            ],
            [
             0.6666666666666666,
             "#ed7953"
            ],
            [
             0.7777777777777778,
             "#fb9f3a"
            ],
            [
             0.8888888888888888,
             "#fdca26"
            ],
            [
             1,
             "#f0f921"
            ]
           ]
          },
          "colorway": [
           "#636efa",
           "#EF553B",
           "#00cc96",
           "#ab63fa",
           "#FFA15A",
           "#19d3f3",
           "#FF6692",
           "#B6E880",
           "#FF97FF",
           "#FECB52"
          ],
          "font": {
           "color": "#2a3f5f"
          },
          "geo": {
           "bgcolor": "white",
           "lakecolor": "white",
           "landcolor": "#E5ECF6",
           "showlakes": true,
           "showland": true,
           "subunitcolor": "white"
          },
          "hoverlabel": {
           "align": "left"
          },
          "hovermode": "closest",
          "mapbox": {
           "style": "light"
          },
          "paper_bgcolor": "white",
          "plot_bgcolor": "#E5ECF6",
          "polar": {
           "angularaxis": {
            "gridcolor": "white",
            "linecolor": "white",
            "ticks": ""
           },
           "bgcolor": "#E5ECF6",
           "radialaxis": {
            "gridcolor": "white",
            "linecolor": "white",
            "ticks": ""
           }
          },
          "scene": {
           "xaxis": {
            "backgroundcolor": "#E5ECF6",
            "gridcolor": "white",
            "gridwidth": 2,
            "linecolor": "white",
            "showbackground": true,
            "ticks": "",
            "zerolinecolor": "white"
           },
           "yaxis": {
            "backgroundcolor": "#E5ECF6",
            "gridcolor": "white",
            "gridwidth": 2,
            "linecolor": "white",
            "showbackground": true,
            "ticks": "",
            "zerolinecolor": "white"
           },
           "zaxis": {
            "backgroundcolor": "#E5ECF6",
            "gridcolor": "white",
            "gridwidth": 2,
            "linecolor": "white",
            "showbackground": true,
            "ticks": "",
            "zerolinecolor": "white"
           }
          },
          "shapedefaults": {
           "line": {
            "color": "#2a3f5f"
           }
          },
          "ternary": {
           "aaxis": {
            "gridcolor": "white",
            "linecolor": "white",
            "ticks": ""
           },
           "baxis": {
            "gridcolor": "white",
            "linecolor": "white",
            "ticks": ""
           },
           "bgcolor": "#E5ECF6",
           "caxis": {
            "gridcolor": "white",
            "linecolor": "white",
            "ticks": ""
           }
          },
          "title": {
           "x": 0.05
          },
          "xaxis": {
           "automargin": true,
           "gridcolor": "white",
           "linecolor": "white",
           "ticks": "",
           "title": {
            "standoff": 15
           },
           "zerolinecolor": "white",
           "zerolinewidth": 2
          },
          "yaxis": {
           "automargin": true,
           "gridcolor": "white",
           "linecolor": "white",
           "ticks": "",
           "title": {
            "standoff": 15
           },
           "zerolinecolor": "white",
           "zerolinewidth": 2
          }
         }
        },
        "title": {
         "text": "Overall response quality in Setting 4",
         "x": 0.5,
         "xanchor": "center",
         "y": 0.85,
         "yanchor": "top"
        }
       }
      },
      "text/html": [
       "<div>\n",
       "        \n",
       "        \n",
       "            <div id=\"e66c02db-49c2-40c8-b112-201e486f5243\" class=\"plotly-graph-div\" style=\"height:525px; width:100%;\"></div>\n",
       "            <script type=\"text/javascript\">\n",
       "                require([\"plotly\"], function(Plotly) {\n",
       "                    window.PLOTLYENV=window.PLOTLYENV || {};\n",
       "                    \n",
       "                if (document.getElementById(\"e66c02db-49c2-40c8-b112-201e486f5243\")) {\n",
       "                    Plotly.newPlot(\n",
       "                        'e66c02db-49c2-40c8-b112-201e486f5243',\n",
       "                        [{\"error_y\": {\"array\": [0.03631648596406015], \"type\": \"data\"}, \"insidetextanchor\": \"middle\", \"marker\": {\"color\": \"#B0C4DE\", \"line\": {\"color\": \"rgb(8,48,107)\", \"width\": 1.5}}, \"name\": \"Human Only\", \"opacity\": 0.8, \"text\": [\"3.74\"], \"textposition\": \"inside\", \"type\": \"bar\", \"x\": [\"\"], \"y\": [3.74]}, {\"error_y\": {\"array\": [0.01691355989895462], \"type\": \"data\"}, \"insidetextanchor\": \"middle\", \"marker\": {\"color\": \"#A9A9A9\", \"line\": {\"color\": \"rgb(8,48,107)\", \"width\": 1.5}}, \"name\": \"Chatbot Only\", \"opacity\": 0.8, \"text\": [\"2.84\"], \"textposition\": \"inside\", \"type\": \"bar\", \"x\": [\"\"], \"y\": [2.84]}, {\"error_y\": {\"array\": [0.04451725563095133, 0.04354955935020345, 0.045328014074751864], \"type\": \"data\"}, \"insidetextanchor\": \"middle\", \"marker\": {\"color\": \"lightsalmon\", \"line\": {\"color\": \"rgb(8,48,107)\", \"width\": 1.5}}, \"name\": \"C1\", \"opacity\": 0.8, \"text\": [\"3.39\", \"3.43\", \"3.47\"], \"textposition\": \"inside\", \"type\": \"bar\", \"x\": [\"1 Suggestion\", \"3 Suggestions\", \"5 Suggestions\"], \"y\": [3.39, 3.43, 3.47]}, {\"error_y\": {\"array\": [0.03824973967940872, 0.04374705779156317, 0.04071268785734663], \"type\": \"data\"}, \"insidetextanchor\": \"middle\", \"marker\": {\"color\": \"#AFEEEE\", \"line\": {\"color\": \"rgb(8,48,107)\", \"width\": 1.5}}, \"name\": \"C2\", \"opacity\": 0.8, \"text\": [\"3.26\", \"3.43\", \"3.23\"], \"textposition\": \"inside\", \"type\": \"bar\", \"x\": [\"1 Suggestion\", \"3 Suggestions\", \"5 Suggestions\"], \"y\": [3.26, 3.43, 3.23]}],\n",
       "                        {\"template\": {\"data\": {\"bar\": [{\"error_x\": {\"color\": \"#2a3f5f\"}, \"error_y\": {\"color\": \"#2a3f5f\"}, \"marker\": {\"line\": {\"color\": \"#E5ECF6\", \"width\": 0.5}}, \"type\": \"bar\"}], \"barpolar\": [{\"marker\": {\"line\": {\"color\": \"#E5ECF6\", \"width\": 0.5}}, \"type\": \"barpolar\"}], \"carpet\": [{\"aaxis\": {\"endlinecolor\": \"#2a3f5f\", \"gridcolor\": \"white\", \"linecolor\": \"white\", \"minorgridcolor\": \"white\", \"startlinecolor\": \"#2a3f5f\"}, \"baxis\": {\"endlinecolor\": \"#2a3f5f\", \"gridcolor\": \"white\", \"linecolor\": \"white\", \"minorgridcolor\": \"white\", \"startlinecolor\": \"#2a3f5f\"}, \"type\": \"carpet\"}], \"choropleth\": [{\"colorbar\": {\"outlinewidth\": 0, \"ticks\": \"\"}, \"type\": \"choropleth\"}], \"contour\": [{\"colorbar\": {\"outlinewidth\": 0, \"ticks\": \"\"}, \"colorscale\": [[0.0, \"#0d0887\"], [0.1111111111111111, \"#46039f\"], [0.2222222222222222, \"#7201a8\"], [0.3333333333333333, \"#9c179e\"], [0.4444444444444444, \"#bd3786\"], [0.5555555555555556, \"#d8576b\"], [0.6666666666666666, \"#ed7953\"], [0.7777777777777778, \"#fb9f3a\"], [0.8888888888888888, \"#fdca26\"], [1.0, \"#f0f921\"]], \"type\": \"contour\"}], \"contourcarpet\": [{\"colorbar\": {\"outlinewidth\": 0, \"ticks\": \"\"}, \"type\": \"contourcarpet\"}], \"heatmap\": [{\"colorbar\": {\"outlinewidth\": 0, \"ticks\": \"\"}, \"colorscale\": [[0.0, \"#0d0887\"], [0.1111111111111111, \"#46039f\"], [0.2222222222222222, \"#7201a8\"], [0.3333333333333333, \"#9c179e\"], [0.4444444444444444, \"#bd3786\"], [0.5555555555555556, \"#d8576b\"], [0.6666666666666666, \"#ed7953\"], [0.7777777777777778, \"#fb9f3a\"], [0.8888888888888888, \"#fdca26\"], [1.0, \"#f0f921\"]], \"type\": \"heatmap\"}], \"heatmapgl\": [{\"colorbar\": {\"outlinewidth\": 0, \"ticks\": \"\"}, \"colorscale\": [[0.0, \"#0d0887\"], [0.1111111111111111, \"#46039f\"], [0.2222222222222222, \"#7201a8\"], [0.3333333333333333, \"#9c179e\"], [0.4444444444444444, \"#bd3786\"], [0.5555555555555556, \"#d8576b\"], [0.6666666666666666, \"#ed7953\"], [0.7777777777777778, \"#fb9f3a\"], [0.8888888888888888, \"#fdca26\"], [1.0, \"#f0f921\"]], \"type\": \"heatmapgl\"}], \"histogram\": [{\"marker\": {\"colorbar\": {\"outlinewidth\": 0, \"ticks\": \"\"}}, \"type\": \"histogram\"}], \"histogram2d\": [{\"colorbar\": {\"outlinewidth\": 0, \"ticks\": \"\"}, \"colorscale\": [[0.0, \"#0d0887\"], [0.1111111111111111, \"#46039f\"], [0.2222222222222222, \"#7201a8\"], [0.3333333333333333, \"#9c179e\"], [0.4444444444444444, \"#bd3786\"], [0.5555555555555556, \"#d8576b\"], [0.6666666666666666, \"#ed7953\"], [0.7777777777777778, \"#fb9f3a\"], [0.8888888888888888, \"#fdca26\"], [1.0, \"#f0f921\"]], \"type\": \"histogram2d\"}], \"histogram2dcontour\": [{\"colorbar\": {\"outlinewidth\": 0, \"ticks\": \"\"}, \"colorscale\": [[0.0, \"#0d0887\"], [0.1111111111111111, \"#46039f\"], [0.2222222222222222, \"#7201a8\"], [0.3333333333333333, \"#9c179e\"], [0.4444444444444444, \"#bd3786\"], [0.5555555555555556, \"#d8576b\"], [0.6666666666666666, \"#ed7953\"], [0.7777777777777778, \"#fb9f3a\"], [0.8888888888888888, \"#fdca26\"], [1.0, \"#f0f921\"]], \"type\": \"histogram2dcontour\"}], \"mesh3d\": [{\"colorbar\": {\"outlinewidth\": 0, \"ticks\": \"\"}, \"type\": \"mesh3d\"}], \"parcoords\": [{\"line\": {\"colorbar\": {\"outlinewidth\": 0, \"ticks\": \"\"}}, \"type\": \"parcoords\"}], \"pie\": [{\"automargin\": true, \"type\": \"pie\"}], \"scatter\": [{\"marker\": {\"colorbar\": {\"outlinewidth\": 0, \"ticks\": \"\"}}, \"type\": \"scatter\"}], \"scatter3d\": [{\"line\": {\"colorbar\": {\"outlinewidth\": 0, \"ticks\": \"\"}}, \"marker\": {\"colorbar\": {\"outlinewidth\": 0, \"ticks\": \"\"}}, \"type\": \"scatter3d\"}], \"scattercarpet\": [{\"marker\": {\"colorbar\": {\"outlinewidth\": 0, \"ticks\": \"\"}}, \"type\": \"scattercarpet\"}], \"scattergeo\": [{\"marker\": {\"colorbar\": {\"outlinewidth\": 0, \"ticks\": \"\"}}, \"type\": \"scattergeo\"}], \"scattergl\": [{\"marker\": {\"colorbar\": {\"outlinewidth\": 0, \"ticks\": \"\"}}, \"type\": \"scattergl\"}], \"scattermapbox\": [{\"marker\": {\"colorbar\": {\"outlinewidth\": 0, \"ticks\": \"\"}}, \"type\": \"scattermapbox\"}], \"scatterpolar\": [{\"marker\": {\"colorbar\": {\"outlinewidth\": 0, \"ticks\": \"\"}}, \"type\": \"scatterpolar\"}], \"scatterpolargl\": [{\"marker\": {\"colorbar\": {\"outlinewidth\": 0, \"ticks\": \"\"}}, \"type\": \"scatterpolargl\"}], \"scatterternary\": [{\"marker\": {\"colorbar\": {\"outlinewidth\": 0, \"ticks\": \"\"}}, \"type\": \"scatterternary\"}], \"surface\": [{\"colorbar\": {\"outlinewidth\": 0, \"ticks\": \"\"}, \"colorscale\": [[0.0, \"#0d0887\"], [0.1111111111111111, \"#46039f\"], [0.2222222222222222, \"#7201a8\"], [0.3333333333333333, \"#9c179e\"], [0.4444444444444444, \"#bd3786\"], [0.5555555555555556, \"#d8576b\"], [0.6666666666666666, \"#ed7953\"], [0.7777777777777778, \"#fb9f3a\"], [0.8888888888888888, \"#fdca26\"], [1.0, \"#f0f921\"]], \"type\": \"surface\"}], \"table\": [{\"cells\": {\"fill\": {\"color\": \"#EBF0F8\"}, \"line\": {\"color\": \"white\"}}, \"header\": {\"fill\": {\"color\": \"#C8D4E3\"}, \"line\": {\"color\": \"white\"}}, \"type\": \"table\"}]}, \"layout\": {\"annotationdefaults\": {\"arrowcolor\": \"#2a3f5f\", \"arrowhead\": 0, \"arrowwidth\": 1}, \"coloraxis\": {\"colorbar\": {\"outlinewidth\": 0, \"ticks\": \"\"}}, \"colorscale\": {\"diverging\": [[0, \"#8e0152\"], [0.1, \"#c51b7d\"], [0.2, \"#de77ae\"], [0.3, \"#f1b6da\"], [0.4, \"#fde0ef\"], [0.5, \"#f7f7f7\"], [0.6, \"#e6f5d0\"], [0.7, \"#b8e186\"], [0.8, \"#7fbc41\"], [0.9, \"#4d9221\"], [1, \"#276419\"]], \"sequential\": [[0.0, \"#0d0887\"], [0.1111111111111111, \"#46039f\"], [0.2222222222222222, \"#7201a8\"], [0.3333333333333333, \"#9c179e\"], [0.4444444444444444, \"#bd3786\"], [0.5555555555555556, \"#d8576b\"], [0.6666666666666666, \"#ed7953\"], [0.7777777777777778, \"#fb9f3a\"], [0.8888888888888888, \"#fdca26\"], [1.0, \"#f0f921\"]], \"sequentialminus\": [[0.0, \"#0d0887\"], [0.1111111111111111, \"#46039f\"], [0.2222222222222222, \"#7201a8\"], [0.3333333333333333, \"#9c179e\"], [0.4444444444444444, \"#bd3786\"], [0.5555555555555556, \"#d8576b\"], [0.6666666666666666, \"#ed7953\"], [0.7777777777777778, \"#fb9f3a\"], [0.8888888888888888, \"#fdca26\"], [1.0, \"#f0f921\"]]}, \"colorway\": [\"#636efa\", \"#EF553B\", \"#00cc96\", \"#ab63fa\", \"#FFA15A\", \"#19d3f3\", \"#FF6692\", \"#B6E880\", \"#FF97FF\", \"#FECB52\"], \"font\": {\"color\": \"#2a3f5f\"}, \"geo\": {\"bgcolor\": \"white\", \"lakecolor\": \"white\", \"landcolor\": \"#E5ECF6\", \"showlakes\": true, \"showland\": true, \"subunitcolor\": \"white\"}, \"hoverlabel\": {\"align\": \"left\"}, \"hovermode\": \"closest\", \"mapbox\": {\"style\": \"light\"}, \"paper_bgcolor\": \"white\", \"plot_bgcolor\": \"#E5ECF6\", \"polar\": {\"angularaxis\": {\"gridcolor\": \"white\", \"linecolor\": \"white\", \"ticks\": \"\"}, \"bgcolor\": \"#E5ECF6\", \"radialaxis\": {\"gridcolor\": \"white\", \"linecolor\": \"white\", \"ticks\": \"\"}}, \"scene\": {\"xaxis\": {\"backgroundcolor\": \"#E5ECF6\", \"gridcolor\": \"white\", \"gridwidth\": 2, \"linecolor\": \"white\", \"showbackground\": true, \"ticks\": \"\", \"zerolinecolor\": \"white\"}, \"yaxis\": {\"backgroundcolor\": \"#E5ECF6\", \"gridcolor\": \"white\", \"gridwidth\": 2, \"linecolor\": \"white\", \"showbackground\": true, \"ticks\": \"\", \"zerolinecolor\": \"white\"}, \"zaxis\": {\"backgroundcolor\": \"#E5ECF6\", \"gridcolor\": \"white\", \"gridwidth\": 2, \"linecolor\": \"white\", \"showbackground\": true, \"ticks\": \"\", \"zerolinecolor\": \"white\"}}, \"shapedefaults\": {\"line\": {\"color\": \"#2a3f5f\"}}, \"ternary\": {\"aaxis\": {\"gridcolor\": \"white\", \"linecolor\": \"white\", \"ticks\": \"\"}, \"baxis\": {\"gridcolor\": \"white\", \"linecolor\": \"white\", \"ticks\": \"\"}, \"bgcolor\": \"#E5ECF6\", \"caxis\": {\"gridcolor\": \"white\", \"linecolor\": \"white\", \"ticks\": \"\"}}, \"title\": {\"x\": 0.05}, \"xaxis\": {\"automargin\": true, \"gridcolor\": \"white\", \"linecolor\": \"white\", \"ticks\": \"\", \"title\": {\"standoff\": 15}, \"zerolinecolor\": \"white\", \"zerolinewidth\": 2}, \"yaxis\": {\"automargin\": true, \"gridcolor\": \"white\", \"linecolor\": \"white\", \"ticks\": \"\", \"title\": {\"standoff\": 15}, \"zerolinecolor\": \"white\", \"zerolinewidth\": 2}}}, \"title\": {\"text\": \"Overall response quality in Setting 4\", \"x\": 0.5, \"xanchor\": \"center\", \"y\": 0.85, \"yanchor\": \"top\"}},\n",
       "                        {\"responsive\": true}\n",
       "                    ).then(function(){\n",
       "                            \n",
       "var gd = document.getElementById('e66c02db-49c2-40c8-b112-201e486f5243');\n",
       "var x = new MutationObserver(function (mutations, observer) {{\n",
       "        var display = window.getComputedStyle(gd).display;\n",
       "        if (!display || display === 'none') {{\n",
       "            console.log([gd, 'removed!']);\n",
       "            Plotly.purge(gd);\n",
       "            observer.disconnect();\n",
       "        }}\n",
       "}});\n",
       "\n",
       "// Listen for the removal of the full notebook cells\n",
       "var notebookContainer = gd.closest('#notebook-container');\n",
       "if (notebookContainer) {{\n",
       "    x.observe(notebookContainer, {childList: true});\n",
       "}}\n",
       "\n",
       "// Listen for the clearing of the current output cell\n",
       "var outputEl = gd.closest('.output');\n",
       "if (outputEl) {{\n",
       "    x.observe(outputEl, {childList: true});\n",
       "}}\n",
       "\n",
       "                        })\n",
       "                };\n",
       "                });\n",
       "            </script>\n",
       "        </div>"
      ]
     },
     "metadata": {},
     "output_type": "display_data"
    }
   ],
   "source": [
    "colors = ['#FAEBD7', '#FFA07A', '#B0C4DE', '#AFEEEE', '#8FBC8F']\n",
    "x = ['1 Suggestion', '3 Suggestions', '5 Suggestions']\n",
    "fig = go.Figure()\n",
    "\n",
    "xHuman = ['']\n",
    "yHuman = [scoresHuman]\n",
    "yHumanErorr = [np.std(z)/math.sqrt(len(z)) for z in yHuman] \n",
    "yHuman = [round(statistics.mean(z), 2) for z in yHuman]\n",
    "\n",
    "fig.add_trace(go.Bar(\n",
    "    name='Human Only',\n",
    "    x=xHuman, y=yHuman, text=yHuman, textposition='inside',insidetextanchor='middle',\n",
    "    marker_color='#B0C4DE',\n",
    "    marker_line_color='rgb(8,48,107)', marker_line_width=1.5, opacity=0.8,\n",
    "    error_y=dict(type='data', array=yHumanErorr)\n",
    "))\n",
    "\n",
    "xBot = ['']\n",
    "yBot = [scoresBot]\n",
    "yBotErorr = [np.std(z)/math.sqrt(len(z)) for z in yBot] \n",
    "yBot = [round(statistics.mean(z), 2) for z in yBot]\n",
    "\n",
    "fig.add_trace(go.Bar(\n",
    "    name='Chatbot Only',\n",
    "    x=xBot, y=yBot, text=yBot, textposition='inside',insidetextanchor='middle',\n",
    "    marker_color='#A9A9A9',\n",
    "    marker_line_color='rgb(8,48,107)', marker_line_width=1.5, opacity=0.8,\n",
    "    error_y=dict(type='data', array=yBotErorr)\n",
    "))\n",
    "\n",
    "\n",
    "ySuggOnly = [sugg1, sugg3, sugg5]\n",
    "ySuggOnlyErorr = [np.std(z)/math.sqrt(len(z)) for z in ySuggOnly] \n",
    "ySuggOnly = [round(statistics.mean(z), 2) for z in ySuggOnly]\n",
    "\n",
    "fig.add_trace(go.Bar(\n",
    "    name='C1',\n",
    "    x=x, y=ySuggOnly, text=ySuggOnly, textposition='inside',insidetextanchor='middle',\n",
    "    marker_color='lightsalmon',\n",
    "    marker_line_color='rgb(8,48,107)', marker_line_width=1.5, opacity=0.8,\n",
    "    error_y=dict(type='data', array=ySuggOnlyErorr)\n",
    "))\n",
    "\n",
    "yAutoSugg = [autoSugg1, autoSugg3, autoSugg5]\n",
    "yAutoSuggErorr = [np.std(z)/math.sqrt(len(z)) for z in yAutoSugg] \n",
    "yAutoSugg = [round(statistics.mean(z), 2) for z in yAutoSugg]\n",
    "\n",
    "fig.add_trace(go.Bar(\n",
    "    name='C2',\n",
    "    x=x, y=yAutoSugg, text=yAutoSugg, textposition='inside',insidetextanchor='middle',\n",
    "    marker_color='#AFEEEE',\n",
    "    marker_line_color='rgb(8,48,107)', marker_line_width=1.5, opacity=0.8,\n",
    "    error_y=dict(type='data', array=yAutoSuggErorr)\n",
    "))\n",
    "\n",
    "\n",
    "fig.update_layout(\n",
    "    title={\n",
    "        'text': 'Overall response quality in Setting 4',\n",
    "        'y':0.85,\n",
    "        'x':0.5,\n",
    "        'xanchor': 'center',\n",
    "        'yanchor': 'top'})\n",
    "\n",
    "fig.show()"
   ]
  },
  {
   "cell_type": "code",
   "execution_count": null,
   "metadata": {},
   "outputs": [],
   "source": []
  },
  {
   "cell_type": "code",
   "execution_count": null,
   "metadata": {},
   "outputs": [],
   "source": []
  }
 ],
 "metadata": {
  "kernelspec": {
   "display_name": "Python 3",
   "language": "python",
   "name": "python3"
  },
  "language_info": {
   "codemirror_mode": {
    "name": "ipython",
    "version": 3
   },
   "file_extension": ".py",
   "mimetype": "text/x-python",
   "name": "python",
   "nbconvert_exporter": "python",
   "pygments_lexer": "ipython3",
   "version": "3.7.6"
  }
 },
 "nbformat": 4,
 "nbformat_minor": 4
}
