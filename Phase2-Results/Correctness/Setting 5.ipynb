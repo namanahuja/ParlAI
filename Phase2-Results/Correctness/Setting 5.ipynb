{
 "cells": [
  {
   "cell_type": "code",
   "execution_count": 1,
   "metadata": {},
   "outputs": [],
   "source": [
    "import os\n",
    "from pathlib import Path\n",
    "import sys\n",
    "import os\n",
    "import _pickle as pickle\n",
    "import json\n",
    "import copy \n",
    "import pandas\n",
    "import numpy as np\n",
    "import matplotlib.pyplot as plt \n",
    "from matplotlib.backends.backend_pdf import PdfPages\n",
    "import csv\n",
    "import json\n",
    "from collections import Counter\n",
    "import statistics \n",
    "import plotly.graph_objects as go\n",
    "import math\n"
   ]
  },
  {
   "cell_type": "code",
   "execution_count": 2,
   "metadata": {},
   "outputs": [],
   "source": [
    "from itertools import combinations\n",
    "from scipy.stats import ttest_ind\n",
    "import decimal\n",
    "\n",
    "# create a new context for this task\n",
    "ctx = decimal.Context()\n",
    "\n",
    "# 20 digits should be enough for everyone :D\n",
    "ctx.prec = 20\n",
    "\n",
    "def float_to_str(f):\n",
    "    \"\"\"\n",
    "    Convert the given float to a string,\n",
    "    without resorting to scientific notation\n",
    "    \"\"\"\n",
    "    d1 = ctx.create_decimal(repr(f))\n",
    "    return format(d1, 'f')"
   ]
  },
  {
   "cell_type": "code",
   "execution_count": 3,
   "metadata": {},
   "outputs": [],
   "source": [
    "with open('../../responseJudgement.json') as json_file:\n",
    "    judgements = json.load(json_file)\n",
    "    \n",
    "with open('../../responseJudgement_sugg.json') as json_file:\n",
    "    suggJudgements = json.load(json_file)"
   ]
  },
  {
   "cell_type": "code",
   "execution_count": 4,
   "metadata": {},
   "outputs": [
    {
     "data": {
      "text/plain": [
       "15417"
      ]
     },
     "execution_count": 4,
     "metadata": {},
     "output_type": "execute_result"
    }
   ],
   "source": [
    "len(judgements)"
   ]
  },
  {
   "cell_type": "code",
   "execution_count": 5,
   "metadata": {},
   "outputs": [
    {
     "data": {
      "text/plain": [
       "1014"
      ]
     },
     "execution_count": 5,
     "metadata": {},
     "output_type": "execute_result"
    }
   ],
   "source": [
    "len(suggJudgements)"
   ]
  },
  {
   "cell_type": "code",
   "execution_count": 6,
   "metadata": {},
   "outputs": [],
   "source": [
    "cleanPath = '../../clean/'\n",
    "settingName = 'Setting 5'"
   ]
  },
  {
   "cell_type": "code",
   "execution_count": 7,
   "metadata": {},
   "outputs": [],
   "source": [
    "responseSet = {}\n",
    "\n",
    "for root, dirs, files in os.walk(cleanPath):\n",
    "    for file in files:\n",
    "        if file.endswith(\".json\"):\n",
    "            fileName = os.path.join(root, file)\n",
    "            with open(fileName) as json_file:\n",
    "                try:\n",
    "                    data = json.load(json_file)\n",
    "                    currFileName = data['currentFileName']\n",
    "                    dialogs = data['dialogs']\n",
    "                    \n",
    "                    for i in range(1, len(dialogs)):\n",
    "                        context = dialogs[i]['context']\n",
    "                        uniqueStr = 'fileIndex=' + str(context['fileIndex']) + '&&contextLen=' + str(context['contextLen']) + '&&userResponse=' + context['userResponse'].strip()\n",
    "                        \n",
    "                        if(uniqueStr in responseSet):\n",
    "                            continue\n",
    "                        \n",
    "                        else:\n",
    "                            \n",
    "                            foundMatches = [x for x in judgements if x['Input.contextLen'] == str(context['contextLen']) and x['Input.fileIndex'] == str(context['fileIndex'])]\n",
    "                            foundJudgement = [x for x in foundMatches if x['Input.fileName'] == currFileName and x['Input.localIndex'] == str(context['localIndex'])]\n",
    "                            \n",
    "                            if(len(foundJudgement) > 0):\n",
    "                                responseSet[uniqueStr] = foundJudgement\n",
    "                        \n",
    "                except Exception as e: print(e)"
   ]
  },
  {
   "cell_type": "code",
   "execution_count": 8,
   "metadata": {},
   "outputs": [
    {
     "data": {
      "text/plain": [
       "5139"
      ]
     },
     "execution_count": 8,
     "metadata": {},
     "output_type": "execute_result"
    }
   ],
   "source": [
    "len(responseSet)"
   ]
  },
  {
   "cell_type": "code",
   "execution_count": 9,
   "metadata": {},
   "outputs": [],
   "source": [
    "suggSet = {}\n",
    "\n",
    "for root, dirs, files in os.walk(cleanPath):\n",
    "    for file in files:\n",
    "        if file.endswith(\".json\"):\n",
    "            fileName = os.path.join(root, file)\n",
    "            with open(fileName) as json_file:\n",
    "                try:\n",
    "                    data = json.load(json_file)\n",
    "                    currFileName = data['currentFileName']\n",
    "                    dialogs = data['dialogs']\n",
    "                    \n",
    "                    for i in range(1, len(dialogs)):\n",
    "                        context = dialogs[i]['context']\n",
    "                        suggestions = context['suggestions']\n",
    "                        \n",
    "                        for sugg in suggestions:\n",
    "                            uniqueStr = 'fileIndex=' + str(context['fileIndex']) + '&&contextLen=' + str(context['contextLen']) + '&&userResponse=' + sugg.strip()\n",
    "\n",
    "                            if(uniqueStr in responseSet or uniqueStr in suggSet):\n",
    "                                continue\n",
    "\n",
    "                            else:\n",
    "\n",
    "                                foundMatches = [x for x in suggJudgements if x['Input.contextLen'] == str(context['contextLen']) and x['Input.fileIndex'] == str(context['fileIndex'])]\n",
    "                                foundJudgement = [x for x in foundMatches if x['Input.fileName'] == currFileName and x['Input.localIndex'] == str(context['localIndex'])]\n",
    "\n",
    "                                if(len(foundJudgement) > 0):\n",
    "                                    suggSet[uniqueStr] = foundJudgement\n",
    "                        \n",
    "                except Exception as e: print(e)"
   ]
  },
  {
   "cell_type": "code",
   "execution_count": 10,
   "metadata": {},
   "outputs": [
    {
     "data": {
      "text/plain": [
       "458"
      ]
     },
     "execution_count": 10,
     "metadata": {},
     "output_type": "execute_result"
    }
   ],
   "source": [
    "len(suggSet)"
   ]
  },
  {
   "cell_type": "code",
   "execution_count": 11,
   "metadata": {},
   "outputs": [],
   "source": [
    "Qualtype = 'Correctness'\n",
    "metric = {\n",
    "    'Answer.' + Qualtype +'.Strongly Disagree': 1,\n",
    "    'Answer.' + Qualtype +'.Disagree': 2,\n",
    "    'Answer.' + Qualtype +'.Neutral': 3,\n",
    "    'Answer.' + Qualtype +'.Agree': 4,\n",
    "    'Answer.' + Qualtype +'.Strongly Agree': 5\n",
    "}"
   ]
  },
  {
   "cell_type": "code",
   "execution_count": 12,
   "metadata": {},
   "outputs": [],
   "source": [
    "scoresHuman = []\n",
    "\n",
    "for root, dirs, files in os.walk(cleanPath + 'Setting 1'):\n",
    "    for file in files:\n",
    "        if file.endswith(\".json\"):\n",
    "            fileName = os.path.join(root, file)\n",
    "            with open(fileName) as json_file:\n",
    "                try:\n",
    "                    data = json.load(json_file)\n",
    "                    dialogs = data['dialogs']\n",
    "                    \n",
    "                    for i in range(1, len(dialogs)):\n",
    "                        context = dialogs[i]['context']\n",
    "                        \n",
    "                        userResponse = context['userResponse']\n",
    "                        fileIndex = context['fileIndex']\n",
    "                        contextLen = context['contextLen']\n",
    "                        \n",
    "                        identifierStr = 'fileIndex=' + str(fileIndex) + '&&contextLen=' + str(contextLen) + '&&userResponse=' + userResponse.strip()\n",
    "                        \n",
    "                        responseJudgements =  responseSet[identifierStr]\n",
    "                        \n",
    "                        currFeedback = []\n",
    "                        for feedback in responseJudgements:\n",
    "                            for key in feedback:\n",
    "                                \n",
    "                                if('Answer.' + Qualtype in key and feedback[key] == 'true'):\n",
    "                                    currFeedback.append(metric[key])\n",
    "                        \n",
    "                        scoresHuman.append(statistics.mean(currFeedback))\n",
    "                            \n",
    "                        \n",
    "                    \n",
    "                except Exception as e: print(e)                 "
   ]
  },
  {
   "cell_type": "code",
   "execution_count": 13,
   "metadata": {},
   "outputs": [],
   "source": [
    "scoresBot = []\n",
    "\n",
    "for root, dirs, files in os.walk(cleanPath + settingName):\n",
    "    for file in files:\n",
    "        if file.endswith(\".json\"):\n",
    "            fileName = os.path.join(root, file)\n",
    "            with open(fileName) as json_file:\n",
    "                try:\n",
    "                    data = json.load(json_file)\n",
    "                    dialogs = data['dialogs']\n",
    "                    \n",
    "                    for i in range(1, len(dialogs)):\n",
    "                        context = dialogs[i]['context']\n",
    "                        \n",
    "                        userResponse = context['userResponse']\n",
    "                        fileIndex = context['fileIndex']\n",
    "                        contextLen = context['contextLen']\n",
    "                        suggestions = context['suggestions']\n",
    "                        \n",
    "                        identifierStr = 'fileIndex=' + str(fileIndex) + '&&contextLen=' + str(contextLen) + '&&userResponse=' + suggestions[0].strip()\n",
    "                        \n",
    "                        if(identifierStr in responseSet):\n",
    "                            responseJudgements =  responseSet[identifierStr]\n",
    "                        else:\n",
    "                            responseJudgements =  suggSet[identifierStr]\n",
    "                        \n",
    "                        currFeedback = []\n",
    "                        for feedback in responseJudgements:\n",
    "                            for key in feedback:\n",
    "                                \n",
    "                                if('Answer.' + Qualtype in key and feedback[key] == 'true'):\n",
    "                                    currFeedback.append(metric[key])\n",
    "                        \n",
    "                        scoresBot.append(statistics.mean(currFeedback))\n",
    "                            \n",
    "                        \n",
    "                    \n",
    "                except Exception as e: print(e)                 "
   ]
  },
  {
   "cell_type": "code",
   "execution_count": null,
   "metadata": {},
   "outputs": [],
   "source": []
  },
  {
   "cell_type": "code",
   "execution_count": 14,
   "metadata": {},
   "outputs": [],
   "source": [
    "sugg1 = []\n",
    "sugg3 = []\n",
    "sugg5 = []\n",
    "\n",
    "autoSugg1 = []\n",
    "autoSugg3 = []\n",
    "autoSugg5 = []\n",
    "\n",
    "\n",
    "for root, dirs, files in os.walk(cleanPath + settingName):\n",
    "    for file in files:\n",
    "        if file.endswith(\".json\"):\n",
    "            fileName = os.path.join(root, file)\n",
    "            with open(fileName) as json_file:\n",
    "                try:\n",
    "                    data = json.load(json_file)\n",
    "                    dialogs = data['dialogs']\n",
    "                    \n",
    "                    for i in range(1, len(dialogs)):\n",
    "                        context = dialogs[i]['context']\n",
    "                        \n",
    "                        userResponse = context['userResponse']\n",
    "                        fileIndex = context['fileIndex']\n",
    "                        contextLen = context['contextLen']\n",
    "                        \n",
    "                        identifierStr = 'fileIndex=' + str(fileIndex) + '&&contextLen=' + str(contextLen) + '&&userResponse=' + userResponse.strip()\n",
    "                        \n",
    "                        responseJudgements =  responseSet[identifierStr]\n",
    "                        \n",
    "                        currFeedback = []\n",
    "                        \n",
    "                        for feedback in responseJudgements:\n",
    "                            for key in feedback:\n",
    "                                \n",
    "                                if('Answer.' + Qualtype in key and feedback[key] == 'true'):\n",
    "                                    currFeedback.append(metric[key])\n",
    "                        \n",
    "                        \n",
    "                        if(data['autoFilledSuggestion'] == 0):\n",
    "                            \n",
    "                            if(data['suggestionsNumber'] == 1):\n",
    "                                sugg1.append(statistics.mean(currFeedback))\n",
    "\n",
    "                            elif(data['suggestionsNumber'] == 3):\n",
    "                                sugg3.append(statistics.mean(currFeedback))\n",
    "\n",
    "                            elif(data['suggestionsNumber'] == 5):\n",
    "                                sugg5.append(statistics.mean(currFeedback))\n",
    "                        \n",
    "                        else:\n",
    "\n",
    "                            if(data['suggestionsNumber'] == 1):\n",
    "                                autoSugg1.append(statistics.mean(currFeedback))\n",
    "\n",
    "                            elif(data['suggestionsNumber'] == 3):\n",
    "                                autoSugg3.append(statistics.mean(currFeedback))\n",
    "                            \n",
    "                            elif(data['suggestionsNumber'] == 5):\n",
    "                                autoSugg5.append(statistics.mean(currFeedback))\n",
    "                    \n",
    "                    \n",
    "                except Exception as e: print(e)"
   ]
  },
  {
   "cell_type": "code",
   "execution_count": 15,
   "metadata": {},
   "outputs": [
    {
     "name": "stdout",
     "output_type": "stream",
     "text": [
      "\"fileIndex=1&&contextLen=1&&userResponse=No, I don't know, but I do know that the piano was invented in Italy by Bartholomew cristofori around 1700.\"\n",
      "'fileIndex=9&&contextLen=1&&userResponse=Well, tacos are made with beef, pork, seafood, and seafood.'\n",
      "\"fileIndex=8&&contextLen=1&&userResponse=I'm not sure, but I know they're originally called 'klklklasse'. They're a German - style car.\"\n",
      "'fileIndex=29&&contextLen=1&&userResponse=I have never been to the mall, but i have heard that it is a great place to get into.'\n",
      "\"fileIndex=28&&contextLen=1&&userResponse=I'm not sure but I know that they are typically built in hotels, hotels, and restaurants.\"\n",
      "'fileIndex=11&&contextLen=1&&userResponse=I like to sew, it is the process of fastening objects with stitches using a needle and thread'\n",
      "'fileIndex=18&&contextLen=1&&userResponse=Well, it is the science, technology, science, engineering, engineering, and engineering.'\n",
      "'fileIndex=21&&contextLen=1&&userResponse=Well, it is a popular tourist destination in the world. Over 800 languages are found worldwide.'\n",
      "'fileIndex=2&&contextLen=1&&userResponse=It is the most densely populated city in the us.'\n",
      "'fileIndex=5&&contextLen=1&&userResponse=The saints and hallow tide are the saints held in the middle of the dead, martyrs, and hallow tide.'\n",
      "'fileIndex=22&&contextLen=1&&userResponse=It is a regional region of the subcontinent of India.'\n",
      "'fileIndex=10&&contextLen=1&&userResponse=I love going to the beach, but i also like to go to a resort city.'\n",
      "'fileIndex=16&&contextLen=1&&userResponse=It is categorized by its choreography and movements, and movements, its choreography, and movements'\n",
      "'fileIndex=22&&contextLen=1&&userResponse=It is a regional region of the subcontinent of India.'\n",
      "'fileIndex=13&&contextLen=1&&userResponse=Well, it is estimated to be a long distance, but it is estimated to be a part of the trail, and it is estimated to be around 2, 200 miles long, and 2 miles.'\n",
      "'fileIndex=3&&contextLen=1&&userResponse=It originated in the Italian renaissance.'\n",
      "'fileIndex=10&&contextLen=1&&userResponse=I love going to the beach, but i also like to go to a resort city.'\n",
      "'fileIndex=18&&contextLen=1&&userResponse=Well, it is the science, technology, science, engineering, engineering, and engineering.'\n",
      "'fileIndex=4&&contextLen=1&&userResponse=The first star trek was created by jams Roddenberry.'\n",
      "'fileIndex=2&&contextLen=1&&userResponse=It is the most densely populated city in the us.'\n",
      "'fileIndex=18&&contextLen=1&&userResponse=Well, it is the science, technology, science, engineering, engineering, and engineering.'\n",
      "'fileIndex=12&&contextLen=1&&userResponse=I usually eat meat, vegetables, and condiments.'\n",
      "'fileIndex=12&&contextLen=1&&userResponse=They are the foremost ballet company of the royal ballet.'\n",
      "'fileIndex=12&&contextLen=1&&userResponse=They are the foremost ballet company of the royal ballet.'\n",
      "'fileIndex=0&&contextLen=1&&userResponse=Yes, it is one of the most popular beers in the us. It was introduced in 1876 by Carl Conrad and co.'\n",
      "'fileIndex=11&&contextLen=1&&userResponse=I like to sew, it is the process of fastening objects with stitches using a needle and thread'\n",
      "'fileIndex=23&&contextLen=1&&userResponse=Yes, it can reduce the risk of some types of chronic diseases such as heart disease.'\n",
      "'fileIndex=7&&contextLen=1&&userResponse=He wrote the first volume of the game of thrones in 1991 and published the series of thrones.'\n",
      "\"fileIndex=28&&contextLen=1&&userResponse=I'm not sure but I know that they are typically built in hotels, hotels, and restaurants.\"\n",
      "'fileIndex=27&&contextLen=1&&userResponse=I have 2. She was a child and she was a child. She was a child and she was a child.'\n",
      "'fileIndex=29&&contextLen=1&&userResponse=I have never been to the mall, but i have heard that it is a great place to get into.'\n",
      "'fileIndex=6&&contextLen=1&&userResponse=Yes, it is one of the most common occupations in the service of the service.'\n",
      "'fileIndex=26&&contextLen=1&&userResponse=She was born in 1971 and died in 1971.'\n",
      "'fileIndex=13&&contextLen=1&&userResponse=Well, it is estimated to be a long distance, but it is estimated to be a part of the trail, and it is estimated to be around 2, 200 miles long, and 2 miles.'\n",
      "'fileIndex=25&&contextLen=1&&userResponse=Prince rogers nelson was born in 1958'\n",
      "\"fileIndex=28&&contextLen=1&&userResponse=I'm not sure but I know that they are typically built in hotels, hotels, and restaurants.\"\n",
      "'fileIndex=4&&contextLen=1&&userResponse=The first star trek was created by jams Roddenberry.'\n",
      "'fileIndex=17&&contextLen=1&&userResponse=They are a small - sized passenger passenger, and are a yacht company.'\n",
      "'fileIndex=13&&contextLen=1&&userResponse=Well, it is estimated to be a long distance, but it is estimated to be a part of the trail, and it is estimated to be around 2, 200 miles long, and 2 miles.'\n",
      "\"fileIndex=8&&contextLen=1&&userResponse=I'm not sure, but I know they're originally called 'klklklasse'. They're a German - style car.\"\n",
      "'fileIndex=6&&contextLen=1&&userResponse=I have not seen it but I do know that it is a very popular show.'\n",
      "'fileIndex=2&&contextLen=1&&userResponse=It is the most densely populated city in the us.'\n",
      "'fileIndex=6&&contextLen=1&&userResponse=Yes, it is one of the most common occupations in the service of the service.'\n",
      "'fileIndex=13&&contextLen=1&&userResponse=Well, it is estimated to be a long distance, but it is estimated to be a part of the trail, and it is estimated to be around 2, 200 miles long, and 2 miles.'\n",
      "'fileIndex=25&&contextLen=1&&userResponse=Prince rogers nelson was born in 1958'\n",
      "'fileIndex=29&&contextLen=1&&userResponse=I have never been to the mall, but i have heard that it is a great place to get into.'\n",
      "'fileIndex=13&&contextLen=1&&userResponse=Well, it is estimated to be a long distance, but it is estimated to be a part of the trail, and it is estimated to be around 2, 200 miles long, and 2 miles.'\n",
      "'fileIndex=22&&contextLen=1&&userResponse=It is a regional region of the subcontinent of India.'\n",
      "'fileIndex=18&&contextLen=1&&userResponse=Well, it is the science, technology, science, engineering, engineering, and engineering.'\n",
      "'fileIndex=6&&contextLen=1&&userResponse=I have not seen it but I do know that it is a very popular show.'\n",
      "'fileIndex=27&&contextLen=1&&userResponse=It was a sitcom on NBC and aired on NBC to 2004.'\n",
      "'fileIndex=2&&contextLen=1&&userResponse=It is the most densely populated city in the us.'\n",
      "'fileIndex=17&&contextLen=1&&userResponse=They are a small - sized passenger passenger, and are a yacht company.'\n",
      "'fileIndex=16&&contextLen=1&&userResponse=Yes, it is the safest state in the country. It is ranked as the safest state in the country.'\n",
      "'fileIndex=5&&contextLen=1&&userResponse=The saints and hallow tide are the saints held in the middle of the dead, martyrs, and hallow tide.'\n",
      "'fileIndex=14&&contextLen=1&&userResponse=He was discovered by a manager discovered him to be a talent manager.'\n",
      "'fileIndex=7&&contextLen=1&&userResponse=He wrote the first volume of the game of thrones in 1991 and published the series of thrones.'\n",
      "'fileIndex=18&&contextLen=1&&userResponse=Maine is one of the oldest breeds in the united states.'\n",
      "'fileIndex=1&&contextLen=1&&userResponse=Purple is a color between blue and red.'\n",
      "\"fileIndex=17&&contextLen=1&&userResponse=I'm not sure, but I do know that amazon echo is a new echo company that is a new echo.\"\n",
      "'fileIndex=14&&contextLen=1&&userResponse=He was discovered by a manager discovered him to be a talent manager.'\n",
      "\"fileIndex=8&&contextLen=1&&userResponse=I'm not sure, but I know they're originally called 'klklklasse'. They're a German - style car.\"\n",
      "'fileIndex=3&&contextLen=1&&userResponse=They were led zeppelin, black Sabbath and deep purple.'\n",
      "'fileIndex=10&&contextLen=1&&userResponse=I have 2 brothers, so i have had a couple of kids, but i have never had one.'\n",
      "'fileIndex=11&&contextLen=1&&userResponse=I like to sew, it is the process of fastening objects with stitches using a needle and thread'\n",
      "'fileIndex=6&&contextLen=1&&userResponse=I have not seen it but I do know that it is a very popular show.'\n",
      "'fileIndex=18&&contextLen=1&&userResponse=Maine is one of the oldest breeds in the united states.'\n",
      "'fileIndex=6&&contextLen=1&&userResponse=Yes, it is one of the most common occupations in the service of the service.'\n",
      "'fileIndex=16&&contextLen=1&&userResponse=Yes, it is the safest state in the country. It is ranked as the safest state in the country.'\n",
      "'fileIndex=12&&contextLen=1&&userResponse=They are the foremost ballet company of the royal ballet.'\n",
      "'fileIndex=3&&contextLen=1&&userResponse=They were led zeppelin, black Sabbath and deep purple.'\n",
      "'fileIndex=17&&contextLen=1&&userResponse=They are a small - sized passenger passenger, and are a yacht company.'\n",
      "\"fileIndex=8&&contextLen=1&&userResponse=I'm not sure, but I know they're originally called 'klklklasse'. They're a German - style car.\"\n",
      "\"fileIndex=20&&contextLen=1&&userResponse=The first time they used the golden arches' logo was in 1953\"\n",
      "'fileIndex=10&&contextLen=1&&userResponse=I have 2 brothers, so i have had a couple of kids, but i have never had one.'\n",
      "\"fileIndex=21&&contextLen=1&&userResponse=I don't know, but I do know that they are very popular.\"\n",
      "'fileIndex=6&&contextLen=1&&userResponse=Yes, it is one of the most common occupations in the service of the service.'\n",
      "'fileIndex=24&&contextLen=1&&userResponse=I would recommend visiting Tokyo someday. It is a great place to visit.'\n",
      "'fileIndex=10&&contextLen=1&&userResponse=I love going to the beach, but i also like to go to a resort city.'\n",
      "'fileIndex=18&&contextLen=1&&userResponse=Well, it is the science, technology, science, engineering, engineering, and engineering.'\n",
      "'fileIndex=25&&contextLen=1&&userResponse=Prince rogers nelson was born in 1958'\n",
      "'fileIndex=19&&contextLen=1&&userResponse=Yes, it is the provinces and territories'\n",
      "'fileIndex=27&&contextLen=1&&userResponse=It was a sitcom on NBC and aired on NBC to 2004.'\n",
      "'fileIndex=10&&contextLen=1&&userResponse=I love going to the beach, but i also like to go to a resort city.'\n",
      "'fileIndex=22&&contextLen=1&&userResponse=It is a Hindu, which refers to the Hindu, or religiously culturally.'\n",
      "'fileIndex=19&&contextLen=1&&userResponse=They are a rock band. They formed in 1985.'\n",
      "'fileIndex=6&&contextLen=1&&userResponse=I have not seen it but I do know that it is a very popular show.'\n",
      "'fileIndex=22&&contextLen=1&&userResponse=It is a regional region of the subcontinent of India.'\n",
      "'fileIndex=0&&contextLen=1&&userResponse=Yes, it is one of the top recreational activities. It is one of the top recreational activities.'\n",
      "'fileIndex=18&&contextLen=1&&userResponse=Maine is one of the oldest breeds in the united states.'\n",
      "'fileIndex=12&&contextLen=1&&userResponse=They are the foremost ballet company of the royal ballet.'\n",
      "'fileIndex=26&&contextLen=1&&userResponse=She was born in 1971 and died in 1971.'\n",
      "'fileIndex=24&&contextLen=1&&userResponse=I would recommend visiting Tokyo someday. It is a great place to visit.'\n",
      "'fileIndex=20&&contextLen=1&&userResponse=It has been licensed to over 42 territories.'\n",
      "'fileIndex=10&&contextLen=1&&userResponse=I love going to the beach, but i also like to go to a resort city.'\n",
      "'fileIndex=20&&contextLen=1&&userResponse=It has been licensed to over 42 territories.'\n",
      "\"fileIndex=28&&contextLen=1&&userResponse=I'm not sure but I know that they are typically built in hotels, hotels, and restaurants.\"\n",
      "'fileIndex=17&&contextLen=1&&userResponse=They are a small - sized passenger passenger, and are a yacht company.'\n"
     ]
    }
   ],
   "source": [
    "sugg1Bot = []\n",
    "sugg3Bot = []\n",
    "sugg5Bot = []\n",
    "\n",
    "autoSugg1Bot = []\n",
    "autoSugg3Bot = []\n",
    "autoSugg5Bot = []\n",
    "\n",
    "\n",
    "for root, dirs, files in os.walk(cleanPath + settingName):\n",
    "    for file in files:\n",
    "        if file.endswith(\".json\"):\n",
    "            fileName = os.path.join(root, file)\n",
    "            with open(fileName) as json_file:\n",
    "                try:\n",
    "                    data = json.load(json_file)\n",
    "                    dialogs = data['dialogs']\n",
    "                    \n",
    "                    for i in range(1, len(dialogs)):\n",
    "                        context = dialogs[i]['context']\n",
    "                        \n",
    "                        userResponse = context['userResponse']\n",
    "                        fileIndex = context['fileIndex']\n",
    "                        suggestions = context['suggestions']\n",
    "                        \n",
    "                        identifierStr = 'fileIndex=' + str(fileIndex) + '&&contextLen=' + str(contextLen) + '&&userResponse=' + suggestions[0].strip()\n",
    "                        \n",
    "                        if(identifierStr in responseSet):\n",
    "                            responseJudgements =  responseSet[identifierStr]\n",
    "                        else:\n",
    "                            responseJudgements =  suggSet[identifierStr]\n",
    "                        \n",
    "                        currFeedback = []\n",
    "                        \n",
    "                        for feedback in responseJudgements:\n",
    "                            for key in feedback:\n",
    "                                \n",
    "                                if('Answer.' + Qualtype in key and feedback[key] == 'true'):\n",
    "                                    currFeedback.append(metric[key])\n",
    "                        \n",
    "                        \n",
    "                        if(data['autoFilledSuggestion'] == 0):\n",
    "                            \n",
    "                            if(data['suggestionsNumber'] == 1):\n",
    "                                sugg1Bot.append(statistics.mean(currFeedback))\n",
    "\n",
    "                            elif(data['suggestionsNumber'] == 3):\n",
    "                                sugg3Bot.append(statistics.mean(currFeedback))\n",
    "\n",
    "                            elif(data['suggestionsNumber'] == 5):\n",
    "                                sugg5Bot.append(statistics.mean(currFeedback))\n",
    "                        \n",
    "                        else:\n",
    "\n",
    "                            if(data['suggestionsNumber'] == 1):\n",
    "                                autoSugg1Bot.append(statistics.mean(currFeedback))\n",
    "\n",
    "                            elif(data['suggestionsNumber'] == 3):\n",
    "                                autoSugg3Bot.append(statistics.mean(currFeedback))\n",
    "                            \n",
    "                            elif(data['suggestionsNumber'] == 5):\n",
    "                                autoSugg5Bot.append(statistics.mean(currFeedback))\n",
    "                    \n",
    "                    \n",
    "                except Exception as e: print(e)"
   ]
  },
  {
   "cell_type": "code",
   "execution_count": 16,
   "metadata": {},
   "outputs": [
    {
     "name": "stdout",
     "output_type": "stream",
     "text": [
      "H Bot 0.0000000000000000000000000000060546846645581\n",
      "H sugg1 0.000012725072766164697\n",
      "H sugg3 NaN\n",
      "H sugg5 NaN\n",
      "H autoSugg1 0.0000016375023413825638\n",
      "H autoSugg3 NaN\n",
      "H autoSugg5 NaN\n",
      "Bot sugg1 0.00000000001973157582408558\n",
      "Bot sugg3 NaN\n",
      "Bot sugg5 NaN\n",
      "Bot autoSugg1 0.000000000026468934127234222\n",
      "Bot autoSugg3 NaN\n",
      "Bot autoSugg5 NaN\n",
      "sugg1 sugg3 NaN\n",
      "sugg1 sugg5 NaN\n",
      "sugg1 autoSugg1 0.7670295810247072\n",
      "sugg1 autoSugg3 NaN\n",
      "sugg1 autoSugg5 NaN\n",
      "sugg3 sugg5 NaN\n",
      "sugg3 autoSugg1 NaN\n",
      "sugg3 autoSugg3 NaN\n",
      "sugg3 autoSugg5 NaN\n",
      "sugg5 autoSugg1 NaN\n",
      "sugg5 autoSugg3 NaN\n",
      "sugg5 autoSugg5 NaN\n",
      "autoSugg1 autoSugg3 NaN\n",
      "autoSugg1 autoSugg5 NaN\n",
      "autoSugg3 autoSugg5 NaN\n"
     ]
    }
   ],
   "source": [
    "settings = {\n",
    "    'H': scoresHuman,\n",
    "    'Bot': scoresBot,\n",
    "    'sugg1': sugg1,\n",
    "    'sugg3': sugg3,\n",
    "    'sugg5': sugg5,\n",
    "    'autoSugg1': autoSugg1,\n",
    "    'autoSugg3': autoSugg3,\n",
    "    'autoSugg5': autoSugg5\n",
    "}\n",
    "\n",
    "for list1, list2 in combinations(settings.keys(), 2):\n",
    "    t, p = ttest_ind(settings[list1], settings[list2], equal_var = False)\n",
    "    print (list1, list2, float_to_str(p))"
   ]
  },
  {
   "cell_type": "code",
   "execution_count": null,
   "metadata": {},
   "outputs": [],
   "source": []
  },
  {
   "cell_type": "code",
   "execution_count": 18,
   "metadata": {},
   "outputs": [
    {
     "data": {
      "application/vnd.plotly.v1+json": {
       "config": {
        "plotlyServerURL": "https://plot.ly"
       },
       "data": [
        {
         "error_y": {
          "array": [
           0.03524428637697495
          ],
          "type": "data"
         },
         "insidetextanchor": "middle",
         "marker": {
          "color": "#B0C4DE",
          "line": {
           "color": "rgb(8,48,107)",
           "width": 1.5
          }
         },
         "name": "Human Only",
         "opacity": 0.8,
         "text": [
          "3.87"
         ],
         "textposition": "inside",
         "type": "bar",
         "x": [
          ""
         ],
         "y": [
          3.87
         ]
        },
        {
         "error_y": {
          "array": [
           0.02559969820707551
          ],
          "type": "data"
         },
         "insidetextanchor": "middle",
         "marker": {
          "color": "#A9A9A9",
          "line": {
           "color": "rgb(8,48,107)",
           "width": 1.5
          }
         },
         "name": "Chatbot Only",
         "opacity": 0.8,
         "text": [
          "3.36"
         ],
         "textposition": "inside",
         "type": "bar",
         "x": [
          ""
         ],
         "y": [
          3.36
         ]
        },
        {
         "error_y": {
          "array": [
           0.03532471535785782
          ],
          "type": "data"
         },
         "insidetextanchor": "middle",
         "marker": {
          "color": "lightsalmon",
          "line": {
           "color": "rgb(8,48,107)",
           "width": 1.5
          }
         },
         "name": "C1",
         "opacity": 0.8,
         "text": [
          "3.65"
         ],
         "textposition": "inside",
         "type": "bar",
         "x": [
          "1 Suggestion"
         ],
         "y": [
          3.65
         ]
        },
        {
         "error_y": {
          "array": [
           0.12263098292799453
          ],
          "type": "data"
         },
         "insidetextanchor": "middle",
         "marker": {
          "color": "#ffdacc",
          "line": {
           "color": "rgb(8,48,107)",
           "width": 1.5
          }
         },
         "name": "C1 - Chatbot Only",
         "opacity": 0.8,
         "text": [
          "3.74"
         ],
         "textposition": "inside",
         "type": "bar",
         "x": [
          "1 Suggestion"
         ],
         "y": [
          3.74
         ]
        },
        {
         "error_y": {
          "array": [
           0.033138190903378696
          ],
          "type": "data"
         },
         "insidetextanchor": "middle",
         "marker": {
          "color": "#AFEEEE",
          "line": {
           "color": "rgb(8,48,107)",
           "width": 1.5
          }
         },
         "name": "C2",
         "opacity": 0.8,
         "text": [
          "3.64"
         ],
         "textposition": "inside",
         "type": "bar",
         "x": [
          "1 Suggestion"
         ],
         "y": [
          3.64
         ]
        },
        {
         "error_y": {
          "array": [
           0.16053244739511904
          ],
          "type": "data"
         },
         "insidetextanchor": "middle",
         "marker": {
          "color": "#eafbfb",
          "line": {
           "color": "rgb(8,48,107)",
           "width": 1.5
          }
         },
         "name": "C2 - Chatbot Only",
         "opacity": 0.8,
         "text": [
          "3.68"
         ],
         "textposition": "inside",
         "type": "bar",
         "x": [
          "1 Suggestion"
         ],
         "y": [
          3.68
         ]
        }
       ],
       "layout": {
        "font": {
         "size": 13
        },
        "legend": {
         "orientation": "h"
        },
        "template": {
         "data": {
          "bar": [
           {
            "error_x": {
             "color": "#2a3f5f"
            },
            "error_y": {
             "color": "#2a3f5f"
            },
            "marker": {
             "line": {
              "color": "#E5ECF6",
              "width": 0.5
             }
            },
            "type": "bar"
           }
          ],
          "barpolar": [
           {
            "marker": {
             "line": {
              "color": "#E5ECF6",
              "width": 0.5
             }
            },
            "type": "barpolar"
           }
          ],
          "carpet": [
           {
            "aaxis": {
             "endlinecolor": "#2a3f5f",
             "gridcolor": "white",
             "linecolor": "white",
             "minorgridcolor": "white",
             "startlinecolor": "#2a3f5f"
            },
            "baxis": {
             "endlinecolor": "#2a3f5f",
             "gridcolor": "white",
             "linecolor": "white",
             "minorgridcolor": "white",
             "startlinecolor": "#2a3f5f"
            },
            "type": "carpet"
           }
          ],
          "choropleth": [
           {
            "colorbar": {
             "outlinewidth": 0,
             "ticks": ""
            },
            "type": "choropleth"
           }
          ],
          "contour": [
           {
            "colorbar": {
             "outlinewidth": 0,
             "ticks": ""
            },
            "colorscale": [
             [
              0,
              "#0d0887"
             ],
             [
              0.1111111111111111,
              "#46039f"
             ],
             [
              0.2222222222222222,
              "#7201a8"
             ],
             [
              0.3333333333333333,
              "#9c179e"
             ],
             [
              0.4444444444444444,
              "#bd3786"
             ],
             [
              0.5555555555555556,
              "#d8576b"
             ],
             [
              0.6666666666666666,
              "#ed7953"
             ],
             [
              0.7777777777777778,
              "#fb9f3a"
             ],
             [
              0.8888888888888888,
              "#fdca26"
             ],
             [
              1,
              "#f0f921"
             ]
            ],
            "type": "contour"
           }
          ],
          "contourcarpet": [
           {
            "colorbar": {
             "outlinewidth": 0,
             "ticks": ""
            },
            "type": "contourcarpet"
           }
          ],
          "heatmap": [
           {
            "colorbar": {
             "outlinewidth": 0,
             "ticks": ""
            },
            "colorscale": [
             [
              0,
              "#0d0887"
             ],
             [
              0.1111111111111111,
              "#46039f"
             ],
             [
              0.2222222222222222,
              "#7201a8"
             ],
             [
              0.3333333333333333,
              "#9c179e"
             ],
             [
              0.4444444444444444,
              "#bd3786"
             ],
             [
              0.5555555555555556,
              "#d8576b"
             ],
             [
              0.6666666666666666,
              "#ed7953"
             ],
             [
              0.7777777777777778,
              "#fb9f3a"
             ],
             [
              0.8888888888888888,
              "#fdca26"
             ],
             [
              1,
              "#f0f921"
             ]
            ],
            "type": "heatmap"
           }
          ],
          "heatmapgl": [
           {
            "colorbar": {
             "outlinewidth": 0,
             "ticks": ""
            },
            "colorscale": [
             [
              0,
              "#0d0887"
             ],
             [
              0.1111111111111111,
              "#46039f"
             ],
             [
              0.2222222222222222,
              "#7201a8"
             ],
             [
              0.3333333333333333,
              "#9c179e"
             ],
             [
              0.4444444444444444,
              "#bd3786"
             ],
             [
              0.5555555555555556,
              "#d8576b"
             ],
             [
              0.6666666666666666,
              "#ed7953"
             ],
             [
              0.7777777777777778,
              "#fb9f3a"
             ],
             [
              0.8888888888888888,
              "#fdca26"
             ],
             [
              1,
              "#f0f921"
             ]
            ],
            "type": "heatmapgl"
           }
          ],
          "histogram": [
           {
            "marker": {
             "colorbar": {
              "outlinewidth": 0,
              "ticks": ""
             }
            },
            "type": "histogram"
           }
          ],
          "histogram2d": [
           {
            "colorbar": {
             "outlinewidth": 0,
             "ticks": ""
            },
            "colorscale": [
             [
              0,
              "#0d0887"
             ],
             [
              0.1111111111111111,
              "#46039f"
             ],
             [
              0.2222222222222222,
              "#7201a8"
             ],
             [
              0.3333333333333333,
              "#9c179e"
             ],
             [
              0.4444444444444444,
              "#bd3786"
             ],
             [
              0.5555555555555556,
              "#d8576b"
             ],
             [
              0.6666666666666666,
              "#ed7953"
             ],
             [
              0.7777777777777778,
              "#fb9f3a"
             ],
             [
              0.8888888888888888,
              "#fdca26"
             ],
             [
              1,
              "#f0f921"
             ]
            ],
            "type": "histogram2d"
           }
          ],
          "histogram2dcontour": [
           {
            "colorbar": {
             "outlinewidth": 0,
             "ticks": ""
            },
            "colorscale": [
             [
              0,
              "#0d0887"
             ],
             [
              0.1111111111111111,
              "#46039f"
             ],
             [
              0.2222222222222222,
              "#7201a8"
             ],
             [
              0.3333333333333333,
              "#9c179e"
             ],
             [
              0.4444444444444444,
              "#bd3786"
             ],
             [
              0.5555555555555556,
              "#d8576b"
             ],
             [
              0.6666666666666666,
              "#ed7953"
             ],
             [
              0.7777777777777778,
              "#fb9f3a"
             ],
             [
              0.8888888888888888,
              "#fdca26"
             ],
             [
              1,
              "#f0f921"
             ]
            ],
            "type": "histogram2dcontour"
           }
          ],
          "mesh3d": [
           {
            "colorbar": {
             "outlinewidth": 0,
             "ticks": ""
            },
            "type": "mesh3d"
           }
          ],
          "parcoords": [
           {
            "line": {
             "colorbar": {
              "outlinewidth": 0,
              "ticks": ""
             }
            },
            "type": "parcoords"
           }
          ],
          "pie": [
           {
            "automargin": true,
            "type": "pie"
           }
          ],
          "scatter": [
           {
            "marker": {
             "colorbar": {
              "outlinewidth": 0,
              "ticks": ""
             }
            },
            "type": "scatter"
           }
          ],
          "scatter3d": [
           {
            "line": {
             "colorbar": {
              "outlinewidth": 0,
              "ticks": ""
             }
            },
            "marker": {
             "colorbar": {
              "outlinewidth": 0,
              "ticks": ""
             }
            },
            "type": "scatter3d"
           }
          ],
          "scattercarpet": [
           {
            "marker": {
             "colorbar": {
              "outlinewidth": 0,
              "ticks": ""
             }
            },
            "type": "scattercarpet"
           }
          ],
          "scattergeo": [
           {
            "marker": {
             "colorbar": {
              "outlinewidth": 0,
              "ticks": ""
             }
            },
            "type": "scattergeo"
           }
          ],
          "scattergl": [
           {
            "marker": {
             "colorbar": {
              "outlinewidth": 0,
              "ticks": ""
             }
            },
            "type": "scattergl"
           }
          ],
          "scattermapbox": [
           {
            "marker": {
             "colorbar": {
              "outlinewidth": 0,
              "ticks": ""
             }
            },
            "type": "scattermapbox"
           }
          ],
          "scatterpolar": [
           {
            "marker": {
             "colorbar": {
              "outlinewidth": 0,
              "ticks": ""
             }
            },
            "type": "scatterpolar"
           }
          ],
          "scatterpolargl": [
           {
            "marker": {
             "colorbar": {
              "outlinewidth": 0,
              "ticks": ""
             }
            },
            "type": "scatterpolargl"
           }
          ],
          "scatterternary": [
           {
            "marker": {
             "colorbar": {
              "outlinewidth": 0,
              "ticks": ""
             }
            },
            "type": "scatterternary"
           }
          ],
          "surface": [
           {
            "colorbar": {
             "outlinewidth": 0,
             "ticks": ""
            },
            "colorscale": [
             [
              0,
              "#0d0887"
             ],
             [
              0.1111111111111111,
              "#46039f"
             ],
             [
              0.2222222222222222,
              "#7201a8"
             ],
             [
              0.3333333333333333,
              "#9c179e"
             ],
             [
              0.4444444444444444,
              "#bd3786"
             ],
             [
              0.5555555555555556,
              "#d8576b"
             ],
             [
              0.6666666666666666,
              "#ed7953"
             ],
             [
              0.7777777777777778,
              "#fb9f3a"
             ],
             [
              0.8888888888888888,
              "#fdca26"
             ],
             [
              1,
              "#f0f921"
             ]
            ],
            "type": "surface"
           }
          ],
          "table": [
           {
            "cells": {
             "fill": {
              "color": "#EBF0F8"
             },
             "line": {
              "color": "white"
             }
            },
            "header": {
             "fill": {
              "color": "#C8D4E3"
             },
             "line": {
              "color": "white"
             }
            },
            "type": "table"
           }
          ]
         },
         "layout": {
          "annotationdefaults": {
           "arrowcolor": "#2a3f5f",
           "arrowhead": 0,
           "arrowwidth": 1
          },
          "coloraxis": {
           "colorbar": {
            "outlinewidth": 0,
            "ticks": ""
           }
          },
          "colorscale": {
           "diverging": [
            [
             0,
             "#8e0152"
            ],
            [
             0.1,
             "#c51b7d"
            ],
            [
             0.2,
             "#de77ae"
            ],
            [
             0.3,
             "#f1b6da"
            ],
            [
             0.4,
             "#fde0ef"
            ],
            [
             0.5,
             "#f7f7f7"
            ],
            [
             0.6,
             "#e6f5d0"
            ],
            [
             0.7,
             "#b8e186"
            ],
            [
             0.8,
             "#7fbc41"
            ],
            [
             0.9,
             "#4d9221"
            ],
            [
             1,
             "#276419"
            ]
           ],
           "sequential": [
            [
             0,
             "#0d0887"
            ],
            [
             0.1111111111111111,
             "#46039f"
            ],
            [
             0.2222222222222222,
             "#7201a8"
            ],
            [
             0.3333333333333333,
             "#9c179e"
            ],
            [
             0.4444444444444444,
             "#bd3786"
            ],
            [
             0.5555555555555556,
             "#d8576b"
            ],
            [
             0.6666666666666666,
             "#ed7953"
            ],
            [
             0.7777777777777778,
             "#fb9f3a"
            ],
            [
             0.8888888888888888,
             "#fdca26"
            ],
            [
             1,
             "#f0f921"
            ]
           ],
           "sequentialminus": [
            [
             0,
             "#0d0887"
            ],
            [
             0.1111111111111111,
             "#46039f"
            ],
            [
             0.2222222222222222,
             "#7201a8"
            ],
            [
             0.3333333333333333,
             "#9c179e"
            ],
            [
             0.4444444444444444,
             "#bd3786"
            ],
            [
             0.5555555555555556,
             "#d8576b"
            ],
            [
             0.6666666666666666,
             "#ed7953"
            ],
            [
             0.7777777777777778,
             "#fb9f3a"
            ],
            [
             0.8888888888888888,
             "#fdca26"
            ],
            [
             1,
             "#f0f921"
            ]
           ]
          },
          "colorway": [
           "#636efa",
           "#EF553B",
           "#00cc96",
           "#ab63fa",
           "#FFA15A",
           "#19d3f3",
           "#FF6692",
           "#B6E880",
           "#FF97FF",
           "#FECB52"
          ],
          "font": {
           "color": "#2a3f5f"
          },
          "geo": {
           "bgcolor": "white",
           "lakecolor": "white",
           "landcolor": "#E5ECF6",
           "showlakes": true,
           "showland": true,
           "subunitcolor": "white"
          },
          "hoverlabel": {
           "align": "left"
          },
          "hovermode": "closest",
          "mapbox": {
           "style": "light"
          },
          "paper_bgcolor": "white",
          "plot_bgcolor": "#E5ECF6",
          "polar": {
           "angularaxis": {
            "gridcolor": "white",
            "linecolor": "white",
            "ticks": ""
           },
           "bgcolor": "#E5ECF6",
           "radialaxis": {
            "gridcolor": "white",
            "linecolor": "white",
            "ticks": ""
           }
          },
          "scene": {
           "xaxis": {
            "backgroundcolor": "#E5ECF6",
            "gridcolor": "white",
            "gridwidth": 2,
            "linecolor": "white",
            "showbackground": true,
            "ticks": "",
            "zerolinecolor": "white"
           },
           "yaxis": {
            "backgroundcolor": "#E5ECF6",
            "gridcolor": "white",
            "gridwidth": 2,
            "linecolor": "white",
            "showbackground": true,
            "ticks": "",
            "zerolinecolor": "white"
           },
           "zaxis": {
            "backgroundcolor": "#E5ECF6",
            "gridcolor": "white",
            "gridwidth": 2,
            "linecolor": "white",
            "showbackground": true,
            "ticks": "",
            "zerolinecolor": "white"
           }
          },
          "shapedefaults": {
           "line": {
            "color": "#2a3f5f"
           }
          },
          "ternary": {
           "aaxis": {
            "gridcolor": "white",
            "linecolor": "white",
            "ticks": ""
           },
           "baxis": {
            "gridcolor": "white",
            "linecolor": "white",
            "ticks": ""
           },
           "bgcolor": "#E5ECF6",
           "caxis": {
            "gridcolor": "white",
            "linecolor": "white",
            "ticks": ""
           }
          },
          "title": {
           "x": 0.05
          },
          "xaxis": {
           "automargin": true,
           "gridcolor": "white",
           "linecolor": "white",
           "ticks": "",
           "title": {
            "standoff": 15
           },
           "zerolinecolor": "white",
           "zerolinewidth": 2
          },
          "yaxis": {
           "automargin": true,
           "gridcolor": "white",
           "linecolor": "white",
           "ticks": "",
           "title": {
            "standoff": 15
           },
           "zerolinecolor": "white",
           "zerolinewidth": 2
          }
         }
        },
        "yaxis": {
         "range": [
          3,
          4
         ]
        }
       }
      },
      "text/html": [
       "<div>\n",
       "        \n",
       "        \n",
       "            <div id=\"3c364257-c1c9-4580-a165-04b26338b69a\" class=\"plotly-graph-div\" style=\"height:525px; width:100%;\"></div>\n",
       "            <script type=\"text/javascript\">\n",
       "                require([\"plotly\"], function(Plotly) {\n",
       "                    window.PLOTLYENV=window.PLOTLYENV || {};\n",
       "                    \n",
       "                if (document.getElementById(\"3c364257-c1c9-4580-a165-04b26338b69a\")) {\n",
       "                    Plotly.newPlot(\n",
       "                        '3c364257-c1c9-4580-a165-04b26338b69a',\n",
       "                        [{\"error_y\": {\"array\": [0.03524428637697495], \"type\": \"data\"}, \"insidetextanchor\": \"middle\", \"marker\": {\"color\": \"#B0C4DE\", \"line\": {\"color\": \"rgb(8,48,107)\", \"width\": 1.5}}, \"name\": \"Human Only\", \"opacity\": 0.8, \"text\": [\"3.87\"], \"textposition\": \"inside\", \"type\": \"bar\", \"x\": [\"\"], \"y\": [3.87]}, {\"error_y\": {\"array\": [0.02559969820707551], \"type\": \"data\"}, \"insidetextanchor\": \"middle\", \"marker\": {\"color\": \"#A9A9A9\", \"line\": {\"color\": \"rgb(8,48,107)\", \"width\": 1.5}}, \"name\": \"Chatbot Only\", \"opacity\": 0.8, \"text\": [\"3.36\"], \"textposition\": \"inside\", \"type\": \"bar\", \"x\": [\"\"], \"y\": [3.36]}, {\"error_y\": {\"array\": [0.03532471535785782], \"type\": \"data\"}, \"insidetextanchor\": \"middle\", \"marker\": {\"color\": \"lightsalmon\", \"line\": {\"color\": \"rgb(8,48,107)\", \"width\": 1.5}}, \"name\": \"C1\", \"opacity\": 0.8, \"text\": [\"3.65\"], \"textposition\": \"inside\", \"type\": \"bar\", \"x\": [\"1 Suggestion\"], \"y\": [3.65]}, {\"error_y\": {\"array\": [0.12263098292799453], \"type\": \"data\"}, \"insidetextanchor\": \"middle\", \"marker\": {\"color\": \"#ffdacc\", \"line\": {\"color\": \"rgb(8,48,107)\", \"width\": 1.5}}, \"name\": \"C1 - Chatbot Only\", \"opacity\": 0.8, \"text\": [\"3.74\"], \"textposition\": \"inside\", \"type\": \"bar\", \"x\": [\"1 Suggestion\"], \"y\": [3.74]}, {\"error_y\": {\"array\": [0.033138190903378696], \"type\": \"data\"}, \"insidetextanchor\": \"middle\", \"marker\": {\"color\": \"#AFEEEE\", \"line\": {\"color\": \"rgb(8,48,107)\", \"width\": 1.5}}, \"name\": \"C2\", \"opacity\": 0.8, \"text\": [\"3.64\"], \"textposition\": \"inside\", \"type\": \"bar\", \"x\": [\"1 Suggestion\"], \"y\": [3.64]}, {\"error_y\": {\"array\": [0.16053244739511904], \"type\": \"data\"}, \"insidetextanchor\": \"middle\", \"marker\": {\"color\": \"#eafbfb\", \"line\": {\"color\": \"rgb(8,48,107)\", \"width\": 1.5}}, \"name\": \"C2 - Chatbot Only\", \"opacity\": 0.8, \"text\": [\"3.68\"], \"textposition\": \"inside\", \"type\": \"bar\", \"x\": [\"1 Suggestion\"], \"y\": [3.68]}],\n",
       "                        {\"font\": {\"size\": 13}, \"legend\": {\"orientation\": \"h\"}, \"template\": {\"data\": {\"bar\": [{\"error_x\": {\"color\": \"#2a3f5f\"}, \"error_y\": {\"color\": \"#2a3f5f\"}, \"marker\": {\"line\": {\"color\": \"#E5ECF6\", \"width\": 0.5}}, \"type\": \"bar\"}], \"barpolar\": [{\"marker\": {\"line\": {\"color\": \"#E5ECF6\", \"width\": 0.5}}, \"type\": \"barpolar\"}], \"carpet\": [{\"aaxis\": {\"endlinecolor\": \"#2a3f5f\", \"gridcolor\": \"white\", \"linecolor\": \"white\", \"minorgridcolor\": \"white\", \"startlinecolor\": \"#2a3f5f\"}, \"baxis\": {\"endlinecolor\": \"#2a3f5f\", \"gridcolor\": \"white\", \"linecolor\": \"white\", \"minorgridcolor\": \"white\", \"startlinecolor\": \"#2a3f5f\"}, \"type\": \"carpet\"}], \"choropleth\": [{\"colorbar\": {\"outlinewidth\": 0, \"ticks\": \"\"}, \"type\": \"choropleth\"}], \"contour\": [{\"colorbar\": {\"outlinewidth\": 0, \"ticks\": \"\"}, \"colorscale\": [[0.0, \"#0d0887\"], [0.1111111111111111, \"#46039f\"], [0.2222222222222222, \"#7201a8\"], [0.3333333333333333, \"#9c179e\"], [0.4444444444444444, \"#bd3786\"], [0.5555555555555556, \"#d8576b\"], [0.6666666666666666, \"#ed7953\"], [0.7777777777777778, \"#fb9f3a\"], [0.8888888888888888, \"#fdca26\"], [1.0, \"#f0f921\"]], \"type\": \"contour\"}], \"contourcarpet\": [{\"colorbar\": {\"outlinewidth\": 0, \"ticks\": \"\"}, \"type\": \"contourcarpet\"}], \"heatmap\": [{\"colorbar\": {\"outlinewidth\": 0, \"ticks\": \"\"}, \"colorscale\": [[0.0, \"#0d0887\"], [0.1111111111111111, \"#46039f\"], [0.2222222222222222, \"#7201a8\"], [0.3333333333333333, \"#9c179e\"], [0.4444444444444444, \"#bd3786\"], [0.5555555555555556, \"#d8576b\"], [0.6666666666666666, \"#ed7953\"], [0.7777777777777778, \"#fb9f3a\"], [0.8888888888888888, \"#fdca26\"], [1.0, \"#f0f921\"]], \"type\": \"heatmap\"}], \"heatmapgl\": [{\"colorbar\": {\"outlinewidth\": 0, \"ticks\": \"\"}, \"colorscale\": [[0.0, \"#0d0887\"], [0.1111111111111111, \"#46039f\"], [0.2222222222222222, \"#7201a8\"], [0.3333333333333333, \"#9c179e\"], [0.4444444444444444, \"#bd3786\"], [0.5555555555555556, \"#d8576b\"], [0.6666666666666666, \"#ed7953\"], [0.7777777777777778, \"#fb9f3a\"], [0.8888888888888888, \"#fdca26\"], [1.0, \"#f0f921\"]], \"type\": \"heatmapgl\"}], \"histogram\": [{\"marker\": {\"colorbar\": {\"outlinewidth\": 0, \"ticks\": \"\"}}, \"type\": \"histogram\"}], \"histogram2d\": [{\"colorbar\": {\"outlinewidth\": 0, \"ticks\": \"\"}, \"colorscale\": [[0.0, \"#0d0887\"], [0.1111111111111111, \"#46039f\"], [0.2222222222222222, \"#7201a8\"], [0.3333333333333333, \"#9c179e\"], [0.4444444444444444, \"#bd3786\"], [0.5555555555555556, \"#d8576b\"], [0.6666666666666666, \"#ed7953\"], [0.7777777777777778, \"#fb9f3a\"], [0.8888888888888888, \"#fdca26\"], [1.0, \"#f0f921\"]], \"type\": \"histogram2d\"}], \"histogram2dcontour\": [{\"colorbar\": {\"outlinewidth\": 0, \"ticks\": \"\"}, \"colorscale\": [[0.0, \"#0d0887\"], [0.1111111111111111, \"#46039f\"], [0.2222222222222222, \"#7201a8\"], [0.3333333333333333, \"#9c179e\"], [0.4444444444444444, \"#bd3786\"], [0.5555555555555556, \"#d8576b\"], [0.6666666666666666, \"#ed7953\"], [0.7777777777777778, \"#fb9f3a\"], [0.8888888888888888, \"#fdca26\"], [1.0, \"#f0f921\"]], \"type\": \"histogram2dcontour\"}], \"mesh3d\": [{\"colorbar\": {\"outlinewidth\": 0, \"ticks\": \"\"}, \"type\": \"mesh3d\"}], \"parcoords\": [{\"line\": {\"colorbar\": {\"outlinewidth\": 0, \"ticks\": \"\"}}, \"type\": \"parcoords\"}], \"pie\": [{\"automargin\": true, \"type\": \"pie\"}], \"scatter\": [{\"marker\": {\"colorbar\": {\"outlinewidth\": 0, \"ticks\": \"\"}}, \"type\": \"scatter\"}], \"scatter3d\": [{\"line\": {\"colorbar\": {\"outlinewidth\": 0, \"ticks\": \"\"}}, \"marker\": {\"colorbar\": {\"outlinewidth\": 0, \"ticks\": \"\"}}, \"type\": \"scatter3d\"}], \"scattercarpet\": [{\"marker\": {\"colorbar\": {\"outlinewidth\": 0, \"ticks\": \"\"}}, \"type\": \"scattercarpet\"}], \"scattergeo\": [{\"marker\": {\"colorbar\": {\"outlinewidth\": 0, \"ticks\": \"\"}}, \"type\": \"scattergeo\"}], \"scattergl\": [{\"marker\": {\"colorbar\": {\"outlinewidth\": 0, \"ticks\": \"\"}}, \"type\": \"scattergl\"}], \"scattermapbox\": [{\"marker\": {\"colorbar\": {\"outlinewidth\": 0, \"ticks\": \"\"}}, \"type\": \"scattermapbox\"}], \"scatterpolar\": [{\"marker\": {\"colorbar\": {\"outlinewidth\": 0, \"ticks\": \"\"}}, \"type\": \"scatterpolar\"}], \"scatterpolargl\": [{\"marker\": {\"colorbar\": {\"outlinewidth\": 0, \"ticks\": \"\"}}, \"type\": \"scatterpolargl\"}], \"scatterternary\": [{\"marker\": {\"colorbar\": {\"outlinewidth\": 0, \"ticks\": \"\"}}, \"type\": \"scatterternary\"}], \"surface\": [{\"colorbar\": {\"outlinewidth\": 0, \"ticks\": \"\"}, \"colorscale\": [[0.0, \"#0d0887\"], [0.1111111111111111, \"#46039f\"], [0.2222222222222222, \"#7201a8\"], [0.3333333333333333, \"#9c179e\"], [0.4444444444444444, \"#bd3786\"], [0.5555555555555556, \"#d8576b\"], [0.6666666666666666, \"#ed7953\"], [0.7777777777777778, \"#fb9f3a\"], [0.8888888888888888, \"#fdca26\"], [1.0, \"#f0f921\"]], \"type\": \"surface\"}], \"table\": [{\"cells\": {\"fill\": {\"color\": \"#EBF0F8\"}, \"line\": {\"color\": \"white\"}}, \"header\": {\"fill\": {\"color\": \"#C8D4E3\"}, \"line\": {\"color\": \"white\"}}, \"type\": \"table\"}]}, \"layout\": {\"annotationdefaults\": {\"arrowcolor\": \"#2a3f5f\", \"arrowhead\": 0, \"arrowwidth\": 1}, \"coloraxis\": {\"colorbar\": {\"outlinewidth\": 0, \"ticks\": \"\"}}, \"colorscale\": {\"diverging\": [[0, \"#8e0152\"], [0.1, \"#c51b7d\"], [0.2, \"#de77ae\"], [0.3, \"#f1b6da\"], [0.4, \"#fde0ef\"], [0.5, \"#f7f7f7\"], [0.6, \"#e6f5d0\"], [0.7, \"#b8e186\"], [0.8, \"#7fbc41\"], [0.9, \"#4d9221\"], [1, \"#276419\"]], \"sequential\": [[0.0, \"#0d0887\"], [0.1111111111111111, \"#46039f\"], [0.2222222222222222, \"#7201a8\"], [0.3333333333333333, \"#9c179e\"], [0.4444444444444444, \"#bd3786\"], [0.5555555555555556, \"#d8576b\"], [0.6666666666666666, \"#ed7953\"], [0.7777777777777778, \"#fb9f3a\"], [0.8888888888888888, \"#fdca26\"], [1.0, \"#f0f921\"]], \"sequentialminus\": [[0.0, \"#0d0887\"], [0.1111111111111111, \"#46039f\"], [0.2222222222222222, \"#7201a8\"], [0.3333333333333333, \"#9c179e\"], [0.4444444444444444, \"#bd3786\"], [0.5555555555555556, \"#d8576b\"], [0.6666666666666666, \"#ed7953\"], [0.7777777777777778, \"#fb9f3a\"], [0.8888888888888888, \"#fdca26\"], [1.0, \"#f0f921\"]]}, \"colorway\": [\"#636efa\", \"#EF553B\", \"#00cc96\", \"#ab63fa\", \"#FFA15A\", \"#19d3f3\", \"#FF6692\", \"#B6E880\", \"#FF97FF\", \"#FECB52\"], \"font\": {\"color\": \"#2a3f5f\"}, \"geo\": {\"bgcolor\": \"white\", \"lakecolor\": \"white\", \"landcolor\": \"#E5ECF6\", \"showlakes\": true, \"showland\": true, \"subunitcolor\": \"white\"}, \"hoverlabel\": {\"align\": \"left\"}, \"hovermode\": \"closest\", \"mapbox\": {\"style\": \"light\"}, \"paper_bgcolor\": \"white\", \"plot_bgcolor\": \"#E5ECF6\", \"polar\": {\"angularaxis\": {\"gridcolor\": \"white\", \"linecolor\": \"white\", \"ticks\": \"\"}, \"bgcolor\": \"#E5ECF6\", \"radialaxis\": {\"gridcolor\": \"white\", \"linecolor\": \"white\", \"ticks\": \"\"}}, \"scene\": {\"xaxis\": {\"backgroundcolor\": \"#E5ECF6\", \"gridcolor\": \"white\", \"gridwidth\": 2, \"linecolor\": \"white\", \"showbackground\": true, \"ticks\": \"\", \"zerolinecolor\": \"white\"}, \"yaxis\": {\"backgroundcolor\": \"#E5ECF6\", \"gridcolor\": \"white\", \"gridwidth\": 2, \"linecolor\": \"white\", \"showbackground\": true, \"ticks\": \"\", \"zerolinecolor\": \"white\"}, \"zaxis\": {\"backgroundcolor\": \"#E5ECF6\", \"gridcolor\": \"white\", \"gridwidth\": 2, \"linecolor\": \"white\", \"showbackground\": true, \"ticks\": \"\", \"zerolinecolor\": \"white\"}}, \"shapedefaults\": {\"line\": {\"color\": \"#2a3f5f\"}}, \"ternary\": {\"aaxis\": {\"gridcolor\": \"white\", \"linecolor\": \"white\", \"ticks\": \"\"}, \"baxis\": {\"gridcolor\": \"white\", \"linecolor\": \"white\", \"ticks\": \"\"}, \"bgcolor\": \"#E5ECF6\", \"caxis\": {\"gridcolor\": \"white\", \"linecolor\": \"white\", \"ticks\": \"\"}}, \"title\": {\"x\": 0.05}, \"xaxis\": {\"automargin\": true, \"gridcolor\": \"white\", \"linecolor\": \"white\", \"ticks\": \"\", \"title\": {\"standoff\": 15}, \"zerolinecolor\": \"white\", \"zerolinewidth\": 2}, \"yaxis\": {\"automargin\": true, \"gridcolor\": \"white\", \"linecolor\": \"white\", \"ticks\": \"\", \"title\": {\"standoff\": 15}, \"zerolinecolor\": \"white\", \"zerolinewidth\": 2}}}, \"yaxis\": {\"range\": [3, 4]}},\n",
       "                        {\"responsive\": true}\n",
       "                    ).then(function(){\n",
       "                            \n",
       "var gd = document.getElementById('3c364257-c1c9-4580-a165-04b26338b69a');\n",
       "var x = new MutationObserver(function (mutations, observer) {{\n",
       "        var display = window.getComputedStyle(gd).display;\n",
       "        if (!display || display === 'none') {{\n",
       "            console.log([gd, 'removed!']);\n",
       "            Plotly.purge(gd);\n",
       "            observer.disconnect();\n",
       "        }}\n",
       "}});\n",
       "\n",
       "// Listen for the removal of the full notebook cells\n",
       "var notebookContainer = gd.closest('#notebook-container');\n",
       "if (notebookContainer) {{\n",
       "    x.observe(notebookContainer, {childList: true});\n",
       "}}\n",
       "\n",
       "// Listen for the clearing of the current output cell\n",
       "var outputEl = gd.closest('.output');\n",
       "if (outputEl) {{\n",
       "    x.observe(outputEl, {childList: true});\n",
       "}}\n",
       "\n",
       "                        })\n",
       "                };\n",
       "                });\n",
       "            </script>\n",
       "        </div>"
      ]
     },
     "metadata": {},
     "output_type": "display_data"
    }
   ],
   "source": [
    "colors = ['#FAEBD7', '#FFA07A', '#B0C4DE', '#AFEEEE', '#8FBC8F']\n",
    "x = ['1 Suggestion']\n",
    "fig = go.Figure()\n",
    "\n",
    "xHuman = ['']\n",
    "yHuman = [scoresHuman]\n",
    "yHumanErorr = [np.std(z)/math.sqrt(len(z)) for z in yHuman] \n",
    "yHuman = [round(statistics.mean(z), 2) for z in yHuman]\n",
    "\n",
    "fig.add_trace(go.Bar(\n",
    "    name='Human Only',\n",
    "    x=xHuman, y=yHuman, text=yHuman, textposition='inside',insidetextanchor='middle',\n",
    "    marker_color='#B0C4DE',\n",
    "    marker_line_color='rgb(8,48,107)', marker_line_width=1.5, opacity=0.8,\n",
    "    error_y=dict(type='data', array=yHumanErorr)\n",
    "))\n",
    "\n",
    "xBot = ['']\n",
    "yBot = [scoresBot]\n",
    "yBotErorr = [np.std(z)/math.sqrt(len(z)) for z in yBot] \n",
    "yBot = [round(statistics.mean(z), 2) for z in yBot]\n",
    "\n",
    "fig.add_trace(go.Bar(\n",
    "    name='Chatbot Only',\n",
    "    x=xBot, y=yBot, text=yBot, textposition='inside',insidetextanchor='middle',\n",
    "    marker_color='#A9A9A9',\n",
    "    marker_line_color='rgb(8,48,107)', marker_line_width=1.5, opacity=0.8,\n",
    "    error_y=dict(type='data', array=yBotErorr)\n",
    "))\n",
    "\n",
    "\n",
    "ySuggOnly = [sugg1]\n",
    "ySuggOnlyErorr = [np.std(z)/math.sqrt(len(z)) for z in ySuggOnly] \n",
    "ySuggOnly = [round(statistics.mean(z), 2) for z in ySuggOnly]\n",
    "\n",
    "fig.add_trace(go.Bar(\n",
    "    name='C1',\n",
    "    x=x, y=ySuggOnly, text=ySuggOnly, textposition='inside',insidetextanchor='middle',\n",
    "    marker_color='lightsalmon',\n",
    "    marker_line_color='rgb(8,48,107)', marker_line_width=1.5, opacity=0.8,\n",
    "    error_y=dict(type='data', array=ySuggOnlyErorr)\n",
    "))\n",
    "\n",
    "ySuggOnlyBot = [sugg1Bot]\n",
    "ySuggOnlyBotErorr = [np.std(z)/math.sqrt(len(z)) for z in ySuggOnlyBot] \n",
    "ySuggOnlyBot = [round(statistics.mean(z), 2) for z in ySuggOnlyBot]\n",
    "\n",
    "fig.add_trace(go.Bar(\n",
    "    name='C1 - Chatbot Only',\n",
    "    x=x, y=ySuggOnlyBot, text=ySuggOnlyBot, textposition='inside',insidetextanchor='middle',\n",
    "    marker_color='#ffdacc',\n",
    "    marker_line_color='rgb(8,48,107)', marker_line_width=1.5, opacity=0.8,\n",
    "    error_y=dict(type='data', array=ySuggOnlyBotErorr)\n",
    "))\n",
    "\n",
    "\n",
    "yAutoSugg = [autoSugg1]\n",
    "yAutoSuggErorr = [np.std(z)/math.sqrt(len(z)) for z in yAutoSugg] \n",
    "yAutoSugg = [round(statistics.mean(z), 2) for z in yAutoSugg]\n",
    "\n",
    "fig.add_trace(go.Bar(\n",
    "    name='C2',\n",
    "    x=x, y=yAutoSugg, text=yAutoSugg, textposition='inside',insidetextanchor='middle',\n",
    "    marker_color='#AFEEEE',\n",
    "    marker_line_color='rgb(8,48,107)', marker_line_width=1.5, opacity=0.8,\n",
    "    error_y=dict(type='data', array=yAutoSuggErorr)\n",
    "))\n",
    "\n",
    "\n",
    "yAutoSuggBot = [autoSugg1Bot]\n",
    "yAutoSuggBotErorr = [np.std(z)/math.sqrt(len(z)) for z in yAutoSuggBot] \n",
    "yAutoSuggBot = [round(statistics.mean(z), 2) for z in yAutoSuggBot]\n",
    "\n",
    "fig.add_trace(go.Bar(\n",
    "    name='C2 - Chatbot Only',\n",
    "    x=x, y=yAutoSuggBot, text=yAutoSuggBot, textposition='inside',insidetextanchor='middle',\n",
    "    marker_color='#eafbfb',\n",
    "    marker_line_color='rgb(8,48,107)', marker_line_width=1.5, opacity=0.8,\n",
    "    error_y=dict(type='data', array=yAutoSuggBotErorr)\n",
    "))\n",
    "\n",
    "\n",
    "fig.update_layout(\n",
    "    font=dict(\n",
    "        size=13\n",
    "    )\n",
    ")\n",
    "fig.update_yaxes(range=[3, 4])\n",
    "\n",
    "fig.update_layout(legend_orientation=\"h\")\n",
    "fig.show()"
   ]
  },
  {
   "cell_type": "code",
   "execution_count": null,
   "metadata": {},
   "outputs": [],
   "source": []
  },
  {
   "cell_type": "code",
   "execution_count": null,
   "metadata": {},
   "outputs": [],
   "source": []
  }
 ],
 "metadata": {
  "kernelspec": {
   "display_name": "Python 3",
   "language": "python",
   "name": "python3"
  },
  "language_info": {
   "codemirror_mode": {
    "name": "ipython",
    "version": 3
   },
   "file_extension": ".py",
   "mimetype": "text/x-python",
   "name": "python",
   "nbconvert_exporter": "python",
   "pygments_lexer": "ipython3",
   "version": "3.7.6"
  }
 },
 "nbformat": 4,
 "nbformat_minor": 4
}
