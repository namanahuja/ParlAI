{
 "cells": [
  {
   "cell_type": "code",
   "execution_count": 1,
   "metadata": {},
   "outputs": [],
   "source": [
    "import os\n",
    "from pathlib import Path\n",
    "import sys\n",
    "import os\n",
    "import _pickle as pickle\n",
    "import json\n",
    "import copy \n",
    "import pandas\n",
    "import numpy as np\n",
    "import matplotlib.pyplot as plt \n",
    "from matplotlib.backends.backend_pdf import PdfPages\n",
    "import csv\n",
    "import json\n",
    "from collections import Counter\n",
    "import statistics \n",
    "import plotly.graph_objects as go\n",
    "import math"
   ]
  },
  {
   "cell_type": "code",
   "execution_count": 2,
   "metadata": {},
   "outputs": [],
   "source": [
    "from itertools import combinations\n",
    "from scipy.stats import ttest_ind\n",
    "import decimal\n",
    "\n",
    "# create a new context for this task\n",
    "ctx = decimal.Context()\n",
    "\n",
    "# 20 digits should be enough for everyone :D\n",
    "ctx.prec = 20\n",
    "\n",
    "def float_to_str(f):\n",
    "    \"\"\"\n",
    "    Convert the given float to a string,\n",
    "    without resorting to scientific notation\n",
    "    \"\"\"\n",
    "    d1 = ctx.create_decimal(repr(f))\n",
    "    return format(d1, 'f')"
   ]
  },
  {
   "cell_type": "code",
   "execution_count": 3,
   "metadata": {},
   "outputs": [],
   "source": [
    "with open('../../responseJudgement.json') as json_file:\n",
    "    judgements = json.load(json_file)\n",
    "    \n",
    "with open('../../responseJudgement_sugg.json') as json_file:\n",
    "    suggJudgements = json.load(json_file)"
   ]
  },
  {
   "cell_type": "code",
   "execution_count": 4,
   "metadata": {},
   "outputs": [
    {
     "data": {
      "text/plain": [
       "15417"
      ]
     },
     "execution_count": 4,
     "metadata": {},
     "output_type": "execute_result"
    }
   ],
   "source": [
    "len(judgements)"
   ]
  },
  {
   "cell_type": "code",
   "execution_count": 5,
   "metadata": {},
   "outputs": [
    {
     "data": {
      "text/plain": [
       "1014"
      ]
     },
     "execution_count": 5,
     "metadata": {},
     "output_type": "execute_result"
    }
   ],
   "source": [
    "len(suggJudgements)"
   ]
  },
  {
   "cell_type": "code",
   "execution_count": 6,
   "metadata": {},
   "outputs": [],
   "source": [
    "cleanPath = '../../clean/'\n",
    "settingName = 'Setting 3'"
   ]
  },
  {
   "cell_type": "code",
   "execution_count": 7,
   "metadata": {},
   "outputs": [],
   "source": [
    "responseSet = {}\n",
    "\n",
    "for root, dirs, files in os.walk(cleanPath):\n",
    "    for file in files:\n",
    "        if file.endswith(\".json\"):\n",
    "            fileName = os.path.join(root, file)\n",
    "            with open(fileName) as json_file:\n",
    "                try:\n",
    "                    data = json.load(json_file)\n",
    "                    currFileName = data['currentFileName']\n",
    "                    dialogs = data['dialogs']\n",
    "                    \n",
    "                    for i in range(1, len(dialogs)):\n",
    "                        context = dialogs[i]['context']\n",
    "                        uniqueStr = 'fileIndex=' + str(context['fileIndex']) + '&&contextLen=' + str(context['contextLen']) + '&&userResponse=' + context['userResponse'].strip()\n",
    "                        \n",
    "                        if(uniqueStr in responseSet):\n",
    "                            continue\n",
    "                        \n",
    "                        else:\n",
    "                            \n",
    "                            foundMatches = [x for x in judgements if x['Input.contextLen'] == str(context['contextLen']) and x['Input.fileIndex'] == str(context['fileIndex'])]\n",
    "                            foundJudgement = [x for x in foundMatches if x['Input.fileName'] == currFileName and x['Input.localIndex'] == str(context['localIndex'])]\n",
    "                            \n",
    "                            if(len(foundJudgement) > 0):\n",
    "                                responseSet[uniqueStr] = foundJudgement\n",
    "                        \n",
    "                except Exception as e: print(e)"
   ]
  },
  {
   "cell_type": "code",
   "execution_count": 8,
   "metadata": {},
   "outputs": [
    {
     "data": {
      "text/plain": [
       "5139"
      ]
     },
     "execution_count": 8,
     "metadata": {},
     "output_type": "execute_result"
    }
   ],
   "source": [
    "len(responseSet)"
   ]
  },
  {
   "cell_type": "code",
   "execution_count": 9,
   "metadata": {},
   "outputs": [],
   "source": [
    "suggSet = {}\n",
    "\n",
    "for root, dirs, files in os.walk(cleanPath):\n",
    "    for file in files:\n",
    "        if file.endswith(\".json\"):\n",
    "            fileName = os.path.join(root, file)\n",
    "            with open(fileName) as json_file:\n",
    "                try:\n",
    "                    data = json.load(json_file)\n",
    "                    currFileName = data['currentFileName']\n",
    "                    dialogs = data['dialogs']\n",
    "                    \n",
    "                    for i in range(1, len(dialogs)):\n",
    "                        context = dialogs[i]['context']\n",
    "                        suggestions = context['suggestions']\n",
    "                        \n",
    "                        for sugg in suggestions:\n",
    "                            uniqueStr = 'fileIndex=' + str(context['fileIndex']) + '&&contextLen=' + str(context['contextLen']) + '&&userResponse=' + sugg.strip()\n",
    "\n",
    "                            if(uniqueStr in responseSet or uniqueStr in suggSet):\n",
    "                                continue\n",
    "\n",
    "                            else:\n",
    "\n",
    "                                foundMatches = [x for x in suggJudgements if x['Input.contextLen'] == str(context['contextLen']) and x['Input.fileIndex'] == str(context['fileIndex'])]\n",
    "                                foundJudgement = [x for x in foundMatches if x['Input.fileName'] == currFileName and x['Input.localIndex'] == str(context['localIndex'])]\n",
    "\n",
    "                                if(len(foundJudgement) > 0):\n",
    "                                    suggSet[uniqueStr] = foundJudgement\n",
    "                        \n",
    "                except Exception as e: print(e)"
   ]
  },
  {
   "cell_type": "code",
   "execution_count": 10,
   "metadata": {},
   "outputs": [
    {
     "data": {
      "text/plain": [
       "458"
      ]
     },
     "execution_count": 10,
     "metadata": {},
     "output_type": "execute_result"
    }
   ],
   "source": [
    "len(suggSet)"
   ]
  },
  {
   "cell_type": "code",
   "execution_count": 11,
   "metadata": {},
   "outputs": [],
   "source": [
    "Qualtype = 'Fluent'\n",
    "metric = {\n",
    "    'Answer.' + Qualtype +'.Strongly Disagree': 1,\n",
    "    'Answer.' + Qualtype +'.Disagree': 2,\n",
    "    'Answer.' + Qualtype +'.Neutral': 3,\n",
    "    'Answer.' + Qualtype +'.Agree': 4,\n",
    "    'Answer.' + Qualtype +'.Strongly Agree': 5\n",
    "}"
   ]
  },
  {
   "cell_type": "code",
   "execution_count": 12,
   "metadata": {},
   "outputs": [],
   "source": [
    "scoresHuman = []\n",
    "\n",
    "for root, dirs, files in os.walk(cleanPath + 'Setting 1'):\n",
    "    for file in files:\n",
    "        if file.endswith(\".json\"):\n",
    "            fileName = os.path.join(root, file)\n",
    "            with open(fileName) as json_file:\n",
    "                try:\n",
    "                    data = json.load(json_file)\n",
    "                    dialogs = data['dialogs']\n",
    "                    \n",
    "                    for i in range(1, len(dialogs)):\n",
    "                        context = dialogs[i]['context']\n",
    "                        \n",
    "                        userResponse = context['userResponse']\n",
    "                        fileIndex = context['fileIndex']\n",
    "                        contextLen = context['contextLen']\n",
    "                        \n",
    "                        identifierStr = 'fileIndex=' + str(fileIndex) + '&&contextLen=' + str(contextLen) + '&&userResponse=' + userResponse.strip()\n",
    "                        \n",
    "                        responseJudgements =  responseSet[identifierStr]\n",
    "                        \n",
    "                        currFeedback = []\n",
    "                        for feedback in responseJudgements:\n",
    "                            for key in feedback:\n",
    "                                \n",
    "                                if('Answer.' + Qualtype in key and feedback[key] == 'true'):\n",
    "                                    currFeedback.append(metric[key])\n",
    "                        \n",
    "                        scoresHuman.append(statistics.mean(currFeedback))\n",
    "                            \n",
    "                        \n",
    "                    \n",
    "                except Exception as e: print(e)                 "
   ]
  },
  {
   "cell_type": "code",
   "execution_count": 13,
   "metadata": {},
   "outputs": [],
   "source": [
    "scoresBot = []\n",
    "\n",
    "for root, dirs, files in os.walk(cleanPath + settingName):\n",
    "    for file in files:\n",
    "        if file.endswith(\".json\"):\n",
    "            fileName = os.path.join(root, file)\n",
    "            with open(fileName) as json_file:\n",
    "                try:\n",
    "                    data = json.load(json_file)\n",
    "                    dialogs = data['dialogs']\n",
    "                    \n",
    "                    for i in range(1, len(dialogs)):\n",
    "                        context = dialogs[i]['context']\n",
    "                        \n",
    "                        userResponse = context['userResponse']\n",
    "                        fileIndex = context['fileIndex']\n",
    "                        contextLen = context['contextLen']\n",
    "                        suggestions = context['suggestions']\n",
    "                        \n",
    "                        identifierStr = 'fileIndex=' + str(fileIndex) + '&&contextLen=' + str(contextLen) + '&&userResponse=' + suggestions[0].strip()\n",
    "                        \n",
    "                        if(identifierStr in responseSet):\n",
    "                            responseJudgements =  responseSet[identifierStr]\n",
    "                        else:\n",
    "                            responseJudgements =  suggSet[identifierStr]\n",
    "                        \n",
    "                        currFeedback = []\n",
    "                        for feedback in responseJudgements:\n",
    "                            for key in feedback:\n",
    "                                \n",
    "                                if('Answer.' + Qualtype in key and feedback[key] == 'true'):\n",
    "                                    currFeedback.append(metric[key])\n",
    "                        \n",
    "                        scoresBot.append(statistics.mean(currFeedback))\n",
    "                            \n",
    "                        \n",
    "                    \n",
    "                except Exception as e: print(e)                 "
   ]
  },
  {
   "cell_type": "code",
   "execution_count": null,
   "metadata": {},
   "outputs": [],
   "source": []
  },
  {
   "cell_type": "code",
   "execution_count": 14,
   "metadata": {},
   "outputs": [],
   "source": [
    "sugg1 = []\n",
    "sugg3 = []\n",
    "sugg5 = []\n",
    "\n",
    "autoSugg1 = []\n",
    "autoSugg3 = []\n",
    "autoSugg5 = []\n",
    "\n",
    "\n",
    "for root, dirs, files in os.walk(cleanPath + settingName):\n",
    "    for file in files:\n",
    "        if file.endswith(\".json\"):\n",
    "            fileName = os.path.join(root, file)\n",
    "            with open(fileName) as json_file:\n",
    "                try:\n",
    "                    data = json.load(json_file)\n",
    "                    dialogs = data['dialogs']\n",
    "                    \n",
    "                    for i in range(1, len(dialogs)):\n",
    "                        context = dialogs[i]['context']\n",
    "                        \n",
    "                        userResponse = context['userResponse']\n",
    "                        fileIndex = context['fileIndex']\n",
    "                        contextLen = context['contextLen']\n",
    "                        \n",
    "                        identifierStr = 'fileIndex=' + str(fileIndex) + '&&contextLen=' + str(contextLen) + '&&userResponse=' + userResponse.strip()\n",
    "                        \n",
    "                        responseJudgements =  responseSet[identifierStr]\n",
    "                        \n",
    "                        currFeedback = []\n",
    "                        \n",
    "                        for feedback in responseJudgements:\n",
    "                            for key in feedback:\n",
    "                                \n",
    "                                if('Answer.' + Qualtype in key and feedback[key] == 'true'):\n",
    "                                    currFeedback.append(metric[key])\n",
    "                        \n",
    "                        \n",
    "                        if(data['autoFilledSuggestion'] == 0):\n",
    "                            \n",
    "                            if(data['suggestionsNumber'] == 1):\n",
    "                                sugg1.append(statistics.mean(currFeedback))\n",
    "\n",
    "                            elif(data['suggestionsNumber'] == 3):\n",
    "                                sugg3.append(statistics.mean(currFeedback))\n",
    "\n",
    "                            elif(data['suggestionsNumber'] == 5):\n",
    "                                sugg5.append(statistics.mean(currFeedback))\n",
    "                        \n",
    "                        else:\n",
    "\n",
    "                            if(data['suggestionsNumber'] == 1):\n",
    "                                autoSugg1.append(statistics.mean(currFeedback))\n",
    "\n",
    "                            elif(data['suggestionsNumber'] == 3):\n",
    "                                autoSugg3.append(statistics.mean(currFeedback))\n",
    "                            \n",
    "                            elif(data['suggestionsNumber'] == 5):\n",
    "                                autoSugg5.append(statistics.mean(currFeedback))\n",
    "                    \n",
    "                    \n",
    "                except Exception as e: print(e)"
   ]
  },
  {
   "cell_type": "code",
   "execution_count": 15,
   "metadata": {},
   "outputs": [
    {
     "name": "stdout",
     "output_type": "stream",
     "text": [
      "'fileIndex=9&&contextLen=2&&userResponse=Oh yes the Port of Portland largest seaport in New England you will enjoy touring it'\n",
      "'fileIndex=21&&contextLen=2&&userResponse=Since last checked it sits around 3. 4 million people on the island'\n",
      "'fileIndex=21&&contextLen=2&&userResponse=Since last checked it sits around 3. 4 million people on the island'\n",
      "\"fileIndex=15&&contextLen=2&&userResponse=I've seen Stephen King's most recent film addition, I think it was the clown movie called IT? I've also seen that movie called The Dark Tower which was a few years ago.\"\n",
      "'fileIndex=17&&contextLen=2&&userResponse=Kind of, I know that the video game designer is basically like a director, kinda like movies!'\n",
      "'fileIndex=1&&contextLen=2&&userResponse=Yes, he did com The first forte pianos in the 1700s had a quieter sound'\n",
      "\"fileIndex=24&&contextLen=2&&userResponse=I once tried a friend's sushi with tofu in it, it was terrible. I mean it has lots of protein and a low calorie count but still, ewe.\"\n",
      "'fileIndex=6&&contextLen=2&&userResponse=I love it. It came from the owners of Dr. Pepper'\n",
      "'fileIndex=21&&contextLen=2&&userResponse=Sure! Divorce is essentially the termination of a marriage between two people.'\n",
      "\"fileIndex=14&&contextLen=2&&userResponse=Oh yeah the golden arches? Richard and Maurice McDonald opened the first one in the 40's in San Bernardo, California.\"\n",
      "\"fileIndex=4&&contextLen=2&&userResponse=I'm unsure of where, but I do know that it was designed by Ted McCarthy, factory manager John Hews and their team, along with the guitarist Les Paul.\"\n",
      "\"fileIndex=10&&contextLen=2&&userResponse=I have! It is an epic historical romance film, adapted from Margaret Mitchell's 1936 novel!\"\n",
      "'fileIndex=5&&contextLen=2&&userResponse=I try to, I remember that the disease scurvy is prevented with vitamin C.'\n",
      "'fileIndex=8&&contextLen=2&&userResponse=I did go when I was a child, but do not remember much about it except that it is the capitol'\n",
      "\"fileIndex=6&&contextLen=2&&userResponse=She could! Launched in 1984, Hasbro's Transformers towline was promoted through both a comic book by Marvel Comics and an animated series\"\n",
      "'fileIndex=29&&contextLen=2&&userResponse=Yes we watch it on NBC.'\n",
      "'fileIndex=16&&contextLen=2&&userResponse=Dude the great lakes consists of lake superior, Michigan, Huron, Erie and many more'\n",
      "\"fileIndex=2&&contextLen=2&&userResponse=Me too. It streams media and video on demand. You can even rent DVD's through mail.\"\n",
      "'fileIndex=19&&contextLen=2&&userResponse=The country has a severely cold winter climate'\n",
      "'fileIndex=26&&contextLen=2&&userResponse=I do. I like to watch the linebackers, who are a member of the defensive team.'\n",
      "\"fileIndex=24&&contextLen=2&&userResponse=My kids love it! It's part of the 'My Little Pony' toy franchise - my kids watch the show and have the toys!\"\n",
      "'fileIndex=0&&contextLen=2&&userResponse=In 1873 Adolph Coors and Jacob Schuyler founded the brewery'\n",
      "\"fileIndex=3&&contextLen=2&&userResponse=Not personally, but it seems like an interesting place. If you go there you're also very close to Germany as it borders Denmark, so you can visit two countries very easily!\"\n",
      "'fileIndex=23&&contextLen=2&&userResponse=There are multiple categories and distinctions of vegans'\n",
      "\"fileIndex=18&&contextLen=2&&userResponse=Yeah, I've never been though. Del Taco is an American fast food chain.\"\n",
      "'fileIndex=19&&contextLen=2&&userResponse=The country has a severely cold winter climate'\n",
      "'fileIndex=29&&contextLen=2&&userResponse=Yes we watch it on NBC.'\n",
      "\"fileIndex=14&&contextLen=2&&userResponse=Oh yeah the golden arches? Richard and Maurice McDonald opened the first one in the 40's in San Bernardo, California.\"\n",
      "'fileIndex=11&&contextLen=2&&userResponse=Chenille is a tufted velvety cord or yarn, used for trimming furniture and making carpets and clothing.'\n",
      "\"fileIndex=2&&contextLen=2&&userResponse=Me too. It streams media and video on demand. You can even rent DVD's through mail.\"\n",
      "'fileIndex=5&&contextLen=2&&userResponse=I try to, I remember that the disease scurvy is prevented with vitamin C.'\n",
      "'fileIndex=21&&contextLen=2&&userResponse=Sure! Divorce is essentially the termination of a marriage between two people.'\n",
      "\"fileIndex=7&&contextLen=2&&userResponse=The Chevy Corvette, or 'Bette' as it is known, is an iconic American sports car that has been produced for half a century.\"\n",
      "'fileIndex=22&&contextLen=2&&userResponse=Well in keeping with our theme, Hinduism contains a broad range of philosophies. There are many concepts, rituals and pilgrimages that are shared among st different thought processes.'\n",
      "'fileIndex=22&&contextLen=2&&userResponse=Well in keeping with our theme, Hinduism contains a broad range of philosophies. There are many concepts, rituals and pilgrimages that are shared among st different thought processes.'\n",
      "\"fileIndex=6&&contextLen=2&&userResponse=She could! Launched in 1984, Hasbro's Transformers towline was promoted through both a comic book by Marvel Comics and an animated series\"\n",
      "'fileIndex=16&&contextLen=2&&userResponse=Dude the great lakes consists of lake superior, Michigan, Huron, Erie and many more'\n",
      "'fileIndex=22&&contextLen=2&&userResponse=Well in keeping with our theme, Hinduism contains a broad range of philosophies. There are many concepts, rituals and pilgrimages that are shared among st different thought processes.'\n",
      "'fileIndex=10&&contextLen=2&&userResponse=Yah I agree with that'\n",
      "'fileIndex=13&&contextLen=2&&userResponse=Well the chronology of the earliest yoga texts are unclear. But a prominent book is the Hindu Upanishads. Another ancient text is called the Hath Yoga Pradipika.'\n",
      "'fileIndex=9&&contextLen=2&&userResponse=It emphasizes in physical exercises.'\n",
      "'fileIndex=13&&contextLen=2&&userResponse=Well the chronology of the earliest yoga texts are unclear. But a prominent book is the Hindu Upanishads. Another ancient text is called the Hath Yoga Pradipika.'\n",
      "\"fileIndex=6&&contextLen=2&&userResponse=She could! Launched in 1984, Hasbro's Transformers towline was promoted through both a comic book by Marvel Comics and an animated series\"\n",
      "\"fileIndex=7&&contextLen=2&&userResponse=The Chevy Corvette, or 'Bette' as it is known, is an iconic American sports car that has been produced for half a century.\"\n",
      "\"fileIndex=22&&contextLen=2&&userResponse=I have heard of Austin as well, it's the capital of Texas.\"\n",
      "'fileIndex=11&&contextLen=2&&userResponse=New York-style pizza is pizza made with a characteristically large hand-tossed thin crust normally sold in wide slices.'\n",
      "'fileIndex=5&&contextLen=2&&userResponse=I try to, I remember that the disease scurvy is prevented with vitamin C.'\n",
      "'fileIndex=13&&contextLen=2&&userResponse=A family farm is family owned, as opposed to farms operated as collectives, trusts, non-family corporations, or institutionalized farms.'\n",
      "'fileIndex=21&&contextLen=2&&userResponse=Since last checked it sits around 3. 4 million people on the island'\n",
      "\"fileIndex=18&&contextLen=2&&userResponse=Yeah, I've never been though. Del Taco is an American fast food chain.\"\n",
      "\"fileIndex=19&&contextLen=2&&userResponse=Yes! Just to make sure, we're talking about the wooden string instrument, sometimes called a fiddle right?\"\n",
      "\"fileIndex=16&&contextLen=2&&userResponse=That's awesome. What are you studying there?\"\n",
      "'fileIndex=13&&contextLen=2&&userResponse=Well the chronology of the earliest yoga texts are unclear. But a prominent book is the Hindu Upanishads. Another ancient text is called the Hath Yoga Pradipika.'\n",
      "\"fileIndex=24&&contextLen=2&&userResponse=I once tried a friend's sushi with tofu in it, it was terrible. I mean it has lots of protein and a low calorie count but still, ewe.\"\n",
      "'fileIndex=20&&contextLen=2&&userResponse=The serve over 69 million customers daily.'\n",
      "\"fileIndex=22&&contextLen=2&&userResponse=I have heard of Austin as well, it's the capital of Texas.\"\n",
      "\"fileIndex=18&&contextLen=2&&userResponse=They are, they've even been said to be 'native' to the state of Maine. They're the official state cat.\"\n",
      "\"fileIndex=28&&contextLen=2&&userResponse=The word 'Casino' is of Italian origin and means a small country villa or social club\"\n",
      "'fileIndex=23&&contextLen=2&&userResponse=Yea it was a great movie. The Last of the Mahicans was released in 1992.'\n",
      "\"fileIndex=24&&contextLen=2&&userResponse=My kids love it! It's part of the 'My Little Pony' toy franchise - my kids watch the show and have the toys!\"\n",
      "'fileIndex=27&&contextLen=2&&userResponse=Things like child intentions, cohabitation, social support among other things.'\n",
      "'fileIndex=0&&contextLen=2&&userResponse=I do know it is low impact as compared to activities such as running, so not as much jarring on your joints.'\n",
      "'fileIndex=17&&contextLen=2&&userResponse=So what made you just decide I want an echo? Some features I use my Alexei for is music streaming, alarms reminders things like that.'\n",
      "'fileIndex=16&&contextLen=2&&userResponse=Dude the great lakes consists of lake superior, Michigan, Huron, Erie and many more'\n",
      "\"fileIndex=22&&contextLen=2&&userResponse=I have heard of Austin as well, it's the capital of Texas.\"\n",
      "'fileIndex=3&&contextLen=2&&userResponse=I think so. Zeppelin is unique in that is has a lot of blues, folk music, and psychedelia in their music.'\n",
      "'fileIndex=22&&contextLen=2&&userResponse=Well in keeping with our theme, Hinduism contains a broad range of philosophies. There are many concepts, rituals and pilgrimages that are shared among st different thought processes.'\n",
      "\"fileIndex=15&&contextLen=2&&userResponse=I've seen Stephen King's most recent film addition, I think it was the clown movie called IT? I've also seen that movie called The Dark Tower which was a few years ago.\"\n",
      "'fileIndex=5&&contextLen=2&&userResponse=Its widely believed that many Halloween traditions originated from ancient Celtic harvest festivals, particularly the Gaelic festival'\n",
      "'fileIndex=9&&contextLen=2&&userResponse=It emphasizes in physical exercises.'\n",
      "\"fileIndex=18&&contextLen=2&&userResponse=Yeah, I've never been though. Del Taco is an American fast food chain.\"\n",
      "\"fileIndex=22&&contextLen=2&&userResponse=I have heard of Austin as well, it's the capital of Texas.\"\n",
      "\"fileIndex=10&&contextLen=2&&userResponse=I have! It is an epic historical romance film, adapted from Margaret Mitchell's 1936 novel!\"\n",
      "\"fileIndex=4&&contextLen=2&&userResponse=I'm unsure of where, but I do know that it was designed by Ted McCarthy, factory manager John Hews and their team, along with the guitarist Les Paul.\"\n",
      "\"fileIndex=28&&contextLen=2&&userResponse=The word 'Casino' is of Italian origin and means a small country villa or social club\"\n",
      "'fileIndex=25&&contextLen=2&&userResponse=Shellac was once used in electrical applications'\n",
      "'fileIndex=25&&contextLen=2&&userResponse=Skateboarding seems very dangerous, especially when trying to perform tricks using a skateboard.'\n",
      "'fileIndex=5&&contextLen=2&&userResponse=I try to, I remember that the disease scurvy is prevented with vitamin C.'\n",
      "'fileIndex=5&&contextLen=2&&userResponse=Its widely believed that many Halloween traditions originated from ancient Celtic harvest festivals, particularly the Gaelic festival'\n",
      "\"fileIndex=14&&contextLen=2&&userResponse=2008. His first album after being signed on 'my world' had seven songs that got to the billboard chart hot 100 songs.\"\n",
      "'fileIndex=10&&contextLen=2&&userResponse=Yah I agree with that'\n",
      "\"fileIndex=7&&contextLen=2&&userResponse=The Chevy Corvette, or 'Bette' as it is known, is an iconic American sports car that has been produced for half a century.\"\n",
      "'fileIndex=29&&contextLen=2&&userResponse=Yes i have seen it! Based on the video game mortal combat developed by midway game, s Chicago studio in 1992'\n",
      "\"fileIndex=3&&contextLen=2&&userResponse=Not personally, but it seems like an interesting place. If you go there you're also very close to Germany as it borders Denmark, so you can visit two countries very easily!\"\n",
      "'fileIndex=0&&contextLen=2&&userResponse=I do know it is low impact as compared to activities such as running, so not as much jarring on your joints.'\n",
      "'fileIndex=11&&contextLen=2&&userResponse=Chenille is a tufted velvety cord or yarn, used for trimming furniture and making carpets and clothing.'\n",
      "'fileIndex=8&&contextLen=2&&userResponse=I did go when I was a child, but do not remember much about it except that it is the capitol'\n",
      "\"fileIndex=2&&contextLen=2&&userResponse=Me too. It streams media and video on demand. You can even rent DVD's through mail.\"\n",
      "'fileIndex=0&&contextLen=2&&userResponse=I do know it is low impact as compared to activities such as running, so not as much jarring on your joints.'\n",
      "'fileIndex=19&&contextLen=2&&userResponse=The country has a severely cold winter climate'\n",
      "'fileIndex=9&&contextLen=2&&userResponse=It emphasizes in physical exercises.'\n",
      "\"fileIndex=18&&contextLen=2&&userResponse=Yeah, I've never been though. Del Taco is an American fast food chain.\"\n",
      "\"fileIndex=18&&contextLen=2&&userResponse=They are, they've even been said to be 'native' to the state of Maine. They're the official state cat.\"\n",
      "'fileIndex=11&&contextLen=2&&userResponse=Chenille is a tufted velvety cord or yarn, used for trimming furniture and making carpets and clothing.'\n",
      "'fileIndex=20&&contextLen=2&&userResponse=Kind of. OCD is a mental disorder where people feel the need to check things repeatedly, perform certain routines repeatedly, or have certain thoughts repeatedly.'\n",
      "\"fileIndex=10&&contextLen=2&&userResponse=I have! It is an epic historical romance film, adapted from Margaret Mitchell's 1936 novel!\"\n",
      "'fileIndex=27&&contextLen=2&&userResponse=Things like child intentions, cohabitation, social support among other things.'\n",
      "'fileIndex=27&&contextLen=2&&userResponse=Yes, I used to have social anxiety. It can be defined as nervousness in social situations'\n",
      "'fileIndex=0&&contextLen=2&&userResponse=In 1873 Adolph Coors and Jacob Schuyler founded the brewery'\n",
      "'fileIndex=26&&contextLen=2&&userResponse=I do. I like to watch the linebackers, who are a member of the defensive team.'\n",
      "'fileIndex=9&&contextLen=2&&userResponse=It emphasizes in physical exercises.'\n",
      "\"fileIndex=15&&contextLen=2&&userResponse=I've seen Stephen King's most recent film addition, I think it was the clown movie called IT? I've also seen that movie called The Dark Tower which was a few years ago.\"\n",
      "'fileIndex=4&&contextLen=2&&userResponse=Pig are primarily farmed just so they can be eaten by humans. How sad but true.'\n",
      "'fileIndex=0&&contextLen=2&&userResponse=In 1873 Adolph Coors and Jacob Schuyler founded the brewery'\n",
      "'fileIndex=27&&contextLen=2&&userResponse=Things like child intentions, cohabitation, social support among other things.'\n",
      "'fileIndex=12&&contextLen=2&&userResponse=Yes, they are internationally well known. They are based out of the Royal Opera house in London'\n",
      "'fileIndex=20&&contextLen=2&&userResponse=The serve over 69 million customers daily.'\n",
      "'fileIndex=2&&contextLen=2&&userResponse=In cottages, but then they created farms for it and monasteries'\n",
      "\"fileIndex=19&&contextLen=2&&userResponse=Yes! Just to make sure, we're talking about the wooden string instrument, sometimes called a fiddle right?\"\n",
      "'fileIndex=4&&contextLen=2&&userResponse=Pig are primarily farmed just so they can be eaten by humans. How sad but true.'\n",
      "'fileIndex=16&&contextLen=2&&userResponse=Dude the great lakes consists of lake superior, Michigan, Huron, Erie and many more'\n",
      "'fileIndex=13&&contextLen=2&&userResponse=Well the chronology of the earliest yoga texts are unclear. But a prominent book is the Hindu Upanishads. Another ancient text is called the Hath Yoga Pradipika.'\n",
      "'fileIndex=0&&contextLen=2&&userResponse=In 1873 Adolph Coors and Jacob Schuyler founded the brewery'\n",
      "'fileIndex=25&&contextLen=2&&userResponse=Skateboarding seems very dangerous, especially when trying to perform tricks using a skateboard.'\n",
      "'fileIndex=29&&contextLen=2&&userResponse=Yes i have seen it! Based on the video game mortal combat developed by midway game, s Chicago studio in 1992'\n",
      "\"fileIndex=18&&contextLen=2&&userResponse=Yeah, I've never been though. Del Taco is an American fast food chain.\"\n",
      "'fileIndex=10&&contextLen=2&&userResponse=Yah I agree with that'\n",
      "\"fileIndex=7&&contextLen=2&&userResponse=George R. R martin wrote them, you might have known him for his HBO TV series called Game of Throne'.\"\n",
      "\"fileIndex=22&&contextLen=2&&userResponse=I have heard of Austin as well, it's the capital of Texas.\"\n",
      "\"fileIndex=10&&contextLen=2&&userResponse=I have! It is an epic historical romance film, adapted from Margaret Mitchell's 1936 novel!\"\n",
      "'fileIndex=13&&contextLen=2&&userResponse=Well the chronology of the earliest yoga texts are unclear. But a prominent book is the Hindu Upanishads. Another ancient text is called the Hath Yoga Pradipika.'\n",
      "'fileIndex=9&&contextLen=2&&userResponse=Oh yes the Port of Portland largest seaport in New England you will enjoy touring it'\n",
      "\"fileIndex=4&&contextLen=2&&userResponse=I'm unsure of where, but I do know that it was designed by Ted McCarthy, factory manager John Hews and their team, along with the guitarist Les Paul.\"\n",
      "'fileIndex=27&&contextLen=2&&userResponse=Things like child intentions, cohabitation, social support among other things.'\n",
      "'fileIndex=20&&contextLen=2&&userResponse=The serve over 69 million customers daily.'\n",
      "'fileIndex=17&&contextLen=2&&userResponse=Kind of, I know that the video game designer is basically like a director, kinda like movies!'\n",
      "\"fileIndex=7&&contextLen=2&&userResponse=The Chevy Corvette, or 'Bette' as it is known, is an iconic American sports car that has been produced for half a century.\"\n",
      "\"fileIndex=15&&contextLen=2&&userResponse=Yes she definitely has made quite the stir. As I recall her name was mile Stewart on that show and it's to bad she was not the teen idol she could have been.\"\n",
      "'fileIndex=17&&contextLen=2&&userResponse=Kind of, I know that the video game designer is basically like a director, kinda like movies!'\n",
      "\"fileIndex=18&&contextLen=2&&userResponse=They are, they've even been said to be 'native' to the state of Maine. They're the official state cat.\"\n",
      "\"fileIndex=10&&contextLen=2&&userResponse=I have! It is an epic historical romance film, adapted from Margaret Mitchell's 1936 novel!\"\n",
      "'fileIndex=5&&contextLen=2&&userResponse=I try to, I remember that the disease scurvy is prevented with vitamin C.'\n",
      "'fileIndex=9&&contextLen=2&&userResponse=Oh yes the Port of Portland largest seaport in New England you will enjoy touring it'\n",
      "\"fileIndex=7&&contextLen=2&&userResponse=George R. R martin wrote them, you might have known him for his HBO TV series called Game of Throne'.\"\n",
      "\"fileIndex=2&&contextLen=2&&userResponse=Me too. It streams media and video on demand. You can even rent DVD's through mail.\"\n",
      "'fileIndex=21&&contextLen=2&&userResponse=Sure! Divorce is essentially the termination of a marriage between two people.'\n",
      "\"fileIndex=15&&contextLen=2&&userResponse=Yes she definitely has made quite the stir. As I recall her name was mile Stewart on that show and it's to bad she was not the teen idol she could have been.\"\n",
      "\"fileIndex=2&&contextLen=2&&userResponse=Me too. It streams media and video on demand. You can even rent DVD's through mail.\"\n",
      "'fileIndex=27&&contextLen=2&&userResponse=Yes, I used to have social anxiety. It can be defined as nervousness in social situations'\n",
      "\"fileIndex=7&&contextLen=2&&userResponse=The Chevy Corvette, or 'Bette' as it is known, is an iconic American sports car that has been produced for half a century.\"\n",
      "'fileIndex=23&&contextLen=2&&userResponse=There are multiple categories and distinctions of vegans'\n",
      "'fileIndex=20&&contextLen=2&&userResponse=The serve over 69 million customers daily.'\n",
      "'fileIndex=16&&contextLen=2&&userResponse=Dude the great lakes consists of lake superior, Michigan, Huron, Erie and many more'\n",
      "'fileIndex=25&&contextLen=2&&userResponse=Shellac was once used in electrical applications'\n",
      "\"fileIndex=18&&contextLen=2&&userResponse=They are, they've even been said to be 'native' to the state of Maine. They're the official state cat.\"\n",
      "'fileIndex=19&&contextLen=2&&userResponse=The country has a severely cold winter climate'\n",
      "'fileIndex=21&&contextLen=2&&userResponse=Since last checked it sits around 3. 4 million people on the island'\n",
      "'fileIndex=9&&contextLen=2&&userResponse=It emphasizes in physical exercises.'\n",
      "'fileIndex=4&&contextLen=2&&userResponse=Pig are primarily farmed just so they can be eaten by humans. How sad but true.'\n",
      "'fileIndex=13&&contextLen=2&&userResponse=Well the chronology of the earliest yoga texts are unclear. But a prominent book is the Hindu Upanishads. Another ancient text is called the Hath Yoga Pradipika.'\n",
      "'fileIndex=5&&contextLen=2&&userResponse=I try to, I remember that the disease scurvy is prevented with vitamin C.'\n",
      "\"fileIndex=22&&contextLen=2&&userResponse=I have heard of Austin as well, it's the capital of Texas.\"\n",
      "'fileIndex=13&&contextLen=2&&userResponse=A family farm is family owned, as opposed to farms operated as collectives, trusts, non-family corporations, or institutionalized farms.'\n",
      "\"fileIndex=18&&contextLen=2&&userResponse=Yeah, I've never been though. Del Taco is an American fast food chain.\"\n",
      "'fileIndex=21&&contextLen=2&&userResponse=Sure! Divorce is essentially the termination of a marriage between two people.'\n",
      "'fileIndex=11&&contextLen=2&&userResponse=New York-style pizza is pizza made with a characteristically large hand-tossed thin crust normally sold in wide slices.'\n",
      "'fileIndex=27&&contextLen=2&&userResponse=Yes, I used to have social anxiety. It can be defined as nervousness in social situations'\n",
      "'fileIndex=6&&contextLen=2&&userResponse=I love it. It came from the owners of Dr. Pepper'\n",
      "\"fileIndex=15&&contextLen=2&&userResponse=Yes she definitely has made quite the stir. As I recall her name was mile Stewart on that show and it's to bad she was not the teen idol she could have been.\"\n",
      "'fileIndex=29&&contextLen=2&&userResponse=Yes i have seen it! Based on the video game mortal combat developed by midway game, s Chicago studio in 1992'\n",
      "'fileIndex=16&&contextLen=2&&userResponse=Dude the great lakes consists of lake superior, Michigan, Huron, Erie and many more'\n",
      "'fileIndex=21&&contextLen=2&&userResponse=Sure! Divorce is essentially the termination of a marriage between two people.'\n",
      "\"fileIndex=4&&contextLen=2&&userResponse=I'm unsure of where, but I do know that it was designed by Ted McCarthy, factory manager John Hews and their team, along with the guitarist Les Paul.\"\n",
      "'fileIndex=13&&contextLen=2&&userResponse=A family farm is family owned, as opposed to farms operated as collectives, trusts, non-family corporations, or institutionalized farms.'\n",
      "\"fileIndex=3&&contextLen=2&&userResponse=Not personally, but it seems like an interesting place. If you go there you're also very close to Germany as it borders Denmark, so you can visit two countries very easily!\"\n",
      "\"fileIndex=3&&contextLen=2&&userResponse=Not personally, but it seems like an interesting place. If you go there you're also very close to Germany as it borders Denmark, so you can visit two countries very easily!\"\n",
      "\"fileIndex=15&&contextLen=2&&userResponse=Yes she definitely has made quite the stir. As I recall her name was mile Stewart on that show and it's to bad she was not the teen idol she could have been.\"\n",
      "'fileIndex=19&&contextLen=2&&userResponse=The country has a severely cold winter climate'\n",
      "\"fileIndex=14&&contextLen=2&&userResponse=Oh yeah the golden arches? Richard and Maurice McDonald opened the first one in the 40's in San Bernardo, California.\"\n",
      "\"fileIndex=7&&contextLen=2&&userResponse=George R. R martin wrote them, you might have known him for his HBO TV series called Game of Throne'.\"\n",
      "'fileIndex=11&&contextLen=2&&userResponse=Chenille is a tufted velvety cord or yarn, used for trimming furniture and making carpets and clothing.'\n",
      "'fileIndex=20&&contextLen=2&&userResponse=The serve over 69 million customers daily.'\n",
      "'fileIndex=13&&contextLen=2&&userResponse=A family farm is family owned, as opposed to farms operated as collectives, trusts, non-family corporations, or institutionalized farms.'\n",
      "'fileIndex=29&&contextLen=2&&userResponse=Yes we watch it on NBC.'\n",
      "'fileIndex=17&&contextLen=2&&userResponse=So what made you just decide I want an echo? Some features I use my Alexei for is music streaming, alarms reminders things like that.'\n",
      "'fileIndex=4&&contextLen=2&&userResponse=Pig are primarily farmed just so they can be eaten by humans. How sad but true.'\n",
      "'fileIndex=29&&contextLen=2&&userResponse=Yes we watch it on NBC.'\n",
      "'fileIndex=27&&contextLen=2&&userResponse=Things like child intentions, cohabitation, social support among other things.'\n",
      "'fileIndex=25&&contextLen=2&&userResponse=Skateboarding seems very dangerous, especially when trying to perform tricks using a skateboard.'\n",
      "\"fileIndex=2&&contextLen=2&&userResponse=Me too. It streams media and video on demand. You can even rent DVD's through mail.\"\n",
      "'fileIndex=21&&contextLen=2&&userResponse=Sure! Divorce is essentially the termination of a marriage between two people.'\n",
      "\"fileIndex=4&&contextLen=2&&userResponse=I'm unsure of where, but I do know that it was designed by Ted McCarthy, factory manager John Hews and their team, along with the guitarist Les Paul.\"\n",
      "'fileIndex=21&&contextLen=2&&userResponse=Since last checked it sits around 3. 4 million people on the island'\n",
      "'fileIndex=23&&contextLen=2&&userResponse=Yea it was a great movie. The Last of the Mahicans was released in 1992.'\n",
      "'fileIndex=2&&contextLen=2&&userResponse=In cottages, but then they created farms for it and monasteries'\n",
      "'fileIndex=9&&contextLen=2&&userResponse=Oh yes the Port of Portland largest seaport in New England you will enjoy touring it'\n",
      "\"fileIndex=24&&contextLen=2&&userResponse=My kids love it! It's part of the 'My Little Pony' toy franchise - my kids watch the show and have the toys!\"\n",
      "\"fileIndex=10&&contextLen=2&&userResponse=I have! It is an epic historical romance film, adapted from Margaret Mitchell's 1936 novel!\"\n",
      "'fileIndex=0&&contextLen=2&&userResponse=I do know it is low impact as compared to activities such as running, so not as much jarring on your joints.'\n",
      "'fileIndex=23&&contextLen=2&&userResponse=Yea it was a great movie. The Last of the Mahicans was released in 1992.'\n",
      "'fileIndex=13&&contextLen=2&&userResponse=A family farm is family owned, as opposed to farms operated as collectives, trusts, non-family corporations, or institutionalized farms.'\n",
      "'fileIndex=1&&contextLen=2&&userResponse=I do know that it is pretty much a spring perennial plant.'\n",
      "'fileIndex=19&&contextLen=2&&userResponse=The country has a severely cold winter climate'\n"
     ]
    },
    {
     "name": "stdout",
     "output_type": "stream",
     "text": [
      "'fileIndex=1&&contextLen=2&&userResponse=Yes, he did com The first forte pianos in the 1700s had a quieter sound'\n",
      "\"fileIndex=24&&contextLen=2&&userResponse=I once tried a friend's sushi with tofu in it, it was terrible. I mean it has lots of protein and a low calorie count but still, ewe.\"\n",
      "'fileIndex=13&&contextLen=2&&userResponse=Well the chronology of the earliest yoga texts are unclear. But a prominent book is the Hindu Upanishads. Another ancient text is called the Hath Yoga Pradipika.'\n",
      "\"fileIndex=6&&contextLen=2&&userResponse=She could! Launched in 1984, Hasbro's Transformers towline was promoted through both a comic book by Marvel Comics and an animated series\"\n",
      "\"fileIndex=10&&contextLen=2&&userResponse=I have! It is an epic historical romance film, adapted from Margaret Mitchell's 1936 novel!\"\n",
      "'fileIndex=0&&contextLen=2&&userResponse=I do know it is low impact as compared to activities such as running, so not as much jarring on your joints.'\n",
      "'fileIndex=6&&contextLen=2&&userResponse=I love it. It came from the owners of Dr. Pepper'\n",
      "'fileIndex=12&&contextLen=2&&userResponse=Yes, they are internationally well known. They are based out of the Royal Opera house in London'\n",
      "'fileIndex=5&&contextLen=2&&userResponse=I try to, I remember that the disease scurvy is prevented with vitamin C.'\n",
      "'fileIndex=21&&contextLen=2&&userResponse=Since last checked it sits around 3. 4 million people on the island'\n",
      "'fileIndex=25&&contextLen=2&&userResponse=Skateboarding seems very dangerous, especially when trying to perform tricks using a skateboard.'\n",
      "\"fileIndex=4&&contextLen=2&&userResponse=I'm unsure of where, but I do know that it was designed by Ted McCarthy, factory manager John Hews and their team, along with the guitarist Les Paul.\"\n",
      "'fileIndex=22&&contextLen=2&&userResponse=Well in keeping with our theme, Hinduism contains a broad range of philosophies. There are many concepts, rituals and pilgrimages that are shared among st different thought processes.'\n",
      "\"fileIndex=7&&contextLen=2&&userResponse=The Chevy Corvette, or 'Bette' as it is known, is an iconic American sports car that has been produced for half a century.\"\n",
      "'fileIndex=26&&contextLen=2&&userResponse=Definitely and they vary by sizes since they are lizards of the Varanidae family.'\n",
      "'fileIndex=0&&contextLen=2&&userResponse=In 1873 Adolph Coors and Jacob Schuyler founded the brewery'\n",
      "'fileIndex=23&&contextLen=2&&userResponse=There are multiple categories and distinctions of vegans'\n",
      "'fileIndex=20&&contextLen=2&&userResponse=Kind of. OCD is a mental disorder where people feel the need to check things repeatedly, perform certain routines repeatedly, or have certain thoughts repeatedly.'\n",
      "'fileIndex=1&&contextLen=2&&userResponse=I do know that it is pretty much a spring perennial plant.'\n",
      "'fileIndex=20&&contextLen=2&&userResponse=Kind of. OCD is a mental disorder where people feel the need to check things repeatedly, perform certain routines repeatedly, or have certain thoughts repeatedly.'\n",
      "'fileIndex=17&&contextLen=2&&userResponse=So what made you just decide I want an echo? Some features I use my Alexei for is music streaming, alarms reminders things like that.'\n",
      "'fileIndex=23&&contextLen=2&&userResponse=Yea it was a great movie. The Last of the Mahicans was released in 1992.'\n",
      "\"fileIndex=24&&contextLen=2&&userResponse=My kids love it! It's part of the 'My Little Pony' toy franchise - my kids watch the show and have the toys!\"\n",
      "'fileIndex=11&&contextLen=2&&userResponse=New York-style pizza is pizza made with a characteristically large hand-tossed thin crust normally sold in wide slices.'\n",
      "\"fileIndex=2&&contextLen=2&&userResponse=Me too. It streams media and video on demand. You can even rent DVD's through mail.\"\n",
      "'fileIndex=21&&contextLen=2&&userResponse=Since last checked it sits around 3. 4 million people on the island'\n",
      "\"fileIndex=28&&contextLen=2&&userResponse=The word 'Casino' is of Italian origin and means a small country villa or social club\"\n",
      "'fileIndex=2&&contextLen=2&&userResponse=In cottages, but then they created farms for it and monasteries'\n",
      "'fileIndex=27&&contextLen=2&&userResponse=Yes, I used to have social anxiety. It can be defined as nervousness in social situations'\n",
      "'fileIndex=29&&contextLen=2&&userResponse=Yes we watch it on NBC.'\n",
      "'fileIndex=17&&contextLen=2&&userResponse=So what made you just decide I want an echo? Some features I use my Alexei for is music streaming, alarms reminders things like that.'\n",
      "\"fileIndex=22&&contextLen=2&&userResponse=I have heard of Austin as well, it's the capital of Texas.\"\n",
      "'fileIndex=19&&contextLen=2&&userResponse=The country has a severely cold winter climate'\n",
      "'fileIndex=20&&contextLen=2&&userResponse=Kind of. OCD is a mental disorder where people feel the need to check things repeatedly, perform certain routines repeatedly, or have certain thoughts repeatedly.'\n",
      "'fileIndex=5&&contextLen=2&&userResponse=Its widely believed that many Halloween traditions originated from ancient Celtic harvest festivals, particularly the Gaelic festival'\n",
      "\"fileIndex=14&&contextLen=2&&userResponse=2008. His first album after being signed on 'my world' had seven songs that got to the billboard chart hot 100 songs.\"\n",
      "'fileIndex=8&&contextLen=2&&userResponse=I am not sure as there is no set definition right now o what a tiny house is however, a residential structure under is generally accepted to be a tiny home.'\n",
      "'fileIndex=11&&contextLen=2&&userResponse=Chenille is a tufted velvety cord or yarn, used for trimming furniture and making carpets and clothing.'\n",
      "'fileIndex=17&&contextLen=2&&userResponse=So what made you just decide I want an echo? Some features I use my Alexei for is music streaming, alarms reminders things like that.'\n",
      "'fileIndex=4&&contextLen=2&&userResponse=Pig are primarily farmed just so they can be eaten by humans. How sad but true.'\n",
      "\"fileIndex=6&&contextLen=2&&userResponse=She could! Launched in 1984, Hasbro's Transformers towline was promoted through both a comic book by Marvel Comics and an animated series\"\n",
      "\"fileIndex=28&&contextLen=2&&userResponse=The word 'Casino' is of Italian origin and means a small country villa or social club\"\n",
      "\"fileIndex=24&&contextLen=2&&userResponse=I once tried a friend's sushi with tofu in it, it was terrible. I mean it has lots of protein and a low calorie count but still, ewe.\"\n",
      "'fileIndex=0&&contextLen=2&&userResponse=I do know it is low impact as compared to activities such as running, so not as much jarring on your joints.'\n",
      "'fileIndex=29&&contextLen=2&&userResponse=Yes we watch it on NBC.'\n",
      "\"fileIndex=15&&contextLen=2&&userResponse=I've seen Stephen King's most recent film addition, I think it was the clown movie called IT? I've also seen that movie called The Dark Tower which was a few years ago.\"\n",
      "'fileIndex=5&&contextLen=2&&userResponse=I try to, I remember that the disease scurvy is prevented with vitamin C.'\n",
      "'fileIndex=26&&contextLen=2&&userResponse=Definitely and they vary by sizes since they are lizards of the Varanidae family.'\n",
      "'fileIndex=5&&contextLen=2&&userResponse=I try to, I remember that the disease scurvy is prevented with vitamin C.'\n",
      "'fileIndex=11&&contextLen=2&&userResponse=Chenille is a tufted velvety cord or yarn, used for trimming furniture and making carpets and clothing.'\n",
      "'fileIndex=27&&contextLen=2&&userResponse=Yes, I used to have social anxiety. It can be defined as nervousness in social situations'\n",
      "'fileIndex=5&&contextLen=2&&userResponse=Its widely believed that many Halloween traditions originated from ancient Celtic harvest festivals, particularly the Gaelic festival'\n",
      "'fileIndex=5&&contextLen=2&&userResponse=Its widely believed that many Halloween traditions originated from ancient Celtic harvest festivals, particularly the Gaelic festival'\n",
      "'fileIndex=21&&contextLen=2&&userResponse=Since last checked it sits around 3. 4 million people on the island'\n",
      "\"fileIndex=24&&contextLen=2&&userResponse=My kids love it! It's part of the 'My Little Pony' toy franchise - my kids watch the show and have the toys!\"\n",
      "'fileIndex=26&&contextLen=2&&userResponse=I do. I like to watch the linebackers, who are a member of the defensive team.'\n",
      "'fileIndex=5&&contextLen=2&&userResponse=I try to, I remember that the disease scurvy is prevented with vitamin C.'\n",
      "'fileIndex=0&&contextLen=2&&userResponse=In 1873 Adolph Coors and Jacob Schuyler founded the brewery'\n",
      "'fileIndex=22&&contextLen=2&&userResponse=Well in keeping with our theme, Hinduism contains a broad range of philosophies. There are many concepts, rituals and pilgrimages that are shared among st different thought processes.'\n",
      "'fileIndex=13&&contextLen=2&&userResponse=Well the chronology of the earliest yoga texts are unclear. But a prominent book is the Hindu Upanishads. Another ancient text is called the Hath Yoga Pradipika.'\n",
      "\"fileIndex=4&&contextLen=2&&userResponse=I'm unsure of where, but I do know that it was designed by Ted McCarthy, factory manager John Hews and their team, along with the guitarist Les Paul.\"\n",
      "'fileIndex=4&&contextLen=2&&userResponse=Pig are primarily farmed just so they can be eaten by humans. How sad but true.'\n",
      "'fileIndex=0&&contextLen=2&&userResponse=In 1873 Adolph Coors and Jacob Schuyler founded the brewery'\n",
      "'fileIndex=21&&contextLen=2&&userResponse=Sure! Divorce is essentially the termination of a marriage between two people.'\n",
      "'fileIndex=0&&contextLen=2&&userResponse=I do know it is low impact as compared to activities such as running, so not as much jarring on your joints.'\n",
      "'fileIndex=1&&contextLen=2&&userResponse=Yes, he did com The first forte pianos in the 1700s had a quieter sound'\n",
      "'fileIndex=13&&contextLen=2&&userResponse=Well the chronology of the earliest yoga texts are unclear. But a prominent book is the Hindu Upanishads. Another ancient text is called the Hath Yoga Pradipika.'\n",
      "'fileIndex=8&&contextLen=2&&userResponse=I am not sure as there is no set definition right now o what a tiny house is however, a residential structure under is generally accepted to be a tiny home.'\n",
      "'fileIndex=1&&contextLen=2&&userResponse=Yes, he did com The first forte pianos in the 1700s had a quieter sound'\n",
      "'fileIndex=11&&contextLen=2&&userResponse=Chenille is a tufted velvety cord or yarn, used for trimming furniture and making carpets and clothing.'\n",
      "'fileIndex=13&&contextLen=2&&userResponse=Well the chronology of the earliest yoga texts are unclear. But a prominent book is the Hindu Upanishads. Another ancient text is called the Hath Yoga Pradipika.'\n",
      "'fileIndex=8&&contextLen=2&&userResponse=I did go when I was a child, but do not remember much about it except that it is the capitol'\n",
      "'fileIndex=8&&contextLen=2&&userResponse=I am not sure as there is no set definition right now o what a tiny house is however, a residential structure under is generally accepted to be a tiny home.'\n",
      "'fileIndex=5&&contextLen=2&&userResponse=Its widely believed that many Halloween traditions originated from ancient Celtic harvest festivals, particularly the Gaelic festival'\n",
      "'fileIndex=22&&contextLen=2&&userResponse=Well in keeping with our theme, Hinduism contains a broad range of philosophies. There are many concepts, rituals and pilgrimages that are shared among st different thought processes.'\n",
      "\"fileIndex=10&&contextLen=2&&userResponse=I have! It is an epic historical romance film, adapted from Margaret Mitchell's 1936 novel!\"\n",
      "'fileIndex=9&&contextLen=2&&userResponse=It emphasizes in physical exercises.'\n",
      "'fileIndex=10&&contextLen=2&&userResponse=Yah I agree with that'\n",
      "'fileIndex=5&&contextLen=2&&userResponse=I try to, I remember that the disease scurvy is prevented with vitamin C.'\n",
      "\"fileIndex=7&&contextLen=2&&userResponse=George R. R martin wrote them, you might have known him for his HBO TV series called Game of Throne'.\"\n",
      "\"fileIndex=24&&contextLen=2&&userResponse=I once tried a friend's sushi with tofu in it, it was terrible. I mean it has lots of protein and a low calorie count but still, ewe.\"\n",
      "\"fileIndex=18&&contextLen=2&&userResponse=Yeah, I've never been though. Del Taco is an American fast food chain.\"\n",
      "\"fileIndex=10&&contextLen=2&&userResponse=I have! It is an epic historical romance film, adapted from Margaret Mitchell's 1936 novel!\"\n",
      "'fileIndex=13&&contextLen=2&&userResponse=Well the chronology of the earliest yoga texts are unclear. But a prominent book is the Hindu Upanishads. Another ancient text is called the Hath Yoga Pradipika.'\n",
      "'fileIndex=17&&contextLen=2&&userResponse=Kind of, I know that the video game designer is basically like a director, kinda like movies!'\n",
      "'fileIndex=11&&contextLen=2&&userResponse=New York-style pizza is pizza made with a characteristically large hand-tossed thin crust normally sold in wide slices.'\n",
      "'fileIndex=13&&contextLen=2&&userResponse=A family farm is family owned, as opposed to farms operated as collectives, trusts, non-family corporations, or institutionalized farms.'\n",
      "\"fileIndex=3&&contextLen=2&&userResponse=Not personally, but it seems like an interesting place. If you go there you're also very close to Germany as it borders Denmark, so you can visit two countries very easily!\"\n",
      "\"fileIndex=15&&contextLen=2&&userResponse=I've seen Stephen King's most recent film addition, I think it was the clown movie called IT? I've also seen that movie called The Dark Tower which was a few years ago.\"\n",
      "\"fileIndex=22&&contextLen=2&&userResponse=I have heard of Austin as well, it's the capital of Texas.\"\n",
      "'fileIndex=17&&contextLen=2&&userResponse=Kind of, I know that the video game designer is basically like a director, kinda like movies!'\n",
      "\"fileIndex=4&&contextLen=2&&userResponse=I'm unsure of where, but I do know that it was designed by Ted McCarthy, factory manager John Hews and their team, along with the guitarist Les Paul.\"\n",
      "'fileIndex=20&&contextLen=2&&userResponse=Kind of. OCD is a mental disorder where people feel the need to check things repeatedly, perform certain routines repeatedly, or have certain thoughts repeatedly.'\n",
      "'fileIndex=8&&contextLen=2&&userResponse=I am not sure as there is no set definition right now o what a tiny house is however, a residential structure under is generally accepted to be a tiny home.'\n",
      "\"fileIndex=7&&contextLen=2&&userResponse=George R. R martin wrote them, you might have known him for his HBO TV series called Game of Throne'.\"\n",
      "'fileIndex=22&&contextLen=2&&userResponse=Well in keeping with our theme, Hinduism contains a broad range of philosophies. There are many concepts, rituals and pilgrimages that are shared among st different thought processes.'\n",
      "'fileIndex=28&&contextLen=2&&userResponse=I know that it began in America as part of the broader tradition of English literature. It is greatly influenced by English Literature.'\n",
      "\"fileIndex=15&&contextLen=2&&userResponse=I've seen Stephen King's most recent film addition, I think it was the clown movie called IT? I've also seen that movie called The Dark Tower which was a few years ago.\"\n",
      "'fileIndex=13&&contextLen=2&&userResponse=Well the chronology of the earliest yoga texts are unclear. But a prominent book is the Hindu Upanishads. Another ancient text is called the Hath Yoga Pradipika.'\n",
      "'fileIndex=17&&contextLen=2&&userResponse=Kind of, I know that the video game designer is basically like a director, kinda like movies!'\n",
      "'fileIndex=16&&contextLen=2&&userResponse=Dude the great lakes consists of lake superior, Michigan, Huron, Erie and many more'\n",
      "'fileIndex=1&&contextLen=2&&userResponse=Yes, he did com The first forte pianos in the 1700s had a quieter sound'\n",
      "'fileIndex=21&&contextLen=2&&userResponse=Since last checked it sits around 3. 4 million people on the island'\n",
      "\"fileIndex=10&&contextLen=2&&userResponse=I have! It is an epic historical romance film, adapted from Margaret Mitchell's 1936 novel!\"\n",
      "'fileIndex=8&&contextLen=2&&userResponse=I am not sure as there is no set definition right now o what a tiny house is however, a residential structure under is generally accepted to be a tiny home.'\n"
     ]
    }
   ],
   "source": [
    "sugg1Bot = []\n",
    "sugg3Bot = []\n",
    "sugg5Bot = []\n",
    "\n",
    "autoSugg1Bot = []\n",
    "autoSugg3Bot = []\n",
    "autoSugg5Bot = []\n",
    "\n",
    "\n",
    "for root, dirs, files in os.walk(cleanPath + settingName):\n",
    "    for file in files:\n",
    "        if file.endswith(\".json\"):\n",
    "            fileName = os.path.join(root, file)\n",
    "            with open(fileName) as json_file:\n",
    "                try:\n",
    "                    data = json.load(json_file)\n",
    "                    dialogs = data['dialogs']\n",
    "                    \n",
    "                    for i in range(1, len(dialogs)):\n",
    "                        context = dialogs[i]['context']\n",
    "                        \n",
    "                        userResponse = context['userResponse']\n",
    "                        fileIndex = context['fileIndex']\n",
    "                        suggestions = context['suggestions']\n",
    "                        \n",
    "                        identifierStr = 'fileIndex=' + str(fileIndex) + '&&contextLen=' + str(contextLen) + '&&userResponse=' + suggestions[0].strip()\n",
    "                        \n",
    "                        if(identifierStr in responseSet):\n",
    "                            responseJudgements =  responseSet[identifierStr]\n",
    "                        else:\n",
    "                            responseJudgements =  suggSet[identifierStr]\n",
    "                        \n",
    "                        currFeedback = []\n",
    "                        \n",
    "                        for feedback in responseJudgements:\n",
    "                            for key in feedback:\n",
    "                                \n",
    "                                if('Answer.' + Qualtype in key and feedback[key] == 'true'):\n",
    "                                    currFeedback.append(metric[key])\n",
    "                        \n",
    "                        \n",
    "                        if(data['autoFilledSuggestion'] == 0):\n",
    "                            \n",
    "                            if(data['suggestionsNumber'] == 1):\n",
    "                                sugg1Bot.append(statistics.mean(currFeedback))\n",
    "\n",
    "                            elif(data['suggestionsNumber'] == 3):\n",
    "                                sugg3Bot.append(statistics.mean(currFeedback))\n",
    "\n",
    "                            elif(data['suggestionsNumber'] == 5):\n",
    "                                sugg5Bot.append(statistics.mean(currFeedback))\n",
    "                        \n",
    "                        else:\n",
    "\n",
    "                            if(data['suggestionsNumber'] == 1):\n",
    "                                autoSugg1Bot.append(statistics.mean(currFeedback))\n",
    "\n",
    "                            elif(data['suggestionsNumber'] == 3):\n",
    "                                autoSugg3Bot.append(statistics.mean(currFeedback))\n",
    "                            \n",
    "                            elif(data['suggestionsNumber'] == 5):\n",
    "                                autoSugg5Bot.append(statistics.mean(currFeedback))\n",
    "                    \n",
    "                    \n",
    "                except Exception as e: print(e)"
   ]
  },
  {
   "cell_type": "code",
   "execution_count": 16,
   "metadata": {},
   "outputs": [
    {
     "name": "stdout",
     "output_type": "stream",
     "text": [
      "H Bot 0.8640363429785445\n",
      "H sugg1 0.5552579552756827\n",
      "H sugg3 0.7828559130266511\n",
      "H sugg5 0.904121193800445\n",
      "H autoSugg1 0.489070398243558\n",
      "H autoSugg3 0.7725518505202786\n",
      "H autoSugg5 0.9695162845274002\n",
      "Bot sugg1 0.5089953430336485\n",
      "Bot sugg3 0.5280218155302192\n",
      "Bot sugg5 0.982406630624441\n",
      "Bot autoSugg1 0.3926548251990566\n",
      "Bot autoSugg3 0.8252860529314048\n",
      "Bot autoSugg5 0.8809183097495251\n",
      "sugg1 sugg3 0.3260684395594311\n",
      "sugg1 sugg5 0.612619000195765\n",
      "sugg1 autoSugg1 0.93763454945341\n",
      "sugg1 autoSugg3 0.7364569320377039\n",
      "sugg1 autoSugg5 0.5364462828730293\n",
      "sugg3 sugg5 0.6619744825227558\n",
      "sugg3 autoSugg1 0.2562453969533799\n",
      "sugg3 autoSugg3 0.5220385677927328\n",
      "sugg3 autoSugg5 0.722812452213621\n",
      "sugg5 autoSugg1 0.5381963713736637\n",
      "sugg5 autoSugg3 0.8572605189283342\n",
      "sugg5 autoSugg5 0.9260407421558856\n",
      "autoSugg1 autoSugg3 0.6610174680602472\n",
      "autoSugg1 autoSugg5 0.45891842939931404\n",
      "autoSugg3 autoSugg5 0.7783898884388286\n"
     ]
    }
   ],
   "source": [
    "settings = {\n",
    "    'H': scoresHuman,\n",
    "    'Bot': scoresBot,\n",
    "    'sugg1': sugg1,\n",
    "    'sugg3': sugg3,\n",
    "    'sugg5': sugg5,\n",
    "    'autoSugg1': autoSugg1,\n",
    "    'autoSugg3': autoSugg3,\n",
    "    'autoSugg5': autoSugg5\n",
    "}\n",
    "\n",
    "for list1, list2 in combinations(settings.keys(), 2):\n",
    "    t, p = ttest_ind(settings[list1], settings[list2], equal_var = False)\n",
    "    print (list1, list2, float_to_str(p))"
   ]
  },
  {
   "cell_type": "code",
   "execution_count": 20,
   "metadata": {},
   "outputs": [
    {
     "data": {
      "application/vnd.plotly.v1+json": {
       "config": {
        "plotlyServerURL": "https://plot.ly"
       },
       "data": [
        {
         "error_y": {
          "array": [
           0.030371656194550865
          ],
          "type": "data"
         },
         "insidetextanchor": "middle",
         "marker": {
          "color": "#B0C4DE",
          "line": {
           "color": "rgb(8,48,107)",
           "width": 1.5
          }
         },
         "name": "Human Only",
         "opacity": 0.8,
         "text": [
          "4.06"
         ],
         "textposition": "inside",
         "type": "bar",
         "x": [
          ""
         ],
         "y": [
          4.06
         ]
        },
        {
         "error_y": {
          "array": [
           0.009641887679394315
          ],
          "type": "data"
         },
         "insidetextanchor": "middle",
         "marker": {
          "color": "#A9A9A9",
          "line": {
           "color": "rgb(8,48,107)",
           "width": 1.5
          }
         },
         "name": "Chatbot Only",
         "opacity": 0.8,
         "text": [
          "4.07"
         ],
         "textposition": "inside",
         "type": "bar",
         "x": [
          ""
         ],
         "y": [
          4.07
         ]
        },
        {
         "error_y": {
          "array": [
           0.025226833712824706,
           0.023539214537017024,
           0.026302804429213372
          ],
          "type": "data"
         },
         "insidetextanchor": "middle",
         "marker": {
          "color": "lightsalmon",
          "line": {
           "color": "rgb(8,48,107)",
           "width": 1.5
          }
         },
         "name": "C1",
         "opacity": 0.8,
         "text": [
          "4.08",
          "4.05",
          "4.07"
         ],
         "textposition": "inside",
         "type": "bar",
         "x": [
          "1 Suggestion",
          "3 Suggestions",
          "5 Suggestions"
         ],
         "y": [
          4.08,
          4.05,
          4.07
         ]
        },
        {
         "error_y": {
          "array": [
           0.10259491647573787,
           0.10497277621629558,
           0.09844412444626241
          ],
          "type": "data"
         },
         "insidetextanchor": "middle",
         "marker": {
          "color": "#ffdacc",
          "line": {
           "color": "rgb(8,48,107)",
           "width": 1.5
          }
         },
         "name": "C1 - Chatbot Only",
         "opacity": 0.8,
         "text": [
          "3.94",
          "4.0",
          "3.99"
         ],
         "textposition": "inside",
         "type": "bar",
         "x": [
          "1 Suggestion",
          "3 Suggestions",
          "5 Suggestions"
         ],
         "y": [
          3.94,
          4,
          3.99
         ]
        },
        {
         "error_y": {
          "array": [
           0.021899589977551166,
           0.024932660943860055,
           0.02464840731859877
          ],
          "type": "data"
         },
         "insidetextanchor": "middle",
         "marker": {
          "color": "#AFEEEE",
          "line": {
           "color": "rgb(8,48,107)",
           "width": 1.5
          }
         },
         "name": "C2",
         "opacity": 0.8,
         "text": [
          "4.09",
          "4.07",
          "4.06"
         ],
         "textposition": "inside",
         "type": "bar",
         "x": [
          "1 Suggestion",
          "3 Suggestions",
          "5 Suggestions"
         ],
         "y": [
          4.09,
          4.07,
          4.06
         ]
        },
        {
         "error_y": {
          "array": [
           0.12350250639613031,
           0.09433468947343165,
           0.09951011694539204
          ],
          "type": "data"
         },
         "insidetextanchor": "middle",
         "marker": {
          "color": "#eafbfb",
          "line": {
           "color": "rgb(8,48,107)",
           "width": 1.5
          }
         },
         "name": "C2 - Chatbot Only",
         "opacity": 0.8,
         "text": [
          "3.73",
          "3.99",
          "4.11"
         ],
         "textposition": "inside",
         "type": "bar",
         "x": [
          "1 Suggestion",
          "3 Suggestions",
          "5 Suggestions"
         ],
         "y": [
          3.73,
          3.99,
          4.11
         ]
        }
       ],
       "layout": {
        "font": {
         "size": 13
        },
        "legend": {
         "orientation": "h"
        },
        "template": {
         "data": {
          "bar": [
           {
            "error_x": {
             "color": "#2a3f5f"
            },
            "error_y": {
             "color": "#2a3f5f"
            },
            "marker": {
             "line": {
              "color": "#E5ECF6",
              "width": 0.5
             }
            },
            "type": "bar"
           }
          ],
          "barpolar": [
           {
            "marker": {
             "line": {
              "color": "#E5ECF6",
              "width": 0.5
             }
            },
            "type": "barpolar"
           }
          ],
          "carpet": [
           {
            "aaxis": {
             "endlinecolor": "#2a3f5f",
             "gridcolor": "white",
             "linecolor": "white",
             "minorgridcolor": "white",
             "startlinecolor": "#2a3f5f"
            },
            "baxis": {
             "endlinecolor": "#2a3f5f",
             "gridcolor": "white",
             "linecolor": "white",
             "minorgridcolor": "white",
             "startlinecolor": "#2a3f5f"
            },
            "type": "carpet"
           }
          ],
          "choropleth": [
           {
            "colorbar": {
             "outlinewidth": 0,
             "ticks": ""
            },
            "type": "choropleth"
           }
          ],
          "contour": [
           {
            "colorbar": {
             "outlinewidth": 0,
             "ticks": ""
            },
            "colorscale": [
             [
              0,
              "#0d0887"
             ],
             [
              0.1111111111111111,
              "#46039f"
             ],
             [
              0.2222222222222222,
              "#7201a8"
             ],
             [
              0.3333333333333333,
              "#9c179e"
             ],
             [
              0.4444444444444444,
              "#bd3786"
             ],
             [
              0.5555555555555556,
              "#d8576b"
             ],
             [
              0.6666666666666666,
              "#ed7953"
             ],
             [
              0.7777777777777778,
              "#fb9f3a"
             ],
             [
              0.8888888888888888,
              "#fdca26"
             ],
             [
              1,
              "#f0f921"
             ]
            ],
            "type": "contour"
           }
          ],
          "contourcarpet": [
           {
            "colorbar": {
             "outlinewidth": 0,
             "ticks": ""
            },
            "type": "contourcarpet"
           }
          ],
          "heatmap": [
           {
            "colorbar": {
             "outlinewidth": 0,
             "ticks": ""
            },
            "colorscale": [
             [
              0,
              "#0d0887"
             ],
             [
              0.1111111111111111,
              "#46039f"
             ],
             [
              0.2222222222222222,
              "#7201a8"
             ],
             [
              0.3333333333333333,
              "#9c179e"
             ],
             [
              0.4444444444444444,
              "#bd3786"
             ],
             [
              0.5555555555555556,
              "#d8576b"
             ],
             [
              0.6666666666666666,
              "#ed7953"
             ],
             [
              0.7777777777777778,
              "#fb9f3a"
             ],
             [
              0.8888888888888888,
              "#fdca26"
             ],
             [
              1,
              "#f0f921"
             ]
            ],
            "type": "heatmap"
           }
          ],
          "heatmapgl": [
           {
            "colorbar": {
             "outlinewidth": 0,
             "ticks": ""
            },
            "colorscale": [
             [
              0,
              "#0d0887"
             ],
             [
              0.1111111111111111,
              "#46039f"
             ],
             [
              0.2222222222222222,
              "#7201a8"
             ],
             [
              0.3333333333333333,
              "#9c179e"
             ],
             [
              0.4444444444444444,
              "#bd3786"
             ],
             [
              0.5555555555555556,
              "#d8576b"
             ],
             [
              0.6666666666666666,
              "#ed7953"
             ],
             [
              0.7777777777777778,
              "#fb9f3a"
             ],
             [
              0.8888888888888888,
              "#fdca26"
             ],
             [
              1,
              "#f0f921"
             ]
            ],
            "type": "heatmapgl"
           }
          ],
          "histogram": [
           {
            "marker": {
             "colorbar": {
              "outlinewidth": 0,
              "ticks": ""
             }
            },
            "type": "histogram"
           }
          ],
          "histogram2d": [
           {
            "colorbar": {
             "outlinewidth": 0,
             "ticks": ""
            },
            "colorscale": [
             [
              0,
              "#0d0887"
             ],
             [
              0.1111111111111111,
              "#46039f"
             ],
             [
              0.2222222222222222,
              "#7201a8"
             ],
             [
              0.3333333333333333,
              "#9c179e"
             ],
             [
              0.4444444444444444,
              "#bd3786"
             ],
             [
              0.5555555555555556,
              "#d8576b"
             ],
             [
              0.6666666666666666,
              "#ed7953"
             ],
             [
              0.7777777777777778,
              "#fb9f3a"
             ],
             [
              0.8888888888888888,
              "#fdca26"
             ],
             [
              1,
              "#f0f921"
             ]
            ],
            "type": "histogram2d"
           }
          ],
          "histogram2dcontour": [
           {
            "colorbar": {
             "outlinewidth": 0,
             "ticks": ""
            },
            "colorscale": [
             [
              0,
              "#0d0887"
             ],
             [
              0.1111111111111111,
              "#46039f"
             ],
             [
              0.2222222222222222,
              "#7201a8"
             ],
             [
              0.3333333333333333,
              "#9c179e"
             ],
             [
              0.4444444444444444,
              "#bd3786"
             ],
             [
              0.5555555555555556,
              "#d8576b"
             ],
             [
              0.6666666666666666,
              "#ed7953"
             ],
             [
              0.7777777777777778,
              "#fb9f3a"
             ],
             [
              0.8888888888888888,
              "#fdca26"
             ],
             [
              1,
              "#f0f921"
             ]
            ],
            "type": "histogram2dcontour"
           }
          ],
          "mesh3d": [
           {
            "colorbar": {
             "outlinewidth": 0,
             "ticks": ""
            },
            "type": "mesh3d"
           }
          ],
          "parcoords": [
           {
            "line": {
             "colorbar": {
              "outlinewidth": 0,
              "ticks": ""
             }
            },
            "type": "parcoords"
           }
          ],
          "pie": [
           {
            "automargin": true,
            "type": "pie"
           }
          ],
          "scatter": [
           {
            "marker": {
             "colorbar": {
              "outlinewidth": 0,
              "ticks": ""
             }
            },
            "type": "scatter"
           }
          ],
          "scatter3d": [
           {
            "line": {
             "colorbar": {
              "outlinewidth": 0,
              "ticks": ""
             }
            },
            "marker": {
             "colorbar": {
              "outlinewidth": 0,
              "ticks": ""
             }
            },
            "type": "scatter3d"
           }
          ],
          "scattercarpet": [
           {
            "marker": {
             "colorbar": {
              "outlinewidth": 0,
              "ticks": ""
             }
            },
            "type": "scattercarpet"
           }
          ],
          "scattergeo": [
           {
            "marker": {
             "colorbar": {
              "outlinewidth": 0,
              "ticks": ""
             }
            },
            "type": "scattergeo"
           }
          ],
          "scattergl": [
           {
            "marker": {
             "colorbar": {
              "outlinewidth": 0,
              "ticks": ""
             }
            },
            "type": "scattergl"
           }
          ],
          "scattermapbox": [
           {
            "marker": {
             "colorbar": {
              "outlinewidth": 0,
              "ticks": ""
             }
            },
            "type": "scattermapbox"
           }
          ],
          "scatterpolar": [
           {
            "marker": {
             "colorbar": {
              "outlinewidth": 0,
              "ticks": ""
             }
            },
            "type": "scatterpolar"
           }
          ],
          "scatterpolargl": [
           {
            "marker": {
             "colorbar": {
              "outlinewidth": 0,
              "ticks": ""
             }
            },
            "type": "scatterpolargl"
           }
          ],
          "scatterternary": [
           {
            "marker": {
             "colorbar": {
              "outlinewidth": 0,
              "ticks": ""
             }
            },
            "type": "scatterternary"
           }
          ],
          "surface": [
           {
            "colorbar": {
             "outlinewidth": 0,
             "ticks": ""
            },
            "colorscale": [
             [
              0,
              "#0d0887"
             ],
             [
              0.1111111111111111,
              "#46039f"
             ],
             [
              0.2222222222222222,
              "#7201a8"
             ],
             [
              0.3333333333333333,
              "#9c179e"
             ],
             [
              0.4444444444444444,
              "#bd3786"
             ],
             [
              0.5555555555555556,
              "#d8576b"
             ],
             [
              0.6666666666666666,
              "#ed7953"
             ],
             [
              0.7777777777777778,
              "#fb9f3a"
             ],
             [
              0.8888888888888888,
              "#fdca26"
             ],
             [
              1,
              "#f0f921"
             ]
            ],
            "type": "surface"
           }
          ],
          "table": [
           {
            "cells": {
             "fill": {
              "color": "#EBF0F8"
             },
             "line": {
              "color": "white"
             }
            },
            "header": {
             "fill": {
              "color": "#C8D4E3"
             },
             "line": {
              "color": "white"
             }
            },
            "type": "table"
           }
          ]
         },
         "layout": {
          "annotationdefaults": {
           "arrowcolor": "#2a3f5f",
           "arrowhead": 0,
           "arrowwidth": 1
          },
          "coloraxis": {
           "colorbar": {
            "outlinewidth": 0,
            "ticks": ""
           }
          },
          "colorscale": {
           "diverging": [
            [
             0,
             "#8e0152"
            ],
            [
             0.1,
             "#c51b7d"
            ],
            [
             0.2,
             "#de77ae"
            ],
            [
             0.3,
             "#f1b6da"
            ],
            [
             0.4,
             "#fde0ef"
            ],
            [
             0.5,
             "#f7f7f7"
            ],
            [
             0.6,
             "#e6f5d0"
            ],
            [
             0.7,
             "#b8e186"
            ],
            [
             0.8,
             "#7fbc41"
            ],
            [
             0.9,
             "#4d9221"
            ],
            [
             1,
             "#276419"
            ]
           ],
           "sequential": [
            [
             0,
             "#0d0887"
            ],
            [
             0.1111111111111111,
             "#46039f"
            ],
            [
             0.2222222222222222,
             "#7201a8"
            ],
            [
             0.3333333333333333,
             "#9c179e"
            ],
            [
             0.4444444444444444,
             "#bd3786"
            ],
            [
             0.5555555555555556,
             "#d8576b"
            ],
            [
             0.6666666666666666,
             "#ed7953"
            ],
            [
             0.7777777777777778,
             "#fb9f3a"
            ],
            [
             0.8888888888888888,
             "#fdca26"
            ],
            [
             1,
             "#f0f921"
            ]
           ],
           "sequentialminus": [
            [
             0,
             "#0d0887"
            ],
            [
             0.1111111111111111,
             "#46039f"
            ],
            [
             0.2222222222222222,
             "#7201a8"
            ],
            [
             0.3333333333333333,
             "#9c179e"
            ],
            [
             0.4444444444444444,
             "#bd3786"
            ],
            [
             0.5555555555555556,
             "#d8576b"
            ],
            [
             0.6666666666666666,
             "#ed7953"
            ],
            [
             0.7777777777777778,
             "#fb9f3a"
            ],
            [
             0.8888888888888888,
             "#fdca26"
            ],
            [
             1,
             "#f0f921"
            ]
           ]
          },
          "colorway": [
           "#636efa",
           "#EF553B",
           "#00cc96",
           "#ab63fa",
           "#FFA15A",
           "#19d3f3",
           "#FF6692",
           "#B6E880",
           "#FF97FF",
           "#FECB52"
          ],
          "font": {
           "color": "#2a3f5f"
          },
          "geo": {
           "bgcolor": "white",
           "lakecolor": "white",
           "landcolor": "#E5ECF6",
           "showlakes": true,
           "showland": true,
           "subunitcolor": "white"
          },
          "hoverlabel": {
           "align": "left"
          },
          "hovermode": "closest",
          "mapbox": {
           "style": "light"
          },
          "paper_bgcolor": "white",
          "plot_bgcolor": "#E5ECF6",
          "polar": {
           "angularaxis": {
            "gridcolor": "white",
            "linecolor": "white",
            "ticks": ""
           },
           "bgcolor": "#E5ECF6",
           "radialaxis": {
            "gridcolor": "white",
            "linecolor": "white",
            "ticks": ""
           }
          },
          "scene": {
           "xaxis": {
            "backgroundcolor": "#E5ECF6",
            "gridcolor": "white",
            "gridwidth": 2,
            "linecolor": "white",
            "showbackground": true,
            "ticks": "",
            "zerolinecolor": "white"
           },
           "yaxis": {
            "backgroundcolor": "#E5ECF6",
            "gridcolor": "white",
            "gridwidth": 2,
            "linecolor": "white",
            "showbackground": true,
            "ticks": "",
            "zerolinecolor": "white"
           },
           "zaxis": {
            "backgroundcolor": "#E5ECF6",
            "gridcolor": "white",
            "gridwidth": 2,
            "linecolor": "white",
            "showbackground": true,
            "ticks": "",
            "zerolinecolor": "white"
           }
          },
          "shapedefaults": {
           "line": {
            "color": "#2a3f5f"
           }
          },
          "ternary": {
           "aaxis": {
            "gridcolor": "white",
            "linecolor": "white",
            "ticks": ""
           },
           "baxis": {
            "gridcolor": "white",
            "linecolor": "white",
            "ticks": ""
           },
           "bgcolor": "#E5ECF6",
           "caxis": {
            "gridcolor": "white",
            "linecolor": "white",
            "ticks": ""
           }
          },
          "title": {
           "x": 0.05
          },
          "xaxis": {
           "automargin": true,
           "gridcolor": "white",
           "linecolor": "white",
           "ticks": "",
           "title": {
            "standoff": 15
           },
           "zerolinecolor": "white",
           "zerolinewidth": 2
          },
          "yaxis": {
           "automargin": true,
           "gridcolor": "white",
           "linecolor": "white",
           "ticks": "",
           "title": {
            "standoff": 15
           },
           "zerolinecolor": "white",
           "zerolinewidth": 2
          }
         }
        },
        "yaxis": {
         "range": [
          3.5,
          4.4
         ]
        }
       }
      },
      "text/html": [
       "<div>\n",
       "        \n",
       "        \n",
       "            <div id=\"4ad30b1b-4bc1-4c32-b0ad-52ca4ba9b7f9\" class=\"plotly-graph-div\" style=\"height:525px; width:100%;\"></div>\n",
       "            <script type=\"text/javascript\">\n",
       "                require([\"plotly\"], function(Plotly) {\n",
       "                    window.PLOTLYENV=window.PLOTLYENV || {};\n",
       "                    \n",
       "                if (document.getElementById(\"4ad30b1b-4bc1-4c32-b0ad-52ca4ba9b7f9\")) {\n",
       "                    Plotly.newPlot(\n",
       "                        '4ad30b1b-4bc1-4c32-b0ad-52ca4ba9b7f9',\n",
       "                        [{\"error_y\": {\"array\": [0.030371656194550865], \"type\": \"data\"}, \"insidetextanchor\": \"middle\", \"marker\": {\"color\": \"#B0C4DE\", \"line\": {\"color\": \"rgb(8,48,107)\", \"width\": 1.5}}, \"name\": \"Human Only\", \"opacity\": 0.8, \"text\": [\"4.06\"], \"textposition\": \"inside\", \"type\": \"bar\", \"x\": [\"\"], \"y\": [4.06]}, {\"error_y\": {\"array\": [0.009641887679394315], \"type\": \"data\"}, \"insidetextanchor\": \"middle\", \"marker\": {\"color\": \"#A9A9A9\", \"line\": {\"color\": \"rgb(8,48,107)\", \"width\": 1.5}}, \"name\": \"Chatbot Only\", \"opacity\": 0.8, \"text\": [\"4.07\"], \"textposition\": \"inside\", \"type\": \"bar\", \"x\": [\"\"], \"y\": [4.07]}, {\"error_y\": {\"array\": [0.025226833712824706, 0.023539214537017024, 0.026302804429213372], \"type\": \"data\"}, \"insidetextanchor\": \"middle\", \"marker\": {\"color\": \"lightsalmon\", \"line\": {\"color\": \"rgb(8,48,107)\", \"width\": 1.5}}, \"name\": \"C1\", \"opacity\": 0.8, \"text\": [\"4.08\", \"4.05\", \"4.07\"], \"textposition\": \"inside\", \"type\": \"bar\", \"x\": [\"1 Suggestion\", \"3 Suggestions\", \"5 Suggestions\"], \"y\": [4.08, 4.05, 4.07]}, {\"error_y\": {\"array\": [0.10259491647573787, 0.10497277621629558, 0.09844412444626241], \"type\": \"data\"}, \"insidetextanchor\": \"middle\", \"marker\": {\"color\": \"#ffdacc\", \"line\": {\"color\": \"rgb(8,48,107)\", \"width\": 1.5}}, \"name\": \"C1 - Chatbot Only\", \"opacity\": 0.8, \"text\": [\"3.94\", \"4.0\", \"3.99\"], \"textposition\": \"inside\", \"type\": \"bar\", \"x\": [\"1 Suggestion\", \"3 Suggestions\", \"5 Suggestions\"], \"y\": [3.94, 4.0, 3.99]}, {\"error_y\": {\"array\": [0.021899589977551166, 0.024932660943860055, 0.02464840731859877], \"type\": \"data\"}, \"insidetextanchor\": \"middle\", \"marker\": {\"color\": \"#AFEEEE\", \"line\": {\"color\": \"rgb(8,48,107)\", \"width\": 1.5}}, \"name\": \"C2\", \"opacity\": 0.8, \"text\": [\"4.09\", \"4.07\", \"4.06\"], \"textposition\": \"inside\", \"type\": \"bar\", \"x\": [\"1 Suggestion\", \"3 Suggestions\", \"5 Suggestions\"], \"y\": [4.09, 4.07, 4.06]}, {\"error_y\": {\"array\": [0.12350250639613031, 0.09433468947343165, 0.09951011694539204], \"type\": \"data\"}, \"insidetextanchor\": \"middle\", \"marker\": {\"color\": \"#eafbfb\", \"line\": {\"color\": \"rgb(8,48,107)\", \"width\": 1.5}}, \"name\": \"C2 - Chatbot Only\", \"opacity\": 0.8, \"text\": [\"3.73\", \"3.99\", \"4.11\"], \"textposition\": \"inside\", \"type\": \"bar\", \"x\": [\"1 Suggestion\", \"3 Suggestions\", \"5 Suggestions\"], \"y\": [3.73, 3.99, 4.11]}],\n",
       "                        {\"font\": {\"size\": 13}, \"legend\": {\"orientation\": \"h\"}, \"template\": {\"data\": {\"bar\": [{\"error_x\": {\"color\": \"#2a3f5f\"}, \"error_y\": {\"color\": \"#2a3f5f\"}, \"marker\": {\"line\": {\"color\": \"#E5ECF6\", \"width\": 0.5}}, \"type\": \"bar\"}], \"barpolar\": [{\"marker\": {\"line\": {\"color\": \"#E5ECF6\", \"width\": 0.5}}, \"type\": \"barpolar\"}], \"carpet\": [{\"aaxis\": {\"endlinecolor\": \"#2a3f5f\", \"gridcolor\": \"white\", \"linecolor\": \"white\", \"minorgridcolor\": \"white\", \"startlinecolor\": \"#2a3f5f\"}, \"baxis\": {\"endlinecolor\": \"#2a3f5f\", \"gridcolor\": \"white\", \"linecolor\": \"white\", \"minorgridcolor\": \"white\", \"startlinecolor\": \"#2a3f5f\"}, \"type\": \"carpet\"}], \"choropleth\": [{\"colorbar\": {\"outlinewidth\": 0, \"ticks\": \"\"}, \"type\": \"choropleth\"}], \"contour\": [{\"colorbar\": {\"outlinewidth\": 0, \"ticks\": \"\"}, \"colorscale\": [[0.0, \"#0d0887\"], [0.1111111111111111, \"#46039f\"], [0.2222222222222222, \"#7201a8\"], [0.3333333333333333, \"#9c179e\"], [0.4444444444444444, \"#bd3786\"], [0.5555555555555556, \"#d8576b\"], [0.6666666666666666, \"#ed7953\"], [0.7777777777777778, \"#fb9f3a\"], [0.8888888888888888, \"#fdca26\"], [1.0, \"#f0f921\"]], \"type\": \"contour\"}], \"contourcarpet\": [{\"colorbar\": {\"outlinewidth\": 0, \"ticks\": \"\"}, \"type\": \"contourcarpet\"}], \"heatmap\": [{\"colorbar\": {\"outlinewidth\": 0, \"ticks\": \"\"}, \"colorscale\": [[0.0, \"#0d0887\"], [0.1111111111111111, \"#46039f\"], [0.2222222222222222, \"#7201a8\"], [0.3333333333333333, \"#9c179e\"], [0.4444444444444444, \"#bd3786\"], [0.5555555555555556, \"#d8576b\"], [0.6666666666666666, \"#ed7953\"], [0.7777777777777778, \"#fb9f3a\"], [0.8888888888888888, \"#fdca26\"], [1.0, \"#f0f921\"]], \"type\": \"heatmap\"}], \"heatmapgl\": [{\"colorbar\": {\"outlinewidth\": 0, \"ticks\": \"\"}, \"colorscale\": [[0.0, \"#0d0887\"], [0.1111111111111111, \"#46039f\"], [0.2222222222222222, \"#7201a8\"], [0.3333333333333333, \"#9c179e\"], [0.4444444444444444, \"#bd3786\"], [0.5555555555555556, \"#d8576b\"], [0.6666666666666666, \"#ed7953\"], [0.7777777777777778, \"#fb9f3a\"], [0.8888888888888888, \"#fdca26\"], [1.0, \"#f0f921\"]], \"type\": \"heatmapgl\"}], \"histogram\": [{\"marker\": {\"colorbar\": {\"outlinewidth\": 0, \"ticks\": \"\"}}, \"type\": \"histogram\"}], \"histogram2d\": [{\"colorbar\": {\"outlinewidth\": 0, \"ticks\": \"\"}, \"colorscale\": [[0.0, \"#0d0887\"], [0.1111111111111111, \"#46039f\"], [0.2222222222222222, \"#7201a8\"], [0.3333333333333333, \"#9c179e\"], [0.4444444444444444, \"#bd3786\"], [0.5555555555555556, \"#d8576b\"], [0.6666666666666666, \"#ed7953\"], [0.7777777777777778, \"#fb9f3a\"], [0.8888888888888888, \"#fdca26\"], [1.0, \"#f0f921\"]], \"type\": \"histogram2d\"}], \"histogram2dcontour\": [{\"colorbar\": {\"outlinewidth\": 0, \"ticks\": \"\"}, \"colorscale\": [[0.0, \"#0d0887\"], [0.1111111111111111, \"#46039f\"], [0.2222222222222222, \"#7201a8\"], [0.3333333333333333, \"#9c179e\"], [0.4444444444444444, \"#bd3786\"], [0.5555555555555556, \"#d8576b\"], [0.6666666666666666, \"#ed7953\"], [0.7777777777777778, \"#fb9f3a\"], [0.8888888888888888, \"#fdca26\"], [1.0, \"#f0f921\"]], \"type\": \"histogram2dcontour\"}], \"mesh3d\": [{\"colorbar\": {\"outlinewidth\": 0, \"ticks\": \"\"}, \"type\": \"mesh3d\"}], \"parcoords\": [{\"line\": {\"colorbar\": {\"outlinewidth\": 0, \"ticks\": \"\"}}, \"type\": \"parcoords\"}], \"pie\": [{\"automargin\": true, \"type\": \"pie\"}], \"scatter\": [{\"marker\": {\"colorbar\": {\"outlinewidth\": 0, \"ticks\": \"\"}}, \"type\": \"scatter\"}], \"scatter3d\": [{\"line\": {\"colorbar\": {\"outlinewidth\": 0, \"ticks\": \"\"}}, \"marker\": {\"colorbar\": {\"outlinewidth\": 0, \"ticks\": \"\"}}, \"type\": \"scatter3d\"}], \"scattercarpet\": [{\"marker\": {\"colorbar\": {\"outlinewidth\": 0, \"ticks\": \"\"}}, \"type\": \"scattercarpet\"}], \"scattergeo\": [{\"marker\": {\"colorbar\": {\"outlinewidth\": 0, \"ticks\": \"\"}}, \"type\": \"scattergeo\"}], \"scattergl\": [{\"marker\": {\"colorbar\": {\"outlinewidth\": 0, \"ticks\": \"\"}}, \"type\": \"scattergl\"}], \"scattermapbox\": [{\"marker\": {\"colorbar\": {\"outlinewidth\": 0, \"ticks\": \"\"}}, \"type\": \"scattermapbox\"}], \"scatterpolar\": [{\"marker\": {\"colorbar\": {\"outlinewidth\": 0, \"ticks\": \"\"}}, \"type\": \"scatterpolar\"}], \"scatterpolargl\": [{\"marker\": {\"colorbar\": {\"outlinewidth\": 0, \"ticks\": \"\"}}, \"type\": \"scatterpolargl\"}], \"scatterternary\": [{\"marker\": {\"colorbar\": {\"outlinewidth\": 0, \"ticks\": \"\"}}, \"type\": \"scatterternary\"}], \"surface\": [{\"colorbar\": {\"outlinewidth\": 0, \"ticks\": \"\"}, \"colorscale\": [[0.0, \"#0d0887\"], [0.1111111111111111, \"#46039f\"], [0.2222222222222222, \"#7201a8\"], [0.3333333333333333, \"#9c179e\"], [0.4444444444444444, \"#bd3786\"], [0.5555555555555556, \"#d8576b\"], [0.6666666666666666, \"#ed7953\"], [0.7777777777777778, \"#fb9f3a\"], [0.8888888888888888, \"#fdca26\"], [1.0, \"#f0f921\"]], \"type\": \"surface\"}], \"table\": [{\"cells\": {\"fill\": {\"color\": \"#EBF0F8\"}, \"line\": {\"color\": \"white\"}}, \"header\": {\"fill\": {\"color\": \"#C8D4E3\"}, \"line\": {\"color\": \"white\"}}, \"type\": \"table\"}]}, \"layout\": {\"annotationdefaults\": {\"arrowcolor\": \"#2a3f5f\", \"arrowhead\": 0, \"arrowwidth\": 1}, \"coloraxis\": {\"colorbar\": {\"outlinewidth\": 0, \"ticks\": \"\"}}, \"colorscale\": {\"diverging\": [[0, \"#8e0152\"], [0.1, \"#c51b7d\"], [0.2, \"#de77ae\"], [0.3, \"#f1b6da\"], [0.4, \"#fde0ef\"], [0.5, \"#f7f7f7\"], [0.6, \"#e6f5d0\"], [0.7, \"#b8e186\"], [0.8, \"#7fbc41\"], [0.9, \"#4d9221\"], [1, \"#276419\"]], \"sequential\": [[0.0, \"#0d0887\"], [0.1111111111111111, \"#46039f\"], [0.2222222222222222, \"#7201a8\"], [0.3333333333333333, \"#9c179e\"], [0.4444444444444444, \"#bd3786\"], [0.5555555555555556, \"#d8576b\"], [0.6666666666666666, \"#ed7953\"], [0.7777777777777778, \"#fb9f3a\"], [0.8888888888888888, \"#fdca26\"], [1.0, \"#f0f921\"]], \"sequentialminus\": [[0.0, \"#0d0887\"], [0.1111111111111111, \"#46039f\"], [0.2222222222222222, \"#7201a8\"], [0.3333333333333333, \"#9c179e\"], [0.4444444444444444, \"#bd3786\"], [0.5555555555555556, \"#d8576b\"], [0.6666666666666666, \"#ed7953\"], [0.7777777777777778, \"#fb9f3a\"], [0.8888888888888888, \"#fdca26\"], [1.0, \"#f0f921\"]]}, \"colorway\": [\"#636efa\", \"#EF553B\", \"#00cc96\", \"#ab63fa\", \"#FFA15A\", \"#19d3f3\", \"#FF6692\", \"#B6E880\", \"#FF97FF\", \"#FECB52\"], \"font\": {\"color\": \"#2a3f5f\"}, \"geo\": {\"bgcolor\": \"white\", \"lakecolor\": \"white\", \"landcolor\": \"#E5ECF6\", \"showlakes\": true, \"showland\": true, \"subunitcolor\": \"white\"}, \"hoverlabel\": {\"align\": \"left\"}, \"hovermode\": \"closest\", \"mapbox\": {\"style\": \"light\"}, \"paper_bgcolor\": \"white\", \"plot_bgcolor\": \"#E5ECF6\", \"polar\": {\"angularaxis\": {\"gridcolor\": \"white\", \"linecolor\": \"white\", \"ticks\": \"\"}, \"bgcolor\": \"#E5ECF6\", \"radialaxis\": {\"gridcolor\": \"white\", \"linecolor\": \"white\", \"ticks\": \"\"}}, \"scene\": {\"xaxis\": {\"backgroundcolor\": \"#E5ECF6\", \"gridcolor\": \"white\", \"gridwidth\": 2, \"linecolor\": \"white\", \"showbackground\": true, \"ticks\": \"\", \"zerolinecolor\": \"white\"}, \"yaxis\": {\"backgroundcolor\": \"#E5ECF6\", \"gridcolor\": \"white\", \"gridwidth\": 2, \"linecolor\": \"white\", \"showbackground\": true, \"ticks\": \"\", \"zerolinecolor\": \"white\"}, \"zaxis\": {\"backgroundcolor\": \"#E5ECF6\", \"gridcolor\": \"white\", \"gridwidth\": 2, \"linecolor\": \"white\", \"showbackground\": true, \"ticks\": \"\", \"zerolinecolor\": \"white\"}}, \"shapedefaults\": {\"line\": {\"color\": \"#2a3f5f\"}}, \"ternary\": {\"aaxis\": {\"gridcolor\": \"white\", \"linecolor\": \"white\", \"ticks\": \"\"}, \"baxis\": {\"gridcolor\": \"white\", \"linecolor\": \"white\", \"ticks\": \"\"}, \"bgcolor\": \"#E5ECF6\", \"caxis\": {\"gridcolor\": \"white\", \"linecolor\": \"white\", \"ticks\": \"\"}}, \"title\": {\"x\": 0.05}, \"xaxis\": {\"automargin\": true, \"gridcolor\": \"white\", \"linecolor\": \"white\", \"ticks\": \"\", \"title\": {\"standoff\": 15}, \"zerolinecolor\": \"white\", \"zerolinewidth\": 2}, \"yaxis\": {\"automargin\": true, \"gridcolor\": \"white\", \"linecolor\": \"white\", \"ticks\": \"\", \"title\": {\"standoff\": 15}, \"zerolinecolor\": \"white\", \"zerolinewidth\": 2}}}, \"yaxis\": {\"range\": [3.5, 4.4]}},\n",
       "                        {\"responsive\": true}\n",
       "                    ).then(function(){\n",
       "                            \n",
       "var gd = document.getElementById('4ad30b1b-4bc1-4c32-b0ad-52ca4ba9b7f9');\n",
       "var x = new MutationObserver(function (mutations, observer) {{\n",
       "        var display = window.getComputedStyle(gd).display;\n",
       "        if (!display || display === 'none') {{\n",
       "            console.log([gd, 'removed!']);\n",
       "            Plotly.purge(gd);\n",
       "            observer.disconnect();\n",
       "        }}\n",
       "}});\n",
       "\n",
       "// Listen for the removal of the full notebook cells\n",
       "var notebookContainer = gd.closest('#notebook-container');\n",
       "if (notebookContainer) {{\n",
       "    x.observe(notebookContainer, {childList: true});\n",
       "}}\n",
       "\n",
       "// Listen for the clearing of the current output cell\n",
       "var outputEl = gd.closest('.output');\n",
       "if (outputEl) {{\n",
       "    x.observe(outputEl, {childList: true});\n",
       "}}\n",
       "\n",
       "                        })\n",
       "                };\n",
       "                });\n",
       "            </script>\n",
       "        </div>"
      ]
     },
     "metadata": {},
     "output_type": "display_data"
    }
   ],
   "source": [
    "colors = ['#FAEBD7', '#FFA07A', '#B0C4DE', '#AFEEEE', '#8FBC8F']\n",
    "x = ['1 Suggestion', '3 Suggestions', '5 Suggestions']\n",
    "fig = go.Figure()\n",
    "\n",
    "xHuman = ['']\n",
    "yHuman = [scoresHuman]\n",
    "yHumanErorr = [np.std(z)/math.sqrt(len(z)) for z in yHuman] \n",
    "yHuman = [round(statistics.mean(z), 2) for z in yHuman]\n",
    "\n",
    "fig.add_trace(go.Bar(\n",
    "    name='Human Only',\n",
    "    x=xHuman, y=yHuman, text=yHuman, textposition='inside',insidetextanchor='middle',\n",
    "    marker_color='#B0C4DE',\n",
    "    marker_line_color='rgb(8,48,107)', marker_line_width=1.5, opacity=0.8,\n",
    "    error_y=dict(type='data', array=yHumanErorr)\n",
    "))\n",
    "\n",
    "xBot = ['']\n",
    "yBot = [scoresBot]\n",
    "yBotErorr = [np.std(z)/math.sqrt(len(z)) for z in yBot] \n",
    "yBot = [round(statistics.mean(z), 2) for z in yBot]\n",
    "\n",
    "fig.add_trace(go.Bar(\n",
    "    name='Chatbot Only',\n",
    "    x=xBot, y=yBot, text=yBot, textposition='inside',insidetextanchor='middle',\n",
    "    marker_color='#A9A9A9',\n",
    "    marker_line_color='rgb(8,48,107)', marker_line_width=1.5, opacity=0.8,\n",
    "    error_y=dict(type='data', array=yBotErorr)\n",
    "))\n",
    "\n",
    "\n",
    "ySuggOnly = [sugg1, sugg3, sugg5]\n",
    "ySuggOnlyErorr = [np.std(z)/math.sqrt(len(z)) for z in ySuggOnly] \n",
    "ySuggOnly = [round(statistics.mean(z), 2) for z in ySuggOnly]\n",
    "\n",
    "fig.add_trace(go.Bar(\n",
    "    name='C1',\n",
    "    x=x, y=ySuggOnly, text=ySuggOnly, textposition='inside',insidetextanchor='middle',\n",
    "    marker_color='lightsalmon',\n",
    "    marker_line_color='rgb(8,48,107)', marker_line_width=1.5, opacity=0.8,\n",
    "    error_y=dict(type='data', array=ySuggOnlyErorr)\n",
    "))\n",
    "\n",
    "ySuggOnlyBot = [sugg1Bot, sugg3Bot, sugg5Bot]\n",
    "ySuggOnlyBotErorr = [np.std(z)/math.sqrt(len(z)) for z in ySuggOnlyBot] \n",
    "ySuggOnlyBot = [round(statistics.mean(z), 2) for z in ySuggOnlyBot]\n",
    "\n",
    "fig.add_trace(go.Bar(\n",
    "    name='C1 - Chatbot Only',\n",
    "    x=x, y=ySuggOnlyBot, text=ySuggOnlyBot, textposition='inside',insidetextanchor='middle',\n",
    "    marker_color='#ffdacc',\n",
    "    marker_line_color='rgb(8,48,107)', marker_line_width=1.5, opacity=0.8,\n",
    "    error_y=dict(type='data', array=ySuggOnlyBotErorr)\n",
    "))\n",
    "\n",
    "\n",
    "yAutoSugg = [autoSugg1, autoSugg3, autoSugg5]\n",
    "yAutoSuggErorr = [np.std(z)/math.sqrt(len(z)) for z in yAutoSugg] \n",
    "yAutoSugg = [round(statistics.mean(z), 2) for z in yAutoSugg]\n",
    "\n",
    "fig.add_trace(go.Bar(\n",
    "    name='C2',\n",
    "    x=x, y=yAutoSugg, text=yAutoSugg, textposition='inside',insidetextanchor='middle',\n",
    "    marker_color='#AFEEEE',\n",
    "    marker_line_color='rgb(8,48,107)', marker_line_width=1.5, opacity=0.8,\n",
    "    error_y=dict(type='data', array=yAutoSuggErorr)\n",
    "))\n",
    "\n",
    "\n",
    "yAutoSuggBot = [autoSugg1Bot, autoSugg3Bot, autoSugg5Bot]\n",
    "yAutoSuggBotErorr = [np.std(z)/math.sqrt(len(z)) for z in yAutoSuggBot] \n",
    "yAutoSuggBot = [round(statistics.mean(z), 2) for z in yAutoSuggBot]\n",
    "\n",
    "fig.add_trace(go.Bar(\n",
    "    name='C2 - Chatbot Only',\n",
    "    x=x, y=yAutoSuggBot, text=yAutoSuggBot, textposition='inside',insidetextanchor='middle',\n",
    "    marker_color='#eafbfb',\n",
    "    marker_line_color='rgb(8,48,107)', marker_line_width=1.5, opacity=0.8,\n",
    "    error_y=dict(type='data', array=yAutoSuggBotErorr)\n",
    "))\n",
    "\n",
    "\n",
    "fig.update_layout(\n",
    "    font=dict(\n",
    "        size=13\n",
    "    )\n",
    ")\n",
    "fig.update_yaxes(range=[3.5, 4.4])\n",
    "\n",
    "fig.update_layout(legend_orientation=\"h\")\n",
    "fig.show()"
   ]
  },
  {
   "cell_type": "code",
   "execution_count": null,
   "metadata": {},
   "outputs": [],
   "source": []
  },
  {
   "cell_type": "code",
   "execution_count": null,
   "metadata": {},
   "outputs": [],
   "source": []
  }
 ],
 "metadata": {
  "kernelspec": {
   "display_name": "Python 3",
   "language": "python",
   "name": "python3"
  },
  "language_info": {
   "codemirror_mode": {
    "name": "ipython",
    "version": 3
   },
   "file_extension": ".py",
   "mimetype": "text/x-python",
   "name": "python",
   "nbconvert_exporter": "python",
   "pygments_lexer": "ipython3",
   "version": "3.7.6"
  }
 },
 "nbformat": 4,
 "nbformat_minor": 4
}
