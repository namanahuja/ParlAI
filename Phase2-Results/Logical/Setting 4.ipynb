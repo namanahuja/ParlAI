{
 "cells": [
  {
   "cell_type": "code",
   "execution_count": 17,
   "metadata": {},
   "outputs": [],
   "source": [
    "import os\n",
    "from pathlib import Path\n",
    "import sys\n",
    "import os\n",
    "import _pickle as pickle\n",
    "import json\n",
    "import copy \n",
    "import pandas\n",
    "import numpy as np\n",
    "import matplotlib.pyplot as plt \n",
    "from matplotlib.backends.backend_pdf import PdfPages\n",
    "import csv\n",
    "import json\n",
    "from collections import Counter\n",
    "import statistics \n",
    "import plotly.graph_objects as go\n",
    "import math"
   ]
  },
  {
   "cell_type": "code",
   "execution_count": 18,
   "metadata": {},
   "outputs": [],
   "source": [
    "from itertools import combinations\n",
    "from scipy.stats import ttest_ind\n",
    "import decimal\n",
    "\n",
    "# create a new context for this task\n",
    "ctx = decimal.Context()\n",
    "\n",
    "# 20 digits should be enough for everyone :D\n",
    "ctx.prec = 20\n",
    "\n",
    "def float_to_str(f):\n",
    "    \"\"\"\n",
    "    Convert the given float to a string,\n",
    "    without resorting to scientific notation\n",
    "    \"\"\"\n",
    "    d1 = ctx.create_decimal(repr(f))\n",
    "    return format(d1, 'f')"
   ]
  },
  {
   "cell_type": "code",
   "execution_count": 19,
   "metadata": {},
   "outputs": [],
   "source": [
    "with open('../../responseJudgement.json') as json_file:\n",
    "    judgements = json.load(json_file)\n",
    "    \n",
    "with open('../../responseJudgement_sugg.json') as json_file:\n",
    "    suggJudgements = json.load(json_file)"
   ]
  },
  {
   "cell_type": "code",
   "execution_count": 20,
   "metadata": {},
   "outputs": [
    {
     "data": {
      "text/plain": [
       "15417"
      ]
     },
     "execution_count": 20,
     "metadata": {},
     "output_type": "execute_result"
    }
   ],
   "source": [
    "len(judgements)"
   ]
  },
  {
   "cell_type": "code",
   "execution_count": 21,
   "metadata": {},
   "outputs": [
    {
     "data": {
      "text/plain": [
       "1014"
      ]
     },
     "execution_count": 21,
     "metadata": {},
     "output_type": "execute_result"
    }
   ],
   "source": [
    "len(suggJudgements)"
   ]
  },
  {
   "cell_type": "code",
   "execution_count": 22,
   "metadata": {},
   "outputs": [],
   "source": [
    "cleanPath = '../../clean/'\n",
    "settingName = 'Setting 4'"
   ]
  },
  {
   "cell_type": "code",
   "execution_count": 23,
   "metadata": {},
   "outputs": [],
   "source": [
    "responseSet = {}\n",
    "\n",
    "for root, dirs, files in os.walk(cleanPath):\n",
    "    for file in files:\n",
    "        if file.endswith(\".json\"):\n",
    "            fileName = os.path.join(root, file)\n",
    "            with open(fileName) as json_file:\n",
    "                try:\n",
    "                    data = json.load(json_file)\n",
    "                    currFileName = data['currentFileName']\n",
    "                    dialogs = data['dialogs']\n",
    "                    \n",
    "                    for i in range(1, len(dialogs)):\n",
    "                        context = dialogs[i]['context']\n",
    "                        uniqueStr = 'fileIndex=' + str(context['fileIndex']) + '&&contextLen=' + str(context['contextLen']) + '&&userResponse=' + context['userResponse'].strip()\n",
    "                        \n",
    "                        if(uniqueStr in responseSet):\n",
    "                            continue\n",
    "                        \n",
    "                        else:\n",
    "                            \n",
    "                            foundMatches = [x for x in judgements if x['Input.contextLen'] == str(context['contextLen']) and x['Input.fileIndex'] == str(context['fileIndex'])]\n",
    "                            foundJudgement = [x for x in foundMatches if x['Input.fileName'] == currFileName and x['Input.localIndex'] == str(context['localIndex'])]\n",
    "                            \n",
    "                            if(len(foundJudgement) > 0):\n",
    "                                responseSet[uniqueStr] = foundJudgement\n",
    "                        \n",
    "                except Exception as e: print(e)"
   ]
  },
  {
   "cell_type": "code",
   "execution_count": 24,
   "metadata": {},
   "outputs": [
    {
     "data": {
      "text/plain": [
       "5139"
      ]
     },
     "execution_count": 24,
     "metadata": {},
     "output_type": "execute_result"
    }
   ],
   "source": [
    "len(responseSet)"
   ]
  },
  {
   "cell_type": "code",
   "execution_count": 25,
   "metadata": {},
   "outputs": [],
   "source": [
    "suggSet = {}\n",
    "\n",
    "for root, dirs, files in os.walk(cleanPath):\n",
    "    for file in files:\n",
    "        if file.endswith(\".json\"):\n",
    "            fileName = os.path.join(root, file)\n",
    "            with open(fileName) as json_file:\n",
    "                try:\n",
    "                    data = json.load(json_file)\n",
    "                    currFileName = data['currentFileName']\n",
    "                    dialogs = data['dialogs']\n",
    "                    \n",
    "                    for i in range(1, len(dialogs)):\n",
    "                        context = dialogs[i]['context']\n",
    "                        suggestions = context['suggestions']\n",
    "                        \n",
    "                        for sugg in suggestions:\n",
    "                            uniqueStr = 'fileIndex=' + str(context['fileIndex']) + '&&contextLen=' + str(context['contextLen']) + '&&userResponse=' + sugg.strip()\n",
    "\n",
    "                            if(uniqueStr in responseSet or uniqueStr in suggSet):\n",
    "                                continue\n",
    "\n",
    "                            else:\n",
    "\n",
    "                                foundMatches = [x for x in suggJudgements if x['Input.contextLen'] == str(context['contextLen']) and x['Input.fileIndex'] == str(context['fileIndex'])]\n",
    "                                foundJudgement = [x for x in foundMatches if x['Input.fileName'] == currFileName and x['Input.localIndex'] == str(context['localIndex'])]\n",
    "\n",
    "                                if(len(foundJudgement) > 0):\n",
    "                                    suggSet[uniqueStr] = foundJudgement\n",
    "                        \n",
    "                except Exception as e: print(e)"
   ]
  },
  {
   "cell_type": "code",
   "execution_count": 26,
   "metadata": {},
   "outputs": [
    {
     "data": {
      "text/plain": [
       "458"
      ]
     },
     "execution_count": 26,
     "metadata": {},
     "output_type": "execute_result"
    }
   ],
   "source": [
    "len(suggSet)"
   ]
  },
  {
   "cell_type": "code",
   "execution_count": 27,
   "metadata": {},
   "outputs": [],
   "source": [
    "Qualtype = 'Logical'\n",
    "metric = {\n",
    "    'Answer.' + Qualtype +'.Strongly Disagree': 1,\n",
    "    'Answer.' + Qualtype +'.Disagree': 2,\n",
    "    'Answer.' + Qualtype +'.Neutral': 3,\n",
    "    'Answer.' + Qualtype +'.Agree': 4,\n",
    "    'Answer.' + Qualtype +'.Strongly Agree': 5\n",
    "}"
   ]
  },
  {
   "cell_type": "code",
   "execution_count": 28,
   "metadata": {},
   "outputs": [],
   "source": [
    "scoresHuman = []\n",
    "\n",
    "for root, dirs, files in os.walk(cleanPath + 'Setting 1'):\n",
    "    for file in files:\n",
    "        if file.endswith(\".json\"):\n",
    "            fileName = os.path.join(root, file)\n",
    "            with open(fileName) as json_file:\n",
    "                try:\n",
    "                    data = json.load(json_file)\n",
    "                    dialogs = data['dialogs']\n",
    "                    \n",
    "                    for i in range(1, len(dialogs)):\n",
    "                        context = dialogs[i]['context']\n",
    "                        \n",
    "                        userResponse = context['userResponse']\n",
    "                        fileIndex = context['fileIndex']\n",
    "                        contextLen = context['contextLen']\n",
    "                        \n",
    "                        identifierStr = 'fileIndex=' + str(fileIndex) + '&&contextLen=' + str(contextLen) + '&&userResponse=' + userResponse.strip()\n",
    "                        \n",
    "                        responseJudgements =  responseSet[identifierStr]\n",
    "                        \n",
    "                        currFeedback = []\n",
    "                        for feedback in responseJudgements:\n",
    "                            for key in feedback:\n",
    "                                \n",
    "                                if('Answer.' + Qualtype in key and feedback[key] == 'true'):\n",
    "                                    currFeedback.append(metric[key])\n",
    "                        \n",
    "                        scoresHuman.append(statistics.mean(currFeedback))\n",
    "                            \n",
    "                        \n",
    "                    \n",
    "                except Exception as e: print(e)                 "
   ]
  },
  {
   "cell_type": "code",
   "execution_count": 29,
   "metadata": {},
   "outputs": [],
   "source": [
    "scoresBot = []\n",
    "\n",
    "for root, dirs, files in os.walk(cleanPath + settingName):\n",
    "    for file in files:\n",
    "        if file.endswith(\".json\"):\n",
    "            fileName = os.path.join(root, file)\n",
    "            with open(fileName) as json_file:\n",
    "                try:\n",
    "                    data = json.load(json_file)\n",
    "                    dialogs = data['dialogs']\n",
    "                    \n",
    "                    for i in range(1, len(dialogs)):\n",
    "                        context = dialogs[i]['context']\n",
    "                        \n",
    "                        userResponse = context['userResponse']\n",
    "                        fileIndex = context['fileIndex']\n",
    "                        contextLen = context['contextLen']\n",
    "                        suggestions = context['suggestions']\n",
    "                        \n",
    "                        identifierStr = 'fileIndex=' + str(fileIndex) + '&&contextLen=' + str(contextLen) + '&&userResponse=' + suggestions[0].strip()\n",
    "                        \n",
    "                        if(identifierStr in responseSet):\n",
    "                            responseJudgements =  responseSet[identifierStr]\n",
    "                        else:\n",
    "                            responseJudgements =  suggSet[identifierStr]\n",
    "                        \n",
    "                        currFeedback = []\n",
    "                        for feedback in responseJudgements:\n",
    "                            for key in feedback:\n",
    "                                \n",
    "                                if('Answer.' + Qualtype in key and feedback[key] == 'true'):\n",
    "                                    currFeedback.append(metric[key])\n",
    "                        \n",
    "                        scoresBot.append(statistics.mean(currFeedback))\n",
    "                            \n",
    "                        \n",
    "                    \n",
    "                except Exception as e: print(e)                 "
   ]
  },
  {
   "cell_type": "code",
   "execution_count": null,
   "metadata": {},
   "outputs": [],
   "source": []
  },
  {
   "cell_type": "code",
   "execution_count": 30,
   "metadata": {},
   "outputs": [],
   "source": [
    "sugg1 = []\n",
    "sugg3 = []\n",
    "sugg5 = []\n",
    "\n",
    "autoSugg1 = []\n",
    "autoSugg3 = []\n",
    "autoSugg5 = []\n",
    "\n",
    "\n",
    "for root, dirs, files in os.walk(cleanPath + settingName):\n",
    "    for file in files:\n",
    "        if file.endswith(\".json\"):\n",
    "            fileName = os.path.join(root, file)\n",
    "            with open(fileName) as json_file:\n",
    "                try:\n",
    "                    data = json.load(json_file)\n",
    "                    dialogs = data['dialogs']\n",
    "                    \n",
    "                    for i in range(1, len(dialogs)):\n",
    "                        context = dialogs[i]['context']\n",
    "                        \n",
    "                        userResponse = context['userResponse']\n",
    "                        fileIndex = context['fileIndex']\n",
    "                        contextLen = context['contextLen']\n",
    "                        \n",
    "                        identifierStr = 'fileIndex=' + str(fileIndex) + '&&contextLen=' + str(contextLen) + '&&userResponse=' + userResponse.strip()\n",
    "                        \n",
    "                        responseJudgements =  responseSet[identifierStr]\n",
    "                        \n",
    "                        currFeedback = []\n",
    "                        \n",
    "                        for feedback in responseJudgements:\n",
    "                            for key in feedback:\n",
    "                                \n",
    "                                if('Answer.' + Qualtype in key and feedback[key] == 'true'):\n",
    "                                    currFeedback.append(metric[key])\n",
    "                        \n",
    "                        \n",
    "                        if(data['autoFilledSuggestion'] == 0):\n",
    "                            \n",
    "                            if(data['suggestionsNumber'] == 1):\n",
    "                                sugg1.append(statistics.mean(currFeedback))\n",
    "\n",
    "                            elif(data['suggestionsNumber'] == 3):\n",
    "                                sugg3.append(statistics.mean(currFeedback))\n",
    "\n",
    "                            elif(data['suggestionsNumber'] == 5):\n",
    "                                sugg5.append(statistics.mean(currFeedback))\n",
    "                        \n",
    "                        else:\n",
    "\n",
    "                            if(data['suggestionsNumber'] == 1):\n",
    "                                autoSugg1.append(statistics.mean(currFeedback))\n",
    "\n",
    "                            elif(data['suggestionsNumber'] == 3):\n",
    "                                autoSugg3.append(statistics.mean(currFeedback))\n",
    "                            \n",
    "                            elif(data['suggestionsNumber'] == 5):\n",
    "                                autoSugg5.append(statistics.mean(currFeedback))\n",
    "                    \n",
    "                    \n",
    "                except Exception as e: print(e)"
   ]
  },
  {
   "cell_type": "code",
   "execution_count": 31,
   "metadata": {},
   "outputs": [
    {
     "name": "stdout",
     "output_type": "stream",
     "text": [
      "'fileIndex=5&&contextLen=3&&userResponse=Where were cakes first invented?'\n",
      "'fileIndex=1&&contextLen=3&&userResponse=Yes I do, do you know a lot about it?'\n",
      "'fileIndex=10&&contextLen=3&&userResponse=Yeah I bet it would be interesting, you are at the mercy of the waves. Any particular beaches you like?'\n",
      "'fileIndex=12&&contextLen=3&&userResponse=My work does free blood testing every year, and last year mine showed I was pre-diabetic. I have tried to eat fewer cars as a result.'\n",
      "\"fileIndex=15&&contextLen=3&&userResponse=Yes she definitely has made quite the stir. As I recall her name was mile Stewart on that show and it's to bad she was not the teen idol she could have been.\"\n",
      "'fileIndex=20&&contextLen=3&&userResponse=There is a competition called the Pan American Race Walking Cup that is held twice a year. Lol'\n",
      "\"fileIndex=26&&contextLen=3&&userResponse=Yeah! The first mention of the word in English however only dates back to the 30's\"\n",
      "\"fileIndex=11&&contextLen=3&&userResponse=Which one is better, Jane Eyre or her sister's?\"\n",
      "'fileIndex=10&&contextLen=3&&userResponse=Me too. I love that movie and the soundtrack in particular.'\n",
      "'fileIndex=8&&contextLen=3&&userResponse=If you see a 1953 white convertible, but it!! Only 300 were produced that year.'\n",
      "'fileIndex=13&&contextLen=3&&userResponse=I grew in a project public housing'\n",
      "'fileIndex=6&&contextLen=3&&userResponse=I like fruit picking its fun'\n",
      "'fileIndex=28&&contextLen=3&&userResponse=Yes I do. But I never seem to be able to think of all the words.'\n",
      "'fileIndex=13&&contextLen=3&&userResponse=I grew in a project public housing'\n",
      "'fileIndex=14&&contextLen=3&&userResponse=Yes, due to their precise construction and higher design'\n",
      "'fileIndex=3&&contextLen=3&&userResponse=Vikings were from Northern European homelands, Denmark and Sweden'\n",
      "\"fileIndex=9&&contextLen=3&&userResponse=Ok, I'll have to try to mix it up next time I make it\"\n",
      "'fileIndex=13&&contextLen=3&&userResponse=I grew in a project public housing'\n",
      "\"fileIndex=9&&contextLen=3&&userResponse=Ok, I'll have to try to mix it up next time I make it\"\n",
      "\"fileIndex=26&&contextLen=3&&userResponse=Yep, I love those movies. They're my favorites to watch on Halloween.\"\n",
      "'fileIndex=14&&contextLen=3&&userResponse=Yes, due to their precise construction and higher design'\n",
      "\"fileIndex=4&&contextLen=3&&userResponse=That's an oldie but guide. He-Man was a hunk.\"\n",
      "\"fileIndex=16&&contextLen=3&&userResponse=That's awesome. What are you studying there?\"\n",
      "\"fileIndex=4&&contextLen=3&&userResponse=That's an oldie but guide. He-Man was a hunk.\"\n",
      "\"fileIndex=29&&contextLen=3&&userResponse=I actually didn't know that! Such interesting facts surrounding the color purple!\"\n",
      "\"fileIndex=18&&contextLen=3&&userResponse=I think in this case, fair means light. They used to call it 'fæġer-feahs'.\"\n",
      "'fileIndex=5&&contextLen=3&&userResponse=I just love to get in and lay in the sun'\n",
      "'fileIndex=5&&contextLen=3&&userResponse=I just love to get in and lay in the sun'\n",
      "\"fileIndex=27&&contextLen=3&&userResponse=What ideas does the series promote, seeing as it's for children?\"\n",
      "'fileIndex=8&&contextLen=3&&userResponse=What are the best places to visit?'\n",
      "'fileIndex=14&&contextLen=3&&userResponse=Yes, due to their precise construction and higher design'\n",
      "'fileIndex=13&&contextLen=3&&userResponse=I grew in a project public housing'\n",
      "'fileIndex=14&&contextLen=3&&userResponse=Yes, due to their precise construction and higher design'\n",
      "'fileIndex=13&&contextLen=3&&userResponse=I grew in a project public housing'\n",
      "'fileIndex=6&&contextLen=3&&userResponse=I like fruit picking its fun'\n",
      "'fileIndex=24&&contextLen=3&&userResponse=It helps that the Association of Professional Pierces has developed safety standards.'\n",
      "'fileIndex=23&&contextLen=3&&userResponse=I have never heard of him. Is he old?'\n",
      "'fileIndex=20&&contextLen=3&&userResponse=There is a competition called the Pan American Race Walking Cup that is held twice a year. Lol'\n",
      "'fileIndex=1&&contextLen=3&&userResponse=Yes I do, do you know a lot about it?'\n",
      "'fileIndex=8&&contextLen=3&&userResponse=If you see a 1953 white convertible, but it!! Only 300 were produced that year.'\n",
      "'fileIndex=5&&contextLen=3&&userResponse=Where were cakes first invented?'\n",
      "'fileIndex=7&&contextLen=3&&userResponse=And shortly after that, season 3 of the TV show premiered on ABC'\n",
      "'fileIndex=1&&contextLen=3&&userResponse=Yes I do, do you know a lot about it?'\n",
      "\"fileIndex=26&&contextLen=3&&userResponse=Yep, I love those movies. They're my favorites to watch on Halloween.\"\n",
      "\"fileIndex=29&&contextLen=3&&userResponse=I actually didn't know that! Such interesting facts surrounding the color purple!\"\n",
      "'fileIndex=1&&contextLen=3&&userResponse=Yes I do, do you know a lot about it?'\n",
      "\"fileIndex=26&&contextLen=3&&userResponse=Yep, I love those movies. They're my favorites to watch on Halloween.\"\n",
      "\"fileIndex=22&&contextLen=3&&userResponse=No wonder it became so big! I've always considered moving to Texas and this might further convince me.\"\n",
      "\"fileIndex=21&&contextLen=3&&userResponse=I know I'm one of them. I rematch the whole series every year. Which of the primary story arcs do you find most compelling?\"\n",
      "'fileIndex=3&&contextLen=3&&userResponse=The English word is borrowed from Modern Greek πίτα. And a rough translation for that is bread cake! Pretty interesting huh?'\n",
      "'fileIndex=5&&contextLen=3&&userResponse=I just love to get in and lay in the sun'\n",
      "'fileIndex=2&&contextLen=3&&userResponse=I know all those channels I wonder if reruns come on still'\n",
      "'fileIndex=2&&contextLen=3&&userResponse=Since last checked it sits around 3. 4 million people on the island'\n",
      "'fileIndex=9&&contextLen=3&&userResponse=Sure, it is a major resort city known for its gambling, shopping, dining, and entertainment venues.'\n",
      "\"fileIndex=4&&contextLen=3&&userResponse=That's an oldie but guide. He-Man was a hunk.\"\n",
      "'fileIndex=24&&contextLen=3&&userResponse=It helps that the Association of Professional Pierces has developed safety standards.'\n",
      "'fileIndex=29&&contextLen=3&&userResponse=I have never seen that before.'\n",
      "\"fileIndex=11&&contextLen=3&&userResponse=If you don't make it to Quebec, every other place in Canada has chained called Swiss Chalet. It's pretty similar.\"\n",
      "\"fileIndex=16&&contextLen=3&&userResponse=That's awesome. What are you studying there?\"\n",
      "'fileIndex=3&&contextLen=3&&userResponse=Vikings were from Northern European homelands, Denmark and Sweden'\n",
      "\"fileIndex=11&&contextLen=3&&userResponse=Which one is better, Jane Eyre or her sister's?\"\n",
      "'fileIndex=7&&contextLen=3&&userResponse=And shortly after that, season 3 of the TV show premiered on ABC'\n",
      "\"fileIndex=23&&contextLen=3&&userResponse=The expression 'work-life balance' wasn't used until 1986 in America, but everyone is using it these days.\"\n",
      "\"fileIndex=26&&contextLen=3&&userResponse=Yeah! The first mention of the word in English however only dates back to the 30's\"\n",
      "\"fileIndex=18&&contextLen=3&&userResponse=I think in this case, fair means light. They used to call it 'fæġer-feahs'.\"\n",
      "\"fileIndex=11&&contextLen=3&&userResponse=Which one is better, Jane Eyre or her sister's?\"\n",
      "'fileIndex=2&&contextLen=3&&userResponse=I know all those channels I wonder if reruns come on still'\n",
      "\"fileIndex=13&&contextLen=3&&userResponse=Depends on my mood and how I feel. One time I went on this long Appalachian national scenic trail and it was awesome! I've seen some wild animals\"\n",
      "'fileIndex=2&&contextLen=3&&userResponse=I know all those channels I wonder if reruns come on still'\n",
      "'fileIndex=21&&contextLen=3&&userResponse=Well, an only child is a person with no siblings, either biological or adopted.'\n",
      "'fileIndex=10&&contextLen=3&&userResponse=Yeah I bet it would be interesting, you are at the mercy of the waves. Any particular beaches you like?'\n",
      "'fileIndex=6&&contextLen=3&&userResponse=Yes it does. I hope I get to witness communication in my lifetime'\n",
      "'fileIndex=25&&contextLen=3&&userResponse=I would like to know that too. He was inducted into the Rock and Roll Hall of Fame, 14 years ago, in 2004.'\n",
      "\"fileIndex=18&&contextLen=3&&userResponse=I think in this case, fair means light. They used to call it 'fæġer-feahs'.\"\n",
      "'fileIndex=19&&contextLen=3&&userResponse=A piano, especially of the kind made in the 18th and early 19th centuries'\n",
      "\"fileIndex=27&&contextLen=3&&userResponse=What ideas does the series promote, seeing as it's for children?\"\n",
      "'fileIndex=18&&contextLen=3&&userResponse=I think it tastes pretty damn good. Apparently the Italians were one of the first to adapt forks into their cuisine because of it.'\n",
      "\"fileIndex=26&&contextLen=3&&userResponse=Yeah! The first mention of the word in English however only dates back to the 30's\"\n",
      "'fileIndex=4&&contextLen=3&&userResponse=Amazing how the food we eat is tied to the economics and social underpinnings of the time!'\n",
      "'fileIndex=8&&contextLen=3&&userResponse=If you see a 1953 white convertible, but it!! Only 300 were produced that year.'\n",
      "'fileIndex=3&&contextLen=3&&userResponse=The English word is borrowed from Modern Greek πίτα. And a rough translation for that is bread cake! Pretty interesting huh?'\n",
      "\"fileIndex=28&&contextLen=3&&userResponse=I was just about to ask you the same question! I haven't had a lot of time for reading with work responsibilities. I'm from the south so I loved 'Gone With the Wind' as a true southern belle! Lol\"\n",
      "'fileIndex=29&&contextLen=3&&userResponse=I have never seen that before.'\n",
      "\"fileIndex=23&&contextLen=3&&userResponse=The expression 'work-life balance' wasn't used until 1986 in America, but everyone is using it these days.\"\n",
      "'fileIndex=1&&contextLen=3&&userResponse=I think they are mostly those colors because of the hound traits in them. They are quite good at picking up scents and it used primarily for hunting hares!'\n",
      "'fileIndex=3&&contextLen=3&&userResponse=Vikings were from Northern European homelands, Denmark and Sweden'\n",
      "\"fileIndex=26&&contextLen=3&&userResponse=Yeah! The first mention of the word in English however only dates back to the 30's\"\n",
      "'fileIndex=25&&contextLen=3&&userResponse=I would like to know that too. He was inducted into the Rock and Roll Hall of Fame, 14 years ago, in 2004.'\n",
      "\"fileIndex=27&&contextLen=3&&userResponse=What ideas does the series promote, seeing as it's for children?\"\n",
      "'fileIndex=14&&contextLen=3&&userResponse=Yes, due to their precise construction and higher design'\n",
      "'fileIndex=8&&contextLen=3&&userResponse=If you see a 1953 white convertible, but it!! Only 300 were produced that year.'\n",
      "'fileIndex=17&&contextLen=3&&userResponse=Hello! I am not. Are you?'\n",
      "'fileIndex=4&&contextLen=3&&userResponse=Amazing how the food we eat is tied to the economics and social underpinnings of the time!'\n",
      "'fileIndex=23&&contextLen=3&&userResponse=I have never heard of him. Is he old?'\n",
      "\"fileIndex=15&&contextLen=3&&userResponse=Yes she definitely has made quite the stir. As I recall her name was mile Stewart on that show and it's to bad she was not the teen idol she could have been.\"\n",
      "'fileIndex=2&&contextLen=3&&userResponse=I know all those channels I wonder if reruns come on still'\n",
      "'fileIndex=24&&contextLen=3&&userResponse=It helps that the Association of Professional Pierces has developed safety standards.'\n",
      "'fileIndex=2&&contextLen=3&&userResponse=Since last checked it sits around 3. 4 million people on the island'\n",
      "'fileIndex=2&&contextLen=3&&userResponse=I know all those channels I wonder if reruns come on still'\n",
      "\"fileIndex=9&&contextLen=3&&userResponse=Ok, I'll have to try to mix it up next time I make it\"\n",
      "\"fileIndex=4&&contextLen=3&&userResponse=That's an oldie but guide. He-Man was a hunk.\"\n",
      "'fileIndex=10&&contextLen=3&&userResponse=Yeah I bet it would be interesting, you are at the mercy of the waves. Any particular beaches you like?'\n",
      "\"fileIndex=18&&contextLen=3&&userResponse=I think in this case, fair means light. They used to call it 'fæġer-feahs'.\"\n",
      "'fileIndex=1&&contextLen=3&&userResponse=Yes I do, do you know a lot about it?'\n",
      "\"fileIndex=28&&contextLen=3&&userResponse=I was just about to ask you the same question! I haven't had a lot of time for reading with work responsibilities. I'm from the south so I loved 'Gone With the Wind' as a true southern belle! Lol\"\n",
      "'fileIndex=5&&contextLen=3&&userResponse=Where were cakes first invented?'\n",
      "'fileIndex=16&&contextLen=3&&userResponse=Yeah I think dance is one of the most beautiful things humans can express, choreography is like a representation of emotion.'\n",
      "'fileIndex=6&&contextLen=3&&userResponse=Yes it does. I hope I get to witness communication in my lifetime'\n",
      "\"fileIndex=16&&contextLen=3&&userResponse=That's awesome. What are you studying there?\"\n",
      "'fileIndex=25&&contextLen=3&&userResponse=I would like to know that too. He was inducted into the Rock and Roll Hall of Fame, 14 years ago, in 2004.'\n",
      "'fileIndex=2&&contextLen=3&&userResponse=I know all those channels I wonder if reruns come on still'\n",
      "\"fileIndex=20&&contextLen=3&&userResponse=I've only seen the generic black and white ones.\"\n",
      "'fileIndex=19&&contextLen=3&&userResponse=A piano, especially of the kind made in the 18th and early 19th centuries'\n",
      "'fileIndex=7&&contextLen=3&&userResponse=And shortly after that, season 3 of the TV show premiered on ABC'\n",
      "'fileIndex=1&&contextLen=3&&userResponse=I think they are mostly those colors because of the hound traits in them. They are quite good at picking up scents and it used primarily for hunting hares!'\n",
      "'fileIndex=25&&contextLen=3&&userResponse=No one knew much about it until it was referenced by pop culture.'\n",
      "'fileIndex=1&&contextLen=3&&userResponse=Yes I do, do you know a lot about it?'\n",
      "\"fileIndex=28&&contextLen=3&&userResponse=I was just about to ask you the same question! I haven't had a lot of time for reading with work responsibilities. I'm from the south so I loved 'Gone With the Wind' as a true southern belle! Lol\"\n",
      "\"fileIndex=11&&contextLen=3&&userResponse=If you don't make it to Quebec, every other place in Canada has chained called Swiss Chalet. It's pretty similar.\"\n",
      "'fileIndex=14&&contextLen=3&&userResponse=Yes, due to their precise construction and higher design'\n",
      "\"fileIndex=15&&contextLen=3&&userResponse=Hi I am not sure but if it's true it sounds funny. Don't you think?\"\n",
      "'fileIndex=5&&contextLen=3&&userResponse=Where were cakes first invented?'\n",
      "'fileIndex=28&&contextLen=3&&userResponse=Yes I do. But I never seem to be able to think of all the words.'\n",
      "'fileIndex=18&&contextLen=3&&userResponse=I think it tastes pretty damn good. Apparently the Italians were one of the first to adapt forks into their cuisine because of it.'\n",
      "'fileIndex=18&&contextLen=3&&userResponse=I think it tastes pretty damn good. Apparently the Italians were one of the first to adapt forks into their cuisine because of it.'\n",
      "'fileIndex=13&&contextLen=3&&userResponse=I grew in a project public housing'\n",
      "\"fileIndex=11&&contextLen=3&&userResponse=Which one is better, Jane Eyre or her sister's?\"\n",
      "'fileIndex=20&&contextLen=3&&userResponse=There is a competition called the Pan American Race Walking Cup that is held twice a year. Lol'\n",
      "'fileIndex=14&&contextLen=3&&userResponse=Yes, due to their precise construction and higher design'\n",
      "'fileIndex=5&&contextLen=3&&userResponse=I just love to get in and lay in the sun'\n",
      "'fileIndex=14&&contextLen=3&&userResponse=Yep, one of the interesting ones is called meningitis which can affect your spinal cord and brain!'\n",
      "'fileIndex=19&&contextLen=3&&userResponse=A piano, especially of the kind made in the 18th and early 19th centuries'\n",
      "\"fileIndex=29&&contextLen=3&&userResponse=I actually didn't know that! Such interesting facts surrounding the color purple!\"\n",
      "\"fileIndex=21&&contextLen=3&&userResponse=I know I'm one of them. I rematch the whole series every year. Which of the primary story arcs do you find most compelling?\"\n",
      "\"fileIndex=11&&contextLen=3&&userResponse=If you don't make it to Quebec, every other place in Canada has chained called Swiss Chalet. It's pretty similar.\"\n",
      "'fileIndex=17&&contextLen=3&&userResponse=Hello! I am not. Are you?'\n",
      "'fileIndex=25&&contextLen=3&&userResponse=I would like to know that too. He was inducted into the Rock and Roll Hall of Fame, 14 years ago, in 2004.'\n",
      "'fileIndex=7&&contextLen=3&&userResponse=It is a very reliable car, so much that it is an official state car for transporting members of the government'\n",
      "'fileIndex=19&&contextLen=3&&userResponse=Their 2002 album Absolution had a lot of classical influence.'\n",
      "'fileIndex=7&&contextLen=3&&userResponse=It is a very reliable car, so much that it is an official state car for transporting members of the government'\n",
      "\"fileIndex=15&&contextLen=3&&userResponse=Hi I am not sure but if it's true it sounds funny. Don't you think?\"\n",
      "'fileIndex=25&&contextLen=3&&userResponse=No one knew much about it until it was referenced by pop culture.'\n",
      "'fileIndex=21&&contextLen=3&&userResponse=Well, an only child is a person with no siblings, either biological or adopted.'\n",
      "'fileIndex=19&&contextLen=3&&userResponse=Their 2002 album Absolution had a lot of classical influence.'\n",
      "'fileIndex=0&&contextLen=3&&userResponse=Ah. Why do they throw the line in such an elaborate and float way?'\n",
      "'fileIndex=14&&contextLen=3&&userResponse=Yes, due to their precise construction and higher design'\n",
      "\"fileIndex=26&&contextLen=3&&userResponse=Yep, I love those movies. They're my favorites to watch on Halloween.\"\n",
      "\"fileIndex=22&&contextLen=3&&userResponse=Wow that long ago? Would've never thought it to be so old.\"\n",
      "'fileIndex=8&&contextLen=3&&userResponse=What are the best places to visit?'\n",
      "'fileIndex=12&&contextLen=3&&userResponse=So it started at the Olympics'\n",
      "'fileIndex=2&&contextLen=3&&userResponse=Since last checked it sits around 3. 4 million people on the island'\n",
      "'fileIndex=13&&contextLen=3&&userResponse=I grew in a project public housing'\n",
      "\"fileIndex=26&&contextLen=3&&userResponse=Yep, I love those movies. They're my favorites to watch on Halloween.\"\n",
      "'fileIndex=10&&contextLen=3&&userResponse=Yeah I bet it would be interesting, you are at the mercy of the waves. Any particular beaches you like?'\n",
      "\"fileIndex=26&&contextLen=3&&userResponse=Yep, I love those movies. They're my favorites to watch on Halloween.\"\n",
      "'fileIndex=0&&contextLen=3&&userResponse=Ah. Why do they throw the line in such an elaborate and float way?'\n",
      "'fileIndex=14&&contextLen=3&&userResponse=Yes, due to their precise construction and higher design'\n",
      "'fileIndex=5&&contextLen=3&&userResponse=I just love to get in and lay in the sun'\n",
      "'fileIndex=16&&contextLen=3&&userResponse=Yeah I think dance is one of the most beautiful things humans can express, choreography is like a representation of emotion.'\n",
      "'fileIndex=18&&contextLen=3&&userResponse=I think it tastes pretty damn good. Apparently the Italians were one of the first to adapt forks into their cuisine because of it.'\n",
      "\"fileIndex=22&&contextLen=3&&userResponse=Wow that long ago? Would've never thought it to be so old.\"\n",
      "'fileIndex=12&&contextLen=3&&userResponse=My work does free blood testing every year, and last year mine showed I was pre-diabetic. I have tried to eat fewer cars as a result.'\n",
      "'fileIndex=2&&contextLen=3&&userResponse=I know all those channels I wonder if reruns come on still'\n",
      "'fileIndex=29&&contextLen=3&&userResponse=I have never seen that before.'\n",
      "'fileIndex=23&&contextLen=3&&userResponse=I have never heard of him. Is he old?'\n",
      "\"fileIndex=20&&contextLen=3&&userResponse=I've only seen the generic black and white ones.\"\n",
      "\"fileIndex=11&&contextLen=3&&userResponse=Which one is better, Jane Eyre or her sister's?\"\n",
      "'fileIndex=3&&contextLen=3&&userResponse=The English word is borrowed from Modern Greek πίτα. And a rough translation for that is bread cake! Pretty interesting huh?'\n",
      "'fileIndex=12&&contextLen=3&&userResponse=My work does free blood testing every year, and last year mine showed I was pre-diabetic. I have tried to eat fewer cars as a result.'\n",
      "\"fileIndex=18&&contextLen=3&&userResponse=I think in this case, fair means light. They used to call it 'fæġer-feahs'.\"\n",
      "'fileIndex=18&&contextLen=3&&userResponse=I think it tastes pretty damn good. Apparently the Italians were one of the first to adapt forks into their cuisine because of it.'\n",
      "\"fileIndex=28&&contextLen=3&&userResponse=I was just about to ask you the same question! I haven't had a lot of time for reading with work responsibilities. I'm from the south so I loved 'Gone With the Wind' as a true southern belle! Lol\"\n",
      "'fileIndex=27&&contextLen=3&&userResponse=I have family that works in special education and they have said the same things'\n",
      "'fileIndex=13&&contextLen=3&&userResponse=I grew in a project public housing'\n",
      "'fileIndex=12&&contextLen=3&&userResponse=My work does free blood testing every year, and last year mine showed I was pre-diabetic. I have tried to eat fewer cars as a result.'\n",
      "'fileIndex=1&&contextLen=3&&userResponse=I think they are mostly those colors because of the hound traits in them. They are quite good at picking up scents and it used primarily for hunting hares!'\n",
      "'fileIndex=17&&contextLen=3&&userResponse=Hello! I am not. Are you?'\n",
      "\"fileIndex=28&&contextLen=3&&userResponse=I was just about to ask you the same question! I haven't had a lot of time for reading with work responsibilities. I'm from the south so I loved 'Gone With the Wind' as a true southern belle! Lol\"\n",
      "'fileIndex=17&&contextLen=3&&userResponse=Hello! I am not. Are you?'\n",
      "'fileIndex=19&&contextLen=3&&userResponse=Their 2002 album Absolution had a lot of classical influence.'\n",
      "'fileIndex=18&&contextLen=3&&userResponse=I think it tastes pretty damn good. Apparently the Italians were one of the first to adapt forks into their cuisine because of it.'\n",
      "'fileIndex=7&&contextLen=3&&userResponse=And shortly after that, season 3 of the TV show premiered on ABC'\n",
      "\"fileIndex=15&&contextLen=3&&userResponse=Hi I am not sure but if it's true it sounds funny. Don't you think?\"\n",
      "'fileIndex=9&&contextLen=3&&userResponse=Sure, it is a major resort city known for its gambling, shopping, dining, and entertainment venues.'\n",
      "'fileIndex=24&&contextLen=3&&userResponse=Yes! I love it so much, the TV series was created by David Sendoff and D. B. Weiss.'\n",
      "'fileIndex=7&&contextLen=3&&userResponse=It is a very reliable car, so much that it is an official state car for transporting members of the government'\n",
      "'fileIndex=27&&contextLen=3&&userResponse=I have family that works in special education and they have said the same things'\n",
      "'fileIndex=6&&contextLen=3&&userResponse=Yes it does. I hope I get to witness communication in my lifetime'\n",
      "'fileIndex=7&&contextLen=3&&userResponse=It is a very reliable car, so much that it is an official state car for transporting members of the government'\n",
      "\"fileIndex=11&&contextLen=3&&userResponse=If you don't make it to Quebec, every other place in Canada has chained called Swiss Chalet. It's pretty similar.\"\n",
      "'fileIndex=24&&contextLen=3&&userResponse=Yes! I love it so much, the TV series was created by David Sendoff and D. B. Weiss.'\n",
      "\"fileIndex=21&&contextLen=3&&userResponse=I know I'm one of them. I rematch the whole series every year. Which of the primary story arcs do you find most compelling?\"\n",
      "\"fileIndex=11&&contextLen=3&&userResponse=If you don't make it to Quebec, every other place in Canada has chained called Swiss Chalet. It's pretty similar.\"\n",
      "\"fileIndex=27&&contextLen=3&&userResponse=What ideas does the series promote, seeing as it's for children?\"\n",
      "'fileIndex=12&&contextLen=3&&userResponse=My work does free blood testing every year, and last year mine showed I was pre-diabetic. I have tried to eat fewer cars as a result.'\n",
      "'fileIndex=17&&contextLen=3&&userResponse=Hello! I am not. Are you?'\n",
      "'fileIndex=7&&contextLen=3&&userResponse=It is a very reliable car, so much that it is an official state car for transporting members of the government'\n",
      "'fileIndex=2&&contextLen=3&&userResponse=I know all those channels I wonder if reruns come on still'\n",
      "'fileIndex=12&&contextLen=3&&userResponse=So it started at the Olympics'\n",
      "'fileIndex=8&&contextLen=3&&userResponse=If you see a 1953 white convertible, but it!! Only 300 were produced that year.'\n",
      "\"fileIndex=16&&contextLen=3&&userResponse=That's awesome. What are you studying there?\"\n",
      "'fileIndex=14&&contextLen=3&&userResponse=Yes, due to their precise construction and higher design'\n",
      "'fileIndex=17&&contextLen=3&&userResponse=The data regarding beaches also includes certain areas some may not even consider beaches because they are so small while most are larger geological units.'\n",
      "'fileIndex=3&&contextLen=3&&userResponse=Vikings were from Northern European homelands, Denmark and Sweden'\n",
      "\"fileIndex=18&&contextLen=3&&userResponse=I think in this case, fair means light. They used to call it 'fæġer-feahs'.\"\n",
      "'fileIndex=20&&contextLen=3&&userResponse=There is a competition called the Pan American Race Walking Cup that is held twice a year. Lol'\n",
      "\"fileIndex=22&&contextLen=3&&userResponse=No wonder it became so big! I've always considered moving to Texas and this might further convince me.\"\n",
      "'fileIndex=21&&contextLen=3&&userResponse=Well, an only child is a person with no siblings, either biological or adopted.'\n",
      "'fileIndex=25&&contextLen=3&&userResponse=I would like to know that too. He was inducted into the Rock and Roll Hall of Fame, 14 years ago, in 2004.'\n",
      "\"fileIndex=4&&contextLen=3&&userResponse=That's an oldie but guide. He-Man was a hunk.\"\n",
      "'fileIndex=8&&contextLen=3&&userResponse=What are the best places to visit?'\n",
      "'fileIndex=4&&contextLen=3&&userResponse=Amazing how the food we eat is tied to the economics and social underpinnings of the time!'\n",
      "\"fileIndex=27&&contextLen=3&&userResponse=What ideas does the series promote, seeing as it's for children?\"\n",
      "\"fileIndex=15&&contextLen=3&&userResponse=Hi I am not sure but if it's true it sounds funny. Don't you think?\"\n",
      "\"fileIndex=22&&contextLen=3&&userResponse=No wonder it became so big! I've always considered moving to Texas and this might further convince me.\"\n",
      "\"fileIndex=29&&contextLen=3&&userResponse=I actually didn't know that! Such interesting facts surrounding the color purple!\"\n",
      "'fileIndex=12&&contextLen=3&&userResponse=So it started at the Olympics'\n",
      "\"fileIndex=11&&contextLen=3&&userResponse=If you don't make it to Quebec, every other place in Canada has chained called Swiss Chalet. It's pretty similar.\"\n",
      "'fileIndex=20&&contextLen=3&&userResponse=There is a competition called the Pan American Race Walking Cup that is held twice a year. Lol'\n",
      "'fileIndex=12&&contextLen=3&&userResponse=So it started at the Olympics'\n",
      "'fileIndex=3&&contextLen=3&&userResponse=Vikings were from Northern European homelands, Denmark and Sweden'\n",
      "'fileIndex=27&&contextLen=3&&userResponse=I have family that works in special education and they have said the same things'\n",
      "\"fileIndex=23&&contextLen=3&&userResponse=The expression 'work-life balance' wasn't used until 1986 in America, but everyone is using it these days.\"\n",
      "\"fileIndex=16&&contextLen=3&&userResponse=That's awesome. What are you studying there?\"\n",
      "\"fileIndex=23&&contextLen=3&&userResponse=The expression 'work-life balance' wasn't used until 1986 in America, but everyone is using it these days.\"\n",
      "'fileIndex=23&&contextLen=3&&userResponse=I have never heard of him. Is he old?'\n",
      "\"fileIndex=18&&contextLen=3&&userResponse=I think in this case, fair means light. They used to call it 'fæġer-feahs'.\"\n",
      "'fileIndex=17&&contextLen=3&&userResponse=The data regarding beaches also includes certain areas some may not even consider beaches because they are so small while most are larger geological units.'\n",
      "'fileIndex=27&&contextLen=3&&userResponse=I have family that works in special education and they have said the same things'\n",
      "'fileIndex=16&&contextLen=3&&userResponse=Yeah I think dance is one of the most beautiful things humans can express, choreography is like a representation of emotion.'\n",
      "'fileIndex=27&&contextLen=3&&userResponse=I have family that works in special education and they have said the same things'\n",
      "'fileIndex=8&&contextLen=3&&userResponse=What are the best places to visit?'\n",
      "'fileIndex=18&&contextLen=3&&userResponse=I think it tastes pretty damn good. Apparently the Italians were one of the first to adapt forks into their cuisine because of it.'\n",
      "\"fileIndex=11&&contextLen=3&&userResponse=If you don't make it to Quebec, every other place in Canada has chained called Swiss Chalet. It's pretty similar.\"\n",
      "\"fileIndex=18&&contextLen=3&&userResponse=I think in this case, fair means light. They used to call it 'fæġer-feahs'.\"\n",
      "'fileIndex=8&&contextLen=3&&userResponse=If you see a 1953 white convertible, but it!! Only 300 were produced that year.'\n",
      "'fileIndex=18&&contextLen=3&&userResponse=I think it tastes pretty damn good. Apparently the Italians were one of the first to adapt forks into their cuisine because of it.'\n",
      "'fileIndex=24&&contextLen=3&&userResponse=Yes! I love it so much, the TV series was created by David Sendoff and D. B. Weiss.'\n",
      "'fileIndex=6&&contextLen=3&&userResponse=I like fruit picking its fun'\n",
      "'fileIndex=0&&contextLen=3&&userResponse=Ah. Why do they throw the line in such an elaborate and float way?'\n",
      "'fileIndex=21&&contextLen=3&&userResponse=Well, an only child is a person with no siblings, either biological or adopted.'\n",
      "'fileIndex=24&&contextLen=3&&userResponse=It helps that the Association of Professional Pierces has developed safety standards.'\n",
      "'fileIndex=6&&contextLen=3&&userResponse=I like fruit picking its fun'\n",
      "'fileIndex=3&&contextLen=3&&userResponse=Vikings were from Northern European homelands, Denmark and Sweden'\n",
      "'fileIndex=6&&contextLen=3&&userResponse=Yes it does. I hope I get to witness communication in my lifetime'\n",
      "'fileIndex=3&&contextLen=3&&userResponse=Vikings were from Northern European homelands, Denmark and Sweden'\n",
      "'fileIndex=20&&contextLen=3&&userResponse=There is a competition called the Pan American Race Walking Cup that is held twice a year. Lol'\n",
      "\"fileIndex=20&&contextLen=3&&userResponse=I've only seen the generic black and white ones.\"\n",
      "\"fileIndex=22&&contextLen=3&&userResponse=Wow that long ago? Would've never thought it to be so old.\"\n",
      "'fileIndex=3&&contextLen=3&&userResponse=The English word is borrowed from Modern Greek πίτα. And a rough translation for that is bread cake! Pretty interesting huh?'\n",
      "'fileIndex=3&&contextLen=3&&userResponse=Vikings were from Northern European homelands, Denmark and Sweden'\n",
      "'fileIndex=1&&contextLen=3&&userResponse=I think they are mostly those colors because of the hound traits in them. They are quite good at picking up scents and it used primarily for hunting hares!'\n",
      "'fileIndex=16&&contextLen=3&&userResponse=Yeah I think dance is one of the most beautiful things humans can express, choreography is like a representation of emotion.'\n",
      "\"fileIndex=4&&contextLen=3&&userResponse=That's an oldie but guide. He-Man was a hunk.\"\n",
      "'fileIndex=27&&contextLen=3&&userResponse=I have family that works in special education and they have said the same things'\n",
      "'fileIndex=4&&contextLen=3&&userResponse=Amazing how the food we eat is tied to the economics and social underpinnings of the time!'\n",
      "'fileIndex=17&&contextLen=3&&userResponse=Hello! I am not. Are you?'\n",
      "'fileIndex=0&&contextLen=3&&userResponse=Ah. Why do they throw the line in such an elaborate and float way?'\n",
      "'fileIndex=0&&contextLen=3&&userResponse=Yes, and it is a Bohemian-style lager developed by Adolph us Busch and his friend Carl Conrad'\n",
      "'fileIndex=29&&contextLen=3&&userResponse=I have never seen that before.'\n",
      "'fileIndex=29&&contextLen=3&&userResponse=I have never seen that before.'\n",
      "'fileIndex=18&&contextLen=3&&userResponse=I think it tastes pretty damn good. Apparently the Italians were one of the first to adapt forks into their cuisine because of it.'\n",
      "\"fileIndex=27&&contextLen=3&&userResponse=What ideas does the series promote, seeing as it's for children?\"\n",
      "\"fileIndex=26&&contextLen=3&&userResponse=Yep, I love those movies. They're my favorites to watch on Halloween.\"\n",
      "\"fileIndex=20&&contextLen=3&&userResponse=I've only seen the generic black and white ones.\"\n",
      "\"fileIndex=21&&contextLen=3&&userResponse=I know I'm one of them. I rematch the whole series every year. Which of the primary story arcs do you find most compelling?\"\n",
      "'fileIndex=2&&contextLen=3&&userResponse=Since last checked it sits around 3. 4 million people on the island'\n",
      "'fileIndex=18&&contextLen=3&&userResponse=I think it tastes pretty damn good. Apparently the Italians were one of the first to adapt forks into their cuisine because of it.'\n",
      "'fileIndex=9&&contextLen=3&&userResponse=Sure, it is a major resort city known for its gambling, shopping, dining, and entertainment venues.'\n",
      "\"fileIndex=28&&contextLen=3&&userResponse=I was just about to ask you the same question! I haven't had a lot of time for reading with work responsibilities. I'm from the south so I loved 'Gone With the Wind' as a true southern belle! Lol\"\n",
      "'fileIndex=6&&contextLen=3&&userResponse=Yes it does. I hope I get to witness communication in my lifetime'\n",
      "'fileIndex=27&&contextLen=3&&userResponse=I have family that works in special education and they have said the same things'\n",
      "'fileIndex=5&&contextLen=3&&userResponse=I just love to get in and lay in the sun'\n",
      "'fileIndex=29&&contextLen=3&&userResponse=I have never seen that before.'\n",
      "'fileIndex=21&&contextLen=3&&userResponse=Well, an only child is a person with no siblings, either biological or adopted.'\n",
      "\"fileIndex=29&&contextLen=3&&userResponse=I actually didn't know that! Such interesting facts surrounding the color purple!\"\n",
      "'fileIndex=7&&contextLen=3&&userResponse=It is a very reliable car, so much that it is an official state car for transporting members of the government'\n",
      "'fileIndex=13&&contextLen=3&&userResponse=I grew in a project public housing'\n",
      "'fileIndex=23&&contextLen=3&&userResponse=I have never heard of him. Is he old?'\n",
      "\"fileIndex=16&&contextLen=3&&userResponse=That's awesome. What are you studying there?\"\n",
      "'fileIndex=29&&contextLen=3&&userResponse=I have never seen that before.'\n",
      "'fileIndex=3&&contextLen=3&&userResponse=Vikings were from Northern European homelands, Denmark and Sweden'\n",
      "'fileIndex=17&&contextLen=3&&userResponse=The data regarding beaches also includes certain areas some may not even consider beaches because they are so small while most are larger geological units.'\n",
      "'fileIndex=19&&contextLen=3&&userResponse=A piano, especially of the kind made in the 18th and early 19th centuries'\n",
      "\"fileIndex=20&&contextLen=3&&userResponse=I've only seen the generic black and white ones.\"\n",
      "'fileIndex=3&&contextLen=3&&userResponse=The English word is borrowed from Modern Greek πίτα. And a rough translation for that is bread cake! Pretty interesting huh?'\n",
      "\"fileIndex=21&&contextLen=3&&userResponse=I know I'm one of them. I rematch the whole series every year. Which of the primary story arcs do you find most compelling?\"\n",
      "'fileIndex=20&&contextLen=3&&userResponse=There is a competition called the Pan American Race Walking Cup that is held twice a year. Lol'\n"
     ]
    },
    {
     "name": "stdout",
     "output_type": "stream",
     "text": [
      "'fileIndex=1&&contextLen=3&&userResponse=Yes I do, do you know a lot about it?'\n",
      "'fileIndex=24&&contextLen=3&&userResponse=It helps that the Association of Professional Pierces has developed safety standards.'\n",
      "'fileIndex=5&&contextLen=3&&userResponse=Where were cakes first invented?'\n",
      "'fileIndex=3&&contextLen=3&&userResponse=The English word is borrowed from Modern Greek πίτα. And a rough translation for that is bread cake! Pretty interesting huh?'\n",
      "'fileIndex=16&&contextLen=3&&userResponse=Yeah I think dance is one of the most beautiful things humans can express, choreography is like a representation of emotion.'\n",
      "'fileIndex=24&&contextLen=3&&userResponse=Yes! I love it so much, the TV series was created by David Sendoff and D. B. Weiss.'\n",
      "'fileIndex=24&&contextLen=3&&userResponse=It helps that the Association of Professional Pierces has developed safety standards.'\n",
      "'fileIndex=7&&contextLen=3&&userResponse=It is a very reliable car, so much that it is an official state car for transporting members of the government'\n",
      "'fileIndex=29&&contextLen=3&&userResponse=I have never seen that before.'\n",
      "\"fileIndex=23&&contextLen=3&&userResponse=The expression 'work-life balance' wasn't used until 1986 in America, but everyone is using it these days.\"\n"
     ]
    }
   ],
   "source": [
    "sugg1Bot = []\n",
    "sugg3Bot = []\n",
    "sugg5Bot = []\n",
    "\n",
    "autoSugg1Bot = []\n",
    "autoSugg3Bot = []\n",
    "autoSugg5Bot = []\n",
    "\n",
    "\n",
    "for root, dirs, files in os.walk(cleanPath + settingName):\n",
    "    for file in files:\n",
    "        if file.endswith(\".json\"):\n",
    "            fileName = os.path.join(root, file)\n",
    "            with open(fileName) as json_file:\n",
    "                try:\n",
    "                    data = json.load(json_file)\n",
    "                    dialogs = data['dialogs']\n",
    "                    \n",
    "                    for i in range(1, len(dialogs)):\n",
    "                        context = dialogs[i]['context']\n",
    "                        \n",
    "                        userResponse = context['userResponse']\n",
    "                        fileIndex = context['fileIndex']\n",
    "                        suggestions = context['suggestions']\n",
    "                        \n",
    "                        identifierStr = 'fileIndex=' + str(fileIndex) + '&&contextLen=' + str(contextLen) + '&&userResponse=' + suggestions[0].strip()\n",
    "                        \n",
    "                        if(identifierStr in responseSet):\n",
    "                            responseJudgements =  responseSet[identifierStr]\n",
    "                        else:\n",
    "                            responseJudgements =  suggSet[identifierStr]\n",
    "                        \n",
    "                        currFeedback = []\n",
    "                        \n",
    "                        for feedback in responseJudgements:\n",
    "                            for key in feedback:\n",
    "                                \n",
    "                                if('Answer.' + Qualtype in key and feedback[key] == 'true'):\n",
    "                                    currFeedback.append(metric[key])\n",
    "                        \n",
    "                        \n",
    "                        if(data['autoFilledSuggestion'] == 0):\n",
    "                            \n",
    "                            if(data['suggestionsNumber'] == 1):\n",
    "                                sugg1Bot.append(statistics.mean(currFeedback))\n",
    "\n",
    "                            elif(data['suggestionsNumber'] == 3):\n",
    "                                sugg3Bot.append(statistics.mean(currFeedback))\n",
    "\n",
    "                            elif(data['suggestionsNumber'] == 5):\n",
    "                                sugg5Bot.append(statistics.mean(currFeedback))\n",
    "                        \n",
    "                        else:\n",
    "\n",
    "                            if(data['suggestionsNumber'] == 1):\n",
    "                                autoSugg1Bot.append(statistics.mean(currFeedback))\n",
    "\n",
    "                            elif(data['suggestionsNumber'] == 3):\n",
    "                                autoSugg3Bot.append(statistics.mean(currFeedback))\n",
    "                            \n",
    "                            elif(data['suggestionsNumber'] == 5):\n",
    "                                autoSugg5Bot.append(statistics.mean(currFeedback))\n",
    "                    \n",
    "                    \n",
    "                except Exception as e: print(e)"
   ]
  },
  {
   "cell_type": "code",
   "execution_count": 32,
   "metadata": {},
   "outputs": [
    {
     "name": "stdout",
     "output_type": "stream",
     "text": [
      "H Bot 0.000000000000000000000000000000000000000000000000000000000000000000000000000000000000000000000000000000000006946147992997035\n",
      "H sugg1 0.00000000000005861169359871057\n",
      "H sugg3 0.0000000000006390479804168944\n",
      "H sugg5 0.000000000994806832740109\n",
      "H autoSugg1 0.0000000000000000000000000295670835016384\n",
      "H autoSugg3 0.0000000000036166052569648478\n",
      "H autoSugg5 0.00000000000000000000000000010327475142504875\n",
      "Bot sugg1 0.00000000000000000000000000000000013465205892058472\n",
      "Bot sugg3 0.0000000000000000000000000000000000009402524192505081\n",
      "Bot sugg5 0.00000000000000000000000000000000000000019270212537749686\n",
      "Bot autoSugg1 0.00000000000000000000000000005188372838422619\n",
      "Bot autoSugg3 0.000000000000000000000000000000000000022106908326357268\n",
      "Bot autoSugg5 0.0000000000000000000018137210946996862\n",
      "sugg1 sugg3 0.7290127333671985\n",
      "sugg1 sugg5 0.2051727881300386\n",
      "sugg1 autoSugg1 0.021890706548949028\n",
      "sugg1 autoSugg3 0.5533396997050133\n",
      "sugg1 autoSugg5 0.0019971549716232646\n",
      "sugg3 sugg5 0.35215553344863026\n",
      "sugg3 autoSugg1 0.007424087414985723\n",
      "sugg3 autoSugg3 0.8048081491659671\n",
      "sugg3 autoSugg5 0.0005239847355002691\n",
      "sugg5 autoSugg1 0.0002911844362691936\n",
      "sugg5 autoSugg3 0.491233859499535\n",
      "sugg5 autoSugg5 0.000012124349928706294\n",
      "autoSugg1 autoSugg3 0.0032252903114272946\n",
      "autoSugg1 autoSugg5 0.35251358312076697\n",
      "autoSugg3 autoSugg5 0.00019178287529925732\n"
     ]
    }
   ],
   "source": [
    "settings = {\n",
    "    'H': scoresHuman,\n",
    "    'Bot': scoresBot,\n",
    "    'sugg1': sugg1,\n",
    "    'sugg3': sugg3,\n",
    "    'sugg5': sugg5,\n",
    "    'autoSugg1': autoSugg1,\n",
    "    'autoSugg3': autoSugg3,\n",
    "    'autoSugg5': autoSugg5\n",
    "}\n",
    "\n",
    "for list1, list2 in combinations(settings.keys(), 2):\n",
    "    t, p = ttest_ind(settings[list1], settings[list2], equal_var = False)\n",
    "    print (list1, list2, float_to_str(p))"
   ]
  },
  {
   "cell_type": "code",
   "execution_count": 52,
   "metadata": {
    "scrolled": false
   },
   "outputs": [
    {
     "data": {
      "application/vnd.plotly.v1+json": {
       "config": {
        "plotlyServerURL": "https://plot.ly"
       },
       "data": [
        {
         "error_y": {
          "array": [
           0.03668747042398959
          ],
          "type": "data"
         },
         "insidetextanchor": "middle",
         "marker": {
          "color": "#B0C4DE",
          "line": {
           "color": "rgb(8,48,107)",
           "width": 1.5
          }
         },
         "name": "Human Only",
         "opacity": 0.8,
         "text": [
          "3.91"
         ],
         "textposition": "inside",
         "type": "bar",
         "x": [
          ""
         ],
         "y": [
          3.91
         ]
        },
        {
         "error_y": {
          "array": [
           0.017637043191166987
          ],
          "type": "data"
         },
         "insidetextanchor": "middle",
         "marker": {
          "color": "#A9A9A9",
          "line": {
           "color": "rgb(8,48,107)",
           "width": 1.5
          }
         },
         "name": "Chatbot Only",
         "opacity": 0.8,
         "text": [
          "2.79"
         ],
         "textposition": "inside",
         "type": "bar",
         "x": [
          ""
         ],
         "y": [
          2.79
         ]
        },
        {
         "error_y": {
          "array": [
           0.047031403814137805,
           0.04641859337737749,
           0.04740217732416602
          ],
          "type": "data"
         },
         "insidetextanchor": "middle",
         "marker": {
          "color": "lightsalmon",
          "line": {
           "color": "rgb(8,48,107)",
           "width": 1.5
          }
         },
         "name": "C1",
         "opacity": 0.8,
         "text": [
          "3.45",
          "3.47",
          "3.54"
         ],
         "textposition": "inside",
         "type": "bar",
         "x": [
          "1 Suggestion",
          "3 Suggestions",
          "5 Suggestions"
         ],
         "y": [
          3.45,
          3.47,
          3.54
         ]
        },
        {
         "error_y": {
          "array": [
           0.17044862679118303,
           0.16970562748477142,
           0.15770994890475076
          ],
          "type": "data"
         },
         "insidetextanchor": "middle",
         "marker": {
          "color": "#ffdacc",
          "line": {
           "color": "rgb(8,48,107)",
           "width": 1.5
          }
         },
         "name": "C1 - Chatbot Only",
         "opacity": 0.8,
         "text": [
          "2.98",
          "2.67",
          "2.84"
         ],
         "textposition": "inside",
         "type": "bar",
         "x": [
          "1 Suggestion",
          "3 Suggestions",
          "5 Suggestions"
         ],
         "y": [
          2.98,
          2.67,
          2.84
         ]
        },
        {
         "error_y": {
          "array": [
           0.04083158176999925,
           0.046186461136752115,
           0.04343937258994214
          ],
          "type": "data"
         },
         "insidetextanchor": "middle",
         "marker": {
          "color": "#AFEEEE",
          "line": {
           "color": "rgb(8,48,107)",
           "width": 1.5
          }
         },
         "name": "C2",
         "opacity": 0.8,
         "text": [
          "3.31",
          "3.49",
          "3.25"
         ],
         "textposition": "inside",
         "type": "bar",
         "x": [
          "1 Suggestion",
          "3 Suggestions",
          "5 Suggestions"
         ],
         "y": [
          3.31,
          3.49,
          3.25
         ]
        },
        {
         "error_y": {
          "array": [
           0.19321570984344186,
           0.14483707321600287,
           0.13815606800052044
          ],
          "type": "data"
         },
         "insidetextanchor": "middle",
         "marker": {
          "color": "#eafbfb",
          "line": {
           "color": "rgb(8,48,107)",
           "width": 1.5
          }
         },
         "name": "C2 - Chatbot Only",
         "opacity": 0.8,
         "text": [
          "2.83",
          "2.8",
          "2.7"
         ],
         "textposition": "inside",
         "type": "bar",
         "x": [
          "1 Suggestion",
          "3 Suggestions",
          "5 Suggestions"
         ],
         "y": [
          2.83,
          2.8,
          2.7
         ]
        }
       ],
       "layout": {
        "font": {
         "size": 13
        },
        "legend": {
         "orientation": "h"
        },
        "template": {
         "data": {
          "bar": [
           {
            "error_x": {
             "color": "#2a3f5f"
            },
            "error_y": {
             "color": "#2a3f5f"
            },
            "marker": {
             "line": {
              "color": "#E5ECF6",
              "width": 0.5
             }
            },
            "type": "bar"
           }
          ],
          "barpolar": [
           {
            "marker": {
             "line": {
              "color": "#E5ECF6",
              "width": 0.5
             }
            },
            "type": "barpolar"
           }
          ],
          "carpet": [
           {
            "aaxis": {
             "endlinecolor": "#2a3f5f",
             "gridcolor": "white",
             "linecolor": "white",
             "minorgridcolor": "white",
             "startlinecolor": "#2a3f5f"
            },
            "baxis": {
             "endlinecolor": "#2a3f5f",
             "gridcolor": "white",
             "linecolor": "white",
             "minorgridcolor": "white",
             "startlinecolor": "#2a3f5f"
            },
            "type": "carpet"
           }
          ],
          "choropleth": [
           {
            "colorbar": {
             "outlinewidth": 0,
             "ticks": ""
            },
            "type": "choropleth"
           }
          ],
          "contour": [
           {
            "colorbar": {
             "outlinewidth": 0,
             "ticks": ""
            },
            "colorscale": [
             [
              0,
              "#0d0887"
             ],
             [
              0.1111111111111111,
              "#46039f"
             ],
             [
              0.2222222222222222,
              "#7201a8"
             ],
             [
              0.3333333333333333,
              "#9c179e"
             ],
             [
              0.4444444444444444,
              "#bd3786"
             ],
             [
              0.5555555555555556,
              "#d8576b"
             ],
             [
              0.6666666666666666,
              "#ed7953"
             ],
             [
              0.7777777777777778,
              "#fb9f3a"
             ],
             [
              0.8888888888888888,
              "#fdca26"
             ],
             [
              1,
              "#f0f921"
             ]
            ],
            "type": "contour"
           }
          ],
          "contourcarpet": [
           {
            "colorbar": {
             "outlinewidth": 0,
             "ticks": ""
            },
            "type": "contourcarpet"
           }
          ],
          "heatmap": [
           {
            "colorbar": {
             "outlinewidth": 0,
             "ticks": ""
            },
            "colorscale": [
             [
              0,
              "#0d0887"
             ],
             [
              0.1111111111111111,
              "#46039f"
             ],
             [
              0.2222222222222222,
              "#7201a8"
             ],
             [
              0.3333333333333333,
              "#9c179e"
             ],
             [
              0.4444444444444444,
              "#bd3786"
             ],
             [
              0.5555555555555556,
              "#d8576b"
             ],
             [
              0.6666666666666666,
              "#ed7953"
             ],
             [
              0.7777777777777778,
              "#fb9f3a"
             ],
             [
              0.8888888888888888,
              "#fdca26"
             ],
             [
              1,
              "#f0f921"
             ]
            ],
            "type": "heatmap"
           }
          ],
          "heatmapgl": [
           {
            "colorbar": {
             "outlinewidth": 0,
             "ticks": ""
            },
            "colorscale": [
             [
              0,
              "#0d0887"
             ],
             [
              0.1111111111111111,
              "#46039f"
             ],
             [
              0.2222222222222222,
              "#7201a8"
             ],
             [
              0.3333333333333333,
              "#9c179e"
             ],
             [
              0.4444444444444444,
              "#bd3786"
             ],
             [
              0.5555555555555556,
              "#d8576b"
             ],
             [
              0.6666666666666666,
              "#ed7953"
             ],
             [
              0.7777777777777778,
              "#fb9f3a"
             ],
             [
              0.8888888888888888,
              "#fdca26"
             ],
             [
              1,
              "#f0f921"
             ]
            ],
            "type": "heatmapgl"
           }
          ],
          "histogram": [
           {
            "marker": {
             "colorbar": {
              "outlinewidth": 0,
              "ticks": ""
             }
            },
            "type": "histogram"
           }
          ],
          "histogram2d": [
           {
            "colorbar": {
             "outlinewidth": 0,
             "ticks": ""
            },
            "colorscale": [
             [
              0,
              "#0d0887"
             ],
             [
              0.1111111111111111,
              "#46039f"
             ],
             [
              0.2222222222222222,
              "#7201a8"
             ],
             [
              0.3333333333333333,
              "#9c179e"
             ],
             [
              0.4444444444444444,
              "#bd3786"
             ],
             [
              0.5555555555555556,
              "#d8576b"
             ],
             [
              0.6666666666666666,
              "#ed7953"
             ],
             [
              0.7777777777777778,
              "#fb9f3a"
             ],
             [
              0.8888888888888888,
              "#fdca26"
             ],
             [
              1,
              "#f0f921"
             ]
            ],
            "type": "histogram2d"
           }
          ],
          "histogram2dcontour": [
           {
            "colorbar": {
             "outlinewidth": 0,
             "ticks": ""
            },
            "colorscale": [
             [
              0,
              "#0d0887"
             ],
             [
              0.1111111111111111,
              "#46039f"
             ],
             [
              0.2222222222222222,
              "#7201a8"
             ],
             [
              0.3333333333333333,
              "#9c179e"
             ],
             [
              0.4444444444444444,
              "#bd3786"
             ],
             [
              0.5555555555555556,
              "#d8576b"
             ],
             [
              0.6666666666666666,
              "#ed7953"
             ],
             [
              0.7777777777777778,
              "#fb9f3a"
             ],
             [
              0.8888888888888888,
              "#fdca26"
             ],
             [
              1,
              "#f0f921"
             ]
            ],
            "type": "histogram2dcontour"
           }
          ],
          "mesh3d": [
           {
            "colorbar": {
             "outlinewidth": 0,
             "ticks": ""
            },
            "type": "mesh3d"
           }
          ],
          "parcoords": [
           {
            "line": {
             "colorbar": {
              "outlinewidth": 0,
              "ticks": ""
             }
            },
            "type": "parcoords"
           }
          ],
          "pie": [
           {
            "automargin": true,
            "type": "pie"
           }
          ],
          "scatter": [
           {
            "marker": {
             "colorbar": {
              "outlinewidth": 0,
              "ticks": ""
             }
            },
            "type": "scatter"
           }
          ],
          "scatter3d": [
           {
            "line": {
             "colorbar": {
              "outlinewidth": 0,
              "ticks": ""
             }
            },
            "marker": {
             "colorbar": {
              "outlinewidth": 0,
              "ticks": ""
             }
            },
            "type": "scatter3d"
           }
          ],
          "scattercarpet": [
           {
            "marker": {
             "colorbar": {
              "outlinewidth": 0,
              "ticks": ""
             }
            },
            "type": "scattercarpet"
           }
          ],
          "scattergeo": [
           {
            "marker": {
             "colorbar": {
              "outlinewidth": 0,
              "ticks": ""
             }
            },
            "type": "scattergeo"
           }
          ],
          "scattergl": [
           {
            "marker": {
             "colorbar": {
              "outlinewidth": 0,
              "ticks": ""
             }
            },
            "type": "scattergl"
           }
          ],
          "scattermapbox": [
           {
            "marker": {
             "colorbar": {
              "outlinewidth": 0,
              "ticks": ""
             }
            },
            "type": "scattermapbox"
           }
          ],
          "scatterpolar": [
           {
            "marker": {
             "colorbar": {
              "outlinewidth": 0,
              "ticks": ""
             }
            },
            "type": "scatterpolar"
           }
          ],
          "scatterpolargl": [
           {
            "marker": {
             "colorbar": {
              "outlinewidth": 0,
              "ticks": ""
             }
            },
            "type": "scatterpolargl"
           }
          ],
          "scatterternary": [
           {
            "marker": {
             "colorbar": {
              "outlinewidth": 0,
              "ticks": ""
             }
            },
            "type": "scatterternary"
           }
          ],
          "surface": [
           {
            "colorbar": {
             "outlinewidth": 0,
             "ticks": ""
            },
            "colorscale": [
             [
              0,
              "#0d0887"
             ],
             [
              0.1111111111111111,
              "#46039f"
             ],
             [
              0.2222222222222222,
              "#7201a8"
             ],
             [
              0.3333333333333333,
              "#9c179e"
             ],
             [
              0.4444444444444444,
              "#bd3786"
             ],
             [
              0.5555555555555556,
              "#d8576b"
             ],
             [
              0.6666666666666666,
              "#ed7953"
             ],
             [
              0.7777777777777778,
              "#fb9f3a"
             ],
             [
              0.8888888888888888,
              "#fdca26"
             ],
             [
              1,
              "#f0f921"
             ]
            ],
            "type": "surface"
           }
          ],
          "table": [
           {
            "cells": {
             "fill": {
              "color": "#EBF0F8"
             },
             "line": {
              "color": "white"
             }
            },
            "header": {
             "fill": {
              "color": "#C8D4E3"
             },
             "line": {
              "color": "white"
             }
            },
            "type": "table"
           }
          ]
         },
         "layout": {
          "annotationdefaults": {
           "arrowcolor": "#2a3f5f",
           "arrowhead": 0,
           "arrowwidth": 1
          },
          "coloraxis": {
           "colorbar": {
            "outlinewidth": 0,
            "ticks": ""
           }
          },
          "colorscale": {
           "diverging": [
            [
             0,
             "#8e0152"
            ],
            [
             0.1,
             "#c51b7d"
            ],
            [
             0.2,
             "#de77ae"
            ],
            [
             0.3,
             "#f1b6da"
            ],
            [
             0.4,
             "#fde0ef"
            ],
            [
             0.5,
             "#f7f7f7"
            ],
            [
             0.6,
             "#e6f5d0"
            ],
            [
             0.7,
             "#b8e186"
            ],
            [
             0.8,
             "#7fbc41"
            ],
            [
             0.9,
             "#4d9221"
            ],
            [
             1,
             "#276419"
            ]
           ],
           "sequential": [
            [
             0,
             "#0d0887"
            ],
            [
             0.1111111111111111,
             "#46039f"
            ],
            [
             0.2222222222222222,
             "#7201a8"
            ],
            [
             0.3333333333333333,
             "#9c179e"
            ],
            [
             0.4444444444444444,
             "#bd3786"
            ],
            [
             0.5555555555555556,
             "#d8576b"
            ],
            [
             0.6666666666666666,
             "#ed7953"
            ],
            [
             0.7777777777777778,
             "#fb9f3a"
            ],
            [
             0.8888888888888888,
             "#fdca26"
            ],
            [
             1,
             "#f0f921"
            ]
           ],
           "sequentialminus": [
            [
             0,
             "#0d0887"
            ],
            [
             0.1111111111111111,
             "#46039f"
            ],
            [
             0.2222222222222222,
             "#7201a8"
            ],
            [
             0.3333333333333333,
             "#9c179e"
            ],
            [
             0.4444444444444444,
             "#bd3786"
            ],
            [
             0.5555555555555556,
             "#d8576b"
            ],
            [
             0.6666666666666666,
             "#ed7953"
            ],
            [
             0.7777777777777778,
             "#fb9f3a"
            ],
            [
             0.8888888888888888,
             "#fdca26"
            ],
            [
             1,
             "#f0f921"
            ]
           ]
          },
          "colorway": [
           "#636efa",
           "#EF553B",
           "#00cc96",
           "#ab63fa",
           "#FFA15A",
           "#19d3f3",
           "#FF6692",
           "#B6E880",
           "#FF97FF",
           "#FECB52"
          ],
          "font": {
           "color": "#2a3f5f"
          },
          "geo": {
           "bgcolor": "white",
           "lakecolor": "white",
           "landcolor": "#E5ECF6",
           "showlakes": true,
           "showland": true,
           "subunitcolor": "white"
          },
          "hoverlabel": {
           "align": "left"
          },
          "hovermode": "closest",
          "mapbox": {
           "style": "light"
          },
          "paper_bgcolor": "white",
          "plot_bgcolor": "#E5ECF6",
          "polar": {
           "angularaxis": {
            "gridcolor": "white",
            "linecolor": "white",
            "ticks": ""
           },
           "bgcolor": "#E5ECF6",
           "radialaxis": {
            "gridcolor": "white",
            "linecolor": "white",
            "ticks": ""
           }
          },
          "scene": {
           "xaxis": {
            "backgroundcolor": "#E5ECF6",
            "gridcolor": "white",
            "gridwidth": 2,
            "linecolor": "white",
            "showbackground": true,
            "ticks": "",
            "zerolinecolor": "white"
           },
           "yaxis": {
            "backgroundcolor": "#E5ECF6",
            "gridcolor": "white",
            "gridwidth": 2,
            "linecolor": "white",
            "showbackground": true,
            "ticks": "",
            "zerolinecolor": "white"
           },
           "zaxis": {
            "backgroundcolor": "#E5ECF6",
            "gridcolor": "white",
            "gridwidth": 2,
            "linecolor": "white",
            "showbackground": true,
            "ticks": "",
            "zerolinecolor": "white"
           }
          },
          "shapedefaults": {
           "line": {
            "color": "#2a3f5f"
           }
          },
          "ternary": {
           "aaxis": {
            "gridcolor": "white",
            "linecolor": "white",
            "ticks": ""
           },
           "baxis": {
            "gridcolor": "white",
            "linecolor": "white",
            "ticks": ""
           },
           "bgcolor": "#E5ECF6",
           "caxis": {
            "gridcolor": "white",
            "linecolor": "white",
            "ticks": ""
           }
          },
          "title": {
           "x": 0.05
          },
          "xaxis": {
           "automargin": true,
           "gridcolor": "white",
           "linecolor": "white",
           "ticks": "",
           "title": {
            "standoff": 15
           },
           "zerolinecolor": "white",
           "zerolinewidth": 2
          },
          "yaxis": {
           "automargin": true,
           "gridcolor": "white",
           "linecolor": "white",
           "ticks": "",
           "title": {
            "standoff": 15
           },
           "zerolinecolor": "white",
           "zerolinewidth": 2
          }
         }
        },
        "yaxis": {
         "range": [
          2.4,
          4
         ]
        }
       }
      },
      "text/html": [
       "<div>\n",
       "        \n",
       "        \n",
       "            <div id=\"6553c1fc-9d0b-43f3-9a4a-4e360c207dca\" class=\"plotly-graph-div\" style=\"height:525px; width:100%;\"></div>\n",
       "            <script type=\"text/javascript\">\n",
       "                require([\"plotly\"], function(Plotly) {\n",
       "                    window.PLOTLYENV=window.PLOTLYENV || {};\n",
       "                    \n",
       "                if (document.getElementById(\"6553c1fc-9d0b-43f3-9a4a-4e360c207dca\")) {\n",
       "                    Plotly.newPlot(\n",
       "                        '6553c1fc-9d0b-43f3-9a4a-4e360c207dca',\n",
       "                        [{\"error_y\": {\"array\": [0.03668747042398959], \"type\": \"data\"}, \"insidetextanchor\": \"middle\", \"marker\": {\"color\": \"#B0C4DE\", \"line\": {\"color\": \"rgb(8,48,107)\", \"width\": 1.5}}, \"name\": \"Human Only\", \"opacity\": 0.8, \"text\": [\"3.91\"], \"textposition\": \"inside\", \"type\": \"bar\", \"x\": [\"\"], \"y\": [3.91]}, {\"error_y\": {\"array\": [0.017637043191166987], \"type\": \"data\"}, \"insidetextanchor\": \"middle\", \"marker\": {\"color\": \"#A9A9A9\", \"line\": {\"color\": \"rgb(8,48,107)\", \"width\": 1.5}}, \"name\": \"Chatbot Only\", \"opacity\": 0.8, \"text\": [\"2.79\"], \"textposition\": \"inside\", \"type\": \"bar\", \"x\": [\"\"], \"y\": [2.79]}, {\"error_y\": {\"array\": [0.047031403814137805, 0.04641859337737749, 0.04740217732416602], \"type\": \"data\"}, \"insidetextanchor\": \"middle\", \"marker\": {\"color\": \"lightsalmon\", \"line\": {\"color\": \"rgb(8,48,107)\", \"width\": 1.5}}, \"name\": \"C1\", \"opacity\": 0.8, \"text\": [\"3.45\", \"3.47\", \"3.54\"], \"textposition\": \"inside\", \"type\": \"bar\", \"x\": [\"1 Suggestion\", \"3 Suggestions\", \"5 Suggestions\"], \"y\": [3.45, 3.47, 3.54]}, {\"error_y\": {\"array\": [0.17044862679118303, 0.16970562748477142, 0.15770994890475076], \"type\": \"data\"}, \"insidetextanchor\": \"middle\", \"marker\": {\"color\": \"#ffdacc\", \"line\": {\"color\": \"rgb(8,48,107)\", \"width\": 1.5}}, \"name\": \"C1 - Chatbot Only\", \"opacity\": 0.8, \"text\": [\"2.98\", \"2.67\", \"2.84\"], \"textposition\": \"inside\", \"type\": \"bar\", \"x\": [\"1 Suggestion\", \"3 Suggestions\", \"5 Suggestions\"], \"y\": [2.98, 2.67, 2.84]}, {\"error_y\": {\"array\": [0.04083158176999925, 0.046186461136752115, 0.04343937258994214], \"type\": \"data\"}, \"insidetextanchor\": \"middle\", \"marker\": {\"color\": \"#AFEEEE\", \"line\": {\"color\": \"rgb(8,48,107)\", \"width\": 1.5}}, \"name\": \"C2\", \"opacity\": 0.8, \"text\": [\"3.31\", \"3.49\", \"3.25\"], \"textposition\": \"inside\", \"type\": \"bar\", \"x\": [\"1 Suggestion\", \"3 Suggestions\", \"5 Suggestions\"], \"y\": [3.31, 3.49, 3.25]}, {\"error_y\": {\"array\": [0.19321570984344186, 0.14483707321600287, 0.13815606800052044], \"type\": \"data\"}, \"insidetextanchor\": \"middle\", \"marker\": {\"color\": \"#eafbfb\", \"line\": {\"color\": \"rgb(8,48,107)\", \"width\": 1.5}}, \"name\": \"C2 - Chatbot Only\", \"opacity\": 0.8, \"text\": [\"2.83\", \"2.8\", \"2.7\"], \"textposition\": \"inside\", \"type\": \"bar\", \"x\": [\"1 Suggestion\", \"3 Suggestions\", \"5 Suggestions\"], \"y\": [2.83, 2.8, 2.7]}],\n",
       "                        {\"font\": {\"size\": 13}, \"legend\": {\"orientation\": \"h\"}, \"template\": {\"data\": {\"bar\": [{\"error_x\": {\"color\": \"#2a3f5f\"}, \"error_y\": {\"color\": \"#2a3f5f\"}, \"marker\": {\"line\": {\"color\": \"#E5ECF6\", \"width\": 0.5}}, \"type\": \"bar\"}], \"barpolar\": [{\"marker\": {\"line\": {\"color\": \"#E5ECF6\", \"width\": 0.5}}, \"type\": \"barpolar\"}], \"carpet\": [{\"aaxis\": {\"endlinecolor\": \"#2a3f5f\", \"gridcolor\": \"white\", \"linecolor\": \"white\", \"minorgridcolor\": \"white\", \"startlinecolor\": \"#2a3f5f\"}, \"baxis\": {\"endlinecolor\": \"#2a3f5f\", \"gridcolor\": \"white\", \"linecolor\": \"white\", \"minorgridcolor\": \"white\", \"startlinecolor\": \"#2a3f5f\"}, \"type\": \"carpet\"}], \"choropleth\": [{\"colorbar\": {\"outlinewidth\": 0, \"ticks\": \"\"}, \"type\": \"choropleth\"}], \"contour\": [{\"colorbar\": {\"outlinewidth\": 0, \"ticks\": \"\"}, \"colorscale\": [[0.0, \"#0d0887\"], [0.1111111111111111, \"#46039f\"], [0.2222222222222222, \"#7201a8\"], [0.3333333333333333, \"#9c179e\"], [0.4444444444444444, \"#bd3786\"], [0.5555555555555556, \"#d8576b\"], [0.6666666666666666, \"#ed7953\"], [0.7777777777777778, \"#fb9f3a\"], [0.8888888888888888, \"#fdca26\"], [1.0, \"#f0f921\"]], \"type\": \"contour\"}], \"contourcarpet\": [{\"colorbar\": {\"outlinewidth\": 0, \"ticks\": \"\"}, \"type\": \"contourcarpet\"}], \"heatmap\": [{\"colorbar\": {\"outlinewidth\": 0, \"ticks\": \"\"}, \"colorscale\": [[0.0, \"#0d0887\"], [0.1111111111111111, \"#46039f\"], [0.2222222222222222, \"#7201a8\"], [0.3333333333333333, \"#9c179e\"], [0.4444444444444444, \"#bd3786\"], [0.5555555555555556, \"#d8576b\"], [0.6666666666666666, \"#ed7953\"], [0.7777777777777778, \"#fb9f3a\"], [0.8888888888888888, \"#fdca26\"], [1.0, \"#f0f921\"]], \"type\": \"heatmap\"}], \"heatmapgl\": [{\"colorbar\": {\"outlinewidth\": 0, \"ticks\": \"\"}, \"colorscale\": [[0.0, \"#0d0887\"], [0.1111111111111111, \"#46039f\"], [0.2222222222222222, \"#7201a8\"], [0.3333333333333333, \"#9c179e\"], [0.4444444444444444, \"#bd3786\"], [0.5555555555555556, \"#d8576b\"], [0.6666666666666666, \"#ed7953\"], [0.7777777777777778, \"#fb9f3a\"], [0.8888888888888888, \"#fdca26\"], [1.0, \"#f0f921\"]], \"type\": \"heatmapgl\"}], \"histogram\": [{\"marker\": {\"colorbar\": {\"outlinewidth\": 0, \"ticks\": \"\"}}, \"type\": \"histogram\"}], \"histogram2d\": [{\"colorbar\": {\"outlinewidth\": 0, \"ticks\": \"\"}, \"colorscale\": [[0.0, \"#0d0887\"], [0.1111111111111111, \"#46039f\"], [0.2222222222222222, \"#7201a8\"], [0.3333333333333333, \"#9c179e\"], [0.4444444444444444, \"#bd3786\"], [0.5555555555555556, \"#d8576b\"], [0.6666666666666666, \"#ed7953\"], [0.7777777777777778, \"#fb9f3a\"], [0.8888888888888888, \"#fdca26\"], [1.0, \"#f0f921\"]], \"type\": \"histogram2d\"}], \"histogram2dcontour\": [{\"colorbar\": {\"outlinewidth\": 0, \"ticks\": \"\"}, \"colorscale\": [[0.0, \"#0d0887\"], [0.1111111111111111, \"#46039f\"], [0.2222222222222222, \"#7201a8\"], [0.3333333333333333, \"#9c179e\"], [0.4444444444444444, \"#bd3786\"], [0.5555555555555556, \"#d8576b\"], [0.6666666666666666, \"#ed7953\"], [0.7777777777777778, \"#fb9f3a\"], [0.8888888888888888, \"#fdca26\"], [1.0, \"#f0f921\"]], \"type\": \"histogram2dcontour\"}], \"mesh3d\": [{\"colorbar\": {\"outlinewidth\": 0, \"ticks\": \"\"}, \"type\": \"mesh3d\"}], \"parcoords\": [{\"line\": {\"colorbar\": {\"outlinewidth\": 0, \"ticks\": \"\"}}, \"type\": \"parcoords\"}], \"pie\": [{\"automargin\": true, \"type\": \"pie\"}], \"scatter\": [{\"marker\": {\"colorbar\": {\"outlinewidth\": 0, \"ticks\": \"\"}}, \"type\": \"scatter\"}], \"scatter3d\": [{\"line\": {\"colorbar\": {\"outlinewidth\": 0, \"ticks\": \"\"}}, \"marker\": {\"colorbar\": {\"outlinewidth\": 0, \"ticks\": \"\"}}, \"type\": \"scatter3d\"}], \"scattercarpet\": [{\"marker\": {\"colorbar\": {\"outlinewidth\": 0, \"ticks\": \"\"}}, \"type\": \"scattercarpet\"}], \"scattergeo\": [{\"marker\": {\"colorbar\": {\"outlinewidth\": 0, \"ticks\": \"\"}}, \"type\": \"scattergeo\"}], \"scattergl\": [{\"marker\": {\"colorbar\": {\"outlinewidth\": 0, \"ticks\": \"\"}}, \"type\": \"scattergl\"}], \"scattermapbox\": [{\"marker\": {\"colorbar\": {\"outlinewidth\": 0, \"ticks\": \"\"}}, \"type\": \"scattermapbox\"}], \"scatterpolar\": [{\"marker\": {\"colorbar\": {\"outlinewidth\": 0, \"ticks\": \"\"}}, \"type\": \"scatterpolar\"}], \"scatterpolargl\": [{\"marker\": {\"colorbar\": {\"outlinewidth\": 0, \"ticks\": \"\"}}, \"type\": \"scatterpolargl\"}], \"scatterternary\": [{\"marker\": {\"colorbar\": {\"outlinewidth\": 0, \"ticks\": \"\"}}, \"type\": \"scatterternary\"}], \"surface\": [{\"colorbar\": {\"outlinewidth\": 0, \"ticks\": \"\"}, \"colorscale\": [[0.0, \"#0d0887\"], [0.1111111111111111, \"#46039f\"], [0.2222222222222222, \"#7201a8\"], [0.3333333333333333, \"#9c179e\"], [0.4444444444444444, \"#bd3786\"], [0.5555555555555556, \"#d8576b\"], [0.6666666666666666, \"#ed7953\"], [0.7777777777777778, \"#fb9f3a\"], [0.8888888888888888, \"#fdca26\"], [1.0, \"#f0f921\"]], \"type\": \"surface\"}], \"table\": [{\"cells\": {\"fill\": {\"color\": \"#EBF0F8\"}, \"line\": {\"color\": \"white\"}}, \"header\": {\"fill\": {\"color\": \"#C8D4E3\"}, \"line\": {\"color\": \"white\"}}, \"type\": \"table\"}]}, \"layout\": {\"annotationdefaults\": {\"arrowcolor\": \"#2a3f5f\", \"arrowhead\": 0, \"arrowwidth\": 1}, \"coloraxis\": {\"colorbar\": {\"outlinewidth\": 0, \"ticks\": \"\"}}, \"colorscale\": {\"diverging\": [[0, \"#8e0152\"], [0.1, \"#c51b7d\"], [0.2, \"#de77ae\"], [0.3, \"#f1b6da\"], [0.4, \"#fde0ef\"], [0.5, \"#f7f7f7\"], [0.6, \"#e6f5d0\"], [0.7, \"#b8e186\"], [0.8, \"#7fbc41\"], [0.9, \"#4d9221\"], [1, \"#276419\"]], \"sequential\": [[0.0, \"#0d0887\"], [0.1111111111111111, \"#46039f\"], [0.2222222222222222, \"#7201a8\"], [0.3333333333333333, \"#9c179e\"], [0.4444444444444444, \"#bd3786\"], [0.5555555555555556, \"#d8576b\"], [0.6666666666666666, \"#ed7953\"], [0.7777777777777778, \"#fb9f3a\"], [0.8888888888888888, \"#fdca26\"], [1.0, \"#f0f921\"]], \"sequentialminus\": [[0.0, \"#0d0887\"], [0.1111111111111111, \"#46039f\"], [0.2222222222222222, \"#7201a8\"], [0.3333333333333333, \"#9c179e\"], [0.4444444444444444, \"#bd3786\"], [0.5555555555555556, \"#d8576b\"], [0.6666666666666666, \"#ed7953\"], [0.7777777777777778, \"#fb9f3a\"], [0.8888888888888888, \"#fdca26\"], [1.0, \"#f0f921\"]]}, \"colorway\": [\"#636efa\", \"#EF553B\", \"#00cc96\", \"#ab63fa\", \"#FFA15A\", \"#19d3f3\", \"#FF6692\", \"#B6E880\", \"#FF97FF\", \"#FECB52\"], \"font\": {\"color\": \"#2a3f5f\"}, \"geo\": {\"bgcolor\": \"white\", \"lakecolor\": \"white\", \"landcolor\": \"#E5ECF6\", \"showlakes\": true, \"showland\": true, \"subunitcolor\": \"white\"}, \"hoverlabel\": {\"align\": \"left\"}, \"hovermode\": \"closest\", \"mapbox\": {\"style\": \"light\"}, \"paper_bgcolor\": \"white\", \"plot_bgcolor\": \"#E5ECF6\", \"polar\": {\"angularaxis\": {\"gridcolor\": \"white\", \"linecolor\": \"white\", \"ticks\": \"\"}, \"bgcolor\": \"#E5ECF6\", \"radialaxis\": {\"gridcolor\": \"white\", \"linecolor\": \"white\", \"ticks\": \"\"}}, \"scene\": {\"xaxis\": {\"backgroundcolor\": \"#E5ECF6\", \"gridcolor\": \"white\", \"gridwidth\": 2, \"linecolor\": \"white\", \"showbackground\": true, \"ticks\": \"\", \"zerolinecolor\": \"white\"}, \"yaxis\": {\"backgroundcolor\": \"#E5ECF6\", \"gridcolor\": \"white\", \"gridwidth\": 2, \"linecolor\": \"white\", \"showbackground\": true, \"ticks\": \"\", \"zerolinecolor\": \"white\"}, \"zaxis\": {\"backgroundcolor\": \"#E5ECF6\", \"gridcolor\": \"white\", \"gridwidth\": 2, \"linecolor\": \"white\", \"showbackground\": true, \"ticks\": \"\", \"zerolinecolor\": \"white\"}}, \"shapedefaults\": {\"line\": {\"color\": \"#2a3f5f\"}}, \"ternary\": {\"aaxis\": {\"gridcolor\": \"white\", \"linecolor\": \"white\", \"ticks\": \"\"}, \"baxis\": {\"gridcolor\": \"white\", \"linecolor\": \"white\", \"ticks\": \"\"}, \"bgcolor\": \"#E5ECF6\", \"caxis\": {\"gridcolor\": \"white\", \"linecolor\": \"white\", \"ticks\": \"\"}}, \"title\": {\"x\": 0.05}, \"xaxis\": {\"automargin\": true, \"gridcolor\": \"white\", \"linecolor\": \"white\", \"ticks\": \"\", \"title\": {\"standoff\": 15}, \"zerolinecolor\": \"white\", \"zerolinewidth\": 2}, \"yaxis\": {\"automargin\": true, \"gridcolor\": \"white\", \"linecolor\": \"white\", \"ticks\": \"\", \"title\": {\"standoff\": 15}, \"zerolinecolor\": \"white\", \"zerolinewidth\": 2}}}, \"yaxis\": {\"range\": [2.4, 4]}},\n",
       "                        {\"responsive\": true}\n",
       "                    ).then(function(){\n",
       "                            \n",
       "var gd = document.getElementById('6553c1fc-9d0b-43f3-9a4a-4e360c207dca');\n",
       "var x = new MutationObserver(function (mutations, observer) {{\n",
       "        var display = window.getComputedStyle(gd).display;\n",
       "        if (!display || display === 'none') {{\n",
       "            console.log([gd, 'removed!']);\n",
       "            Plotly.purge(gd);\n",
       "            observer.disconnect();\n",
       "        }}\n",
       "}});\n",
       "\n",
       "// Listen for the removal of the full notebook cells\n",
       "var notebookContainer = gd.closest('#notebook-container');\n",
       "if (notebookContainer) {{\n",
       "    x.observe(notebookContainer, {childList: true});\n",
       "}}\n",
       "\n",
       "// Listen for the clearing of the current output cell\n",
       "var outputEl = gd.closest('.output');\n",
       "if (outputEl) {{\n",
       "    x.observe(outputEl, {childList: true});\n",
       "}}\n",
       "\n",
       "                        })\n",
       "                };\n",
       "                });\n",
       "            </script>\n",
       "        </div>"
      ]
     },
     "metadata": {},
     "output_type": "display_data"
    }
   ],
   "source": [
    "colors = ['#FAEBD7', '#FFA07A', '#B0C4DE', '#AFEEEE', '#8FBC8F']\n",
    "x = ['1 Suggestion', '3 Suggestions', '5 Suggestions']\n",
    "fig = go.Figure()\n",
    "\n",
    "xHuman = ['']\n",
    "yHuman = [scoresHuman]\n",
    "yHumanErorr = [np.std(z)/math.sqrt(len(z)) for z in yHuman] \n",
    "yHuman = [round(statistics.mean(z), 2) for z in yHuman]\n",
    "\n",
    "fig.add_trace(go.Bar(\n",
    "    name='Human Only',\n",
    "    x=xHuman, y=yHuman, text=yHuman, textposition='inside',insidetextanchor='middle',\n",
    "    marker_color='#B0C4DE',\n",
    "    marker_line_color='rgb(8,48,107)', marker_line_width=1.5, opacity=0.8,\n",
    "    error_y=dict(type='data', array=yHumanErorr)\n",
    "))\n",
    "\n",
    "xBot = ['']\n",
    "yBot = [scoresBot]\n",
    "yBotErorr = [np.std(z)/math.sqrt(len(z)) for z in yBot] \n",
    "yBot = [round(statistics.mean(z), 2) for z in yBot]\n",
    "\n",
    "fig.add_trace(go.Bar(\n",
    "    name='Chatbot Only',\n",
    "    x=xBot, y=yBot, text=yBot, textposition='inside',insidetextanchor='middle',\n",
    "    marker_color='#A9A9A9',\n",
    "    marker_line_color='rgb(8,48,107)', marker_line_width=1.5, opacity=0.8,\n",
    "    error_y=dict(type='data', array=yBotErorr)\n",
    "))\n",
    "\n",
    "\n",
    "ySuggOnly = [sugg1, sugg3, sugg5]\n",
    "ySuggOnlyErorr = [np.std(z)/math.sqrt(len(z)) for z in ySuggOnly] \n",
    "ySuggOnly = [round(statistics.mean(z), 2) for z in ySuggOnly]\n",
    "\n",
    "fig.add_trace(go.Bar(\n",
    "    name='C1',\n",
    "    x=x, y=ySuggOnly, text=ySuggOnly, textposition='inside',insidetextanchor='middle',\n",
    "    marker_color='lightsalmon',\n",
    "    marker_line_color='rgb(8,48,107)', marker_line_width=1.5, opacity=0.8,\n",
    "    error_y=dict(type='data', array=ySuggOnlyErorr)\n",
    "))\n",
    "\n",
    "ySuggOnlyBot = [sugg1Bot, sugg3Bot, sugg5Bot]\n",
    "ySuggOnlyBotErorr = [np.std(z)/math.sqrt(len(z)) for z in ySuggOnlyBot] \n",
    "ySuggOnlyBot = [round(statistics.mean(z), 2) for z in ySuggOnlyBot]\n",
    "\n",
    "fig.add_trace(go.Bar(\n",
    "    name='C1 - Chatbot Only',\n",
    "    x=x, y=ySuggOnlyBot, text=ySuggOnlyBot, textposition='inside',insidetextanchor='middle',\n",
    "    marker_color='#ffdacc',\n",
    "    marker_line_color='rgb(8,48,107)', marker_line_width=1.5, opacity=0.8,\n",
    "    error_y=dict(type='data', array=ySuggOnlyBotErorr)\n",
    "))\n",
    "\n",
    "\n",
    "yAutoSugg = [autoSugg1, autoSugg3, autoSugg5]\n",
    "yAutoSuggErorr = [np.std(z)/math.sqrt(len(z)) for z in yAutoSugg] \n",
    "yAutoSugg = [round(statistics.mean(z), 2) for z in yAutoSugg]\n",
    "\n",
    "fig.add_trace(go.Bar(\n",
    "    name='C2',\n",
    "    x=x, y=yAutoSugg, text=yAutoSugg, textposition='inside',insidetextanchor='middle',\n",
    "    marker_color='#AFEEEE',\n",
    "    marker_line_color='rgb(8,48,107)', marker_line_width=1.5, opacity=0.8,\n",
    "    error_y=dict(type='data', array=yAutoSuggErorr)\n",
    "))\n",
    "\n",
    "\n",
    "yAutoSuggBot = [autoSugg1Bot, autoSugg3Bot, autoSugg5Bot]\n",
    "yAutoSuggBotErorr = [np.std(z)/math.sqrt(len(z)) for z in yAutoSuggBot] \n",
    "yAutoSuggBot = [round(statistics.mean(z), 2) for z in yAutoSuggBot]\n",
    "\n",
    "fig.add_trace(go.Bar(\n",
    "    name='C2 - Chatbot Only',\n",
    "    x=x, y=yAutoSuggBot, text=yAutoSuggBot, textposition='inside',insidetextanchor='middle',\n",
    "    marker_color='#eafbfb',\n",
    "    marker_line_color='rgb(8,48,107)', marker_line_width=1.5, opacity=0.8,\n",
    "    error_y=dict(type='data', array=yAutoSuggBotErorr)\n",
    "))\n",
    "\n",
    "\n",
    "fig.update_layout(\n",
    "    font=dict(\n",
    "        size=13\n",
    "    )\n",
    ")\n",
    "fig.update_yaxes(range=[2.4, 4])\n",
    "\n",
    "fig.update_layout(legend_orientation=\"h\")\n",
    "fig.show()"
   ]
  },
  {
   "cell_type": "code",
   "execution_count": null,
   "metadata": {},
   "outputs": [],
   "source": []
  },
  {
   "cell_type": "code",
   "execution_count": null,
   "metadata": {},
   "outputs": [],
   "source": []
  }
 ],
 "metadata": {
  "kernelspec": {
   "display_name": "Python 3",
   "language": "python",
   "name": "python3"
  },
  "language_info": {
   "codemirror_mode": {
    "name": "ipython",
    "version": 3
   },
   "file_extension": ".py",
   "mimetype": "text/x-python",
   "name": "python",
   "nbconvert_exporter": "python",
   "pygments_lexer": "ipython3",
   "version": "3.7.6"
  }
 },
 "nbformat": 4,
 "nbformat_minor": 4
}
