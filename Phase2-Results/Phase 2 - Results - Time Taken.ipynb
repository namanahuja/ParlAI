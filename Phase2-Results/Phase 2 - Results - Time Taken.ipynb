{
 "cells": [
  {
   "cell_type": "code",
   "execution_count": 72,
   "metadata": {},
   "outputs": [],
   "source": [
    "import os\n",
    "from pathlib import Path\n",
    "import sys\n",
    "import os\n",
    "import _pickle as pickle\n",
    "import json\n",
    "import copy \n",
    "import pandas\n",
    "import numpy as np\n",
    "import matplotlib.pyplot as plt \n",
    "from matplotlib.backends.backend_pdf import PdfPages\n",
    "import csv\n",
    "import json\n",
    "from collections import Counter\n",
    "import statistics "
   ]
  },
  {
   "cell_type": "markdown",
   "metadata": {},
   "source": [
    "# Time Taken"
   ]
  },
  {
   "cell_type": "code",
   "execution_count": 73,
   "metadata": {},
   "outputs": [],
   "source": [
    "timeTaken = []\n",
    "for root, dirs, files in os.walk(\"../clean\"):\n",
    "    for file in files:\n",
    "        if file.endswith(\".json\"):\n",
    "            fileName = os.path.join(root, file)\n",
    "            with open(fileName) as json_file:\n",
    "                try:\n",
    "                    data = json.load(json_file)\n",
    "                    dialogs = data['dialogs']\n",
    "                    \n",
    "                    for i in range(1, len(dialogs)):\n",
    "                        timeTaken.append(dialogs[i]['timeTaken'])\n",
    "                    \n",
    "                    \n",
    "                except Exception as e: print(e)\n",
    "                "
   ]
  },
  {
   "cell_type": "code",
   "execution_count": null,
   "metadata": {},
   "outputs": [],
   "source": []
  },
  {
   "cell_type": "code",
   "execution_count": 74,
   "metadata": {},
   "outputs": [
    {
     "name": "stdout",
     "output_type": "stream",
     "text": [
      "Overall time taken in conversations: 24.218260661236226\n"
     ]
    }
   ],
   "source": [
    "print(\"Overall time taken in conversations: \" + str(statistics.mean(timeTaken)))"
   ]
  },
  {
   "cell_type": "code",
   "execution_count": null,
   "metadata": {},
   "outputs": [],
   "source": []
  },
  {
   "cell_type": "code",
   "execution_count": 75,
   "metadata": {},
   "outputs": [],
   "source": [
    "Set1 = []\n",
    "Set2 = []\n",
    "Set3 = []\n",
    "Set4 = []\n",
    "Set5 = []\n",
    "\n",
    "for root, dirs, files in os.walk(\"../clean\"):\n",
    "    for file in files:\n",
    "        if file.endswith(\".json\"):\n",
    "            fileName = os.path.join(root, file)\n",
    "            with open(fileName) as json_file:\n",
    "                try:\n",
    "                    data = json.load(json_file)\n",
    "                    dialogs = data['dialogs']\n",
    "                    \n",
    "                    if(data['settingNumber'] == 1):\n",
    "                        for i in range(1, len(dialogs)):\n",
    "                            Set1.append(dialogs[i]['timeTaken'])\n",
    "                    \n",
    "                    elif(data['settingNumber'] == 2):\n",
    "                        for i in range(1, len(dialogs)):\n",
    "                            Set2.append(dialogs[i]['timeTaken'])\n",
    "                    \n",
    "                    elif(data['settingNumber'] == 3):\n",
    "                        for i in range(1, len(dialogs)):\n",
    "                            Set3.append(dialogs[i]['timeTaken'])\n",
    "                        \n",
    "                    elif(data['settingNumber'] == 4):\n",
    "                        for i in range(1, len(dialogs)):\n",
    "                            Set4.append(dialogs[i]['timeTaken'])\n",
    "                    \n",
    "                    else:\n",
    "                        for i in range(1, len(dialogs)):\n",
    "                            Set5.append(dialogs[i]['timeTaken'])\n",
    " \n",
    "                    \n",
    "                    \n",
    "                except Exception as e: print(e)"
   ]
  },
  {
   "cell_type": "code",
   "execution_count": 76,
   "metadata": {},
   "outputs": [
    {
     "name": "stdout",
     "output_type": "stream",
     "text": [
      "Setting 1 time taken: 31.2400525\n",
      "Setting 2 time taken: 24.370452734638757\n",
      "Setting 3 time taken: 21.830778250303766\n",
      "Setting 4 time taken: 27.55907962264151\n",
      "Setting 5 time taken: 20.457793987621574\n"
     ]
    }
   ],
   "source": [
    "print(\"Setting 1 time taken: \" + str(statistics.mean(Set1)))\n",
    "print(\"Setting 2 time taken: \" + str(statistics.mean(Set2)))\n",
    "print(\"Setting 3 time taken: \" + str(statistics.mean(Set3)))\n",
    "print(\"Setting 4 time taken: \" + str(statistics.mean(Set4)))\n",
    "print(\"Setting 5 time taken: \" + str(statistics.mean(Set5)))"
   ]
  },
  {
   "cell_type": "markdown",
   "metadata": {},
   "source": [
    "## Setting 2"
   ]
  },
  {
   "cell_type": "code",
   "execution_count": 77,
   "metadata": {},
   "outputs": [],
   "source": [
    "sugg1 = []\n",
    "sugg3 = []\n",
    "sugg5 = []\n",
    "\n",
    "autoSugg1 = []\n",
    "autoSugg3 = []\n",
    "autoSugg5 = []\n",
    "\n",
    "\n",
    "for root, dirs, files in os.walk(\"../clean/Setting 2\"):\n",
    "    for file in files:\n",
    "        if file.endswith(\".json\"):\n",
    "            fileName = os.path.join(root, file)\n",
    "            with open(fileName) as json_file:\n",
    "                try:\n",
    "                    data = json.load(json_file)\n",
    "                    dialogs = data['dialogs']\n",
    "                    \n",
    "                    if(data['autoFilledSuggestion'] == 0):\n",
    "                        \n",
    "                        if(data['suggestionsNumber'] == 1):\n",
    "                            for i in range(1, len(dialogs)):\n",
    "                                sugg1.append(dialogs[i]['timeTaken'])\n",
    "                        \n",
    "                        elif(data['suggestionsNumber'] == 3):\n",
    "                            for i in range(1, len(dialogs)):\n",
    "                                sugg3.append(dialogs[i]['timeTaken'])\n",
    "                        \n",
    "                        elif(data['suggestionsNumber'] == 5):\n",
    "                            for i in range(1, len(dialogs)):\n",
    "                                sugg5.append(dialogs[i]['timeTaken'])\n",
    "                    \n",
    "                    else:\n",
    "                        \n",
    "                        if(data['suggestionsNumber'] == 1):\n",
    "                            for i in range(1, len(dialogs)):\n",
    "                                autoSugg1.append(dialogs[i]['timeTaken'])\n",
    "                        \n",
    "                        elif(data['suggestionsNumber'] == 3):\n",
    "                            for i in range(1, len(dialogs)):\n",
    "                                autoSugg3.append(dialogs[i]['timeTaken'])\n",
    "                        \n",
    "                        elif(data['suggestionsNumber'] == 5):\n",
    "                            for i in range(1, len(dialogs)):\n",
    "                                autoSugg5.append(dialogs[i]['timeTaken'])\n",
    "                    \n",
    "                    \n",
    "                except Exception as e: print(e)"
   ]
  },
  {
   "cell_type": "markdown",
   "metadata": {},
   "source": [
    "### Suggestions Only"
   ]
  },
  {
   "cell_type": "code",
   "execution_count": 78,
   "metadata": {},
   "outputs": [
    {
     "name": "stdout",
     "output_type": "stream",
     "text": [
      "Finished conversations with 1 suggestion(s): 26.304049356223175\n",
      "Finished conversations with 3 suggestion(s): 25.649731092436976\n",
      "Finished conversations with 5 suggestion(s): 29.995435643564356\n"
     ]
    }
   ],
   "source": [
    "print(\"Finished conversations with 1 suggestion(s): \" + str(statistics.mean(sugg1)))\n",
    "print(\"Finished conversations with 3 suggestion(s): \" + str(statistics.mean(sugg3)))\n",
    "print(\"Finished conversations with 5 suggestion(s): \" + str(statistics.mean(sugg5)))"
   ]
  },
  {
   "cell_type": "markdown",
   "metadata": {},
   "source": [
    "### Autofilled Suggestion"
   ]
  },
  {
   "cell_type": "code",
   "execution_count": 79,
   "metadata": {},
   "outputs": [
    {
     "name": "stdout",
     "output_type": "stream",
     "text": [
      "Finished conversations with 1 suggestion(s): 19.93461724137931\n",
      "Finished conversations with 3 suggestion(s): 23.421259842519685\n",
      "Finished conversations with 5 suggestion(s): 22.99259090909091\n"
     ]
    }
   ],
   "source": [
    "print(\"Finished conversations with 1 suggestion(s): \" + str(statistics.mean(autoSugg1)))\n",
    "print(\"Finished conversations with 3 suggestion(s): \" + str(statistics.mean(autoSugg3)))\n",
    "print(\"Finished conversations with 5 suggestion(s): \" + str(statistics.mean(autoSugg5)))"
   ]
  },
  {
   "cell_type": "code",
   "execution_count": null,
   "metadata": {},
   "outputs": [],
   "source": []
  },
  {
   "cell_type": "code",
   "execution_count": 80,
   "metadata": {},
   "outputs": [
    {
     "data": {
      "image/png": "[encoded data removed]",
      "text/plain": [
       "<Figure size 432x288 with 1 Axes>"
      ]
     },
     "metadata": {
      "needs_background": "light"
     },
     "output_type": "display_data"
    }
   ],
   "source": [
    "labels = ['1 sugg.', '3 sugg', '5 sugg']\n",
    "suggMeans = [round(statistics.mean(sugg1), 3), round(statistics.mean(sugg3), 3), round(statistics.mean(sugg5), 3)]\n",
    "sugFilledMeans = [round(statistics.mean(autoSugg1), 3), round(statistics.mean(autoSugg3), 3), round(statistics.mean(autoSugg5), 3)]\n",
    "\n",
    "x = np.arange(len(labels))  # the label locations\n",
    "width = 0.35  # the width of the bars\n",
    "\n",
    "fig, ax = plt.subplots()\n",
    "rects1 = ax.bar(x - width/2, suggMeans, width, label='Suggestions Only')\n",
    "rects2 = ax.bar(x + width/2, sugFilledMeans, width, label='Top Suggestion Filled')\n",
    "\n",
    "\n",
    "ax.set_ylabel('Finished Conversations')\n",
    "#ax.set_title('Finished Conversations in Setting 2')\n",
    "ax.set_xticks(x)\n",
    "ax.set_xticklabels(labels)\n",
    "ax.legend(bbox_to_anchor=(0, 1), loc='lower left', ncol=2)\n",
    "\n",
    "def autolabel(rects):\n",
    "    \"\"\"Attach a text label above each bar in *rects*, displaying its height.\"\"\"\n",
    "    for rect in rects:\n",
    "        height = rect.get_height()\n",
    "        ax.annotate('{}'.format(height),\n",
    "                    xy=(rect.get_x() + rect.get_width() / 2, height),\n",
    "                    xytext=(0, 3),  # 3 points vertical offset\n",
    "                    textcoords=\"offset points\",\n",
    "                    ha='center', va='bottom')\n",
    "\n",
    "\n",
    "autolabel(rects1)\n",
    "autolabel(rects2)\n",
    "\n",
    "fig.tight_layout()\n",
    "\n",
    "plt.show()"
   ]
  },
  {
   "cell_type": "code",
   "execution_count": null,
   "metadata": {},
   "outputs": [],
   "source": []
  },
  {
   "cell_type": "markdown",
   "metadata": {},
   "source": [
    "## Setting 3"
   ]
  },
  {
   "cell_type": "code",
   "execution_count": 81,
   "metadata": {},
   "outputs": [],
   "source": [
    "sugg1 = []\n",
    "sugg3 = []\n",
    "sugg5 = []\n",
    "\n",
    "autoSugg1 = []\n",
    "autoSugg3 = []\n",
    "autoSugg5 = []\n",
    "\n",
    "\n",
    "for root, dirs, files in os.walk(\"../clean/Setting 3\"):\n",
    "    for file in files:\n",
    "        if file.endswith(\".json\"):\n",
    "            fileName = os.path.join(root, file)\n",
    "            with open(fileName) as json_file:\n",
    "                try:\n",
    "                    data = json.load(json_file)\n",
    "                    dialogs = data['dialogs']\n",
    "                    \n",
    "                    if(data['autoFilledSuggestion'] == 0):\n",
    "                        \n",
    "                        if(data['suggestionsNumber'] == 1):\n",
    "                            for i in range(1, len(dialogs)):\n",
    "                                sugg1.append(dialogs[i]['timeTaken'])\n",
    "                        \n",
    "                        elif(data['suggestionsNumber'] == 3):\n",
    "                            for i in range(1, len(dialogs)):\n",
    "                                sugg3.append(dialogs[i]['timeTaken'])\n",
    "                        \n",
    "                        elif(data['suggestionsNumber'] == 5):\n",
    "                            for i in range(1, len(dialogs)):\n",
    "                                sugg5.append(dialogs[i]['timeTaken'])\n",
    "                    \n",
    "                    else:\n",
    "                        \n",
    "                        if(data['suggestionsNumber'] == 1):\n",
    "                            for i in range(1, len(dialogs)):\n",
    "                                autoSugg1.append(dialogs[i]['timeTaken'])\n",
    "                        \n",
    "                        elif(data['suggestionsNumber'] == 3):\n",
    "                            for i in range(1, len(dialogs)):\n",
    "                                autoSugg3.append(dialogs[i]['timeTaken'])\n",
    "                        \n",
    "                        elif(data['suggestionsNumber'] == 5):\n",
    "                            for i in range(1, len(dialogs)):\n",
    "                                autoSugg5.append(dialogs[i]['timeTaken'])\n",
    "                    \n",
    "                    \n",
    "                except Exception as e: print(e)"
   ]
  },
  {
   "cell_type": "markdown",
   "metadata": {},
   "source": [
    "### Suggestions Only"
   ]
  },
  {
   "cell_type": "code",
   "execution_count": 82,
   "metadata": {},
   "outputs": [
    {
     "name": "stdout",
     "output_type": "stream",
     "text": [
      "Finished conversations with 1 suggestion(s): 24.53504183266932\n",
      "Finished conversations with 3 suggestion(s): 20.573201376936318\n",
      "Finished conversations with 5 suggestion(s): 27.973899082568806\n"
     ]
    }
   ],
   "source": [
    "print(\"Finished conversations with 1 suggestion(s): \" + str(statistics.mean(sugg1)))\n",
    "print(\"Finished conversations with 3 suggestion(s): \" + str(statistics.mean(sugg3)))\n",
    "print(\"Finished conversations with 5 suggestion(s): \" + str(statistics.mean(sugg5)))"
   ]
  },
  {
   "cell_type": "markdown",
   "metadata": {},
   "source": [
    "### Autofilled Suggestion\n"
   ]
  },
  {
   "cell_type": "code",
   "execution_count": 83,
   "metadata": {},
   "outputs": [
    {
     "name": "stdout",
     "output_type": "stream",
     "text": [
      "Finished conversations with 1 suggestion(s): 18.10536702954899\n",
      "Finished conversations with 3 suggestion(s): 24.011894422310757\n",
      "Finished conversations with 5 suggestion(s): 18.63846974522293\n"
     ]
    }
   ],
   "source": [
    "print(\"Finished conversations with 1 suggestion(s): \" + str(statistics.mean(autoSugg1)))\n",
    "print(\"Finished conversations with 3 suggestion(s): \" + str(statistics.mean(autoSugg3)))\n",
    "print(\"Finished conversations with 5 suggestion(s): \" + str(statistics.mean(autoSugg5)))"
   ]
  },
  {
   "cell_type": "code",
   "execution_count": 84,
   "metadata": {},
   "outputs": [
    {
     "data": {
      "image/png": "[encoded data removed]",
      "text/plain": [
       "<Figure size 432x288 with 1 Axes>"
      ]
     },
     "metadata": {
      "needs_background": "light"
     },
     "output_type": "display_data"
    }
   ],
   "source": [
    "labels = ['1 sugg.', '3 sugg', '5 sugg']\n",
    "suggMeans = [round(statistics.mean(sugg1), 3), round(statistics.mean(sugg3), 3), round(statistics.mean(sugg5), 3)]\n",
    "sugFilledMeans = [round(statistics.mean(autoSugg1), 3), round(statistics.mean(autoSugg3), 3), round(statistics.mean(autoSugg5), 3)]\n",
    "\n",
    "x = np.arange(len(labels))  # the label locations\n",
    "width = 0.35  # the width of the bars\n",
    "\n",
    "fig, ax = plt.subplots()\n",
    "rects1 = ax.bar(x - width/2, suggMeans, width, label='Suggestions Only')\n",
    "rects2 = ax.bar(x + width/2, sugFilledMeans, width, label='Top Suggestion Filled')\n",
    "\n",
    "\n",
    "ax.set_ylabel('Finished Conversations')\n",
    "#ax.set_title('Finished Conversations in Setting 2')\n",
    "ax.set_xticks(x)\n",
    "ax.set_xticklabels(labels)\n",
    "ax.legend(bbox_to_anchor=(0, 1), loc='lower left', ncol=2)\n",
    "\n",
    "def autolabel(rects):\n",
    "    \"\"\"Attach a text label above each bar in *rects*, displaying its height.\"\"\"\n",
    "    for rect in rects:\n",
    "        height = rect.get_height()\n",
    "        ax.annotate('{}'.format(height),\n",
    "                    xy=(rect.get_x() + rect.get_width() / 2, height),\n",
    "                    xytext=(0, 3),  # 3 points vertical offset\n",
    "                    textcoords=\"offset points\",\n",
    "                    ha='center', va='bottom')\n",
    "\n",
    "\n",
    "autolabel(rects1)\n",
    "autolabel(rects2)\n",
    "\n",
    "fig.tight_layout()\n",
    "\n",
    "plt.show()"
   ]
  },
  {
   "cell_type": "code",
   "execution_count": null,
   "metadata": {},
   "outputs": [],
   "source": []
  },
  {
   "cell_type": "markdown",
   "metadata": {},
   "source": [
    "## Setting 4"
   ]
  },
  {
   "cell_type": "code",
   "execution_count": 85,
   "metadata": {},
   "outputs": [],
   "source": [
    "sugg1 = []\n",
    "sugg3 = []\n",
    "sugg5 = []\n",
    "\n",
    "autoSugg1 = []\n",
    "autoSugg3 = []\n",
    "autoSugg5 = []\n",
    "\n",
    "\n",
    "for root, dirs, files in os.walk(\"../clean/Setting 4\"):\n",
    "    for file in files:\n",
    "        if file.endswith(\".json\"):\n",
    "            fileName = os.path.join(root, file)\n",
    "            with open(fileName) as json_file:\n",
    "                try:\n",
    "                    data = json.load(json_file)\n",
    "                    dialogs = data['dialogs']\n",
    "                    \n",
    "                    if(data['autoFilledSuggestion'] == 0):\n",
    "                        \n",
    "                        if(data['suggestionsNumber'] == 1):\n",
    "                            for i in range(1, len(dialogs)):\n",
    "                                sugg1.append(dialogs[i]['timeTaken'])\n",
    "                        \n",
    "                        elif(data['suggestionsNumber'] == 3):\n",
    "                            for i in range(1, len(dialogs)):\n",
    "                                sugg3.append(dialogs[i]['timeTaken'])\n",
    "                        \n",
    "                        elif(data['suggestionsNumber'] == 5):\n",
    "                            for i in range(1, len(dialogs)):\n",
    "                                sugg5.append(dialogs[i]['timeTaken'])\n",
    "                    \n",
    "                    else:\n",
    "                        \n",
    "                        if(data['suggestionsNumber'] == 1):\n",
    "                            for i in range(1, len(dialogs)):\n",
    "                                autoSugg1.append(dialogs[i]['timeTaken'])\n",
    "                        \n",
    "                        elif(data['suggestionsNumber'] == 3):\n",
    "                            for i in range(1, len(dialogs)):\n",
    "                                autoSugg3.append(dialogs[i]['timeTaken'])\n",
    "                        \n",
    "                        elif(data['suggestionsNumber'] == 5):\n",
    "                            for i in range(1, len(dialogs)):\n",
    "                                autoSugg5.append(dialogs[i]['timeTaken'])\n",
    "                    \n",
    "                    \n",
    "                except Exception as e: print(e)"
   ]
  },
  {
   "cell_type": "markdown",
   "metadata": {},
   "source": [
    "### Suggestions Only"
   ]
  },
  {
   "cell_type": "code",
   "execution_count": 86,
   "metadata": {},
   "outputs": [
    {
     "name": "stdout",
     "output_type": "stream",
     "text": [
      "Finished conversations with 1 suggestion(s): 28.016237986270024\n",
      "Finished conversations with 3 suggestion(s): 32.35334366925065\n",
      "Finished conversations with 5 suggestion(s): 34.82322752808989\n"
     ]
    }
   ],
   "source": [
    "print(\"Finished conversations with 1 suggestion(s): \" + str(statistics.mean(sugg1)))\n",
    "print(\"Finished conversations with 3 suggestion(s): \" + str(statistics.mean(sugg3)))\n",
    "print(\"Finished conversations with 5 suggestion(s): \" + str(statistics.mean(sugg5)))"
   ]
  },
  {
   "cell_type": "markdown",
   "metadata": {},
   "source": [
    "### Autofilled Suggestion"
   ]
  },
  {
   "cell_type": "code",
   "execution_count": 87,
   "metadata": {},
   "outputs": [
    {
     "name": "stdout",
     "output_type": "stream",
     "text": [
      "Finished conversations with 1 suggestion(s): 19.745777397260273\n",
      "Finished conversations with 3 suggestion(s): 31.573556430446196\n",
      "Finished conversations with 5 suggestion(s): 24.375431683168316\n"
     ]
    }
   ],
   "source": [
    "print(\"Finished conversations with 1 suggestion(s): \" + str(statistics.mean(autoSugg1)))\n",
    "print(\"Finished conversations with 3 suggestion(s): \" + str(statistics.mean(autoSugg3)))\n",
    "print(\"Finished conversations with 5 suggestion(s): \" + str(statistics.mean(autoSugg5)))"
   ]
  },
  {
   "cell_type": "code",
   "execution_count": 88,
   "metadata": {},
   "outputs": [
    {
     "data": {
      "image/png": "[encoded data removed]",
      "text/plain": [
       "<Figure size 432x288 with 1 Axes>"
      ]
     },
     "metadata": {
      "needs_background": "light"
     },
     "output_type": "display_data"
    }
   ],
   "source": [
    "labels = ['1 sugg.', '3 sugg', '5 sugg']\n",
    "suggMeans = [round(statistics.mean(sugg1), 3), round(statistics.mean(sugg3), 3), round(statistics.mean(sugg5), 3)]\n",
    "sugFilledMeans = [round(statistics.mean(autoSugg1), 3), round(statistics.mean(autoSugg3), 3), round(statistics.mean(autoSugg5), 3)]\n",
    "\n",
    "x = np.arange(len(labels))  # the label locations\n",
    "width = 0.35  # the width of the bars\n",
    "\n",
    "fig, ax = plt.subplots()\n",
    "rects1 = ax.bar(x - width/2, suggMeans, width, label='Suggestions Only')\n",
    "rects2 = ax.bar(x + width/2, sugFilledMeans, width, label='Top Suggestion Filled')\n",
    "\n",
    "\n",
    "ax.set_ylabel('Finished Conversations')\n",
    "#ax.set_title('Finished Conversations in Setting 2')\n",
    "ax.set_xticks(x)\n",
    "ax.set_xticklabels(labels)\n",
    "ax.legend(bbox_to_anchor=(0, 1), loc='lower left', ncol=2)\n",
    "\n",
    "def autolabel(rects):\n",
    "    \"\"\"Attach a text label above each bar in *rects*, displaying its height.\"\"\"\n",
    "    for rect in rects:\n",
    "        height = rect.get_height()\n",
    "        ax.annotate('{}'.format(height),\n",
    "                    xy=(rect.get_x() + rect.get_width() / 2, height),\n",
    "                    xytext=(0, 3),  # 3 points vertical offset\n",
    "                    textcoords=\"offset points\",\n",
    "                    ha='center', va='bottom')\n",
    "\n",
    "\n",
    "autolabel(rects1)\n",
    "autolabel(rects2)\n",
    "\n",
    "fig.tight_layout()\n",
    "\n",
    "plt.show()"
   ]
  },
  {
   "cell_type": "code",
   "execution_count": null,
   "metadata": {},
   "outputs": [],
   "source": []
  },
  {
   "cell_type": "markdown",
   "metadata": {},
   "source": [
    "## Setting 5"
   ]
  },
  {
   "cell_type": "code",
   "execution_count": 89,
   "metadata": {},
   "outputs": [],
   "source": [
    "\n",
    "sugg1 = []\n",
    "\n",
    "autoSugg1 = []\n",
    "\n",
    "\n",
    "for root, dirs, files in os.walk(\"../clean/Setting 5\"):\n",
    "    for file in files:\n",
    "        if file.endswith(\".json\"):\n",
    "            fileName = os.path.join(root, file)\n",
    "            with open(fileName) as json_file:\n",
    "                try:\n",
    "                    data = json.load(json_file)\n",
    "                    dialogs = data['dialogs']\n",
    "                    \n",
    "                    \n",
    "                    if(data['autoFilledSuggestion'] == 0):\n",
    "                        \n",
    "                        if(data['suggestionsNumber'] == 1):\n",
    "                            for i in range(1, len(dialogs)):\n",
    "                                sugg1.append(dialogs[i]['timeTaken'])\n",
    "                        \n",
    "                       \n",
    "                    else:\n",
    "                        \n",
    "                        if(data['suggestionsNumber'] == 1):\n",
    "                            for i in range(1, len(dialogs)):\n",
    "                                autoSugg1.append(dialogs[i]['timeTaken'])\n",
    "                    \n",
    "                    \n",
    "                except Exception as e: print(e)\n",
    "\n"
   ]
  },
  {
   "cell_type": "markdown",
   "metadata": {},
   "source": [
    "### Suggestions Only"
   ]
  },
  {
   "cell_type": "code",
   "execution_count": 90,
   "metadata": {},
   "outputs": [
    {
     "name": "stdout",
     "output_type": "stream",
     "text": [
      "Finished conversations with 1 suggestion(s): 22.280836575875487\n"
     ]
    }
   ],
   "source": [
    "print(\"Finished conversations with 1 suggestion(s): \" + str(statistics.mean(sugg1)))\n"
   ]
  },
  {
   "cell_type": "markdown",
   "metadata": {},
   "source": [
    "### Autofilled Suggestion"
   ]
  },
  {
   "cell_type": "code",
   "execution_count": 91,
   "metadata": {},
   "outputs": [
    {
     "name": "stdout",
     "output_type": "stream",
     "text": [
      "Finished conversations with 1 suggestion(s): 18.939084278768235\n"
     ]
    }
   ],
   "source": [
    "print(\"Finished conversations with 1 suggestion(s): \" + str(statistics.mean(autoSugg1)))\n"
   ]
  },
  {
   "cell_type": "code",
   "execution_count": 92,
   "metadata": {},
   "outputs": [
    {
     "data": {
      "image/png": "[encoded data removed]",
      "text/plain": [
       "<Figure size 432x288 with 1 Axes>"
      ]
     },
     "metadata": {
      "needs_background": "light"
     },
     "output_type": "display_data"
    }
   ],
   "source": [
    "labels = ['1 sugg.']\n",
    "suggMeans = [round(statistics.mean(sugg1), 3)]\n",
    "sugFilledMeans = [round(statistics.mean(autoSugg1), 3)]\n",
    "\n",
    "x = np.arange(len(labels))  # the label locations\n",
    "width = 0.35  # the width of the bars\n",
    "\n",
    "fig, ax = plt.subplots()\n",
    "rects1 = ax.bar(x - width/2, suggMeans, width, label='Suggestions Only')\n",
    "rects2 = ax.bar(x + width/2, sugFilledMeans, width, label='Top Suggestion Filled')\n",
    "\n",
    "\n",
    "ax.set_ylabel('Finished Conversations')\n",
    "#ax.set_title('Finished Conversations in Setting 2')\n",
    "ax.set_xticks(x)\n",
    "ax.set_xticklabels(labels)\n",
    "ax.legend(bbox_to_anchor=(0, 1), loc='lower left', ncol=2)\n",
    "\n",
    "def autolabel(rects):\n",
    "    \"\"\"Attach a text label above each bar in *rects*, displaying its height.\"\"\"\n",
    "    for rect in rects:\n",
    "        height = rect.get_height()\n",
    "        ax.annotate('{}'.format(height),\n",
    "                    xy=(rect.get_x() + rect.get_width() / 2, height),\n",
    "                    xytext=(0, 3),  # 3 points vertical offset\n",
    "                    textcoords=\"offset points\",\n",
    "                    ha='center', va='bottom')\n",
    "\n",
    "\n",
    "autolabel(rects1)\n",
    "autolabel(rects2)\n",
    "\n",
    "fig.tight_layout()\n",
    "\n",
    "plt.show()"
   ]
  },
  {
   "cell_type": "code",
   "execution_count": null,
   "metadata": {},
   "outputs": [],
   "source": []
  },
  {
   "cell_type": "code",
   "execution_count": null,
   "metadata": {},
   "outputs": [],
   "source": []
  },
  {
   "cell_type": "code",
   "execution_count": null,
   "metadata": {},
   "outputs": [],
   "source": []
  }
 ],
 "metadata": {
  "kernelspec": {
   "display_name": "Python 3",
   "language": "python",
   "name": "python3"
  },
  "language_info": {
   "codemirror_mode": {
    "name": "ipython",
    "version": 3
   },
   "file_extension": ".py",
   "mimetype": "text/x-python",
   "name": "python",
   "nbconvert_exporter": "python",
   "pygments_lexer": "ipython3",
   "version": "3.7.1"
  }
 },
 "nbformat": 4,
 "nbformat_minor": 2
}
