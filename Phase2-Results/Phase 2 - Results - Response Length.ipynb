{
 "cells": [
  {
   "cell_type": "code",
   "execution_count": 1,
   "metadata": {},
   "outputs": [],
   "source": [
    "import os\n",
    "from pathlib import Path\n",
    "import sys\n",
    "import os\n",
    "import _pickle as pickle\n",
    "import json\n",
    "import copy \n",
    "import pandas\n",
    "import numpy as np\n",
    "import matplotlib.pyplot as plt \n",
    "from matplotlib.backends.backend_pdf import PdfPages\n",
    "import csv\n",
    "import json\n",
    "from collections import Counter\n",
    "import statistics \n",
    "import plotly.graph_objects as go\n",
    "import math\n",
    "from itertools import combinations\n",
    "from scipy.stats import ttest_ind"
   ]
  },
  {
   "cell_type": "code",
   "execution_count": 29,
   "metadata": {},
   "outputs": [],
   "source": [
    "import decimal\n",
    "\n",
    "# create a new context for this task\n",
    "ctx = decimal.Context()\n",
    "\n",
    "# 20 digits should be enough for everyone :D\n",
    "ctx.prec = 20\n",
    "\n",
    "def float_to_str(f):\n",
    "    \"\"\"\n",
    "    Convert the given float to a string,\n",
    "    without resorting to scientific notation\n",
    "    \"\"\"\n",
    "    d1 = ctx.create_decimal(repr(f))\n",
    "    return format(d1, 'f')"
   ]
  },
  {
   "cell_type": "markdown",
   "metadata": {},
   "source": [
    "# Response Length"
   ]
  },
  {
   "cell_type": "code",
   "execution_count": 30,
   "metadata": {},
   "outputs": [],
   "source": [
    "responseLen = []\n",
    "for root, dirs, files in os.walk(\"../clean\"):\n",
    "    for file in files:\n",
    "        if file.endswith(\".json\"):\n",
    "            fileName = os.path.join(root, file)\n",
    "            with open(fileName) as json_file:\n",
    "                try:\n",
    "                    data = json.load(json_file)\n",
    "                    dialogs = data['dialogs']\n",
    "                    \n",
    "                    for i in range(1, len(dialogs)):\n",
    "                        responseLen.append(len(dialogs[i]['context']['userResponse']))\n",
    "                    \n",
    "                    \n",
    "                except Exception as e: print(e)\n",
    "                "
   ]
  },
  {
   "cell_type": "code",
   "execution_count": null,
   "metadata": {},
   "outputs": [],
   "source": []
  },
  {
   "cell_type": "code",
   "execution_count": 31,
   "metadata": {},
   "outputs": [
    {
     "name": "stdout",
     "output_type": "stream",
     "text": [
      "Overall conversation response length: 104.00680402491615\n"
     ]
    }
   ],
   "source": [
    "print(\"Overall conversation response length: \" + str(statistics.mean(responseLen)))"
   ]
  },
  {
   "cell_type": "code",
   "execution_count": null,
   "metadata": {},
   "outputs": [],
   "source": []
  },
  {
   "cell_type": "code",
   "execution_count": 32,
   "metadata": {},
   "outputs": [],
   "source": [
    "Set1 = []\n",
    "Set2 = []\n",
    "Set3 = []\n",
    "Set4 = []\n",
    "Set5 = []\n",
    "\n",
    "bot1 = []\n",
    "bot2 = []\n",
    "bot3 = []\n",
    "bot4 = []\n",
    "bot5 = []\n",
    "\n",
    "for root, dirs, files in os.walk(\"../clean\"):\n",
    "    for file in files:\n",
    "        if file.endswith(\".json\"):\n",
    "            fileName = os.path.join(root, file)\n",
    "            with open(fileName) as json_file:\n",
    "                try:\n",
    "                    data = json.load(json_file)\n",
    "                    dialogs = data['dialogs']\n",
    "                    \n",
    "                    if(data['settingNumber'] == 1):\n",
    "                        for i in range(1, len(dialogs)):\n",
    "                            Set1.append(len(dialogs[i]['context']['userResponse']))\n",
    "                            \n",
    "                    elif(data['settingNumber'] == 2):\n",
    "                        for i in range(1, len(dialogs)):\n",
    "                            Set2.append(len(dialogs[i]['context']['userResponse']))\n",
    "                            bot2.append(len(dialogs[i]['context']['suggestions'][0]))\n",
    "                    \n",
    "                    elif(data['settingNumber'] == 3):\n",
    "                        for i in range(1, len(dialogs)):\n",
    "                            Set3.append(len(dialogs[i]['context']['userResponse']))\n",
    "                            bot3.append(len(dialogs[i]['context']['suggestions'][0]))\n",
    "                        \n",
    "                    elif(data['settingNumber'] == 4):\n",
    "                        for i in range(1, len(dialogs)):\n",
    "                            Set4.append(len(dialogs[i]['context']['userResponse']))\n",
    "                            bot4.append(len(dialogs[i]['context']['suggestions'][0]))\n",
    "                    \n",
    "                    else:\n",
    "                        for i in range(1, len(dialogs)):\n",
    "                            Set5.append(len(dialogs[i]['context']['userResponse']))\n",
    "                            bot5.append(len(dialogs[i]['context']['suggestions'][0]))\n",
    " \n",
    "                    \n",
    "                    \n",
    "                except Exception as e: print(e)"
   ]
  },
  {
   "cell_type": "code",
   "execution_count": 33,
   "metadata": {},
   "outputs": [
    {
     "name": "stdout",
     "output_type": "stream",
     "text": [
      "Setting 1: 60.9\n",
      "Setting 2: 145.23936529372045\n",
      "Setting 3: 102.88122721749696\n",
      "Setting 4: 77.99622641509434\n",
      "Setting 5: 75.48806366047745\n"
     ]
    }
   ],
   "source": [
    "print(\"Setting 1: \" + str(statistics.mean(Set1)))\n",
    "print(\"Setting 2: \" + str(statistics.mean(Set2)))\n",
    "print(\"Setting 3: \" + str(statistics.mean(Set3)))\n",
    "print(\"Setting 4: \" + str(statistics.mean(Set4)))\n",
    "print(\"Setting 5: \" + str(statistics.mean(Set5)))"
   ]
  },
  {
   "cell_type": "code",
   "execution_count": 34,
   "metadata": {},
   "outputs": [
    {
     "name": "stdout",
     "output_type": "stream",
     "text": [
      "1 2 0.000000000000000000000000000000000000000000000000000000000000000000000000000000000000000000000000000000000000000000000000000000000000000000000000000000000000000000004155758273794778\n",
      "1 3 0.000000000000000000000000000000000000000000000000000000000000000001451317648633724\n",
      "1 4 0.000000000000010761868362784642\n",
      "1 5 0.0000000000788691943157095\n",
      "2 3 0.00000000000000000000000000000000000000000000000000000000000000000000000000000000000000000000000000680600081365914\n",
      "2 4 0.00000000000000000000000000000000000000000000000000000000000000000000000000000000000000000000000000000000000000000000000000000000000000000000000000000000000000000000000000000000000000000000000000000000000000000000000000000014523071062122981\n",
      "2 5 0.0000000000000000000000000000000000000000000000000000000000000000000000000000000000000000000000000000000000000000000000000000000000000000000000000000000000000000000000000000000000000000000000000000000000000000000000000000000036284802845721786\n",
      "3 4 0.0000000000000000000000000000000000000000000000000000000000000000000000000000000010765497822273193\n",
      "3 5 0.0000000000000000000000000000000000000000000000000000000000000000000000000000000000036581945044694826\n",
      "4 5 0.07492243450708229\n"
     ]
    }
   ],
   "source": [
    "settings = {\n",
    "    '1': Set1,\n",
    "    '2': Set2,\n",
    "    '3': Set3,\n",
    "    '4': Set4,\n",
    "    '5': Set5\n",
    "}\n",
    "\n",
    "for list1, list2 in combinations(settings.keys(), 2):\n",
    "    t, p = ttest_ind(settings[list1], settings[list2], equal_var = False)\n",
    "    print (list1, list2, float_to_str(p))"
   ]
  },
  {
   "cell_type": "code",
   "execution_count": 35,
   "metadata": {},
   "outputs": [
    {
     "data": {
      "application/vnd.plotly.v1+json": {
       "config": {
        "plotlyServerURL": "https://plot.ly"
       },
       "data": [
        {
         "error_y": {
          "array": [
           1.9383530380196483,
           1.7520824203517011,
           0.8679215297745723,
           0.9392705229644726,
           1.0480667408099709
          ],
          "type": "data"
         },
         "insidetextanchor": "middle",
         "marker": {
          "color": [
           "#FAEBD7",
           "#FFA07A",
           "#B0C4DE",
           "#AFEEEE",
           "#8FBC8F"
          ],
          "line": {
           "color": "rgb(8,48,107)",
           "width": 1.5
          }
         },
         "name": "Setting",
         "opacity": 0.8,
         "text": [
          "60.9",
          "145.24",
          "102.88",
          "78.0",
          "75.49"
         ],
         "textposition": "inside",
         "type": "bar",
         "x": [
          "Setting 1 (H)",
          "Setting 2",
          "Setting 3",
          "Setting 4",
          "Setting 5"
         ],
         "y": [
          60.9,
          145.24,
          102.88,
          78,
          75.49
         ]
        }
       ],
       "layout": {
        "template": {
         "data": {
          "bar": [
           {
            "error_x": {
             "color": "#2a3f5f"
            },
            "error_y": {
             "color": "#2a3f5f"
            },
            "marker": {
             "line": {
              "color": "#E5ECF6",
              "width": 0.5
             }
            },
            "type": "bar"
           }
          ],
          "barpolar": [
           {
            "marker": {
             "line": {
              "color": "#E5ECF6",
              "width": 0.5
             }
            },
            "type": "barpolar"
           }
          ],
          "carpet": [
           {
            "aaxis": {
             "endlinecolor": "#2a3f5f",
             "gridcolor": "white",
             "linecolor": "white",
             "minorgridcolor": "white",
             "startlinecolor": "#2a3f5f"
            },
            "baxis": {
             "endlinecolor": "#2a3f5f",
             "gridcolor": "white",
             "linecolor": "white",
             "minorgridcolor": "white",
             "startlinecolor": "#2a3f5f"
            },
            "type": "carpet"
           }
          ],
          "choropleth": [
           {
            "colorbar": {
             "outlinewidth": 0,
             "ticks": ""
            },
            "type": "choropleth"
           }
          ],
          "contour": [
           {
            "colorbar": {
             "outlinewidth": 0,
             "ticks": ""
            },
            "colorscale": [
             [
              0,
              "#0d0887"
             ],
             [
              0.1111111111111111,
              "#46039f"
             ],
             [
              0.2222222222222222,
              "#7201a8"
             ],
             [
              0.3333333333333333,
              "#9c179e"
             ],
             [
              0.4444444444444444,
              "#bd3786"
             ],
             [
              0.5555555555555556,
              "#d8576b"
             ],
             [
              0.6666666666666666,
              "#ed7953"
             ],
             [
              0.7777777777777778,
              "#fb9f3a"
             ],
             [
              0.8888888888888888,
              "#fdca26"
             ],
             [
              1,
              "#f0f921"
             ]
            ],
            "type": "contour"
           }
          ],
          "contourcarpet": [
           {
            "colorbar": {
             "outlinewidth": 0,
             "ticks": ""
            },
            "type": "contourcarpet"
           }
          ],
          "heatmap": [
           {
            "colorbar": {
             "outlinewidth": 0,
             "ticks": ""
            },
            "colorscale": [
             [
              0,
              "#0d0887"
             ],
             [
              0.1111111111111111,
              "#46039f"
             ],
             [
              0.2222222222222222,
              "#7201a8"
             ],
             [
              0.3333333333333333,
              "#9c179e"
             ],
             [
              0.4444444444444444,
              "#bd3786"
             ],
             [
              0.5555555555555556,
              "#d8576b"
             ],
             [
              0.6666666666666666,
              "#ed7953"
             ],
             [
              0.7777777777777778,
              "#fb9f3a"
             ],
             [
              0.8888888888888888,
              "#fdca26"
             ],
             [
              1,
              "#f0f921"
             ]
            ],
            "type": "heatmap"
           }
          ],
          "heatmapgl": [
           {
            "colorbar": {
             "outlinewidth": 0,
             "ticks": ""
            },
            "colorscale": [
             [
              0,
              "#0d0887"
             ],
             [
              0.1111111111111111,
              "#46039f"
             ],
             [
              0.2222222222222222,
              "#7201a8"
             ],
             [
              0.3333333333333333,
              "#9c179e"
             ],
             [
              0.4444444444444444,
              "#bd3786"
             ],
             [
              0.5555555555555556,
              "#d8576b"
             ],
             [
              0.6666666666666666,
              "#ed7953"
             ],
             [
              0.7777777777777778,
              "#fb9f3a"
             ],
             [
              0.8888888888888888,
              "#fdca26"
             ],
             [
              1,
              "#f0f921"
             ]
            ],
            "type": "heatmapgl"
           }
          ],
          "histogram": [
           {
            "marker": {
             "colorbar": {
              "outlinewidth": 0,
              "ticks": ""
             }
            },
            "type": "histogram"
           }
          ],
          "histogram2d": [
           {
            "colorbar": {
             "outlinewidth": 0,
             "ticks": ""
            },
            "colorscale": [
             [
              0,
              "#0d0887"
             ],
             [
              0.1111111111111111,
              "#46039f"
             ],
             [
              0.2222222222222222,
              "#7201a8"
             ],
             [
              0.3333333333333333,
              "#9c179e"
             ],
             [
              0.4444444444444444,
              "#bd3786"
             ],
             [
              0.5555555555555556,
              "#d8576b"
             ],
             [
              0.6666666666666666,
              "#ed7953"
             ],
             [
              0.7777777777777778,
              "#fb9f3a"
             ],
             [
              0.8888888888888888,
              "#fdca26"
             ],
             [
              1,
              "#f0f921"
             ]
            ],
            "type": "histogram2d"
           }
          ],
          "histogram2dcontour": [
           {
            "colorbar": {
             "outlinewidth": 0,
             "ticks": ""
            },
            "colorscale": [
             [
              0,
              "#0d0887"
             ],
             [
              0.1111111111111111,
              "#46039f"
             ],
             [
              0.2222222222222222,
              "#7201a8"
             ],
             [
              0.3333333333333333,
              "#9c179e"
             ],
             [
              0.4444444444444444,
              "#bd3786"
             ],
             [
              0.5555555555555556,
              "#d8576b"
             ],
             [
              0.6666666666666666,
              "#ed7953"
             ],
             [
              0.7777777777777778,
              "#fb9f3a"
             ],
             [
              0.8888888888888888,
              "#fdca26"
             ],
             [
              1,
              "#f0f921"
             ]
            ],
            "type": "histogram2dcontour"
           }
          ],
          "mesh3d": [
           {
            "colorbar": {
             "outlinewidth": 0,
             "ticks": ""
            },
            "type": "mesh3d"
           }
          ],
          "parcoords": [
           {
            "line": {
             "colorbar": {
              "outlinewidth": 0,
              "ticks": ""
             }
            },
            "type": "parcoords"
           }
          ],
          "pie": [
           {
            "automargin": true,
            "type": "pie"
           }
          ],
          "scatter": [
           {
            "marker": {
             "colorbar": {
              "outlinewidth": 0,
              "ticks": ""
             }
            },
            "type": "scatter"
           }
          ],
          "scatter3d": [
           {
            "line": {
             "colorbar": {
              "outlinewidth": 0,
              "ticks": ""
             }
            },
            "marker": {
             "colorbar": {
              "outlinewidth": 0,
              "ticks": ""
             }
            },
            "type": "scatter3d"
           }
          ],
          "scattercarpet": [
           {
            "marker": {
             "colorbar": {
              "outlinewidth": 0,
              "ticks": ""
             }
            },
            "type": "scattercarpet"
           }
          ],
          "scattergeo": [
           {
            "marker": {
             "colorbar": {
              "outlinewidth": 0,
              "ticks": ""
             }
            },
            "type": "scattergeo"
           }
          ],
          "scattergl": [
           {
            "marker": {
             "colorbar": {
              "outlinewidth": 0,
              "ticks": ""
             }
            },
            "type": "scattergl"
           }
          ],
          "scattermapbox": [
           {
            "marker": {
             "colorbar": {
              "outlinewidth": 0,
              "ticks": ""
             }
            },
            "type": "scattermapbox"
           }
          ],
          "scatterpolar": [
           {
            "marker": {
             "colorbar": {
              "outlinewidth": 0,
              "ticks": ""
             }
            },
            "type": "scatterpolar"
           }
          ],
          "scatterpolargl": [
           {
            "marker": {
             "colorbar": {
              "outlinewidth": 0,
              "ticks": ""
             }
            },
            "type": "scatterpolargl"
           }
          ],
          "scatterternary": [
           {
            "marker": {
             "colorbar": {
              "outlinewidth": 0,
              "ticks": ""
             }
            },
            "type": "scatterternary"
           }
          ],
          "surface": [
           {
            "colorbar": {
             "outlinewidth": 0,
             "ticks": ""
            },
            "colorscale": [
             [
              0,
              "#0d0887"
             ],
             [
              0.1111111111111111,
              "#46039f"
             ],
             [
              0.2222222222222222,
              "#7201a8"
             ],
             [
              0.3333333333333333,
              "#9c179e"
             ],
             [
              0.4444444444444444,
              "#bd3786"
             ],
             [
              0.5555555555555556,
              "#d8576b"
             ],
             [
              0.6666666666666666,
              "#ed7953"
             ],
             [
              0.7777777777777778,
              "#fb9f3a"
             ],
             [
              0.8888888888888888,
              "#fdca26"
             ],
             [
              1,
              "#f0f921"
             ]
            ],
            "type": "surface"
           }
          ],
          "table": [
           {
            "cells": {
             "fill": {
              "color": "#EBF0F8"
             },
             "line": {
              "color": "white"
             }
            },
            "header": {
             "fill": {
              "color": "#C8D4E3"
             },
             "line": {
              "color": "white"
             }
            },
            "type": "table"
           }
          ]
         },
         "layout": {
          "annotationdefaults": {
           "arrowcolor": "#2a3f5f",
           "arrowhead": 0,
           "arrowwidth": 1
          },
          "coloraxis": {
           "colorbar": {
            "outlinewidth": 0,
            "ticks": ""
           }
          },
          "colorscale": {
           "diverging": [
            [
             0,
             "#8e0152"
            ],
            [
             0.1,
             "#c51b7d"
            ],
            [
             0.2,
             "#de77ae"
            ],
            [
             0.3,
             "#f1b6da"
            ],
            [
             0.4,
             "#fde0ef"
            ],
            [
             0.5,
             "#f7f7f7"
            ],
            [
             0.6,
             "#e6f5d0"
            ],
            [
             0.7,
             "#b8e186"
            ],
            [
             0.8,
             "#7fbc41"
            ],
            [
             0.9,
             "#4d9221"
            ],
            [
             1,
             "#276419"
            ]
           ],
           "sequential": [
            [
             0,
             "#0d0887"
            ],
            [
             0.1111111111111111,
             "#46039f"
            ],
            [
             0.2222222222222222,
             "#7201a8"
            ],
            [
             0.3333333333333333,
             "#9c179e"
            ],
            [
             0.4444444444444444,
             "#bd3786"
            ],
            [
             0.5555555555555556,
             "#d8576b"
            ],
            [
             0.6666666666666666,
             "#ed7953"
            ],
            [
             0.7777777777777778,
             "#fb9f3a"
            ],
            [
             0.8888888888888888,
             "#fdca26"
            ],
            [
             1,
             "#f0f921"
            ]
           ],
           "sequentialminus": [
            [
             0,
             "#0d0887"
            ],
            [
             0.1111111111111111,
             "#46039f"
            ],
            [
             0.2222222222222222,
             "#7201a8"
            ],
            [
             0.3333333333333333,
             "#9c179e"
            ],
            [
             0.4444444444444444,
             "#bd3786"
            ],
            [
             0.5555555555555556,
             "#d8576b"
            ],
            [
             0.6666666666666666,
             "#ed7953"
            ],
            [
             0.7777777777777778,
             "#fb9f3a"
            ],
            [
             0.8888888888888888,
             "#fdca26"
            ],
            [
             1,
             "#f0f921"
            ]
           ]
          },
          "colorway": [
           "#636efa",
           "#EF553B",
           "#00cc96",
           "#ab63fa",
           "#FFA15A",
           "#19d3f3",
           "#FF6692",
           "#B6E880",
           "#FF97FF",
           "#FECB52"
          ],
          "font": {
           "color": "#2a3f5f"
          },
          "geo": {
           "bgcolor": "white",
           "lakecolor": "white",
           "landcolor": "#E5ECF6",
           "showlakes": true,
           "showland": true,
           "subunitcolor": "white"
          },
          "hoverlabel": {
           "align": "left"
          },
          "hovermode": "closest",
          "mapbox": {
           "style": "light"
          },
          "paper_bgcolor": "white",
          "plot_bgcolor": "#E5ECF6",
          "polar": {
           "angularaxis": {
            "gridcolor": "white",
            "linecolor": "white",
            "ticks": ""
           },
           "bgcolor": "#E5ECF6",
           "radialaxis": {
            "gridcolor": "white",
            "linecolor": "white",
            "ticks": ""
           }
          },
          "scene": {
           "xaxis": {
            "backgroundcolor": "#E5ECF6",
            "gridcolor": "white",
            "gridwidth": 2,
            "linecolor": "white",
            "showbackground": true,
            "ticks": "",
            "zerolinecolor": "white"
           },
           "yaxis": {
            "backgroundcolor": "#E5ECF6",
            "gridcolor": "white",
            "gridwidth": 2,
            "linecolor": "white",
            "showbackground": true,
            "ticks": "",
            "zerolinecolor": "white"
           },
           "zaxis": {
            "backgroundcolor": "#E5ECF6",
            "gridcolor": "white",
            "gridwidth": 2,
            "linecolor": "white",
            "showbackground": true,
            "ticks": "",
            "zerolinecolor": "white"
           }
          },
          "shapedefaults": {
           "line": {
            "color": "#2a3f5f"
           }
          },
          "ternary": {
           "aaxis": {
            "gridcolor": "white",
            "linecolor": "white",
            "ticks": ""
           },
           "baxis": {
            "gridcolor": "white",
            "linecolor": "white",
            "ticks": ""
           },
           "bgcolor": "#E5ECF6",
           "caxis": {
            "gridcolor": "white",
            "linecolor": "white",
            "ticks": ""
           }
          },
          "title": {
           "x": 0.05
          },
          "xaxis": {
           "automargin": true,
           "gridcolor": "white",
           "linecolor": "white",
           "ticks": "",
           "title": {
            "standoff": 15
           },
           "zerolinecolor": "white",
           "zerolinewidth": 2
          },
          "yaxis": {
           "automargin": true,
           "gridcolor": "white",
           "linecolor": "white",
           "ticks": "",
           "title": {
            "standoff": 15
           },
           "zerolinecolor": "white",
           "zerolinewidth": 2
          }
         }
        },
        "title": {
         "text": "Average response length",
         "x": 0.5,
         "xanchor": "center",
         "y": 0.85,
         "yanchor": "top"
        }
       }
      },
      "text/html": [
       "<div>\n",
       "        \n",
       "        \n",
       "            <div id=\"21f8b58d-f49e-40f5-b68f-4b904c8a00bd\" class=\"plotly-graph-div\" style=\"height:525px; width:100%;\"></div>\n",
       "            <script type=\"text/javascript\">\n",
       "                require([\"plotly\"], function(Plotly) {\n",
       "                    window.PLOTLYENV=window.PLOTLYENV || {};\n",
       "                    \n",
       "                if (document.getElementById(\"21f8b58d-f49e-40f5-b68f-4b904c8a00bd\")) {\n",
       "                    Plotly.newPlot(\n",
       "                        '21f8b58d-f49e-40f5-b68f-4b904c8a00bd',\n",
       "                        [{\"error_y\": {\"array\": [1.9383530380196483, 1.7520824203517011, 0.8679215297745723, 0.9392705229644726, 1.0480667408099709], \"type\": \"data\"}, \"insidetextanchor\": \"middle\", \"marker\": {\"color\": [\"#FAEBD7\", \"#FFA07A\", \"#B0C4DE\", \"#AFEEEE\", \"#8FBC8F\"], \"line\": {\"color\": \"rgb(8,48,107)\", \"width\": 1.5}}, \"name\": \"Setting\", \"opacity\": 0.8, \"text\": [\"60.9\", \"145.24\", \"102.88\", \"78.0\", \"75.49\"], \"textposition\": \"inside\", \"type\": \"bar\", \"x\": [\"Setting 1 (H)\", \"Setting 2\", \"Setting 3\", \"Setting 4\", \"Setting 5\"], \"y\": [60.9, 145.24, 102.88, 78.0, 75.49]}],\n",
       "                        {\"template\": {\"data\": {\"bar\": [{\"error_x\": {\"color\": \"#2a3f5f\"}, \"error_y\": {\"color\": \"#2a3f5f\"}, \"marker\": {\"line\": {\"color\": \"#E5ECF6\", \"width\": 0.5}}, \"type\": \"bar\"}], \"barpolar\": [{\"marker\": {\"line\": {\"color\": \"#E5ECF6\", \"width\": 0.5}}, \"type\": \"barpolar\"}], \"carpet\": [{\"aaxis\": {\"endlinecolor\": \"#2a3f5f\", \"gridcolor\": \"white\", \"linecolor\": \"white\", \"minorgridcolor\": \"white\", \"startlinecolor\": \"#2a3f5f\"}, \"baxis\": {\"endlinecolor\": \"#2a3f5f\", \"gridcolor\": \"white\", \"linecolor\": \"white\", \"minorgridcolor\": \"white\", \"startlinecolor\": \"#2a3f5f\"}, \"type\": \"carpet\"}], \"choropleth\": [{\"colorbar\": {\"outlinewidth\": 0, \"ticks\": \"\"}, \"type\": \"choropleth\"}], \"contour\": [{\"colorbar\": {\"outlinewidth\": 0, \"ticks\": \"\"}, \"colorscale\": [[0.0, \"#0d0887\"], [0.1111111111111111, \"#46039f\"], [0.2222222222222222, \"#7201a8\"], [0.3333333333333333, \"#9c179e\"], [0.4444444444444444, \"#bd3786\"], [0.5555555555555556, \"#d8576b\"], [0.6666666666666666, \"#ed7953\"], [0.7777777777777778, \"#fb9f3a\"], [0.8888888888888888, \"#fdca26\"], [1.0, \"#f0f921\"]], \"type\": \"contour\"}], \"contourcarpet\": [{\"colorbar\": {\"outlinewidth\": 0, \"ticks\": \"\"}, \"type\": \"contourcarpet\"}], \"heatmap\": [{\"colorbar\": {\"outlinewidth\": 0, \"ticks\": \"\"}, \"colorscale\": [[0.0, \"#0d0887\"], [0.1111111111111111, \"#46039f\"], [0.2222222222222222, \"#7201a8\"], [0.3333333333333333, \"#9c179e\"], [0.4444444444444444, \"#bd3786\"], [0.5555555555555556, \"#d8576b\"], [0.6666666666666666, \"#ed7953\"], [0.7777777777777778, \"#fb9f3a\"], [0.8888888888888888, \"#fdca26\"], [1.0, \"#f0f921\"]], \"type\": \"heatmap\"}], \"heatmapgl\": [{\"colorbar\": {\"outlinewidth\": 0, \"ticks\": \"\"}, \"colorscale\": [[0.0, \"#0d0887\"], [0.1111111111111111, \"#46039f\"], [0.2222222222222222, \"#7201a8\"], [0.3333333333333333, \"#9c179e\"], [0.4444444444444444, \"#bd3786\"], [0.5555555555555556, \"#d8576b\"], [0.6666666666666666, \"#ed7953\"], [0.7777777777777778, \"#fb9f3a\"], [0.8888888888888888, \"#fdca26\"], [1.0, \"#f0f921\"]], \"type\": \"heatmapgl\"}], \"histogram\": [{\"marker\": {\"colorbar\": {\"outlinewidth\": 0, \"ticks\": \"\"}}, \"type\": \"histogram\"}], \"histogram2d\": [{\"colorbar\": {\"outlinewidth\": 0, \"ticks\": \"\"}, \"colorscale\": [[0.0, \"#0d0887\"], [0.1111111111111111, \"#46039f\"], [0.2222222222222222, \"#7201a8\"], [0.3333333333333333, \"#9c179e\"], [0.4444444444444444, \"#bd3786\"], [0.5555555555555556, \"#d8576b\"], [0.6666666666666666, \"#ed7953\"], [0.7777777777777778, \"#fb9f3a\"], [0.8888888888888888, \"#fdca26\"], [1.0, \"#f0f921\"]], \"type\": \"histogram2d\"}], \"histogram2dcontour\": [{\"colorbar\": {\"outlinewidth\": 0, \"ticks\": \"\"}, \"colorscale\": [[0.0, \"#0d0887\"], [0.1111111111111111, \"#46039f\"], [0.2222222222222222, \"#7201a8\"], [0.3333333333333333, \"#9c179e\"], [0.4444444444444444, \"#bd3786\"], [0.5555555555555556, \"#d8576b\"], [0.6666666666666666, \"#ed7953\"], [0.7777777777777778, \"#fb9f3a\"], [0.8888888888888888, \"#fdca26\"], [1.0, \"#f0f921\"]], \"type\": \"histogram2dcontour\"}], \"mesh3d\": [{\"colorbar\": {\"outlinewidth\": 0, \"ticks\": \"\"}, \"type\": \"mesh3d\"}], \"parcoords\": [{\"line\": {\"colorbar\": {\"outlinewidth\": 0, \"ticks\": \"\"}}, \"type\": \"parcoords\"}], \"pie\": [{\"automargin\": true, \"type\": \"pie\"}], \"scatter\": [{\"marker\": {\"colorbar\": {\"outlinewidth\": 0, \"ticks\": \"\"}}, \"type\": \"scatter\"}], \"scatter3d\": [{\"line\": {\"colorbar\": {\"outlinewidth\": 0, \"ticks\": \"\"}}, \"marker\": {\"colorbar\": {\"outlinewidth\": 0, \"ticks\": \"\"}}, \"type\": \"scatter3d\"}], \"scattercarpet\": [{\"marker\": {\"colorbar\": {\"outlinewidth\": 0, \"ticks\": \"\"}}, \"type\": \"scattercarpet\"}], \"scattergeo\": [{\"marker\": {\"colorbar\": {\"outlinewidth\": 0, \"ticks\": \"\"}}, \"type\": \"scattergeo\"}], \"scattergl\": [{\"marker\": {\"colorbar\": {\"outlinewidth\": 0, \"ticks\": \"\"}}, \"type\": \"scattergl\"}], \"scattermapbox\": [{\"marker\": {\"colorbar\": {\"outlinewidth\": 0, \"ticks\": \"\"}}, \"type\": \"scattermapbox\"}], \"scatterpolar\": [{\"marker\": {\"colorbar\": {\"outlinewidth\": 0, \"ticks\": \"\"}}, \"type\": \"scatterpolar\"}], \"scatterpolargl\": [{\"marker\": {\"colorbar\": {\"outlinewidth\": 0, \"ticks\": \"\"}}, \"type\": \"scatterpolargl\"}], \"scatterternary\": [{\"marker\": {\"colorbar\": {\"outlinewidth\": 0, \"ticks\": \"\"}}, \"type\": \"scatterternary\"}], \"surface\": [{\"colorbar\": {\"outlinewidth\": 0, \"ticks\": \"\"}, \"colorscale\": [[0.0, \"#0d0887\"], [0.1111111111111111, \"#46039f\"], [0.2222222222222222, \"#7201a8\"], [0.3333333333333333, \"#9c179e\"], [0.4444444444444444, \"#bd3786\"], [0.5555555555555556, \"#d8576b\"], [0.6666666666666666, \"#ed7953\"], [0.7777777777777778, \"#fb9f3a\"], [0.8888888888888888, \"#fdca26\"], [1.0, \"#f0f921\"]], \"type\": \"surface\"}], \"table\": [{\"cells\": {\"fill\": {\"color\": \"#EBF0F8\"}, \"line\": {\"color\": \"white\"}}, \"header\": {\"fill\": {\"color\": \"#C8D4E3\"}, \"line\": {\"color\": \"white\"}}, \"type\": \"table\"}]}, \"layout\": {\"annotationdefaults\": {\"arrowcolor\": \"#2a3f5f\", \"arrowhead\": 0, \"arrowwidth\": 1}, \"coloraxis\": {\"colorbar\": {\"outlinewidth\": 0, \"ticks\": \"\"}}, \"colorscale\": {\"diverging\": [[0, \"#8e0152\"], [0.1, \"#c51b7d\"], [0.2, \"#de77ae\"], [0.3, \"#f1b6da\"], [0.4, \"#fde0ef\"], [0.5, \"#f7f7f7\"], [0.6, \"#e6f5d0\"], [0.7, \"#b8e186\"], [0.8, \"#7fbc41\"], [0.9, \"#4d9221\"], [1, \"#276419\"]], \"sequential\": [[0.0, \"#0d0887\"], [0.1111111111111111, \"#46039f\"], [0.2222222222222222, \"#7201a8\"], [0.3333333333333333, \"#9c179e\"], [0.4444444444444444, \"#bd3786\"], [0.5555555555555556, \"#d8576b\"], [0.6666666666666666, \"#ed7953\"], [0.7777777777777778, \"#fb9f3a\"], [0.8888888888888888, \"#fdca26\"], [1.0, \"#f0f921\"]], \"sequentialminus\": [[0.0, \"#0d0887\"], [0.1111111111111111, \"#46039f\"], [0.2222222222222222, \"#7201a8\"], [0.3333333333333333, \"#9c179e\"], [0.4444444444444444, \"#bd3786\"], [0.5555555555555556, \"#d8576b\"], [0.6666666666666666, \"#ed7953\"], [0.7777777777777778, \"#fb9f3a\"], [0.8888888888888888, \"#fdca26\"], [1.0, \"#f0f921\"]]}, \"colorway\": [\"#636efa\", \"#EF553B\", \"#00cc96\", \"#ab63fa\", \"#FFA15A\", \"#19d3f3\", \"#FF6692\", \"#B6E880\", \"#FF97FF\", \"#FECB52\"], \"font\": {\"color\": \"#2a3f5f\"}, \"geo\": {\"bgcolor\": \"white\", \"lakecolor\": \"white\", \"landcolor\": \"#E5ECF6\", \"showlakes\": true, \"showland\": true, \"subunitcolor\": \"white\"}, \"hoverlabel\": {\"align\": \"left\"}, \"hovermode\": \"closest\", \"mapbox\": {\"style\": \"light\"}, \"paper_bgcolor\": \"white\", \"plot_bgcolor\": \"#E5ECF6\", \"polar\": {\"angularaxis\": {\"gridcolor\": \"white\", \"linecolor\": \"white\", \"ticks\": \"\"}, \"bgcolor\": \"#E5ECF6\", \"radialaxis\": {\"gridcolor\": \"white\", \"linecolor\": \"white\", \"ticks\": \"\"}}, \"scene\": {\"xaxis\": {\"backgroundcolor\": \"#E5ECF6\", \"gridcolor\": \"white\", \"gridwidth\": 2, \"linecolor\": \"white\", \"showbackground\": true, \"ticks\": \"\", \"zerolinecolor\": \"white\"}, \"yaxis\": {\"backgroundcolor\": \"#E5ECF6\", \"gridcolor\": \"white\", \"gridwidth\": 2, \"linecolor\": \"white\", \"showbackground\": true, \"ticks\": \"\", \"zerolinecolor\": \"white\"}, \"zaxis\": {\"backgroundcolor\": \"#E5ECF6\", \"gridcolor\": \"white\", \"gridwidth\": 2, \"linecolor\": \"white\", \"showbackground\": true, \"ticks\": \"\", \"zerolinecolor\": \"white\"}}, \"shapedefaults\": {\"line\": {\"color\": \"#2a3f5f\"}}, \"ternary\": {\"aaxis\": {\"gridcolor\": \"white\", \"linecolor\": \"white\", \"ticks\": \"\"}, \"baxis\": {\"gridcolor\": \"white\", \"linecolor\": \"white\", \"ticks\": \"\"}, \"bgcolor\": \"#E5ECF6\", \"caxis\": {\"gridcolor\": \"white\", \"linecolor\": \"white\", \"ticks\": \"\"}}, \"title\": {\"x\": 0.05}, \"xaxis\": {\"automargin\": true, \"gridcolor\": \"white\", \"linecolor\": \"white\", \"ticks\": \"\", \"title\": {\"standoff\": 15}, \"zerolinecolor\": \"white\", \"zerolinewidth\": 2}, \"yaxis\": {\"automargin\": true, \"gridcolor\": \"white\", \"linecolor\": \"white\", \"ticks\": \"\", \"title\": {\"standoff\": 15}, \"zerolinecolor\": \"white\", \"zerolinewidth\": 2}}}, \"title\": {\"text\": \"Average response length\", \"x\": 0.5, \"xanchor\": \"center\", \"y\": 0.85, \"yanchor\": \"top\"}},\n",
       "                        {\"responsive\": true}\n",
       "                    ).then(function(){\n",
       "                            \n",
       "var gd = document.getElementById('21f8b58d-f49e-40f5-b68f-4b904c8a00bd');\n",
       "var x = new MutationObserver(function (mutations, observer) {{\n",
       "        var display = window.getComputedStyle(gd).display;\n",
       "        if (!display || display === 'none') {{\n",
       "            console.log([gd, 'removed!']);\n",
       "            Plotly.purge(gd);\n",
       "            observer.disconnect();\n",
       "        }}\n",
       "}});\n",
       "\n",
       "// Listen for the removal of the full notebook cells\n",
       "var notebookContainer = gd.closest('#notebook-container');\n",
       "if (notebookContainer) {{\n",
       "    x.observe(notebookContainer, {childList: true});\n",
       "}}\n",
       "\n",
       "// Listen for the clearing of the current output cell\n",
       "var outputEl = gd.closest('.output');\n",
       "if (outputEl) {{\n",
       "    x.observe(outputEl, {childList: true});\n",
       "}}\n",
       "\n",
       "                        })\n",
       "                };\n",
       "                });\n",
       "            </script>\n",
       "        </div>"
      ]
     },
     "metadata": {},
     "output_type": "display_data"
    }
   ],
   "source": [
    "colors = ['#FAEBD7', '#FFA07A', '#B0C4DE', '#AFEEEE', '#8FBC8F']\n",
    "\n",
    "x = ['Setting 1 (H)', 'Setting 2', 'Setting 3', 'Setting 4', 'Setting 5']\n",
    "y = [Set1, Set2, Set3, Set4, Set5]\n",
    "\n",
    "yErorr = [np.std(z)/math.sqrt(len(z)) for z in y] \n",
    "\n",
    "y = [round(statistics.mean(z), 2) for z in y]\n",
    "\n",
    "fig = go.Figure()\n",
    "fig.add_trace(go.Bar(\n",
    "    name='Setting',\n",
    "    x=x, y=y, text=y, textposition='inside',insidetextanchor='middle',\n",
    "    marker_color=colors,\n",
    "    marker_line_color='rgb(8,48,107)', marker_line_width=1.5, opacity=0.8,\n",
    "    error_y=dict(type='data', array=yErorr)\n",
    "))\n",
    "\n",
    "fig.update_layout(\n",
    "    title={\n",
    "        'text': 'Average response length',\n",
    "        'y':0.85,\n",
    "        'x':0.5,\n",
    "        'xanchor': 'center',\n",
    "        'yanchor': 'top'})\n",
    "\n",
    "fig.show()\n"
   ]
  },
  {
   "cell_type": "markdown",
   "metadata": {},
   "source": [
    "## Setting 2"
   ]
  },
  {
   "cell_type": "code",
   "execution_count": 36,
   "metadata": {},
   "outputs": [],
   "source": [
    "sugg1 = []\n",
    "sugg3 = []\n",
    "sugg5 = []\n",
    "\n",
    "autoSugg1 = []\n",
    "autoSugg3 = []\n",
    "autoSugg5 = []\n",
    "\n",
    "sugg1Bot = []\n",
    "sugg3Bot = []\n",
    "sugg5Bot = []\n",
    "\n",
    "autoSugg1Bot = []\n",
    "autoSugg3Bot = []\n",
    "autoSugg5Bot = []\n",
    "\n",
    "\n",
    "for root, dirs, files in os.walk(\"../clean/Setting 2\"):\n",
    "    for file in files:\n",
    "        if file.endswith(\".json\"):\n",
    "            fileName = os.path.join(root, file)\n",
    "            with open(fileName) as json_file:\n",
    "                try:\n",
    "                    data = json.load(json_file)\n",
    "                    dialogs = data['dialogs']\n",
    "                    \n",
    "                    if(data['autoFilledSuggestion'] == 0):\n",
    "                        \n",
    "                        if(data['suggestionsNumber'] == 1):\n",
    "                            for i in range(1, len(dialogs)):\n",
    "                                sugg1.append(len(dialogs[i]['context']['userResponse']))\n",
    "                                sugg1Bot.append(len(dialogs[i]['context']['suggestions'][0]))\n",
    "                        \n",
    "                        elif(data['suggestionsNumber'] == 3):\n",
    "                            for i in range(1, len(dialogs)):\n",
    "                                sugg3.append(len(dialogs[i]['context']['userResponse']))\n",
    "                                sugg3Bot.append(len(dialogs[i]['context']['suggestions'][0]))\n",
    "                        \n",
    "                        elif(data['suggestionsNumber'] == 5):\n",
    "                            for i in range(1, len(dialogs)):\n",
    "                                sugg5.append(len(dialogs[i]['context']['userResponse']))\n",
    "                                sugg5Bot.append(len(dialogs[i]['context']['suggestions'][0]))\n",
    "                    \n",
    "                    else:\n",
    "                        \n",
    "                        if(data['suggestionsNumber'] == 1):\n",
    "                            for i in range(1, len(dialogs)):\n",
    "                                autoSugg1.append(len(dialogs[i]['context']['userResponse']))\n",
    "                                autoSugg1Bot.append(len(dialogs[i]['context']['suggestions'][0]))\n",
    "                        \n",
    "                        elif(data['suggestionsNumber'] == 3):\n",
    "                            for i in range(1, len(dialogs)):\n",
    "                                autoSugg3.append(len(dialogs[i]['context']['userResponse']))\n",
    "                                autoSugg3Bot.append(len(dialogs[i]['context']['suggestions'][0]))\n",
    "                        \n",
    "                        elif(data['suggestionsNumber'] == 5):\n",
    "                            for i in range(1, len(dialogs)):\n",
    "                                autoSugg5.append(len(dialogs[i]['context']['userResponse']))\n",
    "                                autoSugg5Bot.append(len(dialogs[i]['context']['suggestions'][0]))\n",
    "                    \n",
    "                    \n",
    "                except Exception as e: print(e)"
   ]
  },
  {
   "cell_type": "markdown",
   "metadata": {},
   "source": [
    "### Suggestions Only"
   ]
  },
  {
   "cell_type": "code",
   "execution_count": 37,
   "metadata": {},
   "outputs": [
    {
     "name": "stdout",
     "output_type": "stream",
     "text": [
      "Finished conversations with 1 suggestion(s): 101.72103004291846\n",
      "Finished conversations with 3 suggestion(s): 124.61344537815125\n",
      "Finished conversations with 5 suggestion(s): 147.32920792079207\n"
     ]
    }
   ],
   "source": [
    "print(\"Finished conversations with 1 suggestion(s): \" + str(statistics.mean(sugg1)))\n",
    "print(\"Finished conversations with 3 suggestion(s): \" + str(statistics.mean(sugg3)))\n",
    "print(\"Finished conversations with 5 suggestion(s): \" + str(statistics.mean(sugg5)))"
   ]
  },
  {
   "cell_type": "markdown",
   "metadata": {},
   "source": [
    "### Autofilled Suggestion"
   ]
  },
  {
   "cell_type": "code",
   "execution_count": 38,
   "metadata": {},
   "outputs": [
    {
     "name": "stdout",
     "output_type": "stream",
     "text": [
      "Finished conversations with 1 suggestion(s): 138.6844827586207\n",
      "Finished conversations with 3 suggestion(s): 164.58267716535434\n",
      "Finished conversations with 5 suggestion(s): 189.23295454545453\n"
     ]
    }
   ],
   "source": [
    "print(\"Finished conversations with 1 suggestion(s): \" + str(statistics.mean(autoSugg1)))\n",
    "print(\"Finished conversations with 3 suggestion(s): \" + str(statistics.mean(autoSugg3)))\n",
    "print(\"Finished conversations with 5 suggestion(s): \" + str(statistics.mean(autoSugg5)))"
   ]
  },
  {
   "cell_type": "code",
   "execution_count": 39,
   "metadata": {},
   "outputs": [
    {
     "name": "stdout",
     "output_type": "stream",
     "text": [
      "H Bot 0.000000000000000000000000000000000000000000000000000000000000000000000000000000000000000000000000000000000000000000000000000000000000000000000000000000000000000000000000000000000000000000004517451342329763\n",
      "H sugg1 0.0000000000000000000000016698470730480693\n",
      "H sugg3 0.0000000000000000000000000000000000000000000025248808560549102\n",
      "H sugg5 0.00000000000000000000000000000000000000000002614749302074071\n",
      "H autoSugg1 0.0000000000000000000000000000000000000000000000000000000000000000000000000000000000000009167739953600191\n",
      "H autoSugg3 0.000000000000000000000000000000000000000000000000000000000000000000000000049472658169411804\n",
      "H autoSugg5 0.0000000000000000000000000000000000000000000000000000000000000000000000000000000000000000000000000012956330588681747\n",
      "Bot sugg1 0.0000000000000000000000000000000000000002286256159944433\n",
      "Bot sugg3 0.0000000000025195657301842825\n",
      "Bot sugg5 0.33055508062912164\n",
      "Bot autoSugg1 0.000012864181057121533\n",
      "Bot autoSugg3 0.012267460621438379\n",
      "Bot autoSugg5 0.000000000000205793037648298\n",
      "sugg1 sugg3 0.000005093670588673119\n",
      "sugg1 sugg5 0.0000000000006539429951519509\n",
      "sugg1 autoSugg1 0.00000000000000024872881487083247\n",
      "sugg1 autoSugg3 0.000000000000000000000000011383446436833792\n",
      "sugg1 autoSugg5 0.00000000000000000000000000000000000000000000019240647902180705\n",
      "sugg3 sugg5 0.0004458443238963868\n",
      "sugg3 autoSugg1 0.003011940520906948\n",
      "sugg3 autoSugg3 0.000000000027323604796051155\n",
      "sugg3 autoSugg5 0.000000000000000000000000150541442569809\n",
      "sugg5 autoSugg1 0.15140316274139867\n",
      "sugg5 autoSugg3 0.0139083501117564\n",
      "sugg5 autoSugg5 0.0000000044024801704267615\n",
      "autoSugg1 autoSugg3 0.000002547430353132748\n",
      "autoSugg1 autoSugg5 0.0000000000000000005905757563541181\n",
      "autoSugg3 autoSugg5 0.0002010236027521649\n"
     ]
    }
   ],
   "source": [
    "settings = {\n",
    "    'H': Set1,\n",
    "    'Bot': bot2,\n",
    "    'sugg1': sugg1,\n",
    "    'sugg3': sugg3,\n",
    "    'sugg5': sugg5,\n",
    "    'autoSugg1': autoSugg1,\n",
    "    'autoSugg3': autoSugg3,\n",
    "    'autoSugg5': autoSugg5\n",
    "}\n",
    "\n",
    "for list1, list2 in combinations(settings.keys(), 2):\n",
    "    t, p = ttest_ind(settings[list1], settings[list2], equal_var = False)\n",
    "    print (list1, list2, float_to_str(p))"
   ]
  },
  {
   "cell_type": "code",
   "execution_count": 49,
   "metadata": {
    "scrolled": false
   },
   "outputs": [
    {
     "data": {
      "application/vnd.plotly.v1+json": {
       "config": {
        "plotlyServerURL": "https://plot.ly"
       },
       "data": [
        {
         "error_y": {
          "array": [
           1.9383530380196483
          ],
          "type": "data"
         },
         "insidetextanchor": "middle",
         "marker": {
          "color": "#B0C4DE",
          "line": {
           "color": "rgb(8,48,107)",
           "width": 1.5
          }
         },
         "name": "Human Only",
         "opacity": 0.8,
         "text": [
          "60.9"
         ],
         "textposition": "inside",
         "type": "bar",
         "x": [
          ""
         ],
         "y": [
          60.9
         ]
        },
        {
         "error_y": {
          "array": [
           1.2086808468759276
          ],
          "type": "data"
         },
         "insidetextanchor": "middle",
         "marker": {
          "color": "#A9A9A9",
          "line": {
           "color": "rgb(8,48,107)",
           "width": 1.5
          }
         },
         "name": "Chatbot Only",
         "opacity": 0.8,
         "text": [
          "152.59"
         ],
         "textposition": "inside",
         "type": "bar",
         "x": [
          ""
         ],
         "y": [
          152.59
         ]
        },
        {
         "error_y": {
          "array": [
           3.3252897422795917,
           3.713340259739469,
           5.252884204636788
          ],
          "type": "data"
         },
         "insidetextanchor": "middle",
         "marker": {
          "color": "lightsalmon",
          "line": {
           "color": "rgb(8,48,107)",
           "width": 1.5
          }
         },
         "name": "C1",
         "opacity": 0.8,
         "text": [
          "101.72",
          "124.61",
          "147.33"
         ],
         "textposition": "inside",
         "type": "bar",
         "x": [
          "1 Suggestion",
          "3 Suggestions",
          "5 Suggestions"
         ],
         "y": [
          101.72,
          124.61,
          147.33
         ]
        },
        {
         "error_y": {
          "array": [
           2.87917708303888,
           3.1511814833676883,
           3.265590776177859
          ],
          "type": "data"
         },
         "insidetextanchor": "middle",
         "marker": {
          "color": "#ffdacc",
          "line": {
           "color": "rgb(8,48,107)",
           "width": 1.5
          }
         },
         "name": "C1 - Chatbot Only",
         "opacity": 0.8,
         "text": [
          "152.55",
          "156.04",
          "152.5"
         ],
         "textposition": "inside",
         "type": "bar",
         "x": [
          "1 Suggestion",
          "3 Suggestions",
          "5 Suggestions"
         ],
         "y": [
          152.55,
          156.04,
          152.5
         ]
        },
        {
         "error_y": {
          "array": [
           2.9240226780438463,
           4.6152705251951796,
           4.718448243423726
          ],
          "type": "data"
         },
         "insidetextanchor": "middle",
         "marker": {
          "color": "#AFEEEE",
          "line": {
           "color": "rgb(8,48,107)",
           "width": 1.5
          }
         },
         "name": "C2",
         "opacity": 0.8,
         "text": [
          "138.68",
          "164.58",
          "189.23"
         ],
         "textposition": "inside",
         "type": "bar",
         "x": [
          "1 Suggestion",
          "3 Suggestions",
          "5 Suggestions"
         ],
         "y": [
          138.68,
          164.58,
          189.23
         ]
        },
        {
         "error_y": {
          "array": [
           2.631372341101744,
           2.9027285518645716,
           2.997351582872668
          ],
          "type": "data"
         },
         "insidetextanchor": "middle",
         "marker": {
          "color": "#eafbfb",
          "line": {
           "color": "rgb(8,48,107)",
           "width": 1.5
          }
         },
         "name": "C2 - Chatbot Only",
         "opacity": 0.8,
         "text": [
          "148.33",
          "152.26",
          "154.56"
         ],
         "textposition": "inside",
         "type": "bar",
         "x": [
          "1 Suggestion",
          "3 Suggestions",
          "5 Suggestions"
         ],
         "y": [
          148.33,
          152.26,
          154.56
         ]
        }
       ],
       "layout": {
        "font": {
         "size": 13
        },
        "legend": {
         "orientation": "h"
        },
        "template": {
         "data": {
          "bar": [
           {
            "error_x": {
             "color": "#2a3f5f"
            },
            "error_y": {
             "color": "#2a3f5f"
            },
            "marker": {
             "line": {
              "color": "#E5ECF6",
              "width": 0.5
             }
            },
            "type": "bar"
           }
          ],
          "barpolar": [
           {
            "marker": {
             "line": {
              "color": "#E5ECF6",
              "width": 0.5
             }
            },
            "type": "barpolar"
           }
          ],
          "carpet": [
           {
            "aaxis": {
             "endlinecolor": "#2a3f5f",
             "gridcolor": "white",
             "linecolor": "white",
             "minorgridcolor": "white",
             "startlinecolor": "#2a3f5f"
            },
            "baxis": {
             "endlinecolor": "#2a3f5f",
             "gridcolor": "white",
             "linecolor": "white",
             "minorgridcolor": "white",
             "startlinecolor": "#2a3f5f"
            },
            "type": "carpet"
           }
          ],
          "choropleth": [
           {
            "colorbar": {
             "outlinewidth": 0,
             "ticks": ""
            },
            "type": "choropleth"
           }
          ],
          "contour": [
           {
            "colorbar": {
             "outlinewidth": 0,
             "ticks": ""
            },
            "colorscale": [
             [
              0,
              "#0d0887"
             ],
             [
              0.1111111111111111,
              "#46039f"
             ],
             [
              0.2222222222222222,
              "#7201a8"
             ],
             [
              0.3333333333333333,
              "#9c179e"
             ],
             [
              0.4444444444444444,
              "#bd3786"
             ],
             [
              0.5555555555555556,
              "#d8576b"
             ],
             [
              0.6666666666666666,
              "#ed7953"
             ],
             [
              0.7777777777777778,
              "#fb9f3a"
             ],
             [
              0.8888888888888888,
              "#fdca26"
             ],
             [
              1,
              "#f0f921"
             ]
            ],
            "type": "contour"
           }
          ],
          "contourcarpet": [
           {
            "colorbar": {
             "outlinewidth": 0,
             "ticks": ""
            },
            "type": "contourcarpet"
           }
          ],
          "heatmap": [
           {
            "colorbar": {
             "outlinewidth": 0,
             "ticks": ""
            },
            "colorscale": [
             [
              0,
              "#0d0887"
             ],
             [
              0.1111111111111111,
              "#46039f"
             ],
             [
              0.2222222222222222,
              "#7201a8"
             ],
             [
              0.3333333333333333,
              "#9c179e"
             ],
             [
              0.4444444444444444,
              "#bd3786"
             ],
             [
              0.5555555555555556,
              "#d8576b"
             ],
             [
              0.6666666666666666,
              "#ed7953"
             ],
             [
              0.7777777777777778,
              "#fb9f3a"
             ],
             [
              0.8888888888888888,
              "#fdca26"
             ],
             [
              1,
              "#f0f921"
             ]
            ],
            "type": "heatmap"
           }
          ],
          "heatmapgl": [
           {
            "colorbar": {
             "outlinewidth": 0,
             "ticks": ""
            },
            "colorscale": [
             [
              0,
              "#0d0887"
             ],
             [
              0.1111111111111111,
              "#46039f"
             ],
             [
              0.2222222222222222,
              "#7201a8"
             ],
             [
              0.3333333333333333,
              "#9c179e"
             ],
             [
              0.4444444444444444,
              "#bd3786"
             ],
             [
              0.5555555555555556,
              "#d8576b"
             ],
             [
              0.6666666666666666,
              "#ed7953"
             ],
             [
              0.7777777777777778,
              "#fb9f3a"
             ],
             [
              0.8888888888888888,
              "#fdca26"
             ],
             [
              1,
              "#f0f921"
             ]
            ],
            "type": "heatmapgl"
           }
          ],
          "histogram": [
           {
            "marker": {
             "colorbar": {
              "outlinewidth": 0,
              "ticks": ""
             }
            },
            "type": "histogram"
           }
          ],
          "histogram2d": [
           {
            "colorbar": {
             "outlinewidth": 0,
             "ticks": ""
            },
            "colorscale": [
             [
              0,
              "#0d0887"
             ],
             [
              0.1111111111111111,
              "#46039f"
             ],
             [
              0.2222222222222222,
              "#7201a8"
             ],
             [
              0.3333333333333333,
              "#9c179e"
             ],
             [
              0.4444444444444444,
              "#bd3786"
             ],
             [
              0.5555555555555556,
              "#d8576b"
             ],
             [
              0.6666666666666666,
              "#ed7953"
             ],
             [
              0.7777777777777778,
              "#fb9f3a"
             ],
             [
              0.8888888888888888,
              "#fdca26"
             ],
             [
              1,
              "#f0f921"
             ]
            ],
            "type": "histogram2d"
           }
          ],
          "histogram2dcontour": [
           {
            "colorbar": {
             "outlinewidth": 0,
             "ticks": ""
            },
            "colorscale": [
             [
              0,
              "#0d0887"
             ],
             [
              0.1111111111111111,
              "#46039f"
             ],
             [
              0.2222222222222222,
              "#7201a8"
             ],
             [
              0.3333333333333333,
              "#9c179e"
             ],
             [
              0.4444444444444444,
              "#bd3786"
             ],
             [
              0.5555555555555556,
              "#d8576b"
             ],
             [
              0.6666666666666666,
              "#ed7953"
             ],
             [
              0.7777777777777778,
              "#fb9f3a"
             ],
             [
              0.8888888888888888,
              "#fdca26"
             ],
             [
              1,
              "#f0f921"
             ]
            ],
            "type": "histogram2dcontour"
           }
          ],
          "mesh3d": [
           {
            "colorbar": {
             "outlinewidth": 0,
             "ticks": ""
            },
            "type": "mesh3d"
           }
          ],
          "parcoords": [
           {
            "line": {
             "colorbar": {
              "outlinewidth": 0,
              "ticks": ""
             }
            },
            "type": "parcoords"
           }
          ],
          "pie": [
           {
            "automargin": true,
            "type": "pie"
           }
          ],
          "scatter": [
           {
            "marker": {
             "colorbar": {
              "outlinewidth": 0,
              "ticks": ""
             }
            },
            "type": "scatter"
           }
          ],
          "scatter3d": [
           {
            "line": {
             "colorbar": {
              "outlinewidth": 0,
              "ticks": ""
             }
            },
            "marker": {
             "colorbar": {
              "outlinewidth": 0,
              "ticks": ""
             }
            },
            "type": "scatter3d"
           }
          ],
          "scattercarpet": [
           {
            "marker": {
             "colorbar": {
              "outlinewidth": 0,
              "ticks": ""
             }
            },
            "type": "scattercarpet"
           }
          ],
          "scattergeo": [
           {
            "marker": {
             "colorbar": {
              "outlinewidth": 0,
              "ticks": ""
             }
            },
            "type": "scattergeo"
           }
          ],
          "scattergl": [
           {
            "marker": {
             "colorbar": {
              "outlinewidth": 0,
              "ticks": ""
             }
            },
            "type": "scattergl"
           }
          ],
          "scattermapbox": [
           {
            "marker": {
             "colorbar": {
              "outlinewidth": 0,
              "ticks": ""
             }
            },
            "type": "scattermapbox"
           }
          ],
          "scatterpolar": [
           {
            "marker": {
             "colorbar": {
              "outlinewidth": 0,
              "ticks": ""
             }
            },
            "type": "scatterpolar"
           }
          ],
          "scatterpolargl": [
           {
            "marker": {
             "colorbar": {
              "outlinewidth": 0,
              "ticks": ""
             }
            },
            "type": "scatterpolargl"
           }
          ],
          "scatterternary": [
           {
            "marker": {
             "colorbar": {
              "outlinewidth": 0,
              "ticks": ""
             }
            },
            "type": "scatterternary"
           }
          ],
          "surface": [
           {
            "colorbar": {
             "outlinewidth": 0,
             "ticks": ""
            },
            "colorscale": [
             [
              0,
              "#0d0887"
             ],
             [
              0.1111111111111111,
              "#46039f"
             ],
             [
              0.2222222222222222,
              "#7201a8"
             ],
             [
              0.3333333333333333,
              "#9c179e"
             ],
             [
              0.4444444444444444,
              "#bd3786"
             ],
             [
              0.5555555555555556,
              "#d8576b"
             ],
             [
              0.6666666666666666,
              "#ed7953"
             ],
             [
              0.7777777777777778,
              "#fb9f3a"
             ],
             [
              0.8888888888888888,
              "#fdca26"
             ],
             [
              1,
              "#f0f921"
             ]
            ],
            "type": "surface"
           }
          ],
          "table": [
           {
            "cells": {
             "fill": {
              "color": "#EBF0F8"
             },
             "line": {
              "color": "white"
             }
            },
            "header": {
             "fill": {
              "color": "#C8D4E3"
             },
             "line": {
              "color": "white"
             }
            },
            "type": "table"
           }
          ]
         },
         "layout": {
          "annotationdefaults": {
           "arrowcolor": "#2a3f5f",
           "arrowhead": 0,
           "arrowwidth": 1
          },
          "coloraxis": {
           "colorbar": {
            "outlinewidth": 0,
            "ticks": ""
           }
          },
          "colorscale": {
           "diverging": [
            [
             0,
             "#8e0152"
            ],
            [
             0.1,
             "#c51b7d"
            ],
            [
             0.2,
             "#de77ae"
            ],
            [
             0.3,
             "#f1b6da"
            ],
            [
             0.4,
             "#fde0ef"
            ],
            [
             0.5,
             "#f7f7f7"
            ],
            [
             0.6,
             "#e6f5d0"
            ],
            [
             0.7,
             "#b8e186"
            ],
            [
             0.8,
             "#7fbc41"
            ],
            [
             0.9,
             "#4d9221"
            ],
            [
             1,
             "#276419"
            ]
           ],
           "sequential": [
            [
             0,
             "#0d0887"
            ],
            [
             0.1111111111111111,
             "#46039f"
            ],
            [
             0.2222222222222222,
             "#7201a8"
            ],
            [
             0.3333333333333333,
             "#9c179e"
            ],
            [
             0.4444444444444444,
             "#bd3786"
            ],
            [
             0.5555555555555556,
             "#d8576b"
            ],
            [
             0.6666666666666666,
             "#ed7953"
            ],
            [
             0.7777777777777778,
             "#fb9f3a"
            ],
            [
             0.8888888888888888,
             "#fdca26"
            ],
            [
             1,
             "#f0f921"
            ]
           ],
           "sequentialminus": [
            [
             0,
             "#0d0887"
            ],
            [
             0.1111111111111111,
             "#46039f"
            ],
            [
             0.2222222222222222,
             "#7201a8"
            ],
            [
             0.3333333333333333,
             "#9c179e"
            ],
            [
             0.4444444444444444,
             "#bd3786"
            ],
            [
             0.5555555555555556,
             "#d8576b"
            ],
            [
             0.6666666666666666,
             "#ed7953"
            ],
            [
             0.7777777777777778,
             "#fb9f3a"
            ],
            [
             0.8888888888888888,
             "#fdca26"
            ],
            [
             1,
             "#f0f921"
            ]
           ]
          },
          "colorway": [
           "#636efa",
           "#EF553B",
           "#00cc96",
           "#ab63fa",
           "#FFA15A",
           "#19d3f3",
           "#FF6692",
           "#B6E880",
           "#FF97FF",
           "#FECB52"
          ],
          "font": {
           "color": "#2a3f5f"
          },
          "geo": {
           "bgcolor": "white",
           "lakecolor": "white",
           "landcolor": "#E5ECF6",
           "showlakes": true,
           "showland": true,
           "subunitcolor": "white"
          },
          "hoverlabel": {
           "align": "left"
          },
          "hovermode": "closest",
          "mapbox": {
           "style": "light"
          },
          "paper_bgcolor": "white",
          "plot_bgcolor": "#E5ECF6",
          "polar": {
           "angularaxis": {
            "gridcolor": "white",
            "linecolor": "white",
            "ticks": ""
           },
           "bgcolor": "#E5ECF6",
           "radialaxis": {
            "gridcolor": "white",
            "linecolor": "white",
            "ticks": ""
           }
          },
          "scene": {
           "xaxis": {
            "backgroundcolor": "#E5ECF6",
            "gridcolor": "white",
            "gridwidth": 2,
            "linecolor": "white",
            "showbackground": true,
            "ticks": "",
            "zerolinecolor": "white"
           },
           "yaxis": {
            "backgroundcolor": "#E5ECF6",
            "gridcolor": "white",
            "gridwidth": 2,
            "linecolor": "white",
            "showbackground": true,
            "ticks": "",
            "zerolinecolor": "white"
           },
           "zaxis": {
            "backgroundcolor": "#E5ECF6",
            "gridcolor": "white",
            "gridwidth": 2,
            "linecolor": "white",
            "showbackground": true,
            "ticks": "",
            "zerolinecolor": "white"
           }
          },
          "shapedefaults": {
           "line": {
            "color": "#2a3f5f"
           }
          },
          "ternary": {
           "aaxis": {
            "gridcolor": "white",
            "linecolor": "white",
            "ticks": ""
           },
           "baxis": {
            "gridcolor": "white",
            "linecolor": "white",
            "ticks": ""
           },
           "bgcolor": "#E5ECF6",
           "caxis": {
            "gridcolor": "white",
            "linecolor": "white",
            "ticks": ""
           }
          },
          "title": {
           "x": 0.05
          },
          "xaxis": {
           "automargin": true,
           "gridcolor": "white",
           "linecolor": "white",
           "ticks": "",
           "title": {
            "standoff": 15
           },
           "zerolinecolor": "white",
           "zerolinewidth": 2
          },
          "yaxis": {
           "automargin": true,
           "gridcolor": "white",
           "linecolor": "white",
           "ticks": "",
           "title": {
            "standoff": 15
           },
           "zerolinecolor": "white",
           "zerolinewidth": 2
          }
         }
        }
       }
      },
      "text/html": [
       "<div>\n",
       "        \n",
       "        \n",
       "            <div id=\"97296b7d-543f-4588-a1f7-b9ca34f8b452\" class=\"plotly-graph-div\" style=\"height:525px; width:100%;\"></div>\n",
       "            <script type=\"text/javascript\">\n",
       "                require([\"plotly\"], function(Plotly) {\n",
       "                    window.PLOTLYENV=window.PLOTLYENV || {};\n",
       "                    \n",
       "                if (document.getElementById(\"97296b7d-543f-4588-a1f7-b9ca34f8b452\")) {\n",
       "                    Plotly.newPlot(\n",
       "                        '97296b7d-543f-4588-a1f7-b9ca34f8b452',\n",
       "                        [{\"error_y\": {\"array\": [1.9383530380196483], \"type\": \"data\"}, \"insidetextanchor\": \"middle\", \"marker\": {\"color\": \"#B0C4DE\", \"line\": {\"color\": \"rgb(8,48,107)\", \"width\": 1.5}}, \"name\": \"Human Only\", \"opacity\": 0.8, \"text\": [\"60.9\"], \"textposition\": \"inside\", \"type\": \"bar\", \"x\": [\"\"], \"y\": [60.9]}, {\"error_y\": {\"array\": [1.2086808468759276], \"type\": \"data\"}, \"insidetextanchor\": \"middle\", \"marker\": {\"color\": \"#A9A9A9\", \"line\": {\"color\": \"rgb(8,48,107)\", \"width\": 1.5}}, \"name\": \"Chatbot Only\", \"opacity\": 0.8, \"text\": [\"152.59\"], \"textposition\": \"inside\", \"type\": \"bar\", \"x\": [\"\"], \"y\": [152.59]}, {\"error_y\": {\"array\": [3.3252897422795917, 3.713340259739469, 5.252884204636788], \"type\": \"data\"}, \"insidetextanchor\": \"middle\", \"marker\": {\"color\": \"lightsalmon\", \"line\": {\"color\": \"rgb(8,48,107)\", \"width\": 1.5}}, \"name\": \"C1\", \"opacity\": 0.8, \"text\": [\"101.72\", \"124.61\", \"147.33\"], \"textposition\": \"inside\", \"type\": \"bar\", \"x\": [\"1 Suggestion\", \"3 Suggestions\", \"5 Suggestions\"], \"y\": [101.72, 124.61, 147.33]}, {\"error_y\": {\"array\": [2.87917708303888, 3.1511814833676883, 3.265590776177859], \"type\": \"data\"}, \"insidetextanchor\": \"middle\", \"marker\": {\"color\": \"#ffdacc\", \"line\": {\"color\": \"rgb(8,48,107)\", \"width\": 1.5}}, \"name\": \"C1 - Chatbot Only\", \"opacity\": 0.8, \"text\": [\"152.55\", \"156.04\", \"152.5\"], \"textposition\": \"inside\", \"type\": \"bar\", \"x\": [\"1 Suggestion\", \"3 Suggestions\", \"5 Suggestions\"], \"y\": [152.55, 156.04, 152.5]}, {\"error_y\": {\"array\": [2.9240226780438463, 4.6152705251951796, 4.718448243423726], \"type\": \"data\"}, \"insidetextanchor\": \"middle\", \"marker\": {\"color\": \"#AFEEEE\", \"line\": {\"color\": \"rgb(8,48,107)\", \"width\": 1.5}}, \"name\": \"C2\", \"opacity\": 0.8, \"text\": [\"138.68\", \"164.58\", \"189.23\"], \"textposition\": \"inside\", \"type\": \"bar\", \"x\": [\"1 Suggestion\", \"3 Suggestions\", \"5 Suggestions\"], \"y\": [138.68, 164.58, 189.23]}, {\"error_y\": {\"array\": [2.631372341101744, 2.9027285518645716, 2.997351582872668], \"type\": \"data\"}, \"insidetextanchor\": \"middle\", \"marker\": {\"color\": \"#eafbfb\", \"line\": {\"color\": \"rgb(8,48,107)\", \"width\": 1.5}}, \"name\": \"C2 - Chatbot Only\", \"opacity\": 0.8, \"text\": [\"148.33\", \"152.26\", \"154.56\"], \"textposition\": \"inside\", \"type\": \"bar\", \"x\": [\"1 Suggestion\", \"3 Suggestions\", \"5 Suggestions\"], \"y\": [148.33, 152.26, 154.56]}],\n",
       "                        {\"font\": {\"size\": 13}, \"legend\": {\"orientation\": \"h\"}, \"template\": {\"data\": {\"bar\": [{\"error_x\": {\"color\": \"#2a3f5f\"}, \"error_y\": {\"color\": \"#2a3f5f\"}, \"marker\": {\"line\": {\"color\": \"#E5ECF6\", \"width\": 0.5}}, \"type\": \"bar\"}], \"barpolar\": [{\"marker\": {\"line\": {\"color\": \"#E5ECF6\", \"width\": 0.5}}, \"type\": \"barpolar\"}], \"carpet\": [{\"aaxis\": {\"endlinecolor\": \"#2a3f5f\", \"gridcolor\": \"white\", \"linecolor\": \"white\", \"minorgridcolor\": \"white\", \"startlinecolor\": \"#2a3f5f\"}, \"baxis\": {\"endlinecolor\": \"#2a3f5f\", \"gridcolor\": \"white\", \"linecolor\": \"white\", \"minorgridcolor\": \"white\", \"startlinecolor\": \"#2a3f5f\"}, \"type\": \"carpet\"}], \"choropleth\": [{\"colorbar\": {\"outlinewidth\": 0, \"ticks\": \"\"}, \"type\": \"choropleth\"}], \"contour\": [{\"colorbar\": {\"outlinewidth\": 0, \"ticks\": \"\"}, \"colorscale\": [[0.0, \"#0d0887\"], [0.1111111111111111, \"#46039f\"], [0.2222222222222222, \"#7201a8\"], [0.3333333333333333, \"#9c179e\"], [0.4444444444444444, \"#bd3786\"], [0.5555555555555556, \"#d8576b\"], [0.6666666666666666, \"#ed7953\"], [0.7777777777777778, \"#fb9f3a\"], [0.8888888888888888, \"#fdca26\"], [1.0, \"#f0f921\"]], \"type\": \"contour\"}], \"contourcarpet\": [{\"colorbar\": {\"outlinewidth\": 0, \"ticks\": \"\"}, \"type\": \"contourcarpet\"}], \"heatmap\": [{\"colorbar\": {\"outlinewidth\": 0, \"ticks\": \"\"}, \"colorscale\": [[0.0, \"#0d0887\"], [0.1111111111111111, \"#46039f\"], [0.2222222222222222, \"#7201a8\"], [0.3333333333333333, \"#9c179e\"], [0.4444444444444444, \"#bd3786\"], [0.5555555555555556, \"#d8576b\"], [0.6666666666666666, \"#ed7953\"], [0.7777777777777778, \"#fb9f3a\"], [0.8888888888888888, \"#fdca26\"], [1.0, \"#f0f921\"]], \"type\": \"heatmap\"}], \"heatmapgl\": [{\"colorbar\": {\"outlinewidth\": 0, \"ticks\": \"\"}, \"colorscale\": [[0.0, \"#0d0887\"], [0.1111111111111111, \"#46039f\"], [0.2222222222222222, \"#7201a8\"], [0.3333333333333333, \"#9c179e\"], [0.4444444444444444, \"#bd3786\"], [0.5555555555555556, \"#d8576b\"], [0.6666666666666666, \"#ed7953\"], [0.7777777777777778, \"#fb9f3a\"], [0.8888888888888888, \"#fdca26\"], [1.0, \"#f0f921\"]], \"type\": \"heatmapgl\"}], \"histogram\": [{\"marker\": {\"colorbar\": {\"outlinewidth\": 0, \"ticks\": \"\"}}, \"type\": \"histogram\"}], \"histogram2d\": [{\"colorbar\": {\"outlinewidth\": 0, \"ticks\": \"\"}, \"colorscale\": [[0.0, \"#0d0887\"], [0.1111111111111111, \"#46039f\"], [0.2222222222222222, \"#7201a8\"], [0.3333333333333333, \"#9c179e\"], [0.4444444444444444, \"#bd3786\"], [0.5555555555555556, \"#d8576b\"], [0.6666666666666666, \"#ed7953\"], [0.7777777777777778, \"#fb9f3a\"], [0.8888888888888888, \"#fdca26\"], [1.0, \"#f0f921\"]], \"type\": \"histogram2d\"}], \"histogram2dcontour\": [{\"colorbar\": {\"outlinewidth\": 0, \"ticks\": \"\"}, \"colorscale\": [[0.0, \"#0d0887\"], [0.1111111111111111, \"#46039f\"], [0.2222222222222222, \"#7201a8\"], [0.3333333333333333, \"#9c179e\"], [0.4444444444444444, \"#bd3786\"], [0.5555555555555556, \"#d8576b\"], [0.6666666666666666, \"#ed7953\"], [0.7777777777777778, \"#fb9f3a\"], [0.8888888888888888, \"#fdca26\"], [1.0, \"#f0f921\"]], \"type\": \"histogram2dcontour\"}], \"mesh3d\": [{\"colorbar\": {\"outlinewidth\": 0, \"ticks\": \"\"}, \"type\": \"mesh3d\"}], \"parcoords\": [{\"line\": {\"colorbar\": {\"outlinewidth\": 0, \"ticks\": \"\"}}, \"type\": \"parcoords\"}], \"pie\": [{\"automargin\": true, \"type\": \"pie\"}], \"scatter\": [{\"marker\": {\"colorbar\": {\"outlinewidth\": 0, \"ticks\": \"\"}}, \"type\": \"scatter\"}], \"scatter3d\": [{\"line\": {\"colorbar\": {\"outlinewidth\": 0, \"ticks\": \"\"}}, \"marker\": {\"colorbar\": {\"outlinewidth\": 0, \"ticks\": \"\"}}, \"type\": \"scatter3d\"}], \"scattercarpet\": [{\"marker\": {\"colorbar\": {\"outlinewidth\": 0, \"ticks\": \"\"}}, \"type\": \"scattercarpet\"}], \"scattergeo\": [{\"marker\": {\"colorbar\": {\"outlinewidth\": 0, \"ticks\": \"\"}}, \"type\": \"scattergeo\"}], \"scattergl\": [{\"marker\": {\"colorbar\": {\"outlinewidth\": 0, \"ticks\": \"\"}}, \"type\": \"scattergl\"}], \"scattermapbox\": [{\"marker\": {\"colorbar\": {\"outlinewidth\": 0, \"ticks\": \"\"}}, \"type\": \"scattermapbox\"}], \"scatterpolar\": [{\"marker\": {\"colorbar\": {\"outlinewidth\": 0, \"ticks\": \"\"}}, \"type\": \"scatterpolar\"}], \"scatterpolargl\": [{\"marker\": {\"colorbar\": {\"outlinewidth\": 0, \"ticks\": \"\"}}, \"type\": \"scatterpolargl\"}], \"scatterternary\": [{\"marker\": {\"colorbar\": {\"outlinewidth\": 0, \"ticks\": \"\"}}, \"type\": \"scatterternary\"}], \"surface\": [{\"colorbar\": {\"outlinewidth\": 0, \"ticks\": \"\"}, \"colorscale\": [[0.0, \"#0d0887\"], [0.1111111111111111, \"#46039f\"], [0.2222222222222222, \"#7201a8\"], [0.3333333333333333, \"#9c179e\"], [0.4444444444444444, \"#bd3786\"], [0.5555555555555556, \"#d8576b\"], [0.6666666666666666, \"#ed7953\"], [0.7777777777777778, \"#fb9f3a\"], [0.8888888888888888, \"#fdca26\"], [1.0, \"#f0f921\"]], \"type\": \"surface\"}], \"table\": [{\"cells\": {\"fill\": {\"color\": \"#EBF0F8\"}, \"line\": {\"color\": \"white\"}}, \"header\": {\"fill\": {\"color\": \"#C8D4E3\"}, \"line\": {\"color\": \"white\"}}, \"type\": \"table\"}]}, \"layout\": {\"annotationdefaults\": {\"arrowcolor\": \"#2a3f5f\", \"arrowhead\": 0, \"arrowwidth\": 1}, \"coloraxis\": {\"colorbar\": {\"outlinewidth\": 0, \"ticks\": \"\"}}, \"colorscale\": {\"diverging\": [[0, \"#8e0152\"], [0.1, \"#c51b7d\"], [0.2, \"#de77ae\"], [0.3, \"#f1b6da\"], [0.4, \"#fde0ef\"], [0.5, \"#f7f7f7\"], [0.6, \"#e6f5d0\"], [0.7, \"#b8e186\"], [0.8, \"#7fbc41\"], [0.9, \"#4d9221\"], [1, \"#276419\"]], \"sequential\": [[0.0, \"#0d0887\"], [0.1111111111111111, \"#46039f\"], [0.2222222222222222, \"#7201a8\"], [0.3333333333333333, \"#9c179e\"], [0.4444444444444444, \"#bd3786\"], [0.5555555555555556, \"#d8576b\"], [0.6666666666666666, \"#ed7953\"], [0.7777777777777778, \"#fb9f3a\"], [0.8888888888888888, \"#fdca26\"], [1.0, \"#f0f921\"]], \"sequentialminus\": [[0.0, \"#0d0887\"], [0.1111111111111111, \"#46039f\"], [0.2222222222222222, \"#7201a8\"], [0.3333333333333333, \"#9c179e\"], [0.4444444444444444, \"#bd3786\"], [0.5555555555555556, \"#d8576b\"], [0.6666666666666666, \"#ed7953\"], [0.7777777777777778, \"#fb9f3a\"], [0.8888888888888888, \"#fdca26\"], [1.0, \"#f0f921\"]]}, \"colorway\": [\"#636efa\", \"#EF553B\", \"#00cc96\", \"#ab63fa\", \"#FFA15A\", \"#19d3f3\", \"#FF6692\", \"#B6E880\", \"#FF97FF\", \"#FECB52\"], \"font\": {\"color\": \"#2a3f5f\"}, \"geo\": {\"bgcolor\": \"white\", \"lakecolor\": \"white\", \"landcolor\": \"#E5ECF6\", \"showlakes\": true, \"showland\": true, \"subunitcolor\": \"white\"}, \"hoverlabel\": {\"align\": \"left\"}, \"hovermode\": \"closest\", \"mapbox\": {\"style\": \"light\"}, \"paper_bgcolor\": \"white\", \"plot_bgcolor\": \"#E5ECF6\", \"polar\": {\"angularaxis\": {\"gridcolor\": \"white\", \"linecolor\": \"white\", \"ticks\": \"\"}, \"bgcolor\": \"#E5ECF6\", \"radialaxis\": {\"gridcolor\": \"white\", \"linecolor\": \"white\", \"ticks\": \"\"}}, \"scene\": {\"xaxis\": {\"backgroundcolor\": \"#E5ECF6\", \"gridcolor\": \"white\", \"gridwidth\": 2, \"linecolor\": \"white\", \"showbackground\": true, \"ticks\": \"\", \"zerolinecolor\": \"white\"}, \"yaxis\": {\"backgroundcolor\": \"#E5ECF6\", \"gridcolor\": \"white\", \"gridwidth\": 2, \"linecolor\": \"white\", \"showbackground\": true, \"ticks\": \"\", \"zerolinecolor\": \"white\"}, \"zaxis\": {\"backgroundcolor\": \"#E5ECF6\", \"gridcolor\": \"white\", \"gridwidth\": 2, \"linecolor\": \"white\", \"showbackground\": true, \"ticks\": \"\", \"zerolinecolor\": \"white\"}}, \"shapedefaults\": {\"line\": {\"color\": \"#2a3f5f\"}}, \"ternary\": {\"aaxis\": {\"gridcolor\": \"white\", \"linecolor\": \"white\", \"ticks\": \"\"}, \"baxis\": {\"gridcolor\": \"white\", \"linecolor\": \"white\", \"ticks\": \"\"}, \"bgcolor\": \"#E5ECF6\", \"caxis\": {\"gridcolor\": \"white\", \"linecolor\": \"white\", \"ticks\": \"\"}}, \"title\": {\"x\": 0.05}, \"xaxis\": {\"automargin\": true, \"gridcolor\": \"white\", \"linecolor\": \"white\", \"ticks\": \"\", \"title\": {\"standoff\": 15}, \"zerolinecolor\": \"white\", \"zerolinewidth\": 2}, \"yaxis\": {\"automargin\": true, \"gridcolor\": \"white\", \"linecolor\": \"white\", \"ticks\": \"\", \"title\": {\"standoff\": 15}, \"zerolinecolor\": \"white\", \"zerolinewidth\": 2}}}},\n",
       "                        {\"responsive\": true}\n",
       "                    ).then(function(){\n",
       "                            \n",
       "var gd = document.getElementById('97296b7d-543f-4588-a1f7-b9ca34f8b452');\n",
       "var x = new MutationObserver(function (mutations, observer) {{\n",
       "        var display = window.getComputedStyle(gd).display;\n",
       "        if (!display || display === 'none') {{\n",
       "            console.log([gd, 'removed!']);\n",
       "            Plotly.purge(gd);\n",
       "            observer.disconnect();\n",
       "        }}\n",
       "}});\n",
       "\n",
       "// Listen for the removal of the full notebook cells\n",
       "var notebookContainer = gd.closest('#notebook-container');\n",
       "if (notebookContainer) {{\n",
       "    x.observe(notebookContainer, {childList: true});\n",
       "}}\n",
       "\n",
       "// Listen for the clearing of the current output cell\n",
       "var outputEl = gd.closest('.output');\n",
       "if (outputEl) {{\n",
       "    x.observe(outputEl, {childList: true});\n",
       "}}\n",
       "\n",
       "                        })\n",
       "                };\n",
       "                });\n",
       "            </script>\n",
       "        </div>"
      ]
     },
     "metadata": {},
     "output_type": "display_data"
    }
   ],
   "source": [
    "colors = ['#FAEBD7', '#FFA07A', '#B0C4DE', '#AFEEEE', '#8FBC8F']\n",
    "x = ['1 Suggestion', '3 Suggestions', '5 Suggestions']\n",
    "fig = go.Figure()\n",
    "\n",
    "xHuman = ['']\n",
    "yHuman = [Set1]\n",
    "yHumanErorr = [np.std(z)/math.sqrt(len(z)) for z in yHuman] \n",
    "yHuman = [round(statistics.mean(z), 2) for z in yHuman]\n",
    "\n",
    "fig.add_trace(go.Bar(\n",
    "    name='Human Only',\n",
    "    x=xHuman, y=yHuman, text=yHuman, textposition='inside',insidetextanchor='middle',\n",
    "    marker_color='#B0C4DE',\n",
    "    marker_line_color='rgb(8,48,107)', marker_line_width=1.5, opacity=0.8,\n",
    "    error_y=dict(type='data', array=yHumanErorr)\n",
    "))\n",
    "\n",
    "xBot = ['']\n",
    "yBot = [bot2]\n",
    "yBotErorr = [np.std(z)/math.sqrt(len(z)) for z in yBot] \n",
    "yBot = [round(statistics.mean(z), 2) for z in yBot]\n",
    "\n",
    "fig.add_trace(go.Bar(\n",
    "    name='Chatbot Only',\n",
    "    x=xBot, y=yBot, text=yBot, textposition='inside',insidetextanchor='middle',\n",
    "    marker_color='#A9A9A9',\n",
    "    marker_line_color='rgb(8,48,107)', marker_line_width=1.5, opacity=0.8,\n",
    "    error_y=dict(type='data', array=yBotErorr)\n",
    "))\n",
    "\n",
    "\n",
    "ySuggOnly = [sugg1, sugg3, sugg5]\n",
    "ySuggOnlyErorr = [np.std(z)/math.sqrt(len(z)) for z in ySuggOnly] \n",
    "ySuggOnly = [round(statistics.mean(z), 2) for z in ySuggOnly]\n",
    "\n",
    "fig.add_trace(go.Bar(\n",
    "    name='C1',\n",
    "    x=x, y=ySuggOnly, text=ySuggOnly, textposition='inside',insidetextanchor='middle',\n",
    "    marker_color='lightsalmon',\n",
    "    marker_line_color='rgb(8,48,107)', marker_line_width=1.5, opacity=0.8,\n",
    "    error_y=dict(type='data', array=ySuggOnlyErorr)\n",
    "))\n",
    "\n",
    "ySuggOnlyBot = [sugg1Bot, sugg3Bot, sugg5Bot]\n",
    "ySuggOnlyBotErorr = [np.std(z)/math.sqrt(len(z)) for z in ySuggOnlyBot] \n",
    "ySuggOnlyBot = [round(statistics.mean(z), 2) for z in ySuggOnlyBot]\n",
    "\n",
    "fig.add_trace(go.Bar(\n",
    "    name='C1 - Chatbot Only',\n",
    "    x=x, y=ySuggOnlyBot, text=ySuggOnlyBot, textposition='inside',insidetextanchor='middle',\n",
    "    marker_color='#ffdacc',\n",
    "    marker_line_color='rgb(8,48,107)', marker_line_width=1.5, opacity=0.8,\n",
    "    error_y=dict(type='data', array=ySuggOnlyBotErorr)\n",
    "))\n",
    "\n",
    "yAutoSugg = [autoSugg1, autoSugg3, autoSugg5]\n",
    "yAutoSuggErorr = [np.std(z)/math.sqrt(len(z)) for z in yAutoSugg] \n",
    "yAutoSugg = [round(statistics.mean(z), 2) for z in yAutoSugg]\n",
    "\n",
    "fig.add_trace(go.Bar(\n",
    "    name='C2',\n",
    "    x=x, y=yAutoSugg, text=yAutoSugg, textposition='inside',insidetextanchor='middle',\n",
    "    marker_color='#AFEEEE',\n",
    "    marker_line_color='rgb(8,48,107)', marker_line_width=1.5, opacity=0.8,\n",
    "    error_y=dict(type='data', array=yAutoSuggErorr)\n",
    "))\n",
    "\n",
    "yAutoSuggBot = [autoSugg1Bot, autoSugg3Bot, autoSugg5Bot]\n",
    "yAutoSuggBotErorr = [np.std(z)/math.sqrt(len(z)) for z in yAutoSuggBot] \n",
    "yAutoSuggBot = [round(statistics.mean(z), 2) for z in yAutoSuggBot]\n",
    "\n",
    "fig.add_trace(go.Bar(\n",
    "    name='C2 - Chatbot Only',\n",
    "    x=x, y=yAutoSuggBot, text=yAutoSuggBot, textposition='inside',insidetextanchor='middle',\n",
    "    marker_color='#eafbfb',\n",
    "    marker_line_color='rgb(8,48,107)', marker_line_width=1.5, opacity=0.8,\n",
    "    error_y=dict(type='data', array=yAutoSuggBotErorr)\n",
    "))\n",
    "\n",
    "\n",
    "fig.update_layout(\n",
    "    font=dict(\n",
    "        size=13\n",
    "    )\n",
    ")\n",
    "fig.update_layout(legend_orientation=\"h\")\n",
    "\n",
    "\n",
    "fig.show()\n"
   ]
  },
  {
   "cell_type": "code",
   "execution_count": null,
   "metadata": {},
   "outputs": [],
   "source": []
  },
  {
   "cell_type": "markdown",
   "metadata": {},
   "source": [
    "## Setting 3"
   ]
  },
  {
   "cell_type": "code",
   "execution_count": 14,
   "metadata": {},
   "outputs": [],
   "source": [
    "sugg1 = []\n",
    "sugg3 = []\n",
    "sugg5 = []\n",
    "\n",
    "autoSugg1 = []\n",
    "autoSugg3 = []\n",
    "autoSugg5 = []\n",
    "\n",
    "sugg1Bot = []\n",
    "sugg3Bot = []\n",
    "sugg5Bot = []\n",
    "\n",
    "autoSugg1Bot = []\n",
    "autoSugg3Bot = []\n",
    "autoSugg5Bot = []\n",
    "\n",
    "\n",
    "for root, dirs, files in os.walk(\"../clean/Setting 3\"):\n",
    "    for file in files:\n",
    "        if file.endswith(\".json\"):\n",
    "            fileName = os.path.join(root, file)\n",
    "            with open(fileName) as json_file:\n",
    "                try:\n",
    "                    data = json.load(json_file)\n",
    "                    dialogs = data['dialogs']\n",
    "                    \n",
    "                    if(data['autoFilledSuggestion'] == 0):\n",
    "                        \n",
    "                        if(data['suggestionsNumber'] == 1):\n",
    "                            for i in range(1, len(dialogs)):\n",
    "                                sugg1.append(len(dialogs[i]['context']['userResponse']))\n",
    "                                sugg1Bot.append(len(dialogs[i]['context']['suggestions'][0]))\n",
    "                        \n",
    "                        elif(data['suggestionsNumber'] == 3):\n",
    "                            for i in range(1, len(dialogs)):\n",
    "                                sugg3.append(len(dialogs[i]['context']['userResponse']))\n",
    "                                sugg3Bot.append(len(dialogs[i]['context']['suggestions'][0]))\n",
    "                        \n",
    "                        elif(data['suggestionsNumber'] == 5):\n",
    "                            for i in range(1, len(dialogs)):\n",
    "                                sugg5.append(len(dialogs[i]['context']['userResponse']))\n",
    "                                sugg5Bot.append(len(dialogs[i]['context']['suggestions'][0]))\n",
    "                    \n",
    "                    else:\n",
    "                        \n",
    "                        if(data['suggestionsNumber'] == 1):\n",
    "                            for i in range(1, len(dialogs)):\n",
    "                                autoSugg1.append(len(dialogs[i]['context']['userResponse']))\n",
    "                                autoSugg1Bot.append(len(dialogs[i]['context']['suggestions'][0]))\n",
    "                        \n",
    "                        elif(data['suggestionsNumber'] == 3):\n",
    "                            for i in range(1, len(dialogs)):\n",
    "                                autoSugg3.append(len(dialogs[i]['context']['userResponse']))\n",
    "                                autoSugg3Bot.append(len(dialogs[i]['context']['suggestions'][0]))\n",
    "                        \n",
    "                        elif(data['suggestionsNumber'] == 5):\n",
    "                            for i in range(1, len(dialogs)):\n",
    "                                autoSugg5.append(len(dialogs[i]['context']['userResponse']))\n",
    "                                autoSugg5Bot.append(len(dialogs[i]['context']['suggestions'][0]))\n",
    "                    \n",
    "                    \n",
    "                except Exception as e: print(e)"
   ]
  },
  {
   "cell_type": "markdown",
   "metadata": {},
   "source": [
    "### Suggestions Only"
   ]
  },
  {
   "cell_type": "code",
   "execution_count": 15,
   "metadata": {},
   "outputs": [
    {
     "name": "stdout",
     "output_type": "stream",
     "text": [
      "Finished conversations with 1 suggestion(s): 86.71713147410358\n",
      "Finished conversations with 3 suggestion(s): 100.80378657487091\n",
      "Finished conversations with 5 suggestion(s): 100.1697247706422\n"
     ]
    }
   ],
   "source": [
    "print(\"Finished conversations with 1 suggestion(s): \" + str(statistics.mean(sugg1)))\n",
    "print(\"Finished conversations with 3 suggestion(s): \" + str(statistics.mean(sugg3)))\n",
    "print(\"Finished conversations with 5 suggestion(s): \" + str(statistics.mean(sugg5)))"
   ]
  },
  {
   "cell_type": "markdown",
   "metadata": {},
   "source": [
    "### Autofilled Suggestion\n"
   ]
  },
  {
   "cell_type": "code",
   "execution_count": 16,
   "metadata": {},
   "outputs": [
    {
     "name": "stdout",
     "output_type": "stream",
     "text": [
      "Finished conversations with 1 suggestion(s): 94.5054432348367\n",
      "Finished conversations with 3 suggestion(s): 113.07370517928287\n",
      "Finished conversations with 5 suggestion(s): 120.03503184713375\n"
     ]
    }
   ],
   "source": [
    "print(\"Finished conversations with 1 suggestion(s): \" + str(statistics.mean(autoSugg1)))\n",
    "print(\"Finished conversations with 3 suggestion(s): \" + str(statistics.mean(autoSugg3)))\n",
    "print(\"Finished conversations with 5 suggestion(s): \" + str(statistics.mean(autoSugg5)))"
   ]
  },
  {
   "cell_type": "code",
   "execution_count": 17,
   "metadata": {},
   "outputs": [
    {
     "name": "stdout",
     "output_type": "stream",
     "text": [
      "H Bot 0.000000000000000000000000000000000000000000000000000000000023426883570190233\n",
      "H sugg1 0.0000000000000000000025450250852401498\n",
      "H sugg3 0.0000000000000000000000000000000000000000000039238719429876547\n",
      "H sugg5 0.000000000000000000000000000000000003947875390686066\n",
      "H autoSugg1 0.0000000000000000000000000000000000006702512008636146\n",
      "H autoSugg3 0.00000000000000000000000000000000000000000000000002191943374326176\n",
      "H autoSugg5 0.0000000000000000000000000000000000000000000000000000000000000000000000000046375787809968185\n",
      "Bot sugg1 0.00000000017782667828794532\n",
      "Bot sugg3 0.4179756465305482\n",
      "Bot sugg5 0.6847965540816192\n",
      "Bot autoSugg1 0.00732014231144242\n",
      "Bot autoSugg3 0.00000046633118034311596\n",
      "Bot autoSugg5 0.000000000000000003792538545030972\n",
      "sugg1 sugg3 0.00000006253847113761754\n",
      "sugg1 sugg5 0.000003899047203908933\n",
      "sugg1 autoSugg1 0.0013716273161457815\n",
      "sugg1 autoSugg3 0.0000000000000005852458829300609\n",
      "sugg1 autoSugg5 0.000000000000000000000000000023648604895774283\n",
      "sugg3 sugg5 0.8281242019779318\n",
      "sugg3 autoSugg1 0.010467224282256982\n",
      "sugg3 autoSugg3 0.00014674975530850964\n",
      "sugg3 autoSugg5 0.00000000005250950594500229\n",
      "sugg5 autoSugg1 0.04197821526032977\n",
      "sugg5 autoSugg3 0.00021439687025117147\n",
      "sugg5 autoSugg5 0.0000000006278614184985502\n",
      "autoSugg1 autoSugg3 0.0000000028577891386184576\n",
      "autoSugg1 autoSugg5 0.00000000000000000011643134242421484\n",
      "autoSugg3 autoSugg5 0.04436848609836956\n"
     ]
    }
   ],
   "source": [
    "settings = {\n",
    "    'H': Set1,\n",
    "    'Bot': bot3,\n",
    "    'sugg1': sugg1,\n",
    "    'sugg3': sugg3,\n",
    "    'sugg5': sugg5,\n",
    "    'autoSugg1': autoSugg1,\n",
    "    'autoSugg3': autoSugg3,\n",
    "    'autoSugg5': autoSugg5\n",
    "}\n",
    "\n",
    "for list1, list2 in combinations(settings.keys(), 2):\n",
    "    t, p = ttest_ind(settings[list1], settings[list2], equal_var = False)\n",
    "    print (list1, list2, float_to_str(p))"
   ]
  },
  {
   "cell_type": "code",
   "execution_count": 18,
   "metadata": {},
   "outputs": [
    {
     "data": {
      "application/vnd.plotly.v1+json": {
       "config": {
        "plotlyServerURL": "https://plot.ly"
       },
       "data": [
        {
         "error_y": {
          "array": [
           1.9383530380196483
          ],
          "type": "data"
         },
         "insidetextanchor": "middle",
         "marker": {
          "color": "#B0C4DE",
          "line": {
           "color": "rgb(8,48,107)",
           "width": 1.5
          }
         },
         "name": "Human Only",
         "opacity": 0.8,
         "text": [
          "60.9"
         ],
         "textposition": "inside",
         "type": "bar",
         "x": [
          ""
         ],
         "y": [
          60.9
         ]
        },
        {
         "error_y": {
          "array": [
           1.2086808468759276
          ],
          "type": "data"
         },
         "insidetextanchor": "middle",
         "marker": {
          "color": "#A9A9A9",
          "line": {
           "color": "rgb(8,48,107)",
           "width": 1.5
          }
         },
         "name": "Chatbot Only",
         "opacity": 0.8,
         "text": [
          "152.59"
         ],
         "textposition": "inside",
         "type": "bar",
         "x": [
          ""
         ],
         "y": [
          152.59
         ]
        },
        {
         "error_y": {
          "array": [
           1.806345496331068,
           1.8456369714416343,
           2.258399299337369
          ],
          "type": "data"
         },
         "insidetextanchor": "middle",
         "marker": {
          "color": "lightsalmon",
          "line": {
           "color": "rgb(8,48,107)",
           "width": 1.5
          }
         },
         "name": "C1",
         "opacity": 0.8,
         "text": [
          "86.72",
          "100.8",
          "100.17"
         ],
         "textposition": "inside",
         "type": "bar",
         "x": [
          "1 Suggestion",
          "3 Suggestions",
          "5 Suggestions"
         ],
         "y": [
          86.72,
          100.8,
          100.17
         ]
        },
        {
         "error_y": {
          "array": [
           1.6062458605294645,
           1.6071025401597963,
           1.934367552069774
          ],
          "type": "data"
         },
         "insidetextanchor": "middle",
         "marker": {
          "color": "#ffdacc",
          "line": {
           "color": "rgb(8,48,107)",
           "width": 1.5
          }
         },
         "name": "C1 - Chatbot Only",
         "opacity": 0.8,
         "text": [
          "99.08",
          "101.87",
          "100.0"
         ],
         "textposition": "inside",
         "type": "bar",
         "x": [
          "1 Suggestion",
          "3 Suggestions",
          "5 Suggestions"
         ],
         "y": [
          99.08,
          101.87,
          100
         ]
        },
        {
         "error_y": {
          "array": [
           1.6178360590458314,
           2.6328665536894467,
           2.2372057416011524
          ],
          "type": "data"
         },
         "insidetextanchor": "middle",
         "marker": {
          "color": "#AFEEEE",
          "line": {
           "color": "rgb(8,48,107)",
           "width": 1.5
          }
         },
         "name": "C2",
         "opacity": 0.8,
         "text": [
          "94.51",
          "113.07",
          "120.04"
         ],
         "textposition": "inside",
         "type": "bar",
         "x": [
          "1 Suggestion",
          "3 Suggestions",
          "5 Suggestions"
         ],
         "y": [
          94.51,
          113.07,
          120.04
         ]
        },
        {
         "error_y": {
          "array": [
           1.4937940741390185,
           1.6598002173697066,
           1.5316704684365734
          ],
          "type": "data"
         },
         "insidetextanchor": "middle",
         "marker": {
          "color": "#eafbfb",
          "line": {
           "color": "rgb(8,48,107)",
           "width": 1.5
          }
         },
         "name": "C2 - Chatbot Only",
         "opacity": 0.8,
         "text": [
          "94.63",
          "95.63",
          "103.87"
         ],
         "textposition": "inside",
         "type": "bar",
         "x": [
          "1 Suggestion",
          "3 Suggestions",
          "5 Suggestions"
         ],
         "y": [
          94.63,
          95.63,
          103.87
         ]
        }
       ],
       "layout": {
        "font": {
         "size": 13
        },
        "legend": {
         "orientation": "h"
        },
        "template": {
         "data": {
          "bar": [
           {
            "error_x": {
             "color": "#2a3f5f"
            },
            "error_y": {
             "color": "#2a3f5f"
            },
            "marker": {
             "line": {
              "color": "#E5ECF6",
              "width": 0.5
             }
            },
            "type": "bar"
           }
          ],
          "barpolar": [
           {
            "marker": {
             "line": {
              "color": "#E5ECF6",
              "width": 0.5
             }
            },
            "type": "barpolar"
           }
          ],
          "carpet": [
           {
            "aaxis": {
             "endlinecolor": "#2a3f5f",
             "gridcolor": "white",
             "linecolor": "white",
             "minorgridcolor": "white",
             "startlinecolor": "#2a3f5f"
            },
            "baxis": {
             "endlinecolor": "#2a3f5f",
             "gridcolor": "white",
             "linecolor": "white",
             "minorgridcolor": "white",
             "startlinecolor": "#2a3f5f"
            },
            "type": "carpet"
           }
          ],
          "choropleth": [
           {
            "colorbar": {
             "outlinewidth": 0,
             "ticks": ""
            },
            "type": "choropleth"
           }
          ],
          "contour": [
           {
            "colorbar": {
             "outlinewidth": 0,
             "ticks": ""
            },
            "colorscale": [
             [
              0,
              "#0d0887"
             ],
             [
              0.1111111111111111,
              "#46039f"
             ],
             [
              0.2222222222222222,
              "#7201a8"
             ],
             [
              0.3333333333333333,
              "#9c179e"
             ],
             [
              0.4444444444444444,
              "#bd3786"
             ],
             [
              0.5555555555555556,
              "#d8576b"
             ],
             [
              0.6666666666666666,
              "#ed7953"
             ],
             [
              0.7777777777777778,
              "#fb9f3a"
             ],
             [
              0.8888888888888888,
              "#fdca26"
             ],
             [
              1,
              "#f0f921"
             ]
            ],
            "type": "contour"
           }
          ],
          "contourcarpet": [
           {
            "colorbar": {
             "outlinewidth": 0,
             "ticks": ""
            },
            "type": "contourcarpet"
           }
          ],
          "heatmap": [
           {
            "colorbar": {
             "outlinewidth": 0,
             "ticks": ""
            },
            "colorscale": [
             [
              0,
              "#0d0887"
             ],
             [
              0.1111111111111111,
              "#46039f"
             ],
             [
              0.2222222222222222,
              "#7201a8"
             ],
             [
              0.3333333333333333,
              "#9c179e"
             ],
             [
              0.4444444444444444,
              "#bd3786"
             ],
             [
              0.5555555555555556,
              "#d8576b"
             ],
             [
              0.6666666666666666,
              "#ed7953"
             ],
             [
              0.7777777777777778,
              "#fb9f3a"
             ],
             [
              0.8888888888888888,
              "#fdca26"
             ],
             [
              1,
              "#f0f921"
             ]
            ],
            "type": "heatmap"
           }
          ],
          "heatmapgl": [
           {
            "colorbar": {
             "outlinewidth": 0,
             "ticks": ""
            },
            "colorscale": [
             [
              0,
              "#0d0887"
             ],
             [
              0.1111111111111111,
              "#46039f"
             ],
             [
              0.2222222222222222,
              "#7201a8"
             ],
             [
              0.3333333333333333,
              "#9c179e"
             ],
             [
              0.4444444444444444,
              "#bd3786"
             ],
             [
              0.5555555555555556,
              "#d8576b"
             ],
             [
              0.6666666666666666,
              "#ed7953"
             ],
             [
              0.7777777777777778,
              "#fb9f3a"
             ],
             [
              0.8888888888888888,
              "#fdca26"
             ],
             [
              1,
              "#f0f921"
             ]
            ],
            "type": "heatmapgl"
           }
          ],
          "histogram": [
           {
            "marker": {
             "colorbar": {
              "outlinewidth": 0,
              "ticks": ""
             }
            },
            "type": "histogram"
           }
          ],
          "histogram2d": [
           {
            "colorbar": {
             "outlinewidth": 0,
             "ticks": ""
            },
            "colorscale": [
             [
              0,
              "#0d0887"
             ],
             [
              0.1111111111111111,
              "#46039f"
             ],
             [
              0.2222222222222222,
              "#7201a8"
             ],
             [
              0.3333333333333333,
              "#9c179e"
             ],
             [
              0.4444444444444444,
              "#bd3786"
             ],
             [
              0.5555555555555556,
              "#d8576b"
             ],
             [
              0.6666666666666666,
              "#ed7953"
             ],
             [
              0.7777777777777778,
              "#fb9f3a"
             ],
             [
              0.8888888888888888,
              "#fdca26"
             ],
             [
              1,
              "#f0f921"
             ]
            ],
            "type": "histogram2d"
           }
          ],
          "histogram2dcontour": [
           {
            "colorbar": {
             "outlinewidth": 0,
             "ticks": ""
            },
            "colorscale": [
             [
              0,
              "#0d0887"
             ],
             [
              0.1111111111111111,
              "#46039f"
             ],
             [
              0.2222222222222222,
              "#7201a8"
             ],
             [
              0.3333333333333333,
              "#9c179e"
             ],
             [
              0.4444444444444444,
              "#bd3786"
             ],
             [
              0.5555555555555556,
              "#d8576b"
             ],
             [
              0.6666666666666666,
              "#ed7953"
             ],
             [
              0.7777777777777778,
              "#fb9f3a"
             ],
             [
              0.8888888888888888,
              "#fdca26"
             ],
             [
              1,
              "#f0f921"
             ]
            ],
            "type": "histogram2dcontour"
           }
          ],
          "mesh3d": [
           {
            "colorbar": {
             "outlinewidth": 0,
             "ticks": ""
            },
            "type": "mesh3d"
           }
          ],
          "parcoords": [
           {
            "line": {
             "colorbar": {
              "outlinewidth": 0,
              "ticks": ""
             }
            },
            "type": "parcoords"
           }
          ],
          "pie": [
           {
            "automargin": true,
            "type": "pie"
           }
          ],
          "scatter": [
           {
            "marker": {
             "colorbar": {
              "outlinewidth": 0,
              "ticks": ""
             }
            },
            "type": "scatter"
           }
          ],
          "scatter3d": [
           {
            "line": {
             "colorbar": {
              "outlinewidth": 0,
              "ticks": ""
             }
            },
            "marker": {
             "colorbar": {
              "outlinewidth": 0,
              "ticks": ""
             }
            },
            "type": "scatter3d"
           }
          ],
          "scattercarpet": [
           {
            "marker": {
             "colorbar": {
              "outlinewidth": 0,
              "ticks": ""
             }
            },
            "type": "scattercarpet"
           }
          ],
          "scattergeo": [
           {
            "marker": {
             "colorbar": {
              "outlinewidth": 0,
              "ticks": ""
             }
            },
            "type": "scattergeo"
           }
          ],
          "scattergl": [
           {
            "marker": {
             "colorbar": {
              "outlinewidth": 0,
              "ticks": ""
             }
            },
            "type": "scattergl"
           }
          ],
          "scattermapbox": [
           {
            "marker": {
             "colorbar": {
              "outlinewidth": 0,
              "ticks": ""
             }
            },
            "type": "scattermapbox"
           }
          ],
          "scatterpolar": [
           {
            "marker": {
             "colorbar": {
              "outlinewidth": 0,
              "ticks": ""
             }
            },
            "type": "scatterpolar"
           }
          ],
          "scatterpolargl": [
           {
            "marker": {
             "colorbar": {
              "outlinewidth": 0,
              "ticks": ""
             }
            },
            "type": "scatterpolargl"
           }
          ],
          "scatterternary": [
           {
            "marker": {
             "colorbar": {
              "outlinewidth": 0,
              "ticks": ""
             }
            },
            "type": "scatterternary"
           }
          ],
          "surface": [
           {
            "colorbar": {
             "outlinewidth": 0,
             "ticks": ""
            },
            "colorscale": [
             [
              0,
              "#0d0887"
             ],
             [
              0.1111111111111111,
              "#46039f"
             ],
             [
              0.2222222222222222,
              "#7201a8"
             ],
             [
              0.3333333333333333,
              "#9c179e"
             ],
             [
              0.4444444444444444,
              "#bd3786"
             ],
             [
              0.5555555555555556,
              "#d8576b"
             ],
             [
              0.6666666666666666,
              "#ed7953"
             ],
             [
              0.7777777777777778,
              "#fb9f3a"
             ],
             [
              0.8888888888888888,
              "#fdca26"
             ],
             [
              1,
              "#f0f921"
             ]
            ],
            "type": "surface"
           }
          ],
          "table": [
           {
            "cells": {
             "fill": {
              "color": "#EBF0F8"
             },
             "line": {
              "color": "white"
             }
            },
            "header": {
             "fill": {
              "color": "#C8D4E3"
             },
             "line": {
              "color": "white"
             }
            },
            "type": "table"
           }
          ]
         },
         "layout": {
          "annotationdefaults": {
           "arrowcolor": "#2a3f5f",
           "arrowhead": 0,
           "arrowwidth": 1
          },
          "coloraxis": {
           "colorbar": {
            "outlinewidth": 0,
            "ticks": ""
           }
          },
          "colorscale": {
           "diverging": [
            [
             0,
             "#8e0152"
            ],
            [
             0.1,
             "#c51b7d"
            ],
            [
             0.2,
             "#de77ae"
            ],
            [
             0.3,
             "#f1b6da"
            ],
            [
             0.4,
             "#fde0ef"
            ],
            [
             0.5,
             "#f7f7f7"
            ],
            [
             0.6,
             "#e6f5d0"
            ],
            [
             0.7,
             "#b8e186"
            ],
            [
             0.8,
             "#7fbc41"
            ],
            [
             0.9,
             "#4d9221"
            ],
            [
             1,
             "#276419"
            ]
           ],
           "sequential": [
            [
             0,
             "#0d0887"
            ],
            [
             0.1111111111111111,
             "#46039f"
            ],
            [
             0.2222222222222222,
             "#7201a8"
            ],
            [
             0.3333333333333333,
             "#9c179e"
            ],
            [
             0.4444444444444444,
             "#bd3786"
            ],
            [
             0.5555555555555556,
             "#d8576b"
            ],
            [
             0.6666666666666666,
             "#ed7953"
            ],
            [
             0.7777777777777778,
             "#fb9f3a"
            ],
            [
             0.8888888888888888,
             "#fdca26"
            ],
            [
             1,
             "#f0f921"
            ]
           ],
           "sequentialminus": [
            [
             0,
             "#0d0887"
            ],
            [
             0.1111111111111111,
             "#46039f"
            ],
            [
             0.2222222222222222,
             "#7201a8"
            ],
            [
             0.3333333333333333,
             "#9c179e"
            ],
            [
             0.4444444444444444,
             "#bd3786"
            ],
            [
             0.5555555555555556,
             "#d8576b"
            ],
            [
             0.6666666666666666,
             "#ed7953"
            ],
            [
             0.7777777777777778,
             "#fb9f3a"
            ],
            [
             0.8888888888888888,
             "#fdca26"
            ],
            [
             1,
             "#f0f921"
            ]
           ]
          },
          "colorway": [
           "#636efa",
           "#EF553B",
           "#00cc96",
           "#ab63fa",
           "#FFA15A",
           "#19d3f3",
           "#FF6692",
           "#B6E880",
           "#FF97FF",
           "#FECB52"
          ],
          "font": {
           "color": "#2a3f5f"
          },
          "geo": {
           "bgcolor": "white",
           "lakecolor": "white",
           "landcolor": "#E5ECF6",
           "showlakes": true,
           "showland": true,
           "subunitcolor": "white"
          },
          "hoverlabel": {
           "align": "left"
          },
          "hovermode": "closest",
          "mapbox": {
           "style": "light"
          },
          "paper_bgcolor": "white",
          "plot_bgcolor": "#E5ECF6",
          "polar": {
           "angularaxis": {
            "gridcolor": "white",
            "linecolor": "white",
            "ticks": ""
           },
           "bgcolor": "#E5ECF6",
           "radialaxis": {
            "gridcolor": "white",
            "linecolor": "white",
            "ticks": ""
           }
          },
          "scene": {
           "xaxis": {
            "backgroundcolor": "#E5ECF6",
            "gridcolor": "white",
            "gridwidth": 2,
            "linecolor": "white",
            "showbackground": true,
            "ticks": "",
            "zerolinecolor": "white"
           },
           "yaxis": {
            "backgroundcolor": "#E5ECF6",
            "gridcolor": "white",
            "gridwidth": 2,
            "linecolor": "white",
            "showbackground": true,
            "ticks": "",
            "zerolinecolor": "white"
           },
           "zaxis": {
            "backgroundcolor": "#E5ECF6",
            "gridcolor": "white",
            "gridwidth": 2,
            "linecolor": "white",
            "showbackground": true,
            "ticks": "",
            "zerolinecolor": "white"
           }
          },
          "shapedefaults": {
           "line": {
            "color": "#2a3f5f"
           }
          },
          "ternary": {
           "aaxis": {
            "gridcolor": "white",
            "linecolor": "white",
            "ticks": ""
           },
           "baxis": {
            "gridcolor": "white",
            "linecolor": "white",
            "ticks": ""
           },
           "bgcolor": "#E5ECF6",
           "caxis": {
            "gridcolor": "white",
            "linecolor": "white",
            "ticks": ""
           }
          },
          "title": {
           "x": 0.05
          },
          "xaxis": {
           "automargin": true,
           "gridcolor": "white",
           "linecolor": "white",
           "ticks": "",
           "title": {
            "standoff": 15
           },
           "zerolinecolor": "white",
           "zerolinewidth": 2
          },
          "yaxis": {
           "automargin": true,
           "gridcolor": "white",
           "linecolor": "white",
           "ticks": "",
           "title": {
            "standoff": 15
           },
           "zerolinecolor": "white",
           "zerolinewidth": 2
          }
         }
        }
       }
      },
      "text/html": [
       "<div>\n",
       "        \n",
       "        \n",
       "            <div id=\"55f1a1cf-25e2-4ca6-92ee-72aedea49a3f\" class=\"plotly-graph-div\" style=\"height:525px; width:100%;\"></div>\n",
       "            <script type=\"text/javascript\">\n",
       "                require([\"plotly\"], function(Plotly) {\n",
       "                    window.PLOTLYENV=window.PLOTLYENV || {};\n",
       "                    \n",
       "                if (document.getElementById(\"55f1a1cf-25e2-4ca6-92ee-72aedea49a3f\")) {\n",
       "                    Plotly.newPlot(\n",
       "                        '55f1a1cf-25e2-4ca6-92ee-72aedea49a3f',\n",
       "                        [{\"error_y\": {\"array\": [1.9383530380196483], \"type\": \"data\"}, \"insidetextanchor\": \"middle\", \"marker\": {\"color\": \"#B0C4DE\", \"line\": {\"color\": \"rgb(8,48,107)\", \"width\": 1.5}}, \"name\": \"Human Only\", \"opacity\": 0.8, \"text\": [\"60.9\"], \"textposition\": \"inside\", \"type\": \"bar\", \"x\": [\"\"], \"y\": [60.9]}, {\"error_y\": {\"array\": [1.2086808468759276], \"type\": \"data\"}, \"insidetextanchor\": \"middle\", \"marker\": {\"color\": \"#A9A9A9\", \"line\": {\"color\": \"rgb(8,48,107)\", \"width\": 1.5}}, \"name\": \"Chatbot Only\", \"opacity\": 0.8, \"text\": [\"152.59\"], \"textposition\": \"inside\", \"type\": \"bar\", \"x\": [\"\"], \"y\": [152.59]}, {\"error_y\": {\"array\": [1.806345496331068, 1.8456369714416343, 2.258399299337369], \"type\": \"data\"}, \"insidetextanchor\": \"middle\", \"marker\": {\"color\": \"lightsalmon\", \"line\": {\"color\": \"rgb(8,48,107)\", \"width\": 1.5}}, \"name\": \"C1\", \"opacity\": 0.8, \"text\": [\"86.72\", \"100.8\", \"100.17\"], \"textposition\": \"inside\", \"type\": \"bar\", \"x\": [\"1 Suggestion\", \"3 Suggestions\", \"5 Suggestions\"], \"y\": [86.72, 100.8, 100.17]}, {\"error_y\": {\"array\": [1.6062458605294645, 1.6071025401597963, 1.934367552069774], \"type\": \"data\"}, \"insidetextanchor\": \"middle\", \"marker\": {\"color\": \"#ffdacc\", \"line\": {\"color\": \"rgb(8,48,107)\", \"width\": 1.5}}, \"name\": \"C1 - Chatbot Only\", \"opacity\": 0.8, \"text\": [\"99.08\", \"101.87\", \"100.0\"], \"textposition\": \"inside\", \"type\": \"bar\", \"x\": [\"1 Suggestion\", \"3 Suggestions\", \"5 Suggestions\"], \"y\": [99.08, 101.87, 100.0]}, {\"error_y\": {\"array\": [1.6178360590458314, 2.6328665536894467, 2.2372057416011524], \"type\": \"data\"}, \"insidetextanchor\": \"middle\", \"marker\": {\"color\": \"#AFEEEE\", \"line\": {\"color\": \"rgb(8,48,107)\", \"width\": 1.5}}, \"name\": \"C2\", \"opacity\": 0.8, \"text\": [\"94.51\", \"113.07\", \"120.04\"], \"textposition\": \"inside\", \"type\": \"bar\", \"x\": [\"1 Suggestion\", \"3 Suggestions\", \"5 Suggestions\"], \"y\": [94.51, 113.07, 120.04]}, {\"error_y\": {\"array\": [1.4937940741390185, 1.6598002173697066, 1.5316704684365734], \"type\": \"data\"}, \"insidetextanchor\": \"middle\", \"marker\": {\"color\": \"#eafbfb\", \"line\": {\"color\": \"rgb(8,48,107)\", \"width\": 1.5}}, \"name\": \"C2 - Chatbot Only\", \"opacity\": 0.8, \"text\": [\"94.63\", \"95.63\", \"103.87\"], \"textposition\": \"inside\", \"type\": \"bar\", \"x\": [\"1 Suggestion\", \"3 Suggestions\", \"5 Suggestions\"], \"y\": [94.63, 95.63, 103.87]}],\n",
       "                        {\"font\": {\"size\": 13}, \"legend\": {\"orientation\": \"h\"}, \"template\": {\"data\": {\"bar\": [{\"error_x\": {\"color\": \"#2a3f5f\"}, \"error_y\": {\"color\": \"#2a3f5f\"}, \"marker\": {\"line\": {\"color\": \"#E5ECF6\", \"width\": 0.5}}, \"type\": \"bar\"}], \"barpolar\": [{\"marker\": {\"line\": {\"color\": \"#E5ECF6\", \"width\": 0.5}}, \"type\": \"barpolar\"}], \"carpet\": [{\"aaxis\": {\"endlinecolor\": \"#2a3f5f\", \"gridcolor\": \"white\", \"linecolor\": \"white\", \"minorgridcolor\": \"white\", \"startlinecolor\": \"#2a3f5f\"}, \"baxis\": {\"endlinecolor\": \"#2a3f5f\", \"gridcolor\": \"white\", \"linecolor\": \"white\", \"minorgridcolor\": \"white\", \"startlinecolor\": \"#2a3f5f\"}, \"type\": \"carpet\"}], \"choropleth\": [{\"colorbar\": {\"outlinewidth\": 0, \"ticks\": \"\"}, \"type\": \"choropleth\"}], \"contour\": [{\"colorbar\": {\"outlinewidth\": 0, \"ticks\": \"\"}, \"colorscale\": [[0.0, \"#0d0887\"], [0.1111111111111111, \"#46039f\"], [0.2222222222222222, \"#7201a8\"], [0.3333333333333333, \"#9c179e\"], [0.4444444444444444, \"#bd3786\"], [0.5555555555555556, \"#d8576b\"], [0.6666666666666666, \"#ed7953\"], [0.7777777777777778, \"#fb9f3a\"], [0.8888888888888888, \"#fdca26\"], [1.0, \"#f0f921\"]], \"type\": \"contour\"}], \"contourcarpet\": [{\"colorbar\": {\"outlinewidth\": 0, \"ticks\": \"\"}, \"type\": \"contourcarpet\"}], \"heatmap\": [{\"colorbar\": {\"outlinewidth\": 0, \"ticks\": \"\"}, \"colorscale\": [[0.0, \"#0d0887\"], [0.1111111111111111, \"#46039f\"], [0.2222222222222222, \"#7201a8\"], [0.3333333333333333, \"#9c179e\"], [0.4444444444444444, \"#bd3786\"], [0.5555555555555556, \"#d8576b\"], [0.6666666666666666, \"#ed7953\"], [0.7777777777777778, \"#fb9f3a\"], [0.8888888888888888, \"#fdca26\"], [1.0, \"#f0f921\"]], \"type\": \"heatmap\"}], \"heatmapgl\": [{\"colorbar\": {\"outlinewidth\": 0, \"ticks\": \"\"}, \"colorscale\": [[0.0, \"#0d0887\"], [0.1111111111111111, \"#46039f\"], [0.2222222222222222, \"#7201a8\"], [0.3333333333333333, \"#9c179e\"], [0.4444444444444444, \"#bd3786\"], [0.5555555555555556, \"#d8576b\"], [0.6666666666666666, \"#ed7953\"], [0.7777777777777778, \"#fb9f3a\"], [0.8888888888888888, \"#fdca26\"], [1.0, \"#f0f921\"]], \"type\": \"heatmapgl\"}], \"histogram\": [{\"marker\": {\"colorbar\": {\"outlinewidth\": 0, \"ticks\": \"\"}}, \"type\": \"histogram\"}], \"histogram2d\": [{\"colorbar\": {\"outlinewidth\": 0, \"ticks\": \"\"}, \"colorscale\": [[0.0, \"#0d0887\"], [0.1111111111111111, \"#46039f\"], [0.2222222222222222, \"#7201a8\"], [0.3333333333333333, \"#9c179e\"], [0.4444444444444444, \"#bd3786\"], [0.5555555555555556, \"#d8576b\"], [0.6666666666666666, \"#ed7953\"], [0.7777777777777778, \"#fb9f3a\"], [0.8888888888888888, \"#fdca26\"], [1.0, \"#f0f921\"]], \"type\": \"histogram2d\"}], \"histogram2dcontour\": [{\"colorbar\": {\"outlinewidth\": 0, \"ticks\": \"\"}, \"colorscale\": [[0.0, \"#0d0887\"], [0.1111111111111111, \"#46039f\"], [0.2222222222222222, \"#7201a8\"], [0.3333333333333333, \"#9c179e\"], [0.4444444444444444, \"#bd3786\"], [0.5555555555555556, \"#d8576b\"], [0.6666666666666666, \"#ed7953\"], [0.7777777777777778, \"#fb9f3a\"], [0.8888888888888888, \"#fdca26\"], [1.0, \"#f0f921\"]], \"type\": \"histogram2dcontour\"}], \"mesh3d\": [{\"colorbar\": {\"outlinewidth\": 0, \"ticks\": \"\"}, \"type\": \"mesh3d\"}], \"parcoords\": [{\"line\": {\"colorbar\": {\"outlinewidth\": 0, \"ticks\": \"\"}}, \"type\": \"parcoords\"}], \"pie\": [{\"automargin\": true, \"type\": \"pie\"}], \"scatter\": [{\"marker\": {\"colorbar\": {\"outlinewidth\": 0, \"ticks\": \"\"}}, \"type\": \"scatter\"}], \"scatter3d\": [{\"line\": {\"colorbar\": {\"outlinewidth\": 0, \"ticks\": \"\"}}, \"marker\": {\"colorbar\": {\"outlinewidth\": 0, \"ticks\": \"\"}}, \"type\": \"scatter3d\"}], \"scattercarpet\": [{\"marker\": {\"colorbar\": {\"outlinewidth\": 0, \"ticks\": \"\"}}, \"type\": \"scattercarpet\"}], \"scattergeo\": [{\"marker\": {\"colorbar\": {\"outlinewidth\": 0, \"ticks\": \"\"}}, \"type\": \"scattergeo\"}], \"scattergl\": [{\"marker\": {\"colorbar\": {\"outlinewidth\": 0, \"ticks\": \"\"}}, \"type\": \"scattergl\"}], \"scattermapbox\": [{\"marker\": {\"colorbar\": {\"outlinewidth\": 0, \"ticks\": \"\"}}, \"type\": \"scattermapbox\"}], \"scatterpolar\": [{\"marker\": {\"colorbar\": {\"outlinewidth\": 0, \"ticks\": \"\"}}, \"type\": \"scatterpolar\"}], \"scatterpolargl\": [{\"marker\": {\"colorbar\": {\"outlinewidth\": 0, \"ticks\": \"\"}}, \"type\": \"scatterpolargl\"}], \"scatterternary\": [{\"marker\": {\"colorbar\": {\"outlinewidth\": 0, \"ticks\": \"\"}}, \"type\": \"scatterternary\"}], \"surface\": [{\"colorbar\": {\"outlinewidth\": 0, \"ticks\": \"\"}, \"colorscale\": [[0.0, \"#0d0887\"], [0.1111111111111111, \"#46039f\"], [0.2222222222222222, \"#7201a8\"], [0.3333333333333333, \"#9c179e\"], [0.4444444444444444, \"#bd3786\"], [0.5555555555555556, \"#d8576b\"], [0.6666666666666666, \"#ed7953\"], [0.7777777777777778, \"#fb9f3a\"], [0.8888888888888888, \"#fdca26\"], [1.0, \"#f0f921\"]], \"type\": \"surface\"}], \"table\": [{\"cells\": {\"fill\": {\"color\": \"#EBF0F8\"}, \"line\": {\"color\": \"white\"}}, \"header\": {\"fill\": {\"color\": \"#C8D4E3\"}, \"line\": {\"color\": \"white\"}}, \"type\": \"table\"}]}, \"layout\": {\"annotationdefaults\": {\"arrowcolor\": \"#2a3f5f\", \"arrowhead\": 0, \"arrowwidth\": 1}, \"coloraxis\": {\"colorbar\": {\"outlinewidth\": 0, \"ticks\": \"\"}}, \"colorscale\": {\"diverging\": [[0, \"#8e0152\"], [0.1, \"#c51b7d\"], [0.2, \"#de77ae\"], [0.3, \"#f1b6da\"], [0.4, \"#fde0ef\"], [0.5, \"#f7f7f7\"], [0.6, \"#e6f5d0\"], [0.7, \"#b8e186\"], [0.8, \"#7fbc41\"], [0.9, \"#4d9221\"], [1, \"#276419\"]], \"sequential\": [[0.0, \"#0d0887\"], [0.1111111111111111, \"#46039f\"], [0.2222222222222222, \"#7201a8\"], [0.3333333333333333, \"#9c179e\"], [0.4444444444444444, \"#bd3786\"], [0.5555555555555556, \"#d8576b\"], [0.6666666666666666, \"#ed7953\"], [0.7777777777777778, \"#fb9f3a\"], [0.8888888888888888, \"#fdca26\"], [1.0, \"#f0f921\"]], \"sequentialminus\": [[0.0, \"#0d0887\"], [0.1111111111111111, \"#46039f\"], [0.2222222222222222, \"#7201a8\"], [0.3333333333333333, \"#9c179e\"], [0.4444444444444444, \"#bd3786\"], [0.5555555555555556, \"#d8576b\"], [0.6666666666666666, \"#ed7953\"], [0.7777777777777778, \"#fb9f3a\"], [0.8888888888888888, \"#fdca26\"], [1.0, \"#f0f921\"]]}, \"colorway\": [\"#636efa\", \"#EF553B\", \"#00cc96\", \"#ab63fa\", \"#FFA15A\", \"#19d3f3\", \"#FF6692\", \"#B6E880\", \"#FF97FF\", \"#FECB52\"], \"font\": {\"color\": \"#2a3f5f\"}, \"geo\": {\"bgcolor\": \"white\", \"lakecolor\": \"white\", \"landcolor\": \"#E5ECF6\", \"showlakes\": true, \"showland\": true, \"subunitcolor\": \"white\"}, \"hoverlabel\": {\"align\": \"left\"}, \"hovermode\": \"closest\", \"mapbox\": {\"style\": \"light\"}, \"paper_bgcolor\": \"white\", \"plot_bgcolor\": \"#E5ECF6\", \"polar\": {\"angularaxis\": {\"gridcolor\": \"white\", \"linecolor\": \"white\", \"ticks\": \"\"}, \"bgcolor\": \"#E5ECF6\", \"radialaxis\": {\"gridcolor\": \"white\", \"linecolor\": \"white\", \"ticks\": \"\"}}, \"scene\": {\"xaxis\": {\"backgroundcolor\": \"#E5ECF6\", \"gridcolor\": \"white\", \"gridwidth\": 2, \"linecolor\": \"white\", \"showbackground\": true, \"ticks\": \"\", \"zerolinecolor\": \"white\"}, \"yaxis\": {\"backgroundcolor\": \"#E5ECF6\", \"gridcolor\": \"white\", \"gridwidth\": 2, \"linecolor\": \"white\", \"showbackground\": true, \"ticks\": \"\", \"zerolinecolor\": \"white\"}, \"zaxis\": {\"backgroundcolor\": \"#E5ECF6\", \"gridcolor\": \"white\", \"gridwidth\": 2, \"linecolor\": \"white\", \"showbackground\": true, \"ticks\": \"\", \"zerolinecolor\": \"white\"}}, \"shapedefaults\": {\"line\": {\"color\": \"#2a3f5f\"}}, \"ternary\": {\"aaxis\": {\"gridcolor\": \"white\", \"linecolor\": \"white\", \"ticks\": \"\"}, \"baxis\": {\"gridcolor\": \"white\", \"linecolor\": \"white\", \"ticks\": \"\"}, \"bgcolor\": \"#E5ECF6\", \"caxis\": {\"gridcolor\": \"white\", \"linecolor\": \"white\", \"ticks\": \"\"}}, \"title\": {\"x\": 0.05}, \"xaxis\": {\"automargin\": true, \"gridcolor\": \"white\", \"linecolor\": \"white\", \"ticks\": \"\", \"title\": {\"standoff\": 15}, \"zerolinecolor\": \"white\", \"zerolinewidth\": 2}, \"yaxis\": {\"automargin\": true, \"gridcolor\": \"white\", \"linecolor\": \"white\", \"ticks\": \"\", \"title\": {\"standoff\": 15}, \"zerolinecolor\": \"white\", \"zerolinewidth\": 2}}}},\n",
       "                        {\"responsive\": true}\n",
       "                    ).then(function(){\n",
       "                            \n",
       "var gd = document.getElementById('55f1a1cf-25e2-4ca6-92ee-72aedea49a3f');\n",
       "var x = new MutationObserver(function (mutations, observer) {{\n",
       "        var display = window.getComputedStyle(gd).display;\n",
       "        if (!display || display === 'none') {{\n",
       "            console.log([gd, 'removed!']);\n",
       "            Plotly.purge(gd);\n",
       "            observer.disconnect();\n",
       "        }}\n",
       "}});\n",
       "\n",
       "// Listen for the removal of the full notebook cells\n",
       "var notebookContainer = gd.closest('#notebook-container');\n",
       "if (notebookContainer) {{\n",
       "    x.observe(notebookContainer, {childList: true});\n",
       "}}\n",
       "\n",
       "// Listen for the clearing of the current output cell\n",
       "var outputEl = gd.closest('.output');\n",
       "if (outputEl) {{\n",
       "    x.observe(outputEl, {childList: true});\n",
       "}}\n",
       "\n",
       "                        })\n",
       "                };\n",
       "                });\n",
       "            </script>\n",
       "        </div>"
      ]
     },
     "metadata": {},
     "output_type": "display_data"
    }
   ],
   "source": [
    "colors = ['#FAEBD7', '#FFA07A', '#B0C4DE', '#AFEEEE', '#8FBC8F']\n",
    "x = ['1 Suggestion', '3 Suggestions', '5 Suggestions']\n",
    "fig = go.Figure()\n",
    "\n",
    "xHuman = ['']\n",
    "yHuman = [Set1]\n",
    "yHumanErorr = [np.std(z)/math.sqrt(len(z)) for z in yHuman] \n",
    "yHuman = [round(statistics.mean(z), 2) for z in yHuman]\n",
    "\n",
    "fig.add_trace(go.Bar(\n",
    "    name='Human Only',\n",
    "    x=xHuman, y=yHuman, text=yHuman, textposition='inside',insidetextanchor='middle',\n",
    "    marker_color='#B0C4DE',\n",
    "    marker_line_color='rgb(8,48,107)', marker_line_width=1.5, opacity=0.8,\n",
    "    error_y=dict(type='data', array=yHumanErorr)\n",
    "))\n",
    "\n",
    "xBot = ['']\n",
    "yBot = [bot2]\n",
    "yBotErorr = [np.std(z)/math.sqrt(len(z)) for z in yBot] \n",
    "yBot = [round(statistics.mean(z), 2) for z in yBot]\n",
    "\n",
    "fig.add_trace(go.Bar(\n",
    "    name='Chatbot Only',\n",
    "    x=xBot, y=yBot, text=yBot, textposition='inside',insidetextanchor='middle',\n",
    "    marker_color='#A9A9A9',\n",
    "    marker_line_color='rgb(8,48,107)', marker_line_width=1.5, opacity=0.8,\n",
    "    error_y=dict(type='data', array=yBotErorr)\n",
    "))\n",
    "\n",
    "\n",
    "ySuggOnly = [sugg1, sugg3, sugg5]\n",
    "ySuggOnlyErorr = [np.std(z)/math.sqrt(len(z)) for z in ySuggOnly] \n",
    "ySuggOnly = [round(statistics.mean(z), 2) for z in ySuggOnly]\n",
    "\n",
    "fig.add_trace(go.Bar(\n",
    "    name='C1',\n",
    "    x=x, y=ySuggOnly, text=ySuggOnly, textposition='inside',insidetextanchor='middle',\n",
    "    marker_color='lightsalmon',\n",
    "    marker_line_color='rgb(8,48,107)', marker_line_width=1.5, opacity=0.8,\n",
    "    error_y=dict(type='data', array=ySuggOnlyErorr)\n",
    "))\n",
    "\n",
    "ySuggOnlyBot = [sugg1Bot, sugg3Bot, sugg5Bot]\n",
    "ySuggOnlyBotErorr = [np.std(z)/math.sqrt(len(z)) for z in ySuggOnlyBot] \n",
    "ySuggOnlyBot = [round(statistics.mean(z), 2) for z in ySuggOnlyBot]\n",
    "\n",
    "fig.add_trace(go.Bar(\n",
    "    name='C1 - Chatbot Only',\n",
    "    x=x, y=ySuggOnlyBot, text=ySuggOnlyBot, textposition='inside',insidetextanchor='middle',\n",
    "    marker_color='#ffdacc',\n",
    "    marker_line_color='rgb(8,48,107)', marker_line_width=1.5, opacity=0.8,\n",
    "    error_y=dict(type='data', array=ySuggOnlyBotErorr)\n",
    "))\n",
    "\n",
    "yAutoSugg = [autoSugg1, autoSugg3, autoSugg5]\n",
    "yAutoSuggErorr = [np.std(z)/math.sqrt(len(z)) for z in yAutoSugg] \n",
    "yAutoSugg = [round(statistics.mean(z), 2) for z in yAutoSugg]\n",
    "\n",
    "fig.add_trace(go.Bar(\n",
    "    name='C2',\n",
    "    x=x, y=yAutoSugg, text=yAutoSugg, textposition='inside',insidetextanchor='middle',\n",
    "    marker_color='#AFEEEE',\n",
    "    marker_line_color='rgb(8,48,107)', marker_line_width=1.5, opacity=0.8,\n",
    "    error_y=dict(type='data', array=yAutoSuggErorr)\n",
    "))\n",
    "\n",
    "yAutoSuggBot = [autoSugg1Bot, autoSugg3Bot, autoSugg5Bot]\n",
    "yAutoSuggBotErorr = [np.std(z)/math.sqrt(len(z)) for z in yAutoSuggBot] \n",
    "yAutoSuggBot = [round(statistics.mean(z), 2) for z in yAutoSuggBot]\n",
    "\n",
    "fig.add_trace(go.Bar(\n",
    "    name='C2 - Chatbot Only',\n",
    "    x=x, y=yAutoSuggBot, text=yAutoSuggBot, textposition='inside',insidetextanchor='middle',\n",
    "    marker_color='#eafbfb',\n",
    "    marker_line_color='rgb(8,48,107)', marker_line_width=1.5, opacity=0.8,\n",
    "    error_y=dict(type='data', array=yAutoSuggBotErorr)\n",
    "))\n",
    "\n",
    "fig.update_layout(\n",
    "    font=dict(\n",
    "        size=13\n",
    "    )\n",
    ")\n",
    "fig.update_layout(legend_orientation=\"h\")\n",
    "fig.show()\n"
   ]
  },
  {
   "cell_type": "code",
   "execution_count": null,
   "metadata": {},
   "outputs": [],
   "source": []
  },
  {
   "cell_type": "markdown",
   "metadata": {},
   "source": [
    "## Setting 4"
   ]
  },
  {
   "cell_type": "code",
   "execution_count": 19,
   "metadata": {},
   "outputs": [],
   "source": [
    "sugg1 = []\n",
    "sugg3 = []\n",
    "sugg5 = []\n",
    "\n",
    "autoSugg1 = []\n",
    "autoSugg3 = []\n",
    "autoSugg5 = []\n",
    "\n",
    "sugg1Bot = []\n",
    "sugg3Bot = []\n",
    "sugg5Bot = []\n",
    "\n",
    "autoSugg1Bot = []\n",
    "autoSugg3Bot = []\n",
    "autoSugg5Bot = []\n",
    "\n",
    "\n",
    "for root, dirs, files in os.walk(\"../clean/Setting 4\"):\n",
    "    for file in files:\n",
    "        if file.endswith(\".json\"):\n",
    "            fileName = os.path.join(root, file)\n",
    "            with open(fileName) as json_file:\n",
    "                try:\n",
    "                    data = json.load(json_file)\n",
    "                    dialogs = data['dialogs']\n",
    "                    \n",
    "                    if(data['autoFilledSuggestion'] == 0):\n",
    "                        \n",
    "                        if(data['suggestionsNumber'] == 1):\n",
    "                            for i in range(1, len(dialogs)):\n",
    "                                sugg1.append(len(dialogs[i]['context']['userResponse']))\n",
    "                                sugg1Bot.append(len(dialogs[i]['context']['suggestions'][0]))\n",
    "                        \n",
    "                        elif(data['suggestionsNumber'] == 3):\n",
    "                            for i in range(1, len(dialogs)):\n",
    "                                sugg3.append(len(dialogs[i]['context']['userResponse']))\n",
    "                                sugg3Bot.append(len(dialogs[i]['context']['suggestions'][0]))\n",
    "                        \n",
    "                        elif(data['suggestionsNumber'] == 5):\n",
    "                            for i in range(1, len(dialogs)):\n",
    "                                sugg5.append(len(dialogs[i]['context']['userResponse']))\n",
    "                                sugg5Bot.append(len(dialogs[i]['context']['suggestions'][0]))\n",
    "                    \n",
    "                    else:\n",
    "                        \n",
    "                        if(data['suggestionsNumber'] == 1):\n",
    "                            for i in range(1, len(dialogs)):\n",
    "                                autoSugg1.append(len(dialogs[i]['context']['userResponse']))\n",
    "                                autoSugg1Bot.append(len(dialogs[i]['context']['suggestions'][0]))\n",
    "                        \n",
    "                        elif(data['suggestionsNumber'] == 3):\n",
    "                            for i in range(1, len(dialogs)):\n",
    "                                autoSugg3.append(len(dialogs[i]['context']['userResponse']))\n",
    "                                autoSugg3Bot.append(len(dialogs[i]['context']['suggestions'][0]))\n",
    "                        \n",
    "                        elif(data['suggestionsNumber'] == 5):\n",
    "                            for i in range(1, len(dialogs)):\n",
    "                                autoSugg5.append(len(dialogs[i]['context']['userResponse']))\n",
    "                                autoSugg5Bot.append(len(dialogs[i]['context']['suggestions'][0]))\n",
    "                    \n",
    "                    \n",
    "                except Exception as e: print(e)"
   ]
  },
  {
   "cell_type": "markdown",
   "metadata": {},
   "source": [
    "### Suggestions Only"
   ]
  },
  {
   "cell_type": "code",
   "execution_count": 20,
   "metadata": {},
   "outputs": [
    {
     "name": "stdout",
     "output_type": "stream",
     "text": [
      "Finished conversations with 1 suggestion(s): 66.98398169336384\n",
      "Finished conversations with 3 suggestion(s): 73.44702842377261\n",
      "Finished conversations with 5 suggestion(s): 72.45224719101124\n"
     ]
    }
   ],
   "source": [
    "print(\"Finished conversations with 1 suggestion(s): \" + str(statistics.mean(sugg1)))\n",
    "print(\"Finished conversations with 3 suggestion(s): \" + str(statistics.mean(sugg3)))\n",
    "print(\"Finished conversations with 5 suggestion(s): \" + str(statistics.mean(sugg5)))"
   ]
  },
  {
   "cell_type": "markdown",
   "metadata": {},
   "source": [
    "### Autofilled Suggestion"
   ]
  },
  {
   "cell_type": "code",
   "execution_count": 21,
   "metadata": {},
   "outputs": [
    {
     "name": "stdout",
     "output_type": "stream",
     "text": [
      "Finished conversations with 1 suggestion(s): 75.8013698630137\n",
      "Finished conversations with 3 suggestion(s): 92.89501312335958\n",
      "Finished conversations with 5 suggestion(s): 86.21782178217822\n"
     ]
    }
   ],
   "source": [
    "print(\"Finished conversations with 1 suggestion(s): \" + str(statistics.mean(autoSugg1)))\n",
    "print(\"Finished conversations with 3 suggestion(s): \" + str(statistics.mean(autoSugg3)))\n",
    "print(\"Finished conversations with 5 suggestion(s): \" + str(statistics.mean(autoSugg5)))"
   ]
  },
  {
   "cell_type": "code",
   "execution_count": 22,
   "metadata": {},
   "outputs": [
    {
     "name": "stdout",
     "output_type": "stream",
     "text": [
      "H Bot 0.00000000000000007333864682560791\n",
      "H sugg1 0.03411160685135409\n",
      "H sugg3 0.0000072353712256030675\n",
      "H sugg5 0.00010434420667833761\n",
      "H autoSugg1 0.00000000516751456256579\n",
      "H autoSugg3 0.00000000000000000005164874637263649\n",
      "H autoSugg5 0.00000000000014280702649009678\n",
      "Bot sugg1 0.00000016871269237799542\n",
      "Bot sugg3 0.011349448894794592\n",
      "Bot sugg5 0.0069843977971319375\n",
      "Bot autoSugg1 0.08794041129980776\n",
      "Bot autoSugg3 0.0000013874353914626649\n",
      "Bot autoSugg5 0.009928581981189821\n",
      "sugg1 sugg3 0.02602542846754583\n",
      "sugg1 sugg5 0.07567652720428833\n",
      "sugg1 autoSugg1 0.0009426795266338284\n",
      "sugg1 autoSugg3 0.00000000000029225234291968624\n",
      "sugg1 autoSugg5 0.00000003872725198445239\n",
      "sugg3 sugg5 0.7395681927293036\n",
      "sugg3 autoSugg1 0.3581531012021474\n",
      "sugg3 autoSugg3 0.000000017770656650295285\n",
      "sugg3 autoSugg5 0.00018098719929740014\n",
      "sugg5 autoSugg1 0.22505842655503008\n",
      "sugg5 autoSugg3 0.000000014161612002239664\n",
      "sugg5 autoSugg5 0.00011215819537255699\n",
      "autoSugg1 autoSugg3 0.00000013977947400599455\n",
      "autoSugg1 autoSugg5 0.0011485126131773567\n",
      "autoSugg3 autoSugg5 0.08793008434431386\n"
     ]
    }
   ],
   "source": [
    "settings = {\n",
    "    'H': Set1,\n",
    "    'Bot': bot4,\n",
    "    'sugg1': sugg1,\n",
    "    'sugg3': sugg3,\n",
    "    'sugg5': sugg5,\n",
    "    'autoSugg1': autoSugg1,\n",
    "    'autoSugg3': autoSugg3,\n",
    "    'autoSugg5': autoSugg5\n",
    "}\n",
    "\n",
    "for list1, list2 in combinations(settings.keys(), 2):\n",
    "    t, p = ttest_ind(settings[list1], settings[list2], equal_var = False)\n",
    "    print (list1, list2, float_to_str(p))"
   ]
  },
  {
   "cell_type": "code",
   "execution_count": 23,
   "metadata": {},
   "outputs": [
    {
     "data": {
      "application/vnd.plotly.v1+json": {
       "config": {
        "plotlyServerURL": "https://plot.ly"
       },
       "data": [
        {
         "error_y": {
          "array": [
           1.9383530380196483
          ],
          "type": "data"
         },
         "insidetextanchor": "middle",
         "marker": {
          "color": "#B0C4DE",
          "line": {
           "color": "rgb(8,48,107)",
           "width": 1.5
          }
         },
         "name": "Human Only",
         "opacity": 0.8,
         "text": [
          "60.9"
         ],
         "textposition": "inside",
         "type": "bar",
         "x": [
          ""
         ],
         "y": [
          60.9
         ]
        },
        {
         "error_y": {
          "array": [
           1.2086808468759276
          ],
          "type": "data"
         },
         "insidetextanchor": "middle",
         "marker": {
          "color": "#A9A9A9",
          "line": {
           "color": "rgb(8,48,107)",
           "width": 1.5
          }
         },
         "name": "Chatbot Only",
         "opacity": 0.8,
         "text": [
          "152.59"
         ],
         "textposition": "inside",
         "type": "bar",
         "x": [
          ""
         ],
         "y": [
          152.59
         ]
        },
        {
         "error_y": {
          "array": [
           2.10749917057268,
           1.9846301366563854,
           2.232745332220123
          ],
          "type": "data"
         },
         "insidetextanchor": "middle",
         "marker": {
          "color": "lightsalmon",
          "line": {
           "color": "rgb(8,48,107)",
           "width": 1.5
          }
         },
         "name": "C1",
         "opacity": 0.8,
         "text": [
          "66.98",
          "73.45",
          "72.45"
         ],
         "textposition": "inside",
         "type": "bar",
         "x": [
          "1 Suggestion",
          "3 Suggestions",
          "5 Suggestions"
         ],
         "y": [
          66.98,
          73.45,
          72.45
         ]
        },
        {
         "error_y": {
          "array": [
           1.7867258925115628,
           2.049066756380931,
           1.9590097879245394
          ],
          "type": "data"
         },
         "insidetextanchor": "middle",
         "marker": {
          "color": "#ffdacc",
          "line": {
           "color": "rgb(8,48,107)",
           "width": 1.5
          }
         },
         "name": "C1 - Chatbot Only",
         "opacity": 0.8,
         "text": [
          "77.38",
          "80.88",
          "78.71"
         ],
         "textposition": "inside",
         "type": "bar",
         "x": [
          "1 Suggestion",
          "3 Suggestions",
          "5 Suggestions"
         ],
         "y": [
          77.38,
          80.88,
          78.71
         ]
        },
        {
         "error_y": {
          "array": [
           1.613659745146117,
           2.770014876539061,
           2.7511172942007023
          ],
          "type": "data"
         },
         "insidetextanchor": "middle",
         "marker": {
          "color": "#AFEEEE",
          "line": {
           "color": "rgb(8,48,107)",
           "width": 1.5
          }
         },
         "name": "C2",
         "opacity": 0.8,
         "text": [
          "75.8",
          "92.9",
          "86.22"
         ],
         "textposition": "inside",
         "type": "bar",
         "x": [
          "1 Suggestion",
          "3 Suggestions",
          "5 Suggestions"
         ],
         "y": [
          75.8,
          92.9,
          86.22
         ]
        },
        {
         "error_y": {
          "array": [
           1.5165501086686741,
           2.0390523088888473,
           1.7316576496046008
          ],
          "type": "data"
         },
         "insidetextanchor": "middle",
         "marker": {
          "color": "#eafbfb",
          "line": {
           "color": "rgb(8,48,107)",
           "width": 1.5
          }
         },
         "name": "C2 - Chatbot Only",
         "opacity": 0.8,
         "text": [
          "79.2",
          "80.35",
          "77.07"
         ],
         "textposition": "inside",
         "type": "bar",
         "x": [
          "1 Suggestion",
          "3 Suggestions",
          "5 Suggestions"
         ],
         "y": [
          79.2,
          80.35,
          77.07
         ]
        }
       ],
       "layout": {
        "font": {
         "size": 13
        },
        "legend": {
         "orientation": "h"
        },
        "template": {
         "data": {
          "bar": [
           {
            "error_x": {
             "color": "#2a3f5f"
            },
            "error_y": {
             "color": "#2a3f5f"
            },
            "marker": {
             "line": {
              "color": "#E5ECF6",
              "width": 0.5
             }
            },
            "type": "bar"
           }
          ],
          "barpolar": [
           {
            "marker": {
             "line": {
              "color": "#E5ECF6",
              "width": 0.5
             }
            },
            "type": "barpolar"
           }
          ],
          "carpet": [
           {
            "aaxis": {
             "endlinecolor": "#2a3f5f",
             "gridcolor": "white",
             "linecolor": "white",
             "minorgridcolor": "white",
             "startlinecolor": "#2a3f5f"
            },
            "baxis": {
             "endlinecolor": "#2a3f5f",
             "gridcolor": "white",
             "linecolor": "white",
             "minorgridcolor": "white",
             "startlinecolor": "#2a3f5f"
            },
            "type": "carpet"
           }
          ],
          "choropleth": [
           {
            "colorbar": {
             "outlinewidth": 0,
             "ticks": ""
            },
            "type": "choropleth"
           }
          ],
          "contour": [
           {
            "colorbar": {
             "outlinewidth": 0,
             "ticks": ""
            },
            "colorscale": [
             [
              0,
              "#0d0887"
             ],
             [
              0.1111111111111111,
              "#46039f"
             ],
             [
              0.2222222222222222,
              "#7201a8"
             ],
             [
              0.3333333333333333,
              "#9c179e"
             ],
             [
              0.4444444444444444,
              "#bd3786"
             ],
             [
              0.5555555555555556,
              "#d8576b"
             ],
             [
              0.6666666666666666,
              "#ed7953"
             ],
             [
              0.7777777777777778,
              "#fb9f3a"
             ],
             [
              0.8888888888888888,
              "#fdca26"
             ],
             [
              1,
              "#f0f921"
             ]
            ],
            "type": "contour"
           }
          ],
          "contourcarpet": [
           {
            "colorbar": {
             "outlinewidth": 0,
             "ticks": ""
            },
            "type": "contourcarpet"
           }
          ],
          "heatmap": [
           {
            "colorbar": {
             "outlinewidth": 0,
             "ticks": ""
            },
            "colorscale": [
             [
              0,
              "#0d0887"
             ],
             [
              0.1111111111111111,
              "#46039f"
             ],
             [
              0.2222222222222222,
              "#7201a8"
             ],
             [
              0.3333333333333333,
              "#9c179e"
             ],
             [
              0.4444444444444444,
              "#bd3786"
             ],
             [
              0.5555555555555556,
              "#d8576b"
             ],
             [
              0.6666666666666666,
              "#ed7953"
             ],
             [
              0.7777777777777778,
              "#fb9f3a"
             ],
             [
              0.8888888888888888,
              "#fdca26"
             ],
             [
              1,
              "#f0f921"
             ]
            ],
            "type": "heatmap"
           }
          ],
          "heatmapgl": [
           {
            "colorbar": {
             "outlinewidth": 0,
             "ticks": ""
            },
            "colorscale": [
             [
              0,
              "#0d0887"
             ],
             [
              0.1111111111111111,
              "#46039f"
             ],
             [
              0.2222222222222222,
              "#7201a8"
             ],
             [
              0.3333333333333333,
              "#9c179e"
             ],
             [
              0.4444444444444444,
              "#bd3786"
             ],
             [
              0.5555555555555556,
              "#d8576b"
             ],
             [
              0.6666666666666666,
              "#ed7953"
             ],
             [
              0.7777777777777778,
              "#fb9f3a"
             ],
             [
              0.8888888888888888,
              "#fdca26"
             ],
             [
              1,
              "#f0f921"
             ]
            ],
            "type": "heatmapgl"
           }
          ],
          "histogram": [
           {
            "marker": {
             "colorbar": {
              "outlinewidth": 0,
              "ticks": ""
             }
            },
            "type": "histogram"
           }
          ],
          "histogram2d": [
           {
            "colorbar": {
             "outlinewidth": 0,
             "ticks": ""
            },
            "colorscale": [
             [
              0,
              "#0d0887"
             ],
             [
              0.1111111111111111,
              "#46039f"
             ],
             [
              0.2222222222222222,
              "#7201a8"
             ],
             [
              0.3333333333333333,
              "#9c179e"
             ],
             [
              0.4444444444444444,
              "#bd3786"
             ],
             [
              0.5555555555555556,
              "#d8576b"
             ],
             [
              0.6666666666666666,
              "#ed7953"
             ],
             [
              0.7777777777777778,
              "#fb9f3a"
             ],
             [
              0.8888888888888888,
              "#fdca26"
             ],
             [
              1,
              "#f0f921"
             ]
            ],
            "type": "histogram2d"
           }
          ],
          "histogram2dcontour": [
           {
            "colorbar": {
             "outlinewidth": 0,
             "ticks": ""
            },
            "colorscale": [
             [
              0,
              "#0d0887"
             ],
             [
              0.1111111111111111,
              "#46039f"
             ],
             [
              0.2222222222222222,
              "#7201a8"
             ],
             [
              0.3333333333333333,
              "#9c179e"
             ],
             [
              0.4444444444444444,
              "#bd3786"
             ],
             [
              0.5555555555555556,
              "#d8576b"
             ],
             [
              0.6666666666666666,
              "#ed7953"
             ],
             [
              0.7777777777777778,
              "#fb9f3a"
             ],
             [
              0.8888888888888888,
              "#fdca26"
             ],
             [
              1,
              "#f0f921"
             ]
            ],
            "type": "histogram2dcontour"
           }
          ],
          "mesh3d": [
           {
            "colorbar": {
             "outlinewidth": 0,
             "ticks": ""
            },
            "type": "mesh3d"
           }
          ],
          "parcoords": [
           {
            "line": {
             "colorbar": {
              "outlinewidth": 0,
              "ticks": ""
             }
            },
            "type": "parcoords"
           }
          ],
          "pie": [
           {
            "automargin": true,
            "type": "pie"
           }
          ],
          "scatter": [
           {
            "marker": {
             "colorbar": {
              "outlinewidth": 0,
              "ticks": ""
             }
            },
            "type": "scatter"
           }
          ],
          "scatter3d": [
           {
            "line": {
             "colorbar": {
              "outlinewidth": 0,
              "ticks": ""
             }
            },
            "marker": {
             "colorbar": {
              "outlinewidth": 0,
              "ticks": ""
             }
            },
            "type": "scatter3d"
           }
          ],
          "scattercarpet": [
           {
            "marker": {
             "colorbar": {
              "outlinewidth": 0,
              "ticks": ""
             }
            },
            "type": "scattercarpet"
           }
          ],
          "scattergeo": [
           {
            "marker": {
             "colorbar": {
              "outlinewidth": 0,
              "ticks": ""
             }
            },
            "type": "scattergeo"
           }
          ],
          "scattergl": [
           {
            "marker": {
             "colorbar": {
              "outlinewidth": 0,
              "ticks": ""
             }
            },
            "type": "scattergl"
           }
          ],
          "scattermapbox": [
           {
            "marker": {
             "colorbar": {
              "outlinewidth": 0,
              "ticks": ""
             }
            },
            "type": "scattermapbox"
           }
          ],
          "scatterpolar": [
           {
            "marker": {
             "colorbar": {
              "outlinewidth": 0,
              "ticks": ""
             }
            },
            "type": "scatterpolar"
           }
          ],
          "scatterpolargl": [
           {
            "marker": {
             "colorbar": {
              "outlinewidth": 0,
              "ticks": ""
             }
            },
            "type": "scatterpolargl"
           }
          ],
          "scatterternary": [
           {
            "marker": {
             "colorbar": {
              "outlinewidth": 0,
              "ticks": ""
             }
            },
            "type": "scatterternary"
           }
          ],
          "surface": [
           {
            "colorbar": {
             "outlinewidth": 0,
             "ticks": ""
            },
            "colorscale": [
             [
              0,
              "#0d0887"
             ],
             [
              0.1111111111111111,
              "#46039f"
             ],
             [
              0.2222222222222222,
              "#7201a8"
             ],
             [
              0.3333333333333333,
              "#9c179e"
             ],
             [
              0.4444444444444444,
              "#bd3786"
             ],
             [
              0.5555555555555556,
              "#d8576b"
             ],
             [
              0.6666666666666666,
              "#ed7953"
             ],
             [
              0.7777777777777778,
              "#fb9f3a"
             ],
             [
              0.8888888888888888,
              "#fdca26"
             ],
             [
              1,
              "#f0f921"
             ]
            ],
            "type": "surface"
           }
          ],
          "table": [
           {
            "cells": {
             "fill": {
              "color": "#EBF0F8"
             },
             "line": {
              "color": "white"
             }
            },
            "header": {
             "fill": {
              "color": "#C8D4E3"
             },
             "line": {
              "color": "white"
             }
            },
            "type": "table"
           }
          ]
         },
         "layout": {
          "annotationdefaults": {
           "arrowcolor": "#2a3f5f",
           "arrowhead": 0,
           "arrowwidth": 1
          },
          "coloraxis": {
           "colorbar": {
            "outlinewidth": 0,
            "ticks": ""
           }
          },
          "colorscale": {
           "diverging": [
            [
             0,
             "#8e0152"
            ],
            [
             0.1,
             "#c51b7d"
            ],
            [
             0.2,
             "#de77ae"
            ],
            [
             0.3,
             "#f1b6da"
            ],
            [
             0.4,
             "#fde0ef"
            ],
            [
             0.5,
             "#f7f7f7"
            ],
            [
             0.6,
             "#e6f5d0"
            ],
            [
             0.7,
             "#b8e186"
            ],
            [
             0.8,
             "#7fbc41"
            ],
            [
             0.9,
             "#4d9221"
            ],
            [
             1,
             "#276419"
            ]
           ],
           "sequential": [
            [
             0,
             "#0d0887"
            ],
            [
             0.1111111111111111,
             "#46039f"
            ],
            [
             0.2222222222222222,
             "#7201a8"
            ],
            [
             0.3333333333333333,
             "#9c179e"
            ],
            [
             0.4444444444444444,
             "#bd3786"
            ],
            [
             0.5555555555555556,
             "#d8576b"
            ],
            [
             0.6666666666666666,
             "#ed7953"
            ],
            [
             0.7777777777777778,
             "#fb9f3a"
            ],
            [
             0.8888888888888888,
             "#fdca26"
            ],
            [
             1,
             "#f0f921"
            ]
           ],
           "sequentialminus": [
            [
             0,
             "#0d0887"
            ],
            [
             0.1111111111111111,
             "#46039f"
            ],
            [
             0.2222222222222222,
             "#7201a8"
            ],
            [
             0.3333333333333333,
             "#9c179e"
            ],
            [
             0.4444444444444444,
             "#bd3786"
            ],
            [
             0.5555555555555556,
             "#d8576b"
            ],
            [
             0.6666666666666666,
             "#ed7953"
            ],
            [
             0.7777777777777778,
             "#fb9f3a"
            ],
            [
             0.8888888888888888,
             "#fdca26"
            ],
            [
             1,
             "#f0f921"
            ]
           ]
          },
          "colorway": [
           "#636efa",
           "#EF553B",
           "#00cc96",
           "#ab63fa",
           "#FFA15A",
           "#19d3f3",
           "#FF6692",
           "#B6E880",
           "#FF97FF",
           "#FECB52"
          ],
          "font": {
           "color": "#2a3f5f"
          },
          "geo": {
           "bgcolor": "white",
           "lakecolor": "white",
           "landcolor": "#E5ECF6",
           "showlakes": true,
           "showland": true,
           "subunitcolor": "white"
          },
          "hoverlabel": {
           "align": "left"
          },
          "hovermode": "closest",
          "mapbox": {
           "style": "light"
          },
          "paper_bgcolor": "white",
          "plot_bgcolor": "#E5ECF6",
          "polar": {
           "angularaxis": {
            "gridcolor": "white",
            "linecolor": "white",
            "ticks": ""
           },
           "bgcolor": "#E5ECF6",
           "radialaxis": {
            "gridcolor": "white",
            "linecolor": "white",
            "ticks": ""
           }
          },
          "scene": {
           "xaxis": {
            "backgroundcolor": "#E5ECF6",
            "gridcolor": "white",
            "gridwidth": 2,
            "linecolor": "white",
            "showbackground": true,
            "ticks": "",
            "zerolinecolor": "white"
           },
           "yaxis": {
            "backgroundcolor": "#E5ECF6",
            "gridcolor": "white",
            "gridwidth": 2,
            "linecolor": "white",
            "showbackground": true,
            "ticks": "",
            "zerolinecolor": "white"
           },
           "zaxis": {
            "backgroundcolor": "#E5ECF6",
            "gridcolor": "white",
            "gridwidth": 2,
            "linecolor": "white",
            "showbackground": true,
            "ticks": "",
            "zerolinecolor": "white"
           }
          },
          "shapedefaults": {
           "line": {
            "color": "#2a3f5f"
           }
          },
          "ternary": {
           "aaxis": {
            "gridcolor": "white",
            "linecolor": "white",
            "ticks": ""
           },
           "baxis": {
            "gridcolor": "white",
            "linecolor": "white",
            "ticks": ""
           },
           "bgcolor": "#E5ECF6",
           "caxis": {
            "gridcolor": "white",
            "linecolor": "white",
            "ticks": ""
           }
          },
          "title": {
           "x": 0.05
          },
          "xaxis": {
           "automargin": true,
           "gridcolor": "white",
           "linecolor": "white",
           "ticks": "",
           "title": {
            "standoff": 15
           },
           "zerolinecolor": "white",
           "zerolinewidth": 2
          },
          "yaxis": {
           "automargin": true,
           "gridcolor": "white",
           "linecolor": "white",
           "ticks": "",
           "title": {
            "standoff": 15
           },
           "zerolinecolor": "white",
           "zerolinewidth": 2
          }
         }
        }
       }
      },
      "text/html": [
       "<div>\n",
       "        \n",
       "        \n",
       "            <div id=\"7fe4031d-4850-4b06-8543-92c5bea5836b\" class=\"plotly-graph-div\" style=\"height:525px; width:100%;\"></div>\n",
       "            <script type=\"text/javascript\">\n",
       "                require([\"plotly\"], function(Plotly) {\n",
       "                    window.PLOTLYENV=window.PLOTLYENV || {};\n",
       "                    \n",
       "                if (document.getElementById(\"7fe4031d-4850-4b06-8543-92c5bea5836b\")) {\n",
       "                    Plotly.newPlot(\n",
       "                        '7fe4031d-4850-4b06-8543-92c5bea5836b',\n",
       "                        [{\"error_y\": {\"array\": [1.9383530380196483], \"type\": \"data\"}, \"insidetextanchor\": \"middle\", \"marker\": {\"color\": \"#B0C4DE\", \"line\": {\"color\": \"rgb(8,48,107)\", \"width\": 1.5}}, \"name\": \"Human Only\", \"opacity\": 0.8, \"text\": [\"60.9\"], \"textposition\": \"inside\", \"type\": \"bar\", \"x\": [\"\"], \"y\": [60.9]}, {\"error_y\": {\"array\": [1.2086808468759276], \"type\": \"data\"}, \"insidetextanchor\": \"middle\", \"marker\": {\"color\": \"#A9A9A9\", \"line\": {\"color\": \"rgb(8,48,107)\", \"width\": 1.5}}, \"name\": \"Chatbot Only\", \"opacity\": 0.8, \"text\": [\"152.59\"], \"textposition\": \"inside\", \"type\": \"bar\", \"x\": [\"\"], \"y\": [152.59]}, {\"error_y\": {\"array\": [2.10749917057268, 1.9846301366563854, 2.232745332220123], \"type\": \"data\"}, \"insidetextanchor\": \"middle\", \"marker\": {\"color\": \"lightsalmon\", \"line\": {\"color\": \"rgb(8,48,107)\", \"width\": 1.5}}, \"name\": \"C1\", \"opacity\": 0.8, \"text\": [\"66.98\", \"73.45\", \"72.45\"], \"textposition\": \"inside\", \"type\": \"bar\", \"x\": [\"1 Suggestion\", \"3 Suggestions\", \"5 Suggestions\"], \"y\": [66.98, 73.45, 72.45]}, {\"error_y\": {\"array\": [1.7867258925115628, 2.049066756380931, 1.9590097879245394], \"type\": \"data\"}, \"insidetextanchor\": \"middle\", \"marker\": {\"color\": \"#ffdacc\", \"line\": {\"color\": \"rgb(8,48,107)\", \"width\": 1.5}}, \"name\": \"C1 - Chatbot Only\", \"opacity\": 0.8, \"text\": [\"77.38\", \"80.88\", \"78.71\"], \"textposition\": \"inside\", \"type\": \"bar\", \"x\": [\"1 Suggestion\", \"3 Suggestions\", \"5 Suggestions\"], \"y\": [77.38, 80.88, 78.71]}, {\"error_y\": {\"array\": [1.613659745146117, 2.770014876539061, 2.7511172942007023], \"type\": \"data\"}, \"insidetextanchor\": \"middle\", \"marker\": {\"color\": \"#AFEEEE\", \"line\": {\"color\": \"rgb(8,48,107)\", \"width\": 1.5}}, \"name\": \"C2\", \"opacity\": 0.8, \"text\": [\"75.8\", \"92.9\", \"86.22\"], \"textposition\": \"inside\", \"type\": \"bar\", \"x\": [\"1 Suggestion\", \"3 Suggestions\", \"5 Suggestions\"], \"y\": [75.8, 92.9, 86.22]}, {\"error_y\": {\"array\": [1.5165501086686741, 2.0390523088888473, 1.7316576496046008], \"type\": \"data\"}, \"insidetextanchor\": \"middle\", \"marker\": {\"color\": \"#eafbfb\", \"line\": {\"color\": \"rgb(8,48,107)\", \"width\": 1.5}}, \"name\": \"C2 - Chatbot Only\", \"opacity\": 0.8, \"text\": [\"79.2\", \"80.35\", \"77.07\"], \"textposition\": \"inside\", \"type\": \"bar\", \"x\": [\"1 Suggestion\", \"3 Suggestions\", \"5 Suggestions\"], \"y\": [79.2, 80.35, 77.07]}],\n",
       "                        {\"font\": {\"size\": 13}, \"legend\": {\"orientation\": \"h\"}, \"template\": {\"data\": {\"bar\": [{\"error_x\": {\"color\": \"#2a3f5f\"}, \"error_y\": {\"color\": \"#2a3f5f\"}, \"marker\": {\"line\": {\"color\": \"#E5ECF6\", \"width\": 0.5}}, \"type\": \"bar\"}], \"barpolar\": [{\"marker\": {\"line\": {\"color\": \"#E5ECF6\", \"width\": 0.5}}, \"type\": \"barpolar\"}], \"carpet\": [{\"aaxis\": {\"endlinecolor\": \"#2a3f5f\", \"gridcolor\": \"white\", \"linecolor\": \"white\", \"minorgridcolor\": \"white\", \"startlinecolor\": \"#2a3f5f\"}, \"baxis\": {\"endlinecolor\": \"#2a3f5f\", \"gridcolor\": \"white\", \"linecolor\": \"white\", \"minorgridcolor\": \"white\", \"startlinecolor\": \"#2a3f5f\"}, \"type\": \"carpet\"}], \"choropleth\": [{\"colorbar\": {\"outlinewidth\": 0, \"ticks\": \"\"}, \"type\": \"choropleth\"}], \"contour\": [{\"colorbar\": {\"outlinewidth\": 0, \"ticks\": \"\"}, \"colorscale\": [[0.0, \"#0d0887\"], [0.1111111111111111, \"#46039f\"], [0.2222222222222222, \"#7201a8\"], [0.3333333333333333, \"#9c179e\"], [0.4444444444444444, \"#bd3786\"], [0.5555555555555556, \"#d8576b\"], [0.6666666666666666, \"#ed7953\"], [0.7777777777777778, \"#fb9f3a\"], [0.8888888888888888, \"#fdca26\"], [1.0, \"#f0f921\"]], \"type\": \"contour\"}], \"contourcarpet\": [{\"colorbar\": {\"outlinewidth\": 0, \"ticks\": \"\"}, \"type\": \"contourcarpet\"}], \"heatmap\": [{\"colorbar\": {\"outlinewidth\": 0, \"ticks\": \"\"}, \"colorscale\": [[0.0, \"#0d0887\"], [0.1111111111111111, \"#46039f\"], [0.2222222222222222, \"#7201a8\"], [0.3333333333333333, \"#9c179e\"], [0.4444444444444444, \"#bd3786\"], [0.5555555555555556, \"#d8576b\"], [0.6666666666666666, \"#ed7953\"], [0.7777777777777778, \"#fb9f3a\"], [0.8888888888888888, \"#fdca26\"], [1.0, \"#f0f921\"]], \"type\": \"heatmap\"}], \"heatmapgl\": [{\"colorbar\": {\"outlinewidth\": 0, \"ticks\": \"\"}, \"colorscale\": [[0.0, \"#0d0887\"], [0.1111111111111111, \"#46039f\"], [0.2222222222222222, \"#7201a8\"], [0.3333333333333333, \"#9c179e\"], [0.4444444444444444, \"#bd3786\"], [0.5555555555555556, \"#d8576b\"], [0.6666666666666666, \"#ed7953\"], [0.7777777777777778, \"#fb9f3a\"], [0.8888888888888888, \"#fdca26\"], [1.0, \"#f0f921\"]], \"type\": \"heatmapgl\"}], \"histogram\": [{\"marker\": {\"colorbar\": {\"outlinewidth\": 0, \"ticks\": \"\"}}, \"type\": \"histogram\"}], \"histogram2d\": [{\"colorbar\": {\"outlinewidth\": 0, \"ticks\": \"\"}, \"colorscale\": [[0.0, \"#0d0887\"], [0.1111111111111111, \"#46039f\"], [0.2222222222222222, \"#7201a8\"], [0.3333333333333333, \"#9c179e\"], [0.4444444444444444, \"#bd3786\"], [0.5555555555555556, \"#d8576b\"], [0.6666666666666666, \"#ed7953\"], [0.7777777777777778, \"#fb9f3a\"], [0.8888888888888888, \"#fdca26\"], [1.0, \"#f0f921\"]], \"type\": \"histogram2d\"}], \"histogram2dcontour\": [{\"colorbar\": {\"outlinewidth\": 0, \"ticks\": \"\"}, \"colorscale\": [[0.0, \"#0d0887\"], [0.1111111111111111, \"#46039f\"], [0.2222222222222222, \"#7201a8\"], [0.3333333333333333, \"#9c179e\"], [0.4444444444444444, \"#bd3786\"], [0.5555555555555556, \"#d8576b\"], [0.6666666666666666, \"#ed7953\"], [0.7777777777777778, \"#fb9f3a\"], [0.8888888888888888, \"#fdca26\"], [1.0, \"#f0f921\"]], \"type\": \"histogram2dcontour\"}], \"mesh3d\": [{\"colorbar\": {\"outlinewidth\": 0, \"ticks\": \"\"}, \"type\": \"mesh3d\"}], \"parcoords\": [{\"line\": {\"colorbar\": {\"outlinewidth\": 0, \"ticks\": \"\"}}, \"type\": \"parcoords\"}], \"pie\": [{\"automargin\": true, \"type\": \"pie\"}], \"scatter\": [{\"marker\": {\"colorbar\": {\"outlinewidth\": 0, \"ticks\": \"\"}}, \"type\": \"scatter\"}], \"scatter3d\": [{\"line\": {\"colorbar\": {\"outlinewidth\": 0, \"ticks\": \"\"}}, \"marker\": {\"colorbar\": {\"outlinewidth\": 0, \"ticks\": \"\"}}, \"type\": \"scatter3d\"}], \"scattercarpet\": [{\"marker\": {\"colorbar\": {\"outlinewidth\": 0, \"ticks\": \"\"}}, \"type\": \"scattercarpet\"}], \"scattergeo\": [{\"marker\": {\"colorbar\": {\"outlinewidth\": 0, \"ticks\": \"\"}}, \"type\": \"scattergeo\"}], \"scattergl\": [{\"marker\": {\"colorbar\": {\"outlinewidth\": 0, \"ticks\": \"\"}}, \"type\": \"scattergl\"}], \"scattermapbox\": [{\"marker\": {\"colorbar\": {\"outlinewidth\": 0, \"ticks\": \"\"}}, \"type\": \"scattermapbox\"}], \"scatterpolar\": [{\"marker\": {\"colorbar\": {\"outlinewidth\": 0, \"ticks\": \"\"}}, \"type\": \"scatterpolar\"}], \"scatterpolargl\": [{\"marker\": {\"colorbar\": {\"outlinewidth\": 0, \"ticks\": \"\"}}, \"type\": \"scatterpolargl\"}], \"scatterternary\": [{\"marker\": {\"colorbar\": {\"outlinewidth\": 0, \"ticks\": \"\"}}, \"type\": \"scatterternary\"}], \"surface\": [{\"colorbar\": {\"outlinewidth\": 0, \"ticks\": \"\"}, \"colorscale\": [[0.0, \"#0d0887\"], [0.1111111111111111, \"#46039f\"], [0.2222222222222222, \"#7201a8\"], [0.3333333333333333, \"#9c179e\"], [0.4444444444444444, \"#bd3786\"], [0.5555555555555556, \"#d8576b\"], [0.6666666666666666, \"#ed7953\"], [0.7777777777777778, \"#fb9f3a\"], [0.8888888888888888, \"#fdca26\"], [1.0, \"#f0f921\"]], \"type\": \"surface\"}], \"table\": [{\"cells\": {\"fill\": {\"color\": \"#EBF0F8\"}, \"line\": {\"color\": \"white\"}}, \"header\": {\"fill\": {\"color\": \"#C8D4E3\"}, \"line\": {\"color\": \"white\"}}, \"type\": \"table\"}]}, \"layout\": {\"annotationdefaults\": {\"arrowcolor\": \"#2a3f5f\", \"arrowhead\": 0, \"arrowwidth\": 1}, \"coloraxis\": {\"colorbar\": {\"outlinewidth\": 0, \"ticks\": \"\"}}, \"colorscale\": {\"diverging\": [[0, \"#8e0152\"], [0.1, \"#c51b7d\"], [0.2, \"#de77ae\"], [0.3, \"#f1b6da\"], [0.4, \"#fde0ef\"], [0.5, \"#f7f7f7\"], [0.6, \"#e6f5d0\"], [0.7, \"#b8e186\"], [0.8, \"#7fbc41\"], [0.9, \"#4d9221\"], [1, \"#276419\"]], \"sequential\": [[0.0, \"#0d0887\"], [0.1111111111111111, \"#46039f\"], [0.2222222222222222, \"#7201a8\"], [0.3333333333333333, \"#9c179e\"], [0.4444444444444444, \"#bd3786\"], [0.5555555555555556, \"#d8576b\"], [0.6666666666666666, \"#ed7953\"], [0.7777777777777778, \"#fb9f3a\"], [0.8888888888888888, \"#fdca26\"], [1.0, \"#f0f921\"]], \"sequentialminus\": [[0.0, \"#0d0887\"], [0.1111111111111111, \"#46039f\"], [0.2222222222222222, \"#7201a8\"], [0.3333333333333333, \"#9c179e\"], [0.4444444444444444, \"#bd3786\"], [0.5555555555555556, \"#d8576b\"], [0.6666666666666666, \"#ed7953\"], [0.7777777777777778, \"#fb9f3a\"], [0.8888888888888888, \"#fdca26\"], [1.0, \"#f0f921\"]]}, \"colorway\": [\"#636efa\", \"#EF553B\", \"#00cc96\", \"#ab63fa\", \"#FFA15A\", \"#19d3f3\", \"#FF6692\", \"#B6E880\", \"#FF97FF\", \"#FECB52\"], \"font\": {\"color\": \"#2a3f5f\"}, \"geo\": {\"bgcolor\": \"white\", \"lakecolor\": \"white\", \"landcolor\": \"#E5ECF6\", \"showlakes\": true, \"showland\": true, \"subunitcolor\": \"white\"}, \"hoverlabel\": {\"align\": \"left\"}, \"hovermode\": \"closest\", \"mapbox\": {\"style\": \"light\"}, \"paper_bgcolor\": \"white\", \"plot_bgcolor\": \"#E5ECF6\", \"polar\": {\"angularaxis\": {\"gridcolor\": \"white\", \"linecolor\": \"white\", \"ticks\": \"\"}, \"bgcolor\": \"#E5ECF6\", \"radialaxis\": {\"gridcolor\": \"white\", \"linecolor\": \"white\", \"ticks\": \"\"}}, \"scene\": {\"xaxis\": {\"backgroundcolor\": \"#E5ECF6\", \"gridcolor\": \"white\", \"gridwidth\": 2, \"linecolor\": \"white\", \"showbackground\": true, \"ticks\": \"\", \"zerolinecolor\": \"white\"}, \"yaxis\": {\"backgroundcolor\": \"#E5ECF6\", \"gridcolor\": \"white\", \"gridwidth\": 2, \"linecolor\": \"white\", \"showbackground\": true, \"ticks\": \"\", \"zerolinecolor\": \"white\"}, \"zaxis\": {\"backgroundcolor\": \"#E5ECF6\", \"gridcolor\": \"white\", \"gridwidth\": 2, \"linecolor\": \"white\", \"showbackground\": true, \"ticks\": \"\", \"zerolinecolor\": \"white\"}}, \"shapedefaults\": {\"line\": {\"color\": \"#2a3f5f\"}}, \"ternary\": {\"aaxis\": {\"gridcolor\": \"white\", \"linecolor\": \"white\", \"ticks\": \"\"}, \"baxis\": {\"gridcolor\": \"white\", \"linecolor\": \"white\", \"ticks\": \"\"}, \"bgcolor\": \"#E5ECF6\", \"caxis\": {\"gridcolor\": \"white\", \"linecolor\": \"white\", \"ticks\": \"\"}}, \"title\": {\"x\": 0.05}, \"xaxis\": {\"automargin\": true, \"gridcolor\": \"white\", \"linecolor\": \"white\", \"ticks\": \"\", \"title\": {\"standoff\": 15}, \"zerolinecolor\": \"white\", \"zerolinewidth\": 2}, \"yaxis\": {\"automargin\": true, \"gridcolor\": \"white\", \"linecolor\": \"white\", \"ticks\": \"\", \"title\": {\"standoff\": 15}, \"zerolinecolor\": \"white\", \"zerolinewidth\": 2}}}},\n",
       "                        {\"responsive\": true}\n",
       "                    ).then(function(){\n",
       "                            \n",
       "var gd = document.getElementById('7fe4031d-4850-4b06-8543-92c5bea5836b');\n",
       "var x = new MutationObserver(function (mutations, observer) {{\n",
       "        var display = window.getComputedStyle(gd).display;\n",
       "        if (!display || display === 'none') {{\n",
       "            console.log([gd, 'removed!']);\n",
       "            Plotly.purge(gd);\n",
       "            observer.disconnect();\n",
       "        }}\n",
       "}});\n",
       "\n",
       "// Listen for the removal of the full notebook cells\n",
       "var notebookContainer = gd.closest('#notebook-container');\n",
       "if (notebookContainer) {{\n",
       "    x.observe(notebookContainer, {childList: true});\n",
       "}}\n",
       "\n",
       "// Listen for the clearing of the current output cell\n",
       "var outputEl = gd.closest('.output');\n",
       "if (outputEl) {{\n",
       "    x.observe(outputEl, {childList: true});\n",
       "}}\n",
       "\n",
       "                        })\n",
       "                };\n",
       "                });\n",
       "            </script>\n",
       "        </div>"
      ]
     },
     "metadata": {},
     "output_type": "display_data"
    }
   ],
   "source": [
    "colors = ['#FAEBD7', '#FFA07A', '#B0C4DE', '#AFEEEE', '#8FBC8F']\n",
    "x = ['1 Suggestion', '3 Suggestions', '5 Suggestions']\n",
    "fig = go.Figure()\n",
    "\n",
    "xHuman = ['']\n",
    "yHuman = [Set1]\n",
    "yHumanErorr = [np.std(z)/math.sqrt(len(z)) for z in yHuman] \n",
    "yHuman = [round(statistics.mean(z), 2) for z in yHuman]\n",
    "\n",
    "fig.add_trace(go.Bar(\n",
    "    name='Human Only',\n",
    "    x=xHuman, y=yHuman, text=yHuman, textposition='inside',insidetextanchor='middle',\n",
    "    marker_color='#B0C4DE',\n",
    "    marker_line_color='rgb(8,48,107)', marker_line_width=1.5, opacity=0.8,\n",
    "    error_y=dict(type='data', array=yHumanErorr)\n",
    "))\n",
    "\n",
    "xBot = ['']\n",
    "yBot = [bot2]\n",
    "yBotErorr = [np.std(z)/math.sqrt(len(z)) for z in yBot] \n",
    "yBot = [round(statistics.mean(z), 2) for z in yBot]\n",
    "\n",
    "fig.add_trace(go.Bar(\n",
    "    name='Chatbot Only',\n",
    "    x=xBot, y=yBot, text=yBot, textposition='inside',insidetextanchor='middle',\n",
    "    marker_color='#A9A9A9',\n",
    "    marker_line_color='rgb(8,48,107)', marker_line_width=1.5, opacity=0.8,\n",
    "    error_y=dict(type='data', array=yBotErorr)\n",
    "))\n",
    "\n",
    "\n",
    "ySuggOnly = [sugg1, sugg3, sugg5]\n",
    "ySuggOnlyErorr = [np.std(z)/math.sqrt(len(z)) for z in ySuggOnly] \n",
    "ySuggOnly = [round(statistics.mean(z), 2) for z in ySuggOnly]\n",
    "\n",
    "fig.add_trace(go.Bar(\n",
    "    name='C1',\n",
    "    x=x, y=ySuggOnly, text=ySuggOnly, textposition='inside',insidetextanchor='middle',\n",
    "    marker_color='lightsalmon',\n",
    "    marker_line_color='rgb(8,48,107)', marker_line_width=1.5, opacity=0.8,\n",
    "    error_y=dict(type='data', array=ySuggOnlyErorr)\n",
    "))\n",
    "\n",
    "ySuggOnlyBot = [sugg1Bot, sugg3Bot, sugg5Bot]\n",
    "ySuggOnlyBotErorr = [np.std(z)/math.sqrt(len(z)) for z in ySuggOnlyBot] \n",
    "ySuggOnlyBot = [round(statistics.mean(z), 2) for z in ySuggOnlyBot]\n",
    "\n",
    "fig.add_trace(go.Bar(\n",
    "    name='C1 - Chatbot Only',\n",
    "    x=x, y=ySuggOnlyBot, text=ySuggOnlyBot, textposition='inside',insidetextanchor='middle',\n",
    "    marker_color='#ffdacc',\n",
    "    marker_line_color='rgb(8,48,107)', marker_line_width=1.5, opacity=0.8,\n",
    "    error_y=dict(type='data', array=ySuggOnlyBotErorr)\n",
    "))\n",
    "\n",
    "yAutoSugg = [autoSugg1, autoSugg3, autoSugg5]\n",
    "yAutoSuggErorr = [np.std(z)/math.sqrt(len(z)) for z in yAutoSugg] \n",
    "yAutoSugg = [round(statistics.mean(z), 2) for z in yAutoSugg]\n",
    "\n",
    "fig.add_trace(go.Bar(\n",
    "    name='C2',\n",
    "    x=x, y=yAutoSugg, text=yAutoSugg, textposition='inside',insidetextanchor='middle',\n",
    "    marker_color='#AFEEEE',\n",
    "    marker_line_color='rgb(8,48,107)', marker_line_width=1.5, opacity=0.8,\n",
    "    error_y=dict(type='data', array=yAutoSuggErorr)\n",
    "))\n",
    "\n",
    "yAutoSuggBot = [autoSugg1Bot, autoSugg3Bot, autoSugg5Bot]\n",
    "yAutoSuggBotErorr = [np.std(z)/math.sqrt(len(z)) for z in yAutoSuggBot] \n",
    "yAutoSuggBot = [round(statistics.mean(z), 2) for z in yAutoSuggBot]\n",
    "\n",
    "fig.add_trace(go.Bar(\n",
    "    name='C2 - Chatbot Only',\n",
    "    x=x, y=yAutoSuggBot, text=yAutoSuggBot, textposition='inside',insidetextanchor='middle',\n",
    "    marker_color='#eafbfb',\n",
    "    marker_line_color='rgb(8,48,107)', marker_line_width=1.5, opacity=0.8,\n",
    "    error_y=dict(type='data', array=yAutoSuggBotErorr)\n",
    "))\n",
    "\n",
    "\n",
    "fig.update_layout(\n",
    "    font=dict(\n",
    "        size=13\n",
    "    )\n",
    ")\n",
    "fig.update_layout(legend_orientation=\"h\")\n",
    "\n",
    "fig.show()\n"
   ]
  },
  {
   "cell_type": "code",
   "execution_count": null,
   "metadata": {},
   "outputs": [],
   "source": []
  },
  {
   "cell_type": "markdown",
   "metadata": {},
   "source": [
    "## Setting 5"
   ]
  },
  {
   "cell_type": "code",
   "execution_count": 24,
   "metadata": {},
   "outputs": [],
   "source": [
    "\n",
    "sugg1 = []\n",
    "\n",
    "autoSugg1 = []\n",
    "\n",
    "sugg1Bot = []\n",
    "\n",
    "autoSugg1Bot = []\n",
    "\n",
    "\n",
    "for root, dirs, files in os.walk(\"../clean/Setting 5\"):\n",
    "    for file in files:\n",
    "        if file.endswith(\".json\"):\n",
    "            fileName = os.path.join(root, file)\n",
    "            with open(fileName) as json_file:\n",
    "                try:\n",
    "                    data = json.load(json_file)\n",
    "                    dialogs = data['dialogs']\n",
    "                    \n",
    "                    \n",
    "                    if(data['autoFilledSuggestion'] == 0):\n",
    "                        \n",
    "                        if(data['suggestionsNumber'] == 1):\n",
    "                            for i in range(1, len(dialogs)):\n",
    "                                sugg1.append(len(dialogs[i]['context']['userResponse']))\n",
    "                                sugg1Bot.append(len(dialogs[i]['context']['suggestions'][0]))\n",
    "                        \n",
    "                       \n",
    "                    else:\n",
    "                        \n",
    "                        if(data['suggestionsNumber'] == 1):\n",
    "                            for i in range(1, len(dialogs)):\n",
    "                                autoSugg1.append(len(dialogs[i]['context']['userResponse']))\n",
    "                                autoSugg1Bot.append(len(dialogs[i]['context']['suggestions'][0]))\n",
    "                    \n",
    "                    \n",
    "                except Exception as e: print(e)\n",
    "\n"
   ]
  },
  {
   "cell_type": "markdown",
   "metadata": {},
   "source": [
    "### Suggestions Only"
   ]
  },
  {
   "cell_type": "code",
   "execution_count": 25,
   "metadata": {},
   "outputs": [
    {
     "name": "stdout",
     "output_type": "stream",
     "text": [
      "Finished conversations with 1 suggestion(s): 73.3385214007782\n"
     ]
    }
   ],
   "source": [
    "print(\"Finished conversations with 1 suggestion(s): \" + str(statistics.mean(sugg1)))\n"
   ]
  },
  {
   "cell_type": "markdown",
   "metadata": {},
   "source": [
    "### Autofilled Suggestion"
   ]
  },
  {
   "cell_type": "code",
   "execution_count": 26,
   "metadata": {},
   "outputs": [
    {
     "name": "stdout",
     "output_type": "stream",
     "text": [
      "Finished conversations with 1 suggestion(s): 77.27876823338735\n"
     ]
    }
   ],
   "source": [
    "print(\"Finished conversations with 1 suggestion(s): \" + str(statistics.mean(autoSugg1)))\n"
   ]
  },
  {
   "cell_type": "code",
   "execution_count": 27,
   "metadata": {},
   "outputs": [
    {
     "name": "stdout",
     "output_type": "stream",
     "text": [
      "H Bot 0.000000006172166815353841\n",
      "H sugg1 0.0000005195811868202228\n",
      "H autoSugg1 0.00000000002676623129355851\n",
      "Bot sugg1 0.9344292647971097\n",
      "Bot autoSugg1 0.012745757329453383\n",
      "sugg1 autoSugg1 0.06006438892813652\n"
     ]
    }
   ],
   "source": [
    "settings = {\n",
    "    'H': Set1,\n",
    "    'Bot': bot5,\n",
    "    'sugg1': sugg1,\n",
    "    'autoSugg1': autoSugg1,\n",
    "}\n",
    "\n",
    "for list1, list2 in combinations(settings.keys(), 2):\n",
    "    t, p = ttest_ind(settings[list1], settings[list2], equal_var = False)\n",
    "    print (list1, list2, float_to_str(p))"
   ]
  },
  {
   "cell_type": "code",
   "execution_count": 28,
   "metadata": {},
   "outputs": [
    {
     "data": {
      "application/vnd.plotly.v1+json": {
       "config": {
        "plotlyServerURL": "https://plot.ly"
       },
       "data": [
        {
         "error_y": {
          "array": [
           1.9383530380196483
          ],
          "type": "data"
         },
         "insidetextanchor": "middle",
         "marker": {
          "color": "#B0C4DE",
          "line": {
           "color": "rgb(8,48,107)",
           "width": 1.5
          }
         },
         "name": "Human Only",
         "opacity": 0.8,
         "text": [
          "60.9"
         ],
         "textposition": "inside",
         "type": "bar",
         "x": [
          ""
         ],
         "y": [
          60.9
         ]
        },
        {
         "error_y": {
          "array": [
           0.7511835807662297
          ],
          "type": "data"
         },
         "insidetextanchor": "middle",
         "marker": {
          "color": "#A9A9A9",
          "line": {
           "color": "rgb(8,48,107)",
           "width": 1.5
          }
         },
         "name": "Chatbot Only",
         "opacity": 0.8,
         "text": [
          "73.2"
         ],
         "textposition": "inside",
         "type": "bar",
         "x": [
          ""
         ],
         "y": [
          73.2
         ]
        },
        {
         "error_y": {
          "array": [
           1.506966137034313
          ],
          "type": "data"
         },
         "insidetextanchor": "middle",
         "marker": {
          "color": "lightsalmon",
          "line": {
           "color": "rgb(8,48,107)",
           "width": 1.5
          }
         },
         "name": "C1",
         "opacity": 0.8,
         "text": [
          "73.34"
         ],
         "textposition": "inside",
         "type": "bar",
         "x": [
          "1 Suggestion"
         ],
         "y": [
          73.34
         ]
        },
        {
         "error_y": {
          "array": [
           1.0332855513626493
          ],
          "type": "data"
         },
         "insidetextanchor": "middle",
         "marker": {
          "color": "#ffdacc",
          "line": {
           "color": "rgb(8,48,107)",
           "width": 1.5
          }
         },
         "name": "C1 - Chatbot Only",
         "opacity": 0.8,
         "text": [
          "72.28"
         ],
         "textposition": "inside",
         "type": "bar",
         "x": [
          "1 Suggestion"
         ],
         "y": [
          72.28
         ]
        },
        {
         "error_y": {
          "array": [
           1.4503255340940466
          ],
          "type": "data"
         },
         "insidetextanchor": "middle",
         "marker": {
          "color": "#AFEEEE",
          "line": {
           "color": "rgb(8,48,107)",
           "width": 1.5
          }
         },
         "name": "C2",
         "opacity": 0.8,
         "text": [
          "77.28"
         ],
         "textposition": "inside",
         "type": "bar",
         "x": [
          "1 Suggestion"
         ],
         "y": [
          77.28
         ]
        },
        {
         "error_y": {
          "array": [
           1.073778040038501
          ],
          "type": "data"
         },
         "insidetextanchor": "middle",
         "marker": {
          "color": "#eafbfb",
          "line": {
           "color": "rgb(8,48,107)",
           "width": 1.5
          }
         },
         "name": "C2 - Chatbot Only",
         "opacity": 0.8,
         "text": [
          "73.96"
         ],
         "textposition": "inside",
         "type": "bar",
         "x": [
          "1 Suggestion"
         ],
         "y": [
          73.96
         ]
        }
       ],
       "layout": {
        "font": {
         "size": 13
        },
        "legend": {
         "orientation": "h"
        },
        "template": {
         "data": {
          "bar": [
           {
            "error_x": {
             "color": "#2a3f5f"
            },
            "error_y": {
             "color": "#2a3f5f"
            },
            "marker": {
             "line": {
              "color": "#E5ECF6",
              "width": 0.5
             }
            },
            "type": "bar"
           }
          ],
          "barpolar": [
           {
            "marker": {
             "line": {
              "color": "#E5ECF6",
              "width": 0.5
             }
            },
            "type": "barpolar"
           }
          ],
          "carpet": [
           {
            "aaxis": {
             "endlinecolor": "#2a3f5f",
             "gridcolor": "white",
             "linecolor": "white",
             "minorgridcolor": "white",
             "startlinecolor": "#2a3f5f"
            },
            "baxis": {
             "endlinecolor": "#2a3f5f",
             "gridcolor": "white",
             "linecolor": "white",
             "minorgridcolor": "white",
             "startlinecolor": "#2a3f5f"
            },
            "type": "carpet"
           }
          ],
          "choropleth": [
           {
            "colorbar": {
             "outlinewidth": 0,
             "ticks": ""
            },
            "type": "choropleth"
           }
          ],
          "contour": [
           {
            "colorbar": {
             "outlinewidth": 0,
             "ticks": ""
            },
            "colorscale": [
             [
              0,
              "#0d0887"
             ],
             [
              0.1111111111111111,
              "#46039f"
             ],
             [
              0.2222222222222222,
              "#7201a8"
             ],
             [
              0.3333333333333333,
              "#9c179e"
             ],
             [
              0.4444444444444444,
              "#bd3786"
             ],
             [
              0.5555555555555556,
              "#d8576b"
             ],
             [
              0.6666666666666666,
              "#ed7953"
             ],
             [
              0.7777777777777778,
              "#fb9f3a"
             ],
             [
              0.8888888888888888,
              "#fdca26"
             ],
             [
              1,
              "#f0f921"
             ]
            ],
            "type": "contour"
           }
          ],
          "contourcarpet": [
           {
            "colorbar": {
             "outlinewidth": 0,
             "ticks": ""
            },
            "type": "contourcarpet"
           }
          ],
          "heatmap": [
           {
            "colorbar": {
             "outlinewidth": 0,
             "ticks": ""
            },
            "colorscale": [
             [
              0,
              "#0d0887"
             ],
             [
              0.1111111111111111,
              "#46039f"
             ],
             [
              0.2222222222222222,
              "#7201a8"
             ],
             [
              0.3333333333333333,
              "#9c179e"
             ],
             [
              0.4444444444444444,
              "#bd3786"
             ],
             [
              0.5555555555555556,
              "#d8576b"
             ],
             [
              0.6666666666666666,
              "#ed7953"
             ],
             [
              0.7777777777777778,
              "#fb9f3a"
             ],
             [
              0.8888888888888888,
              "#fdca26"
             ],
             [
              1,
              "#f0f921"
             ]
            ],
            "type": "heatmap"
           }
          ],
          "heatmapgl": [
           {
            "colorbar": {
             "outlinewidth": 0,
             "ticks": ""
            },
            "colorscale": [
             [
              0,
              "#0d0887"
             ],
             [
              0.1111111111111111,
              "#46039f"
             ],
             [
              0.2222222222222222,
              "#7201a8"
             ],
             [
              0.3333333333333333,
              "#9c179e"
             ],
             [
              0.4444444444444444,
              "#bd3786"
             ],
             [
              0.5555555555555556,
              "#d8576b"
             ],
             [
              0.6666666666666666,
              "#ed7953"
             ],
             [
              0.7777777777777778,
              "#fb9f3a"
             ],
             [
              0.8888888888888888,
              "#fdca26"
             ],
             [
              1,
              "#f0f921"
             ]
            ],
            "type": "heatmapgl"
           }
          ],
          "histogram": [
           {
            "marker": {
             "colorbar": {
              "outlinewidth": 0,
              "ticks": ""
             }
            },
            "type": "histogram"
           }
          ],
          "histogram2d": [
           {
            "colorbar": {
             "outlinewidth": 0,
             "ticks": ""
            },
            "colorscale": [
             [
              0,
              "#0d0887"
             ],
             [
              0.1111111111111111,
              "#46039f"
             ],
             [
              0.2222222222222222,
              "#7201a8"
             ],
             [
              0.3333333333333333,
              "#9c179e"
             ],
             [
              0.4444444444444444,
              "#bd3786"
             ],
             [
              0.5555555555555556,
              "#d8576b"
             ],
             [
              0.6666666666666666,
              "#ed7953"
             ],
             [
              0.7777777777777778,
              "#fb9f3a"
             ],
             [
              0.8888888888888888,
              "#fdca26"
             ],
             [
              1,
              "#f0f921"
             ]
            ],
            "type": "histogram2d"
           }
          ],
          "histogram2dcontour": [
           {
            "colorbar": {
             "outlinewidth": 0,
             "ticks": ""
            },
            "colorscale": [
             [
              0,
              "#0d0887"
             ],
             [
              0.1111111111111111,
              "#46039f"
             ],
             [
              0.2222222222222222,
              "#7201a8"
             ],
             [
              0.3333333333333333,
              "#9c179e"
             ],
             [
              0.4444444444444444,
              "#bd3786"
             ],
             [
              0.5555555555555556,
              "#d8576b"
             ],
             [
              0.6666666666666666,
              "#ed7953"
             ],
             [
              0.7777777777777778,
              "#fb9f3a"
             ],
             [
              0.8888888888888888,
              "#fdca26"
             ],
             [
              1,
              "#f0f921"
             ]
            ],
            "type": "histogram2dcontour"
           }
          ],
          "mesh3d": [
           {
            "colorbar": {
             "outlinewidth": 0,
             "ticks": ""
            },
            "type": "mesh3d"
           }
          ],
          "parcoords": [
           {
            "line": {
             "colorbar": {
              "outlinewidth": 0,
              "ticks": ""
             }
            },
            "type": "parcoords"
           }
          ],
          "pie": [
           {
            "automargin": true,
            "type": "pie"
           }
          ],
          "scatter": [
           {
            "marker": {
             "colorbar": {
              "outlinewidth": 0,
              "ticks": ""
             }
            },
            "type": "scatter"
           }
          ],
          "scatter3d": [
           {
            "line": {
             "colorbar": {
              "outlinewidth": 0,
              "ticks": ""
             }
            },
            "marker": {
             "colorbar": {
              "outlinewidth": 0,
              "ticks": ""
             }
            },
            "type": "scatter3d"
           }
          ],
          "scattercarpet": [
           {
            "marker": {
             "colorbar": {
              "outlinewidth": 0,
              "ticks": ""
             }
            },
            "type": "scattercarpet"
           }
          ],
          "scattergeo": [
           {
            "marker": {
             "colorbar": {
              "outlinewidth": 0,
              "ticks": ""
             }
            },
            "type": "scattergeo"
           }
          ],
          "scattergl": [
           {
            "marker": {
             "colorbar": {
              "outlinewidth": 0,
              "ticks": ""
             }
            },
            "type": "scattergl"
           }
          ],
          "scattermapbox": [
           {
            "marker": {
             "colorbar": {
              "outlinewidth": 0,
              "ticks": ""
             }
            },
            "type": "scattermapbox"
           }
          ],
          "scatterpolar": [
           {
            "marker": {
             "colorbar": {
              "outlinewidth": 0,
              "ticks": ""
             }
            },
            "type": "scatterpolar"
           }
          ],
          "scatterpolargl": [
           {
            "marker": {
             "colorbar": {
              "outlinewidth": 0,
              "ticks": ""
             }
            },
            "type": "scatterpolargl"
           }
          ],
          "scatterternary": [
           {
            "marker": {
             "colorbar": {
              "outlinewidth": 0,
              "ticks": ""
             }
            },
            "type": "scatterternary"
           }
          ],
          "surface": [
           {
            "colorbar": {
             "outlinewidth": 0,
             "ticks": ""
            },
            "colorscale": [
             [
              0,
              "#0d0887"
             ],
             [
              0.1111111111111111,
              "#46039f"
             ],
             [
              0.2222222222222222,
              "#7201a8"
             ],
             [
              0.3333333333333333,
              "#9c179e"
             ],
             [
              0.4444444444444444,
              "#bd3786"
             ],
             [
              0.5555555555555556,
              "#d8576b"
             ],
             [
              0.6666666666666666,
              "#ed7953"
             ],
             [
              0.7777777777777778,
              "#fb9f3a"
             ],
             [
              0.8888888888888888,
              "#fdca26"
             ],
             [
              1,
              "#f0f921"
             ]
            ],
            "type": "surface"
           }
          ],
          "table": [
           {
            "cells": {
             "fill": {
              "color": "#EBF0F8"
             },
             "line": {
              "color": "white"
             }
            },
            "header": {
             "fill": {
              "color": "#C8D4E3"
             },
             "line": {
              "color": "white"
             }
            },
            "type": "table"
           }
          ]
         },
         "layout": {
          "annotationdefaults": {
           "arrowcolor": "#2a3f5f",
           "arrowhead": 0,
           "arrowwidth": 1
          },
          "coloraxis": {
           "colorbar": {
            "outlinewidth": 0,
            "ticks": ""
           }
          },
          "colorscale": {
           "diverging": [
            [
             0,
             "#8e0152"
            ],
            [
             0.1,
             "#c51b7d"
            ],
            [
             0.2,
             "#de77ae"
            ],
            [
             0.3,
             "#f1b6da"
            ],
            [
             0.4,
             "#fde0ef"
            ],
            [
             0.5,
             "#f7f7f7"
            ],
            [
             0.6,
             "#e6f5d0"
            ],
            [
             0.7,
             "#b8e186"
            ],
            [
             0.8,
             "#7fbc41"
            ],
            [
             0.9,
             "#4d9221"
            ],
            [
             1,
             "#276419"
            ]
           ],
           "sequential": [
            [
             0,
             "#0d0887"
            ],
            [
             0.1111111111111111,
             "#46039f"
            ],
            [
             0.2222222222222222,
             "#7201a8"
            ],
            [
             0.3333333333333333,
             "#9c179e"
            ],
            [
             0.4444444444444444,
             "#bd3786"
            ],
            [
             0.5555555555555556,
             "#d8576b"
            ],
            [
             0.6666666666666666,
             "#ed7953"
            ],
            [
             0.7777777777777778,
             "#fb9f3a"
            ],
            [
             0.8888888888888888,
             "#fdca26"
            ],
            [
             1,
             "#f0f921"
            ]
           ],
           "sequentialminus": [
            [
             0,
             "#0d0887"
            ],
            [
             0.1111111111111111,
             "#46039f"
            ],
            [
             0.2222222222222222,
             "#7201a8"
            ],
            [
             0.3333333333333333,
             "#9c179e"
            ],
            [
             0.4444444444444444,
             "#bd3786"
            ],
            [
             0.5555555555555556,
             "#d8576b"
            ],
            [
             0.6666666666666666,
             "#ed7953"
            ],
            [
             0.7777777777777778,
             "#fb9f3a"
            ],
            [
             0.8888888888888888,
             "#fdca26"
            ],
            [
             1,
             "#f0f921"
            ]
           ]
          },
          "colorway": [
           "#636efa",
           "#EF553B",
           "#00cc96",
           "#ab63fa",
           "#FFA15A",
           "#19d3f3",
           "#FF6692",
           "#B6E880",
           "#FF97FF",
           "#FECB52"
          ],
          "font": {
           "color": "#2a3f5f"
          },
          "geo": {
           "bgcolor": "white",
           "lakecolor": "white",
           "landcolor": "#E5ECF6",
           "showlakes": true,
           "showland": true,
           "subunitcolor": "white"
          },
          "hoverlabel": {
           "align": "left"
          },
          "hovermode": "closest",
          "mapbox": {
           "style": "light"
          },
          "paper_bgcolor": "white",
          "plot_bgcolor": "#E5ECF6",
          "polar": {
           "angularaxis": {
            "gridcolor": "white",
            "linecolor": "white",
            "ticks": ""
           },
           "bgcolor": "#E5ECF6",
           "radialaxis": {
            "gridcolor": "white",
            "linecolor": "white",
            "ticks": ""
           }
          },
          "scene": {
           "xaxis": {
            "backgroundcolor": "#E5ECF6",
            "gridcolor": "white",
            "gridwidth": 2,
            "linecolor": "white",
            "showbackground": true,
            "ticks": "",
            "zerolinecolor": "white"
           },
           "yaxis": {
            "backgroundcolor": "#E5ECF6",
            "gridcolor": "white",
            "gridwidth": 2,
            "linecolor": "white",
            "showbackground": true,
            "ticks": "",
            "zerolinecolor": "white"
           },
           "zaxis": {
            "backgroundcolor": "#E5ECF6",
            "gridcolor": "white",
            "gridwidth": 2,
            "linecolor": "white",
            "showbackground": true,
            "ticks": "",
            "zerolinecolor": "white"
           }
          },
          "shapedefaults": {
           "line": {
            "color": "#2a3f5f"
           }
          },
          "ternary": {
           "aaxis": {
            "gridcolor": "white",
            "linecolor": "white",
            "ticks": ""
           },
           "baxis": {
            "gridcolor": "white",
            "linecolor": "white",
            "ticks": ""
           },
           "bgcolor": "#E5ECF6",
           "caxis": {
            "gridcolor": "white",
            "linecolor": "white",
            "ticks": ""
           }
          },
          "title": {
           "x": 0.05
          },
          "xaxis": {
           "automargin": true,
           "gridcolor": "white",
           "linecolor": "white",
           "ticks": "",
           "title": {
            "standoff": 15
           },
           "zerolinecolor": "white",
           "zerolinewidth": 2
          },
          "yaxis": {
           "automargin": true,
           "gridcolor": "white",
           "linecolor": "white",
           "ticks": "",
           "title": {
            "standoff": 15
           },
           "zerolinecolor": "white",
           "zerolinewidth": 2
          }
         }
        }
       }
      },
      "text/html": [
       "<div>\n",
       "        \n",
       "        \n",
       "            <div id=\"2a7fe11b-8bd9-441d-82df-80328992dc40\" class=\"plotly-graph-div\" style=\"height:525px; width:100%;\"></div>\n",
       "            <script type=\"text/javascript\">\n",
       "                require([\"plotly\"], function(Plotly) {\n",
       "                    window.PLOTLYENV=window.PLOTLYENV || {};\n",
       "                    \n",
       "                if (document.getElementById(\"2a7fe11b-8bd9-441d-82df-80328992dc40\")) {\n",
       "                    Plotly.newPlot(\n",
       "                        '2a7fe11b-8bd9-441d-82df-80328992dc40',\n",
       "                        [{\"error_y\": {\"array\": [1.9383530380196483], \"type\": \"data\"}, \"insidetextanchor\": \"middle\", \"marker\": {\"color\": \"#B0C4DE\", \"line\": {\"color\": \"rgb(8,48,107)\", \"width\": 1.5}}, \"name\": \"Human Only\", \"opacity\": 0.8, \"text\": [\"60.9\"], \"textposition\": \"inside\", \"type\": \"bar\", \"x\": [\"\"], \"y\": [60.9]}, {\"error_y\": {\"array\": [0.7511835807662297], \"type\": \"data\"}, \"insidetextanchor\": \"middle\", \"marker\": {\"color\": \"#A9A9A9\", \"line\": {\"color\": \"rgb(8,48,107)\", \"width\": 1.5}}, \"name\": \"Chatbot Only\", \"opacity\": 0.8, \"text\": [\"73.2\"], \"textposition\": \"inside\", \"type\": \"bar\", \"x\": [\"\"], \"y\": [73.2]}, {\"error_y\": {\"array\": [1.506966137034313], \"type\": \"data\"}, \"insidetextanchor\": \"middle\", \"marker\": {\"color\": \"lightsalmon\", \"line\": {\"color\": \"rgb(8,48,107)\", \"width\": 1.5}}, \"name\": \"C1\", \"opacity\": 0.8, \"text\": [\"73.34\"], \"textposition\": \"inside\", \"type\": \"bar\", \"x\": [\"1 Suggestion\"], \"y\": [73.34]}, {\"error_y\": {\"array\": [1.0332855513626493], \"type\": \"data\"}, \"insidetextanchor\": \"middle\", \"marker\": {\"color\": \"#ffdacc\", \"line\": {\"color\": \"rgb(8,48,107)\", \"width\": 1.5}}, \"name\": \"C1 - Chatbot Only\", \"opacity\": 0.8, \"text\": [\"72.28\"], \"textposition\": \"inside\", \"type\": \"bar\", \"x\": [\"1 Suggestion\"], \"y\": [72.28]}, {\"error_y\": {\"array\": [1.4503255340940466], \"type\": \"data\"}, \"insidetextanchor\": \"middle\", \"marker\": {\"color\": \"#AFEEEE\", \"line\": {\"color\": \"rgb(8,48,107)\", \"width\": 1.5}}, \"name\": \"C2\", \"opacity\": 0.8, \"text\": [\"77.28\"], \"textposition\": \"inside\", \"type\": \"bar\", \"x\": [\"1 Suggestion\"], \"y\": [77.28]}, {\"error_y\": {\"array\": [1.073778040038501], \"type\": \"data\"}, \"insidetextanchor\": \"middle\", \"marker\": {\"color\": \"#eafbfb\", \"line\": {\"color\": \"rgb(8,48,107)\", \"width\": 1.5}}, \"name\": \"C2 - Chatbot Only\", \"opacity\": 0.8, \"text\": [\"73.96\"], \"textposition\": \"inside\", \"type\": \"bar\", \"x\": [\"1 Suggestion\"], \"y\": [73.96]}],\n",
       "                        {\"font\": {\"size\": 13}, \"legend\": {\"orientation\": \"h\"}, \"template\": {\"data\": {\"bar\": [{\"error_x\": {\"color\": \"#2a3f5f\"}, \"error_y\": {\"color\": \"#2a3f5f\"}, \"marker\": {\"line\": {\"color\": \"#E5ECF6\", \"width\": 0.5}}, \"type\": \"bar\"}], \"barpolar\": [{\"marker\": {\"line\": {\"color\": \"#E5ECF6\", \"width\": 0.5}}, \"type\": \"barpolar\"}], \"carpet\": [{\"aaxis\": {\"endlinecolor\": \"#2a3f5f\", \"gridcolor\": \"white\", \"linecolor\": \"white\", \"minorgridcolor\": \"white\", \"startlinecolor\": \"#2a3f5f\"}, \"baxis\": {\"endlinecolor\": \"#2a3f5f\", \"gridcolor\": \"white\", \"linecolor\": \"white\", \"minorgridcolor\": \"white\", \"startlinecolor\": \"#2a3f5f\"}, \"type\": \"carpet\"}], \"choropleth\": [{\"colorbar\": {\"outlinewidth\": 0, \"ticks\": \"\"}, \"type\": \"choropleth\"}], \"contour\": [{\"colorbar\": {\"outlinewidth\": 0, \"ticks\": \"\"}, \"colorscale\": [[0.0, \"#0d0887\"], [0.1111111111111111, \"#46039f\"], [0.2222222222222222, \"#7201a8\"], [0.3333333333333333, \"#9c179e\"], [0.4444444444444444, \"#bd3786\"], [0.5555555555555556, \"#d8576b\"], [0.6666666666666666, \"#ed7953\"], [0.7777777777777778, \"#fb9f3a\"], [0.8888888888888888, \"#fdca26\"], [1.0, \"#f0f921\"]], \"type\": \"contour\"}], \"contourcarpet\": [{\"colorbar\": {\"outlinewidth\": 0, \"ticks\": \"\"}, \"type\": \"contourcarpet\"}], \"heatmap\": [{\"colorbar\": {\"outlinewidth\": 0, \"ticks\": \"\"}, \"colorscale\": [[0.0, \"#0d0887\"], [0.1111111111111111, \"#46039f\"], [0.2222222222222222, \"#7201a8\"], [0.3333333333333333, \"#9c179e\"], [0.4444444444444444, \"#bd3786\"], [0.5555555555555556, \"#d8576b\"], [0.6666666666666666, \"#ed7953\"], [0.7777777777777778, \"#fb9f3a\"], [0.8888888888888888, \"#fdca26\"], [1.0, \"#f0f921\"]], \"type\": \"heatmap\"}], \"heatmapgl\": [{\"colorbar\": {\"outlinewidth\": 0, \"ticks\": \"\"}, \"colorscale\": [[0.0, \"#0d0887\"], [0.1111111111111111, \"#46039f\"], [0.2222222222222222, \"#7201a8\"], [0.3333333333333333, \"#9c179e\"], [0.4444444444444444, \"#bd3786\"], [0.5555555555555556, \"#d8576b\"], [0.6666666666666666, \"#ed7953\"], [0.7777777777777778, \"#fb9f3a\"], [0.8888888888888888, \"#fdca26\"], [1.0, \"#f0f921\"]], \"type\": \"heatmapgl\"}], \"histogram\": [{\"marker\": {\"colorbar\": {\"outlinewidth\": 0, \"ticks\": \"\"}}, \"type\": \"histogram\"}], \"histogram2d\": [{\"colorbar\": {\"outlinewidth\": 0, \"ticks\": \"\"}, \"colorscale\": [[0.0, \"#0d0887\"], [0.1111111111111111, \"#46039f\"], [0.2222222222222222, \"#7201a8\"], [0.3333333333333333, \"#9c179e\"], [0.4444444444444444, \"#bd3786\"], [0.5555555555555556, \"#d8576b\"], [0.6666666666666666, \"#ed7953\"], [0.7777777777777778, \"#fb9f3a\"], [0.8888888888888888, \"#fdca26\"], [1.0, \"#f0f921\"]], \"type\": \"histogram2d\"}], \"histogram2dcontour\": [{\"colorbar\": {\"outlinewidth\": 0, \"ticks\": \"\"}, \"colorscale\": [[0.0, \"#0d0887\"], [0.1111111111111111, \"#46039f\"], [0.2222222222222222, \"#7201a8\"], [0.3333333333333333, \"#9c179e\"], [0.4444444444444444, \"#bd3786\"], [0.5555555555555556, \"#d8576b\"], [0.6666666666666666, \"#ed7953\"], [0.7777777777777778, \"#fb9f3a\"], [0.8888888888888888, \"#fdca26\"], [1.0, \"#f0f921\"]], \"type\": \"histogram2dcontour\"}], \"mesh3d\": [{\"colorbar\": {\"outlinewidth\": 0, \"ticks\": \"\"}, \"type\": \"mesh3d\"}], \"parcoords\": [{\"line\": {\"colorbar\": {\"outlinewidth\": 0, \"ticks\": \"\"}}, \"type\": \"parcoords\"}], \"pie\": [{\"automargin\": true, \"type\": \"pie\"}], \"scatter\": [{\"marker\": {\"colorbar\": {\"outlinewidth\": 0, \"ticks\": \"\"}}, \"type\": \"scatter\"}], \"scatter3d\": [{\"line\": {\"colorbar\": {\"outlinewidth\": 0, \"ticks\": \"\"}}, \"marker\": {\"colorbar\": {\"outlinewidth\": 0, \"ticks\": \"\"}}, \"type\": \"scatter3d\"}], \"scattercarpet\": [{\"marker\": {\"colorbar\": {\"outlinewidth\": 0, \"ticks\": \"\"}}, \"type\": \"scattercarpet\"}], \"scattergeo\": [{\"marker\": {\"colorbar\": {\"outlinewidth\": 0, \"ticks\": \"\"}}, \"type\": \"scattergeo\"}], \"scattergl\": [{\"marker\": {\"colorbar\": {\"outlinewidth\": 0, \"ticks\": \"\"}}, \"type\": \"scattergl\"}], \"scattermapbox\": [{\"marker\": {\"colorbar\": {\"outlinewidth\": 0, \"ticks\": \"\"}}, \"type\": \"scattermapbox\"}], \"scatterpolar\": [{\"marker\": {\"colorbar\": {\"outlinewidth\": 0, \"ticks\": \"\"}}, \"type\": \"scatterpolar\"}], \"scatterpolargl\": [{\"marker\": {\"colorbar\": {\"outlinewidth\": 0, \"ticks\": \"\"}}, \"type\": \"scatterpolargl\"}], \"scatterternary\": [{\"marker\": {\"colorbar\": {\"outlinewidth\": 0, \"ticks\": \"\"}}, \"type\": \"scatterternary\"}], \"surface\": [{\"colorbar\": {\"outlinewidth\": 0, \"ticks\": \"\"}, \"colorscale\": [[0.0, \"#0d0887\"], [0.1111111111111111, \"#46039f\"], [0.2222222222222222, \"#7201a8\"], [0.3333333333333333, \"#9c179e\"], [0.4444444444444444, \"#bd3786\"], [0.5555555555555556, \"#d8576b\"], [0.6666666666666666, \"#ed7953\"], [0.7777777777777778, \"#fb9f3a\"], [0.8888888888888888, \"#fdca26\"], [1.0, \"#f0f921\"]], \"type\": \"surface\"}], \"table\": [{\"cells\": {\"fill\": {\"color\": \"#EBF0F8\"}, \"line\": {\"color\": \"white\"}}, \"header\": {\"fill\": {\"color\": \"#C8D4E3\"}, \"line\": {\"color\": \"white\"}}, \"type\": \"table\"}]}, \"layout\": {\"annotationdefaults\": {\"arrowcolor\": \"#2a3f5f\", \"arrowhead\": 0, \"arrowwidth\": 1}, \"coloraxis\": {\"colorbar\": {\"outlinewidth\": 0, \"ticks\": \"\"}}, \"colorscale\": {\"diverging\": [[0, \"#8e0152\"], [0.1, \"#c51b7d\"], [0.2, \"#de77ae\"], [0.3, \"#f1b6da\"], [0.4, \"#fde0ef\"], [0.5, \"#f7f7f7\"], [0.6, \"#e6f5d0\"], [0.7, \"#b8e186\"], [0.8, \"#7fbc41\"], [0.9, \"#4d9221\"], [1, \"#276419\"]], \"sequential\": [[0.0, \"#0d0887\"], [0.1111111111111111, \"#46039f\"], [0.2222222222222222, \"#7201a8\"], [0.3333333333333333, \"#9c179e\"], [0.4444444444444444, \"#bd3786\"], [0.5555555555555556, \"#d8576b\"], [0.6666666666666666, \"#ed7953\"], [0.7777777777777778, \"#fb9f3a\"], [0.8888888888888888, \"#fdca26\"], [1.0, \"#f0f921\"]], \"sequentialminus\": [[0.0, \"#0d0887\"], [0.1111111111111111, \"#46039f\"], [0.2222222222222222, \"#7201a8\"], [0.3333333333333333, \"#9c179e\"], [0.4444444444444444, \"#bd3786\"], [0.5555555555555556, \"#d8576b\"], [0.6666666666666666, \"#ed7953\"], [0.7777777777777778, \"#fb9f3a\"], [0.8888888888888888, \"#fdca26\"], [1.0, \"#f0f921\"]]}, \"colorway\": [\"#636efa\", \"#EF553B\", \"#00cc96\", \"#ab63fa\", \"#FFA15A\", \"#19d3f3\", \"#FF6692\", \"#B6E880\", \"#FF97FF\", \"#FECB52\"], \"font\": {\"color\": \"#2a3f5f\"}, \"geo\": {\"bgcolor\": \"white\", \"lakecolor\": \"white\", \"landcolor\": \"#E5ECF6\", \"showlakes\": true, \"showland\": true, \"subunitcolor\": \"white\"}, \"hoverlabel\": {\"align\": \"left\"}, \"hovermode\": \"closest\", \"mapbox\": {\"style\": \"light\"}, \"paper_bgcolor\": \"white\", \"plot_bgcolor\": \"#E5ECF6\", \"polar\": {\"angularaxis\": {\"gridcolor\": \"white\", \"linecolor\": \"white\", \"ticks\": \"\"}, \"bgcolor\": \"#E5ECF6\", \"radialaxis\": {\"gridcolor\": \"white\", \"linecolor\": \"white\", \"ticks\": \"\"}}, \"scene\": {\"xaxis\": {\"backgroundcolor\": \"#E5ECF6\", \"gridcolor\": \"white\", \"gridwidth\": 2, \"linecolor\": \"white\", \"showbackground\": true, \"ticks\": \"\", \"zerolinecolor\": \"white\"}, \"yaxis\": {\"backgroundcolor\": \"#E5ECF6\", \"gridcolor\": \"white\", \"gridwidth\": 2, \"linecolor\": \"white\", \"showbackground\": true, \"ticks\": \"\", \"zerolinecolor\": \"white\"}, \"zaxis\": {\"backgroundcolor\": \"#E5ECF6\", \"gridcolor\": \"white\", \"gridwidth\": 2, \"linecolor\": \"white\", \"showbackground\": true, \"ticks\": \"\", \"zerolinecolor\": \"white\"}}, \"shapedefaults\": {\"line\": {\"color\": \"#2a3f5f\"}}, \"ternary\": {\"aaxis\": {\"gridcolor\": \"white\", \"linecolor\": \"white\", \"ticks\": \"\"}, \"baxis\": {\"gridcolor\": \"white\", \"linecolor\": \"white\", \"ticks\": \"\"}, \"bgcolor\": \"#E5ECF6\", \"caxis\": {\"gridcolor\": \"white\", \"linecolor\": \"white\", \"ticks\": \"\"}}, \"title\": {\"x\": 0.05}, \"xaxis\": {\"automargin\": true, \"gridcolor\": \"white\", \"linecolor\": \"white\", \"ticks\": \"\", \"title\": {\"standoff\": 15}, \"zerolinecolor\": \"white\", \"zerolinewidth\": 2}, \"yaxis\": {\"automargin\": true, \"gridcolor\": \"white\", \"linecolor\": \"white\", \"ticks\": \"\", \"title\": {\"standoff\": 15}, \"zerolinecolor\": \"white\", \"zerolinewidth\": 2}}}},\n",
       "                        {\"responsive\": true}\n",
       "                    ).then(function(){\n",
       "                            \n",
       "var gd = document.getElementById('2a7fe11b-8bd9-441d-82df-80328992dc40');\n",
       "var x = new MutationObserver(function (mutations, observer) {{\n",
       "        var display = window.getComputedStyle(gd).display;\n",
       "        if (!display || display === 'none') {{\n",
       "            console.log([gd, 'removed!']);\n",
       "            Plotly.purge(gd);\n",
       "            observer.disconnect();\n",
       "        }}\n",
       "}});\n",
       "\n",
       "// Listen for the removal of the full notebook cells\n",
       "var notebookContainer = gd.closest('#notebook-container');\n",
       "if (notebookContainer) {{\n",
       "    x.observe(notebookContainer, {childList: true});\n",
       "}}\n",
       "\n",
       "// Listen for the clearing of the current output cell\n",
       "var outputEl = gd.closest('.output');\n",
       "if (outputEl) {{\n",
       "    x.observe(outputEl, {childList: true});\n",
       "}}\n",
       "\n",
       "                        })\n",
       "                };\n",
       "                });\n",
       "            </script>\n",
       "        </div>"
      ]
     },
     "metadata": {},
     "output_type": "display_data"
    }
   ],
   "source": [
    "colors = ['#FAEBD7', '#FFA07A', '#B0C4DE', '#AFEEEE', '#8FBC8F']\n",
    "x = ['1 Suggestion']\n",
    "fig = go.Figure()\n",
    "\n",
    "xHuman = ['']\n",
    "yHuman = [Set1]\n",
    "yHumanErorr = [np.std(z)/math.sqrt(len(z)) for z in yHuman] \n",
    "yHuman = [round(statistics.mean(z), 2) for z in yHuman]\n",
    "\n",
    "fig.add_trace(go.Bar(\n",
    "    name='Human Only',\n",
    "    x=xHuman, y=yHuman, text=yHuman, textposition='inside',insidetextanchor='middle',\n",
    "    marker_color='#B0C4DE',\n",
    "    marker_line_color='rgb(8,48,107)', marker_line_width=1.5, opacity=0.8,\n",
    "    error_y=dict(type='data', array=yHumanErorr)\n",
    "))\n",
    "\n",
    "xBot = ['']\n",
    "yBot = [bot5]\n",
    "yBotErorr = [np.std(z)/math.sqrt(len(z)) for z in yBot] \n",
    "yBot = [round(statistics.mean(z), 2) for z in yBot]\n",
    "\n",
    "fig.add_trace(go.Bar(\n",
    "    name='Chatbot Only',\n",
    "    x=xBot, y=yBot, text=yBot, textposition='inside',insidetextanchor='middle',\n",
    "    marker_color='#A9A9A9',\n",
    "    marker_line_color='rgb(8,48,107)', marker_line_width=1.5, opacity=0.8,\n",
    "    error_y=dict(type='data', array=yBotErorr)\n",
    "))\n",
    "\n",
    "\n",
    "ySuggOnly = [sugg1]\n",
    "ySuggOnlyErorr = [np.std(z)/math.sqrt(len(z)) for z in ySuggOnly] \n",
    "ySuggOnly = [round(statistics.mean(z), 2) for z in ySuggOnly]\n",
    "\n",
    "fig.add_trace(go.Bar(\n",
    "    name='C1',\n",
    "    x=x, y=ySuggOnly, text=ySuggOnly, textposition='inside',insidetextanchor='middle',\n",
    "    marker_color='lightsalmon',\n",
    "    marker_line_color='rgb(8,48,107)', marker_line_width=1.5, opacity=0.8,\n",
    "    error_y=dict(type='data', array=ySuggOnlyErorr)\n",
    "))\n",
    "\n",
    "ySuggOnlyBot = [sugg1Bot]\n",
    "ySuggOnlyBotErorr = [np.std(z)/math.sqrt(len(z)) for z in ySuggOnlyBot] \n",
    "ySuggOnlyBot = [round(statistics.mean(z), 2) for z in ySuggOnlyBot]\n",
    "\n",
    "fig.add_trace(go.Bar(\n",
    "    name='C1 - Chatbot Only',\n",
    "    x=x, y=ySuggOnlyBot, text=ySuggOnlyBot, textposition='inside',insidetextanchor='middle',\n",
    "    marker_color='#ffdacc',\n",
    "    marker_line_color='rgb(8,48,107)', marker_line_width=1.5, opacity=0.8,\n",
    "    error_y=dict(type='data', array=ySuggOnlyBotErorr)\n",
    "))\n",
    "\n",
    "yAutoSugg = [autoSugg1]\n",
    "yAutoSuggErorr = [np.std(z)/math.sqrt(len(z)) for z in yAutoSugg] \n",
    "yAutoSugg = [round(statistics.mean(z), 2) for z in yAutoSugg]\n",
    "\n",
    "fig.add_trace(go.Bar(\n",
    "    name='C2',\n",
    "    x=x, y=yAutoSugg, text=yAutoSugg, textposition='inside',insidetextanchor='middle',\n",
    "    marker_color='#AFEEEE',\n",
    "    marker_line_color='rgb(8,48,107)', marker_line_width=1.5, opacity=0.8,\n",
    "    error_y=dict(type='data', array=yAutoSuggErorr)\n",
    "))\n",
    "\n",
    "yAutoSuggBot = [autoSugg1Bot]\n",
    "yAutoSuggBotErorr = [np.std(z)/math.sqrt(len(z)) for z in yAutoSuggBot] \n",
    "yAutoSuggBot = [round(statistics.mean(z), 2) for z in yAutoSuggBot]\n",
    "\n",
    "fig.add_trace(go.Bar(\n",
    "    name='C2 - Chatbot Only',\n",
    "    x=x, y=yAutoSuggBot, text=yAutoSuggBot, textposition='inside',insidetextanchor='middle',\n",
    "    marker_color='#eafbfb',\n",
    "    marker_line_color='rgb(8,48,107)', marker_line_width=1.5, opacity=0.8,\n",
    "    error_y=dict(type='data', array=yAutoSuggBotErorr)\n",
    "))\n",
    "\n",
    "fig.update_layout(\n",
    "    font=dict(\n",
    "        size=13\n",
    "    )\n",
    ")\n",
    "fig.update_layout(legend_orientation=\"h\")\n",
    "fig.show()\n"
   ]
  },
  {
   "cell_type": "code",
   "execution_count": null,
   "metadata": {},
   "outputs": [],
   "source": []
  },
  {
   "cell_type": "code",
   "execution_count": null,
   "metadata": {},
   "outputs": [],
   "source": []
  },
  {
   "cell_type": "code",
   "execution_count": null,
   "metadata": {},
   "outputs": [],
   "source": []
  },
  {
   "cell_type": "code",
   "execution_count": null,
   "metadata": {},
   "outputs": [],
   "source": []
  }
 ],
 "metadata": {
  "kernelspec": {
   "display_name": "Python 3",
   "language": "python",
   "name": "python3"
  },
  "language_info": {
   "codemirror_mode": {
    "name": "ipython",
    "version": 3
   },
   "file_extension": ".py",
   "mimetype": "text/x-python",
   "name": "python",
   "nbconvert_exporter": "python",
   "pygments_lexer": "ipython3",
   "version": "3.7.6"
  }
 },
 "nbformat": 4,
 "nbformat_minor": 2
}
