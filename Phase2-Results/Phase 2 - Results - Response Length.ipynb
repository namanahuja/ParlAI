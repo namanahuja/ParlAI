{
 "cells": [
  {
   "cell_type": "code",
   "execution_count": 1,
   "metadata": {},
   "outputs": [],
   "source": [
    "import os\n",
    "from pathlib import Path\n",
    "import sys\n",
    "import os\n",
    "import _pickle as pickle\n",
    "import json\n",
    "import copy \n",
    "import pandas\n",
    "import numpy as np\n",
    "import matplotlib.pyplot as plt \n",
    "from matplotlib.backends.backend_pdf import PdfPages\n",
    "import csv\n",
    "import json\n",
    "from collections import Counter\n",
    "import statistics "
   ]
  },
  {
   "cell_type": "markdown",
   "metadata": {},
   "source": [
    "# Response Length"
   ]
  },
  {
   "cell_type": "code",
   "execution_count": 5,
   "metadata": {},
   "outputs": [],
   "source": [
    "responseLen = []\n",
    "for root, dirs, files in os.walk(\"../clean\"):\n",
    "    for file in files:\n",
    "        if file.endswith(\".json\"):\n",
    "            fileName = os.path.join(root, file)\n",
    "            with open(fileName) as json_file:\n",
    "                try:\n",
    "                    data = json.load(json_file)\n",
    "                    dialogs = data['dialogs']\n",
    "                    \n",
    "                    for i in range(1, len(dialogs)):\n",
    "                        responseLen.append(len(dialogs[i]['context']['userResponse']))\n",
    "                    \n",
    "                    \n",
    "                except Exception as e: print(e)\n",
    "                "
   ]
  },
  {
   "cell_type": "code",
   "execution_count": null,
   "metadata": {},
   "outputs": [],
   "source": []
  },
  {
   "cell_type": "code",
   "execution_count": 7,
   "metadata": {},
   "outputs": [
    {
     "name": "stdout",
     "output_type": "stream",
     "text": [
      "Overall conversation response length: 104.00680402491615\n"
     ]
    }
   ],
   "source": [
    "print(\"Overall conversation response length: \" + str(statistics.mean(responseLen)))"
   ]
  },
  {
   "cell_type": "code",
   "execution_count": null,
   "metadata": {},
   "outputs": [],
   "source": []
  },
  {
   "cell_type": "code",
   "execution_count": 8,
   "metadata": {},
   "outputs": [],
   "source": [
    "Set1 = []\n",
    "Set2 = []\n",
    "Set3 = []\n",
    "Set4 = []\n",
    "Set5 = []\n",
    "\n",
    "for root, dirs, files in os.walk(\"../clean\"):\n",
    "    for file in files:\n",
    "        if file.endswith(\".json\"):\n",
    "            fileName = os.path.join(root, file)\n",
    "            with open(fileName) as json_file:\n",
    "                try:\n",
    "                    data = json.load(json_file)\n",
    "                    dialogs = data['dialogs']\n",
    "                    \n",
    "                    if(data['settingNumber'] == 1):\n",
    "                        for i in range(1, len(dialogs)):\n",
    "                            Set1.append(len(dialogs[i]['context']['userResponse']))\n",
    "                    \n",
    "                    elif(data['settingNumber'] == 2):\n",
    "                        for i in range(1, len(dialogs)):\n",
    "                            Set2.append(len(dialogs[i]['context']['userResponse']))\n",
    "                    \n",
    "                    elif(data['settingNumber'] == 3):\n",
    "                        for i in range(1, len(dialogs)):\n",
    "                            Set3.append(len(dialogs[i]['context']['userResponse']))\n",
    "                        \n",
    "                    elif(data['settingNumber'] == 4):\n",
    "                        for i in range(1, len(dialogs)):\n",
    "                            Set4.append(len(dialogs[i]['context']['userResponse']))\n",
    "                    \n",
    "                    else:\n",
    "                        for i in range(1, len(dialogs)):\n",
    "                            Set5.append(len(dialogs[i]['context']['userResponse']))\n",
    " \n",
    "                    \n",
    "                    \n",
    "                except Exception as e: print(e)"
   ]
  },
  {
   "cell_type": "code",
   "execution_count": 9,
   "metadata": {},
   "outputs": [
    {
     "name": "stdout",
     "output_type": "stream",
     "text": [
      "Setting 1 time taken: 60.9\n",
      "Setting 2 time taken: 145.23936529372045\n",
      "Setting 3 time taken: 102.88122721749696\n",
      "Setting 4 time taken: 77.99622641509434\n",
      "Setting 5 time taken: 75.48806366047745\n"
     ]
    }
   ],
   "source": [
    "print(\"Setting 1 time taken: \" + str(statistics.mean(Set1)))\n",
    "print(\"Setting 2 time taken: \" + str(statistics.mean(Set2)))\n",
    "print(\"Setting 3 time taken: \" + str(statistics.mean(Set3)))\n",
    "print(\"Setting 4 time taken: \" + str(statistics.mean(Set4)))\n",
    "print(\"Setting 5 time taken: \" + str(statistics.mean(Set5)))"
   ]
  },
  {
   "cell_type": "markdown",
   "metadata": {},
   "source": [
    "## Setting 2"
   ]
  },
  {
   "cell_type": "code",
   "execution_count": 10,
   "metadata": {},
   "outputs": [],
   "source": [
    "sugg1 = []\n",
    "sugg3 = []\n",
    "sugg5 = []\n",
    "\n",
    "autoSugg1 = []\n",
    "autoSugg3 = []\n",
    "autoSugg5 = []\n",
    "\n",
    "\n",
    "for root, dirs, files in os.walk(\"../clean/Setting 2\"):\n",
    "    for file in files:\n",
    "        if file.endswith(\".json\"):\n",
    "            fileName = os.path.join(root, file)\n",
    "            with open(fileName) as json_file:\n",
    "                try:\n",
    "                    data = json.load(json_file)\n",
    "                    dialogs = data['dialogs']\n",
    "                    \n",
    "                    if(data['autoFilledSuggestion'] == 0):\n",
    "                        \n",
    "                        if(data['suggestionsNumber'] == 1):\n",
    "                            for i in range(1, len(dialogs)):\n",
    "                                sugg1.append(len(dialogs[i]['context']['userResponse']))\n",
    "                        \n",
    "                        elif(data['suggestionsNumber'] == 3):\n",
    "                            for i in range(1, len(dialogs)):\n",
    "                                sugg3.append(len(dialogs[i]['context']['userResponse']))\n",
    "                        \n",
    "                        elif(data['suggestionsNumber'] == 5):\n",
    "                            for i in range(1, len(dialogs)):\n",
    "                                sugg5.append(len(dialogs[i]['context']['userResponse']))\n",
    "                    \n",
    "                    else:\n",
    "                        \n",
    "                        if(data['suggestionsNumber'] == 1):\n",
    "                            for i in range(1, len(dialogs)):\n",
    "                                autoSugg1.append(len(dialogs[i]['context']['userResponse']))\n",
    "                        \n",
    "                        elif(data['suggestionsNumber'] == 3):\n",
    "                            for i in range(1, len(dialogs)):\n",
    "                                autoSugg3.append(len(dialogs[i]['context']['userResponse']))\n",
    "                        \n",
    "                        elif(data['suggestionsNumber'] == 5):\n",
    "                            for i in range(1, len(dialogs)):\n",
    "                                autoSugg5.append(len(dialogs[i]['context']['userResponse']))\n",
    "                    \n",
    "                    \n",
    "                except Exception as e: print(e)"
   ]
  },
  {
   "cell_type": "markdown",
   "metadata": {},
   "source": [
    "### Suggestions Only"
   ]
  },
  {
   "cell_type": "code",
   "execution_count": 11,
   "metadata": {},
   "outputs": [
    {
     "name": "stdout",
     "output_type": "stream",
     "text": [
      "Finished conversations with 1 suggestion(s): 101.72103004291846\n",
      "Finished conversations with 3 suggestion(s): 124.61344537815125\n",
      "Finished conversations with 5 suggestion(s): 147.32920792079207\n"
     ]
    }
   ],
   "source": [
    "print(\"Finished conversations with 1 suggestion(s): \" + str(statistics.mean(sugg1)))\n",
    "print(\"Finished conversations with 3 suggestion(s): \" + str(statistics.mean(sugg3)))\n",
    "print(\"Finished conversations with 5 suggestion(s): \" + str(statistics.mean(sugg5)))"
   ]
  },
  {
   "cell_type": "markdown",
   "metadata": {},
   "source": [
    "### Autofilled Suggestion"
   ]
  },
  {
   "cell_type": "code",
   "execution_count": 12,
   "metadata": {},
   "outputs": [
    {
     "name": "stdout",
     "output_type": "stream",
     "text": [
      "Finished conversations with 1 suggestion(s): 138.6844827586207\n",
      "Finished conversations with 3 suggestion(s): 164.58267716535434\n",
      "Finished conversations with 5 suggestion(s): 189.23295454545453\n"
     ]
    }
   ],
   "source": [
    "print(\"Finished conversations with 1 suggestion(s): \" + str(statistics.mean(autoSugg1)))\n",
    "print(\"Finished conversations with 3 suggestion(s): \" + str(statistics.mean(autoSugg3)))\n",
    "print(\"Finished conversations with 5 suggestion(s): \" + str(statistics.mean(autoSugg5)))"
   ]
  },
  {
   "cell_type": "code",
   "execution_count": null,
   "metadata": {},
   "outputs": [],
   "source": []
  },
  {
   "cell_type": "code",
   "execution_count": 13,
   "metadata": {},
   "outputs": [
    {
     "data": {
      "image/png": "[encoded data removed]",
      "text/plain": [
       "<Figure size 432x288 with 1 Axes>"
      ]
     },
     "metadata": {
      "needs_background": "light"
     },
     "output_type": "display_data"
    }
   ],
   "source": [
    "labels = ['1 sugg.', '3 sugg', '5 sugg']\n",
    "suggMeans = [round(statistics.mean(sugg1), 3), round(statistics.mean(sugg3), 3), round(statistics.mean(sugg5), 3)]\n",
    "sugFilledMeans = [round(statistics.mean(autoSugg1), 3), round(statistics.mean(autoSugg3), 3), round(statistics.mean(autoSugg5), 3)]\n",
    "\n",
    "x = np.arange(len(labels))  # the label locations\n",
    "width = 0.35  # the width of the bars\n",
    "\n",
    "fig, ax = plt.subplots()\n",
    "rects1 = ax.bar(x - width/2, suggMeans, width, label='Suggestions Only')\n",
    "rects2 = ax.bar(x + width/2, sugFilledMeans, width, label='Top Suggestion Filled')\n",
    "\n",
    "\n",
    "ax.set_ylabel('Finished Conversations')\n",
    "#ax.set_title('Finished Conversations in Setting 2')\n",
    "ax.set_xticks(x)\n",
    "ax.set_xticklabels(labels)\n",
    "ax.legend(bbox_to_anchor=(0, 1), loc='lower left', ncol=2)\n",
    "\n",
    "def autolabel(rects):\n",
    "    \"\"\"Attach a text label above each bar in *rects*, displaying its height.\"\"\"\n",
    "    for rect in rects:\n",
    "        height = rect.get_height()\n",
    "        ax.annotate('{}'.format(height),\n",
    "                    xy=(rect.get_x() + rect.get_width() / 2, height),\n",
    "                    xytext=(0, 3),  # 3 points vertical offset\n",
    "                    textcoords=\"offset points\",\n",
    "                    ha='center', va='bottom')\n",
    "\n",
    "\n",
    "autolabel(rects1)\n",
    "autolabel(rects2)\n",
    "\n",
    "fig.tight_layout()\n",
    "\n",
    "plt.show()"
   ]
  },
  {
   "cell_type": "code",
   "execution_count": null,
   "metadata": {},
   "outputs": [],
   "source": []
  },
  {
   "cell_type": "markdown",
   "metadata": {},
   "source": [
    "## Setting 3"
   ]
  },
  {
   "cell_type": "code",
   "execution_count": 14,
   "metadata": {},
   "outputs": [],
   "source": [
    "sugg1 = []\n",
    "sugg3 = []\n",
    "sugg5 = []\n",
    "\n",
    "autoSugg1 = []\n",
    "autoSugg3 = []\n",
    "autoSugg5 = []\n",
    "\n",
    "\n",
    "for root, dirs, files in os.walk(\"../clean/Setting 3\"):\n",
    "    for file in files:\n",
    "        if file.endswith(\".json\"):\n",
    "            fileName = os.path.join(root, file)\n",
    "            with open(fileName) as json_file:\n",
    "                try:\n",
    "                    data = json.load(json_file)\n",
    "                    dialogs = data['dialogs']\n",
    "                    \n",
    "                    if(data['autoFilledSuggestion'] == 0):\n",
    "                        \n",
    "                        if(data['suggestionsNumber'] == 1):\n",
    "                            for i in range(1, len(dialogs)):\n",
    "                                sugg1.append(len(dialogs[i]['context']['userResponse']))\n",
    "                        \n",
    "                        elif(data['suggestionsNumber'] == 3):\n",
    "                            for i in range(1, len(dialogs)):\n",
    "                                sugg3.append(len(dialogs[i]['context']['userResponse']))\n",
    "                        \n",
    "                        elif(data['suggestionsNumber'] == 5):\n",
    "                            for i in range(1, len(dialogs)):\n",
    "                                sugg5.append(len(dialogs[i]['context']['userResponse']))\n",
    "                    \n",
    "                    else:\n",
    "                        \n",
    "                        if(data['suggestionsNumber'] == 1):\n",
    "                            for i in range(1, len(dialogs)):\n",
    "                                autoSugg1.append(len(dialogs[i]['context']['userResponse']))\n",
    "                        \n",
    "                        elif(data['suggestionsNumber'] == 3):\n",
    "                            for i in range(1, len(dialogs)):\n",
    "                                autoSugg3.append(len(dialogs[i]['context']['userResponse']))\n",
    "                        \n",
    "                        elif(data['suggestionsNumber'] == 5):\n",
    "                            for i in range(1, len(dialogs)):\n",
    "                                autoSugg5.append(len(dialogs[i]['context']['userResponse']))\n",
    "                    \n",
    "                    \n",
    "                except Exception as e: print(e)"
   ]
  },
  {
   "cell_type": "markdown",
   "metadata": {},
   "source": [
    "### Suggestions Only"
   ]
  },
  {
   "cell_type": "code",
   "execution_count": 15,
   "metadata": {},
   "outputs": [
    {
     "name": "stdout",
     "output_type": "stream",
     "text": [
      "Finished conversations with 1 suggestion(s): 86.71713147410358\n",
      "Finished conversations with 3 suggestion(s): 100.80378657487091\n",
      "Finished conversations with 5 suggestion(s): 100.1697247706422\n"
     ]
    }
   ],
   "source": [
    "print(\"Finished conversations with 1 suggestion(s): \" + str(statistics.mean(sugg1)))\n",
    "print(\"Finished conversations with 3 suggestion(s): \" + str(statistics.mean(sugg3)))\n",
    "print(\"Finished conversations with 5 suggestion(s): \" + str(statistics.mean(sugg5)))"
   ]
  },
  {
   "cell_type": "markdown",
   "metadata": {},
   "source": [
    "### Autofilled Suggestion\n"
   ]
  },
  {
   "cell_type": "code",
   "execution_count": 16,
   "metadata": {},
   "outputs": [
    {
     "name": "stdout",
     "output_type": "stream",
     "text": [
      "Finished conversations with 1 suggestion(s): 94.5054432348367\n",
      "Finished conversations with 3 suggestion(s): 113.07370517928287\n",
      "Finished conversations with 5 suggestion(s): 120.03503184713375\n"
     ]
    }
   ],
   "source": [
    "print(\"Finished conversations with 1 suggestion(s): \" + str(statistics.mean(autoSugg1)))\n",
    "print(\"Finished conversations with 3 suggestion(s): \" + str(statistics.mean(autoSugg3)))\n",
    "print(\"Finished conversations with 5 suggestion(s): \" + str(statistics.mean(autoSugg5)))"
   ]
  },
  {
   "cell_type": "code",
   "execution_count": 17,
   "metadata": {},
   "outputs": [
    {
     "data": {
      "image/png": "[encoded data removed]",
      "text/plain": [
       "<Figure size 432x288 with 1 Axes>"
      ]
     },
     "metadata": {
      "needs_background": "light"
     },
     "output_type": "display_data"
    }
   ],
   "source": [
    "labels = ['1 sugg.', '3 sugg', '5 sugg']\n",
    "suggMeans = [round(statistics.mean(sugg1), 3), round(statistics.mean(sugg3), 3), round(statistics.mean(sugg5), 3)]\n",
    "sugFilledMeans = [round(statistics.mean(autoSugg1), 3), round(statistics.mean(autoSugg3), 3), round(statistics.mean(autoSugg5), 3)]\n",
    "\n",
    "x = np.arange(len(labels))  # the label locations\n",
    "width = 0.35  # the width of the bars\n",
    "\n",
    "fig, ax = plt.subplots()\n",
    "rects1 = ax.bar(x - width/2, suggMeans, width, label='Suggestions Only')\n",
    "rects2 = ax.bar(x + width/2, sugFilledMeans, width, label='Top Suggestion Filled')\n",
    "\n",
    "\n",
    "ax.set_ylabel('Finished Conversations')\n",
    "#ax.set_title('Finished Conversations in Setting 2')\n",
    "ax.set_xticks(x)\n",
    "ax.set_xticklabels(labels)\n",
    "ax.legend(bbox_to_anchor=(0, 1), loc='lower left', ncol=2)\n",
    "\n",
    "def autolabel(rects):\n",
    "    \"\"\"Attach a text label above each bar in *rects*, displaying its height.\"\"\"\n",
    "    for rect in rects:\n",
    "        height = rect.get_height()\n",
    "        ax.annotate('{}'.format(height),\n",
    "                    xy=(rect.get_x() + rect.get_width() / 2, height),\n",
    "                    xytext=(0, 3),  # 3 points vertical offset\n",
    "                    textcoords=\"offset points\",\n",
    "                    ha='center', va='bottom')\n",
    "\n",
    "\n",
    "autolabel(rects1)\n",
    "autolabel(rects2)\n",
    "\n",
    "fig.tight_layout()\n",
    "\n",
    "plt.show()"
   ]
  },
  {
   "cell_type": "code",
   "execution_count": null,
   "metadata": {},
   "outputs": [],
   "source": []
  },
  {
   "cell_type": "markdown",
   "metadata": {},
   "source": [
    "## Setting 4"
   ]
  },
  {
   "cell_type": "code",
   "execution_count": 18,
   "metadata": {},
   "outputs": [],
   "source": [
    "sugg1 = []\n",
    "sugg3 = []\n",
    "sugg5 = []\n",
    "\n",
    "autoSugg1 = []\n",
    "autoSugg3 = []\n",
    "autoSugg5 = []\n",
    "\n",
    "\n",
    "for root, dirs, files in os.walk(\"../clean/Setting 4\"):\n",
    "    for file in files:\n",
    "        if file.endswith(\".json\"):\n",
    "            fileName = os.path.join(root, file)\n",
    "            with open(fileName) as json_file:\n",
    "                try:\n",
    "                    data = json.load(json_file)\n",
    "                    dialogs = data['dialogs']\n",
    "                    \n",
    "                    if(data['autoFilledSuggestion'] == 0):\n",
    "                        \n",
    "                        if(data['suggestionsNumber'] == 1):\n",
    "                            for i in range(1, len(dialogs)):\n",
    "                                sugg1.append(len(dialogs[i]['context']['userResponse']))\n",
    "                        \n",
    "                        elif(data['suggestionsNumber'] == 3):\n",
    "                            for i in range(1, len(dialogs)):\n",
    "                                sugg3.append(len(dialogs[i]['context']['userResponse']))\n",
    "                        \n",
    "                        elif(data['suggestionsNumber'] == 5):\n",
    "                            for i in range(1, len(dialogs)):\n",
    "                                sugg5.append(len(dialogs[i]['context']['userResponse']))\n",
    "                    \n",
    "                    else:\n",
    "                        \n",
    "                        if(data['suggestionsNumber'] == 1):\n",
    "                            for i in range(1, len(dialogs)):\n",
    "                                autoSugg1.append(len(dialogs[i]['context']['userResponse']))\n",
    "                        \n",
    "                        elif(data['suggestionsNumber'] == 3):\n",
    "                            for i in range(1, len(dialogs)):\n",
    "                                autoSugg3.append(len(dialogs[i]['context']['userResponse']))\n",
    "                        \n",
    "                        elif(data['suggestionsNumber'] == 5):\n",
    "                            for i in range(1, len(dialogs)):\n",
    "                                autoSugg5.append(len(dialogs[i]['context']['userResponse']))\n",
    "                    \n",
    "                    \n",
    "                except Exception as e: print(e)"
   ]
  },
  {
   "cell_type": "markdown",
   "metadata": {},
   "source": [
    "### Suggestions Only"
   ]
  },
  {
   "cell_type": "code",
   "execution_count": 19,
   "metadata": {},
   "outputs": [
    {
     "name": "stdout",
     "output_type": "stream",
     "text": [
      "Finished conversations with 1 suggestion(s): 66.98398169336384\n",
      "Finished conversations with 3 suggestion(s): 73.44702842377261\n",
      "Finished conversations with 5 suggestion(s): 72.45224719101124\n"
     ]
    }
   ],
   "source": [
    "print(\"Finished conversations with 1 suggestion(s): \" + str(statistics.mean(sugg1)))\n",
    "print(\"Finished conversations with 3 suggestion(s): \" + str(statistics.mean(sugg3)))\n",
    "print(\"Finished conversations with 5 suggestion(s): \" + str(statistics.mean(sugg5)))"
   ]
  },
  {
   "cell_type": "markdown",
   "metadata": {},
   "source": [
    "### Autofilled Suggestion"
   ]
  },
  {
   "cell_type": "code",
   "execution_count": 20,
   "metadata": {},
   "outputs": [
    {
     "name": "stdout",
     "output_type": "stream",
     "text": [
      "Finished conversations with 1 suggestion(s): 75.8013698630137\n",
      "Finished conversations with 3 suggestion(s): 92.89501312335958\n",
      "Finished conversations with 5 suggestion(s): 86.21782178217822\n"
     ]
    }
   ],
   "source": [
    "print(\"Finished conversations with 1 suggestion(s): \" + str(statistics.mean(autoSugg1)))\n",
    "print(\"Finished conversations with 3 suggestion(s): \" + str(statistics.mean(autoSugg3)))\n",
    "print(\"Finished conversations with 5 suggestion(s): \" + str(statistics.mean(autoSugg5)))"
   ]
  },
  {
   "cell_type": "code",
   "execution_count": 21,
   "metadata": {},
   "outputs": [
    {
     "data": {
      "image/png": "[encoded data removed]",
      "text/plain": [
       "<Figure size 432x288 with 1 Axes>"
      ]
     },
     "metadata": {
      "needs_background": "light"
     },
     "output_type": "display_data"
    }
   ],
   "source": [
    "labels = ['1 sugg.', '3 sugg', '5 sugg']\n",
    "suggMeans = [round(statistics.mean(sugg1), 3), round(statistics.mean(sugg3), 3), round(statistics.mean(sugg5), 3)]\n",
    "sugFilledMeans = [round(statistics.mean(autoSugg1), 3), round(statistics.mean(autoSugg3), 3), round(statistics.mean(autoSugg5), 3)]\n",
    "\n",
    "x = np.arange(len(labels))  # the label locations\n",
    "width = 0.35  # the width of the bars\n",
    "\n",
    "fig, ax = plt.subplots()\n",
    "rects1 = ax.bar(x - width/2, suggMeans, width, label='Suggestions Only')\n",
    "rects2 = ax.bar(x + width/2, sugFilledMeans, width, label='Top Suggestion Filled')\n",
    "\n",
    "\n",
    "ax.set_ylabel('Finished Conversations')\n",
    "#ax.set_title('Finished Conversations in Setting 2')\n",
    "ax.set_xticks(x)\n",
    "ax.set_xticklabels(labels)\n",
    "ax.legend(bbox_to_anchor=(0, 1), loc='lower left', ncol=2)\n",
    "\n",
    "def autolabel(rects):\n",
    "    \"\"\"Attach a text label above each bar in *rects*, displaying its height.\"\"\"\n",
    "    for rect in rects:\n",
    "        height = rect.get_height()\n",
    "        ax.annotate('{}'.format(height),\n",
    "                    xy=(rect.get_x() + rect.get_width() / 2, height),\n",
    "                    xytext=(0, 3),  # 3 points vertical offset\n",
    "                    textcoords=\"offset points\",\n",
    "                    ha='center', va='bottom')\n",
    "\n",
    "\n",
    "autolabel(rects1)\n",
    "autolabel(rects2)\n",
    "\n",
    "fig.tight_layout()\n",
    "\n",
    "plt.show()"
   ]
  },
  {
   "cell_type": "code",
   "execution_count": null,
   "metadata": {},
   "outputs": [],
   "source": []
  },
  {
   "cell_type": "markdown",
   "metadata": {},
   "source": [
    "## Setting 5"
   ]
  },
  {
   "cell_type": "code",
   "execution_count": 22,
   "metadata": {},
   "outputs": [],
   "source": [
    "\n",
    "sugg1 = []\n",
    "\n",
    "autoSugg1 = []\n",
    "\n",
    "\n",
    "for root, dirs, files in os.walk(\"../clean/Setting 5\"):\n",
    "    for file in files:\n",
    "        if file.endswith(\".json\"):\n",
    "            fileName = os.path.join(root, file)\n",
    "            with open(fileName) as json_file:\n",
    "                try:\n",
    "                    data = json.load(json_file)\n",
    "                    dialogs = data['dialogs']\n",
    "                    \n",
    "                    \n",
    "                    if(data['autoFilledSuggestion'] == 0):\n",
    "                        \n",
    "                        if(data['suggestionsNumber'] == 1):\n",
    "                            for i in range(1, len(dialogs)):\n",
    "                                sugg1.append(len(dialogs[i]['context']['userResponse']))\n",
    "                        \n",
    "                       \n",
    "                    else:\n",
    "                        \n",
    "                        if(data['suggestionsNumber'] == 1):\n",
    "                            for i in range(1, len(dialogs)):\n",
    "                                autoSugg1.append(len(dialogs[i]['context']['userResponse']))\n",
    "                    \n",
    "                    \n",
    "                except Exception as e: print(e)\n",
    "\n"
   ]
  },
  {
   "cell_type": "markdown",
   "metadata": {},
   "source": [
    "### Suggestions Only"
   ]
  },
  {
   "cell_type": "code",
   "execution_count": 23,
   "metadata": {},
   "outputs": [
    {
     "name": "stdout",
     "output_type": "stream",
     "text": [
      "Finished conversations with 1 suggestion(s): 73.3385214007782\n"
     ]
    }
   ],
   "source": [
    "print(\"Finished conversations with 1 suggestion(s): \" + str(statistics.mean(sugg1)))\n"
   ]
  },
  {
   "cell_type": "markdown",
   "metadata": {},
   "source": [
    "### Autofilled Suggestion"
   ]
  },
  {
   "cell_type": "code",
   "execution_count": 24,
   "metadata": {},
   "outputs": [
    {
     "name": "stdout",
     "output_type": "stream",
     "text": [
      "Finished conversations with 1 suggestion(s): 77.27876823338735\n"
     ]
    }
   ],
   "source": [
    "print(\"Finished conversations with 1 suggestion(s): \" + str(statistics.mean(autoSugg1)))\n"
   ]
  },
  {
   "cell_type": "code",
   "execution_count": 25,
   "metadata": {},
   "outputs": [
    {
     "data": {
      "image/png": "[encoded data removed]",
      "text/plain": [
       "<Figure size 432x288 with 1 Axes>"
      ]
     },
     "metadata": {
      "needs_background": "light"
     },
     "output_type": "display_data"
    }
   ],
   "source": [
    "labels = ['1 sugg.']\n",
    "suggMeans = [round(statistics.mean(sugg1), 3)]\n",
    "sugFilledMeans = [round(statistics.mean(autoSugg1), 3)]\n",
    "\n",
    "x = np.arange(len(labels))  # the label locations\n",
    "width = 0.35  # the width of the bars\n",
    "\n",
    "fig, ax = plt.subplots()\n",
    "rects1 = ax.bar(x - width/2, suggMeans, width, label='Suggestions Only')\n",
    "rects2 = ax.bar(x + width/2, sugFilledMeans, width, label='Top Suggestion Filled')\n",
    "\n",
    "\n",
    "ax.set_ylabel('Finished Conversations')\n",
    "#ax.set_title('Finished Conversations in Setting 2')\n",
    "ax.set_xticks(x)\n",
    "ax.set_xticklabels(labels)\n",
    "ax.legend(bbox_to_anchor=(0, 1), loc='lower left', ncol=2)\n",
    "\n",
    "def autolabel(rects):\n",
    "    \"\"\"Attach a text label above each bar in *rects*, displaying its height.\"\"\"\n",
    "    for rect in rects:\n",
    "        height = rect.get_height()\n",
    "        ax.annotate('{}'.format(height),\n",
    "                    xy=(rect.get_x() + rect.get_width() / 2, height),\n",
    "                    xytext=(0, 3),  # 3 points vertical offset\n",
    "                    textcoords=\"offset points\",\n",
    "                    ha='center', va='bottom')\n",
    "\n",
    "\n",
    "autolabel(rects1)\n",
    "autolabel(rects2)\n",
    "\n",
    "fig.tight_layout()\n",
    "\n",
    "plt.show()"
   ]
  },
  {
   "cell_type": "code",
   "execution_count": null,
   "metadata": {},
   "outputs": [],
   "source": []
  },
  {
   "cell_type": "code",
   "execution_count": null,
   "metadata": {},
   "outputs": [],
   "source": []
  },
  {
   "cell_type": "code",
   "execution_count": null,
   "metadata": {},
   "outputs": [],
   "source": []
  }
 ],
 "metadata": {
  "kernelspec": {
   "display_name": "Python 3",
   "language": "python",
   "name": "python3"
  },
  "language_info": {
   "codemirror_mode": {
    "name": "ipython",
    "version": 3
   },
   "file_extension": ".py",
   "mimetype": "text/x-python",
   "name": "python",
   "nbconvert_exporter": "python",
   "pygments_lexer": "ipython3",
   "version": "3.7.1"
  }
 },
 "nbformat": 4,
 "nbformat_minor": 2
}
