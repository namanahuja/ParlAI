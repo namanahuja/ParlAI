{
 "cells": [
  {
   "cell_type": "code",
   "execution_count": 49,
   "metadata": {},
   "outputs": [],
   "source": [
    "import os\n",
    "from pathlib import Path\n",
    "import sys\n",
    "import os\n",
    "import _pickle as pickle\n",
    "import json\n",
    "import copy \n",
    "import pandas\n",
    "import numpy as np\n",
    "import matplotlib.pyplot as plt \n",
    "from matplotlib.backends.backend_pdf import PdfPages\n",
    "import csv\n",
    "import json\n",
    "from collections import Counter\n",
    "import statistics "
   ]
  },
  {
   "cell_type": "markdown",
   "metadata": {},
   "source": [
    "# Finished Conversations"
   ]
  },
  {
   "cell_type": "code",
   "execution_count": 50,
   "metadata": {},
   "outputs": [],
   "source": [
    "numDialogs = []\n",
    "for root, dirs, files in os.walk(\"./clean\"):\n",
    "    for file in files:\n",
    "        if file.endswith(\".json\"):\n",
    "            fileName = os.path.join(root, file)\n",
    "            with open(fileName) as json_file:\n",
    "                try:\n",
    "                    data = json.load(json_file)\n",
    "                    numDialogs.append(len(data['dialogs']) - 1) # exclude sample task\n",
    "                    \n",
    "                    \n",
    "                except Exception as e: print(e)\n",
    "                "
   ]
  },
  {
   "cell_type": "code",
   "execution_count": 51,
   "metadata": {},
   "outputs": [
    {
     "name": "stdout",
     "output_type": "stream",
     "text": [
      "Overall finished conversations: 9.938095238095238\n"
     ]
    }
   ],
   "source": [
    "print(\"Overall finished conversations: \" + str(statistics.mean(numDialogs)))"
   ]
  },
  {
   "cell_type": "code",
   "execution_count": null,
   "metadata": {},
   "outputs": [],
   "source": []
  },
  {
   "cell_type": "code",
   "execution_count": 52,
   "metadata": {},
   "outputs": [],
   "source": [
    "numDiagSet1 = []\n",
    "numDiagSet2 = []\n",
    "numDiagSet3 = []\n",
    "numDiagSet4 = []\n",
    "numDiagSet5 = []\n",
    "\n",
    "for root, dirs, files in os.walk(\"./clean\"):\n",
    "    for file in files:\n",
    "        if file.endswith(\".json\"):\n",
    "            fileName = os.path.join(root, file)\n",
    "            with open(fileName) as json_file:\n",
    "                try:\n",
    "                    data = json.load(json_file)\n",
    "                    \n",
    "                    if(data['settingNumber'] == 1):\n",
    "                        numDiagSet1.append(len(data['dialogs']) - 1) # exclude sample task\n",
    "                    \n",
    "                    elif(data['settingNumber'] == 2):\n",
    "                        numDiagSet2.append(len(data['dialogs']) - 1) # exclude sample task\n",
    "                    \n",
    "                    elif(data['settingNumber'] == 3):\n",
    "                        numDiagSet3.append(len(data['dialogs']) - 1) # exclude sample task\n",
    "                        \n",
    "                    elif(data['settingNumber'] == 4):\n",
    "                        numDiagSet4.append(len(data['dialogs']) - 1) # exclude sample task\n",
    "                    \n",
    "                    else:\n",
    "                        numDiagSet5.append(len(data['dialogs']) - 1) # exclude sample task\n",
    " \n",
    "                    \n",
    "                    \n",
    "                except Exception as e: print(e)"
   ]
  },
  {
   "cell_type": "code",
   "execution_count": 53,
   "metadata": {},
   "outputs": [
    {
     "name": "stdout",
     "output_type": "stream",
     "text": [
      "Setting 1 finished conversations: 8\n",
      "Setting 2 finished conversations: 9.873333333333333\n",
      "Setting 3 finished conversations: 10.973333333333333\n",
      "Setting 4 finished conversations: 8.833333333333334\n",
      "Setting 5 finished conversations: 11.31\n"
     ]
    }
   ],
   "source": [
    "print(\"Setting 1 finished conversations: \" + str(statistics.mean(numDiagSet1)))\n",
    "print(\"Setting 2 finished conversations: \" + str(statistics.mean(numDiagSet2)))\n",
    "print(\"Setting 3 finished conversations: \" + str(statistics.mean(numDiagSet3)))\n",
    "print(\"Setting 4 finished conversations: \" + str(statistics.mean(numDiagSet4)))\n",
    "print(\"Setting 5 finished conversations: \" + str(statistics.mean(numDiagSet5)))"
   ]
  },
  {
   "cell_type": "markdown",
   "metadata": {},
   "source": [
    "## Setting 2"
   ]
  },
  {
   "cell_type": "code",
   "execution_count": 54,
   "metadata": {},
   "outputs": [],
   "source": [
    "sugg1 = []\n",
    "sugg3 = []\n",
    "sugg5 = []\n",
    "\n",
    "autoSugg1 = []\n",
    "autoSugg3 = []\n",
    "autoSugg5 = []\n",
    "\n",
    "\n",
    "for root, dirs, files in os.walk(\"./clean/Setting 2\"):\n",
    "    for file in files:\n",
    "        if file.endswith(\".json\"):\n",
    "            fileName = os.path.join(root, file)\n",
    "            with open(fileName) as json_file:\n",
    "                try:\n",
    "                    data = json.load(json_file)\n",
    "                    \n",
    "                    if(data['autoFilledSuggestion'] == 0):\n",
    "                        \n",
    "                        if(data['suggestionsNumber'] == 1):\n",
    "                            sugg1.append(len(data['dialogs']) - 1) # exclude sample task\n",
    "                        \n",
    "                        elif(data['suggestionsNumber'] == 3):\n",
    "                            sugg3.append(len(data['dialogs']) - 1) # exclude sample task\n",
    "                        \n",
    "                        elif(data['suggestionsNumber'] == 5):\n",
    "                            sugg5.append(len(data['dialogs']) - 1) # exclude sample task\n",
    "                    \n",
    "                    else:\n",
    "                        \n",
    "                        if(data['suggestionsNumber'] == 1):\n",
    "                            autoSugg1.append(len(data['dialogs']) - 1) # exclude sample task\n",
    "                        \n",
    "                        elif(data['suggestionsNumber'] == 3):\n",
    "                            autoSugg3.append(len(data['dialogs']) - 1) # exclude sample task\n",
    "                        \n",
    "                        elif(data['suggestionsNumber'] == 5):\n",
    "                            autoSugg5.append(len(data['dialogs']) - 1) # exclude sample task\n",
    "                    \n",
    "                    \n",
    "                except Exception as e: print(e)"
   ]
  },
  {
   "cell_type": "markdown",
   "metadata": {},
   "source": [
    "### Suggestions Only"
   ]
  },
  {
   "cell_type": "code",
   "execution_count": 55,
   "metadata": {},
   "outputs": [
    {
     "name": "stdout",
     "output_type": "stream",
     "text": [
      "Finished conversations with 1 suggestion(s): 9.32\n",
      "Finished conversations with 3 suggestion(s): 9.52\n",
      "Finished conversations with 5 suggestion(s): 8.08\n"
     ]
    }
   ],
   "source": [
    "print(\"Finished conversations with 1 suggestion(s): \" + str(statistics.mean(sugg1)))\n",
    "print(\"Finished conversations with 3 suggestion(s): \" + str(statistics.mean(sugg3)))\n",
    "print(\"Finished conversations with 5 suggestion(s): \" + str(statistics.mean(sugg5)))"
   ]
  },
  {
   "cell_type": "markdown",
   "metadata": {},
   "source": [
    "### Autofilled Suggestion"
   ]
  },
  {
   "cell_type": "code",
   "execution_count": 56,
   "metadata": {},
   "outputs": [
    {
     "name": "stdout",
     "output_type": "stream",
     "text": [
      "Finished conversations with 1 suggestion(s): 11.6\n",
      "Finished conversations with 3 suggestion(s): 10.16\n",
      "Finished conversations with 5 suggestion(s): 10.56\n"
     ]
    }
   ],
   "source": [
    "print(\"Finished conversations with 1 suggestion(s): \" + str(statistics.mean(autoSugg1)))\n",
    "print(\"Finished conversations with 3 suggestion(s): \" + str(statistics.mean(autoSugg3)))\n",
    "print(\"Finished conversations with 5 suggestion(s): \" + str(statistics.mean(autoSugg5)))"
   ]
  },
  {
   "cell_type": "code",
   "execution_count": null,
   "metadata": {},
   "outputs": [],
   "source": []
  },
  {
   "cell_type": "code",
   "execution_count": 81,
   "metadata": {},
   "outputs": [
    {
     "data": {
      "image/png": "[encoded data removed]",
      "text/plain": [
       "<Figure size 432x288 with 1 Axes>"
      ]
     },
     "metadata": {
      "needs_background": "light"
     },
     "output_type": "display_data"
    }
   ],
   "source": [
    "labels = ['1 sugg.', '3 sugg', '5 sugg']\n",
    "suggMeans = [statistics.mean(sugg1), statistics.mean(sugg3), statistics.mean(sugg5)]\n",
    "sugFilledMeans = [statistics.mean(autoSugg1), statistics.mean(autoSugg3), statistics.mean(autoSugg5)]\n",
    "\n",
    "x = np.arange(len(labels))  # the label locations\n",
    "width = 0.35  # the width of the bars\n",
    "\n",
    "fig, ax = plt.subplots()\n",
    "rects1 = ax.bar(x - width/2, suggMeans, width, label='Suggestions Only')\n",
    "rects2 = ax.bar(x + width/2, sugFilledMeans, width, label='Top Suggestion Filled')\n",
    "\n",
    "\n",
    "ax.set_ylabel('Finished Conversations')\n",
    "#ax.set_title('Finished Conversations in Setting 2')\n",
    "ax.set_xticks(x)\n",
    "ax.set_xticklabels(labels)\n",
    "ax.legend(bbox_to_anchor=(0, 1), loc='lower left', ncol=2)\n",
    "\n",
    "def autolabel(rects):\n",
    "    \"\"\"Attach a text label above each bar in *rects*, displaying its height.\"\"\"\n",
    "    for rect in rects:\n",
    "        height = rect.get_height()\n",
    "        ax.annotate('{}'.format(height),\n",
    "                    xy=(rect.get_x() + rect.get_width() / 2, height),\n",
    "                    xytext=(0, 3),  # 3 points vertical offset\n",
    "                    textcoords=\"offset points\",\n",
    "                    ha='center', va='bottom')\n",
    "\n",
    "\n",
    "autolabel(rects1)\n",
    "autolabel(rects2)\n",
    "\n",
    "fig.tight_layout()\n",
    "\n",
    "plt.show()"
   ]
  },
  {
   "cell_type": "code",
   "execution_count": null,
   "metadata": {},
   "outputs": [],
   "source": []
  },
  {
   "cell_type": "markdown",
   "metadata": {},
   "source": [
    "## Setting 3"
   ]
  },
  {
   "cell_type": "code",
   "execution_count": 83,
   "metadata": {},
   "outputs": [],
   "source": [
    "\n",
    "\n",
    "sugg1 = []\n",
    "sugg3 = []\n",
    "sugg5 = []\n",
    "\n",
    "autoSugg1 = []\n",
    "autoSugg3 = []\n",
    "autoSugg5 = []\n",
    "\n",
    "\n",
    "for root, dirs, files in os.walk(\"./clean/Setting 3\"):\n",
    "    for file in files:\n",
    "        if file.endswith(\".json\"):\n",
    "            fileName = os.path.join(root, file)\n",
    "            with open(fileName) as json_file:\n",
    "                try:\n",
    "                    data = json.load(json_file)\n",
    "                    \n",
    "                    if(data['autoFilledSuggestion'] == 0):\n",
    "                        \n",
    "                        if(data['suggestionsNumber'] == 1):\n",
    "                            sugg1.append(len(data['dialogs']) - 1) # exclude sample task\n",
    "                        \n",
    "                        elif(data['suggestionsNumber'] == 3):\n",
    "                            sugg3.append(len(data['dialogs']) - 1) # exclude sample task\n",
    "                        \n",
    "                        elif(data['suggestionsNumber'] == 5):\n",
    "                            sugg5.append(len(data['dialogs']) - 1) # exclude sample task\n",
    "                    \n",
    "                    else:\n",
    "                        \n",
    "                        if(data['suggestionsNumber'] == 1):\n",
    "                            autoSugg1.append(len(data['dialogs']) - 1) # exclude sample task\n",
    "                        \n",
    "                        elif(data['suggestionsNumber'] == 3):\n",
    "                            autoSugg3.append(len(data['dialogs']) - 1) # exclude sample task\n",
    "                        \n",
    "                        elif(data['suggestionsNumber'] == 5):\n",
    "                            autoSugg5.append(len(data['dialogs']) - 1) # exclude sample task\n",
    "                    \n",
    "                    \n",
    "                except Exception as e: print(e)\n",
    "\n"
   ]
  },
  {
   "cell_type": "markdown",
   "metadata": {},
   "source": [
    "### Suggestions Only"
   ]
  },
  {
   "cell_type": "code",
   "execution_count": 84,
   "metadata": {},
   "outputs": [
    {
     "name": "stdout",
     "output_type": "stream",
     "text": [
      "Finished conversations with 1 suggestion(s): 10.04\n",
      "Finished conversations with 3 suggestion(s): 11.62\n",
      "Finished conversations with 5 suggestion(s): 8.72\n"
     ]
    }
   ],
   "source": [
    "print(\"Finished conversations with 1 suggestion(s): \" + str(statistics.mean(sugg1)))\n",
    "print(\"Finished conversations with 3 suggestion(s): \" + str(statistics.mean(sugg3)))\n",
    "print(\"Finished conversations with 5 suggestion(s): \" + str(statistics.mean(sugg5)))"
   ]
  },
  {
   "cell_type": "markdown",
   "metadata": {},
   "source": [
    "### Autofilled Suggestion\n"
   ]
  },
  {
   "cell_type": "code",
   "execution_count": 85,
   "metadata": {},
   "outputs": [
    {
     "name": "stdout",
     "output_type": "stream",
     "text": [
      "Finished conversations with 1 suggestion(s): 12.86\n",
      "Finished conversations with 3 suggestion(s): 10.04\n",
      "Finished conversations with 5 suggestion(s): 12.56\n"
     ]
    }
   ],
   "source": [
    "print(\"Finished conversations with 1 suggestion(s): \" + str(statistics.mean(autoSugg1)))\n",
    "print(\"Finished conversations with 3 suggestion(s): \" + str(statistics.mean(autoSugg3)))\n",
    "print(\"Finished conversations with 5 suggestion(s): \" + str(statistics.mean(autoSugg5)))"
   ]
  },
  {
   "cell_type": "code",
   "execution_count": 86,
   "metadata": {},
   "outputs": [
    {
     "data": {
      "image/png": "[encoded data removed]",
      "text/plain": [
       "<Figure size 432x288 with 1 Axes>"
      ]
     },
     "metadata": {
      "needs_background": "light"
     },
     "output_type": "display_data"
    }
   ],
   "source": [
    "labels = ['1 sugg.', '3 sugg', '5 sugg']\n",
    "suggMeans = [statistics.mean(sugg1), statistics.mean(sugg3), statistics.mean(sugg5)]\n",
    "sugFilledMeans = [statistics.mean(autoSugg1), statistics.mean(autoSugg3), statistics.mean(autoSugg5)]\n",
    "\n",
    "x = np.arange(len(labels))  # the label locations\n",
    "width = 0.35  # the width of the bars\n",
    "\n",
    "fig, ax = plt.subplots()\n",
    "rects1 = ax.bar(x - width/2, suggMeans, width, label='Suggestions Only')\n",
    "rects2 = ax.bar(x + width/2, sugFilledMeans, width, label='Top Suggestion Filled')\n",
    "\n",
    "\n",
    "ax.set_ylabel('Finished Conversations')\n",
    "#ax.set_title('Finished Conversations in Setting 2')\n",
    "ax.set_xticks(x)\n",
    "ax.set_xticklabels(labels)\n",
    "ax.legend(bbox_to_anchor=(0, 1), loc='lower left', ncol=2)\n",
    "\n",
    "def autolabel(rects):\n",
    "    \"\"\"Attach a text label above each bar in *rects*, displaying its height.\"\"\"\n",
    "    for rect in rects:\n",
    "        height = rect.get_height()\n",
    "        ax.annotate('{}'.format(height),\n",
    "                    xy=(rect.get_x() + rect.get_width() / 2, height),\n",
    "                    xytext=(0, 3),  # 3 points vertical offset\n",
    "                    textcoords=\"offset points\",\n",
    "                    ha='center', va='bottom')\n",
    "\n",
    "\n",
    "autolabel(rects1)\n",
    "autolabel(rects2)\n",
    "\n",
    "fig.tight_layout()\n",
    "\n",
    "plt.show()"
   ]
  },
  {
   "cell_type": "code",
   "execution_count": null,
   "metadata": {},
   "outputs": [],
   "source": []
  },
  {
   "cell_type": "markdown",
   "metadata": {},
   "source": [
    "## Setting 4"
   ]
  },
  {
   "cell_type": "code",
   "execution_count": 87,
   "metadata": {},
   "outputs": [],
   "source": [
    "\n",
    "sugg1 = []\n",
    "sugg3 = []\n",
    "sugg5 = []\n",
    "\n",
    "autoSugg1 = []\n",
    "autoSugg3 = []\n",
    "autoSugg5 = []\n",
    "\n",
    "\n",
    "for root, dirs, files in os.walk(\"./clean/Setting 4\"):\n",
    "    for file in files:\n",
    "        if file.endswith(\".json\"):\n",
    "            fileName = os.path.join(root, file)\n",
    "            with open(fileName) as json_file:\n",
    "                try:\n",
    "                    data = json.load(json_file)\n",
    "                    \n",
    "                    if(data['autoFilledSuggestion'] == 0):\n",
    "                        \n",
    "                        if(data['suggestionsNumber'] == 1):\n",
    "                            sugg1.append(len(data['dialogs']) - 1) # exclude sample task\n",
    "                        \n",
    "                        elif(data['suggestionsNumber'] == 3):\n",
    "                            sugg3.append(len(data['dialogs']) - 1) # exclude sample task\n",
    "                        \n",
    "                        elif(data['suggestionsNumber'] == 5):\n",
    "                            sugg5.append(len(data['dialogs']) - 1) # exclude sample task\n",
    "                    \n",
    "                    else:\n",
    "                        \n",
    "                        if(data['suggestionsNumber'] == 1):\n",
    "                            autoSugg1.append(len(data['dialogs']) - 1) # exclude sample task\n",
    "                        \n",
    "                        elif(data['suggestionsNumber'] == 3):\n",
    "                            autoSugg3.append(len(data['dialogs']) - 1) # exclude sample task\n",
    "                        \n",
    "                        elif(data['suggestionsNumber'] == 5):\n",
    "                            autoSugg5.append(len(data['dialogs']) - 1) # exclude sample task\n",
    "                    \n",
    "                    \n",
    "                except Exception as e: print(e)\n",
    "\n"
   ]
  },
  {
   "cell_type": "markdown",
   "metadata": {},
   "source": [
    "### Suggestions Only"
   ]
  },
  {
   "cell_type": "code",
   "execution_count": 88,
   "metadata": {},
   "outputs": [
    {
     "name": "stdout",
     "output_type": "stream",
     "text": [
      "Finished conversations with 1 suggestion(s): 8.74\n",
      "Finished conversations with 3 suggestion(s): 7.74\n",
      "Finished conversations with 5 suggestion(s): 7.12\n"
     ]
    }
   ],
   "source": [
    "print(\"Finished conversations with 1 suggestion(s): \" + str(statistics.mean(sugg1)))\n",
    "print(\"Finished conversations with 3 suggestion(s): \" + str(statistics.mean(sugg3)))\n",
    "print(\"Finished conversations with 5 suggestion(s): \" + str(statistics.mean(sugg5)))"
   ]
  },
  {
   "cell_type": "markdown",
   "metadata": {},
   "source": [
    "### Autofilled Suggestion"
   ]
  },
  {
   "cell_type": "code",
   "execution_count": 89,
   "metadata": {},
   "outputs": [
    {
     "name": "stdout",
     "output_type": "stream",
     "text": [
      "Finished conversations with 1 suggestion(s): 11.68\n",
      "Finished conversations with 3 suggestion(s): 7.62\n",
      "Finished conversations with 5 suggestion(s): 10.1\n"
     ]
    }
   ],
   "source": [
    "print(\"Finished conversations with 1 suggestion(s): \" + str(statistics.mean(autoSugg1)))\n",
    "print(\"Finished conversations with 3 suggestion(s): \" + str(statistics.mean(autoSugg3)))\n",
    "print(\"Finished conversations with 5 suggestion(s): \" + str(statistics.mean(autoSugg5)))"
   ]
  },
  {
   "cell_type": "code",
   "execution_count": 90,
   "metadata": {},
   "outputs": [
    {
     "data": {
      "image/png": "[encoded data removed]",
      "text/plain": [
       "<Figure size 432x288 with 1 Axes>"
      ]
     },
     "metadata": {
      "needs_background": "light"
     },
     "output_type": "display_data"
    }
   ],
   "source": [
    "labels = ['1 sugg.', '3 sugg', '5 sugg']\n",
    "suggMeans = [statistics.mean(sugg1), statistics.mean(sugg3), statistics.mean(sugg5)]\n",
    "sugFilledMeans = [statistics.mean(autoSugg1), statistics.mean(autoSugg3), statistics.mean(autoSugg5)]\n",
    "\n",
    "x = np.arange(len(labels))  # the label locations\n",
    "width = 0.35  # the width of the bars\n",
    "\n",
    "fig, ax = plt.subplots()\n",
    "rects1 = ax.bar(x - width/2, suggMeans, width, label='Suggestions Only')\n",
    "rects2 = ax.bar(x + width/2, sugFilledMeans, width, label='Top Suggestion Filled')\n",
    "\n",
    "\n",
    "ax.set_ylabel('Finished Conversations')\n",
    "#ax.set_title('Finished Conversations in Setting 2')\n",
    "ax.set_xticks(x)\n",
    "ax.set_xticklabels(labels)\n",
    "ax.legend(bbox_to_anchor=(0, 1), loc='lower left', ncol=2)\n",
    "\n",
    "def autolabel(rects):\n",
    "    \"\"\"Attach a text label above each bar in *rects*, displaying its height.\"\"\"\n",
    "    for rect in rects:\n",
    "        height = rect.get_height()\n",
    "        ax.annotate('{}'.format(height),\n",
    "                    xy=(rect.get_x() + rect.get_width() / 2, height),\n",
    "                    xytext=(0, 3),  # 3 points vertical offset\n",
    "                    textcoords=\"offset points\",\n",
    "                    ha='center', va='bottom')\n",
    "\n",
    "\n",
    "autolabel(rects1)\n",
    "autolabel(rects2)\n",
    "\n",
    "fig.tight_layout()\n",
    "\n",
    "plt.show()"
   ]
  },
  {
   "cell_type": "code",
   "execution_count": null,
   "metadata": {},
   "outputs": [],
   "source": []
  },
  {
   "cell_type": "markdown",
   "metadata": {},
   "source": [
    "## Setting 5"
   ]
  },
  {
   "cell_type": "code",
   "execution_count": 96,
   "metadata": {},
   "outputs": [],
   "source": [
    "\n",
    "sugg1 = []\n",
    "\n",
    "autoSugg1 = []\n",
    "\n",
    "\n",
    "for root, dirs, files in os.walk(\"./clean/Setting 5\"):\n",
    "    for file in files:\n",
    "        if file.endswith(\".json\"):\n",
    "            fileName = os.path.join(root, file)\n",
    "            with open(fileName) as json_file:\n",
    "                try:\n",
    "                    data = json.load(json_file)\n",
    "                    \n",
    "                    if(data['autoFilledSuggestion'] == 0):\n",
    "                        \n",
    "                        if(data['suggestionsNumber'] == 1):\n",
    "                            sugg1.append(len(data['dialogs']) - 1) # exclude sample task\n",
    "                        \n",
    "                       \n",
    "                    else:\n",
    "                        \n",
    "                        if(data['suggestionsNumber'] == 1):\n",
    "                            autoSugg1.append(len(data['dialogs']) - 1) # exclude sample task\n",
    "                    \n",
    "                    \n",
    "                except Exception as e: print(e)\n",
    "\n"
   ]
  },
  {
   "cell_type": "code",
   "execution_count": 97,
   "metadata": {},
   "outputs": [],
   "source": [
    "### Suggestions Only"
   ]
  },
  {
   "cell_type": "code",
   "execution_count": 98,
   "metadata": {},
   "outputs": [
    {
     "name": "stdout",
     "output_type": "stream",
     "text": [
      "Finished conversations with 1 suggestion(s): 10.28\n"
     ]
    }
   ],
   "source": [
    "print(\"Finished conversations with 1 suggestion(s): \" + str(statistics.mean(sugg1)))\n"
   ]
  },
  {
   "cell_type": "code",
   "execution_count": 99,
   "metadata": {},
   "outputs": [],
   "source": [
    "### Autofilled Suggestion"
   ]
  },
  {
   "cell_type": "code",
   "execution_count": 100,
   "metadata": {},
   "outputs": [
    {
     "name": "stdout",
     "output_type": "stream",
     "text": [
      "Finished conversations with 1 suggestion(s): 12.34\n"
     ]
    }
   ],
   "source": [
    "print(\"Finished conversations with 1 suggestion(s): \" + str(statistics.mean(autoSugg1)))\n"
   ]
  },
  {
   "cell_type": "code",
   "execution_count": 101,
   "metadata": {},
   "outputs": [
    {
     "data": {
      "image/png": "[encoded data removed]",
      "text/plain": [
       "<Figure size 432x288 with 1 Axes>"
      ]
     },
     "metadata": {
      "needs_background": "light"
     },
     "output_type": "display_data"
    }
   ],
   "source": [
    "labels = ['1 sugg.']\n",
    "suggMeans = [statistics.mean(sugg1)]\n",
    "sugFilledMeans = [statistics.mean(autoSugg1)]\n",
    "\n",
    "x = np.arange(len(labels))  # the label locations\n",
    "width = 0.35  # the width of the bars\n",
    "\n",
    "fig, ax = plt.subplots()\n",
    "rects1 = ax.bar(x - width/2, suggMeans, width, label='Suggestions Only')\n",
    "rects2 = ax.bar(x + width/2, sugFilledMeans, width, label='Top Suggestion Filled')\n",
    "\n",
    "\n",
    "ax.set_ylabel('Finished Conversations')\n",
    "#ax.set_title('Finished Conversations in Setting 2')\n",
    "ax.set_xticks(x)\n",
    "ax.set_xticklabels(labels)\n",
    "ax.legend(bbox_to_anchor=(0, 1), loc='lower left', ncol=2)\n",
    "\n",
    "def autolabel(rects):\n",
    "    \"\"\"Attach a text label above each bar in *rects*, displaying its height.\"\"\"\n",
    "    for rect in rects:\n",
    "        height = rect.get_height()\n",
    "        ax.annotate('{}'.format(height),\n",
    "                    xy=(rect.get_x() + rect.get_width() / 2, height),\n",
    "                    xytext=(0, 3),  # 3 points vertical offset\n",
    "                    textcoords=\"offset points\",\n",
    "                    ha='center', va='bottom')\n",
    "\n",
    "\n",
    "autolabel(rects1)\n",
    "autolabel(rects2)\n",
    "\n",
    "fig.tight_layout()\n",
    "\n",
    "plt.show()"
   ]
  },
  {
   "cell_type": "code",
   "execution_count": null,
   "metadata": {},
   "outputs": [],
   "source": []
  },
  {
   "cell_type": "code",
   "execution_count": null,
   "metadata": {},
   "outputs": [],
   "source": []
  }
 ],
 "metadata": {
  "kernelspec": {
   "display_name": "Python 3",
   "language": "python",
   "name": "python3"
  },
  "language_info": {
   "codemirror_mode": {
    "name": "ipython",
    "version": 3
   },
   "file_extension": ".py",
   "mimetype": "text/x-python",
   "name": "python",
   "nbconvert_exporter": "python",
   "pygments_lexer": "ipython3",
   "version": "3.7.1"
  }
 },
 "nbformat": 4,
 "nbformat_minor": 2
}
