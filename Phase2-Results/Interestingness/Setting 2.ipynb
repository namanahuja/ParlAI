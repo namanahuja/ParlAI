{
 "cells": [
  {
   "cell_type": "code",
   "execution_count": 1,
   "metadata": {},
   "outputs": [],
   "source": [
    "import os\n",
    "from pathlib import Path\n",
    "import sys\n",
    "import os\n",
    "import _pickle as pickle\n",
    "import json\n",
    "import copy \n",
    "import pandas\n",
    "import numpy as np\n",
    "import matplotlib.pyplot as plt \n",
    "from matplotlib.backends.backend_pdf import PdfPages\n",
    "import csv\n",
    "import json\n",
    "from collections import Counter\n",
    "import statistics \n",
    "import plotly.graph_objects as go\n",
    "import math"
   ]
  },
  {
   "cell_type": "code",
   "execution_count": 2,
   "metadata": {},
   "outputs": [],
   "source": [
    "from itertools import combinations\n",
    "from scipy.stats import ttest_ind\n",
    "import decimal\n",
    "\n",
    "# create a new context for this task\n",
    "ctx = decimal.Context()\n",
    "\n",
    "# 20 digits should be enough for everyone :D\n",
    "ctx.prec = 20\n",
    "\n",
    "def float_to_str(f):\n",
    "    \"\"\"\n",
    "    Convert the given float to a string,\n",
    "    without resorting to scientific notation\n",
    "    \"\"\"\n",
    "    d1 = ctx.create_decimal(repr(f))\n",
    "    return format(d1, 'f')"
   ]
  },
  {
   "cell_type": "code",
   "execution_count": 3,
   "metadata": {},
   "outputs": [],
   "source": [
    "with open('../../responseJudgement.json') as json_file:\n",
    "    judgements = json.load(json_file)\n",
    "    \n",
    "with open('../../responseJudgement_sugg.json') as json_file:\n",
    "    suggJudgements = json.load(json_file)"
   ]
  },
  {
   "cell_type": "code",
   "execution_count": 4,
   "metadata": {},
   "outputs": [
    {
     "data": {
      "text/plain": [
       "15417"
      ]
     },
     "execution_count": 4,
     "metadata": {},
     "output_type": "execute_result"
    }
   ],
   "source": [
    "len(judgements)"
   ]
  },
  {
   "cell_type": "code",
   "execution_count": 5,
   "metadata": {},
   "outputs": [
    {
     "data": {
      "text/plain": [
       "1014"
      ]
     },
     "execution_count": 5,
     "metadata": {},
     "output_type": "execute_result"
    }
   ],
   "source": [
    "len(suggJudgements)"
   ]
  },
  {
   "cell_type": "code",
   "execution_count": 6,
   "metadata": {},
   "outputs": [],
   "source": [
    "cleanPath = '../../clean/'\n",
    "settingName = 'Setting 2'"
   ]
  },
  {
   "cell_type": "code",
   "execution_count": 7,
   "metadata": {},
   "outputs": [],
   "source": [
    "responseSet = {}\n",
    "\n",
    "for root, dirs, files in os.walk(cleanPath):\n",
    "    for file in files:\n",
    "        if file.endswith(\".json\"):\n",
    "            fileName = os.path.join(root, file)\n",
    "            with open(fileName) as json_file:\n",
    "                try:\n",
    "                    data = json.load(json_file)\n",
    "                    currFileName = data['currentFileName']\n",
    "                    dialogs = data['dialogs']\n",
    "                    \n",
    "                    for i in range(1, len(dialogs)):\n",
    "                        context = dialogs[i]['context']\n",
    "                        uniqueStr = 'fileIndex=' + str(context['fileIndex']) + '&&contextLen=' + str(context['contextLen']) + '&&userResponse=' + context['userResponse'].strip()\n",
    "                        \n",
    "                        if(uniqueStr in responseSet):\n",
    "                            continue\n",
    "                        \n",
    "                        else:\n",
    "                            \n",
    "                            foundMatches = [x for x in judgements if x['Input.contextLen'] == str(context['contextLen']) and x['Input.fileIndex'] == str(context['fileIndex'])]\n",
    "                            foundJudgement = [x for x in foundMatches if x['Input.fileName'] == currFileName and x['Input.localIndex'] == str(context['localIndex'])]\n",
    "                            \n",
    "                            if(len(foundJudgement) > 0):\n",
    "                                responseSet[uniqueStr] = foundJudgement\n",
    "                        \n",
    "                except Exception as e: print(e)"
   ]
  },
  {
   "cell_type": "code",
   "execution_count": 8,
   "metadata": {},
   "outputs": [
    {
     "data": {
      "text/plain": [
       "5139"
      ]
     },
     "execution_count": 8,
     "metadata": {},
     "output_type": "execute_result"
    }
   ],
   "source": [
    "len(responseSet)"
   ]
  },
  {
   "cell_type": "code",
   "execution_count": 9,
   "metadata": {},
   "outputs": [],
   "source": [
    "suggSet = {}\n",
    "\n",
    "for root, dirs, files in os.walk(cleanPath):\n",
    "    for file in files:\n",
    "        if file.endswith(\".json\"):\n",
    "            fileName = os.path.join(root, file)\n",
    "            with open(fileName) as json_file:\n",
    "                try:\n",
    "                    data = json.load(json_file)\n",
    "                    currFileName = data['currentFileName']\n",
    "                    dialogs = data['dialogs']\n",
    "                    \n",
    "                    for i in range(1, len(dialogs)):\n",
    "                        context = dialogs[i]['context']\n",
    "                        suggestions = context['suggestions']\n",
    "                        \n",
    "                        for sugg in suggestions:\n",
    "                            uniqueStr = 'fileIndex=' + str(context['fileIndex']) + '&&contextLen=' + str(context['contextLen']) + '&&userResponse=' + sugg.strip()\n",
    "\n",
    "                            if(uniqueStr in responseSet or uniqueStr in suggSet):\n",
    "                                continue\n",
    "\n",
    "                            else:\n",
    "\n",
    "                                foundMatches = [x for x in suggJudgements if x['Input.contextLen'] == str(context['contextLen']) and x['Input.fileIndex'] == str(context['fileIndex'])]\n",
    "                                foundJudgement = [x for x in foundMatches if x['Input.fileName'] == currFileName and x['Input.localIndex'] == str(context['localIndex'])]\n",
    "\n",
    "                                if(len(foundJudgement) > 0):\n",
    "                                    suggSet[uniqueStr] = foundJudgement\n",
    "                        \n",
    "                except Exception as e: print(e)"
   ]
  },
  {
   "cell_type": "code",
   "execution_count": 10,
   "metadata": {},
   "outputs": [
    {
     "data": {
      "text/plain": [
       "458"
      ]
     },
     "execution_count": 10,
     "metadata": {},
     "output_type": "execute_result"
    }
   ],
   "source": [
    "len(suggSet)"
   ]
  },
  {
   "cell_type": "code",
   "execution_count": 11,
   "metadata": {},
   "outputs": [],
   "source": [
    "Qualtype = 'Interestingness'\n",
    "metric = {\n",
    "    'Answer.' + Qualtype +'.Strongly Disagree': 1,\n",
    "    'Answer.' + Qualtype +'.Disagree': 2,\n",
    "    'Answer.' + Qualtype +'.Neutral': 3,\n",
    "    'Answer.' + Qualtype +'.Agree': 4,\n",
    "    'Answer.' + Qualtype +'.Strongly Agree': 5\n",
    "}"
   ]
  },
  {
   "cell_type": "code",
   "execution_count": 12,
   "metadata": {},
   "outputs": [],
   "source": [
    "scoresHuman = []\n",
    "\n",
    "for root, dirs, files in os.walk(cleanPath + 'Setting 1'):\n",
    "    for file in files:\n",
    "        if file.endswith(\".json\"):\n",
    "            fileName = os.path.join(root, file)\n",
    "            with open(fileName) as json_file:\n",
    "                try:\n",
    "                    data = json.load(json_file)\n",
    "                    dialogs = data['dialogs']\n",
    "                    \n",
    "                    for i in range(1, len(dialogs)):\n",
    "                        context = dialogs[i]['context']\n",
    "                        \n",
    "                        userResponse = context['userResponse']\n",
    "                        fileIndex = context['fileIndex']\n",
    "                        contextLen = context['contextLen']\n",
    "                        \n",
    "                        identifierStr = 'fileIndex=' + str(fileIndex) + '&&contextLen=' + str(contextLen) + '&&userResponse=' + userResponse.strip()\n",
    "                        \n",
    "                        responseJudgements =  responseSet[identifierStr]\n",
    "                        \n",
    "                        currFeedback = []\n",
    "                        for feedback in responseJudgements:\n",
    "                            for key in feedback:\n",
    "                                \n",
    "                                if('Answer.' + Qualtype in key and feedback[key] == 'true'):\n",
    "                                    currFeedback.append(metric[key])\n",
    "                        \n",
    "                        scoresHuman.append(statistics.mean(currFeedback))\n",
    "                            \n",
    "                        \n",
    "                    \n",
    "                except Exception as e: print(e)                 "
   ]
  },
  {
   "cell_type": "code",
   "execution_count": 13,
   "metadata": {},
   "outputs": [],
   "source": [
    "scoresBot = []\n",
    "\n",
    "for root, dirs, files in os.walk(cleanPath + settingName):\n",
    "    for file in files:\n",
    "        if file.endswith(\".json\"):\n",
    "            fileName = os.path.join(root, file)\n",
    "            with open(fileName) as json_file:\n",
    "                try:\n",
    "                    data = json.load(json_file)\n",
    "                    dialogs = data['dialogs']\n",
    "                    \n",
    "                    for i in range(1, len(dialogs)):\n",
    "                        context = dialogs[i]['context']\n",
    "                        \n",
    "                        userResponse = context['userResponse']\n",
    "                        fileIndex = context['fileIndex']\n",
    "                        contextLen = context['contextLen']\n",
    "                        suggestions = context['suggestions']\n",
    "                        \n",
    "                        identifierStr = 'fileIndex=' + str(fileIndex) + '&&contextLen=' + str(contextLen) + '&&userResponse=' + suggestions[0].strip()\n",
    "                        \n",
    "                        if(identifierStr in responseSet):\n",
    "                            responseJudgements =  responseSet[identifierStr]\n",
    "                        else:\n",
    "                            responseJudgements =  suggSet[identifierStr]\n",
    "                        \n",
    "                        currFeedback = []\n",
    "                        for feedback in responseJudgements:\n",
    "                            for key in feedback:\n",
    "                                \n",
    "                                if('Answer.' + Qualtype in key and feedback[key] == 'true'):\n",
    "                                    currFeedback.append(metric[key])\n",
    "                        \n",
    "                        scoresBot.append(statistics.mean(currFeedback))\n",
    "                            \n",
    "                        \n",
    "                    \n",
    "                except Exception as e: print(e)                 "
   ]
  },
  {
   "cell_type": "code",
   "execution_count": null,
   "metadata": {},
   "outputs": [],
   "source": []
  },
  {
   "cell_type": "code",
   "execution_count": 14,
   "metadata": {},
   "outputs": [],
   "source": [
    "sugg1 = []\n",
    "sugg3 = []\n",
    "sugg5 = []\n",
    "\n",
    "autoSugg1 = []\n",
    "autoSugg3 = []\n",
    "autoSugg5 = []\n",
    "\n",
    "\n",
    "for root, dirs, files in os.walk(cleanPath + settingName):\n",
    "    for file in files:\n",
    "        if file.endswith(\".json\"):\n",
    "            fileName = os.path.join(root, file)\n",
    "            with open(fileName) as json_file:\n",
    "                try:\n",
    "                    data = json.load(json_file)\n",
    "                    dialogs = data['dialogs']\n",
    "                    \n",
    "                    for i in range(1, len(dialogs)):\n",
    "                        context = dialogs[i]['context']\n",
    "                        \n",
    "                        userResponse = context['userResponse']\n",
    "                        fileIndex = context['fileIndex']\n",
    "                        contextLen = context['contextLen']\n",
    "                        \n",
    "                        identifierStr = 'fileIndex=' + str(fileIndex) + '&&contextLen=' + str(contextLen) + '&&userResponse=' + userResponse.strip()\n",
    "                        \n",
    "                        responseJudgements =  responseSet[identifierStr]\n",
    "                        \n",
    "                        currFeedback = []\n",
    "                        \n",
    "                        for feedback in responseJudgements:\n",
    "                            for key in feedback:\n",
    "                                \n",
    "                                if('Answer.' + Qualtype in key and feedback[key] == 'true'):\n",
    "                                    currFeedback.append(metric[key])\n",
    "                        \n",
    "                        \n",
    "                        if(data['autoFilledSuggestion'] == 0):\n",
    "                            \n",
    "                            if(data['suggestionsNumber'] == 1):\n",
    "                                sugg1.append(statistics.mean(currFeedback))\n",
    "\n",
    "                            elif(data['suggestionsNumber'] == 3):\n",
    "                                sugg3.append(statistics.mean(currFeedback))\n",
    "\n",
    "                            elif(data['suggestionsNumber'] == 5):\n",
    "                                sugg5.append(statistics.mean(currFeedback))\n",
    "                        \n",
    "                        else:\n",
    "\n",
    "                            if(data['suggestionsNumber'] == 1):\n",
    "                                autoSugg1.append(statistics.mean(currFeedback))\n",
    "\n",
    "                            elif(data['suggestionsNumber'] == 3):\n",
    "                                autoSugg3.append(statistics.mean(currFeedback))\n",
    "                            \n",
    "                            elif(data['suggestionsNumber'] == 5):\n",
    "                                autoSugg5.append(statistics.mean(currFeedback))\n",
    "                    \n",
    "                    \n",
    "                except Exception as e: print(e)"
   ]
  },
  {
   "cell_type": "code",
   "execution_count": 15,
   "metadata": {},
   "outputs": [
    {
     "name": "stdout",
     "output_type": "stream",
     "text": [
      "'fileIndex=18&&contextLen=3&&userResponse=Del Taco is an American fast food restaurant chain which specializes in American-style Mexican cuisine as well as American foods such as burgers, fries, and shakes.'\n",
      "'fileIndex=28&&contextLen=3&&userResponse=American literature is literature written or produced in the United States and its preceding colonies (for specific discussions of poetry and theater, see Poetry of the United States and Theater in the United States).'\n",
      "\"fileIndex=19&&contextLen=3&&userResponse=It became a worldwide hit after the release of their debut album, 'Pablo Honey' (1993).\"\n",
      "'fileIndex=6&&contextLen=3&&userResponse=Snapple is a brand of tea and juice drinks which is owned by Dr Pepper Snapple Group and based in Plano, Texas.'\n",
      "'fileIndex=19&&contextLen=3&&userResponse=The violin typically has four strings tuned in perfect fifths, and is most commonly played by drawing a bow across its strings, though it can also be played by plucking the strings with the fingers (pizzicato) and by striking the strings with the wooden side of the bow (col Leno).'\n",
      "'fileIndex=7&&contextLen=3&&userResponse=The Chevrolet Corvette, known colloquially as the Bette or Chevy Corvette, is a sports car manufactured by Chevrolet.'\n",
      "'fileIndex=12&&contextLen=3&&userResponse=Lactose intolerance is a condition in which people have symptoms due to the decreased ability to digest lactose, a sugar found in milk products.'\n",
      "'fileIndex=17&&contextLen=3&&userResponse=A Luxury yacht (also super-yacht, large yacht and mega-yacht) is a very expensive, privately owned, professionally crewed sailing or motor yacht.'\n",
      "'fileIndex=24&&contextLen=3&&userResponse=A variety of imaging techniques such as X-ray radiography, ultrasound, computed tomography (CT), nuclear medicine including positron emission tomography (PET), and magnetic resonance imaging (MRI) are used to diagnose and/or treat diseases.'\n",
      "'fileIndex=12&&contextLen=3&&userResponse=Lactose intolerance is a condition in which people have symptoms due to the decreased ability to digest lactose, a sugar found in milk products.'\n",
      "'fileIndex=25&&contextLen=3&&userResponse=Prince Rogers Nelson (June 7, 1958 – April 21, 2016) was an American singer, songwriter, record producer, multi-instrumentalist, actor, and director.'\n",
      "'fileIndex=12&&contextLen=3&&userResponse=Horse training refers to a variety of practices that teach horses to perform certain behaviors when asked to do so by humans.'\n",
      "'fileIndex=7&&contextLen=3&&userResponse=The fictional series focuses on the lives of surgical interns, residents, and attending physicians, as they develop into seasoned doctors while trying to maintain personal lives and relationships.'\n",
      "'fileIndex=28&&contextLen=3&&userResponse=American literature is literature written or produced in the United States and its preceding colonies (for specific discussions of poetry and theater, see Poetry of the United States and Theater in the United States).'\n",
      "'fileIndex=22&&contextLen=3&&userResponse=Austin () is the capital of the U. S. state of Texas and the seat of Travis County, with portions extending into Hays and Williamson counties.'\n",
      "'fileIndex=13&&contextLen=3&&userResponse=A family farm is generally understood to be a farm owned and/or operated by a family; it is sometimes considered to be an estate passed down by inheritance.'\n",
      "'fileIndex=3&&contextLen=3&&userResponse=Ballet () is a type of performance dance that originated during the Italian Renaissance in the 15th century and later developed into a concert dance form in France and Russia.'\n",
      "'fileIndex=3&&contextLen=3&&userResponse=Ballet () is a type of performance dance that originated during the Italian Renaissance in the 15th century and later developed into a concert dance form in France and Russia.'\n",
      "'fileIndex=6&&contextLen=3&&userResponse=Waiting staff are those who work at a restaurant or a bar, and sometimes in private homes, attending customers—supplying them with food and drink as requested.'\n",
      "'fileIndex=9&&contextLen=3&&userResponse=A taco is generally eaten without utensils and is often accompanied by garnishes such as salsa, chili pepper, avocado, guacamole, cilantro (coriander), tomatoes, onions, and lettuce.'\n",
      "'fileIndex=9&&contextLen=3&&userResponse=A taco is generally eaten without utensils and is often accompanied by garnishes such as salsa, chili pepper, avocado, guacamole, cilantro (coriander), tomatoes, onions, and lettuce.'\n",
      "'fileIndex=6&&contextLen=3&&userResponse=Snapple is a brand of tea and juice drinks which is owned by Dr Pepper Snapple Group and based in Plano, Texas.'\n",
      "'fileIndex=7&&contextLen=3&&userResponse=The Chevrolet Corvette, known colloquially as the Bette or Chevy Corvette, is a sports car manufactured by Chevrolet.'\n",
      "'fileIndex=22&&contextLen=3&&userResponse=Pita (or) in Greek, sometimes spelled Pitta (mainly UK), also known as Arabic bread, Lebanese bread, or Syrian bread, is a soft, slightly leavened flat bread baked from wheat flour, which originated in Western Asia, most probably Mesopotamia around 2500 BC.'\n",
      "'fileIndex=18&&contextLen=3&&userResponse=Science, Technology, Engineering and Mathematics (STEM), previously Math, Engineering, Technology, and Science (METS) is the academic discipline of science, technology, engineering and mathematics.'\n",
      "'fileIndex=0&&contextLen=3&&userResponse=Introduced in 1876 by Carl Conrad & Co. of St. Louis, Missouri, it has grown to become one of the largest selling beers in the United States, and is available in over 80 markets worldwide though, due to a trademark dispute, not necessarily under the Budweiser name.'\n",
      "\"fileIndex=15&&contextLen=3&&userResponse=Sushi originates in a Southeast Asian dish, known today as 'narezushi'(–'salted fish'), stored in fermented rice for possibly months at a time.\"\n",
      "\"fileIndex=19&&contextLen=3&&userResponse=It became a worldwide hit after the release of their debut album, 'Pablo Honey' (1993).\"\n",
      "'fileIndex=2&&contextLen=3&&userResponse=With an estimated 2016 population of 8, 537, 673 distributed over a land area of about, New York City is also the most densely populated major city in the United States.'\n",
      "'fileIndex=22&&contextLen=3&&userResponse=Pita (or) in Greek, sometimes spelled Pitta (mainly UK), also known as Arabic bread, Lebanese bread, or Syrian bread, is a soft, slightly leavened flat bread baked from wheat flour, which originated in Western Asia, most probably Mesopotamia around 2500 BC.'\n",
      "\"fileIndex=23&&contextLen=3&&userResponse=On the other hand, in the United Kingdom, and the Republic of Ireland, the word 'walking'is acceptable to describe'all forms' of walking, whether it is a walk in the park or backpacking in the Alps.\"\n",
      "'fileIndex=6&&contextLen=3&&userResponse=Snapple is a brand of tea and juice drinks which is owned by Dr Pepper Snapple Group and based in Plano, Texas.'\n",
      "'fileIndex=9&&contextLen=3&&userResponse=A taco is generally eaten without utensils and is often accompanied by garnishes such as salsa, chili pepper, avocado, guacamole, cilantro (coriander), tomatoes, onions, and lettuce.'\n",
      "'fileIndex=11&&contextLen=3&&userResponse=New York-style pizza is pizza made with a characteristically large hand-tossed thin crust, often sold in wide slices to go.'\n",
      "\"fileIndex=8&&contextLen=3&&userResponse=Santa Fe (or ; Too: 'Off Po'one', ) is the capital of the state of New Mexico.\"\n",
      "'fileIndex=0&&contextLen=3&&userResponse=Introduced in 1876 by Carl Conrad & Co. of St. Louis, Missouri, it has grown to become one of the largest selling beers in the United States, and is available in over 80 markets worldwide though, due to a trademark dispute, not necessarily under the Budweiser name.'\n",
      "'fileIndex=11&&contextLen=3&&userResponse=New York-style pizza is pizza made with a characteristically large hand-tossed thin crust, often sold in wide slices to go.'\n",
      "\"fileIndex=26&&contextLen=3&&userResponse=Gabrielle Bother 'Coco' Chanel (19 August 1883 – 10 January 1971) was a French fashion designer and businesswoman.\"\n",
      "'fileIndex=6&&contextLen=3&&userResponse=Snapple is a brand of tea and juice drinks which is owned by Dr Pepper Snapple Group and based in Plano, Texas.'\n",
      "'fileIndex=24&&contextLen=3&&userResponse=\\'\"is an animated television series produced by Hasbro as part of the\\'My Little Pony\\' toy franchise, which is tied in with the 2010 launch of dolls and play sets, and original programming for U. S. cable channel Discovery Family (formerly Hub Network).'\n",
      "'fileIndex=17&&contextLen=3&&userResponse=A Luxury yacht (also super-yacht, large yacht and mega-yacht) is a very expensive, privately owned, professionally crewed sailing or motor yacht.'\n",
      "'fileIndex=1&&contextLen=3&&userResponse=According to surveys in Europe and the U. S., purple is the color most often associated with royalty, magic, mystery and piety.'\n",
      "\"fileIndex=26&&contextLen=3&&userResponse=Gabrielle Bother 'Coco' Chanel (19 August 1883 – 10 January 1971) was a French fashion designer and businesswoman.\"\n",
      "\"fileIndex=29&&contextLen=3&&userResponse=Eileen is a player and occasional boss character from the 'Mortal Combat' series of fighting games.\"\n",
      "'fileIndex=25&&contextLen=3&&userResponse=Skateboarding is an action sport which involves riding and performing tricks using a skateboard.'\n",
      "\"fileIndex=10&&contextLen=3&&userResponse=Gone with the Wind is a 1939 American epic historical romance film, adapted from Margaret Mitchell's 1936 novel of the same name.\"\n",
      "\"fileIndex=20&&contextLen=3&&userResponse=As a result, the series became the world's most popular television program among all genres in 2006 and 2007, according to the magazine 'Television Business International', reaching the Top 10 in 17 countries.\"\n",
      "'fileIndex=13&&contextLen=3&&userResponse=A family farm is generally understood to be a farm owned and/or operated by a family; it is sometimes considered to be an estate passed down by inheritance.'\n",
      "'fileIndex=18&&contextLen=3&&userResponse=Del Taco is an American fast food restaurant chain which specializes in American-style Mexican cuisine as well as American foods such as burgers, fries, and shakes.'\n",
      "'fileIndex=21&&contextLen=3&&userResponse=Panels are often accompanied by brief descriptive prose and written narrative, usually dialog contained in word balloons emblematic of the comics art form.'\n",
      "'fileIndex=2&&contextLen=3&&userResponse=Netflix is an American entertainment company founded by Reed Hastings and Marc Randolph on August 29, 1997, in Scott Valley, California.'\n"
     ]
    },
    {
     "name": "stdout",
     "output_type": "stream",
     "text": [
      "'fileIndex=15&&contextLen=3&&userResponse=Keisha Rose Ebert (; born March 1, 1987; formerly stylized as Kenya) is an American singer, songwriter, actress and rapper.'\n",
      "'fileIndex=24&&contextLen=3&&userResponse=A variety of imaging techniques such as X-ray radiography, ultrasound, computed tomography (CT), nuclear medicine including positron emission tomography (PET), and magnetic resonance imaging (MRI) are used to diagnose and/or treat diseases.'\n",
      "'fileIndex=28&&contextLen=3&&userResponse=The story charts the emotional development of the protagonist, Elizabeth Bennett, who learns the error of making hasty judgments and comes to appreciate the difference between the superficial and the essential.'\n",
      "'fileIndex=4&&contextLen=3&&userResponse=Star Trek is an American media franchise based on the science fiction television series created by Gene Roddenberry.'\n",
      "'fileIndex=27&&contextLen=3&&userResponse=The Simpsons is an American animated sitcom created by Matt Greening for the Fox Broadcasting Company.'\n",
      "'fileIndex=7&&contextLen=3&&userResponse=The Chevrolet Corvette, known colloquially as the Bette or Chevy Corvette, is a sports car manufactured by Chevrolet.'\n",
      "\"fileIndex=14&&contextLen=3&&userResponse=McDonald's is a fast food company that was founded in 1940 as a restaurant operated by Richard and Maurice McDonald, in San Bernardo, California, United States.\"\n",
      "'fileIndex=21&&contextLen=3&&userResponse=Panels are often accompanied by brief descriptive prose and written narrative, usually dialog contained in word balloons emblematic of the comics art form.'\n",
      "'fileIndex=21&&contextLen=3&&userResponse=Divorce, also known as dissolution of marriage, is the termination of a marriage or marital union, the canceling or reorganizing of the legal duties and responsibilities of marriage, thus dissolving the bonds of matrimony between a married couple under the rule of law of the particular country or state.'\n",
      "'fileIndex=27&&contextLen=3&&userResponse=Social anxiety can be defined as nervousness in social situations.'\n",
      "'fileIndex=4&&contextLen=3&&userResponse=Star Trek is an American media franchise based on the science fiction television series created by Gene Roddenberry.'\n",
      "'fileIndex=26&&contextLen=3&&userResponse=A linebacker (LB or backer) is a playing position in American football and Canadian football.'\n",
      "\"fileIndex=29&&contextLen=3&&userResponse=Eileen is a player and occasional boss character from the 'Mortal Combat' series of fighting games.\"\n",
      "'fileIndex=22&&contextLen=3&&userResponse=Pita (or) in Greek, sometimes spelled Pitta (mainly UK), also known as Arabic bread, Lebanese bread, or Syrian bread, is a soft, slightly leavened flat bread baked from wheat flour, which originated in Western Asia, most probably Mesopotamia around 2500 BC.'\n",
      "'fileIndex=28&&contextLen=3&&userResponse=American literature is literature written or produced in the United States and its preceding colonies (for specific discussions of poetry and theater, see Poetry of the United States and Theater in the United States).'\n",
      "'fileIndex=24&&contextLen=3&&userResponse=A variety of imaging techniques such as X-ray radiography, ultrasound, computed tomography (CT), nuclear medicine including positron emission tomography (PET), and magnetic resonance imaging (MRI) are used to diagnose and/or treat diseases.'\n",
      "'fileIndex=24&&contextLen=3&&userResponse=A variety of imaging techniques such as X-ray radiography, ultrasound, computed tomography (CT), nuclear medicine including positron emission tomography (PET), and magnetic resonance imaging (MRI) are used to diagnose and/or treat diseases.'\n",
      "'fileIndex=4&&contextLen=3&&userResponse=Star Trek is an American media franchise based on the science fiction television series created by Gene Roddenberry.'\n",
      "\"fileIndex=26&&contextLen=3&&userResponse=Gabrielle Bother 'Coco' Chanel (19 August 1883 – 10 January 1971) was a French fashion designer and businesswoman.\"\n",
      "'fileIndex=4&&contextLen=3&&userResponse=Pig farming is the raising and breeding of domestic pigs as livestock, and is a branch of animal husbandry.'\n",
      "'fileIndex=12&&contextLen=3&&userResponse=Horse training refers to a variety of practices that teach horses to perform certain behaviors when asked to do so by humans.'\n",
      "'fileIndex=21&&contextLen=3&&userResponse=Divorce, also known as dissolution of marriage, is the termination of a marriage or marital union, the canceling or reorganizing of the legal duties and responsibilities of marriage, thus dissolving the bonds of matrimony between a married couple under the rule of law of the particular country or state.'\n",
      "'fileIndex=7&&contextLen=3&&userResponse=The Chevrolet Corvette, known colloquially as the Bette or Chevy Corvette, is a sports car manufactured by Chevrolet.'\n",
      "\"fileIndex=26&&contextLen=3&&userResponse=Gabrielle Bother 'Coco' Chanel (19 August 1883 – 10 January 1971) was a French fashion designer and businesswoman.\"\n",
      "\"fileIndex=19&&contextLen=3&&userResponse=It became a worldwide hit after the release of their debut album, 'Pablo Honey' (1993).\"\n",
      "\"fileIndex=20&&contextLen=3&&userResponse=As a result, the series became the world's most popular television program among all genres in 2006 and 2007, according to the magazine 'Television Business International', reaching the Top 10 in 17 countries.\"\n",
      "'fileIndex=9&&contextLen=3&&userResponse=Portland is the most populous city in the U. S. state of Maine, with a population of 67, 067 as of 2017.'\n",
      "'fileIndex=14&&contextLen=3&&userResponse=Radiology is the science that uses medical imaging to diagnose and sometimes also treat diseases within the body.'\n",
      "'fileIndex=27&&contextLen=3&&userResponse=Social anxiety can be defined as nervousness in social situations.'\n",
      "\"fileIndex=5&&contextLen=3&&userResponse=Baker's shop or bake shop) is an establishment that produces and sells flour-based food baked in an oven such as bread, cookies, cakes, pastries, and pies.\"\n",
      "'fileIndex=5&&contextLen=3&&userResponse=Vitamin C, also known as acerbic acid and -ascorbic acid, is a vitamin found in food and used as a dietary supplement.'\n",
      "'fileIndex=2&&contextLen=3&&userResponse=Netflix is an American entertainment company founded by Reed Hastings and Marc Randolph on August 29, 1997, in Scott Valley, California.'\n",
      "'fileIndex=26&&contextLen=3&&userResponse=A linebacker (LB or backer) is a playing position in American football and Canadian football.'\n",
      "'fileIndex=27&&contextLen=3&&userResponse=The Simpsons is an American animated sitcom created by Matt Greening for the Fox Broadcasting Company.'\n",
      "'fileIndex=25&&contextLen=3&&userResponse=Skateboarding is an action sport which involves riding and performing tricks using a skateboard.'\n",
      "'fileIndex=12&&contextLen=3&&userResponse=Lactose intolerance is a condition in which people have symptoms due to the decreased ability to digest lactose, a sugar found in milk products.'\n",
      "'fileIndex=27&&contextLen=3&&userResponse=The Simpsons is an American animated sitcom created by Matt Greening for the Fox Broadcasting Company.'\n",
      "'fileIndex=16&&contextLen=3&&userResponse=The University of Chicago (U of C, Chicago, or Chicago) is a private research university in Chicago, Illinois.'\n",
      "\"fileIndex=15&&contextLen=3&&userResponse=Sushi originates in a Southeast Asian dish, known today as 'narezushi'(–'salted fish'), stored in fermented rice for possibly months at a time.\"\n",
      "'fileIndex=18&&contextLen=3&&userResponse=Del Taco is an American fast food restaurant chain which specializes in American-style Mexican cuisine as well as American foods such as burgers, fries, and shakes.'\n",
      "'fileIndex=17&&contextLen=3&&userResponse=A Luxury yacht (also super-yacht, large yacht and mega-yacht) is a very expensive, privately owned, professionally crewed sailing or motor yacht.'\n",
      "'fileIndex=13&&contextLen=3&&userResponse=The Appalachian National Scenic Trail, generally known as the Appalachian Trail or simply the A. T., is a marked hiking trail in the Eastern United States extending between Sprinter Mountain in Georgia and Mount Katahdin in Maine.'\n",
      "'fileIndex=19&&contextLen=3&&userResponse=The violin typically has four strings tuned in perfect fifths, and is most commonly played by drawing a bow across its strings, though it can also be played by plucking the strings with the fingers (pizzicato) and by striking the strings with the wooden side of the bow (col Leno).'\n",
      "'fileIndex=18&&contextLen=3&&userResponse=Del Taco is an American fast food restaurant chain which specializes in American-style Mexican cuisine as well as American foods such as burgers, fries, and shakes.'\n",
      "\"fileIndex=0&&contextLen=3&&userResponse=The Coors Brewing Company is a regional division of the world's third-largest brewing company, the Olson Coors Brewing Company.\"\n",
      "'fileIndex=13&&contextLen=3&&userResponse=A family farm is generally understood to be a farm owned and/or operated by a family; it is sometimes considered to be an estate passed down by inheritance.'\n",
      "\"fileIndex=19&&contextLen=3&&userResponse=It became a worldwide hit after the release of their debut album, 'Pablo Honey' (1993).\"\n",
      "\"fileIndex=20&&contextLen=3&&userResponse=As a result, the series became the world's most popular television program among all genres in 2006 and 2007, according to the magazine 'Television Business International', reaching the Top 10 in 17 countries.\"\n",
      "'fileIndex=0&&contextLen=3&&userResponse=Introduced in 1876 by Carl Conrad & Co. of St. Louis, Missouri, it has grown to become one of the largest selling beers in the United States, and is available in over 80 markets worldwide though, due to a trademark dispute, not necessarily under the Budweiser name.'\n",
      "'fileIndex=14&&contextLen=3&&userResponse=Radiology is the science that uses medical imaging to diagnose and sometimes also treat diseases within the body.'\n",
      "'fileIndex=1&&contextLen=3&&userResponse=Narcissus is a genus of predominantly spring perennial plants in the Amaryllidaceae (amaryllis) family.'\n",
      "'fileIndex=16&&contextLen=3&&userResponse=The University of Chicago (U of C, Chicago, or Chicago) is a private research university in Chicago, Illinois.'\n",
      "'fileIndex=5&&contextLen=3&&userResponse=Vitamin C, also known as acerbic acid and -ascorbic acid, is a vitamin found in food and used as a dietary supplement.'\n",
      "'fileIndex=29&&contextLen=3&&userResponse=The car has been produced through seven generations.'\n",
      "'fileIndex=4&&contextLen=3&&userResponse=Star Trek is an American media franchise based on the science fiction television series created by Gene Roddenberry.'\n",
      "\"fileIndex=5&&contextLen=3&&userResponse=Baker's shop or bake shop) is an establishment that produces and sells flour-based food baked in an oven such as bread, cookies, cakes, pastries, and pies.\"\n",
      "\"fileIndex=10&&contextLen=3&&userResponse=Gone with the Wind is a 1939 American epic historical romance film, adapted from Margaret Mitchell's 1936 novel of the same name.\"\n",
      "'fileIndex=16&&contextLen=3&&userResponse=The University of Chicago (U of C, Chicago, or Chicago) is a private research university in Chicago, Illinois.'\n",
      "\"fileIndex=20&&contextLen=3&&userResponse=As a result, the series became the world's most popular television program among all genres in 2006 and 2007, according to the magazine 'Television Business International', reaching the Top 10 in 17 countries.\"\n",
      "'fileIndex=27&&contextLen=3&&userResponse=Social anxiety can be defined as nervousness in social situations.'\n",
      "'fileIndex=23&&contextLen=3&&userResponse=The Last of the Mahicans is a 1992 American epic historical drama, set in 1757 during the French and Indian War.'\n",
      "'fileIndex=7&&contextLen=3&&userResponse=The Chevrolet Corvette, known colloquially as the Bette or Chevy Corvette, is a sports car manufactured by Chevrolet.'\n",
      "'fileIndex=27&&contextLen=3&&userResponse=Social anxiety can be defined as nervousness in social situations.'\n",
      "'fileIndex=23&&contextLen=3&&userResponse=The Last of the Mahicans is a 1992 American epic historical drama, set in 1757 during the French and Indian War.'\n",
      "'fileIndex=19&&contextLen=3&&userResponse=The violin typically has four strings tuned in perfect fifths, and is most commonly played by drawing a bow across its strings, though it can also be played by plucking the strings with the fingers (pizzicato) and by striking the strings with the wooden side of the bow (col Leno).'\n",
      "'fileIndex=18&&contextLen=3&&userResponse=Science, Technology, Engineering and Mathematics (STEM), previously Math, Engineering, Technology, and Science (METS) is the academic discipline of science, technology, engineering and mathematics.'\n",
      "'fileIndex=19&&contextLen=3&&userResponse=The violin typically has four strings tuned in perfect fifths, and is most commonly played by drawing a bow across its strings, though it can also be played by plucking the strings with the fingers (pizzicato) and by striking the strings with the wooden side of the bow (col Leno).'\n",
      "'fileIndex=9&&contextLen=3&&userResponse=Portland is the most populous city in the U. S. state of Maine, with a population of 67, 067 as of 2017.'\n",
      "'fileIndex=18&&contextLen=3&&userResponse=Science, Technology, Engineering and Mathematics (STEM), previously Math, Engineering, Technology, and Science (METS) is the academic discipline of science, technology, engineering and mathematics.'\n",
      "'fileIndex=19&&contextLen=3&&userResponse=The violin typically has four strings tuned in perfect fifths, and is most commonly played by drawing a bow across its strings, though it can also be played by plucking the strings with the fingers (pizzicato) and by striking the strings with the wooden side of the bow (col Leno).'\n",
      "'fileIndex=4&&contextLen=3&&userResponse=Star Trek is an American media franchise based on the science fiction television series created by Gene Roddenberry.'\n",
      "'fileIndex=7&&contextLen=3&&userResponse=The fictional series focuses on the lives of surgical interns, residents, and attending physicians, as they develop into seasoned doctors while trying to maintain personal lives and relationships.'\n",
      "'fileIndex=11&&contextLen=3&&userResponse=New York-style pizza is pizza made with a characteristically large hand-tossed thin crust, often sold in wide slices to go.'\n",
      "'fileIndex=21&&contextLen=3&&userResponse=Panels are often accompanied by brief descriptive prose and written narrative, usually dialog contained in word balloons emblematic of the comics art form.'\n",
      "'fileIndex=2&&contextLen=3&&userResponse=Netflix is an American entertainment company founded by Reed Hastings and Marc Randolph on August 29, 1997, in Scott Valley, California.'\n",
      "'fileIndex=28&&contextLen=3&&userResponse=American literature is literature written or produced in the United States and its preceding colonies (for specific discussions of poetry and theater, see Poetry of the United States and Theater in the United States).'\n",
      "\"fileIndex=11&&contextLen=3&&userResponse=Austen's plots often explore the dependence of women on marriage in the pursuit of favorable social standing and economic security.\"\n",
      "'fileIndex=3&&contextLen=3&&userResponse=Ballet () is a type of performance dance that originated during the Italian Renaissance in the 15th century and later developed into a concert dance form in France and Russia.'\n",
      "'fileIndex=21&&contextLen=3&&userResponse=Divorce, also known as dissolution of marriage, is the termination of a marriage or marital union, the canceling or reorganizing of the legal duties and responsibilities of marriage, thus dissolving the bonds of matrimony between a married couple under the rule of law of the particular country or state.'\n",
      "'fileIndex=11&&contextLen=3&&userResponse=New York-style pizza is pizza made with a characteristically large hand-tossed thin crust, often sold in wide slices to go.'\n",
      "'fileIndex=10&&contextLen=3&&userResponse=Wild beaches, also known as undeveloped or undiscovered beaches, are not developed in this manner.'\n",
      "'fileIndex=22&&contextLen=3&&userResponse=Pita (or) in Greek, sometimes spelled Pitta (mainly UK), also known as Arabic bread, Lebanese bread, or Syrian bread, is a soft, slightly leavened flat bread baked from wheat flour, which originated in Western Asia, most probably Mesopotamia around 2500 BC.'\n",
      "'fileIndex=28&&contextLen=3&&userResponse=The story charts the emotional development of the protagonist, Elizabeth Bennett, who learns the error of making hasty judgments and comes to appreciate the difference between the superficial and the essential.'\n",
      "'fileIndex=16&&contextLen=3&&userResponse=Dance can be categorized and described by its choreography, by its repertoire of movements, or by its historical period or place of origin.'\n",
      "'fileIndex=17&&contextLen=3&&userResponse=Video game design is the process of designing the content and rules of a video game in the reproduction stage and designing the game play, environment, story line, and characters in the production stage.'\n",
      "'fileIndex=17&&contextLen=3&&userResponse=A Luxury yacht (also super-yacht, large yacht and mega-yacht) is a very expensive, privately owned, professionally crewed sailing or motor yacht.'\n",
      "'fileIndex=4&&contextLen=3&&userResponse=Star Trek is an American media franchise based on the science fiction television series created by Gene Roddenberry.'\n",
      "'fileIndex=19&&contextLen=3&&userResponse=The violin typically has four strings tuned in perfect fifths, and is most commonly played by drawing a bow across its strings, though it can also be played by plucking the strings with the fingers (pizzicato) and by striking the strings with the wooden side of the bow (col Leno).'\n",
      "\"fileIndex=15&&contextLen=3&&userResponse=Sushi originates in a Southeast Asian dish, known today as 'narezushi'(–'salted fish'), stored in fermented rice for possibly months at a time.\"\n",
      "\"fileIndex=14&&contextLen=3&&userResponse=McDonald's is a fast food company that was founded in 1940 as a restaurant operated by Richard and Maurice McDonald, in San Bernardo, California, United States.\"\n",
      "'fileIndex=25&&contextLen=3&&userResponse=Skateboarding is an action sport which involves riding and performing tricks using a skateboard.'\n",
      "'fileIndex=22&&contextLen=3&&userResponse=Pita (or) in Greek, sometimes spelled Pitta (mainly UK), also known as Arabic bread, Lebanese bread, or Syrian bread, is a soft, slightly leavened flat bread baked from wheat flour, which originated in Western Asia, most probably Mesopotamia around 2500 BC.'\n",
      "'fileIndex=9&&contextLen=3&&userResponse=Portland is the most populous city in the U. S. state of Maine, with a population of 67, 067 as of 2017.'\n",
      "'fileIndex=6&&contextLen=3&&userResponse=Waiting staff are those who work at a restaurant or a bar, and sometimes in private homes, attending customers—supplying them with food and drink as requested.'\n",
      "'fileIndex=27&&contextLen=3&&userResponse=Social anxiety can be defined as nervousness in social situations.'\n",
      "'fileIndex=26&&contextLen=3&&userResponse=A linebacker (LB or backer) is a playing position in American football and Canadian football.'\n",
      "'fileIndex=6&&contextLen=3&&userResponse=Waiting staff are those who work at a restaurant or a bar, and sometimes in private homes, attending customers—supplying them with food and drink as requested.'\n",
      "\"fileIndex=5&&contextLen=3&&userResponse=Baker's shop or bake shop) is an establishment that produces and sells flour-based food baked in an oven such as bread, cookies, cakes, pastries, and pies.\"\n",
      "\"fileIndex=20&&contextLen=3&&userResponse=As a result, the series became the world's most popular television program among all genres in 2006 and 2007, according to the magazine 'Television Business International', reaching the Top 10 in 17 countries.\"\n",
      "'fileIndex=11&&contextLen=3&&userResponse=New York-style pizza is pizza made with a characteristically large hand-tossed thin crust, often sold in wide slices to go.'\n",
      "'fileIndex=17&&contextLen=3&&userResponse=A Luxury yacht (also super-yacht, large yacht and mega-yacht) is a very expensive, privately owned, professionally crewed sailing or motor yacht.'\n",
      "'fileIndex=3&&contextLen=3&&userResponse=Denmark (;, ), officially the Kingdom of Denmark, is a Nordic country and a sovereign state.'\n",
      "'fileIndex=12&&contextLen=3&&userResponse=Lactose intolerance is a condition in which people have symptoms due to the decreased ability to digest lactose, a sugar found in milk products.'\n",
      "'fileIndex=28&&contextLen=3&&userResponse=American literature is literature written or produced in the United States and its preceding colonies (for specific discussions of poetry and theater, see Poetry of the United States and Theater in the United States).'\n",
      "'fileIndex=4&&contextLen=3&&userResponse=Pig farming is the raising and breeding of domestic pigs as livestock, and is a branch of animal husbandry.'\n",
      "'fileIndex=11&&contextLen=3&&userResponse=New York-style pizza is pizza made with a characteristically large hand-tossed thin crust, often sold in wide slices to go.'\n",
      "'fileIndex=18&&contextLen=3&&userResponse=Science, Technology, Engineering and Mathematics (STEM), previously Math, Engineering, Technology, and Science (METS) is the academic discipline of science, technology, engineering and mathematics.'\n",
      "'fileIndex=29&&contextLen=3&&userResponse=The car has been produced through seven generations.'\n",
      "'fileIndex=18&&contextLen=3&&userResponse=Science, Technology, Engineering and Mathematics (STEM), previously Math, Engineering, Technology, and Science (METS) is the academic discipline of science, technology, engineering and mathematics.'\n",
      "'fileIndex=17&&contextLen=3&&userResponse=A Luxury yacht (also super-yacht, large yacht and mega-yacht) is a very expensive, privately owned, professionally crewed sailing or motor yacht.'\n",
      "\"fileIndex=11&&contextLen=3&&userResponse=Austen's plots often explore the dependence of women on marriage in the pursuit of favorable social standing and economic security.\"\n",
      "\"fileIndex=29&&contextLen=3&&userResponse=Eileen is a player and occasional boss character from the 'Mortal Combat' series of fighting games.\"\n",
      "'fileIndex=9&&contextLen=3&&userResponse=Portland is the most populous city in the U. S. state of Maine, with a population of 67, 067 as of 2017.'\n",
      "\"fileIndex=0&&contextLen=3&&userResponse=The Coors Brewing Company is a regional division of the world's third-largest brewing company, the Olson Coors Brewing Company.\"\n",
      "'fileIndex=16&&contextLen=3&&userResponse=The University of Chicago (U of C, Chicago, or Chicago) is a private research university in Chicago, Illinois.'\n",
      "'fileIndex=3&&contextLen=3&&userResponse=Denmark (;, ), officially the Kingdom of Denmark, is a Nordic country and a sovereign state.'\n",
      "\"fileIndex=20&&contextLen=3&&userResponse=Obsessive–compulsive disorder (OCD) is a mental disorder where people feel the need to check things repeatedly, perform certain routines repeatedly (called 'rituals'), or have certain thoughts repeatedly.\"\n",
      "'fileIndex=8&&contextLen=3&&userResponse=The S-Class designation for top-of-the-line Mercedes-Benz models was officially introduced in 1972 with the W116, and has remained in use ever since.'\n",
      "'fileIndex=21&&contextLen=3&&userResponse=Divorce, also known as dissolution of marriage, is the termination of a marriage or marital union, the canceling or reorganizing of the legal duties and responsibilities of marriage, thus dissolving the bonds of matrimony between a married couple under the rule of law of the particular country or state.'\n",
      "'fileIndex=28&&contextLen=3&&userResponse=American literature is literature written or produced in the United States and its preceding colonies (for specific discussions of poetry and theater, see Poetry of the United States and Theater in the United States).'\n",
      "\"fileIndex=5&&contextLen=3&&userResponse=Baker's shop or bake shop) is an establishment that produces and sells flour-based food baked in an oven such as bread, cookies, cakes, pastries, and pies.\"\n",
      "'fileIndex=16&&contextLen=3&&userResponse=Dance can be categorized and described by its choreography, by its repertoire of movements, or by its historical period or place of origin.'\n",
      "'fileIndex=27&&contextLen=3&&userResponse=Social anxiety can be defined as nervousness in social situations.'\n",
      "\"fileIndex=5&&contextLen=3&&userResponse=Baker's shop or bake shop) is an establishment that produces and sells flour-based food baked in an oven such as bread, cookies, cakes, pastries, and pies.\"\n",
      "\"fileIndex=26&&contextLen=3&&userResponse=Gabrielle Bother 'Coco' Chanel (19 August 1883 – 10 January 1971) was a French fashion designer and businesswoman.\"\n",
      "'fileIndex=21&&contextLen=3&&userResponse=Panels are often accompanied by brief descriptive prose and written narrative, usually dialog contained in word balloons emblematic of the comics art form.'\n",
      "'fileIndex=9&&contextLen=3&&userResponse=A taco is generally eaten without utensils and is often accompanied by garnishes such as salsa, chili pepper, avocado, guacamole, cilantro (coriander), tomatoes, onions, and lettuce.'\n",
      "'fileIndex=21&&contextLen=3&&userResponse=Panels are often accompanied by brief descriptive prose and written narrative, usually dialog contained in word balloons emblematic of the comics art form.'\n",
      "'fileIndex=18&&contextLen=3&&userResponse=Del Taco is an American fast food restaurant chain which specializes in American-style Mexican cuisine as well as American foods such as burgers, fries, and shakes.'\n",
      "'fileIndex=11&&contextLen=3&&userResponse=New York-style pizza is pizza made with a characteristically large hand-tossed thin crust, often sold in wide slices to go.'\n",
      "'fileIndex=9&&contextLen=3&&userResponse=A taco is generally eaten without utensils and is often accompanied by garnishes such as salsa, chili pepper, avocado, guacamole, cilantro (coriander), tomatoes, onions, and lettuce.'\n",
      "'fileIndex=1&&contextLen=3&&userResponse=According to surveys in Europe and the U. S., purple is the color most often associated with royalty, magic, mystery and piety.'\n",
      "'fileIndex=3&&contextLen=3&&userResponse=Denmark (;, ), officially the Kingdom of Denmark, is a Nordic country and a sovereign state.'\n",
      "'fileIndex=14&&contextLen=3&&userResponse=Radiology is the science that uses medical imaging to diagnose and sometimes also treat diseases within the body.'\n",
      "\"fileIndex=19&&contextLen=3&&userResponse=It became a worldwide hit after the release of their debut album, 'Pablo Honey' (1993).\"\n"
     ]
    },
    {
     "name": "stdout",
     "output_type": "stream",
     "text": [
      "'fileIndex=6&&contextLen=3&&userResponse=Waiting staff are those who work at a restaurant or a bar, and sometimes in private homes, attending customers—supplying them with food and drink as requested.'\n",
      "'fileIndex=17&&contextLen=3&&userResponse=A Luxury yacht (also super-yacht, large yacht and mega-yacht) is a very expensive, privately owned, professionally crewed sailing or motor yacht.'\n",
      "\"fileIndex=26&&contextLen=3&&userResponse=Gabrielle Bother 'Coco' Chanel (19 August 1883 – 10 January 1971) was a French fashion designer and businesswoman.\"\n",
      "'fileIndex=2&&contextLen=3&&userResponse=With an estimated 2016 population of 8, 537, 673 distributed over a land area of about, New York City is also the most densely populated major city in the United States.'\n",
      "'fileIndex=24&&contextLen=3&&userResponse=\\'\"is an animated television series produced by Hasbro as part of the\\'My Little Pony\\' toy franchise, which is tied in with the 2010 launch of dolls and play sets, and original programming for U. S. cable channel Discovery Family (formerly Hub Network).'\n",
      "\"fileIndex=26&&contextLen=3&&userResponse=Gabrielle Bother 'Coco' Chanel (19 August 1883 – 10 January 1971) was a French fashion designer and businesswoman.\"\n",
      "\"fileIndex=19&&contextLen=3&&userResponse=It became a worldwide hit after the release of their debut album, 'Pablo Honey' (1993).\"\n",
      "'fileIndex=1&&contextLen=3&&userResponse=According to surveys in Europe and the U. S., purple is the color most often associated with royalty, magic, mystery and piety.'\n",
      "'fileIndex=2&&contextLen=3&&userResponse=Netflix is an American entertainment company founded by Reed Hastings and Marc Randolph on August 29, 1997, in Scott Valley, California.'\n",
      "'fileIndex=24&&contextLen=3&&userResponse=\\'\"is an animated television series produced by Hasbro as part of the\\'My Little Pony\\' toy franchise, which is tied in with the 2010 launch of dolls and play sets, and original programming for U. S. cable channel Discovery Family (formerly Hub Network).'\n",
      "\"fileIndex=20&&contextLen=3&&userResponse=As a result, the series became the world's most popular television program among all genres in 2006 and 2007, according to the magazine 'Television Business International', reaching the Top 10 in 17 countries.\"\n",
      "\"fileIndex=0&&contextLen=3&&userResponse=The Coors Brewing Company is a regional division of the world's third-largest brewing company, the Olson Coors Brewing Company.\"\n",
      "'fileIndex=8&&contextLen=3&&userResponse=The S-Class designation for top-of-the-line Mercedes-Benz models was officially introduced in 1972 with the W116, and has remained in use ever since.'\n",
      "'fileIndex=22&&contextLen=3&&userResponse=Austin () is the capital of the U. S. state of Texas and the seat of Travis County, with portions extending into Hays and Williamson counties.'\n",
      "'fileIndex=0&&contextLen=3&&userResponse=Introduced in 1876 by Carl Conrad & Co. of St. Louis, Missouri, it has grown to become one of the largest selling beers in the United States, and is available in over 80 markets worldwide though, due to a trademark dispute, not necessarily under the Budweiser name.'\n",
      "'fileIndex=0&&contextLen=3&&userResponse=Introduced in 1876 by Carl Conrad & Co. of St. Louis, Missouri, it has grown to become one of the largest selling beers in the United States, and is available in over 80 markets worldwide though, due to a trademark dispute, not necessarily under the Budweiser name.'\n",
      "\"fileIndex=29&&contextLen=3&&userResponse=Eileen is a player and occasional boss character from the 'Mortal Combat' series of fighting games.\"\n",
      "\"fileIndex=8&&contextLen=3&&userResponse=Santa Fe (or ; Too: 'Off Po'one', ) is the capital of the state of New Mexico.\"\n",
      "'fileIndex=4&&contextLen=3&&userResponse=Star Trek is an American media franchise based on the science fiction television series created by Gene Roddenberry.'\n",
      "'fileIndex=1&&contextLen=3&&userResponse=Narcissus is a genus of predominantly spring perennial plants in the Amaryllidaceae (amaryllis) family.'\n",
      "\"fileIndex=0&&contextLen=3&&userResponse=The Coors Brewing Company is a regional division of the world's third-largest brewing company, the Olson Coors Brewing Company.\"\n",
      "'fileIndex=1&&contextLen=3&&userResponse=According to surveys in Europe and the U. S., purple is the color most often associated with royalty, magic, mystery and piety.'\n",
      "'fileIndex=11&&contextLen=3&&userResponse=New York-style pizza is pizza made with a characteristically large hand-tossed thin crust, often sold in wide slices to go.'\n",
      "'fileIndex=17&&contextLen=3&&userResponse=A Luxury yacht (also super-yacht, large yacht and mega-yacht) is a very expensive, privately owned, professionally crewed sailing or motor yacht.'\n",
      "'fileIndex=2&&contextLen=3&&userResponse=With an estimated 2016 population of 8, 537, 673 distributed over a land area of about, New York City is also the most densely populated major city in the United States.'\n",
      "'fileIndex=16&&contextLen=3&&userResponse=The University of Chicago (U of C, Chicago, or Chicago) is a private research university in Chicago, Illinois.'\n",
      "'fileIndex=21&&contextLen=3&&userResponse=Divorce, also known as dissolution of marriage, is the termination of a marriage or marital union, the canceling or reorganizing of the legal duties and responsibilities of marriage, thus dissolving the bonds of matrimony between a married couple under the rule of law of the particular country or state.'\n",
      "\"fileIndex=23&&contextLen=3&&userResponse=On the other hand, in the United Kingdom, and the Republic of Ireland, the word 'walking'is acceptable to describe'all forms' of walking, whether it is a walk in the park or backpacking in the Alps.\"\n",
      "\"fileIndex=8&&contextLen=3&&userResponse=Santa Fe (or ; Too: 'Off Po'one', ) is the capital of the state of New Mexico.\"\n",
      "'fileIndex=2&&contextLen=3&&userResponse=With an estimated 2016 population of 8, 537, 673 distributed over a land area of about, New York City is also the most densely populated major city in the United States.'\n",
      "\"fileIndex=5&&contextLen=3&&userResponse=Baker's shop or bake shop) is an establishment that produces and sells flour-based food baked in an oven such as bread, cookies, cakes, pastries, and pies.\"\n",
      "'fileIndex=24&&contextLen=3&&userResponse=\\'\"is an animated television series produced by Hasbro as part of the\\'My Little Pony\\' toy franchise, which is tied in with the 2010 launch of dolls and play sets, and original programming for U. S. cable channel Discovery Family (formerly Hub Network).'\n",
      "'fileIndex=13&&contextLen=3&&userResponse=The Appalachian National Scenic Trail, generally known as the Appalachian Trail or simply the A. T., is a marked hiking trail in the Eastern United States extending between Sprinter Mountain in Georgia and Mount Katahdin in Maine.'\n",
      "'fileIndex=22&&contextLen=3&&userResponse=Austin () is the capital of the U. S. state of Texas and the seat of Travis County, with portions extending into Hays and Williamson counties.'\n",
      "\"fileIndex=5&&contextLen=3&&userResponse=Baker's shop or bake shop) is an establishment that produces and sells flour-based food baked in an oven such as bread, cookies, cakes, pastries, and pies.\"\n",
      "\"fileIndex=11&&contextLen=3&&userResponse=Austen's plots often explore the dependence of women on marriage in the pursuit of favorable social standing and economic security.\"\n",
      "'fileIndex=12&&contextLen=3&&userResponse=Lactose intolerance is a condition in which people have symptoms due to the decreased ability to digest lactose, a sugar found in milk products.'\n",
      "\"fileIndex=11&&contextLen=3&&userResponse=Austen's plots often explore the dependence of women on marriage in the pursuit of favorable social standing and economic security.\"\n",
      "'fileIndex=16&&contextLen=3&&userResponse=The University of Chicago (U of C, Chicago, or Chicago) is a private research university in Chicago, Illinois.'\n",
      "'fileIndex=19&&contextLen=3&&userResponse=The violin typically has four strings tuned in perfect fifths, and is most commonly played by drawing a bow across its strings, though it can also be played by plucking the strings with the fingers (pizzicato) and by striking the strings with the wooden side of the bow (col Leno).'\n",
      "'fileIndex=16&&contextLen=3&&userResponse=The University of Chicago (U of C, Chicago, or Chicago) is a private research university in Chicago, Illinois.'\n",
      "'fileIndex=0&&contextLen=3&&userResponse=Introduced in 1876 by Carl Conrad & Co. of St. Louis, Missouri, it has grown to become one of the largest selling beers in the United States, and is available in over 80 markets worldwide though, due to a trademark dispute, not necessarily under the Budweiser name.'\n",
      "'fileIndex=4&&contextLen=3&&userResponse=Star Trek is an American media franchise based on the science fiction television series created by Gene Roddenberry.'\n",
      "'fileIndex=22&&contextLen=3&&userResponse=Pita (or) in Greek, sometimes spelled Pitta (mainly UK), also known as Arabic bread, Lebanese bread, or Syrian bread, is a soft, slightly leavened flat bread baked from wheat flour, which originated in Western Asia, most probably Mesopotamia around 2500 BC.'\n",
      "'fileIndex=11&&contextLen=3&&userResponse=New York-style pizza is pizza made with a characteristically large hand-tossed thin crust, often sold in wide slices to go.'\n",
      "'fileIndex=8&&contextLen=3&&userResponse=The S-Class designation for top-of-the-line Mercedes-Benz models was officially introduced in 1972 with the W116, and has remained in use ever since.'\n",
      "'fileIndex=18&&contextLen=3&&userResponse=Science, Technology, Engineering and Mathematics (STEM), previously Math, Engineering, Technology, and Science (METS) is the academic discipline of science, technology, engineering and mathematics.'\n",
      "'fileIndex=14&&contextLen=3&&userResponse=Radiology is the science that uses medical imaging to diagnose and sometimes also treat diseases within the body.'\n",
      "\"fileIndex=14&&contextLen=3&&userResponse=McDonald's is a fast food company that was founded in 1940 as a restaurant operated by Richard and Maurice McDonald, in San Bernardo, California, United States.\"\n",
      "'fileIndex=17&&contextLen=3&&userResponse=A Luxury yacht (also super-yacht, large yacht and mega-yacht) is a very expensive, privately owned, professionally crewed sailing or motor yacht.'\n",
      "'fileIndex=14&&contextLen=3&&userResponse=Radiology is the science that uses medical imaging to diagnose and sometimes also treat diseases within the body.'\n",
      "'fileIndex=29&&contextLen=3&&userResponse=The car has been produced through seven generations.'\n",
      "\"fileIndex=26&&contextLen=3&&userResponse=Gabrielle Bother 'Coco' Chanel (19 August 1883 – 10 January 1971) was a French fashion designer and businesswoman.\"\n",
      "\"fileIndex=20&&contextLen=3&&userResponse=Obsessive–compulsive disorder (OCD) is a mental disorder where people feel the need to check things repeatedly, perform certain routines repeatedly (called 'rituals'), or have certain thoughts repeatedly.\"\n",
      "\"fileIndex=8&&contextLen=3&&userResponse=Santa Fe (or ; Too: 'Off Po'one', ) is the capital of the state of New Mexico.\"\n",
      "'fileIndex=16&&contextLen=3&&userResponse=The University of Chicago (U of C, Chicago, or Chicago) is a private research university in Chicago, Illinois.'\n",
      "'fileIndex=4&&contextLen=3&&userResponse=Star Trek is an American media franchise based on the science fiction television series created by Gene Roddenberry.'\n",
      "'fileIndex=24&&contextLen=3&&userResponse=A variety of imaging techniques such as X-ray radiography, ultrasound, computed tomography (CT), nuclear medicine including positron emission tomography (PET), and magnetic resonance imaging (MRI) are used to diagnose and/or treat diseases.'\n",
      "'fileIndex=2&&contextLen=3&&userResponse=With an estimated 2016 population of 8, 537, 673 distributed over a land area of about, New York City is also the most densely populated major city in the United States.'\n",
      "'fileIndex=4&&contextLen=3&&userResponse=Star Trek is an American media franchise based on the science fiction television series created by Gene Roddenberry.'\n",
      "'fileIndex=2&&contextLen=3&&userResponse=With an estimated 2016 population of 8, 537, 673 distributed over a land area of about, New York City is also the most densely populated major city in the United States.'\n",
      "'fileIndex=18&&contextLen=3&&userResponse=Del Taco is an American fast food restaurant chain which specializes in American-style Mexican cuisine as well as American foods such as burgers, fries, and shakes.'\n",
      "'fileIndex=2&&contextLen=3&&userResponse=Netflix is an American entertainment company founded by Reed Hastings and Marc Randolph on August 29, 1997, in Scott Valley, California.'\n",
      "'fileIndex=10&&contextLen=3&&userResponse=Wild beaches, also known as undeveloped or undiscovered beaches, are not developed in this manner.'\n",
      "'fileIndex=24&&contextLen=3&&userResponse=A variety of imaging techniques such as X-ray radiography, ultrasound, computed tomography (CT), nuclear medicine including positron emission tomography (PET), and magnetic resonance imaging (MRI) are used to diagnose and/or treat diseases.'\n",
      "'fileIndex=1&&contextLen=3&&userResponse=According to surveys in Europe and the U. S., purple is the color most often associated with royalty, magic, mystery and piety.'\n",
      "\"fileIndex=8&&contextLen=3&&userResponse=Santa Fe (or ; Too: 'Off Po'one', ) is the capital of the state of New Mexico.\"\n",
      "'fileIndex=7&&contextLen=3&&userResponse=The fictional series focuses on the lives of surgical interns, residents, and attending physicians, as they develop into seasoned doctors while trying to maintain personal lives and relationships.'\n",
      "'fileIndex=17&&contextLen=3&&userResponse=A Luxury yacht (also super-yacht, large yacht and mega-yacht) is a very expensive, privately owned, professionally crewed sailing or motor yacht.'\n",
      "'fileIndex=0&&contextLen=3&&userResponse=Introduced in 1876 by Carl Conrad & Co. of St. Louis, Missouri, it has grown to become one of the largest selling beers in the United States, and is available in over 80 markets worldwide though, due to a trademark dispute, not necessarily under the Budweiser name.'\n",
      "\"fileIndex=10&&contextLen=3&&userResponse=Gone with the Wind is a 1939 American epic historical romance film, adapted from Margaret Mitchell's 1936 novel of the same name.\"\n",
      "'fileIndex=4&&contextLen=3&&userResponse=Star Trek is an American media franchise based on the science fiction television series created by Gene Roddenberry.'\n",
      "'fileIndex=16&&contextLen=3&&userResponse=Dance can be categorized and described by its choreography, by its repertoire of movements, or by its historical period or place of origin.'\n",
      "\"fileIndex=0&&contextLen=3&&userResponse=The Coors Brewing Company is a regional division of the world's third-largest brewing company, the Olson Coors Brewing Company.\"\n",
      "'fileIndex=16&&contextLen=3&&userResponse=The University of Chicago (U of C, Chicago, or Chicago) is a private research university in Chicago, Illinois.'\n",
      "'fileIndex=18&&contextLen=3&&userResponse=Del Taco is an American fast food restaurant chain which specializes in American-style Mexican cuisine as well as American foods such as burgers, fries, and shakes.'\n",
      "'fileIndex=1&&contextLen=3&&userResponse=According to surveys in Europe and the U. S., purple is the color most often associated with royalty, magic, mystery and piety.'\n",
      "'fileIndex=27&&contextLen=3&&userResponse=The Simpsons is an American animated sitcom created by Matt Greening for the Fox Broadcasting Company.'\n",
      "'fileIndex=1&&contextLen=3&&userResponse=According to surveys in Europe and the U. S., purple is the color most often associated with royalty, magic, mystery and piety.'\n",
      "\"fileIndex=20&&contextLen=3&&userResponse=Obsessive–compulsive disorder (OCD) is a mental disorder where people feel the need to check things repeatedly, perform certain routines repeatedly (called 'rituals'), or have certain thoughts repeatedly.\"\n",
      "'fileIndex=12&&contextLen=3&&userResponse=Horse training refers to a variety of practices that teach horses to perform certain behaviors when asked to do so by humans.'\n",
      "\"fileIndex=29&&contextLen=3&&userResponse=Eileen is a player and occasional boss character from the 'Mortal Combat' series of fighting games.\"\n",
      "'fileIndex=17&&contextLen=3&&userResponse=A Luxury yacht (also super-yacht, large yacht and mega-yacht) is a very expensive, privately owned, professionally crewed sailing or motor yacht.'\n",
      "'fileIndex=6&&contextLen=3&&userResponse=Snapple is a brand of tea and juice drinks which is owned by Dr Pepper Snapple Group and based in Plano, Texas.'\n",
      "'fileIndex=9&&contextLen=3&&userResponse=A taco is generally eaten without utensils and is often accompanied by garnishes such as salsa, chili pepper, avocado, guacamole, cilantro (coriander), tomatoes, onions, and lettuce.'\n",
      "'fileIndex=21&&contextLen=3&&userResponse=Panels are often accompanied by brief descriptive prose and written narrative, usually dialog contained in word balloons emblematic of the comics art form.'\n",
      "\"fileIndex=11&&contextLen=3&&userResponse=Austen's plots often explore the dependence of women on marriage in the pursuit of favorable social standing and economic security.\"\n",
      "'fileIndex=18&&contextLen=3&&userResponse=Del Taco is an American fast food restaurant chain which specializes in American-style Mexican cuisine as well as American foods such as burgers, fries, and shakes.'\n",
      "\"fileIndex=11&&contextLen=3&&userResponse=Austen's plots often explore the dependence of women on marriage in the pursuit of favorable social standing and economic security.\"\n",
      "\"fileIndex=19&&contextLen=3&&userResponse=It became a worldwide hit after the release of their debut album, 'Pablo Honey' (1993).\"\n",
      "'fileIndex=0&&contextLen=3&&userResponse=Introduced in 1876 by Carl Conrad & Co. of St. Louis, Missouri, it has grown to become one of the largest selling beers in the United States, and is available in over 80 markets worldwide though, due to a trademark dispute, not necessarily under the Budweiser name.'\n",
      "\"fileIndex=5&&contextLen=3&&userResponse=Baker's shop or bake shop) is an establishment that produces and sells flour-based food baked in an oven such as bread, cookies, cakes, pastries, and pies.\"\n",
      "\"fileIndex=8&&contextLen=3&&userResponse=Santa Fe (or ; Too: 'Off Po'one', ) is the capital of the state of New Mexico.\"\n",
      "'fileIndex=9&&contextLen=3&&userResponse=Portland is the most populous city in the U. S. state of Maine, with a population of 67, 067 as of 2017.'\n",
      "'fileIndex=15&&contextLen=3&&userResponse=Keisha Rose Ebert (; born March 1, 1987; formerly stylized as Kenya) is an American singer, songwriter, actress and rapper.'\n",
      "\"fileIndex=20&&contextLen=3&&userResponse=Obsessive–compulsive disorder (OCD) is a mental disorder where people feel the need to check things repeatedly, perform certain routines repeatedly (called 'rituals'), or have certain thoughts repeatedly.\"\n",
      "'fileIndex=8&&contextLen=3&&userResponse=The S-Class designation for top-of-the-line Mercedes-Benz models was officially introduced in 1972 with the W116, and has remained in use ever since.'\n",
      "\"fileIndex=14&&contextLen=3&&userResponse=McDonald's is a fast food company that was founded in 1940 as a restaurant operated by Richard and Maurice McDonald, in San Bernardo, California, United States.\"\n",
      "'fileIndex=2&&contextLen=3&&userResponse=With an estimated 2016 population of 8, 537, 673 distributed over a land area of about, New York City is also the most densely populated major city in the United States.'\n",
      "\"fileIndex=19&&contextLen=3&&userResponse=It became a worldwide hit after the release of their debut album, 'Pablo Honey' (1993).\"\n",
      "'fileIndex=1&&contextLen=3&&userResponse=According to surveys in Europe and the U. S., purple is the color most often associated with royalty, magic, mystery and piety.'\n",
      "'fileIndex=12&&contextLen=3&&userResponse=Horse training refers to a variety of practices that teach horses to perform certain behaviors when asked to do so by humans.'\n",
      "'fileIndex=17&&contextLen=3&&userResponse=Video game design is the process of designing the content and rules of a video game in the reproduction stage and designing the game play, environment, story line, and characters in the production stage.'\n",
      "'fileIndex=16&&contextLen=3&&userResponse=Dance can be categorized and described by its choreography, by its repertoire of movements, or by its historical period or place of origin.'\n",
      "'fileIndex=16&&contextLen=3&&userResponse=Dance can be categorized and described by its choreography, by its repertoire of movements, or by its historical period or place of origin.'\n",
      "\"fileIndex=11&&contextLen=3&&userResponse=Austen's plots often explore the dependence of women on marriage in the pursuit of favorable social standing and economic security.\"\n",
      "'fileIndex=3&&contextLen=3&&userResponse=Denmark (;, ), officially the Kingdom of Denmark, is a Nordic country and a sovereign state.'\n",
      "\"fileIndex=5&&contextLen=3&&userResponse=Baker's shop or bake shop) is an establishment that produces and sells flour-based food baked in an oven such as bread, cookies, cakes, pastries, and pies.\"\n",
      "'fileIndex=10&&contextLen=3&&userResponse=Wild beaches, also known as undeveloped or undiscovered beaches, are not developed in this manner.'\n",
      "\"fileIndex=20&&contextLen=3&&userResponse=As a result, the series became the world's most popular television program among all genres in 2006 and 2007, according to the magazine 'Television Business International', reaching the Top 10 in 17 countries.\"\n",
      "\"fileIndex=20&&contextLen=3&&userResponse=As a result, the series became the world's most popular television program among all genres in 2006 and 2007, according to the magazine 'Television Business International', reaching the Top 10 in 17 countries.\"\n"
     ]
    }
   ],
   "source": [
    "sugg1Bot = []\n",
    "sugg3Bot = []\n",
    "sugg5Bot = []\n",
    "\n",
    "autoSugg1Bot = []\n",
    "autoSugg3Bot = []\n",
    "autoSugg5Bot = []\n",
    "\n",
    "\n",
    "for root, dirs, files in os.walk(cleanPath + settingName):\n",
    "    for file in files:\n",
    "        if file.endswith(\".json\"):\n",
    "            fileName = os.path.join(root, file)\n",
    "            with open(fileName) as json_file:\n",
    "                try:\n",
    "                    data = json.load(json_file)\n",
    "                    dialogs = data['dialogs']\n",
    "                    \n",
    "                    for i in range(1, len(dialogs)):\n",
    "                        context = dialogs[i]['context']\n",
    "                        \n",
    "                        userResponse = context['userResponse']\n",
    "                        fileIndex = context['fileIndex']\n",
    "                        suggestions = context['suggestions']\n",
    "                        \n",
    "                        identifierStr = 'fileIndex=' + str(fileIndex) + '&&contextLen=' + str(contextLen) + '&&userResponse=' + suggestions[0].strip()\n",
    "                        \n",
    "                        if(identifierStr in responseSet):\n",
    "                            responseJudgements =  responseSet[identifierStr]\n",
    "                        else:\n",
    "                            responseJudgements =  suggSet[identifierStr]\n",
    "                        \n",
    "                        currFeedback = []\n",
    "                        \n",
    "                        for feedback in responseJudgements:\n",
    "                            for key in feedback:\n",
    "                                \n",
    "                                if('Answer.' + Qualtype in key and feedback[key] == 'true'):\n",
    "                                    currFeedback.append(metric[key])\n",
    "                        \n",
    "                        \n",
    "                        if(data['autoFilledSuggestion'] == 0):\n",
    "                            \n",
    "                            if(data['suggestionsNumber'] == 1):\n",
    "                                sugg1Bot.append(statistics.mean(currFeedback))\n",
    "\n",
    "                            elif(data['suggestionsNumber'] == 3):\n",
    "                                sugg3Bot.append(statistics.mean(currFeedback))\n",
    "\n",
    "                            elif(data['suggestionsNumber'] == 5):\n",
    "                                sugg5Bot.append(statistics.mean(currFeedback))\n",
    "                        \n",
    "                        else:\n",
    "\n",
    "                            if(data['suggestionsNumber'] == 1):\n",
    "                                autoSugg1Bot.append(statistics.mean(currFeedback))\n",
    "\n",
    "                            elif(data['suggestionsNumber'] == 3):\n",
    "                                autoSugg3Bot.append(statistics.mean(currFeedback))\n",
    "                            \n",
    "                            elif(data['suggestionsNumber'] == 5):\n",
    "                                autoSugg5Bot.append(statistics.mean(currFeedback))\n",
    "                    \n",
    "                    \n",
    "                except Exception as e: print(e)"
   ]
  },
  {
   "cell_type": "code",
   "execution_count": 16,
   "metadata": {},
   "outputs": [
    {
     "name": "stdout",
     "output_type": "stream",
     "text": [
      "H Bot 0.020766133009346027\n",
      "H sugg1 0.6043462523638877\n",
      "H sugg3 0.44602934282369033\n",
      "H sugg5 0.0855580522217788\n",
      "H autoSugg1 0.00037647490965491906\n",
      "H autoSugg3 0.00000019197399975254686\n",
      "H autoSugg5 0.00007807647767654497\n",
      "Bot sugg1 0.07379364758869628\n",
      "Bot sugg3 0.17153470670195797\n",
      "Bot sugg5 0.9893306517528668\n",
      "Bot autoSugg1 0.012689530054282987\n",
      "Bot autoSugg3 0.0000005847927171247986\n",
      "Bot autoSugg5 0.0021257690807412817\n",
      "sugg1 sugg3 0.7896557466934342\n",
      "sugg1 sugg5 0.20197057067689134\n",
      "sugg1 autoSugg1 0.0015233939689003567\n",
      "sugg1 autoSugg3 0.000000828282820657181\n",
      "sugg1 autoSugg5 0.00032469606803100273\n",
      "sugg3 sugg5 0.3209315725909541\n",
      "sugg3 autoSugg1 0.00534154518757244\n",
      "sugg3 autoSugg3 0.000006394968664104504\n",
      "sugg3 autoSugg5 0.0012974744847772102\n",
      "sugg5 autoSugg1 0.10784968873299865\n",
      "sugg5 autoSugg3 0.0008413297786923649\n",
      "sugg5 autoSugg5 0.0380976547893871\n",
      "autoSugg1 autoSugg3 0.03302682880272516\n",
      "autoSugg1 autoSugg5 0.5334168879524751\n",
      "autoSugg3 autoSugg5 0.1516800613197893\n"
     ]
    }
   ],
   "source": [
    "settings = {\n",
    "    'H': scoresHuman,\n",
    "    'Bot': scoresBot,\n",
    "    'sugg1': sugg1,\n",
    "    'sugg3': sugg3,\n",
    "    'sugg5': sugg5,\n",
    "    'autoSugg1': autoSugg1,\n",
    "    'autoSugg3': autoSugg3,\n",
    "    'autoSugg5': autoSugg5\n",
    "}\n",
    "\n",
    "for list1, list2 in combinations(settings.keys(), 2):\n",
    "    t, p = ttest_ind(settings[list1], settings[list2], equal_var = False)\n",
    "    print (list1, list2, float_to_str(p))"
   ]
  },
  {
   "cell_type": "code",
   "execution_count": 19,
   "metadata": {
    "scrolled": false
   },
   "outputs": [
    {
     "data": {
      "application/vnd.plotly.v1+json": {
       "config": {
        "plotlyServerURL": "https://plot.ly"
       },
       "data": [
        {
         "error_y": {
          "array": [
           0.03723869608500157
          ],
          "type": "data"
         },
         "insidetextanchor": "middle",
         "marker": {
          "color": "#B0C4DE",
          "line": {
           "color": "rgb(8,48,107)",
           "width": 1.5
          }
         },
         "name": "Human Only",
         "opacity": 0.8,
         "text": [
          "3.71"
         ],
         "textposition": "inside",
         "type": "bar",
         "x": [
          ""
         ],
         "y": [
          3.71
         ]
        },
        {
         "error_y": {
          "array": [
           0.011917756289956274
          ],
          "type": "data"
         },
         "insidetextanchor": "middle",
         "marker": {
          "color": "#A9A9A9",
          "line": {
           "color": "rgb(8,48,107)",
           "width": 1.5
          }
         },
         "name": "Chatbot Only",
         "opacity": 0.8,
         "text": [
          "3.8"
         ],
         "textposition": "inside",
         "type": "bar",
         "x": [
          ""
         ],
         "y": [
          3.8
         ]
        },
        {
         "error_y": {
          "array": [
           0.034022136460231674,
           0.03562284030041481,
           0.03684312443713202
          ],
          "type": "data"
         },
         "insidetextanchor": "middle",
         "marker": {
          "color": "lightsalmon",
          "line": {
           "color": "rgb(8,48,107)",
           "width": 1.5
          }
         },
         "name": "C1",
         "opacity": 0.8,
         "text": [
          "3.74",
          "3.75",
          "3.8"
         ],
         "textposition": "inside",
         "type": "bar",
         "x": [
          "1 Suggestion",
          "3 Suggestions",
          "5 Suggestions"
         ],
         "y": [
          3.74,
          3.75,
          3.8
         ]
        },
        {
         "error_y": {
          "array": [
           0.11229868827377765,
           0.09555644073387855,
           0.14312970031098057
          ],
          "type": "data"
         },
         "insidetextanchor": "middle",
         "marker": {
          "color": "#ffdacc",
          "line": {
           "color": "rgb(8,48,107)",
           "width": 1.5
          }
         },
         "name": "C1 - Chatbot Only",
         "opacity": 0.8,
         "text": [
          "3.83",
          "3.79",
          "3.92"
         ],
         "textposition": "inside",
         "type": "bar",
         "x": [
          "1 Suggestion",
          "3 Suggestions",
          "5 Suggestions"
         ],
         "y": [
          3.83,
          3.79,
          3.92
         ]
        },
        {
         "error_y": {
          "array": [
           0.026491557360367183,
           0.02844254233769979,
           0.02914655955974745
          ],
          "type": "data"
         },
         "insidetextanchor": "middle",
         "marker": {
          "color": "#AFEEEE",
          "line": {
           "color": "rgb(8,48,107)",
           "width": 1.5
          }
         },
         "name": "C2",
         "opacity": 0.8,
         "text": [
          "3.88",
          "3.96",
          "3.9"
         ],
         "textposition": "inside",
         "type": "bar",
         "x": [
          "1 Suggestion",
          "3 Suggestions",
          "5 Suggestions"
         ],
         "y": [
          3.88,
          3.96,
          3.9
         ]
        },
        {
         "error_y": {
          "array": [
           0.09461104194926019,
           0.1056985032930446,
           0.11289221318543739
          ],
          "type": "data"
         },
         "insidetextanchor": "middle",
         "marker": {
          "color": "#eafbfb",
          "line": {
           "color": "rgb(8,48,107)",
           "width": 1.5
          }
         },
         "name": "C2 - Chatbot Only",
         "opacity": 0.8,
         "text": [
          "3.74",
          "3.86",
          "3.9"
         ],
         "textposition": "inside",
         "type": "bar",
         "x": [
          "1 Suggestion",
          "3 Suggestions",
          "5 Suggestions"
         ],
         "y": [
          3.74,
          3.86,
          3.9
         ]
        }
       ],
       "layout": {
        "font": {
         "size": 13
        },
        "legend": {
         "orientation": "h"
        },
        "template": {
         "data": {
          "bar": [
           {
            "error_x": {
             "color": "#2a3f5f"
            },
            "error_y": {
             "color": "#2a3f5f"
            },
            "marker": {
             "line": {
              "color": "#E5ECF6",
              "width": 0.5
             }
            },
            "type": "bar"
           }
          ],
          "barpolar": [
           {
            "marker": {
             "line": {
              "color": "#E5ECF6",
              "width": 0.5
             }
            },
            "type": "barpolar"
           }
          ],
          "carpet": [
           {
            "aaxis": {
             "endlinecolor": "#2a3f5f",
             "gridcolor": "white",
             "linecolor": "white",
             "minorgridcolor": "white",
             "startlinecolor": "#2a3f5f"
            },
            "baxis": {
             "endlinecolor": "#2a3f5f",
             "gridcolor": "white",
             "linecolor": "white",
             "minorgridcolor": "white",
             "startlinecolor": "#2a3f5f"
            },
            "type": "carpet"
           }
          ],
          "choropleth": [
           {
            "colorbar": {
             "outlinewidth": 0,
             "ticks": ""
            },
            "type": "choropleth"
           }
          ],
          "contour": [
           {
            "colorbar": {
             "outlinewidth": 0,
             "ticks": ""
            },
            "colorscale": [
             [
              0,
              "#0d0887"
             ],
             [
              0.1111111111111111,
              "#46039f"
             ],
             [
              0.2222222222222222,
              "#7201a8"
             ],
             [
              0.3333333333333333,
              "#9c179e"
             ],
             [
              0.4444444444444444,
              "#bd3786"
             ],
             [
              0.5555555555555556,
              "#d8576b"
             ],
             [
              0.6666666666666666,
              "#ed7953"
             ],
             [
              0.7777777777777778,
              "#fb9f3a"
             ],
             [
              0.8888888888888888,
              "#fdca26"
             ],
             [
              1,
              "#f0f921"
             ]
            ],
            "type": "contour"
           }
          ],
          "contourcarpet": [
           {
            "colorbar": {
             "outlinewidth": 0,
             "ticks": ""
            },
            "type": "contourcarpet"
           }
          ],
          "heatmap": [
           {
            "colorbar": {
             "outlinewidth": 0,
             "ticks": ""
            },
            "colorscale": [
             [
              0,
              "#0d0887"
             ],
             [
              0.1111111111111111,
              "#46039f"
             ],
             [
              0.2222222222222222,
              "#7201a8"
             ],
             [
              0.3333333333333333,
              "#9c179e"
             ],
             [
              0.4444444444444444,
              "#bd3786"
             ],
             [
              0.5555555555555556,
              "#d8576b"
             ],
             [
              0.6666666666666666,
              "#ed7953"
             ],
             [
              0.7777777777777778,
              "#fb9f3a"
             ],
             [
              0.8888888888888888,
              "#fdca26"
             ],
             [
              1,
              "#f0f921"
             ]
            ],
            "type": "heatmap"
           }
          ],
          "heatmapgl": [
           {
            "colorbar": {
             "outlinewidth": 0,
             "ticks": ""
            },
            "colorscale": [
             [
              0,
              "#0d0887"
             ],
             [
              0.1111111111111111,
              "#46039f"
             ],
             [
              0.2222222222222222,
              "#7201a8"
             ],
             [
              0.3333333333333333,
              "#9c179e"
             ],
             [
              0.4444444444444444,
              "#bd3786"
             ],
             [
              0.5555555555555556,
              "#d8576b"
             ],
             [
              0.6666666666666666,
              "#ed7953"
             ],
             [
              0.7777777777777778,
              "#fb9f3a"
             ],
             [
              0.8888888888888888,
              "#fdca26"
             ],
             [
              1,
              "#f0f921"
             ]
            ],
            "type": "heatmapgl"
           }
          ],
          "histogram": [
           {
            "marker": {
             "colorbar": {
              "outlinewidth": 0,
              "ticks": ""
             }
            },
            "type": "histogram"
           }
          ],
          "histogram2d": [
           {
            "colorbar": {
             "outlinewidth": 0,
             "ticks": ""
            },
            "colorscale": [
             [
              0,
              "#0d0887"
             ],
             [
              0.1111111111111111,
              "#46039f"
             ],
             [
              0.2222222222222222,
              "#7201a8"
             ],
             [
              0.3333333333333333,
              "#9c179e"
             ],
             [
              0.4444444444444444,
              "#bd3786"
             ],
             [
              0.5555555555555556,
              "#d8576b"
             ],
             [
              0.6666666666666666,
              "#ed7953"
             ],
             [
              0.7777777777777778,
              "#fb9f3a"
             ],
             [
              0.8888888888888888,
              "#fdca26"
             ],
             [
              1,
              "#f0f921"
             ]
            ],
            "type": "histogram2d"
           }
          ],
          "histogram2dcontour": [
           {
            "colorbar": {
             "outlinewidth": 0,
             "ticks": ""
            },
            "colorscale": [
             [
              0,
              "#0d0887"
             ],
             [
              0.1111111111111111,
              "#46039f"
             ],
             [
              0.2222222222222222,
              "#7201a8"
             ],
             [
              0.3333333333333333,
              "#9c179e"
             ],
             [
              0.4444444444444444,
              "#bd3786"
             ],
             [
              0.5555555555555556,
              "#d8576b"
             ],
             [
              0.6666666666666666,
              "#ed7953"
             ],
             [
              0.7777777777777778,
              "#fb9f3a"
             ],
             [
              0.8888888888888888,
              "#fdca26"
             ],
             [
              1,
              "#f0f921"
             ]
            ],
            "type": "histogram2dcontour"
           }
          ],
          "mesh3d": [
           {
            "colorbar": {
             "outlinewidth": 0,
             "ticks": ""
            },
            "type": "mesh3d"
           }
          ],
          "parcoords": [
           {
            "line": {
             "colorbar": {
              "outlinewidth": 0,
              "ticks": ""
             }
            },
            "type": "parcoords"
           }
          ],
          "pie": [
           {
            "automargin": true,
            "type": "pie"
           }
          ],
          "scatter": [
           {
            "marker": {
             "colorbar": {
              "outlinewidth": 0,
              "ticks": ""
             }
            },
            "type": "scatter"
           }
          ],
          "scatter3d": [
           {
            "line": {
             "colorbar": {
              "outlinewidth": 0,
              "ticks": ""
             }
            },
            "marker": {
             "colorbar": {
              "outlinewidth": 0,
              "ticks": ""
             }
            },
            "type": "scatter3d"
           }
          ],
          "scattercarpet": [
           {
            "marker": {
             "colorbar": {
              "outlinewidth": 0,
              "ticks": ""
             }
            },
            "type": "scattercarpet"
           }
          ],
          "scattergeo": [
           {
            "marker": {
             "colorbar": {
              "outlinewidth": 0,
              "ticks": ""
             }
            },
            "type": "scattergeo"
           }
          ],
          "scattergl": [
           {
            "marker": {
             "colorbar": {
              "outlinewidth": 0,
              "ticks": ""
             }
            },
            "type": "scattergl"
           }
          ],
          "scattermapbox": [
           {
            "marker": {
             "colorbar": {
              "outlinewidth": 0,
              "ticks": ""
             }
            },
            "type": "scattermapbox"
           }
          ],
          "scatterpolar": [
           {
            "marker": {
             "colorbar": {
              "outlinewidth": 0,
              "ticks": ""
             }
            },
            "type": "scatterpolar"
           }
          ],
          "scatterpolargl": [
           {
            "marker": {
             "colorbar": {
              "outlinewidth": 0,
              "ticks": ""
             }
            },
            "type": "scatterpolargl"
           }
          ],
          "scatterternary": [
           {
            "marker": {
             "colorbar": {
              "outlinewidth": 0,
              "ticks": ""
             }
            },
            "type": "scatterternary"
           }
          ],
          "surface": [
           {
            "colorbar": {
             "outlinewidth": 0,
             "ticks": ""
            },
            "colorscale": [
             [
              0,
              "#0d0887"
             ],
             [
              0.1111111111111111,
              "#46039f"
             ],
             [
              0.2222222222222222,
              "#7201a8"
             ],
             [
              0.3333333333333333,
              "#9c179e"
             ],
             [
              0.4444444444444444,
              "#bd3786"
             ],
             [
              0.5555555555555556,
              "#d8576b"
             ],
             [
              0.6666666666666666,
              "#ed7953"
             ],
             [
              0.7777777777777778,
              "#fb9f3a"
             ],
             [
              0.8888888888888888,
              "#fdca26"
             ],
             [
              1,
              "#f0f921"
             ]
            ],
            "type": "surface"
           }
          ],
          "table": [
           {
            "cells": {
             "fill": {
              "color": "#EBF0F8"
             },
             "line": {
              "color": "white"
             }
            },
            "header": {
             "fill": {
              "color": "#C8D4E3"
             },
             "line": {
              "color": "white"
             }
            },
            "type": "table"
           }
          ]
         },
         "layout": {
          "annotationdefaults": {
           "arrowcolor": "#2a3f5f",
           "arrowhead": 0,
           "arrowwidth": 1
          },
          "coloraxis": {
           "colorbar": {
            "outlinewidth": 0,
            "ticks": ""
           }
          },
          "colorscale": {
           "diverging": [
            [
             0,
             "#8e0152"
            ],
            [
             0.1,
             "#c51b7d"
            ],
            [
             0.2,
             "#de77ae"
            ],
            [
             0.3,
             "#f1b6da"
            ],
            [
             0.4,
             "#fde0ef"
            ],
            [
             0.5,
             "#f7f7f7"
            ],
            [
             0.6,
             "#e6f5d0"
            ],
            [
             0.7,
             "#b8e186"
            ],
            [
             0.8,
             "#7fbc41"
            ],
            [
             0.9,
             "#4d9221"
            ],
            [
             1,
             "#276419"
            ]
           ],
           "sequential": [
            [
             0,
             "#0d0887"
            ],
            [
             0.1111111111111111,
             "#46039f"
            ],
            [
             0.2222222222222222,
             "#7201a8"
            ],
            [
             0.3333333333333333,
             "#9c179e"
            ],
            [
             0.4444444444444444,
             "#bd3786"
            ],
            [
             0.5555555555555556,
             "#d8576b"
            ],
            [
             0.6666666666666666,
             "#ed7953"
            ],
            [
             0.7777777777777778,
             "#fb9f3a"
            ],
            [
             0.8888888888888888,
             "#fdca26"
            ],
            [
             1,
             "#f0f921"
            ]
           ],
           "sequentialminus": [
            [
             0,
             "#0d0887"
            ],
            [
             0.1111111111111111,
             "#46039f"
            ],
            [
             0.2222222222222222,
             "#7201a8"
            ],
            [
             0.3333333333333333,
             "#9c179e"
            ],
            [
             0.4444444444444444,
             "#bd3786"
            ],
            [
             0.5555555555555556,
             "#d8576b"
            ],
            [
             0.6666666666666666,
             "#ed7953"
            ],
            [
             0.7777777777777778,
             "#fb9f3a"
            ],
            [
             0.8888888888888888,
             "#fdca26"
            ],
            [
             1,
             "#f0f921"
            ]
           ]
          },
          "colorway": [
           "#636efa",
           "#EF553B",
           "#00cc96",
           "#ab63fa",
           "#FFA15A",
           "#19d3f3",
           "#FF6692",
           "#B6E880",
           "#FF97FF",
           "#FECB52"
          ],
          "font": {
           "color": "#2a3f5f"
          },
          "geo": {
           "bgcolor": "white",
           "lakecolor": "white",
           "landcolor": "#E5ECF6",
           "showlakes": true,
           "showland": true,
           "subunitcolor": "white"
          },
          "hoverlabel": {
           "align": "left"
          },
          "hovermode": "closest",
          "mapbox": {
           "style": "light"
          },
          "paper_bgcolor": "white",
          "plot_bgcolor": "#E5ECF6",
          "polar": {
           "angularaxis": {
            "gridcolor": "white",
            "linecolor": "white",
            "ticks": ""
           },
           "bgcolor": "#E5ECF6",
           "radialaxis": {
            "gridcolor": "white",
            "linecolor": "white",
            "ticks": ""
           }
          },
          "scene": {
           "xaxis": {
            "backgroundcolor": "#E5ECF6",
            "gridcolor": "white",
            "gridwidth": 2,
            "linecolor": "white",
            "showbackground": true,
            "ticks": "",
            "zerolinecolor": "white"
           },
           "yaxis": {
            "backgroundcolor": "#E5ECF6",
            "gridcolor": "white",
            "gridwidth": 2,
            "linecolor": "white",
            "showbackground": true,
            "ticks": "",
            "zerolinecolor": "white"
           },
           "zaxis": {
            "backgroundcolor": "#E5ECF6",
            "gridcolor": "white",
            "gridwidth": 2,
            "linecolor": "white",
            "showbackground": true,
            "ticks": "",
            "zerolinecolor": "white"
           }
          },
          "shapedefaults": {
           "line": {
            "color": "#2a3f5f"
           }
          },
          "ternary": {
           "aaxis": {
            "gridcolor": "white",
            "linecolor": "white",
            "ticks": ""
           },
           "baxis": {
            "gridcolor": "white",
            "linecolor": "white",
            "ticks": ""
           },
           "bgcolor": "#E5ECF6",
           "caxis": {
            "gridcolor": "white",
            "linecolor": "white",
            "ticks": ""
           }
          },
          "title": {
           "x": 0.05
          },
          "xaxis": {
           "automargin": true,
           "gridcolor": "white",
           "linecolor": "white",
           "ticks": "",
           "title": {
            "standoff": 15
           },
           "zerolinecolor": "white",
           "zerolinewidth": 2
          },
          "yaxis": {
           "automargin": true,
           "gridcolor": "white",
           "linecolor": "white",
           "ticks": "",
           "title": {
            "standoff": 15
           },
           "zerolinecolor": "white",
           "zerolinewidth": 2
          }
         }
        },
        "yaxis": {
         "range": [
          3,
          4.2
         ]
        }
       }
      },
      "text/html": [
       "<div>\n",
       "        \n",
       "        \n",
       "            <div id=\"d3bbf9c5-3d85-41dd-9cb6-0500e4cdb250\" class=\"plotly-graph-div\" style=\"height:525px; width:100%;\"></div>\n",
       "            <script type=\"text/javascript\">\n",
       "                require([\"plotly\"], function(Plotly) {\n",
       "                    window.PLOTLYENV=window.PLOTLYENV || {};\n",
       "                    \n",
       "                if (document.getElementById(\"d3bbf9c5-3d85-41dd-9cb6-0500e4cdb250\")) {\n",
       "                    Plotly.newPlot(\n",
       "                        'd3bbf9c5-3d85-41dd-9cb6-0500e4cdb250',\n",
       "                        [{\"error_y\": {\"array\": [0.03723869608500157], \"type\": \"data\"}, \"insidetextanchor\": \"middle\", \"marker\": {\"color\": \"#B0C4DE\", \"line\": {\"color\": \"rgb(8,48,107)\", \"width\": 1.5}}, \"name\": \"Human Only\", \"opacity\": 0.8, \"text\": [\"3.71\"], \"textposition\": \"inside\", \"type\": \"bar\", \"x\": [\"\"], \"y\": [3.71]}, {\"error_y\": {\"array\": [0.011917756289956274], \"type\": \"data\"}, \"insidetextanchor\": \"middle\", \"marker\": {\"color\": \"#A9A9A9\", \"line\": {\"color\": \"rgb(8,48,107)\", \"width\": 1.5}}, \"name\": \"Chatbot Only\", \"opacity\": 0.8, \"text\": [\"3.8\"], \"textposition\": \"inside\", \"type\": \"bar\", \"x\": [\"\"], \"y\": [3.8]}, {\"error_y\": {\"array\": [0.034022136460231674, 0.03562284030041481, 0.03684312443713202], \"type\": \"data\"}, \"insidetextanchor\": \"middle\", \"marker\": {\"color\": \"lightsalmon\", \"line\": {\"color\": \"rgb(8,48,107)\", \"width\": 1.5}}, \"name\": \"C1\", \"opacity\": 0.8, \"text\": [\"3.74\", \"3.75\", \"3.8\"], \"textposition\": \"inside\", \"type\": \"bar\", \"x\": [\"1 Suggestion\", \"3 Suggestions\", \"5 Suggestions\"], \"y\": [3.74, 3.75, 3.8]}, {\"error_y\": {\"array\": [0.11229868827377765, 0.09555644073387855, 0.14312970031098057], \"type\": \"data\"}, \"insidetextanchor\": \"middle\", \"marker\": {\"color\": \"#ffdacc\", \"line\": {\"color\": \"rgb(8,48,107)\", \"width\": 1.5}}, \"name\": \"C1 - Chatbot Only\", \"opacity\": 0.8, \"text\": [\"3.83\", \"3.79\", \"3.92\"], \"textposition\": \"inside\", \"type\": \"bar\", \"x\": [\"1 Suggestion\", \"3 Suggestions\", \"5 Suggestions\"], \"y\": [3.83, 3.79, 3.92]}, {\"error_y\": {\"array\": [0.026491557360367183, 0.02844254233769979, 0.02914655955974745], \"type\": \"data\"}, \"insidetextanchor\": \"middle\", \"marker\": {\"color\": \"#AFEEEE\", \"line\": {\"color\": \"rgb(8,48,107)\", \"width\": 1.5}}, \"name\": \"C2\", \"opacity\": 0.8, \"text\": [\"3.88\", \"3.96\", \"3.9\"], \"textposition\": \"inside\", \"type\": \"bar\", \"x\": [\"1 Suggestion\", \"3 Suggestions\", \"5 Suggestions\"], \"y\": [3.88, 3.96, 3.9]}, {\"error_y\": {\"array\": [0.09461104194926019, 0.1056985032930446, 0.11289221318543739], \"type\": \"data\"}, \"insidetextanchor\": \"middle\", \"marker\": {\"color\": \"#eafbfb\", \"line\": {\"color\": \"rgb(8,48,107)\", \"width\": 1.5}}, \"name\": \"C2 - Chatbot Only\", \"opacity\": 0.8, \"text\": [\"3.74\", \"3.86\", \"3.9\"], \"textposition\": \"inside\", \"type\": \"bar\", \"x\": [\"1 Suggestion\", \"3 Suggestions\", \"5 Suggestions\"], \"y\": [3.74, 3.86, 3.9]}],\n",
       "                        {\"font\": {\"size\": 13}, \"legend\": {\"orientation\": \"h\"}, \"template\": {\"data\": {\"bar\": [{\"error_x\": {\"color\": \"#2a3f5f\"}, \"error_y\": {\"color\": \"#2a3f5f\"}, \"marker\": {\"line\": {\"color\": \"#E5ECF6\", \"width\": 0.5}}, \"type\": \"bar\"}], \"barpolar\": [{\"marker\": {\"line\": {\"color\": \"#E5ECF6\", \"width\": 0.5}}, \"type\": \"barpolar\"}], \"carpet\": [{\"aaxis\": {\"endlinecolor\": \"#2a3f5f\", \"gridcolor\": \"white\", \"linecolor\": \"white\", \"minorgridcolor\": \"white\", \"startlinecolor\": \"#2a3f5f\"}, \"baxis\": {\"endlinecolor\": \"#2a3f5f\", \"gridcolor\": \"white\", \"linecolor\": \"white\", \"minorgridcolor\": \"white\", \"startlinecolor\": \"#2a3f5f\"}, \"type\": \"carpet\"}], \"choropleth\": [{\"colorbar\": {\"outlinewidth\": 0, \"ticks\": \"\"}, \"type\": \"choropleth\"}], \"contour\": [{\"colorbar\": {\"outlinewidth\": 0, \"ticks\": \"\"}, \"colorscale\": [[0.0, \"#0d0887\"], [0.1111111111111111, \"#46039f\"], [0.2222222222222222, \"#7201a8\"], [0.3333333333333333, \"#9c179e\"], [0.4444444444444444, \"#bd3786\"], [0.5555555555555556, \"#d8576b\"], [0.6666666666666666, \"#ed7953\"], [0.7777777777777778, \"#fb9f3a\"], [0.8888888888888888, \"#fdca26\"], [1.0, \"#f0f921\"]], \"type\": \"contour\"}], \"contourcarpet\": [{\"colorbar\": {\"outlinewidth\": 0, \"ticks\": \"\"}, \"type\": \"contourcarpet\"}], \"heatmap\": [{\"colorbar\": {\"outlinewidth\": 0, \"ticks\": \"\"}, \"colorscale\": [[0.0, \"#0d0887\"], [0.1111111111111111, \"#46039f\"], [0.2222222222222222, \"#7201a8\"], [0.3333333333333333, \"#9c179e\"], [0.4444444444444444, \"#bd3786\"], [0.5555555555555556, \"#d8576b\"], [0.6666666666666666, \"#ed7953\"], [0.7777777777777778, \"#fb9f3a\"], [0.8888888888888888, \"#fdca26\"], [1.0, \"#f0f921\"]], \"type\": \"heatmap\"}], \"heatmapgl\": [{\"colorbar\": {\"outlinewidth\": 0, \"ticks\": \"\"}, \"colorscale\": [[0.0, \"#0d0887\"], [0.1111111111111111, \"#46039f\"], [0.2222222222222222, \"#7201a8\"], [0.3333333333333333, \"#9c179e\"], [0.4444444444444444, \"#bd3786\"], [0.5555555555555556, \"#d8576b\"], [0.6666666666666666, \"#ed7953\"], [0.7777777777777778, \"#fb9f3a\"], [0.8888888888888888, \"#fdca26\"], [1.0, \"#f0f921\"]], \"type\": \"heatmapgl\"}], \"histogram\": [{\"marker\": {\"colorbar\": {\"outlinewidth\": 0, \"ticks\": \"\"}}, \"type\": \"histogram\"}], \"histogram2d\": [{\"colorbar\": {\"outlinewidth\": 0, \"ticks\": \"\"}, \"colorscale\": [[0.0, \"#0d0887\"], [0.1111111111111111, \"#46039f\"], [0.2222222222222222, \"#7201a8\"], [0.3333333333333333, \"#9c179e\"], [0.4444444444444444, \"#bd3786\"], [0.5555555555555556, \"#d8576b\"], [0.6666666666666666, \"#ed7953\"], [0.7777777777777778, \"#fb9f3a\"], [0.8888888888888888, \"#fdca26\"], [1.0, \"#f0f921\"]], \"type\": \"histogram2d\"}], \"histogram2dcontour\": [{\"colorbar\": {\"outlinewidth\": 0, \"ticks\": \"\"}, \"colorscale\": [[0.0, \"#0d0887\"], [0.1111111111111111, \"#46039f\"], [0.2222222222222222, \"#7201a8\"], [0.3333333333333333, \"#9c179e\"], [0.4444444444444444, \"#bd3786\"], [0.5555555555555556, \"#d8576b\"], [0.6666666666666666, \"#ed7953\"], [0.7777777777777778, \"#fb9f3a\"], [0.8888888888888888, \"#fdca26\"], [1.0, \"#f0f921\"]], \"type\": \"histogram2dcontour\"}], \"mesh3d\": [{\"colorbar\": {\"outlinewidth\": 0, \"ticks\": \"\"}, \"type\": \"mesh3d\"}], \"parcoords\": [{\"line\": {\"colorbar\": {\"outlinewidth\": 0, \"ticks\": \"\"}}, \"type\": \"parcoords\"}], \"pie\": [{\"automargin\": true, \"type\": \"pie\"}], \"scatter\": [{\"marker\": {\"colorbar\": {\"outlinewidth\": 0, \"ticks\": \"\"}}, \"type\": \"scatter\"}], \"scatter3d\": [{\"line\": {\"colorbar\": {\"outlinewidth\": 0, \"ticks\": \"\"}}, \"marker\": {\"colorbar\": {\"outlinewidth\": 0, \"ticks\": \"\"}}, \"type\": \"scatter3d\"}], \"scattercarpet\": [{\"marker\": {\"colorbar\": {\"outlinewidth\": 0, \"ticks\": \"\"}}, \"type\": \"scattercarpet\"}], \"scattergeo\": [{\"marker\": {\"colorbar\": {\"outlinewidth\": 0, \"ticks\": \"\"}}, \"type\": \"scattergeo\"}], \"scattergl\": [{\"marker\": {\"colorbar\": {\"outlinewidth\": 0, \"ticks\": \"\"}}, \"type\": \"scattergl\"}], \"scattermapbox\": [{\"marker\": {\"colorbar\": {\"outlinewidth\": 0, \"ticks\": \"\"}}, \"type\": \"scattermapbox\"}], \"scatterpolar\": [{\"marker\": {\"colorbar\": {\"outlinewidth\": 0, \"ticks\": \"\"}}, \"type\": \"scatterpolar\"}], \"scatterpolargl\": [{\"marker\": {\"colorbar\": {\"outlinewidth\": 0, \"ticks\": \"\"}}, \"type\": \"scatterpolargl\"}], \"scatterternary\": [{\"marker\": {\"colorbar\": {\"outlinewidth\": 0, \"ticks\": \"\"}}, \"type\": \"scatterternary\"}], \"surface\": [{\"colorbar\": {\"outlinewidth\": 0, \"ticks\": \"\"}, \"colorscale\": [[0.0, \"#0d0887\"], [0.1111111111111111, \"#46039f\"], [0.2222222222222222, \"#7201a8\"], [0.3333333333333333, \"#9c179e\"], [0.4444444444444444, \"#bd3786\"], [0.5555555555555556, \"#d8576b\"], [0.6666666666666666, \"#ed7953\"], [0.7777777777777778, \"#fb9f3a\"], [0.8888888888888888, \"#fdca26\"], [1.0, \"#f0f921\"]], \"type\": \"surface\"}], \"table\": [{\"cells\": {\"fill\": {\"color\": \"#EBF0F8\"}, \"line\": {\"color\": \"white\"}}, \"header\": {\"fill\": {\"color\": \"#C8D4E3\"}, \"line\": {\"color\": \"white\"}}, \"type\": \"table\"}]}, \"layout\": {\"annotationdefaults\": {\"arrowcolor\": \"#2a3f5f\", \"arrowhead\": 0, \"arrowwidth\": 1}, \"coloraxis\": {\"colorbar\": {\"outlinewidth\": 0, \"ticks\": \"\"}}, \"colorscale\": {\"diverging\": [[0, \"#8e0152\"], [0.1, \"#c51b7d\"], [0.2, \"#de77ae\"], [0.3, \"#f1b6da\"], [0.4, \"#fde0ef\"], [0.5, \"#f7f7f7\"], [0.6, \"#e6f5d0\"], [0.7, \"#b8e186\"], [0.8, \"#7fbc41\"], [0.9, \"#4d9221\"], [1, \"#276419\"]], \"sequential\": [[0.0, \"#0d0887\"], [0.1111111111111111, \"#46039f\"], [0.2222222222222222, \"#7201a8\"], [0.3333333333333333, \"#9c179e\"], [0.4444444444444444, \"#bd3786\"], [0.5555555555555556, \"#d8576b\"], [0.6666666666666666, \"#ed7953\"], [0.7777777777777778, \"#fb9f3a\"], [0.8888888888888888, \"#fdca26\"], [1.0, \"#f0f921\"]], \"sequentialminus\": [[0.0, \"#0d0887\"], [0.1111111111111111, \"#46039f\"], [0.2222222222222222, \"#7201a8\"], [0.3333333333333333, \"#9c179e\"], [0.4444444444444444, \"#bd3786\"], [0.5555555555555556, \"#d8576b\"], [0.6666666666666666, \"#ed7953\"], [0.7777777777777778, \"#fb9f3a\"], [0.8888888888888888, \"#fdca26\"], [1.0, \"#f0f921\"]]}, \"colorway\": [\"#636efa\", \"#EF553B\", \"#00cc96\", \"#ab63fa\", \"#FFA15A\", \"#19d3f3\", \"#FF6692\", \"#B6E880\", \"#FF97FF\", \"#FECB52\"], \"font\": {\"color\": \"#2a3f5f\"}, \"geo\": {\"bgcolor\": \"white\", \"lakecolor\": \"white\", \"landcolor\": \"#E5ECF6\", \"showlakes\": true, \"showland\": true, \"subunitcolor\": \"white\"}, \"hoverlabel\": {\"align\": \"left\"}, \"hovermode\": \"closest\", \"mapbox\": {\"style\": \"light\"}, \"paper_bgcolor\": \"white\", \"plot_bgcolor\": \"#E5ECF6\", \"polar\": {\"angularaxis\": {\"gridcolor\": \"white\", \"linecolor\": \"white\", \"ticks\": \"\"}, \"bgcolor\": \"#E5ECF6\", \"radialaxis\": {\"gridcolor\": \"white\", \"linecolor\": \"white\", \"ticks\": \"\"}}, \"scene\": {\"xaxis\": {\"backgroundcolor\": \"#E5ECF6\", \"gridcolor\": \"white\", \"gridwidth\": 2, \"linecolor\": \"white\", \"showbackground\": true, \"ticks\": \"\", \"zerolinecolor\": \"white\"}, \"yaxis\": {\"backgroundcolor\": \"#E5ECF6\", \"gridcolor\": \"white\", \"gridwidth\": 2, \"linecolor\": \"white\", \"showbackground\": true, \"ticks\": \"\", \"zerolinecolor\": \"white\"}, \"zaxis\": {\"backgroundcolor\": \"#E5ECF6\", \"gridcolor\": \"white\", \"gridwidth\": 2, \"linecolor\": \"white\", \"showbackground\": true, \"ticks\": \"\", \"zerolinecolor\": \"white\"}}, \"shapedefaults\": {\"line\": {\"color\": \"#2a3f5f\"}}, \"ternary\": {\"aaxis\": {\"gridcolor\": \"white\", \"linecolor\": \"white\", \"ticks\": \"\"}, \"baxis\": {\"gridcolor\": \"white\", \"linecolor\": \"white\", \"ticks\": \"\"}, \"bgcolor\": \"#E5ECF6\", \"caxis\": {\"gridcolor\": \"white\", \"linecolor\": \"white\", \"ticks\": \"\"}}, \"title\": {\"x\": 0.05}, \"xaxis\": {\"automargin\": true, \"gridcolor\": \"white\", \"linecolor\": \"white\", \"ticks\": \"\", \"title\": {\"standoff\": 15}, \"zerolinecolor\": \"white\", \"zerolinewidth\": 2}, \"yaxis\": {\"automargin\": true, \"gridcolor\": \"white\", \"linecolor\": \"white\", \"ticks\": \"\", \"title\": {\"standoff\": 15}, \"zerolinecolor\": \"white\", \"zerolinewidth\": 2}}}, \"yaxis\": {\"range\": [3, 4.2]}},\n",
       "                        {\"responsive\": true}\n",
       "                    ).then(function(){\n",
       "                            \n",
       "var gd = document.getElementById('d3bbf9c5-3d85-41dd-9cb6-0500e4cdb250');\n",
       "var x = new MutationObserver(function (mutations, observer) {{\n",
       "        var display = window.getComputedStyle(gd).display;\n",
       "        if (!display || display === 'none') {{\n",
       "            console.log([gd, 'removed!']);\n",
       "            Plotly.purge(gd);\n",
       "            observer.disconnect();\n",
       "        }}\n",
       "}});\n",
       "\n",
       "// Listen for the removal of the full notebook cells\n",
       "var notebookContainer = gd.closest('#notebook-container');\n",
       "if (notebookContainer) {{\n",
       "    x.observe(notebookContainer, {childList: true});\n",
       "}}\n",
       "\n",
       "// Listen for the clearing of the current output cell\n",
       "var outputEl = gd.closest('.output');\n",
       "if (outputEl) {{\n",
       "    x.observe(outputEl, {childList: true});\n",
       "}}\n",
       "\n",
       "                        })\n",
       "                };\n",
       "                });\n",
       "            </script>\n",
       "        </div>"
      ]
     },
     "metadata": {},
     "output_type": "display_data"
    }
   ],
   "source": [
    "colors = ['#FAEBD7', '#FFA07A', '#B0C4DE', '#AFEEEE', '#8FBC8F']\n",
    "x = ['1 Suggestion', '3 Suggestions', '5 Suggestions']\n",
    "fig = go.Figure()\n",
    "\n",
    "xHuman = ['']\n",
    "yHuman = [scoresHuman]\n",
    "yHumanErorr = [np.std(z)/math.sqrt(len(z)) for z in yHuman] \n",
    "yHuman = [round(statistics.mean(z), 2) for z in yHuman]\n",
    "\n",
    "fig.add_trace(go.Bar(\n",
    "    name='Human Only',\n",
    "    x=xHuman, y=yHuman, text=yHuman, textposition='inside',insidetextanchor='middle',\n",
    "    marker_color='#B0C4DE',\n",
    "    marker_line_color='rgb(8,48,107)', marker_line_width=1.5, opacity=0.8,\n",
    "    error_y=dict(type='data', array=yHumanErorr)\n",
    "))\n",
    "\n",
    "xBot = ['']\n",
    "yBot = [scoresBot]\n",
    "yBotErorr = [np.std(z)/math.sqrt(len(z)) for z in yBot] \n",
    "yBot = [round(statistics.mean(z), 2) for z in yBot]\n",
    "\n",
    "fig.add_trace(go.Bar(\n",
    "    name='Chatbot Only',\n",
    "    x=xBot, y=yBot, text=yBot, textposition='inside',insidetextanchor='middle',\n",
    "    marker_color='#A9A9A9',\n",
    "    marker_line_color='rgb(8,48,107)', marker_line_width=1.5, opacity=0.8,\n",
    "    error_y=dict(type='data', array=yBotErorr)\n",
    "))\n",
    "\n",
    "\n",
    "ySuggOnly = [sugg1, sugg3, sugg5]\n",
    "ySuggOnlyErorr = [np.std(z)/math.sqrt(len(z)) for z in ySuggOnly] \n",
    "ySuggOnly = [round(statistics.mean(z), 2) for z in ySuggOnly]\n",
    "\n",
    "fig.add_trace(go.Bar(\n",
    "    name='C1',\n",
    "    x=x, y=ySuggOnly, text=ySuggOnly, textposition='inside',insidetextanchor='middle',\n",
    "    marker_color='lightsalmon',\n",
    "    marker_line_color='rgb(8,48,107)', marker_line_width=1.5, opacity=0.8,\n",
    "    error_y=dict(type='data', array=ySuggOnlyErorr)\n",
    "))\n",
    "\n",
    "ySuggOnlyBot = [sugg1Bot, sugg3Bot, sugg5Bot]\n",
    "ySuggOnlyBotErorr = [np.std(z)/math.sqrt(len(z)) for z in ySuggOnlyBot] \n",
    "ySuggOnlyBot = [round(statistics.mean(z), 2) for z in ySuggOnlyBot]\n",
    "\n",
    "fig.add_trace(go.Bar(\n",
    "    name='C1 - Chatbot Only',\n",
    "    x=x, y=ySuggOnlyBot, text=ySuggOnlyBot, textposition='inside',insidetextanchor='middle',\n",
    "    marker_color='#ffdacc',\n",
    "    marker_line_color='rgb(8,48,107)', marker_line_width=1.5, opacity=0.8,\n",
    "    error_y=dict(type='data', array=ySuggOnlyBotErorr)\n",
    "))\n",
    "\n",
    "\n",
    "yAutoSugg = [autoSugg1, autoSugg3, autoSugg5]\n",
    "yAutoSuggErorr = [np.std(z)/math.sqrt(len(z)) for z in yAutoSugg] \n",
    "yAutoSugg = [round(statistics.mean(z), 2) for z in yAutoSugg]\n",
    "\n",
    "fig.add_trace(go.Bar(\n",
    "    name='C2',\n",
    "    x=x, y=yAutoSugg, text=yAutoSugg, textposition='inside',insidetextanchor='middle',\n",
    "    marker_color='#AFEEEE',\n",
    "    marker_line_color='rgb(8,48,107)', marker_line_width=1.5, opacity=0.8,\n",
    "    error_y=dict(type='data', array=yAutoSuggErorr)\n",
    "))\n",
    "\n",
    "\n",
    "yAutoSuggBot = [autoSugg1Bot, autoSugg3Bot, autoSugg5Bot]\n",
    "yAutoSuggBotErorr = [np.std(z)/math.sqrt(len(z)) for z in yAutoSuggBot] \n",
    "yAutoSuggBot = [round(statistics.mean(z), 2) for z in yAutoSuggBot]\n",
    "\n",
    "fig.add_trace(go.Bar(\n",
    "    name='C2 - Chatbot Only',\n",
    "    x=x, y=yAutoSuggBot, text=yAutoSuggBot, textposition='inside',insidetextanchor='middle',\n",
    "    marker_color='#eafbfb',\n",
    "    marker_line_color='rgb(8,48,107)', marker_line_width=1.5, opacity=0.8,\n",
    "    error_y=dict(type='data', array=yAutoSuggBotErorr)\n",
    "))\n",
    "\n",
    "\n",
    "fig.update_layout(\n",
    "    font=dict(\n",
    "        size=13\n",
    "    )\n",
    ")\n",
    "fig.update_yaxes(range=[3, 4.2])\n",
    "\n",
    "fig.update_layout(legend_orientation=\"h\")\n",
    "fig.show()"
   ]
  },
  {
   "cell_type": "code",
   "execution_count": null,
   "metadata": {},
   "outputs": [],
   "source": []
  },
  {
   "cell_type": "code",
   "execution_count": null,
   "metadata": {},
   "outputs": [],
   "source": []
  }
 ],
 "metadata": {
  "kernelspec": {
   "display_name": "Python 3",
   "language": "python",
   "name": "python3"
  },
  "language_info": {
   "codemirror_mode": {
    "name": "ipython",
    "version": 3
   },
   "file_extension": ".py",
   "mimetype": "text/x-python",
   "name": "python",
   "nbconvert_exporter": "python",
   "pygments_lexer": "ipython3",
   "version": "3.7.6"
  }
 },
 "nbformat": 4,
 "nbformat_minor": 4
}
