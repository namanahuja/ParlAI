{
 "cells": [
  {
   "cell_type": "code",
   "execution_count": 1,
   "metadata": {},
   "outputs": [],
   "source": [
    "import os\n",
    "from pathlib import Path\n",
    "import sys\n",
    "import os\n",
    "import _pickle as pickle\n",
    "import json\n",
    "import copy \n",
    "import pandas\n",
    "import numpy as np\n",
    "import matplotlib.pyplot as plt \n",
    "from matplotlib.backends.backend_pdf import PdfPages\n",
    "import csv\n",
    "import json\n",
    "from collections import Counter\n",
    "import statistics "
   ]
  },
  {
   "cell_type": "markdown",
   "metadata": {},
   "source": [
    "# Keystrokes"
   ]
  },
  {
   "cell_type": "code",
   "execution_count": 3,
   "metadata": {},
   "outputs": [],
   "source": [
    "keyStrokes = []\n",
    "for root, dirs, files in os.walk(\"../clean\"):\n",
    "    for file in files:\n",
    "        if file.endswith(\".json\"):\n",
    "            fileName = os.path.join(root, file)\n",
    "            with open(fileName) as json_file:\n",
    "                try:\n",
    "                    data = json.load(json_file)\n",
    "                    dialogs = data['dialogs']\n",
    "                    \n",
    "                    for i in range(1, len(dialogs)):\n",
    "                        keyStrokes.append(len(dialogs[i]['loggedData']))\n",
    "                    \n",
    "                    \n",
    "                except Exception as e: print(e)\n",
    "                "
   ]
  },
  {
   "cell_type": "code",
   "execution_count": null,
   "metadata": {},
   "outputs": [],
   "source": []
  },
  {
   "cell_type": "code",
   "execution_count": 6,
   "metadata": {},
   "outputs": [
    {
     "name": "stdout",
     "output_type": "stream",
     "text": [
      "Overall keystrokes in conversations: 30.24542405366555\n"
     ]
    }
   ],
   "source": [
    "print(\"Overall keystrokes in conversations: \" + str(statistics.mean(keyStrokes)))"
   ]
  },
  {
   "cell_type": "code",
   "execution_count": null,
   "metadata": {},
   "outputs": [],
   "source": []
  },
  {
   "cell_type": "code",
   "execution_count": 7,
   "metadata": {},
   "outputs": [],
   "source": [
    "Set1 = []\n",
    "Set2 = []\n",
    "Set3 = []\n",
    "Set4 = []\n",
    "Set5 = []\n",
    "\n",
    "for root, dirs, files in os.walk(\"../clean\"):\n",
    "    for file in files:\n",
    "        if file.endswith(\".json\"):\n",
    "            fileName = os.path.join(root, file)\n",
    "            with open(fileName) as json_file:\n",
    "                try:\n",
    "                    data = json.load(json_file)\n",
    "                    dialogs = data['dialogs']\n",
    "                    \n",
    "                    if(data['settingNumber'] == 1):\n",
    "                        for i in range(1, len(dialogs)):\n",
    "                            Set1.append(len(dialogs[i]['loggedData']))\n",
    "                    \n",
    "                    elif(data['settingNumber'] == 2):\n",
    "                        for i in range(1, len(dialogs)):\n",
    "                            Set2.append(len(dialogs[i]['loggedData']))\n",
    "                    \n",
    "                    elif(data['settingNumber'] == 3):\n",
    "                        for i in range(1, len(dialogs)):\n",
    "                            Set3.append(len(dialogs[i]['loggedData']))\n",
    "                        \n",
    "                    elif(data['settingNumber'] == 4):\n",
    "                        for i in range(1, len(dialogs)):\n",
    "                            Set4.append(len(dialogs[i]['loggedData']))\n",
    "                    \n",
    "                    else:\n",
    "                        for i in range(1, len(dialogs)):\n",
    "                            Set5.append(len(dialogs[i]['loggedData']))\n",
    " \n",
    "                    \n",
    "                    \n",
    "                except Exception as e: print(e)"
   ]
  },
  {
   "cell_type": "code",
   "execution_count": 8,
   "metadata": {},
   "outputs": [
    {
     "name": "stdout",
     "output_type": "stream",
     "text": [
      "Setting 1 time taken: 65.7275\n",
      "Setting 2 time taken: 27.437204591492236\n",
      "Setting 3 time taken: 21.391555285540704\n",
      "Setting 4 time taken: 39.322641509433964\n",
      "Setting 5 time taken: 29.553492484526966\n"
     ]
    }
   ],
   "source": [
    "print(\"Setting 1 time taken: \" + str(statistics.mean(Set1)))\n",
    "print(\"Setting 2 time taken: \" + str(statistics.mean(Set2)))\n",
    "print(\"Setting 3 time taken: \" + str(statistics.mean(Set3)))\n",
    "print(\"Setting 4 time taken: \" + str(statistics.mean(Set4)))\n",
    "print(\"Setting 5 time taken: \" + str(statistics.mean(Set5)))"
   ]
  },
  {
   "cell_type": "markdown",
   "metadata": {},
   "source": [
    "## Setting 2"
   ]
  },
  {
   "cell_type": "code",
   "execution_count": 9,
   "metadata": {},
   "outputs": [],
   "source": [
    "sugg1 = []\n",
    "sugg3 = []\n",
    "sugg5 = []\n",
    "\n",
    "autoSugg1 = []\n",
    "autoSugg3 = []\n",
    "autoSugg5 = []\n",
    "\n",
    "\n",
    "for root, dirs, files in os.walk(\"../clean/Setting 2\"):\n",
    "    for file in files:\n",
    "        if file.endswith(\".json\"):\n",
    "            fileName = os.path.join(root, file)\n",
    "            with open(fileName) as json_file:\n",
    "                try:\n",
    "                    data = json.load(json_file)\n",
    "                    dialogs = data['dialogs']\n",
    "                    \n",
    "                    if(data['autoFilledSuggestion'] == 0):\n",
    "                        \n",
    "                        if(data['suggestionsNumber'] == 1):\n",
    "                            for i in range(1, len(dialogs)):\n",
    "                                sugg1.append(len(dialogs[i]['loggedData']))\n",
    "                        \n",
    "                        elif(data['suggestionsNumber'] == 3):\n",
    "                            for i in range(1, len(dialogs)):\n",
    "                                sugg3.append(len(dialogs[i]['loggedData']))\n",
    "                        \n",
    "                        elif(data['suggestionsNumber'] == 5):\n",
    "                            for i in range(1, len(dialogs)):\n",
    "                                sugg5.append(len(dialogs[i]['loggedData']))\n",
    "                    \n",
    "                    else:\n",
    "                        \n",
    "                        if(data['suggestionsNumber'] == 1):\n",
    "                            for i in range(1, len(dialogs)):\n",
    "                                autoSugg1.append(len(dialogs[i]['loggedData']))\n",
    "                        \n",
    "                        elif(data['suggestionsNumber'] == 3):\n",
    "                            for i in range(1, len(dialogs)):\n",
    "                                autoSugg3.append(len(dialogs[i]['loggedData']))\n",
    "                        \n",
    "                        elif(data['suggestionsNumber'] == 5):\n",
    "                            for i in range(1, len(dialogs)):\n",
    "                                autoSugg5.append(len(dialogs[i]['loggedData']))\n",
    "                    \n",
    "                    \n",
    "                except Exception as e: print(e)"
   ]
  },
  {
   "cell_type": "markdown",
   "metadata": {},
   "source": [
    "### Suggestions Only"
   ]
  },
  {
   "cell_type": "code",
   "execution_count": 10,
   "metadata": {},
   "outputs": [
    {
     "name": "stdout",
     "output_type": "stream",
     "text": [
      "Finished conversations with 1 suggestion(s): 42.41630901287554\n",
      "Finished conversations with 3 suggestion(s): 26.096638655462186\n",
      "Finished conversations with 5 suggestion(s): 24.752475247524753\n"
     ]
    }
   ],
   "source": [
    "print(\"Finished conversations with 1 suggestion(s): \" + str(statistics.mean(sugg1)))\n",
    "print(\"Finished conversations with 3 suggestion(s): \" + str(statistics.mean(sugg3)))\n",
    "print(\"Finished conversations with 5 suggestion(s): \" + str(statistics.mean(sugg5)))"
   ]
  },
  {
   "cell_type": "markdown",
   "metadata": {},
   "source": [
    "### Autofilled Suggestion"
   ]
  },
  {
   "cell_type": "code",
   "execution_count": 11,
   "metadata": {},
   "outputs": [
    {
     "name": "stdout",
     "output_type": "stream",
     "text": [
      "Finished conversations with 1 suggestion(s): 27.010344827586206\n",
      "Finished conversations with 3 suggestion(s): 28.992125984251967\n",
      "Finished conversations with 5 suggestion(s): 16.452651515151516\n"
     ]
    }
   ],
   "source": [
    "print(\"Finished conversations with 1 suggestion(s): \" + str(statistics.mean(autoSugg1)))\n",
    "print(\"Finished conversations with 3 suggestion(s): \" + str(statistics.mean(autoSugg3)))\n",
    "print(\"Finished conversations with 5 suggestion(s): \" + str(statistics.mean(autoSugg5)))"
   ]
  },
  {
   "cell_type": "code",
   "execution_count": null,
   "metadata": {},
   "outputs": [],
   "source": []
  },
  {
   "cell_type": "code",
   "execution_count": 12,
   "metadata": {},
   "outputs": [
    {
     "data": {
      "image/png": "[encoded data removed]",
      "text/plain": [
       "<Figure size 432x288 with 1 Axes>"
      ]
     },
     "metadata": {
      "needs_background": "light"
     },
     "output_type": "display_data"
    }
   ],
   "source": [
    "labels = ['1 sugg.', '3 sugg', '5 sugg']\n",
    "suggMeans = [round(statistics.mean(sugg1), 3), round(statistics.mean(sugg3), 3), round(statistics.mean(sugg5), 3)]\n",
    "sugFilledMeans = [round(statistics.mean(autoSugg1), 3), round(statistics.mean(autoSugg3), 3), round(statistics.mean(autoSugg5), 3)]\n",
    "\n",
    "x = np.arange(len(labels))  # the label locations\n",
    "width = 0.35  # the width of the bars\n",
    "\n",
    "fig, ax = plt.subplots()\n",
    "rects1 = ax.bar(x - width/2, suggMeans, width, label='Suggestions Only')\n",
    "rects2 = ax.bar(x + width/2, sugFilledMeans, width, label='Top Suggestion Filled')\n",
    "\n",
    "\n",
    "ax.set_ylabel('Finished Conversations')\n",
    "#ax.set_title('Finished Conversations in Setting 2')\n",
    "ax.set_xticks(x)\n",
    "ax.set_xticklabels(labels)\n",
    "ax.legend(bbox_to_anchor=(0, 1), loc='lower left', ncol=2)\n",
    "\n",
    "def autolabel(rects):\n",
    "    \"\"\"Attach a text label above each bar in *rects*, displaying its height.\"\"\"\n",
    "    for rect in rects:\n",
    "        height = rect.get_height()\n",
    "        ax.annotate('{}'.format(height),\n",
    "                    xy=(rect.get_x() + rect.get_width() / 2, height),\n",
    "                    xytext=(0, 3),  # 3 points vertical offset\n",
    "                    textcoords=\"offset points\",\n",
    "                    ha='center', va='bottom')\n",
    "\n",
    "\n",
    "autolabel(rects1)\n",
    "autolabel(rects2)\n",
    "\n",
    "fig.tight_layout()\n",
    "\n",
    "plt.show()"
   ]
  },
  {
   "cell_type": "code",
   "execution_count": null,
   "metadata": {},
   "outputs": [],
   "source": []
  },
  {
   "cell_type": "markdown",
   "metadata": {},
   "source": [
    "## Setting 3"
   ]
  },
  {
   "cell_type": "code",
   "execution_count": 13,
   "metadata": {},
   "outputs": [],
   "source": [
    "sugg1 = []\n",
    "sugg3 = []\n",
    "sugg5 = []\n",
    "\n",
    "autoSugg1 = []\n",
    "autoSugg3 = []\n",
    "autoSugg5 = []\n",
    "\n",
    "\n",
    "for root, dirs, files in os.walk(\"../clean/Setting 3\"):\n",
    "    for file in files:\n",
    "        if file.endswith(\".json\"):\n",
    "            fileName = os.path.join(root, file)\n",
    "            with open(fileName) as json_file:\n",
    "                try:\n",
    "                    data = json.load(json_file)\n",
    "                    dialogs = data['dialogs']\n",
    "                    \n",
    "                    if(data['autoFilledSuggestion'] == 0):\n",
    "                        \n",
    "                        if(data['suggestionsNumber'] == 1):\n",
    "                            for i in range(1, len(dialogs)):\n",
    "                                sugg1.append(len(dialogs[i]['loggedData']))\n",
    "                        \n",
    "                        elif(data['suggestionsNumber'] == 3):\n",
    "                            for i in range(1, len(dialogs)):\n",
    "                                sugg3.append(len(dialogs[i]['loggedData']))\n",
    "                        \n",
    "                        elif(data['suggestionsNumber'] == 5):\n",
    "                            for i in range(1, len(dialogs)):\n",
    "                                sugg5.append(len(dialogs[i]['loggedData']))\n",
    "                    \n",
    "                    else:\n",
    "                        \n",
    "                        if(data['suggestionsNumber'] == 1):\n",
    "                            for i in range(1, len(dialogs)):\n",
    "                                autoSugg1.append(len(dialogs[i]['loggedData']))\n",
    "                        \n",
    "                        elif(data['suggestionsNumber'] == 3):\n",
    "                            for i in range(1, len(dialogs)):\n",
    "                                autoSugg3.append(len(dialogs[i]['loggedData']))\n",
    "                        \n",
    "                        elif(data['suggestionsNumber'] == 5):\n",
    "                            for i in range(1, len(dialogs)):\n",
    "                                autoSugg5.append(len(dialogs[i]['loggedData']))\n",
    "                    \n",
    "                    \n",
    "                except Exception as e: print(e)"
   ]
  },
  {
   "cell_type": "markdown",
   "metadata": {},
   "source": [
    "### Suggestions Only"
   ]
  },
  {
   "cell_type": "code",
   "execution_count": 14,
   "metadata": {},
   "outputs": [
    {
     "name": "stdout",
     "output_type": "stream",
     "text": [
      "Finished conversations with 1 suggestion(s): 35.633466135458164\n",
      "Finished conversations with 3 suggestion(s): 19.08777969018933\n",
      "Finished conversations with 5 suggestion(s): 21.123853211009173\n"
     ]
    }
   ],
   "source": [
    "print(\"Finished conversations with 1 suggestion(s): \" + str(statistics.mean(sugg1)))\n",
    "print(\"Finished conversations with 3 suggestion(s): \" + str(statistics.mean(sugg3)))\n",
    "print(\"Finished conversations with 5 suggestion(s): \" + str(statistics.mean(sugg5)))"
   ]
  },
  {
   "cell_type": "markdown",
   "metadata": {},
   "source": [
    "### Autofilled Suggestion\n"
   ]
  },
  {
   "cell_type": "code",
   "execution_count": 15,
   "metadata": {},
   "outputs": [
    {
     "name": "stdout",
     "output_type": "stream",
     "text": [
      "Finished conversations with 1 suggestion(s): 22.46189735614308\n",
      "Finished conversations with 3 suggestion(s): 17.5\n",
      "Finished conversations with 5 suggestion(s): 14.339171974522293\n"
     ]
    }
   ],
   "source": [
    "print(\"Finished conversations with 1 suggestion(s): \" + str(statistics.mean(autoSugg1)))\n",
    "print(\"Finished conversations with 3 suggestion(s): \" + str(statistics.mean(autoSugg3)))\n",
    "print(\"Finished conversations with 5 suggestion(s): \" + str(statistics.mean(autoSugg5)))"
   ]
  },
  {
   "cell_type": "code",
   "execution_count": 16,
   "metadata": {},
   "outputs": [
    {
     "data": {
      "image/png": "[encoded data removed]",
      "text/plain": [
       "<Figure size 432x288 with 1 Axes>"
      ]
     },
     "metadata": {
      "needs_background": "light"
     },
     "output_type": "display_data"
    }
   ],
   "source": [
    "labels = ['1 sugg.', '3 sugg', '5 sugg']\n",
    "suggMeans = [round(statistics.mean(sugg1), 3), round(statistics.mean(sugg3), 3), round(statistics.mean(sugg5), 3)]\n",
    "sugFilledMeans = [round(statistics.mean(autoSugg1), 3), round(statistics.mean(autoSugg3), 3), round(statistics.mean(autoSugg5), 3)]\n",
    "\n",
    "x = np.arange(len(labels))  # the label locations\n",
    "width = 0.35  # the width of the bars\n",
    "\n",
    "fig, ax = plt.subplots()\n",
    "rects1 = ax.bar(x - width/2, suggMeans, width, label='Suggestions Only')\n",
    "rects2 = ax.bar(x + width/2, sugFilledMeans, width, label='Top Suggestion Filled')\n",
    "\n",
    "\n",
    "ax.set_ylabel('Finished Conversations')\n",
    "#ax.set_title('Finished Conversations in Setting 2')\n",
    "ax.set_xticks(x)\n",
    "ax.set_xticklabels(labels)\n",
    "ax.legend(bbox_to_anchor=(0, 1), loc='lower left', ncol=2)\n",
    "\n",
    "def autolabel(rects):\n",
    "    \"\"\"Attach a text label above each bar in *rects*, displaying its height.\"\"\"\n",
    "    for rect in rects:\n",
    "        height = rect.get_height()\n",
    "        ax.annotate('{}'.format(height),\n",
    "                    xy=(rect.get_x() + rect.get_width() / 2, height),\n",
    "                    xytext=(0, 3),  # 3 points vertical offset\n",
    "                    textcoords=\"offset points\",\n",
    "                    ha='center', va='bottom')\n",
    "\n",
    "\n",
    "autolabel(rects1)\n",
    "autolabel(rects2)\n",
    "\n",
    "fig.tight_layout()\n",
    "\n",
    "plt.show()"
   ]
  },
  {
   "cell_type": "code",
   "execution_count": null,
   "metadata": {},
   "outputs": [],
   "source": []
  },
  {
   "cell_type": "markdown",
   "metadata": {},
   "source": [
    "## Setting 4"
   ]
  },
  {
   "cell_type": "code",
   "execution_count": 17,
   "metadata": {},
   "outputs": [],
   "source": [
    "sugg1 = []\n",
    "sugg3 = []\n",
    "sugg5 = []\n",
    "\n",
    "autoSugg1 = []\n",
    "autoSugg3 = []\n",
    "autoSugg5 = []\n",
    "\n",
    "\n",
    "for root, dirs, files in os.walk(\"../clean/Setting 4\"):\n",
    "    for file in files:\n",
    "        if file.endswith(\".json\"):\n",
    "            fileName = os.path.join(root, file)\n",
    "            with open(fileName) as json_file:\n",
    "                try:\n",
    "                    data = json.load(json_file)\n",
    "                    dialogs = data['dialogs']\n",
    "                    \n",
    "                    if(data['autoFilledSuggestion'] == 0):\n",
    "                        \n",
    "                        if(data['suggestionsNumber'] == 1):\n",
    "                            for i in range(1, len(dialogs)):\n",
    "                                sugg1.append(len(dialogs[i]['loggedData']))\n",
    "                        \n",
    "                        elif(data['suggestionsNumber'] == 3):\n",
    "                            for i in range(1, len(dialogs)):\n",
    "                                sugg3.append(len(dialogs[i]['loggedData']))\n",
    "                        \n",
    "                        elif(data['suggestionsNumber'] == 5):\n",
    "                            for i in range(1, len(dialogs)):\n",
    "                                sugg5.append(len(dialogs[i]['loggedData']))\n",
    "                    \n",
    "                    else:\n",
    "                        \n",
    "                        if(data['suggestionsNumber'] == 1):\n",
    "                            for i in range(1, len(dialogs)):\n",
    "                                autoSugg1.append(len(dialogs[i]['loggedData']))\n",
    "                        \n",
    "                        elif(data['suggestionsNumber'] == 3):\n",
    "                            for i in range(1, len(dialogs)):\n",
    "                                autoSugg3.append(len(dialogs[i]['loggedData']))\n",
    "                        \n",
    "                        elif(data['suggestionsNumber'] == 5):\n",
    "                            for i in range(1, len(dialogs)):\n",
    "                                autoSugg5.append(len(dialogs[i]['loggedData']))\n",
    "                    \n",
    "                    \n",
    "                except Exception as e: print(e)"
   ]
  },
  {
   "cell_type": "markdown",
   "metadata": {},
   "source": [
    "### Suggestions Only"
   ]
  },
  {
   "cell_type": "code",
   "execution_count": 18,
   "metadata": {},
   "outputs": [
    {
     "name": "stdout",
     "output_type": "stream",
     "text": [
      "Finished conversations with 1 suggestion(s): 47.91533180778032\n",
      "Finished conversations with 3 suggestion(s): 42.77777777777778\n",
      "Finished conversations with 5 suggestion(s): 46.78370786516854\n"
     ]
    }
   ],
   "source": [
    "print(\"Finished conversations with 1 suggestion(s): \" + str(statistics.mean(sugg1)))\n",
    "print(\"Finished conversations with 3 suggestion(s): \" + str(statistics.mean(sugg3)))\n",
    "print(\"Finished conversations with 5 suggestion(s): \" + str(statistics.mean(sugg5)))"
   ]
  },
  {
   "cell_type": "markdown",
   "metadata": {},
   "source": [
    "### Autofilled Suggestion"
   ]
  },
  {
   "cell_type": "code",
   "execution_count": 19,
   "metadata": {},
   "outputs": [
    {
     "name": "stdout",
     "output_type": "stream",
     "text": [
      "Finished conversations with 1 suggestion(s): 27.34417808219178\n",
      "Finished conversations with 3 suggestion(s): 45.86351706036746\n",
      "Finished conversations with 5 suggestion(s): 32.8970297029703\n"
     ]
    }
   ],
   "source": [
    "print(\"Finished conversations with 1 suggestion(s): \" + str(statistics.mean(autoSugg1)))\n",
    "print(\"Finished conversations with 3 suggestion(s): \" + str(statistics.mean(autoSugg3)))\n",
    "print(\"Finished conversations with 5 suggestion(s): \" + str(statistics.mean(autoSugg5)))"
   ]
  },
  {
   "cell_type": "code",
   "execution_count": 20,
   "metadata": {},
   "outputs": [
    {
     "data": {
      "image/png": "[encoded data removed]",
      "text/plain": [
       "<Figure size 432x288 with 1 Axes>"
      ]
     },
     "metadata": {
      "needs_background": "light"
     },
     "output_type": "display_data"
    }
   ],
   "source": [
    "labels = ['1 sugg.', '3 sugg', '5 sugg']\n",
    "suggMeans = [round(statistics.mean(sugg1), 3), round(statistics.mean(sugg3), 3), round(statistics.mean(sugg5), 3)]\n",
    "sugFilledMeans = [round(statistics.mean(autoSugg1), 3), round(statistics.mean(autoSugg3), 3), round(statistics.mean(autoSugg5), 3)]\n",
    "\n",
    "x = np.arange(len(labels))  # the label locations\n",
    "width = 0.35  # the width of the bars\n",
    "\n",
    "fig, ax = plt.subplots()\n",
    "rects1 = ax.bar(x - width/2, suggMeans, width, label='Suggestions Only')\n",
    "rects2 = ax.bar(x + width/2, sugFilledMeans, width, label='Top Suggestion Filled')\n",
    "\n",
    "\n",
    "ax.set_ylabel('Finished Conversations')\n",
    "#ax.set_title('Finished Conversations in Setting 2')\n",
    "ax.set_xticks(x)\n",
    "ax.set_xticklabels(labels)\n",
    "ax.legend(bbox_to_anchor=(0, 1), loc='lower left', ncol=2)\n",
    "\n",
    "def autolabel(rects):\n",
    "    \"\"\"Attach a text label above each bar in *rects*, displaying its height.\"\"\"\n",
    "    for rect in rects:\n",
    "        height = rect.get_height()\n",
    "        ax.annotate('{}'.format(height),\n",
    "                    xy=(rect.get_x() + rect.get_width() / 2, height),\n",
    "                    xytext=(0, 3),  # 3 points vertical offset\n",
    "                    textcoords=\"offset points\",\n",
    "                    ha='center', va='bottom')\n",
    "\n",
    "\n",
    "autolabel(rects1)\n",
    "autolabel(rects2)\n",
    "\n",
    "fig.tight_layout()\n",
    "\n",
    "plt.show()"
   ]
  },
  {
   "cell_type": "code",
   "execution_count": null,
   "metadata": {},
   "outputs": [],
   "source": []
  },
  {
   "cell_type": "markdown",
   "metadata": {},
   "source": [
    "## Setting 5"
   ]
  },
  {
   "cell_type": "code",
   "execution_count": 21,
   "metadata": {},
   "outputs": [],
   "source": [
    "\n",
    "sugg1 = []\n",
    "\n",
    "autoSugg1 = []\n",
    "\n",
    "\n",
    "for root, dirs, files in os.walk(\"../clean/Setting 5\"):\n",
    "    for file in files:\n",
    "        if file.endswith(\".json\"):\n",
    "            fileName = os.path.join(root, file)\n",
    "            with open(fileName) as json_file:\n",
    "                try:\n",
    "                    data = json.load(json_file)\n",
    "                    dialogs = data['dialogs']\n",
    "                    \n",
    "                    \n",
    "                    if(data['autoFilledSuggestion'] == 0):\n",
    "                        \n",
    "                        if(data['suggestionsNumber'] == 1):\n",
    "                            for i in range(1, len(dialogs)):\n",
    "                                sugg1.append(len(dialogs[i]['loggedData']))\n",
    "                        \n",
    "                       \n",
    "                    else:\n",
    "                        \n",
    "                        if(data['suggestionsNumber'] == 1):\n",
    "                            for i in range(1, len(dialogs)):\n",
    "                                autoSugg1.append(len(dialogs[i]['loggedData']))\n",
    "                    \n",
    "                    \n",
    "                except Exception as e: print(e)\n",
    "\n"
   ]
  },
  {
   "cell_type": "markdown",
   "metadata": {},
   "source": [
    "### Suggestions Only"
   ]
  },
  {
   "cell_type": "code",
   "execution_count": 22,
   "metadata": {},
   "outputs": [
    {
     "name": "stdout",
     "output_type": "stream",
     "text": [
      "Finished conversations with 1 suggestion(s): 32.36964980544747\n"
     ]
    }
   ],
   "source": [
    "print(\"Finished conversations with 1 suggestion(s): \" + str(statistics.mean(sugg1)))\n"
   ]
  },
  {
   "cell_type": "markdown",
   "metadata": {},
   "source": [
    "### Autofilled Suggestion"
   ]
  },
  {
   "cell_type": "code",
   "execution_count": 23,
   "metadata": {},
   "outputs": [
    {
     "name": "stdout",
     "output_type": "stream",
     "text": [
      "Finished conversations with 1 suggestion(s): 27.207455429497568\n"
     ]
    }
   ],
   "source": [
    "print(\"Finished conversations with 1 suggestion(s): \" + str(statistics.mean(autoSugg1)))\n"
   ]
  },
  {
   "cell_type": "code",
   "execution_count": 24,
   "metadata": {},
   "outputs": [
    {
     "data": {
      "image/png": "[encoded data removed]",
      "text/plain": [
       "<Figure size 432x288 with 1 Axes>"
      ]
     },
     "metadata": {
      "needs_background": "light"
     },
     "output_type": "display_data"
    }
   ],
   "source": [
    "labels = ['1 sugg.']\n",
    "suggMeans = [round(statistics.mean(sugg1), 3)]\n",
    "sugFilledMeans = [round(statistics.mean(autoSugg1), 3)]\n",
    "\n",
    "x = np.arange(len(labels))  # the label locations\n",
    "width = 0.35  # the width of the bars\n",
    "\n",
    "fig, ax = plt.subplots()\n",
    "rects1 = ax.bar(x - width/2, suggMeans, width, label='Suggestions Only')\n",
    "rects2 = ax.bar(x + width/2, sugFilledMeans, width, label='Top Suggestion Filled')\n",
    "\n",
    "\n",
    "ax.set_ylabel('Finished Conversations')\n",
    "#ax.set_title('Finished Conversations in Setting 2')\n",
    "ax.set_xticks(x)\n",
    "ax.set_xticklabels(labels)\n",
    "ax.legend(bbox_to_anchor=(0, 1), loc='lower left', ncol=2)\n",
    "\n",
    "def autolabel(rects):\n",
    "    \"\"\"Attach a text label above each bar in *rects*, displaying its height.\"\"\"\n",
    "    for rect in rects:\n",
    "        height = rect.get_height()\n",
    "        ax.annotate('{}'.format(height),\n",
    "                    xy=(rect.get_x() + rect.get_width() / 2, height),\n",
    "                    xytext=(0, 3),  # 3 points vertical offset\n",
    "                    textcoords=\"offset points\",\n",
    "                    ha='center', va='bottom')\n",
    "\n",
    "\n",
    "autolabel(rects1)\n",
    "autolabel(rects2)\n",
    "\n",
    "fig.tight_layout()\n",
    "\n",
    "plt.show()"
   ]
  },
  {
   "cell_type": "code",
   "execution_count": null,
   "metadata": {},
   "outputs": [],
   "source": []
  },
  {
   "cell_type": "code",
   "execution_count": null,
   "metadata": {},
   "outputs": [],
   "source": []
  },
  {
   "cell_type": "code",
   "execution_count": null,
   "metadata": {},
   "outputs": [],
   "source": []
  }
 ],
 "metadata": {
  "kernelspec": {
   "display_name": "Python 3",
   "language": "python",
   "name": "python3"
  },
  "language_info": {
   "codemirror_mode": {
    "name": "ipython",
    "version": 3
   },
   "file_extension": ".py",
   "mimetype": "text/x-python",
   "name": "python",
   "nbconvert_exporter": "python",
   "pygments_lexer": "ipython3",
   "version": "3.7.1"
  }
 },
 "nbformat": 4,
 "nbformat_minor": 2
}
