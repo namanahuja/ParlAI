{
 "cells": [
  {
   "cell_type": "code",
   "execution_count": 1,
   "metadata": {},
   "outputs": [],
   "source": [
    "import json"
   ]
  },
  {
   "cell_type": "code",
   "execution_count": 2,
   "metadata": {},
   "outputs": [],
   "source": [
    "with open(\"test_topic_split.json\", \"r\") as read_file:\n",
    "    allData = json.load(read_file)\n",
    "    \n",
    "    "
   ]
  },
  {
   "cell_type": "code",
   "execution_count": null,
   "metadata": {
    "scrolled": false
   },
   "outputs": [],
   "source": []
  },
  {
   "cell_type": "code",
   "execution_count": 4,
   "metadata": {},
   "outputs": [],
   "source": [
    "jsonData = []\n",
    "for data in allData:\n",
    "\n",
    "    dialogs = data['dialog']\n",
    "    \n",
    "    if('Wizard' in dialogs[0]['speaker']):\n",
    "        continue\n",
    "        \n",
    "    conv = []\n",
    "    for diag in dialogs:\n",
    "        conv.append(diag['text'])\n",
    "        \n",
    "    \n",
    "\n",
    "    jsonData.append(conv)"
   ]
  },
  {
   "cell_type": "code",
   "execution_count": 7,
   "metadata": {},
   "outputs": [
    {
     "data": {
      "text/plain": [
       "['I love chihuahuas, I have 2 of them.',\n",
       " 'Wow chihuahua are something else. Tiny and the smallest breed of dog.',\n",
       " \"Yep, they get a bad rap about their demeanor too. Most people say they're mean but one of mine is the sweetest ever.\",\n",
       " 'Yeah their history is shrouded in mystery, but the breed originated in Mexico.',\n",
       " \"I've always wondered if they came from the city Chihuahua, Mexico. My sister in law visited there once.\",\n",
       " 'Well people think they were named after Chihuahua in mexico, and were worshipped as deities by the Aztecs ',\n",
       " \"Ah so that makes sense why mine think they're gods lol \",\n",
       " 'The Aztec religion upheld them as living gods with the power to return life to the dead and grand you fortune and fame.',\n",
       " \"That's really interesting, I never knew that! So they were like furry little royals then?\",\n",
       " 'Absolutely they even mad wheeled dog toys representing the  Chihuahua kids could carry around with for good luck and fun.']"
      ]
     },
     "execution_count": 7,
     "metadata": {},
     "output_type": "execute_result"
    }
   ],
   "source": [
    "jsonData[2]"
   ]
  },
  {
   "cell_type": "code",
   "execution_count": 9,
   "metadata": {},
   "outputs": [],
   "source": [
    "finalJSON = {}\n",
    "finalJSON['data'] = jsonData\n",
    "with open('testData.json', 'w') as outfile:\n",
    "    json.dump(finalJSON, outfile)"
   ]
  },
  {
   "cell_type": "code",
   "execution_count": null,
   "metadata": {},
   "outputs": [],
   "source": []
  },
  {
   "cell_type": "code",
   "execution_count": 10,
   "metadata": {},
   "outputs": [
    {
     "data": {
      "text/plain": [
       "512"
      ]
     },
     "execution_count": 10,
     "metadata": {},
     "output_type": "execute_result"
    }
   ],
   "source": [
    "len(jsonData)"
   ]
  },
  {
   "cell_type": "code",
   "execution_count": null,
   "metadata": {},
   "outputs": [],
   "source": []
  },
  {
   "cell_type": "code",
   "execution_count": null,
   "metadata": {},
   "outputs": [],
   "source": []
  },
  {
   "cell_type": "code",
   "execution_count": null,
   "metadata": {},
   "outputs": [],
   "source": []
  }
 ],
 "metadata": {
  "kernelspec": {
   "display_name": "Python 3",
   "language": "python",
   "name": "python3"
  },
  "language_info": {
   "codemirror_mode": {
    "name": "ipython",
    "version": 3
   },
   "file_extension": ".py",
   "mimetype": "text/x-python",
   "name": "python",
   "nbconvert_exporter": "python",
   "pygments_lexer": "ipython3",
   "version": "3.7.4"
  }
 },
 "nbformat": 4,
 "nbformat_minor": 2
}
