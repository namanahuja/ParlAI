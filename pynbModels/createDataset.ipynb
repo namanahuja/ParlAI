{
 "cells": [
  {
   "cell_type": "code",
   "execution_count": 2,
   "metadata": {},
   "outputs": [],
   "source": [
    "import json"
   ]
  },
  {
   "cell_type": "code",
   "execution_count": 3,
   "metadata": {},
   "outputs": [],
   "source": [
    "with open(\"test_random_split.json\", \"r\") as read_file:\n",
    "    allData = json.load(read_file)\n",
    "    \n",
    "    "
   ]
  },
  {
   "cell_type": "code",
   "execution_count": null,
   "metadata": {
    "scrolled": false
   },
   "outputs": [],
   "source": []
  },
  {
   "cell_type": "code",
   "execution_count": null,
   "metadata": {},
   "outputs": [],
   "source": []
  },
  {
   "cell_type": "code",
   "execution_count": null,
   "metadata": {},
   "outputs": [],
   "source": []
  },
  {
   "cell_type": "code",
   "execution_count": null,
   "metadata": {},
   "outputs": [],
   "source": []
  },
  {
   "cell_type": "code",
   "execution_count": 4,
   "metadata": {},
   "outputs": [],
   "source": [
    "jsonData = []\n",
    "for data in allData:\n",
    "\n",
    "    dialogs = data['dialog']\n",
    "    \n",
    "    if('Wizard' in dialogs[0]['speaker']):\n",
    "        continue\n",
    "        \n",
    "    conv = []\n",
    "    for diag in dialogs:\n",
    "        conv.append(diag['text'])\n",
    "        \n",
    "    \n",
    "\n",
    "    jsonData.append(conv)"
   ]
  },
  {
   "cell_type": "code",
   "execution_count": 5,
   "metadata": {},
   "outputs": [
    {
     "data": {
      "text/plain": [
       "['I think Budweiser taste terrible. Have you ever had it?',\n",
       " \"Yes, and I love it!  It's a filtered beer, and it comes in either draft or packaged forms\",\n",
       " 'Yeah? From my understanding they are called \"Bud\" over in Europe because they have been in a trademark dispute with another beer company. ',\n",
       " \"Yes, that's true because the trademark name of Budweiser is own by the Czech beer maker, Budweiser Budvar\",\n",
       " \"Ah I thought so. I'm not a big fan of theirs because I feel like the beer is really weak and watered down.\",\n",
       " 'Compared to Canadian beer, I guess it is!  It is a pale lager though, and is produced by Anheuser-Busch',\n",
       " 'Ah my favorite kind of beer are the stouts. Like a nice milk or chocolate stout with a much larger alcohol content. ',\n",
       " 'That sounds yummy!  Interestingly, Budweiser is made with hops and barley malt, with  up to 30% rice as well',\n",
       " \"Oh I didn't know they used rice in their beer. I figured that was all barley, wheat and hops.\",\n",
       " 'Yes, and it is a Bohemian-style lager developed by Adolphus Busch and his friend Carl Conrad']"
      ]
     },
     "execution_count": 5,
     "metadata": {},
     "output_type": "execute_result"
    }
   ],
   "source": [
    "jsonData[2]"
   ]
  },
  {
   "cell_type": "code",
   "execution_count": 6,
   "metadata": {},
   "outputs": [],
   "source": [
    "finalJSON = {}\n",
    "finalJSON['data'] = jsonData\n",
    "with open('testData.json', 'w') as outfile:\n",
    "    json.dump(finalJSON, outfile)"
   ]
  },
  {
   "cell_type": "code",
   "execution_count": null,
   "metadata": {},
   "outputs": [],
   "source": []
  },
  {
   "cell_type": "code",
   "execution_count": 7,
   "metadata": {},
   "outputs": [
    {
     "data": {
      "text/plain": [
       "474"
      ]
     },
     "execution_count": 7,
     "metadata": {},
     "output_type": "execute_result"
    }
   ],
   "source": [
    "len(jsonData)"
   ]
  },
  {
   "cell_type": "code",
   "execution_count": null,
   "metadata": {},
   "outputs": [],
   "source": []
  },
  {
   "cell_type": "code",
   "execution_count": null,
   "metadata": {},
   "outputs": [],
   "source": []
  },
  {
   "cell_type": "code",
   "execution_count": null,
   "metadata": {},
   "outputs": [],
   "source": []
  }
 ],
 "metadata": {
  "kernelspec": {
   "display_name": "Python 3",
   "language": "python",
   "name": "python3"
  },
  "language_info": {
   "codemirror_mode": {
    "name": "ipython",
    "version": 3
   },
   "file_extension": ".py",
   "mimetype": "text/x-python",
   "name": "python",
   "nbconvert_exporter": "python",
   "pygments_lexer": "ipython3",
   "version": "3.7.6"
  }
 },
 "nbformat": 4,
 "nbformat_minor": 2
}
