{
 "cells": [
  {
   "cell_type": "code",
   "execution_count": 1,
   "metadata": {},
   "outputs": [],
   "source": [
    "import json"
   ]
  },
  {
   "cell_type": "code",
   "execution_count": 2,
   "metadata": {},
   "outputs": [],
   "source": [
    "with open('predictionsGenEdit.json') as json_file:\n",
    "    sessions = json.load(json_file)"
   ]
  },
  {
   "cell_type": "code",
   "execution_count": 3,
   "metadata": {},
   "outputs": [],
   "source": [
    "allPredicitons = []\n",
    "\n",
    "\n",
    "contextLen = 2"
   ]
  },
  {
   "cell_type": "code",
   "execution_count": 4,
   "metadata": {},
   "outputs": [],
   "source": [
    "with open('testData.json') as json_file:\n",
    "    testData = json.load(json_file)"
   ]
  },
  {
   "cell_type": "code",
   "execution_count": 5,
   "metadata": {},
   "outputs": [],
   "source": [
    "testData = testData['data']"
   ]
  },
  {
   "cell_type": "code",
   "execution_count": null,
   "metadata": {},
   "outputs": [],
   "source": []
  },
  {
   "cell_type": "code",
   "execution_count": 6,
   "metadata": {},
   "outputs": [
    {
     "data": {
      "text/plain": [
       "{'index': 0,\n",
       " 'conversation': [{'WizTeacher': 'Cinematography\\nHi buddy, What you think about cinematography',\n",
       "   'EndToEnd': \"i love cinematography ! it ' s a science of motion picture photography that is used to create images from other electromagnetic radiation .\"},\n",
       "  {'WizTeacher': 'Yes buddy,  Images captured with an electronic image-sensor, produces an electrical charge.The word \"cinematography\" is based on the Greek words  meaning movement, motion.',\n",
       "   'EndToEnd': 'the word \" cinematography \" was derived from the greek word \" kinema \" which means \" kinema \"'},\n",
       "  {'WizTeacher': ' Muybridge sequence of a horse galloping In the 1830s, moving images were produced on revolving drums and disks',\n",
       "   'EndToEnd': 'yes , it is a very important concept .'},\n",
       "  {'WizTeacher': 'Yes , Cinematography finds uses in many fields of science and business as well as for entertainment purposes',\n",
       "   'EndToEnd': 'photography is the art of creating images by recording light or electromagnetic radiation .'},\n",
       "  {'WizTeacher': 'Yes now digital camera is trendy',\n",
       "   'EndToEnd': 'the word \" camera \" was used to refer to the \" camera \" which means \" camera \" , \" camera \" , which means \" camera \" , which means \" camera \" .'}]}"
      ]
     },
     "execution_count": 6,
     "metadata": {},
     "output_type": "execute_result"
    }
   ],
   "source": [
    "sessions[0]"
   ]
  },
  {
   "cell_type": "code",
   "execution_count": null,
   "metadata": {},
   "outputs": [],
   "source": []
  },
  {
   "cell_type": "code",
   "execution_count": null,
   "metadata": {},
   "outputs": [],
   "source": []
  },
  {
   "cell_type": "code",
   "execution_count": null,
   "metadata": {},
   "outputs": [],
   "source": []
  },
  {
   "cell_type": "code",
   "execution_count": 7,
   "metadata": {},
   "outputs": [],
   "source": [
    "for i in range(len(sessions)):\n",
    "    session = sessions[i]\n",
    "    try:\n",
    "        \n",
    "        \n",
    "        \n",
    "        firstMess = testData[i][2]\n",
    "        \n",
    "        if('?' in firstMess):\n",
    "            conversation = []\n",
    "            currObj = {}\n",
    "            currObj['contextLen'] = contextLen\n",
    "            \n",
    "            for k in range(contextLen + 1):\n",
    "                mess = testData[i][k]\n",
    "                conversation.append(mess)\n",
    "            \n",
    "            currObj['conversation'] = conversation\n",
    "            currObj['suggestions'] = [session['conversation'][1]['EndToEnd']]\n",
    "            currObj['actualResponse'] = testData[i][contextLen + 1]\n",
    "            currObj['origIndex'] = session['index']\n",
    "            \n",
    "            allPredicitons.append(currObj)\n",
    "        \n",
    "    except Exception as e: print(e)"
   ]
  },
  {
   "cell_type": "code",
   "execution_count": null,
   "metadata": {},
   "outputs": [],
   "source": []
  },
  {
   "cell_type": "code",
   "execution_count": null,
   "metadata": {},
   "outputs": [],
   "source": []
  },
  {
   "cell_type": "code",
   "execution_count": 8,
   "metadata": {},
   "outputs": [
    {
     "data": {
      "text/plain": [
       "474"
      ]
     },
     "execution_count": 8,
     "metadata": {},
     "output_type": "execute_result"
    }
   ],
   "source": [
    "len(sessions)"
   ]
  },
  {
   "cell_type": "code",
   "execution_count": 9,
   "metadata": {},
   "outputs": [
    {
     "data": {
      "text/plain": [
       "218"
      ]
     },
     "execution_count": 9,
     "metadata": {},
     "output_type": "execute_result"
    }
   ],
   "source": [
    "len(allPredicitons)"
   ]
  },
  {
   "cell_type": "code",
   "execution_count": 10,
   "metadata": {},
   "outputs": [],
   "source": [
    "with open('./clean/cleanPredictionsGen2.json', 'w') as outfile:\n",
    "    json.dump(allPredicitons, outfile)"
   ]
  },
  {
   "cell_type": "code",
   "execution_count": null,
   "metadata": {},
   "outputs": [],
   "source": []
  },
  {
   "cell_type": "code",
   "execution_count": 11,
   "metadata": {
    "scrolled": true
   },
   "outputs": [
    {
     "name": "stdout",
     "output_type": "stream",
     "text": [
      "30\n"
     ]
    }
   ],
   "source": [
    "with open('./selected/ret/twoContext.json') as json_file:\n",
    "    ret = json.load(json_file)\n",
    "\n",
    "ind = set()\n",
    "for r in ret:\n",
    "    ind.add(r['origIndex'])\n",
    "print(len(ind))"
   ]
  },
  {
   "cell_type": "code",
   "execution_count": null,
   "metadata": {},
   "outputs": [],
   "source": []
  },
  {
   "cell_type": "code",
   "execution_count": 12,
   "metadata": {},
   "outputs": [],
   "source": [
    "finalPred = []"
   ]
  },
  {
   "cell_type": "code",
   "execution_count": 13,
   "metadata": {},
   "outputs": [],
   "source": [
    "\n",
    "for pred in allPredicitons:\n",
    "    if(pred['origIndex'] in ind):\n",
    "        finalPred.append(pred)"
   ]
  },
  {
   "cell_type": "code",
   "execution_count": 14,
   "metadata": {},
   "outputs": [
    {
     "data": {
      "text/plain": [
       "30"
      ]
     },
     "execution_count": 14,
     "metadata": {},
     "output_type": "execute_result"
    }
   ],
   "source": [
    "len(finalPred)"
   ]
  },
  {
   "cell_type": "code",
   "execution_count": 15,
   "metadata": {},
   "outputs": [],
   "source": [
    "with open('./selected/gen/twoContext.json', 'w') as outfile:\n",
    "    json.dump(finalPred, outfile)"
   ]
  },
  {
   "cell_type": "code",
   "execution_count": null,
   "metadata": {},
   "outputs": [],
   "source": []
  },
  {
   "cell_type": "code",
   "execution_count": null,
   "metadata": {},
   "outputs": [],
   "source": []
  },
  {
   "cell_type": "code",
   "execution_count": null,
   "metadata": {},
   "outputs": [],
   "source": []
  },
  {
   "cell_type": "code",
   "execution_count": null,
   "metadata": {},
   "outputs": [],
   "source": []
  }
 ],
 "metadata": {
  "kernelspec": {
   "display_name": "Python 3",
   "language": "python",
   "name": "python3"
  },
  "language_info": {
   "codemirror_mode": {
    "name": "ipython",
    "version": 3
   },
   "file_extension": ".py",
   "mimetype": "text/x-python",
   "name": "python",
   "nbconvert_exporter": "python",
   "pygments_lexer": "ipython3",
   "version": "3.7.6"
  }
 },
 "nbformat": 4,
 "nbformat_minor": 2
}
