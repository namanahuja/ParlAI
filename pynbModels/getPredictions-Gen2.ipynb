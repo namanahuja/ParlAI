{
 "cells": [
  {
   "cell_type": "code",
   "execution_count": 29,
   "metadata": {},
   "outputs": [],
   "source": [
    "import json"
   ]
  },
  {
   "cell_type": "code",
   "execution_count": 30,
   "metadata": {},
   "outputs": [],
   "source": [
    "with open('predictionsGenEdit.json') as json_file:\n",
    "    sessions = json.load(json_file)"
   ]
  },
  {
   "cell_type": "code",
   "execution_count": 31,
   "metadata": {},
   "outputs": [],
   "source": [
    "allPredicitons = []\n",
    "\n",
    "\n",
    "contextLen = 2"
   ]
  },
  {
   "cell_type": "code",
   "execution_count": 32,
   "metadata": {},
   "outputs": [],
   "source": [
    "with open('testData.json') as json_file:\n",
    "    testData = json.load(json_file)"
   ]
  },
  {
   "cell_type": "code",
   "execution_count": 33,
   "metadata": {},
   "outputs": [],
   "source": [
    "testData = testData['data']"
   ]
  },
  {
   "cell_type": "code",
   "execution_count": null,
   "metadata": {},
   "outputs": [],
   "source": []
  },
  {
   "cell_type": "code",
   "execution_count": 34,
   "metadata": {},
   "outputs": [
    {
     "data": {
      "text/plain": [
       "{'index': 0,\n",
       " 'conversation': [{'WizTeacher': 'Ireland\\nWhat do you know about ireland?',\n",
       "   'EndToEnd': 'i have never been to ireland , but i know it is a place where people live .'},\n",
       "  {'WizTeacher': 'Exactly, do you know any thing about Island north Atlantic?',\n",
       "   'EndToEnd': \"i ' m not sure , but the ocean is the third largest country in the world .\"},\n",
       "  {'WizTeacher': 'Wow, that will make island north Atlantic.',\n",
       "   'EndToEnd': 'i would love to visit the appalachian trail , it is a long distance , and it is estimated to be 2 miles long .'},\n",
       "  {'WizTeacher': 'Wow, I just feel like visiting their now.',\n",
       "   'EndToEnd': \"i ' ve never been to the ocean but i do know that it ' s a great place to see .\"}]}"
      ]
     },
     "execution_count": 34,
     "metadata": {},
     "output_type": "execute_result"
    }
   ],
   "source": [
    "sessions[0]"
   ]
  },
  {
   "cell_type": "code",
   "execution_count": null,
   "metadata": {},
   "outputs": [],
   "source": []
  },
  {
   "cell_type": "code",
   "execution_count": null,
   "metadata": {},
   "outputs": [],
   "source": []
  },
  {
   "cell_type": "code",
   "execution_count": null,
   "metadata": {},
   "outputs": [],
   "source": []
  },
  {
   "cell_type": "code",
   "execution_count": 35,
   "metadata": {},
   "outputs": [],
   "source": [
    "for i in range(len(sessions)):\n",
    "    session = sessions[i]\n",
    "    try:\n",
    "        \n",
    "        \n",
    "        \n",
    "        firstMess = testData[i][2]\n",
    "        \n",
    "        if('?' in firstMess):\n",
    "            conversation = []\n",
    "            currObj = {}\n",
    "            currObj['contextLen'] = contextLen\n",
    "            \n",
    "            for k in range(contextLen + 1):\n",
    "                mess = testData[i][k]\n",
    "                conversation.append(mess)\n",
    "            \n",
    "            currObj['conversation'] = conversation\n",
    "            currObj['suggestions'] = [session['conversation'][1]['EndToEnd']]\n",
    "            currObj['actualResponse'] = testData[i][contextLen + 1]\n",
    "            currObj['origIndex'] = session['index']\n",
    "            \n",
    "            allPredicitons.append(currObj)\n",
    "        \n",
    "    except Exception as e: print(e)"
   ]
  },
  {
   "cell_type": "code",
   "execution_count": null,
   "metadata": {},
   "outputs": [],
   "source": []
  },
  {
   "cell_type": "code",
   "execution_count": null,
   "metadata": {},
   "outputs": [],
   "source": []
  },
  {
   "cell_type": "code",
   "execution_count": 36,
   "metadata": {},
   "outputs": [
    {
     "data": {
      "text/plain": [
       "512"
      ]
     },
     "execution_count": 36,
     "metadata": {},
     "output_type": "execute_result"
    }
   ],
   "source": [
    "len(sessions)"
   ]
  },
  {
   "cell_type": "code",
   "execution_count": 37,
   "metadata": {},
   "outputs": [
    {
     "data": {
      "text/plain": [
       "229"
      ]
     },
     "execution_count": 37,
     "metadata": {},
     "output_type": "execute_result"
    }
   ],
   "source": [
    "len(allPredicitons)"
   ]
  },
  {
   "cell_type": "code",
   "execution_count": 38,
   "metadata": {},
   "outputs": [],
   "source": [
    "with open('./clean/cleanPredictionsGen2.json', 'w') as outfile:\n",
    "    json.dump(allPredicitons, outfile)"
   ]
  },
  {
   "cell_type": "code",
   "execution_count": null,
   "metadata": {},
   "outputs": [],
   "source": []
  },
  {
   "cell_type": "code",
   "execution_count": 39,
   "metadata": {
    "scrolled": true
   },
   "outputs": [
    {
     "name": "stdout",
     "output_type": "stream",
     "text": [
      "30\n"
     ]
    }
   ],
   "source": [
    "with open('./selected/ret/twoContext.json') as json_file:\n",
    "    ret = json.load(json_file)\n",
    "\n",
    "ind = set()\n",
    "for r in ret:\n",
    "    ind.add(r['origIndex'])\n",
    "print(len(ind))"
   ]
  },
  {
   "cell_type": "code",
   "execution_count": null,
   "metadata": {},
   "outputs": [],
   "source": []
  },
  {
   "cell_type": "code",
   "execution_count": 40,
   "metadata": {},
   "outputs": [],
   "source": [
    "finalPred = []"
   ]
  },
  {
   "cell_type": "code",
   "execution_count": 41,
   "metadata": {},
   "outputs": [],
   "source": [
    "\n",
    "for pred in allPredicitons:\n",
    "    if(pred['origIndex'] in ind):\n",
    "        finalPred.append(pred)"
   ]
  },
  {
   "cell_type": "code",
   "execution_count": 42,
   "metadata": {},
   "outputs": [
    {
     "data": {
      "text/plain": [
       "30"
      ]
     },
     "execution_count": 42,
     "metadata": {},
     "output_type": "execute_result"
    }
   ],
   "source": [
    "len(finalPred)"
   ]
  },
  {
   "cell_type": "code",
   "execution_count": 43,
   "metadata": {},
   "outputs": [],
   "source": [
    "with open('./selected/gen/twoContext.json', 'w') as outfile:\n",
    "    json.dump(finalPred, outfile)"
   ]
  },
  {
   "cell_type": "code",
   "execution_count": null,
   "metadata": {},
   "outputs": [],
   "source": []
  },
  {
   "cell_type": "code",
   "execution_count": 30,
   "metadata": {},
   "outputs": [],
   "source": []
  },
  {
   "cell_type": "code",
   "execution_count": null,
   "metadata": {},
   "outputs": [],
   "source": []
  },
  {
   "cell_type": "code",
   "execution_count": null,
   "metadata": {},
   "outputs": [],
   "source": []
  }
 ],
 "metadata": {
  "kernelspec": {
   "display_name": "Python 3",
   "language": "python",
   "name": "python3"
  },
  "language_info": {
   "codemirror_mode": {
    "name": "ipython",
    "version": 3
   },
   "file_extension": ".py",
   "mimetype": "text/x-python",
   "name": "python",
   "nbconvert_exporter": "python",
   "pygments_lexer": "ipython3",
   "version": "3.7.6"
  }
 },
 "nbformat": 4,
 "nbformat_minor": 2
}
