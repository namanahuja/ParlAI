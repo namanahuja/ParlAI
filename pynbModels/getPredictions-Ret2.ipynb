{
 "cells": [
  {
   "cell_type": "code",
   "execution_count": 1,
   "metadata": {},
   "outputs": [],
   "source": [
    "import json"
   ]
  },
  {
   "cell_type": "code",
   "execution_count": 2,
   "metadata": {},
   "outputs": [],
   "source": [
    "with open('predictionsRetEdit.json') as json_file:\n",
    "    sessions = json.load(json_file)"
   ]
  },
  {
   "cell_type": "code",
   "execution_count": 3,
   "metadata": {},
   "outputs": [],
   "source": [
    "with open('testData.json') as json_file:\n",
    "    testData = json.load(json_file)"
   ]
  },
  {
   "cell_type": "code",
   "execution_count": 4,
   "metadata": {},
   "outputs": [],
   "source": [
    "testData = testData['data']"
   ]
  },
  {
   "cell_type": "code",
   "execution_count": 5,
   "metadata": {},
   "outputs": [],
   "source": [
    "allPredicitons = []\n",
    "\n",
    "\n",
    "contextLen = 2"
   ]
  },
  {
   "cell_type": "code",
   "execution_count": 6,
   "metadata": {},
   "outputs": [
    {
     "data": {
      "text/plain": [
       "'Yes buddy,  Images captured with an electronic image-sensor, produces an electrical charge.The word \"cinematography\" is based on the Greek words  meaning movement, motion.'"
      ]
     },
     "execution_count": 6,
     "metadata": {},
     "output_type": "execute_result"
    }
   ],
   "source": [
    "sessions[0]['conversation'][1]['wizard_of_wikipedia']"
   ]
  },
  {
   "cell_type": "code",
   "execution_count": 7,
   "metadata": {},
   "outputs": [
    {
     "data": {
      "text/plain": [
       "474"
      ]
     },
     "execution_count": 7,
     "metadata": {},
     "output_type": "execute_result"
    }
   ],
   "source": [
    "len(sessions)"
   ]
  },
  {
   "cell_type": "code",
   "execution_count": 8,
   "metadata": {},
   "outputs": [],
   "source": [
    "for i in range(len(sessions)):\n",
    "    session = sessions[i]\n",
    "    try:\n",
    "        \n",
    "        #firstConv = session['conversation'][0]\n",
    "        #firstConvSplit = firstConv['wizard_of_wikipedia'].split(\"\\n\")\n",
    "        #firstConv['wizard_of_wikipedia'] = firstConvSplit[1]\n",
    "        \n",
    "        firstMess = testData[i][2]\n",
    "        \n",
    "        if('?' in firstMess):\n",
    "            \n",
    "            \n",
    "            topic = session['topic']  \n",
    "            knowledge = session['conversation'][contextLen - 1]['knowledge'][:25]\n",
    "            finalKnow = []\n",
    "            for k in knowledge:\n",
    "                finalKnow.append(k.replace(topic,\"\",1).strip())\n",
    "                \n",
    "            \n",
    "            conversation = []\n",
    "            currObj = {}\n",
    "            currObj['contextLen'] = contextLen\n",
    "            \n",
    "            for k in range(contextLen + 1):\n",
    "                mess = testData[i][k]\n",
    "                conversation.append(mess)\n",
    "                \n",
    "            currObj['conversation'] = conversation\n",
    "            currObj['suggestions'] = finalKnow\n",
    "            currObj['candidates'] = session['conversation'][contextLen - 1]['WizardTransformerRanker']['text_candidates']\n",
    "            currObj['actualResponse'] = testData[i][contextLen + 1]\n",
    "            currObj['origIndex'] = session['index']\n",
    "            \n",
    "            allPredicitons.append(currObj)\n",
    "        \n",
    "    except Exception as e: print(e)    "
   ]
  },
  {
   "cell_type": "code",
   "execution_count": null,
   "metadata": {},
   "outputs": [],
   "source": []
  },
  {
   "cell_type": "code",
   "execution_count": 9,
   "metadata": {},
   "outputs": [],
   "source": [
    "### see below "
   ]
  },
  {
   "cell_type": "code",
   "execution_count": 10,
   "metadata": {},
   "outputs": [],
   "source": [
    "#with open('./clean/cleanPredictionsRet2.json', 'w') as outfile:\n",
    "    #json.dump(allPredicitons, outfile)"
   ]
  },
  {
   "cell_type": "code",
   "execution_count": null,
   "metadata": {},
   "outputs": [],
   "source": []
  },
  {
   "cell_type": "code",
   "execution_count": 11,
   "metadata": {},
   "outputs": [
    {
     "data": {
      "text/plain": [
       "474"
      ]
     },
     "execution_count": 11,
     "metadata": {},
     "output_type": "execute_result"
    }
   ],
   "source": [
    "len(sessions)"
   ]
  },
  {
   "cell_type": "code",
   "execution_count": 12,
   "metadata": {},
   "outputs": [
    {
     "data": {
      "text/plain": [
       "218"
      ]
     },
     "execution_count": 12,
     "metadata": {},
     "output_type": "execute_result"
    }
   ],
   "source": [
    "len(allPredicitons)"
   ]
  },
  {
   "cell_type": "code",
   "execution_count": null,
   "metadata": {},
   "outputs": [],
   "source": []
  },
  {
   "cell_type": "code",
   "execution_count": 13,
   "metadata": {},
   "outputs": [
    {
     "name": "stdout",
     "output_type": "stream",
     "text": [
      "30\n"
     ]
    }
   ],
   "source": [
    "with open('./selected/ret/oneContext.json') as json_file:\n",
    "    ret = json.load(json_file)\n",
    "\n",
    "ind = set()\n",
    "for r in ret:\n",
    "    ind.add(r['origIndex'])\n",
    "print(len(ind))"
   ]
  },
  {
   "cell_type": "code",
   "execution_count": 14,
   "metadata": {},
   "outputs": [],
   "source": [
    "finalPred = []\n",
    "\n",
    "for pred in allPredicitons:\n",
    "    if(pred['origIndex'] not in ind):\n",
    "        finalPred.append(pred)\n"
   ]
  },
  {
   "cell_type": "code",
   "execution_count": 15,
   "metadata": {},
   "outputs": [
    {
     "data": {
      "text/plain": [
       "193"
      ]
     },
     "execution_count": 15,
     "metadata": {},
     "output_type": "execute_result"
    }
   ],
   "source": [
    "len(finalPred)"
   ]
  },
  {
   "cell_type": "code",
   "execution_count": 16,
   "metadata": {},
   "outputs": [],
   "source": [
    "with open('./clean/ret/cleanPredictionsRet2.json', 'w') as outfile:\n",
    "    json.dump(finalPred, outfile)"
   ]
  },
  {
   "cell_type": "code",
   "execution_count": null,
   "metadata": {},
   "outputs": [],
   "source": []
  },
  {
   "cell_type": "code",
   "execution_count": null,
   "metadata": {},
   "outputs": [],
   "source": []
  },
  {
   "cell_type": "code",
   "execution_count": null,
   "metadata": {},
   "outputs": [],
   "source": []
  },
  {
   "cell_type": "code",
   "execution_count": null,
   "metadata": {},
   "outputs": [],
   "source": []
  }
 ],
 "metadata": {
  "kernelspec": {
   "display_name": "Python 3",
   "language": "python",
   "name": "python3"
  },
  "language_info": {
   "codemirror_mode": {
    "name": "ipython",
    "version": 3
   },
   "file_extension": ".py",
   "mimetype": "text/x-python",
   "name": "python",
   "nbconvert_exporter": "python",
   "pygments_lexer": "ipython3",
   "version": "3.7.6"
  }
 },
 "nbformat": 4,
 "nbformat_minor": 2
}
