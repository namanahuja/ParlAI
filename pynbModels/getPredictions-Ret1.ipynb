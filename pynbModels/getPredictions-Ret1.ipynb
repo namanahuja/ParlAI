{
 "cells": [
  {
   "cell_type": "code",
   "execution_count": 1,
   "metadata": {},
   "outputs": [],
   "source": [
    "import json"
   ]
  },
  {
   "cell_type": "code",
   "execution_count": 2,
   "metadata": {},
   "outputs": [],
   "source": [
    "with open('predictionsRetEdit.json') as json_file:\n",
    "    sessions = json.load(json_file)"
   ]
  },
  {
   "cell_type": "code",
   "execution_count": 3,
   "metadata": {},
   "outputs": [],
   "source": [
    "with open('testData.json') as json_file:\n",
    "    testData = json.load(json_file)"
   ]
  },
  {
   "cell_type": "code",
   "execution_count": 4,
   "metadata": {},
   "outputs": [],
   "source": [
    "testData = testData['data']"
   ]
  },
  {
   "cell_type": "code",
   "execution_count": null,
   "metadata": {},
   "outputs": [],
   "source": []
  },
  {
   "cell_type": "code",
   "execution_count": 5,
   "metadata": {},
   "outputs": [],
   "source": [
    "allPredicitons = []\n",
    "\n",
    "\n",
    "contextLen = 1"
   ]
  },
  {
   "cell_type": "code",
   "execution_count": 6,
   "metadata": {},
   "outputs": [],
   "source": [
    "session = sessions[1]\n",
    "topic = session['topic'] \n",
    "knowledge = session['conversation']"
   ]
  },
  {
   "cell_type": "code",
   "execution_count": 7,
   "metadata": {},
   "outputs": [
    {
     "data": {
      "text/plain": [
       "474"
      ]
     },
     "execution_count": 7,
     "metadata": {},
     "output_type": "execute_result"
    }
   ],
   "source": [
    "len(sessions)"
   ]
  },
  {
   "cell_type": "code",
   "execution_count": 8,
   "metadata": {},
   "outputs": [
    {
     "data": {
      "text/plain": [
       "{'index': 0,\n",
       " 'topic': 'Cinematography',\n",
       " 'conversation': [{'wizard_of_wikipedia': 'Cinematography\\nHi buddy, What you think about cinematography',\n",
       "   'knowledge': ['Cinematography Cinematography (also called \"Direction of Photography\") is the science or art of motion-picture photography by recording light or other electromagnetic radiation, either electronically by means of an image sensor, or chemically by means of a light-sensitive material such as film stock.',\n",
       "    'Cinematography Typically, a lens is used to repeatedly focus the light reflected from objects into real images on the light-sensitive surface inside a camera during a questioned exposure, creating multiple images.',\n",
       "    'Cinematography With an electronic image sensor, this produces an electrical charge at each pixel, which is electronically processed and stored in a video file for subsequent display or processing.',\n",
       "    'Cinematography The result with photographic emulsion is a series of invisible latent images on the film stock, which are later chemically \"developed\" into a visible image.',\n",
       "    'Cinematography The images on the film stock are played back at a rapid speed and projected onto a screen, creating the illusion of motion.',\n",
       "    'Cinematography Cinematography finds uses in many fields of science and business as well as for entertainment purposes and mass communication.',\n",
       "    'Cinematography The word \"cinematography\" was created from the Greek words (\"kinema\"), meaning \"movement, motion\" and (\"graphein\") meaning \"to record\", together meaning \"recording motion.\"',\n",
       "    \"Buddy's Song (novel) Buddy's Song is a novel by British author Nigel Hinton which was first published in 1987.\",\n",
       "    \"Buddy's Song (novel) It is the second instalment in the Buddy trilogy, between Buddy and Buddy's Blues, and follows the story of Buddy as he started to pursue a musical career.\",\n",
       "    \"Buddy's Song (novel) The book was adapted into a film, directed by Claude Whatham and starring Roger Daltrey and Chesney Hawkes as Terry and Buddy respectively, in 1990.\",\n",
       "    \"Buddy's Song (novel) Whilst visiting the set in the television series based on the first book the author asked why they put a guitar in Buddy's bedroom.\",\n",
       "    \"Buddy's Song (novel) The set designer explained that he figured Terry got Buddy a guitar then he gave up when he could not play it.\",\n",
       "    \"Hi-5 (Australian band) Hi-5 are an Australian children's musical group formed in 1998, who are associated with the children's television series of the same name.\",\n",
       "    'Hi-5 (Australian band) As of December 2016, the members are Lachie Dearing, Courtney Clarke, Shay Clifford, Joe Kalou and Bailey Spalding.',\n",
       "    'Hi-5 (Australian band) The group is aimed at preschoolers, composed of five performers who entertain and educate children through music, movement and play.',\n",
       "    'Hi-5 (Australian band) \"Hi-5\" was created by Helena Harris and Posie Graeme-Evans, initially a television series for the Nine Network, which premiered in 1999.',\n",
       "    'Hi-5 (Australian band) The cast of the show became a recognised musical group for children.',\n",
       "    'Hi-5 (Australian band) The original members were Kellie Crawford, Kathleen de Leon Jones, Nathan Foley, Tim Harding and Charli Robinson.',\n",
       "    'Buddy Rich Bernard \"Buddy\" Rich (September 30, 1917 – April 2, 1987) was an American jazz drummer and bandleader.',\n",
       "    'Buddy Rich Widely considered one of the most influential drummers of all time and known for his virtuoso technique, power, and speed, Rich was billed as \"the world\\'s greatest drummer\" during his career.'],\n",
       "   'WizardTransformerRanker': {'text': 'Cinematography,is a type of motion picture , captured electronically by means of an image ',\n",
       "    'text_candidates': ['Cinematography,is a type of motion picture , captured electronically by means of an image ',\n",
       "     'I do not do it for a living but I apparently do it for all of my friends!',\n",
       "     'It appears as though there is much variation in the profession.  I commend anyone who has the drive to accomplish it.',\n",
       "     'what is a chenille?',\n",
       "     'I agree. Social media is a huge influence, especially as somebody actively involved in the datIng scene.',\n",
       "     'that is very interesting ',\n",
       "     'What is the bow? Is that the part made of horse hair and wood or no?',\n",
       "     'Do you know prompted the government to take this action? Were there circumstances that caused this program to come into existence?',\n",
       "     'Speaking of a Casino I saw Travis Pastrana jump over a fountain in Vegas last night.',\n",
       "     \"I didn't know that it was related to England, but guess I never really gave it much thought. It's interesting to know!\"]}},\n",
       "  {'wizard_of_wikipedia': 'Yes buddy,  Images captured with an electronic image-sensor, produces an electrical charge.The word \"cinematography\" is based on the Greek words  meaning movement, motion.',\n",
       "   'knowledge': ['Cinematography Cinematography (also called \"Direction of Photography\") is the science or art of motion-picture photography by recording light or other electromagnetic radiation, either electronically by means of an image sensor, or chemically by means of a light-sensitive material such as film stock.',\n",
       "    'Cinematography Typically, a lens is used to repeatedly focus the light reflected from objects into real images on the light-sensitive surface inside a camera during a questioned exposure, creating multiple images.',\n",
       "    'Cinematography With an electronic image sensor, this produces an electrical charge at each pixel, which is electronically processed and stored in a video file for subsequent display or processing.',\n",
       "    'Cinematography The result with photographic emulsion is a series of invisible latent images on the film stock, which are later chemically \"developed\" into a visible image.',\n",
       "    'Cinematography The images on the film stock are played back at a rapid speed and projected onto a screen, creating the illusion of motion.',\n",
       "    'Cinematography Cinematography finds uses in many fields of science and business as well as for entertainment purposes and mass communication.',\n",
       "    'Cinematography The word \"cinematography\" was created from the Greek words (\"kinema\"), meaning \"movement, motion\" and (\"graphein\") meaning \"to record\", together meaning \"recording motion.\"',\n",
       "    'Photography Photography is the science, art, application and practice of creating durable images by recording light or other electromagnetic radiation, either electronically by means of an image sensor, or chemically by means of a light-sensitive material such as photographic film.',\n",
       "    'Photography Typically, a lens is used to focus the light reflected or emitted from objects into a real image on the light-sensitive surface inside a camera during a timed exposure.',\n",
       "    'Photography With an electronic image sensor, this produces an electrical charge at each pixel, which is electronically processed and stored in a digital image file for subsequent display or processing.',\n",
       "    'Image stabilization Image stabilization (IS) is a family of techniques that reduce blurring associated with the motion of a camera or other imaging device during exposure.',\n",
       "    'Image stabilization Generally, it compensates for pan and tilt (angular movement, equivalent to yaw and pitch) of the imaging device, though electronic image stabilization can also compensate for rotation.',\n",
       "    'Image stabilization It is used in image-stabilized binoculars, still and video cameras, astronomical telescopes, and also smartphones, mainly the high-end.',\n",
       "    'Image stabilization With still cameras, camera shake is particularly problematic at slow shutter speeds or with long focal length (telephoto or zoom) lenses.',\n",
       "    'Camera A camera is an optical instrument for recording or capturing images, which may be stored locally, transmitted to another location, or both.',\n",
       "    'Camera The images may be individual still photographs or sequences of images constituting videos or movies.',\n",
       "    'Camera The camera is a remote sensing device as it senses subjects without any contact  .',\n",
       "    'Camera The word \"camera\" comes from \"camera obscura\", which means \"dark chamber\" and is the Latin name of the original device for projecting an image of external reality onto a flat surface.',\n",
       "    'Camera The modern photographic camera evolved from the camera obscura.',\n",
       "    'Camera The functioning of the camera is very similar to the functioning of the human eye.'],\n",
       "   'WizardTransformerRanker': {'text': 'It works by lens used to repeatedly focus the light reflected from objects into real images on the light-sensitive surface .',\n",
       "    'text_candidates': ['It works by lens used to repeatedly focus the light reflected from objects into real images on the light-sensitive surface .',\n",
       "     'Uhmnnn! I find these really interesting,Please tell me more about it',\n",
       "     'Are you familiar with the Tango?',\n",
       "     'oh that seems like an ocular pat down',\n",
       "     \"I see, I suppose that's an important feature. Is there anything else you like about the iPhone?\",\n",
       "     'Oh. Who else was in that movie?',\n",
       "     'yea, thats what they think but its not so, Medical images are stored digitally in the picture archiving and communication system (PACS) where they can be viewed by all members of the healthcare team',\n",
       "     'thats good to know',\n",
       "     'I like A role-playing video game',\n",
       "     \"What is a vivarium? I've never heard that term before.\"]}},\n",
       "  {'wizard_of_wikipedia': ' Muybridge sequence of a horse galloping In the 1830s, moving images were produced on revolving drums and disks',\n",
       "   'knowledge': ['Cinematography Cinematography (also called \"Direction of Photography\") is the science or art of motion-picture photography by recording light or other electromagnetic radiation, either electronically by means of an image sensor, or chemically by means of a light-sensitive material such as film stock.',\n",
       "    'Cinematography Typically, a lens is used to repeatedly focus the light reflected from objects into real images on the light-sensitive surface inside a camera during a questioned exposure, creating multiple images.',\n",
       "    'Cinematography With an electronic image sensor, this produces an electrical charge at each pixel, which is electronically processed and stored in a video file for subsequent display or processing.',\n",
       "    'Cinematography The result with photographic emulsion is a series of invisible latent images on the film stock, which are later chemically \"developed\" into a visible image.',\n",
       "    'Cinematography The images on the film stock are played back at a rapid speed and projected onto a screen, creating the illusion of motion.',\n",
       "    'Cinematography Cinematography finds uses in many fields of science and business as well as for entertainment purposes and mass communication.',\n",
       "    'Cinematography The word \"cinematography\" was created from the Greek words (\"kinema\"), meaning \"movement, motion\" and (\"graphein\") meaning \"to record\", together meaning \"recording motion.\"',\n",
       "    'Precursors of film Much of film as an art form grew out of several earlier traditions in the fields of (oral) storytelling and literature (relating to the screenplay), theatre (relating to the theatre director/film director, a cast of actors, a production team that can include a scenic or set designer, lighting designer, costume designer) and visual art.',\n",
       "    'Precursors of film Especially after the silent film era sound design and music (relating to the soundtrack and film score) became important factors.',\n",
       "    'Precursors of film The technology of film emerged mostly from developments and achievements in the fields of projection, lenses, photography and optics, with sound recording and reproduction becoming important after the silent film era.',\n",
       "    'Eadweard Muybridge Eadweard Muybridge (; 9 April 1830\\xa0– 8 May 1904, born Edward James Muggeridge) was an English photographer important for his pioneering work in photographic studies of motion, and early work in motion-picture projection.',\n",
       "    'Eadweard Muybridge He adopted the first name Eadweard as the original Anglo-Saxon form of Edward, and the surname Muybridge believing it to be similarly archaic.',\n",
       "    'Eadweard Muybridge At age 20, he emigrated to America as a bookseller, first to New York, and then to San Francisco.',\n",
       "    'Eadweard Muybridge Planning a return trip to Europe in 1860, he suffered serious head injuries in a stagecoach crash in Texas.',\n",
       "    'Eadweard Muybridge He spent the next few years recuperating in England, where he took up professional photography, learning the wet-plate collodion process, and secured at least two British patents for his inventions.',\n",
       "    'Proto-Cubism Proto-Cubism (also referred to as Protocubism, Pre-Cubism or Early Cubism) is an intermediary transition phase in the history of art chronologically extending from 1906 to 1910.',\n",
       "    'Proto-Cubism Evidence suggests that the production of proto-Cubist paintings resulted from a wide-ranging series of experiments, circumstances, influences and conditions, rather than from one isolated static event, trajectory, artist or discourse.',\n",
       "    'Proto-Cubism With its roots stemming from at least the late 19th century this period can be characterized by a move towards the radical geometrization of form and a reduction or limitation of the color palette (in comparison with Fauvism).',\n",
       "    'History of film technology The history of film technology traces the development of film technology from the initial development of \"moving pictures\" at the end of 19th century to the present time.',\n",
       "    'History of film technology Motion pictures were initially exhibited as a fairground novelty and developed into one of the most important tools of communication and entertainment in the 20th century.'],\n",
       "   'WizardTransformerRanker': {'text': 'Cinematography is also a type of photography which is the science, art, application and practice of creating durable images by recording light or other electromagnetic radiation, either electronically by means of an image sensor.',\n",
       "    'text_candidates': ['Cinematography is also a type of photography which is the science, art, application and practice of creating durable images by recording light or other electromagnetic radiation, either electronically by means of an image sensor.',\n",
       "     'Absolutely, but at the cost of sitting through horribly old 70s instructional videos on VHS tape...',\n",
       "     'In the Middle Ages, often fairs developed as temporary markets and were especially important for international trade.',\n",
       "     'oh oh. thanks for the good information',\n",
       "     \"I'm not sure what CAD is, but I do know about stereolithography. It's one of the most common file types for 3D printing.\",\n",
       "     \"It's so cool, I never thought of it that way\",\n",
       "     'I wish I could do one of those right now.',\n",
       "     'I have never heard of \"rolphing\" before. Can you tell me more?',\n",
       "     'Its been existence for long.Yoga Sutras\" were compiled prior to 400 CE by Sage Patanjali, taking materials about yoga',\n",
       "     'It increases your physical strength.']}},\n",
       "  {'wizard_of_wikipedia': 'Yes , Cinematography finds uses in many fields of science and business as well as for entertainment purposes',\n",
       "   'knowledge': ['Cinematography Cinematography (also called \"Direction of Photography\") is the science or art of motion-picture photography by recording light or other electromagnetic radiation, either electronically by means of an image sensor, or chemically by means of a light-sensitive material such as film stock.',\n",
       "    'Cinematography Typically, a lens is used to repeatedly focus the light reflected from objects into real images on the light-sensitive surface inside a camera during a questioned exposure, creating multiple images.',\n",
       "    'Cinematography With an electronic image sensor, this produces an electrical charge at each pixel, which is electronically processed and stored in a video file for subsequent display or processing.',\n",
       "    'Cinematography The result with photographic emulsion is a series of invisible latent images on the film stock, which are later chemically \"developed\" into a visible image.',\n",
       "    'Cinematography The images on the film stock are played back at a rapid speed and projected onto a screen, creating the illusion of motion.',\n",
       "    'Cinematography Cinematography finds uses in many fields of science and business as well as for entertainment purposes and mass communication.',\n",
       "    'Cinematography The word \"cinematography\" was created from the Greek words (\"kinema\"), meaning \"movement, motion\" and (\"graphein\") meaning \"to record\", together meaning \"recording motion.\"',\n",
       "    'George Wallace Gouinlock George Wallace Gouinlock (August 1, 1861- February 13, 1932) was a Toronto-based architect who was responsible for notable structures in Toronto.',\n",
       "    'George Wallace Gouinlock Gouinlock was born in 1861 in Paris, Ontario to Walter & Elizabeth Gouinlock.',\n",
       "    'George Wallace Gouinlock He married Georgina Watson in 1889 and had sons George Roper and Robert.',\n",
       "    'George Wallace Gouinlock He trained in various cities (including Hamilton, Chicago and Milwaukee) towards becoming an architect.',\n",
       "    'George Wallace Gouinlock He later moved to Winnipeg as a junior architect with Barber, Bowes & Barber.',\n",
       "    'George Wallace Gouinlock He came to Toronto in 1888 and began a partnership with architect Francis S. Baker (as Gouinlock & Baker) from 1888 to 1890.',\n",
       "    'Instrumental and value rationality People reason daily about what they ought to do and how they ought to act.',\n",
       "    'Instrumental and value rationality They seem to reason in two distinct ways, identified as two kinds of reasoning-at-large or Rationality.',\n",
       "    'Instrumental and value rationality They reason about legitimate ends—what they ought to do—and about efficient means—how they ought to achieve their ends.',\n",
       "    'Instrumental and value rationality Since antiquity, scholars have accepted this dichotomy and assigned supreme importance to understanding both kinds of rationality, as the following quotes suggest:  Following the usage of German sociologist Max Weber (1864–1920), reasoning about means has been labeled instrumental rationality and reasoning about ends has been labeled value rationality.',\n",
       "    'Exhibition Place Exhibition Place is a publicly owned mixed-use district in Toronto, Ontario, Canada, located by the shoreline of Lake Ontario, just west of downtown.',\n",
       "    'Exhibition Place The site includes exhibit, trade, and banquet centres, theatre and music buildings, monuments, parkland, sports facilities, and a number of civic, provincial, and national historic sites.',\n",
       "    \"Exhibition Place The district's facilities are used year-round for exhibitions, trade shows, public and private functions, and sporting events.\"],\n",
       "   'WizardTransformerRanker': {'text': 'Yes and cinematography skills can also be used in mass marketing and other fields as well',\n",
       "    'text_candidates': ['Yes and cinematography skills can also be used in mass marketing and other fields as well',\n",
       "     'Some however prefer using   digital camera or digicam ,which is a camera that captures photograph.',\n",
       "     'Yes. I like movies that use use speculative, fictional science-based depictions of phenomena.',\n",
       "     'What else can you tell me about painting?',\n",
       "     'Thats fun Reality TV is great. I like how it is real-life situations and no one is professional. ',\n",
       "     'I wear hard plastic glasses with progressive lenses, do you wear any glasses?',\n",
       "     \"Lip synching is when a performer mimes to a previously produced studio recording, while karaoke doesn't use any pre recorded vocas\",\n",
       "     'OK what more do you know?',\n",
       "     'Sounds interesting! Has Sci-Fi resulted in any noticeable effects in modern society?',\n",
       "     'It can be relaxing to just weave your way into a piece of art. It also allows me to settle my mind.']}},\n",
       "  {'wizard_of_wikipedia': 'Yes now digital camera is trendy',\n",
       "   'knowledge': ['Cinematography Cinematography (also called \"Direction of Photography\") is the science or art of motion-picture photography by recording light or other electromagnetic radiation, either electronically by means of an image sensor, or chemically by means of a light-sensitive material such as film stock.',\n",
       "    'Cinematography Typically, a lens is used to repeatedly focus the light reflected from objects into real images on the light-sensitive surface inside a camera during a questioned exposure, creating multiple images.',\n",
       "    'Cinematography With an electronic image sensor, this produces an electrical charge at each pixel, which is electronically processed and stored in a video file for subsequent display or processing.',\n",
       "    'Cinematography The result with photographic emulsion is a series of invisible latent images on the film stock, which are later chemically \"developed\" into a visible image.',\n",
       "    'Cinematography The images on the film stock are played back at a rapid speed and projected onto a screen, creating the illusion of motion.',\n",
       "    'Cinematography Cinematography finds uses in many fields of science and business as well as for entertainment purposes and mass communication.',\n",
       "    'Cinematography The word \"cinematography\" was created from the Greek words (\"kinema\"), meaning \"movement, motion\" and (\"graphein\") meaning \"to record\", together meaning \"recording motion.\"',\n",
       "    'Digital camera A digital camera or digicam is a camera that captures photographs in digital memory.',\n",
       "    'Digital camera Most cameras produced today are digital, and while there are still dedicated compact cameras on the market, the use of dedicated digital cameras is dwindling, as digital cameras are now incorporated into many devices ranging from mobile devices to vehicles.',\n",
       "    'Digital camera However, expensive, high-end, high-definition dedicated cameras are still commonly used by professionals.',\n",
       "    'Digital camera Digital and movie cameras share an optical system, typically using a lens with a variable diaphragm to focus light onto an image pickup device.',\n",
       "    'Digital camera The diaphragm and shutter admit the correct amount of light to the imager, just as with film but the image pickup device is electronic rather than chemical.',\n",
       "    'Digital camera back A digital camera back is a device that attaches to the back of a camera in place of the traditional negative film holder and contains an electronic image sensor.',\n",
       "    'Digital camera back This lets cameras that were designed to use film take digital photographs.',\n",
       "    'Digital camera back These camera backs are generally expensive by consumer standards (US$5000 and up) and are primarily built to be attached on medium- and large-format cameras used by professional photographers.',\n",
       "    'Digital camera back Two sensor back types are commonly used: single shot back (non-scanning) and scan back.',\n",
       "    'Digital camera back Some backs, primarily older ones, require multiple exposures to capture an image; generally one each for red, green, and blue.',\n",
       "    'Digital photography Digital photography is a form of photography that uses cameras containing arrays of electronic photodetectors to capture images focused by a lens, as opposed to an exposure on photographic film.',\n",
       "    'Digital photography The captured images are digitized and stored as a computer file ready for further digital processing, viewing, digital publishing or printing.',\n",
       "    'Digital photography Until the advent of such technology, photographs were made by exposing light sensitive photographic film and paper, which was processed in liquid chemical solutions to develop and stabilize the image.'],\n",
       "   'WizardTransformerRanker': {'text': 'Prior to the advent of digital technology,  photographs were made by exposing light sensitive photographic film and paper, which was processed in liquid chemical .',\n",
       "    'text_candidates': ['Prior to the advent of digital technology,  photographs were made by exposing light sensitive photographic film and paper, which was processed in liquid chemical .',\n",
       "     'Yes, all of which are essential and proven methods for reaching students.  Discussion is especially important',\n",
       "     'Thats quite interesting thanks for the information',\n",
       "     'What cool tricks do they know?',\n",
       "     'It was directed, written, co- produced by James Cameron',\n",
       "     'It all started in 1953 when the first model came out.',\n",
       "     'That sounds quite helpful and useful.',\n",
       "     'Only since 2001 so they look like robots. ',\n",
       "     \"Radiology would be a great career! There's other techniques such as ultrasound, computed tomography, positron emission tomography - you can specialize in many types of imaging\",\n",
       "     'Wow, do you know any of these three studios?']}}]}"
      ]
     },
     "execution_count": 8,
     "metadata": {},
     "output_type": "execute_result"
    }
   ],
   "source": [
    "sessions[0]"
   ]
  },
  {
   "cell_type": "code",
   "execution_count": 9,
   "metadata": {},
   "outputs": [],
   "source": [
    "for i in range(len(sessions)):\n",
    "    \n",
    "    session = sessions[i]\n",
    "    try:\n",
    "        \n",
    "        #firstConv = session['conversation'][0]\n",
    "        #firstConvSplit = firstConv['wizard_of_wikipedia'].split(\"\\n\")\n",
    "        #firstConv['wizard_of_wikipedia'] = firstConvSplit[1]\n",
    "        \n",
    "        firstMess = testData[i][contextLen - 1]\n",
    "        \n",
    "        if('?' in firstMess):\n",
    "             \n",
    "            topic = session['topic']  \n",
    "            knowledge = session['conversation'][contextLen - 1]['knowledge'][:25]\n",
    "            finalKnow = []\n",
    "            for k in knowledge:\n",
    "                finalKnow.append(k.replace(topic,\"\",1).strip())\n",
    "            \n",
    "            \n",
    "            conversation = []\n",
    "            currObj = {}\n",
    "            currObj['contextLen'] = contextLen\n",
    "            conversation.append(firstMess)\n",
    "            currObj['conversation'] = conversation\n",
    "            currObj['candidates'] = session['conversation'][contextLen - 1]['WizardTransformerRanker']['text_candidates']\n",
    "            currObj['suggestions'] = finalKnow\n",
    "            currObj['actualResponse'] = testData[i][contextLen]\n",
    "            currObj['origIndex'] = session['index']\n",
    "            \n",
    "            allPredicitons.append(currObj)\n",
    "        \n",
    "    except Exception as e: print(e)    "
   ]
  },
  {
   "cell_type": "code",
   "execution_count": null,
   "metadata": {},
   "outputs": [],
   "source": []
  },
  {
   "cell_type": "code",
   "execution_count": null,
   "metadata": {},
   "outputs": [],
   "source": []
  },
  {
   "cell_type": "code",
   "execution_count": 10,
   "metadata": {},
   "outputs": [
    {
     "data": {
      "text/plain": [
       "474"
      ]
     },
     "execution_count": 10,
     "metadata": {},
     "output_type": "execute_result"
    }
   ],
   "source": [
    "len(sessions)"
   ]
  },
  {
   "cell_type": "code",
   "execution_count": 11,
   "metadata": {},
   "outputs": [
    {
     "data": {
      "text/plain": [
       "199"
      ]
     },
     "execution_count": 11,
     "metadata": {},
     "output_type": "execute_result"
    }
   ],
   "source": [
    "len(allPredicitons)"
   ]
  },
  {
   "cell_type": "code",
   "execution_count": 12,
   "metadata": {},
   "outputs": [],
   "source": [
    "with open('./clean/ret/cleanPredictionsRet1.json', 'w') as outfile:\n",
    "    json.dump(allPredicitons, outfile)"
   ]
  },
  {
   "cell_type": "code",
   "execution_count": null,
   "metadata": {},
   "outputs": [],
   "source": []
  },
  {
   "cell_type": "code",
   "execution_count": null,
   "metadata": {},
   "outputs": [],
   "source": []
  },
  {
   "cell_type": "code",
   "execution_count": null,
   "metadata": {},
   "outputs": [],
   "source": []
  },
  {
   "cell_type": "code",
   "execution_count": null,
   "metadata": {},
   "outputs": [],
   "source": []
  },
  {
   "cell_type": "code",
   "execution_count": null,
   "metadata": {},
   "outputs": [],
   "source": []
  },
  {
   "cell_type": "code",
   "execution_count": null,
   "metadata": {},
   "outputs": [],
   "source": []
  },
  {
   "cell_type": "code",
   "execution_count": null,
   "metadata": {},
   "outputs": [],
   "source": []
  }
 ],
 "metadata": {
  "kernelspec": {
   "display_name": "Python 3",
   "language": "python",
   "name": "python3"
  },
  "language_info": {
   "codemirror_mode": {
    "name": "ipython",
    "version": 3
   },
   "file_extension": ".py",
   "mimetype": "text/x-python",
   "name": "python",
   "nbconvert_exporter": "python",
   "pygments_lexer": "ipython3",
   "version": "3.7.6"
  }
 },
 "nbformat": 4,
 "nbformat_minor": 2
}
