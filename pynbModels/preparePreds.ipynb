{
 "cells": [
  {
   "cell_type": "code",
   "execution_count": 1,
   "metadata": {},
   "outputs": [],
   "source": [
    "import os\n",
    "from pathlib import Path\n",
    "import sys\n",
    "import os\n",
    "import _pickle as pickle\n",
    "import json\n",
    "import copy\n",
    "import language_check\n",
    "import re"
   ]
  },
  {
   "cell_type": "code",
   "execution_count": 10,
   "metadata": {},
   "outputs": [],
   "source": [
    "preds = []"
   ]
  },
  {
   "cell_type": "code",
   "execution_count": 11,
   "metadata": {},
   "outputs": [],
   "source": [
    "with open('./raw/predictionsRet.json') as json_file:\n",
    "    sessions = json.load(json_file)"
   ]
  },
  {
   "cell_type": "code",
   "execution_count": 12,
   "metadata": {},
   "outputs": [
    {
     "data": {
      "text/plain": [
       "['Blue Blue is one of the three primary colours of pigments in painting and traditional colour theory, as well as in the RGB colour model.',\n",
       " 'Blue It lies between violet and green on the spectrum of visible light.',\n",
       " 'Blue The eye perceives blue when observing light with a dominant wavelength between approximately 450 and 495 nanometres.',\n",
       " 'Blue Most blues contain a slight mixture of other colors; azure contains some green, while ultramarine contains some violet.',\n",
       " 'Blue The clear daytime sky and the deep sea appear blue because of an optical effect known as Rayleigh scattering.',\n",
       " 'Blue An optical effect called Tyndall scattering explains blue eyes.',\n",
       " 'Blue Distant objects appear more blue because of another optical effect called atmospheric perspective.',\n",
       " 'Blue Blue has been an important colour in art and decoration since ancient times.',\n",
       " 'Blue The semi-precious stone lapis lazuli was used in ancient Egypt for jewellery and ornament and later, in The Renaissance, to make the pigment ultramarine, the most expensive of all pigments.',\n",
       " 'Blue In the eighth century Chinese artists used cobalt blue to colour fine blue and white porcelain.',\n",
       " 'Blue In the Middle Ages, European artists used it in the windows of Cathedrals.',\n",
       " 'Blue Europeans wore clothing coloured with the vegetable dye woad until it was replaced by the finer indigo from America.',\n",
       " '']"
      ]
     },
     "execution_count": 12,
     "metadata": {},
     "output_type": "execute_result"
    }
   ],
   "source": [
    "sessions[0][0]['knowledge']"
   ]
  },
  {
   "cell_type": "code",
   "execution_count": 13,
   "metadata": {},
   "outputs": [],
   "source": [
    "ind = 0\n",
    "for session in sessions:\n",
    "    conv = {}\n",
    "    firstDiag = session[0]['wizard_of_wikipedia']\n",
    "    if(len(firstDiag.split(\"\\n\")) < 2):\n",
    "        continue\n",
    "    topic = firstDiag.split(\"\\n\")[0]\n",
    "    conv['index'] = ind\n",
    "    ind += 1\n",
    "    \n",
    "    conv['topic'] = topic\n",
    "    conv['conversation'] = session\n",
    "    \n",
    "    \n",
    "    preds.append(conv)"
   ]
  },
  {
   "cell_type": "code",
   "execution_count": 14,
   "metadata": {},
   "outputs": [],
   "source": [
    "with open('predictionsRetEdit.json', 'w') as outfile:\n",
    "    json.dump(preds, outfile)"
   ]
  },
  {
   "cell_type": "code",
   "execution_count": null,
   "metadata": {},
   "outputs": [],
   "source": []
  },
  {
   "cell_type": "code",
   "execution_count": null,
   "metadata": {},
   "outputs": [],
   "source": []
  },
  {
   "cell_type": "code",
   "execution_count": null,
   "metadata": {},
   "outputs": [],
   "source": []
  },
  {
   "cell_type": "code",
   "execution_count": null,
   "metadata": {},
   "outputs": [],
   "source": []
  },
  {
   "cell_type": "code",
   "execution_count": 7,
   "metadata": {},
   "outputs": [],
   "source": [
    "preds = []\n",
    "with open('./raw/predictionsGen.json') as json_file:\n",
    "    sessions = json.load(json_file)"
   ]
  },
  {
   "cell_type": "code",
   "execution_count": null,
   "metadata": {},
   "outputs": [],
   "source": []
  },
  {
   "cell_type": "code",
   "execution_count": null,
   "metadata": {},
   "outputs": [],
   "source": []
  },
  {
   "cell_type": "code",
   "execution_count": 8,
   "metadata": {},
   "outputs": [],
   "source": [
    "ind = 0\n",
    "for session in sessions:\n",
    "    conv = {}\n",
    "    firstDiag = session[0]['WizTeacher']\n",
    "    if(len(firstDiag.split(\"\\n\")) < 2):\n",
    "        continue\n",
    "    conv['index'] = ind\n",
    "    ind += 1\n",
    "    \n",
    "    conv['conversation'] = session\n",
    "    \n",
    "    preds.append(conv)"
   ]
  },
  {
   "cell_type": "code",
   "execution_count": 9,
   "metadata": {},
   "outputs": [],
   "source": [
    "with open('predictionsGenEdit.json', 'w') as outfile:\n",
    "    json.dump(preds, outfile)"
   ]
  },
  {
   "cell_type": "code",
   "execution_count": null,
   "metadata": {},
   "outputs": [],
   "source": []
  },
  {
   "cell_type": "code",
   "execution_count": null,
   "metadata": {},
   "outputs": [],
   "source": []
  },
  {
   "cell_type": "code",
   "execution_count": 21,
   "metadata": {},
   "outputs": [],
   "source": [
    "with open('./selected/ret/threeContext.json') as json_file:\n",
    "    ret3 = json.load(json_file)\n",
    "\n",
    "    \n",
    "with open('./selected/gen/threeContext.json') as json_file:\n",
    "    gen3 = json.load(json_file)\n",
    "    \n",
    "    \n",
    "finalGen3 = []"
   ]
  },
  {
   "cell_type": "code",
   "execution_count": 22,
   "metadata": {},
   "outputs": [],
   "source": [
    "for r in ret3:\n",
    "    ind = r['origIndex']\n",
    "    obj = next((x for x in gen3 if x['origIndex'] == ind), None)\n",
    "    finalGen3.append(obj)\n"
   ]
  },
  {
   "cell_type": "code",
   "execution_count": 23,
   "metadata": {},
   "outputs": [],
   "source": [
    "with open('./selected/gen/threeContext.json', 'w') as outfile:\n",
    "    json.dump(finalGen3, outfile)"
   ]
  },
  {
   "cell_type": "code",
   "execution_count": null,
   "metadata": {},
   "outputs": [],
   "source": []
  },
  {
   "cell_type": "code",
   "execution_count": null,
   "metadata": {},
   "outputs": [],
   "source": []
  },
  {
   "cell_type": "code",
   "execution_count": 9,
   "metadata": {},
   "outputs": [],
   "source": [
    "with open('./clean/ret/cleanPredictionsRet3.json') as json_file:\n",
    "    sessions = json.load(json_file)"
   ]
  },
  {
   "cell_type": "code",
   "execution_count": 10,
   "metadata": {},
   "outputs": [],
   "source": [
    "with open('./selected/ret/threeContext.json') as json_file:\n",
    "    ret = json.load(json_file)"
   ]
  },
  {
   "cell_type": "code",
   "execution_count": null,
   "metadata": {},
   "outputs": [],
   "source": []
  },
  {
   "cell_type": "code",
   "execution_count": 11,
   "metadata": {},
   "outputs": [],
   "source": [
    "AIret = []\n",
    "for r in ret:\n",
    "    ind = r['origIndex']\n",
    "    obj = next((x for x in sessions if x['origIndex'] == ind), None)\n",
    "    candidates = [x for x in obj['candidates'] if x.strip() != r['actualResponse'].strip()][:5]\n",
    "    r['suggestions'] = candidates\n",
    "    \n",
    "    AIret.append(r)\n",
    "    \n",
    "with open('./selected/ret_AI/threeContext.json', 'w') as outfile:\n",
    "    json.dump(AIret, outfile)"
   ]
  },
  {
   "cell_type": "code",
   "execution_count": null,
   "metadata": {},
   "outputs": [],
   "source": []
  },
  {
   "cell_type": "code",
   "execution_count": null,
   "metadata": {},
   "outputs": [],
   "source": []
  },
  {
   "cell_type": "code",
   "execution_count": null,
   "metadata": {},
   "outputs": [],
   "source": []
  },
  {
   "cell_type": "code",
   "execution_count": null,
   "metadata": {},
   "outputs": [],
   "source": []
  },
  {
   "cell_type": "code",
   "execution_count": 13,
   "metadata": {},
   "outputs": [],
   "source": [
    "\n",
    "for root, dirs, files in os.walk(\"./selected/ret_AI\"):\n",
    "    for file in files:\n",
    "        if file.endswith(\".json\"):\n",
    "            fileName = os.path.join(root, file)\n",
    "            with open(fileName) as json_file:\n",
    "                index = 0\n",
    "                try:\n",
    "                    data = json.load(json_file)\n",
    "                    \n",
    "                    for d in data:\n",
    "                        d['index'] = index\n",
    "                        index += 1\n",
    "                        \n",
    "                        d['suggestions'] = d['suggestions'][:5]\n",
    "\n",
    "                        del d['origIndex']\n",
    "                    \n",
    "                    filePath = './final/ret_AI/' + os.path.basename(fileName)\n",
    "                    with open(filePath, 'w') as outfile:\n",
    "                        json.dump(data, outfile)\n",
    "                \n",
    "                except Exception as e: print(e)"
   ]
  },
  {
   "cell_type": "code",
   "execution_count": null,
   "metadata": {},
   "outputs": [],
   "source": []
  },
  {
   "cell_type": "code",
   "execution_count": 25,
   "metadata": {},
   "outputs": [],
   "source": [
    "\n",
    "for root, dirs, files in os.walk(\"./selected/gen\"):\n",
    "    for file in files:\n",
    "        if file.endswith(\".json\"):\n",
    "            fileName = os.path.join(root, file)\n",
    "            with open(fileName) as json_file:\n",
    "                index = 0\n",
    "                try:\n",
    "                    data = json.load(json_file)\n",
    "                    \n",
    "                    for d in data:\n",
    "                        d['index'] = index\n",
    "                        index += 1\n",
    "\n",
    "                        del d['origIndex']\n",
    "                    \n",
    "                    filePath = './final/gen/' + os.path.basename(fileName)\n",
    "                    with open(filePath, 'w') as outfile:\n",
    "                        json.dump(data, outfile)\n",
    "                \n",
    "                except Exception as e: print(e)"
   ]
  },
  {
   "cell_type": "code",
   "execution_count": null,
   "metadata": {},
   "outputs": [],
   "source": []
  },
  {
   "cell_type": "code",
   "execution_count": null,
   "metadata": {},
   "outputs": [],
   "source": []
  },
  {
   "cell_type": "code",
   "execution_count": null,
   "metadata": {},
   "outputs": [],
   "source": []
  },
  {
   "cell_type": "code",
   "execution_count": null,
   "metadata": {},
   "outputs": [],
   "source": []
  },
  {
   "cell_type": "code",
   "execution_count": 14,
   "metadata": {},
   "outputs": [],
   "source": [
    "tool = language_check.LanguageTool('en-US')\n",
    "fix_spaces = re.compile(r'\\s*([?!.,]+(?:\\s+[?!.,]+)*)\\s*')\n",
    "\n",
    "regex = '\\\\\"\\s+([^\"]+)\\s+\\\\\"'"
   ]
  },
  {
   "cell_type": "code",
   "execution_count": null,
   "metadata": {},
   "outputs": [],
   "source": []
  },
  {
   "cell_type": "code",
   "execution_count": 40,
   "metadata": {},
   "outputs": [],
   "source": [
    "text =\"i love the song \\\" the song \\\" the song \\\" the voice \\\" .\"\n",
    "\n",
    "\n"
   ]
  },
  {
   "cell_type": "code",
   "execution_count": 41,
   "metadata": {},
   "outputs": [
    {
     "data": {
      "text/plain": [
       "\"i love the song ' the song ' the song ' the voice ' .\""
      ]
     },
     "execution_count": 41,
     "metadata": {},
     "output_type": "execute_result"
    }
   ],
   "source": [
    "text = text.replace('\\\"',\"'\")\n",
    "text"
   ]
  },
  {
   "cell_type": "code",
   "execution_count": 42,
   "metadata": {},
   "outputs": [
    {
     "data": {
      "text/plain": [
       "\"I love the song ' the song ' the song ' the voice '.\""
      ]
     },
     "execution_count": 42,
     "metadata": {},
     "output_type": "execute_result"
    }
   ],
   "source": [
    "regex = '\\\\\"\\s+([^\"]+)\\s+\\\\\"'\n",
    "\n",
    "\n",
    "subst = \"\"\n",
    "\n",
    "# You can manually specify the number of replacements by changing the 4th argument\n",
    "text = re.sub(regex, '\\\"'+r'\\1'+'\\\"' , text)\n",
    "\n",
    "matches = tool.check(text)\n",
    "text = language_check.correct(text, matches)\n",
    "text = fix_spaces.sub(lambda x: \"{} \".format(x.group(1).replace(\" \", \"\")), text).strip()\n",
    "\n",
    "text"
   ]
  },
  {
   "cell_type": "code",
   "execution_count": null,
   "metadata": {},
   "outputs": [],
   "source": []
  },
  {
   "cell_type": "code",
   "execution_count": 29,
   "metadata": {},
   "outputs": [],
   "source": [
    "for root, dirs, files in os.walk(\"./final/gen\"):\n",
    "    for file in files:\n",
    "        if file.endswith(\".json\"):\n",
    "            fileName = os.path.join(root, file)\n",
    "            with open(fileName) as json_file:\n",
    "                \n",
    "                try:\n",
    "                    data = json.load(json_file)\n",
    "                    \n",
    "                    for d in data:\n",
    "                        text = d['actualResponse']\n",
    "                        \n",
    "                        subst = \"\"\n",
    "                        text = re.sub(regex, '\\\"'+r'\\1'+'\\\"' , text)\n",
    "                        \n",
    "                        matches = tool.check(text)\n",
    "                        text = language_check.correct(text, matches)\n",
    "                        text = fix_spaces.sub(lambda x: \"{} \".format(x.group(1).replace(\" \", \"\")), text).strip()\n",
    "                        text = text.replace(\"“\", \"'\")\n",
    "                        text = text.replace(\"”\", \"'\")\n",
    "                        text = text.replace(\" ' \", \"'\")\n",
    "                        \n",
    "                        d['actualResponse'] = text\n",
    "                        \n",
    "                        newSuggs = []\n",
    "                        \n",
    "                        text = d['suggestions'][0]\n",
    "                        \n",
    "                        subst = \"\"\n",
    "                        text = re.sub(regex, '\\\"'+r'\\1'+'\\\"' , text)\n",
    "                        \n",
    "                        matches = tool.check(text)\n",
    "                        text = language_check.correct(text, matches)\n",
    "                        text = fix_spaces.sub(lambda x: \"{} \".format(x.group(1).replace(\" \", \"\")), text).strip()\n",
    "                        text = text.replace(\"“\", \"'\")\n",
    "                        text = text.replace(\"”\", \"'\")\n",
    "                        text = text.replace(\" ' \", \"'\")\n",
    "                        \n",
    "                        newSuggs.append(text)\n",
    "                            \n",
    "                    \n",
    "                        d['suggestions'] = newSuggs\n",
    "                    \n",
    "                    filePath = './final/gen/' + os.path.basename(fileName)\n",
    "                    with open(filePath, 'w') as outfile:\n",
    "                        json.dump(data, outfile)\n",
    "                \n",
    "                except Exception as e: print(e)"
   ]
  },
  {
   "cell_type": "code",
   "execution_count": null,
   "metadata": {},
   "outputs": [],
   "source": []
  },
  {
   "cell_type": "code",
   "execution_count": null,
   "metadata": {},
   "outputs": [],
   "source": []
  },
  {
   "cell_type": "code",
   "execution_count": 17,
   "metadata": {},
   "outputs": [],
   "source": [
    "for root, dirs, files in os.walk(\"./final/ret_AI\"):\n",
    "    for file in files:\n",
    "        if file.endswith(\".json\"):\n",
    "            fileName = os.path.join(root, file)\n",
    "            with open(fileName) as json_file:\n",
    "                \n",
    "                try:\n",
    "                    data = json.load(json_file)\n",
    "                    \n",
    "                    for d in data:\n",
    "                        text = d['actualResponse']\n",
    "                        \n",
    "                        subst = \"\"\n",
    "                        text = re.sub(regex, '\\\"'+r'\\1'+'\\\"' , text)\n",
    "                        \n",
    "                        matches = tool.check(text)\n",
    "                        text = language_check.correct(text, matches)\n",
    "                        text = fix_spaces.sub(lambda x: \"{} \".format(x.group(1).replace(\" \", \"\")), text).strip()\n",
    "                        text = text.replace(\"“\", \"'\")\n",
    "                        text = text.replace(\"”\", \"'\")\n",
    "                        text = text.replace(\" ' \", \"'\")\n",
    "                        \n",
    "                        d['actualResponse'] = text\n",
    "                        \n",
    "                        newSuggs = []\n",
    "                        \n",
    "                        for text in d['suggestions']:\n",
    "                        \n",
    "                            \n",
    "                            subst = \"\"\n",
    "                            text = re.sub(regex, '\\\"'+r'\\1'+'\\\"' , text)\n",
    "                        \n",
    "                            matches = tool.check(text)\n",
    "                            text = language_check.correct(text, matches)\n",
    "                            text = fix_spaces.sub(lambda x: \"{} \".format(x.group(1).replace(\" \", \"\")), text).strip()\n",
    "                            text = text.replace(\"“\", \"'\")\n",
    "                            text = text.replace(\"”\", \"'\")\n",
    "                            text = text.replace(\" ' \", \"'\")\n",
    "                            \n",
    "                            newSuggs.append(text)\n",
    "                            \n",
    "                    \n",
    "                        d['suggestions'] = newSuggs\n",
    "                    \n",
    "                    filePath = './final/ret_AI/' + os.path.basename(fileName)\n",
    "                    with open(filePath, 'w') as outfile:\n",
    "                        json.dump(data, outfile)\n",
    "                \n",
    "                except Exception as e: print(e)"
   ]
  },
  {
   "cell_type": "code",
   "execution_count": null,
   "metadata": {},
   "outputs": [],
   "source": []
  },
  {
   "cell_type": "code",
   "execution_count": null,
   "metadata": {},
   "outputs": [],
   "source": []
  },
  {
   "cell_type": "code",
   "execution_count": 28,
   "metadata": {},
   "outputs": [],
   "source": [
    "with open('./final/ret_AI/threeContext.json') as json_file1:\n",
    "    data1 = json.load(json_file1)\n",
    "with open('./final/ret/threeContext.json') as json_file2:\n",
    "    data2 = json.load(json_file2)\n",
    "with open('./final/gen/threeContext.json') as json_file3:\n",
    "    data3 = json.load(json_file3)    "
   ]
  },
  {
   "cell_type": "code",
   "execution_count": 29,
   "metadata": {},
   "outputs": [],
   "source": [
    "for i in range(len(data1)):\n",
    "    \n",
    "    if(data1[i]['actualResponse'] != data2[i]['actualResponse'] or data1[i]['actualResponse'] != data3[i]['actualResponse']\n",
    "      or data2[i]['actualResponse'] != data3[i]['actualResponse']):\n",
    "        print(data1[i]['index'])"
   ]
  },
  {
   "cell_type": "code",
   "execution_count": null,
   "metadata": {},
   "outputs": [],
   "source": []
  },
  {
   "cell_type": "code",
   "execution_count": null,
   "metadata": {},
   "outputs": [],
   "source": []
  }
 ],
 "metadata": {
  "kernelspec": {
   "display_name": "Python 3",
   "language": "python",
   "name": "python3"
  },
  "language_info": {
   "codemirror_mode": {
    "name": "ipython",
    "version": 3
   },
   "file_extension": ".py",
   "mimetype": "text/x-python",
   "name": "python",
   "nbconvert_exporter": "python",
   "pygments_lexer": "ipython3",
   "version": "3.7.6"
  }
 },
 "nbformat": 4,
 "nbformat_minor": 2
}
