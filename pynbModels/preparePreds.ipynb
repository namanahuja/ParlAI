{
 "cells": [
  {
   "cell_type": "code",
   "execution_count": 14,
   "metadata": {},
   "outputs": [],
   "source": [
    "import os\n",
    "from pathlib import Path\n",
    "import sys\n",
    "import os\n",
    "import _pickle as pickle\n",
    "import json\n",
    "import copy\n",
    "import language_check\n",
    "import re"
   ]
  },
  {
   "cell_type": "code",
   "execution_count": 57,
   "metadata": {},
   "outputs": [],
   "source": [
    "preds = []"
   ]
  },
  {
   "cell_type": "code",
   "execution_count": 58,
   "metadata": {},
   "outputs": [],
   "source": [
    "with open('./raw/predictionsRet.json') as json_file:\n",
    "    sessions = json.load(json_file)"
   ]
  },
  {
   "cell_type": "code",
   "execution_count": 59,
   "metadata": {},
   "outputs": [
    {
     "data": {
      "text/plain": [
       "[{'wizard_of_wikipedia': 'Elvis Presley',\n",
       "  'WizardTransformerRanker': {'text': 'Oh baby.... Elvis Presley is truly The King of Rock and Roll!',\n",
       "   'text_candidates': ['Oh baby.... Elvis Presley is truly The King of Rock and Roll!',\n",
       "    'I just love listening to the KIng of Rock and Roll - Elvis Presley!',\n",
       "    'In 1956, Elvis released his first single called \"Heartbreak Hotel.\"  It instantly became a number one hit.  His popularity led him to tv appearances and even movies.  ',\n",
       "    'Yeah, I love the King of Rock and Roll. Is he your favorite musical artist?',\n",
       "    'I was 10 when he died, so that may be why.  I visited Graceland with family, and learned about the Memphis Mafia, though!']}},\n",
       " {'wizard_of_wikipedia': \"yes...who doesn't love Elvis Presley and his music?\",\n",
       "  'WizardTransformerRanker': {'text': '\"Was\" being the operative word. Elvis was definitely influential but his influence is probably pretty well gone by now. He started in Gospel right? ',\n",
       "   'text_candidates': ['\"Was\" being the operative word. Elvis was definitely influential but his influence is probably pretty well gone by now. He started in Gospel right? ',\n",
       "    \"Yeah! In reality he didn't have too long of a career. Its a shame he died young.\",\n",
       "    'HE is so great, he career started in 1954. ',\n",
       "    'Another great singer was.Michael Joseph Jackson.,he was dubbed the king of pop music.He shook the music industry ',\n",
       "    'OHH YEAH']}},\n",
       " {'wizard_of_wikipedia': 'I would love to tour his home.  Which one of his songs is your favorite?/',\n",
       "  'WizardTransformerRanker': {'text': 'I always liked \"Hounddog.\" My grandpa heard Elvis sing it live in Memphis.',\n",
       "   'text_candidates': ['I always liked \"Hounddog.\" My grandpa heard Elvis sing it live in Memphis.',\n",
       "    \"For the life of me I can't think of any song titles, but I know I have heard some.\",\n",
       "    \"That was a very popular song. He didn't write it though, but then again most artists don't.\",\n",
       "    'Are you familiar with Elvis Presley, the American singer? He also acted.  ',\n",
       "    'When you have a band that has platinum and five gold albums you have a lot of fans. ']}},\n",
       " {'wizard_of_wikipedia': 'oh wow thats a classic.  what about jailhouse rock',\n",
       "  'WizardTransformerRanker': {'text': \"Pretty good. Didn't Elvis make Jailhouse rock into a movie?\",\n",
       "   'text_candidates': [\"Pretty good. Didn't Elvis make Jailhouse rock into a movie?\",\n",
       "    'He definitely did a lot to bring rock music to the masses, yes. Modern pop music owes a lot to guys like Elvis',\n",
       "    'He started in jazz, then helped start what we now call rock. He was known as the King of Rock and Roll.',\n",
       "    'Right, he did play a lot of rock and roll. I heard he did a lot of drugs too1',\n",
       "    'His music career began there in 1954, recording at Sun Records, it is really amazing']}}]"
      ]
     },
     "execution_count": 59,
     "metadata": {},
     "output_type": "execute_result"
    }
   ],
   "source": [
    "sessions[0]"
   ]
  },
  {
   "cell_type": "code",
   "execution_count": 60,
   "metadata": {},
   "outputs": [],
   "source": [
    "ind = 0\n",
    "for session in sessions:\n",
    "    conv = {}\n",
    "    \n",
    "    conv['index'] = ind\n",
    "    ind += 1\n",
    "    \n",
    "    conv['conversation'] = session\n",
    "    \n",
    "    preds.append(conv)"
   ]
  },
  {
   "cell_type": "code",
   "execution_count": 61,
   "metadata": {},
   "outputs": [],
   "source": [
    "with open('predictionsRetEdit.json', 'w') as outfile:\n",
    "    json.dump(preds, outfile)"
   ]
  },
  {
   "cell_type": "code",
   "execution_count": 13,
   "metadata": {},
   "outputs": [],
   "source": [
    "preds = []\n",
    "with open('predictionsGen.json') as json_file:\n",
    "    sessions = json.load(json_file)"
   ]
  },
  {
   "cell_type": "code",
   "execution_count": 14,
   "metadata": {},
   "outputs": [],
   "source": [
    "ind = 0\n",
    "for session in sessions:\n",
    "    conv = {}\n",
    "    \n",
    "    conv['index'] = ind\n",
    "    ind += 1\n",
    "    \n",
    "    conv['conversation'] = session\n",
    "    \n",
    "    preds.append(conv)"
   ]
  },
  {
   "cell_type": "code",
   "execution_count": 15,
   "metadata": {},
   "outputs": [],
   "source": [
    "with open('predictionsGenEdit.json', 'w') as outfile:\n",
    "    json.dump(preds, outfile)"
   ]
  },
  {
   "cell_type": "code",
   "execution_count": null,
   "metadata": {},
   "outputs": [],
   "source": []
  },
  {
   "cell_type": "code",
   "execution_count": null,
   "metadata": {},
   "outputs": [],
   "source": []
  },
  {
   "cell_type": "code",
   "execution_count": null,
   "metadata": {},
   "outputs": [],
   "source": []
  },
  {
   "cell_type": "code",
   "execution_count": 40,
   "metadata": {},
   "outputs": [],
   "source": [
    "\n",
    "for root, dirs, files in os.walk(\"./selected/ret\"):\n",
    "    for file in files:\n",
    "        if file.endswith(\".json\"):\n",
    "            fileName = os.path.join(root, file)\n",
    "            with open(fileName) as json_file:\n",
    "                index = 0\n",
    "                try:\n",
    "                    data = json.load(json_file)\n",
    "                    \n",
    "                    for d in data:\n",
    "                        d['index'] = index\n",
    "                        index += 1\n",
    "\n",
    "                        del d['origIndex']\n",
    "                    \n",
    "                    filePath = './final/ret/' + os.path.basename(fileName)\n",
    "                    with open(filePath, 'w') as outfile:\n",
    "                        json.dump(data, outfile)\n",
    "                \n",
    "                except Exception as e: print(e)"
   ]
  },
  {
   "cell_type": "code",
   "execution_count": null,
   "metadata": {},
   "outputs": [],
   "source": []
  },
  {
   "cell_type": "code",
   "execution_count": 41,
   "metadata": {},
   "outputs": [],
   "source": [
    "\n",
    "for root, dirs, files in os.walk(\"./selected/gen\"):\n",
    "    for file in files:\n",
    "        if file.endswith(\".json\"):\n",
    "            fileName = os.path.join(root, file)\n",
    "            with open(fileName) as json_file:\n",
    "                index = 0\n",
    "                try:\n",
    "                    data = json.load(json_file)\n",
    "                    \n",
    "                    for d in data:\n",
    "                        d['index'] = index\n",
    "                        index += 1\n",
    "\n",
    "                        del d['origIndex']\n",
    "                    \n",
    "                    filePath = './final/gen/' + os.path.basename(fileName)\n",
    "                    with open(filePath, 'w') as outfile:\n",
    "                        json.dump(data, outfile)\n",
    "                \n",
    "                except Exception as e: print(e)"
   ]
  },
  {
   "cell_type": "code",
   "execution_count": null,
   "metadata": {},
   "outputs": [],
   "source": []
  },
  {
   "cell_type": "code",
   "execution_count": null,
   "metadata": {},
   "outputs": [],
   "source": []
  },
  {
   "cell_type": "code",
   "execution_count": 41,
   "metadata": {},
   "outputs": [],
   "source": [
    "filePathGen = './final/gen/' + 'threeContext.json'\n",
    "\n",
    "with open(filePathGen) as json_file:\n",
    "    gen = json.load(json_file)\n",
    "    \n",
    "    \n",
    "filePath = './final/ret/' + 'threeContext.json'\n",
    "\n",
    "with open(filePath) as json_file:\n",
    "    ret = json.load(json_file)    "
   ]
  },
  {
   "cell_type": "code",
   "execution_count": 42,
   "metadata": {},
   "outputs": [],
   "source": [
    "for i in range(len(ret)):\n",
    "    gen[i]['actualResponse'] = ret[i]['actualResponse']\n",
    "    gen[i]['suggestions'] = [gen[i]['suggestions']]"
   ]
  },
  {
   "cell_type": "code",
   "execution_count": 43,
   "metadata": {},
   "outputs": [],
   "source": [
    "with open(filePathGen, 'w') as outfile:\n",
    "    json.dump(gen, outfile)"
   ]
  },
  {
   "cell_type": "code",
   "execution_count": null,
   "metadata": {},
   "outputs": [],
   "source": []
  },
  {
   "cell_type": "code",
   "execution_count": null,
   "metadata": {},
   "outputs": [],
   "source": []
  },
  {
   "cell_type": "code",
   "execution_count": null,
   "metadata": {},
   "outputs": [],
   "source": []
  },
  {
   "cell_type": "code",
   "execution_count": 64,
   "metadata": {},
   "outputs": [],
   "source": [
    "filePath = './clean/cleanPredictionsRet3.json'\n",
    "\n",
    "with open(filePath) as json_file:\n",
    "    ret = json.load(json_file)    "
   ]
  },
  {
   "cell_type": "code",
   "execution_count": 65,
   "metadata": {},
   "outputs": [],
   "source": []
  },
  {
   "cell_type": "code",
   "execution_count": null,
   "metadata": {},
   "outputs": [],
   "source": []
  },
  {
   "cell_type": "code",
   "execution_count": 47,
   "metadata": {},
   "outputs": [],
   "source": [
    "tool = language_check.LanguageTool('en-US')\n",
    "fix_spaces = re.compile(r'\\s*([?!.,\\']+(?:\\s+[?!.,\\']+)*)\\s*')"
   ]
  },
  {
   "cell_type": "code",
   "execution_count": 48,
   "metadata": {},
   "outputs": [],
   "source": [
    "for root, dirs, files in os.walk(\"./final/gen\"):\n",
    "    for file in files:\n",
    "        if file.endswith(\".json\"):\n",
    "            fileName = os.path.join(root, file)\n",
    "            with open(fileName) as json_file:\n",
    "                \n",
    "                try:\n",
    "                    data = json.load(json_file)\n",
    "                    \n",
    "                    for d in data:\n",
    "                        text = d['actualResponse']\n",
    "                        text = fix_spaces.sub(lambda x: \"{} \".format(x.group(1).replace(\" \", \"\")), text).strip()\n",
    "                        matches = tool.check(text)\n",
    "                        corr = language_check.correct(text, matches)\n",
    "                        d['actualResponse'] = corr\n",
    "                        \n",
    "                        newSuggs = []\n",
    "                        \n",
    "                        text = d['suggestions'][0]\n",
    "                        \n",
    "                        text = fix_spaces.sub(lambda x: \"{} \".format(x.group(1).replace(\" \", \"\")), text).strip()\n",
    "                        matches = tool.check(text)\n",
    "                        corr = language_check.correct(text, matches)\n",
    "                        newSuggs.append(corr)\n",
    "                            \n",
    "                    \n",
    "                        d['suggestions'] = newSuggs\n",
    "                    \n",
    "                    filePath = './final/gen/' + os.path.basename(fileName)\n",
    "                    with open(filePath, 'w') as outfile:\n",
    "                        json.dump(data, outfile)\n",
    "                \n",
    "                except Exception as e: print(e)"
   ]
  },
  {
   "cell_type": "code",
   "execution_count": 49,
   "metadata": {},
   "outputs": [],
   "source": [
    "for root, dirs, files in os.walk(\"./final/ret\"):\n",
    "    for file in files:\n",
    "        if file.endswith(\".json\"):\n",
    "            fileName = os.path.join(root, file)\n",
    "            with open(fileName) as json_file:\n",
    "                \n",
    "                try:\n",
    "                    data = json.load(json_file)\n",
    "                    \n",
    "                    for d in data:\n",
    "                        text = d['actualResponse']\n",
    "                        text = fix_spaces.sub(lambda x: \"{} \".format(x.group(1).replace(\" \", \"\")), text).strip()\n",
    "                        matches = tool.check(text)\n",
    "                        corr = language_check.correct(text, matches)\n",
    "                        d['actualResponse'] = corr\n",
    "                        \n",
    "                        newSuggs = []\n",
    "                        \n",
    "                        for text in d['suggestions']:\n",
    "                        \n",
    "                            text = fix_spaces.sub(lambda x: \"{} \".format(x.group(1).replace(\" \", \"\")), text).strip()\n",
    "                            matches = tool.check(text)\n",
    "                            corr = language_check.correct(text, matches)\n",
    "                            newSuggs.append(corr)\n",
    "                            \n",
    "                    \n",
    "                        d['suggestions'] = newSuggs\n",
    "                    \n",
    "                    filePath = './final/ret/' + os.path.basename(fileName)\n",
    "                    with open(filePath, 'w') as outfile:\n",
    "                        json.dump(data, outfile)\n",
    "                \n",
    "                except Exception as e: print(e)"
   ]
  },
  {
   "cell_type": "code",
   "execution_count": null,
   "metadata": {},
   "outputs": [],
   "source": []
  }
 ],
 "metadata": {
  "kernelspec": {
   "display_name": "Python 3",
   "language": "python",
   "name": "python3"
  },
  "language_info": {
   "codemirror_mode": {
    "name": "ipython",
    "version": 3
   },
   "file_extension": ".py",
   "mimetype": "text/x-python",
   "name": "python",
   "nbconvert_exporter": "python",
   "pygments_lexer": "ipython3",
   "version": "3.7.6"
  }
 },
 "nbformat": 4,
 "nbformat_minor": 2
}
