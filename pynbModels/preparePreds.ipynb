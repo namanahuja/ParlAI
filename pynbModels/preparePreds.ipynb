{
 "cells": [
  {
   "cell_type": "code",
   "execution_count": 17,
   "metadata": {},
   "outputs": [],
   "source": [
    "import os\n",
    "from pathlib import Path\n",
    "import sys\n",
    "import os\n",
    "import _pickle as pickle\n",
    "import json\n",
    "import copy\n",
    "import language_check\n",
    "import re"
   ]
  },
  {
   "cell_type": "code",
   "execution_count": 8,
   "metadata": {},
   "outputs": [],
   "source": [
    "preds = []"
   ]
  },
  {
   "cell_type": "code",
   "execution_count": 9,
   "metadata": {},
   "outputs": [],
   "source": [
    "with open('./raw/predictionsRet.json') as json_file:\n",
    "    sessions = json.load(json_file)"
   ]
  },
  {
   "cell_type": "code",
   "execution_count": 10,
   "metadata": {},
   "outputs": [
    {
     "data": {
      "text/plain": [
       "{'wizard_of_wikipedia': 'Elvis Presley',\n",
       " 'WizardTransformerRanker': {'text': 'Oh baby.... Elvis Presley is truly The King of Rock and Roll!',\n",
       "  'text_candidates': ['Oh baby.... Elvis Presley is truly The King of Rock and Roll!',\n",
       "   'I just love listening to the KIng of Rock and Roll - Elvis Presley!',\n",
       "   'In 1956, Elvis released his first single called \"Heartbreak Hotel.\"  It instantly became a number one hit.  His popularity led him to tv appearances and even movies.  ',\n",
       "   'Yeah, I love the King of Rock and Roll. Is he your favorite musical artist?',\n",
       "   'I was 10 when he died, so that may be why.  I visited Graceland with family, and learned about the Memphis Mafia, though!']}}"
      ]
     },
     "execution_count": 10,
     "metadata": {},
     "output_type": "execute_result"
    }
   ],
   "source": [
    "sessions[0][0]"
   ]
  },
  {
   "cell_type": "code",
   "execution_count": 11,
   "metadata": {},
   "outputs": [],
   "source": [
    "ind = 0\n",
    "for session in sessions:\n",
    "    conv = {}\n",
    "    firstDiag = session[0]['wizard_of_wikipedia']\n",
    "    if(len(firstDiag.split(\"\\n\")) < 2):\n",
    "        continue\n",
    "    conv['index'] = ind\n",
    "    ind += 1\n",
    "    \n",
    "    conv['conversation'] = session\n",
    "    \n",
    "    preds.append(conv)"
   ]
  },
  {
   "cell_type": "code",
   "execution_count": 12,
   "metadata": {},
   "outputs": [],
   "source": [
    "with open('predictionsRetEdit.json', 'w') as outfile:\n",
    "    json.dump(preds, outfile)"
   ]
  },
  {
   "cell_type": "code",
   "execution_count": 2,
   "metadata": {},
   "outputs": [],
   "source": [
    "preds = []\n",
    "with open('./raw/predictionsGen.json') as json_file:\n",
    "    sessions = json.load(json_file)"
   ]
  },
  {
   "cell_type": "code",
   "execution_count": null,
   "metadata": {},
   "outputs": [],
   "source": []
  },
  {
   "cell_type": "code",
   "execution_count": null,
   "metadata": {},
   "outputs": [],
   "source": []
  },
  {
   "cell_type": "code",
   "execution_count": 3,
   "metadata": {},
   "outputs": [],
   "source": [
    "ind = 0\n",
    "for session in sessions:\n",
    "    conv = {}\n",
    "    firstDiag = session[0]['WizTeacher']\n",
    "    if(len(firstDiag.split(\"\\n\")) < 2):\n",
    "        continue\n",
    "    conv['index'] = ind\n",
    "    ind += 1\n",
    "    \n",
    "    conv['conversation'] = session\n",
    "    \n",
    "    preds.append(conv)"
   ]
  },
  {
   "cell_type": "code",
   "execution_count": 4,
   "metadata": {},
   "outputs": [],
   "source": [
    "with open('predictionsGenEdit.json', 'w') as outfile:\n",
    "    json.dump(preds, outfile)"
   ]
  },
  {
   "cell_type": "code",
   "execution_count": null,
   "metadata": {},
   "outputs": [],
   "source": []
  },
  {
   "cell_type": "code",
   "execution_count": null,
   "metadata": {},
   "outputs": [],
   "source": []
  },
  {
   "cell_type": "code",
   "execution_count": null,
   "metadata": {},
   "outputs": [],
   "source": []
  },
  {
   "cell_type": "code",
   "execution_count": 146,
   "metadata": {},
   "outputs": [],
   "source": [
    "\n",
    "for root, dirs, files in os.walk(\"./selected/ret\"):\n",
    "    for file in files:\n",
    "        if file.endswith(\".json\"):\n",
    "            fileName = os.path.join(root, file)\n",
    "            with open(fileName) as json_file:\n",
    "                index = 0\n",
    "                try:\n",
    "                    data = json.load(json_file)\n",
    "                    \n",
    "                    for d in data:\n",
    "                        d['index'] = index\n",
    "                        index += 1\n",
    "\n",
    "                        del d['origIndex']\n",
    "                    \n",
    "                    filePath = './final/ret/' + os.path.basename(fileName)\n",
    "                    with open(filePath, 'w') as outfile:\n",
    "                        json.dump(data, outfile)\n",
    "                \n",
    "                except Exception as e: print(e)"
   ]
  },
  {
   "cell_type": "code",
   "execution_count": null,
   "metadata": {},
   "outputs": [],
   "source": []
  },
  {
   "cell_type": "code",
   "execution_count": 147,
   "metadata": {},
   "outputs": [],
   "source": [
    "\n",
    "for root, dirs, files in os.walk(\"./selected/gen\"):\n",
    "    for file in files:\n",
    "        if file.endswith(\".json\"):\n",
    "            fileName = os.path.join(root, file)\n",
    "            with open(fileName) as json_file:\n",
    "                index = 0\n",
    "                try:\n",
    "                    data = json.load(json_file)\n",
    "                    \n",
    "                    for d in data:\n",
    "                        d['index'] = index\n",
    "                        index += 1\n",
    "\n",
    "                        del d['origIndex']\n",
    "                    \n",
    "                    filePath = './final/gen/' + os.path.basename(fileName)\n",
    "                    with open(filePath, 'w') as outfile:\n",
    "                        json.dump(data, outfile)\n",
    "                \n",
    "                except Exception as e: print(e)"
   ]
  },
  {
   "cell_type": "code",
   "execution_count": null,
   "metadata": {},
   "outputs": [],
   "source": []
  },
  {
   "cell_type": "code",
   "execution_count": null,
   "metadata": {},
   "outputs": [],
   "source": []
  },
  {
   "cell_type": "code",
   "execution_count": null,
   "metadata": {},
   "outputs": [],
   "source": []
  },
  {
   "cell_type": "code",
   "execution_count": null,
   "metadata": {},
   "outputs": [],
   "source": []
  },
  {
   "cell_type": "code",
   "execution_count": 148,
   "metadata": {},
   "outputs": [],
   "source": [
    "tool = language_check.LanguageTool('en-US')\n",
    "fix_spaces = re.compile(r'\\s*([?!.,]+(?:\\s+[?!.,]+)*)\\s*')\n",
    "\n",
    "regex = '\\\\\"\\s+([^\"]+)\\s+\\\\\"'"
   ]
  },
  {
   "cell_type": "code",
   "execution_count": null,
   "metadata": {},
   "outputs": [],
   "source": []
  },
  {
   "cell_type": "code",
   "execution_count": 149,
   "metadata": {},
   "outputs": [],
   "source": [
    "text =\"i love the song \\\" the song \\\" the song \\\" the voice \\\" .\"\n",
    "\n",
    "\n"
   ]
  },
  {
   "cell_type": "code",
   "execution_count": null,
   "metadata": {},
   "outputs": [],
   "source": []
  },
  {
   "cell_type": "code",
   "execution_count": 150,
   "metadata": {},
   "outputs": [
    {
     "data": {
      "text/plain": [
       "\"I love the song 'the song' the song 'the voice'.\""
      ]
     },
     "execution_count": 150,
     "metadata": {},
     "output_type": "execute_result"
    }
   ],
   "source": [
    "regex = '\\\\\"\\s+([^\"]+)\\s+\\\\\"'\n",
    "\n",
    "text = \"i love the song \\\" the song \\\" the song \\\" the voice \\\" .\"\n",
    "\n",
    "subst = \"\"\n",
    "\n",
    "# You can manually specify the number of replacements by changing the 4th argument\n",
    "text = re.sub(regex, '\\\"'+r'\\1'+'\\\"' , text)\n",
    "\n",
    "matches = tool.check(text)\n",
    "text = language_check.correct(text, matches)\n",
    "text = fix_spaces.sub(lambda x: \"{} \".format(x.group(1).replace(\" \", \"\")), text).strip()\n",
    "text = text.replace(\"“\", \"'\")\n",
    "text = text.replace(\"”\", \"'\")\n",
    "\n",
    "text"
   ]
  },
  {
   "cell_type": "code",
   "execution_count": null,
   "metadata": {},
   "outputs": [],
   "source": []
  },
  {
   "cell_type": "code",
   "execution_count": 151,
   "metadata": {},
   "outputs": [],
   "source": [
    "for root, dirs, files in os.walk(\"./final/gen\"):\n",
    "    for file in files:\n",
    "        if file.endswith(\".json\"):\n",
    "            fileName = os.path.join(root, file)\n",
    "            with open(fileName) as json_file:\n",
    "                \n",
    "                try:\n",
    "                    data = json.load(json_file)\n",
    "                    \n",
    "                    for d in data:\n",
    "                        text = d['actualResponse']\n",
    "                        \n",
    "                        subst = \"\"\n",
    "                        text = re.sub(regex, '\\\"'+r'\\1'+'\\\"' , text)\n",
    "                        \n",
    "                        matches = tool.check(text)\n",
    "                        text = language_check.correct(text, matches)\n",
    "                        text = fix_spaces.sub(lambda x: \"{} \".format(x.group(1).replace(\" \", \"\")), text).strip()\n",
    "                        text = text.replace(\"“\", \"'\")\n",
    "                        text = text.replace(\"”\", \"'\")\n",
    "                        text = text.replace(\" ' \", \"'\")\n",
    "                        \n",
    "                        d['actualResponse'] = text\n",
    "                        \n",
    "                        newSuggs = []\n",
    "                        \n",
    "                        text = d['suggestions'][0]\n",
    "                        \n",
    "                        subst = \"\"\n",
    "                        text = re.sub(regex, '\\\"'+r'\\1'+'\\\"' , text)\n",
    "                        \n",
    "                        matches = tool.check(text)\n",
    "                        text = language_check.correct(text, matches)\n",
    "                        text = fix_spaces.sub(lambda x: \"{} \".format(x.group(1).replace(\" \", \"\")), text).strip()\n",
    "                        text = text.replace(\"“\", \"'\")\n",
    "                        text = text.replace(\"”\", \"'\")\n",
    "                        text = text.replace(\" ' \", \"'\")\n",
    "                        \n",
    "                        newSuggs.append(text)\n",
    "                            \n",
    "                    \n",
    "                        d['suggestions'] = newSuggs\n",
    "                    \n",
    "                    filePath = './final/gen/' + os.path.basename(fileName)\n",
    "                    with open(filePath, 'w') as outfile:\n",
    "                        json.dump(data, outfile)\n",
    "                \n",
    "                except Exception as e: print(e)"
   ]
  },
  {
   "cell_type": "code",
   "execution_count": null,
   "metadata": {},
   "outputs": [],
   "source": []
  },
  {
   "cell_type": "code",
   "execution_count": null,
   "metadata": {},
   "outputs": [],
   "source": []
  },
  {
   "cell_type": "code",
   "execution_count": 152,
   "metadata": {},
   "outputs": [],
   "source": [
    "for root, dirs, files in os.walk(\"./final/ret\"):\n",
    "    for file in files:\n",
    "        if file.endswith(\".json\"):\n",
    "            fileName = os.path.join(root, file)\n",
    "            with open(fileName) as json_file:\n",
    "                \n",
    "                try:\n",
    "                    data = json.load(json_file)\n",
    "                    \n",
    "                    for d in data:\n",
    "                        text = d['actualResponse']\n",
    "                        \n",
    "                        subst = \"\"\n",
    "                        text = re.sub(regex, '\\\"'+r'\\1'+'\\\"' , text)\n",
    "                        \n",
    "                        matches = tool.check(text)\n",
    "                        text = language_check.correct(text, matches)\n",
    "                        text = fix_spaces.sub(lambda x: \"{} \".format(x.group(1).replace(\" \", \"\")), text).strip()\n",
    "                        text = text.replace(\"“\", \"'\")\n",
    "                        text = text.replace(\"”\", \"'\")\n",
    "                        text = text.replace(\" ' \", \"'\")\n",
    "                        \n",
    "                        d['actualResponse'] = text\n",
    "                        \n",
    "                        newSuggs = []\n",
    "                        \n",
    "                        for text in d['suggestions']:\n",
    "                        \n",
    "                            \n",
    "                            subst = \"\"\n",
    "                            text = re.sub(regex, '\\\"'+r'\\1'+'\\\"' , text)\n",
    "                        \n",
    "                            matches = tool.check(text)\n",
    "                            text = language_check.correct(text, matches)\n",
    "                            text = fix_spaces.sub(lambda x: \"{} \".format(x.group(1).replace(\" \", \"\")), text).strip()\n",
    "                            text = text.replace(\"“\", \"'\")\n",
    "                            text = text.replace(\"”\", \"'\")\n",
    "                            text = text.replace(\" ' \", \"'\")\n",
    "                            \n",
    "                            newSuggs.append(text)\n",
    "                            \n",
    "                    \n",
    "                        d['suggestions'] = newSuggs\n",
    "                    \n",
    "                    filePath = './final/ret/' + os.path.basename(fileName)\n",
    "                    with open(filePath, 'w') as outfile:\n",
    "                        json.dump(data, outfile)\n",
    "                \n",
    "                except Exception as e: print(e)"
   ]
  },
  {
   "cell_type": "code",
   "execution_count": null,
   "metadata": {},
   "outputs": [],
   "source": []
  },
  {
   "cell_type": "code",
   "execution_count": null,
   "metadata": {},
   "outputs": [],
   "source": []
  },
  {
   "cell_type": "code",
   "execution_count": null,
   "metadata": {},
   "outputs": [],
   "source": []
  }
 ],
 "metadata": {
  "kernelspec": {
   "display_name": "Python 3",
   "language": "python",
   "name": "python3"
  },
  "language_info": {
   "codemirror_mode": {
    "name": "ipython",
    "version": 3
   },
   "file_extension": ".py",
   "mimetype": "text/x-python",
   "name": "python",
   "nbconvert_exporter": "python",
   "pygments_lexer": "ipython3",
   "version": "3.7.6"
  }
 },
 "nbformat": 4,
 "nbformat_minor": 2
}
