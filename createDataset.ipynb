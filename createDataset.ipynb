{
 "cells": [
  {
   "cell_type": "code",
   "execution_count": 1,
   "metadata": {},
   "outputs": [],
   "source": [
    "import json"
   ]
  },
  {
   "cell_type": "code",
   "execution_count": 2,
   "metadata": {},
   "outputs": [],
   "source": [
    "with open(\"./data/wizard_of_wikipedia/train.json\", \"r\") as read_file:\n",
    "    allData = json.load(read_file)\n",
    "    \n",
    "    "
   ]
  },
  {
   "cell_type": "code",
   "execution_count": 43,
   "metadata": {},
   "outputs": [],
   "source": [
    "jsonData = []\n",
    "for data in allData:\n",
    "\n",
    "    dialogs = data['dialog']\n",
    "    numDialogs = 2\n",
    "    \n",
    "    if 'Wizard' in dialogs[numDialogs - 1]['speaker']:\n",
    "            lastDialogIndex = numDialogs - 1\n",
    "\n",
    "    else:\n",
    "        continue\n",
    "\n",
    "    lastDialog = dialogs[lastDialogIndex]\n",
    "    \n",
    "    if('?' not in dialogs[lastDialogIndex - 1]['text']):\n",
    "        continue\n",
    "\n",
    "\n",
    "    jsonObj = {}\n",
    "    jsonObj['convesation'] = []\n",
    "    jsonObj['suggestions'] = []\n",
    "    jsonObj['actualResponse'] = lastDialog['text']\n",
    "\n",
    "    for i in range(lastDialogIndex):\n",
    "        jsonObj['convesation'].append(dialogs[i]['text'])\n",
    "\n",
    "    lastDialogResponses = lastDialog['retrieved_passages']\n",
    "    numPassages = min (len(lastDialogResponses), 3)\n",
    "\n",
    "    for i in range(numPassages):\n",
    "        sugg = lastDialogResponses[i]\n",
    "        for key,val in sugg.items():\n",
    "            suggLen = min(2, len(val))\n",
    "            for j in range(suggLen):\n",
    "                jsonObj['suggestions'].append(val[j])\n",
    "\n",
    "    jsonData.append(jsonObj)"
   ]
  },
  {
   "cell_type": "code",
   "execution_count": 44,
   "metadata": {},
   "outputs": [],
   "source": [
    "finalJSON = {}\n",
    "finalJSON['data'] = jsonData\n",
    "with open('../oneData.json', 'w') as outfile:\n",
    "    json.dump(finalJSON, outfile)"
   ]
  },
  {
   "cell_type": "code",
   "execution_count": 45,
   "metadata": {},
   "outputs": [
    {
     "data": {
      "text/plain": [
       "4104"
      ]
     },
     "execution_count": 45,
     "metadata": {},
     "output_type": "execute_result"
    }
   ],
   "source": [
    "len(jsonData)"
   ]
  },
  {
   "cell_type": "code",
   "execution_count": 19,
   "metadata": {},
   "outputs": [],
   "source": []
  },
  {
   "cell_type": "code",
   "execution_count": null,
   "metadata": {},
   "outputs": [],
   "source": []
  },
  {
   "cell_type": "code",
   "execution_count": null,
   "metadata": {},
   "outputs": [],
   "source": []
  }
 ],
 "metadata": {
  "kernelspec": {
   "display_name": "Python 3",
   "language": "python",
   "name": "python3"
  },
  "language_info": {
   "codemirror_mode": {
    "name": "ipython",
    "version": 3
   },
   "file_extension": ".py",
   "mimetype": "text/x-python",
   "name": "python",
   "nbconvert_exporter": "python",
   "pygments_lexer": "ipython3",
   "version": "3.7.3"
  }
 },
 "nbformat": 4,
 "nbformat_minor": 2
}
